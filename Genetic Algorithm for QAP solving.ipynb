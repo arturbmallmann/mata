{
 "cells": [
  {
   "cell_type": "markdown",
   "metadata": {},
   "source": [
    "<h1>Genetic Algorithm for QAP solving</h1>"
   ]
  },
  {
   "cell_type": "code",
   "execution_count": 38,
   "metadata": {},
   "outputs": [],
   "source": [
    "import numpy as np\n",
    "import math\n",
    "#pandas para base de dados\n",
    "import pandas"
   ]
  },
  {
   "cell_type": "code",
   "execution_count": 39,
   "metadata": {},
   "outputs": [
    {
     "name": "stdout",
     "output_type": "stream",
     "text": [
      "va:\n",
      "[1, 2, 3, 4, 5, 6, 7, 8, 9, 10]\n",
      "vb:\n",
      "[10, 9, 8, 7, 6, 5, 4, 3, 2, 1]\n"
     ]
    }
   ],
   "source": [
    "va = [x for x in range(1,11)]\n",
    "vb = [x for x in range(10,0,-1)]\n",
    "print(\"va:\\n{}\\nvb:\\n{}\".format(va,vb))"
   ]
  },
  {
   "cell_type": "markdown",
   "metadata": {},
   "source": [
    "<h1>Genetic Algorithm for QAP solving()</h1>"
   ]
  },
  {
   "cell_type": "code",
   "execution_count": 40,
   "metadata": {},
   "outputs": [],
   "source": [
    "from random import *\n",
    "cutpart = lambda x: (int((x+1) * np.random.normal(scale=0.2,loc=0.5)) )% x"
   ]
  },
  {
   "cell_type": "code",
   "execution_count": 41,
   "metadata": {},
   "outputs": [],
   "source": [
    "def crossover(va,vb):\n",
    "    cut = cutpart(len(va))\n",
    "    print(\"cut: {}\".format(cut))\n",
    "    new_va = va[:cut]+vb[cut:]\n",
    "    new_vb = vb[:cut]+va[cut:]\n",
    "    print(\"new va:\\n{}\\nnew vb:\\n{}\".format(new_va,new_vb))\n",
    "    #encontrar repetidos (x) e suas repectivas posicoes (i)\n",
    "    repeated_a = [(x,i) for x,i in zip(new_va,range(len(va))) if new_va.count(x) > 1]\n",
    "    repeated_b = [(x,i) for x,i in zip(new_vb,range(len(vb))) if new_vb.count(x) > 1]\n",
    "    rn = int(len(repeated_a)/2)\n",
    "    print(\"rn:{}\".format(rn))\n",
    "    for i in range(rn):\n",
    "        print(\"switch {} / {}\".format(i,rn))\n",
    "        new_va[repeated_a[i][1]] = repeated_b[i+ (0 if cut >5 else rn)][0]\t#se trocar sempre o primeiro \n",
    "        new_vb[repeated_b[i][1]] = repeated_a[i+ (0 if cut >5 else rn)][0]\t#repetido cortes acima de 5 tendem\n",
    "    print(\"repeated a: {}\".format(repeated_a[:int(len(repeated_a))]))\t\t#a repertir os valores dos pais\n",
    "    print(\"repeated b: {}\".format(repeated_b[:int(len(repeated_b))]))\n",
    "    return(new_va,new_vb)"
   ]
  },
  {
   "cell_type": "code",
   "execution_count": 42,
   "metadata": {
    "scrolled": true
   },
   "outputs": [
    {
     "name": "stdout",
     "output_type": "stream",
     "text": [
      "cut: 6\n",
      "new va:\n",
      "[1, 2, 3, 4, 5, 6, 4, 3, 2, 1]\n",
      "new vb:\n",
      "[10, 9, 8, 7, 6, 5, 7, 8, 9, 10]\n",
      "rn:4\n",
      "switch 0 / 4\n",
      "switch 1 / 4\n",
      "switch 2 / 4\n",
      "switch 3 / 4\n",
      "repeated a: [(1, 0), (2, 1), (3, 2), (4, 3), (4, 6), (3, 7), (2, 8), (1, 9)]\n",
      "repeated b: [(10, 0), (9, 1), (8, 2), (7, 3), (7, 6), (8, 7), (9, 8), (10, 9)]\n",
      "new va:\n",
      "[10, 9, 8, 7, 5, 6, 4, 3, 2, 1]\n",
      "new vb:\n",
      "[1, 2, 3, 4, 6, 5, 7, 8, 9, 10]\n"
     ]
    }
   ],
   "source": [
    "new_va,new_vb = crossover(va,vb)#[1,5,3,4,6,10,7,9,8,2])\n",
    "print(f\"new va:\\n{new_va}\\nnew vb:\\n{new_vb}\")"
   ]
  },
  {
   "cell_type": "code",
   "execution_count": 43,
   "metadata": {},
   "outputs": [],
   "source": [
    "def inverse(vec):\n",
    "    inf = int(random()*len(vec))\n",
    "    part = list(vec[inf:])\n",
    "    part.reverse()\n",
    "    return vec[:inf]+part"
   ]
  },
  {
   "cell_type": "code",
   "execution_count": 44,
   "metadata": {},
   "outputs": [],
   "source": [
    "def swap (vec):\n",
    "    n_vec = list(vec)\n",
    "    p1 = int(random()*len(vec))\n",
    "    p2 = int(random()*len(vec))\n",
    "    v1 = vec[p1]\n",
    "    v2 = vec[p2]\n",
    "    print(\"swap {} and {}\".format(v1,v2))\n",
    "    n_vec[p1] = v2\n",
    "    n_vec[p2] = v1\n",
    "    return n_vec"
   ]
  },
  {
   "cell_type": "code",
   "execution_count": 45,
   "metadata": {},
   "outputs": [],
   "source": [
    "def insertion(vec):\n",
    "    inf = int(random()*len(vec))\n",
    "    part = vec[inf:]\n",
    "    part = part[1:] + part[:1]\n",
    "    print(part)\n",
    "    return vec[:inf]+part"
   ]
  },
  {
   "cell_type": "code",
   "execution_count": 87,
   "metadata": {
    "scrolled": true
   },
   "outputs": [
    {
     "name": "stdout",
     "output_type": "stream",
     "text": [
      "Original:\n",
      "[1, 2, 3, 4, 5, 6, 7, 8, 9, 10]\n",
      "Inverse:\n",
      "[1, 2, 3, 4, 5, 6, 7, 8, 10, 9]\n",
      "Swap:\n",
      "swap 8 and 9\n",
      "[1, 2, 3, 4, 5, 6, 7, 9, 8, 10]\n",
      "Insertion\n",
      "[7, 8, 9, 10, 6]\n",
      "[1, 2, 3, 4, 5, 7, 8, 9, 10, 6]\n"
     ]
    }
   ],
   "source": [
    "def mutation(vec,p):#percentual\n",
    "    if random() > p:\n",
    "        return vec\n",
    "    typ = random()\n",
    "    if(typ < 1/3):\n",
    "        print(\"inverse\")\n",
    "        vec = inverse(vec)\n",
    "    elif(typ < 2/3):\n",
    "        print(\"swap\")\n",
    "        vec = swap(vec)\n",
    "    else:\n",
    "        print(\"insertion\")\n",
    "        vec = insertion(vec)\n",
    "    return vec\n",
    "    \n",
    "#mutation(va,0.7)\n",
    "print(\"Original:\")\n",
    "print(va)\n",
    "print(\"Inverse:\")\n",
    "print(inverse(va))\n",
    "print(\"Swap:\")\n",
    "print(swap(va))\n",
    "print(\"Insertion\")\n",
    "print(insertion(va))"
   ]
  },
  {
   "cell_type": "code",
   "execution_count": 88,
   "metadata": {
    "scrolled": true
   },
   "outputs": [
    {
     "name": "stderr",
     "output_type": "stream",
     "text": [
      "stderddr\n"
     ]
    }
   ],
   "source": [
    "%%capture --no-stderr\n",
    "# %%capture --no-stderr test\n",
    "mutation(va,0.7)\n",
    "import sys\n",
    "print('stderddr',file=sys.stderr)"
   ]
  },
  {
   "cell_type": "code",
   "execution_count": 89,
   "metadata": {},
   "outputs": [
    {
     "name": "stderr",
     "output_type": "stream",
     "text": [
      "stderddr\n"
     ]
    },
    {
     "name": "stdout",
     "output_type": "stream",
     "text": [
      "None\n"
     ]
    }
   ],
   "source": [
    "print (test())"
   ]
  },
  {
   "cell_type": "code",
   "execution_count": null,
   "metadata": {},
   "outputs": [],
   "source": []
  }
 ],
 "metadata": {
  "kernelspec": {
   "display_name": "Python 3",
   "language": "python",
   "name": "python3"
  },
  "language_info": {
   "codemirror_mode": {
    "name": "ipython",
    "version": 3
   },
   "file_extension": ".py",
   "mimetype": "text/x-python",
   "name": "python",
   "nbconvert_exporter": "python",
   "pygments_lexer": "ipython3",
   "version": "3.8.5"
  }
 },
 "nbformat": 4,
 "nbformat_minor": 4
}
