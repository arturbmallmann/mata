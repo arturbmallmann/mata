{
 "cells": [
  {
   "cell_type": "markdown",
   "metadata": {},
   "source": [
    "Imports que importam :) "
   ]
  },
  {
   "cell_type": "code",
   "execution_count": 1,
   "metadata": {},
   "outputs": [],
   "source": [
    "import numpy as np\n",
    "import math\n",
    "\n",
    "import pandas"
   ]
  },
  {
   "cell_type": "code",
   "execution_count": 2,
   "metadata": {},
   "outputs": [],
   "source": [
    "#tirar dependencias das libs:\n",
    "rand = lambda :np.random.rand()\n",
    "cutpart = lambda x: (int((x+1) * np.random.normal(scale=0.2,loc=0.5)) )% x"
   ]
  },
  {
   "cell_type": "code",
   "execution_count": 3,
   "metadata": {},
   "outputs": [
    {
     "name": "stdout",
     "output_type": "stream",
     "text": [
      "va:\n",
      "[1, 2, 3, 4, 5, 6, 7, 8, 9, 10]\n",
      "vb:\n",
      "[10, 9, 8, 7, 6, 5, 4, 3, 2, 1]\n"
     ]
    }
   ],
   "source": [
    "va = [x for x in range(1,11)]\n",
    "vb = [x for x in range(10,0,-1)]\n",
    "print(\"va:\\n{}\\nvb:\\n{}\".format(va,vb))"
   ]
  },
  {
   "cell_type": "markdown",
   "metadata": {},
   "source": [
    "<h1>Genetic Algorithm for QAP solving()</h1>"
   ]
  },
  {
   "cell_type": "code",
   "execution_count": 4,
   "metadata": {},
   "outputs": [],
   "source": [
    "def crossover(va,vb):\n",
    "    cut = cutpart(len(va))\n",
    "    print(\"cut: {}\".format(cut))\n",
    "    new_va = va[:cut]+vb[cut:]\n",
    "    new_vb = vb[:cut]+va[cut:]\n",
    "    print(\"new va:\\n{}\\nnew vb:\\n{}\".format(new_va,new_vb))\n",
    "    #encontrar repetidos (x) e suas repectivas posicoes (i)\n",
    "    repeated_a = [(x,i) for x,i in zip(new_va,range(len(va))) if new_va.count(x) > 1]\n",
    "    repeated_b = [(x,i) for x,i in zip(new_vb,range(len(vb))) if new_vb.count(x) > 1]\n",
    "    rn = int(len(repeated_a)/2)\n",
    "    print(\"rn:{}\".format(rn))\n",
    "    for i in range(rn):\n",
    "        print(\"switch {} / {}\".format(i,rn))\n",
    "        new_va[repeated_a[i][1]] = repeated_b[i+ (0 if cut >5 else rn)][0]\t#se trocar sempre o primeiro \n",
    "        new_vb[repeated_b[i][1]] = repeated_a[i+ (0 if cut >5 else rn)][0]\t#repetido cortes acima de 5 tendem\n",
    "    print(\"repeated a: {}\".format(repeated_a[:int(len(repeated_a))]))\t\t#a repertir os valores dos pais\n",
    "    print(\"repeated b: {}\".format(repeated_b[:int(len(repeated_b))]))\n",
    "    return(new_va,new_vb)"
   ]
  },
  {
   "cell_type": "code",
   "execution_count": 5,
   "metadata": {},
   "outputs": [
    {
     "name": "stdout",
     "output_type": "stream",
     "text": [
      "cut: 6\n",
      "new va:\n",
      "[1, 2, 3, 4, 5, 6, 4, 3, 2, 1]\n",
      "new vb:\n",
      "[10, 9, 8, 7, 6, 5, 7, 8, 9, 10]\n",
      "rn:4\n",
      "switch 0 / 4\n",
      "switch 1 / 4\n",
      "switch 2 / 4\n",
      "switch 3 / 4\n",
      "repeated a: [(1, 0), (2, 1), (3, 2), (4, 3), (4, 6), (3, 7), (2, 8), (1, 9)]\n",
      "repeated b: [(10, 0), (9, 1), (8, 2), (7, 3), (7, 6), (8, 7), (9, 8), (10, 9)]\n",
      "new va:\n",
      "[10, 9, 8, 7, 5, 6, 4, 3, 2, 1]\n",
      "new vb:\n",
      "[1, 2, 3, 4, 6, 5, 7, 8, 9, 10]\n"
     ]
    }
   ],
   "source": [
    "new_va,new_vb = crossover(va,vb)#[1,5,3,4,6,10,7,9,8,2])\n",
    "print(\"new va:\\n{}\\nnew vb:\\n{}\".format(new_va,new_vb))"
   ]
  },
  {
   "cell_type": "code",
   "execution_count": 6,
   "metadata": {},
   "outputs": [],
   "source": [
    "def inverse(vec):\n",
    "    inf = int(rand()*len(vec))\n",
    "    part = list(vec[inf:])\n",
    "    part.reverse()\n",
    "    return vec[:inf]+part"
   ]
  },
  {
   "cell_type": "code",
   "execution_count": 7,
   "metadata": {},
   "outputs": [],
   "source": [
    "def swap (vec):\n",
    "    n_vec = list(vec)\n",
    "    p1 = int(rand()*len(vec))\n",
    "    p2 = int(rand()*len(vec))\n",
    "    v1 = vec[p1]\n",
    "    v2 = vec[p2]\n",
    "    print(\"swap {} and {}\".format(v1,v2))\n",
    "    n_vec[p1] = v2\n",
    "    n_vec[p2] = v1\n",
    "    return n_vec"
   ]
  },
  {
   "cell_type": "code",
   "execution_count": 8,
   "metadata": {},
   "outputs": [],
   "source": [
    "def insertion(vec):\n",
    "    inf = int(rand()*len(vec))\n",
    "    part = vec[inf:]\n",
    "    part = part[1:] + part[:1]\n",
    "    print(part)\n",
    "    return vec[:inf]+part"
   ]
  },
  {
   "cell_type": "code",
   "execution_count": 9,
   "metadata": {},
   "outputs": [
    {
     "name": "stdout",
     "output_type": "stream",
     "text": [
      "Original:\n",
      "[1, 2, 3, 4, 5, 6, 7, 8, 9, 10]\n",
      "Inverse:\n",
      "[1, 2, 3, 4, 5, 10, 9, 8, 7, 6]\n",
      "Swap:\n",
      "swap 6 and 1\n",
      "[6, 2, 3, 4, 5, 1, 7, 8, 9, 10]\n",
      "Insertion\n",
      "[6, 7, 8, 9, 10, 5]\n",
      "[1, 2, 3, 4, 6, 7, 8, 9, 10, 5]\n"
     ]
    }
   ],
   "source": [
    "def mutation(vec,p):#percentual\n",
    "    if rand() > p:\n",
    "        return vec\n",
    "    typ = rand()\n",
    "    if(typ < 1/3):\n",
    "        print(\"inverse\")\n",
    "        vec = inverse(vec)\n",
    "    elif(typ < 2/3):\n",
    "        print(\"swap\")\n",
    "        vec = swap(vec)\n",
    "    else:\n",
    "        print(\"insertion\")\n",
    "        vec = insertion(vec)\n",
    "    return vec\n",
    "    \n",
    "#mutation(va,0.7)\n",
    "print(\"Original:\")\n",
    "print(va)\n",
    "print(\"Inverse:\")\n",
    "print(inverse(va))\n",
    "print(\"Swap:\")\n",
    "print(swap(va))\n",
    "print(\"Insertion\")\n",
    "print(insertion(va))"
   ]
  },
  {
   "cell_type": "code",
   "execution_count": 10,
   "metadata": {},
   "outputs": [
    {
     "name": "stdout",
     "output_type": "stream",
     "text": [
      "insertion\n",
      "[10, 9]\n"
     ]
    },
    {
     "data": {
      "text/plain": [
       "[1, 2, 3, 4, 5, 6, 7, 8, 10, 9]"
      ]
     },
     "execution_count": 10,
     "metadata": {},
     "output_type": "execute_result"
    }
   ],
   "source": [
    "mutation(va,0.7)"
   ]
  },
  {
   "cell_type": "markdown",
   "metadata": {},
   "source": [
    "<h1>Calculo de Coorelação:</h1>"
   ]
  },
  {
   "cell_type": "code",
   "execution_count": 11,
   "metadata": {},
   "outputs": [],
   "source": [
    "def corr(x,y,p=False):\n",
    "    # n\n",
    "    n = len(x)\n",
    "#Somatórios:\n",
    "    #superiores\n",
    "    xysum = np.dot(x,y) #soma dos x*y\n",
    "    xsum = sum(x)\n",
    "    ysum = sum(y)\n",
    "    #inferiores\n",
    "    #soma dos quadrados\n",
    "    x2sum = np.dot(x,x) #multiplica entrada a entrada dos vetores x e ele mesmo e soma\n",
    "    y2sum = sum([v*v for v in y]) #forma na unha de fazer o mesmo\n",
    "    #quadrado das somas:\n",
    "    xsum2 = xsum**2\n",
    "    ysum2 = ysum**2\n",
    "    #parte superior:\n",
    "    sup = (xysum - xsum*ysum/n)\n",
    "    #parte inferior:\n",
    "    infe = math.sqrt ( (x2sum - xsum2/n) * (y2sum - ysum2/n) )\n",
    "    corresult = sup/infe\n",
    "    if(p):\n",
    "        print(\"Taxa de correlação entre X e Y é:\")\n",
    "        print(\"{}\\n\".format(sup)+len(str(sup))*\"-\"+\" =  {}\".format(corresult)+\"\\n{}\".format(infe))\n",
    "    return corresult"
   ]
  },
  {
   "cell_type": "markdown",
   "metadata": {},
   "source": [
    "<h2>Teste Da Correlação</h2>"
   ]
  },
  {
   "cell_type": "code",
   "execution_count": 12,
   "metadata": {},
   "outputs": [
    {
     "name": "stdout",
     "output_type": "stream",
     "text": [
      "Taxa de correlação entre X e Y é:\n",
      "-0.5499999999999998\n",
      "------------------- =  -0.9710083124552239\n",
      "0.5664215155988811\n"
     ]
    },
    {
     "data": {
      "text/plain": [
       "-0.9710083124552239"
      ]
     },
     "execution_count": 12,
     "metadata": {},
     "output_type": "execute_result"
    }
   ],
   "source": [
    "gerax = lambda base,n,dif: [base + x*dif for x in range(n)] # modo preguiçoso de gerar n números espaçados em 0.5\n",
    "#Carregar valores(teste):\n",
    "x = gerax(2.5, 6,0.5)\n",
    "y = [0.4,0.4,0.3,0.2,0.2,0.1]\n",
    "corr(x,y,True)"
   ]
  },
  {
   "cell_type": "code",
   "execution_count": 13,
   "metadata": {},
   "outputs": [
    {
     "name": "stdout",
     "output_type": "stream",
     "text": [
      "nodes_links/canarie_links.csv lido\n",
      "nodes_links/italy_nodes.csv lido\n",
      "nodes_links/vbns_nodes.csv lido\n",
      "nodes_links/loni_links.csv lido\n",
      "nodes_links/germany_links.csv lido\n",
      "nodes_links/geant2_links.csv lido\n",
      "nodes_links/germany_nodes.csv lido\n",
      "nodes_links/arpanet_links.csv lido\n",
      "nodes_links/cesnet_links.csv lido\n",
      "nodes_links/newnet_nodes.csv lido\n",
      "nodes_links/rnpBrazil_nodes.csv lido\n",
      "nodes_links/pionier_nodes.csv lido\n",
      "nodes_links/loni_nodes.csv lido\n",
      "nodes_links/spain_links.csv lido\n",
      "nodes_links/renater_nodes.csv lido\n",
      "nodes_links/lambdaRailUsa_nodes.csv lido\n",
      "nodes_links/metrona_UK_nodes.csv lido\n",
      "nodes_links/rnpBrazil_links.csv lido\n",
      "nodes_links/arnes_links.csv lido\n",
      "nodes_links/spain_nodes.csv lido\n",
      "nodes_links/bren_nodes.csv lido\n",
      "nodes_links/portugal_links.csv lido\n",
      "nodes_links/arpanet_nodes.csv lido\n",
      "nodes_links/usaGde_nodes.csv lido\n",
      "nodes_links/sanet_links.csv lido\n",
      "nodes_links/nsfnet_nodes.csv lido\n",
      "nodes_links/pionier_links.csv lido\n",
      "nodes_links/austria_links.csv lido\n",
      "nodes_links/nsfnet_links.csv lido\n",
      "nodes_links/viaDatacenterNet_links.csv lido\n",
      "nodes_links/lambdaRailUsa_links.csv lido\n",
      "nodes_links/coxUsa_nodes.csv lido\n",
      "nodes_links/mzima_links.csv lido\n",
      "nodes_links/scteste_nodes.csv lido\n",
      "nodes_links/eon_links.csv lido\n",
      "nodes_links/mzima_nodes.csv lido\n",
      "nodes_links/eon_nodes.csv lido\n",
      "nodes_links/canarie_nodes.csv lido\n",
      "nodes_links/memorexEurope_nodes.csv lido\n",
      "nodes_links/deutschTelecom_nodes.csv lido\n",
      "nodes_links/memorexEurope_links.csv lido\n",
      "nodes_links/cesnet_nodes.csv lido\n",
      "nodes_links/internet2Usa_links.csv lido\n",
      "nodes_links/newnet_links.csv lido\n",
      "nodes_links/coxUsa_links.csv lido\n",
      "nodes_links/italy_links.csv lido\n",
      "nodes_links/usaGde_links.csv lido\n",
      "nodes_links/vbns_links.csv lido\n",
      "nodes_links/metrona_UK_links.csv lido\n",
      "nodes_links/OmnicomEurope_links.csv lido\n",
      "nodes_links/geant2_nodes.csv lido\n",
      "nodes_links/OmnicomEurope_nodes.csv lido\n",
      "nodes_links/internet2Usa_nodes.csv lido\n",
      "nodes_links/deutschTelecom_links.csv lido\n",
      "nodes_links/austria_nodes.csv lido\n",
      "nodes_links/portugal_nodes.csv lido\n",
      "nodes_links/arnes_nodes.csv lido\n",
      "nodes_links/renater_links.csv lido\n",
      "nodes_links/scteste_links.csv lido\n",
      "nodes_links/bren_links.csv lido\n",
      "nodes_links/viaDatacenterNet_nodes.csv lido\n",
      "nodes_links/sanet_nodes.csv lido\n"
     ]
    }
   ],
   "source": [
    "#!/usr/bin/python\n",
    "\n",
    "from pathlib import Path\n",
    "\n",
    "directory = './nodes_links/'\n",
    "allnodes = dict()\n",
    "alllinks = dict()\n",
    "names = list()\n",
    "for path in Path(directory).iterdir():\n",
    "    url = str(path)\n",
    "    netname = path.name.split('_')[0]\n",
    "    if(path.name.count('nodes')==1):\n",
    "        p = allnodes\n",
    "    else:\n",
    "        p = alllinks\n",
    "    try:\n",
    "        item = pandas.read_csv(url)\n",
    "        p.update( {netname : item })\n",
    "        print(url+\" lido\")\n",
    "    except:\n",
    "        try:\n",
    "            #mudar o encoding para os caracteres\n",
    "            item = pandas.read_csv(url,encoding=\"iso-8859-1\")\n",
    "            p.update( {netname : item })\n",
    "            print(url+\" lido\")\n",
    "        except:\n",
    "            print(\"!!! não foi possivel ler > \"+name+\" < !!!\")\n",
    "            pass\n",
    "    if names.count(netname) == 0:\n",
    "        names.append(netname) \n"
   ]
  },
  {
   "cell_type": "code",
   "execution_count": 14,
   "metadata": {},
   "outputs": [
    {
     "name": "stdout",
     "output_type": "stream",
     "text": [
      "['canarie', 'italy', 'vbns', 'loni', 'germany', 'geant2', 'arpanet', 'cesnet', 'newnet', 'rnpBrazil', 'pionier', 'spain', 'renater', 'lambdaRailUsa', 'metrona', 'arnes', 'bren', 'portugal', 'usaGde', 'sanet', 'nsfnet', 'austria', 'viaDatacenterNet', 'coxUsa', 'mzima', 'scteste', 'eon', 'memorexEurope', 'deutschTelecom', 'internet2Usa', 'OmnicomEurope']\n"
     ]
    }
   ],
   "source": [
    "print(names)\n",
    "netlinks = alllinks['portugal']\n",
    "netnodes = allnodes['portugal']"
   ]
  },
  {
   "cell_type": "code",
   "execution_count": 15,
   "metadata": {},
   "outputs": [
    {
     "name": "stdout",
     "output_type": "stream",
     "text": [
      "nodes: ['Alcácer_do_Sal', 'Aveiro', 'Beja', 'Braga', 'Bragança', 'Caldas_Rainha', 'Castelo_Branco', 'Coimbra', 'Elvas', 'Évora', 'Faro', 'Funchal', 'Guarda', 'Leiria', 'Lisboa', 'Ponta_Delgada', 'Portalegre', 'Portimão', 'Porto', 'Santarém', 'S_João_Madeira', 'Setúbal', 'Sines', 'Viana_do_Castelo', 'Vila_Real', 'Viseu']\n",
      "links:                 From              To  Length  Capacity    Cost\n",
      "0             Lisboa   Ponta_Delgada    1500         1  975000\n",
      "1             Lisboa         Funchal    1050         1  682500\n",
      "2      Ponta_Delgada         Funchal    1050         1  682500\n",
      "3           Portimão         Funchal    1010         1  656500\n",
      "4              Braga        Bragança     209         1  135850\n",
      "5           Santarém      Portalegre     144         1   93600\n",
      "6               Beja            Faro     140         1   91000\n",
      "7           Portimão           Sines     139         1   90350\n",
      "8           Santarém         Coimbra     136         1   88400\n",
      "9           Bragança       Vila_Real     118         1   76700\n",
      "10            Aveiro          Leiria     113         1   73450\n",
      "11         Vila_Real           Viseu      97         1   63050\n",
      "12            Guarda  Castelo_Branco      94         1   61100\n",
      "13            Lisboa   Caldas_Rainha      88         1   57200\n",
      "14             Braga  S_João_Madeira      85         1   55250\n",
      "15    S_João_Madeira         Coimbra      84         1   54600\n",
      "16             Viseu         Coimbra      84         1   54600\n",
      "17             Elvas           Évora      83         1   53950\n",
      "18        Portalegre  Castelo_Branco      80         1   52000\n",
      "19          Santarém          Lisboa      76         1   49400\n",
      "20              Beja           Évora      76         1   49400\n",
      "21             Viseu          Guarda      73         1   47450\n",
      "22  Viana_do_Castelo           Porto      70         1   45500\n",
      "23            Leiria        Santarém      70         1   45500\n",
      "24    Alcácer_do_Sal           Évora      68         1   44200\n",
      "25             Porto          Aveiro      67         1   43550\n",
      "26    Alcácer_do_Sal           Sines      65         1   42250\n",
      "27          Portimão            Faro      62         1   40300\n",
      "28           Coimbra          Aveiro      58         1   37700\n",
      "29             Elvas      Portalegre      56         1   36400\n",
      "30            Leiria   Caldas_Rainha      54         1   35100\n",
      "31             Braga           Porto      53         1   34450\n",
      "32    Alcácer_do_Sal         Setúbal      50         1   32500\n",
      "33  Viana_do_Castelo           Braga      47         1   30550\n",
      "34            Lisboa         Setúbal      44         1   28600\n",
      "35             Porto  S_João_Madeira      32         1   20800\n"
     ]
    }
   ],
   "source": [
    "#u = pandas.read_csv(\"./nodes_links/renater_links.csv\")\n",
    "a = netnodes['Id'].values.tolist()\n",
    "print(\"nodes: {}\".format(a))\n",
    "print(\"links: {}\".format(netlinks))"
   ]
  },
  {
   "cell_type": "code",
   "execution_count": 16,
   "metadata": {},
   "outputs": [
    {
     "name": "stdout",
     "output_type": "stream",
     "text": [
      "['Alcácer_do_Sal', 'Aveiro', 'Beja', 'Braga', 'Bragança', 'Caldas_Rainha', 'Castelo_Branco', 'Coimbra', 'Elvas', 'Évora', 'Faro', 'Funchal', 'Guarda', 'Leiria', 'Lisboa', 'Ponta_Delgada', 'Portalegre', 'Portimão', 'Porto', 'Santarém', 'S_João_Madeira', 'Setúbal', 'Sines', 'Viana_do_Castelo', 'Vila_Real', 'Viseu']\n",
      "[[0 0 0 0 0 0 0 0 0 1 0 0 0 0 0 0 0 0 0 0 0 1 1 0 0 0]\n",
      " [0 0 0 0 0 0 0 1 0 0 0 0 0 1 0 0 0 0 1 0 0 0 0 0 0 0]\n",
      " [0 0 0 0 0 0 0 0 0 1 1 0 0 0 0 0 0 0 0 0 0 0 0 0 0 0]\n",
      " [0 0 0 0 1 0 0 0 0 0 0 0 0 0 0 0 0 0 1 0 1 0 0 1 0 0]\n",
      " [0 0 0 1 0 0 0 0 0 0 0 0 0 0 0 0 0 0 0 0 0 0 0 0 1 0]\n",
      " [0 0 0 0 0 0 0 0 0 0 0 0 0 1 1 0 0 0 0 0 0 0 0 0 0 0]\n",
      " [0 0 0 0 0 0 0 0 0 0 0 0 1 0 0 0 1 0 0 0 0 0 0 0 0 0]\n",
      " [0 1 0 0 0 0 0 0 0 0 0 0 0 0 0 0 0 0 0 1 1 0 0 0 0 1]\n",
      " [0 0 0 0 0 0 0 0 0 1 0 0 0 0 0 0 1 0 0 0 0 0 0 0 0 0]\n",
      " [1 0 1 0 0 0 0 0 1 0 0 0 0 0 0 0 0 0 0 0 0 0 0 0 0 0]\n",
      " [0 0 1 0 0 0 0 0 0 0 0 0 0 0 0 0 0 1 0 0 0 0 0 0 0 0]\n",
      " [0 0 0 0 0 0 0 0 0 0 0 0 0 0 1 1 0 1 0 0 0 0 0 0 0 0]\n",
      " [0 0 0 0 0 0 1 0 0 0 0 0 0 0 0 0 0 0 0 0 0 0 0 0 0 1]\n",
      " [0 1 0 0 0 1 0 0 0 0 0 0 0 0 0 0 0 0 0 1 0 0 0 0 0 0]\n",
      " [0 0 0 0 0 1 0 0 0 0 0 1 0 0 0 1 0 0 0 1 0 1 0 0 0 0]\n",
      " [0 0 0 0 0 0 0 0 0 0 0 1 0 0 1 0 0 0 0 0 0 0 0 0 0 0]\n",
      " [0 0 0 0 0 0 1 0 1 0 0 0 0 0 0 0 0 0 0 1 0 0 0 0 0 0]\n",
      " [0 0 0 0 0 0 0 0 0 0 1 1 0 0 0 0 0 0 0 0 0 0 1 0 0 0]\n",
      " [0 1 0 1 0 0 0 0 0 0 0 0 0 0 0 0 0 0 0 0 1 0 0 1 0 0]\n",
      " [0 0 0 0 0 0 0 1 0 0 0 0 0 1 1 0 1 0 0 0 0 0 0 0 0 0]\n",
      " [0 0 0 1 0 0 0 1 0 0 0 0 0 0 0 0 0 0 1 0 0 0 0 0 0 0]\n",
      " [1 0 0 0 0 0 0 0 0 0 0 0 0 0 1 0 0 0 0 0 0 0 0 0 0 0]\n",
      " [1 0 0 0 0 0 0 0 0 0 0 0 0 0 0 0 0 1 0 0 0 0 0 0 0 0]\n",
      " [0 0 0 1 0 0 0 0 0 0 0 0 0 0 0 0 0 0 1 0 0 0 0 0 0 0]\n",
      " [0 0 0 0 1 0 0 0 0 0 0 0 0 0 0 0 0 0 0 0 0 0 0 0 0 1]\n",
      " [0 0 0 0 0 0 0 1 0 0 0 0 1 0 0 0 0 0 0 0 0 0 0 0 1 0]]\n"
     ]
    }
   ],
   "source": [
    "netlinks.loc[:, ['From','To']]\n",
    "#import networkx as nx\n",
    "#g = nx.DiGraph()\n",
    "#nodes = [key for key in u.groupby(\"From\").indices]\n",
    "nodes = netnodes['Id'].values.tolist()\n",
    "print(nodes)\n",
    "\n",
    "matrix = np.matrix(np.zeros( (len(nodes),len(nodes)),dtype=np.int ) )\n",
    "for n in nodes:\n",
    "    l = netlinks.loc[netlinks['From']==n,['To']].values\n",
    "    indexes = [nodes.index(x) for x in l]\n",
    "    if(len(indexes) > 0):\n",
    "        matrix[nodes.index(n),indexes] = 1\n",
    "        matrix[indexes,nodes.index(n)] = 1 #bidirecional\n",
    "print(matrix)\n",
    "#l = u.loc[u['From']==\"Boston\",['To']]\n",
    "#print(l.values)\n",
    "#print(nodes.index(\"NewYork\"))\n",
    "#nodes.index(\"Boston\")\n",
    "#g.add_nodes_from(nodes)\n",
    "\n",
    "#[(x,y) for x in ]"
   ]
  },
  {
   "cell_type": "code",
   "execution_count": 51,
   "metadata": {},
   "outputs": [],
   "source": [
    "def calc_grau(matrix):\n",
    "    soma=0\n",
    "    print(len(matrix))\n",
    "    for l in range(len(matrix)-1):\n",
    "        for c in range(len(matrix)-1):\n",
    "            soma += matrix[l,c]\n",
    "    return soma/len(matrix)"
   ]
  },
  {
   "cell_type": "code",
   "execution_count": 54,
   "metadata": {},
   "outputs": [
    {
     "name": "stdout",
     "output_type": "stream",
     "text": [
      "26\n",
      "grau médio: 2.5384615384615383\n"
     ]
    }
   ],
   "source": [
    "print(\"grau médio: {}\".format(calc_grau(matrix)))"
   ]
  },
  {
   "cell_type": "code",
   "execution_count": null,
   "metadata": {},
   "outputs": [],
   "source": [
    "def aumentar_grau():\n",
    "    pass"
   ]
  },
  {
   "cell_type": "code",
   "execution_count": null,
   "metadata": {},
   "outputs": [],
   "source": []
  }
 ],
 "metadata": {
  "kernelspec": {
   "display_name": "Python 3",
   "language": "python",
   "name": "python3"
  },
  "language_info": {
   "codemirror_mode": {
    "name": "ipython",
    "version": 3
   },
   "file_extension": ".py",
   "mimetype": "text/x-python",
   "name": "python",
   "nbconvert_exporter": "python",
   "pygments_lexer": "ipython3",
   "version": "3.8.5"
  }
 },
 "nbformat": 4,
 "nbformat_minor": 4
}
