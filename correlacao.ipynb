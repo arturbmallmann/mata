{
 "cells": [
  {
   "cell_type": "markdown",
   "metadata": {},
   "source": [
    "<h1>Correlação Entre Variáveis no Roteamento e atribuição de espectro</h1>\n",
    "<p style='font-size: 20px' >Alunos: André Luiz Maso, Artur Bernardo Mallmann, Maikon Douglas Pereira e Tatiane Barbosa</p>\n",
    "    \n",
    "<p>&emsp;&emsp;Neste Trabalho vamos explorar qual é a correlação entre Taxa de Bloqueio (Tb = B/D), onde B é o número de bloqueios ocorridos durante o RSA (Roteamento e atribuição de espectro) e D é o número total de demandas (soma da triangular superior da matriz de demandas), e o Índice de Wiener da topologia (Soma do comprimento dos enlaces dos caminhos mais curtos)</p>"
   ]
  },
  {
   "cell_type": "code",
   "execution_count": 1,
   "metadata": {},
   "outputs": [],
   "source": [
    "import numpy as np\n",
    "import math\n",
    "from random import *\n",
    "#pandas para base de dados\n",
    "import pandas"
   ]
  },
  {
   "cell_type": "markdown",
   "metadata": {},
   "source": [
    "<h1>Calculo de Coorelação:</h1>"
   ]
  },
  {
   "cell_type": "code",
   "execution_count": 58,
   "metadata": {},
   "outputs": [],
   "source": [
    "def corr(x,y,p=False):\n",
    "    # n\n",
    "    n = len(x)\n",
    "#Somatórios:\n",
    "    #superiores\n",
    "    xysum = np.dot(x,y) #soma dos x*y\n",
    "    xsum = sum(x)\n",
    "    ysum = sum(y)\n",
    "    #inferiores\n",
    "    #soma dos quadrados\n",
    "    x2sum = np.dot(x,x) #multiplica entrada a entrada dos vetores x e ele mesmo e soma\n",
    "    y2sum = sum([v*v for v in y]) #forma na unha de fazer o mesmo\n",
    "    #quadrado das somas:\n",
    "    xsum2 = xsum**2\n",
    "    ysum2 = ysum**2\n",
    "#formula\n",
    "    #parte superior:\n",
    "    sup = (xysum - xsum*ysum/n)\n",
    "    #parte inferior:\n",
    "    infe = math.sqrt ( (x2sum - xsum2/n) * (y2sum - ysum2/n) )\n",
    "    corresult = sup/infe\n",
    "    if(p):\n",
    "        print(\"Taxa de correlação entre [x] e [y] é:\")\n",
    "        print(\"{}\\n\".format(sup)+len(str(sup))*\"-\"+\" =  {}\".format(corresult)+\"\\n{}\".format(infe))\n",
    "    return corresult"
   ]
  },
  {
   "cell_type": "markdown",
   "metadata": {},
   "source": [
    "<h2>Teste Da Correlação</h2>\n",
    "<p>Para calcular a correlação entre os valores de duas variáveis basta entrar com dois vetores com os valores a serem comparados:\n",
    "corr(vec1,vec2)</p>"
   ]
  },
  {
   "cell_type": "code",
   "execution_count": 3,
   "metadata": {},
   "outputs": [
    {
     "name": "stdout",
     "output_type": "stream",
     "text": [
      "Taxa de correlação entre [x] e [y] é:\n",
      "-0.5499999999999998\n",
      "------------------- =  -0.9710083124552239\n",
      "0.5664215155988811\n"
     ]
    },
    {
     "data": {
      "text/plain": [
       "-0.9710083124552239"
      ]
     },
     "execution_count": 3,
     "metadata": {},
     "output_type": "execute_result"
    }
   ],
   "source": [
    "gerax = lambda base,n,dif: [base + x*dif for x in range(n)] # modo preguiçoso de gerar n números espaçados em 0.5\n",
    "#Carregar valores(teste):\n",
    "x = gerax(2.5, 6,0.5)\n",
    "y = [0.4,0.4,0.3,0.2,0.2,0.1]\n",
    "corr(x,y,True)"
   ]
  },
  {
   "cell_type": "markdown",
   "metadata": {},
   "source": [
    "<h1>Carregamento de Dados</h1>\n",
    "<p>Nesta sessão do código é feita a leitura dos arquivos .csv</p>"
   ]
  },
  {
   "cell_type": "code",
   "execution_count": 4,
   "metadata": {},
   "outputs": [],
   "source": [
    "#!/usr/bin/python\n",
    "\n",
    "from pathlib import Path\n",
    "\n",
    "directory = './nodes_links/'\n",
    "allnodes = dict()\n",
    "alllinks = dict()\n",
    "names = list()\n",
    "for path in Path(directory).iterdir():\n",
    "    url = str(path)\n",
    "    netname = path.name.split('_')[0]\n",
    "    if(path.name.count('nodes')==1):\n",
    "        p = allnodes\n",
    "    else:\n",
    "        p = alllinks\n",
    "    try:\n",
    "        item = pandas.read_csv(url)\n",
    "        p.update( {netname : item })\n",
    "    #    print(url+\" lido\")\n",
    "    except:\n",
    "        try:\n",
    "            #mudar o encoding para os caracteres\n",
    "            item = pandas.read_csv(url,encoding=\"iso-8859-1\")\n",
    "            p.update( {netname : item })\n",
    "        #    print(url+\" lido\")\n",
    "        except:\n",
    "            print(\"!!! não foi possivel ler > \"+name+\" < !!!\")\n",
    "            pass\n",
    "    if names.count(netname) == 0:\n",
    "        names.append(netname) \n"
   ]
  },
  {
   "cell_type": "markdown",
   "metadata": {},
   "source": [
    "<p>Todos os links e nós ficam guardados nos dicts alllinks e allnodes, e para serem lidos basta passar o prefixo dos arquivos originais entre colchetes. Estes prefixos são os nomes das nossas redes e ficam salvos no vetor names.</p>"
   ]
  },
  {
   "cell_type": "code",
   "execution_count": 5,
   "metadata": {},
   "outputs": [
    {
     "name": "stdout",
     "output_type": "stream",
     "text": [
      "['canarie', 'italy', 'vbns', 'loni', 'germany', 'geant2', 'arpanet', 'cesnet', 'newnet', 'rnpBrazil', 'pionier', 'spain', 'renater', 'lambdaRailUsa', 'metrona', 'arnes', 'bren', 'portugal', 'usaGde', 'sanet', 'nsfnet', 'austria', 'viaDatacenterNet', 'coxUsa', 'mzima', 'scteste', 'eon', 'memorexEurope', 'deutschTelecom', 'internet2Usa', 'OmnicomEurope']\n"
     ]
    }
   ],
   "source": [
    "print(names)"
   ]
  },
  {
   "cell_type": "markdown",
   "metadata": {},
   "source": [
    "<p>Abaixo temos o exemplo do carregamento da rede cesnet:</p>"
   ]
  },
  {
   "cell_type": "code",
   "execution_count": 6,
   "metadata": {},
   "outputs": [],
   "source": [
    "netlinks = alllinks['cesnet']\n",
    "netnodes = allnodes['cesnet']"
   ]
  },
  {
   "cell_type": "markdown",
   "metadata": {},
   "source": [
    "<p>Nos arquivos de nós temos no campo Id todos os nomes dos nós da rede, e nos links a origem e destino dos enlaces, como podemos ver abaixo:</p>"
   ]
  },
  {
   "cell_type": "code",
   "execution_count": 7,
   "metadata": {},
   "outputs": [
    {
     "name": "stdout",
     "output_type": "stream",
     "text": [
      "nodes:\n",
      "['Praga', 'Usti', 'Liberec', 'Hradec', 'Olomouc', 'Ostrava', 'Zlin', 'Brno', 'Jihlava', 'Budweiss', 'Pilsen', 'Pardubice']\n",
      "links:\n",
      "         From         To      Length  Capacity  Cost\n",
      "0       Praga       Usti   44.320945        50     1\n",
      "1        Usti    Liberec   57.122562        50     1\n",
      "2     Liberec      Praga   57.111162        50     1\n",
      "3       Praga     Pilsen  114.930257        50     1\n",
      "4      Pilsen   Budweiss  123.277291        50     1\n",
      "5    Budweiss      Praga  169.402099        50     1\n",
      "6       Praga  Pardubice   72.350748        50     1\n",
      "7   Pardubice     Hradec   69.868247        50     1\n",
      "8      Hradec      Praga   91.221450        50     1\n",
      "9      Hradec    Liberec   64.755029        50     1\n",
      "10   Budweiss    Jihlava  106.688652        50     1\n",
      "11    Jihlava       Brno   74.878684        50     1\n",
      "12       Brno   Budweiss  163.463112        50     1\n",
      "13    Olomouc     Hradec  136.245096        50     1\n",
      "14    Olomouc       Zlin   30.591459        50     1\n",
      "15       Zlin       Brno   75.546151        50     1\n",
      "16       Brno    Olomouc   63.167676        50     1\n",
      "17       Brno    Ostrava  138.226062        50     1\n",
      "18    Ostrava    Olomouc   75.810650        50     1\n"
     ]
    }
   ],
   "source": [
    "#u = pandas.read_csv(\"./nodes_links/renater_links.csv\")\n",
    "a = netnodes['Id'].values.tolist()\n",
    "print(\"nodes:\\n{}\".format(a))\n",
    "print(\"links:\\n{}\".format(netlinks))"
   ]
  },
  {
   "cell_type": "markdown",
   "metadata": {},
   "source": [
    "<h2>Gerando as matrizes de Adjacência</h2>\n",
    "<p>Para montar as matrizes de adjacência consideramos a identificação numérica dos nós conforme a posição de cada um no vetor dos nós. Depois, com a ajuda da comparação de atributos da biblioteca pandas verificamos todas as origens e quais seus destinos, e assim preenchemos a matriz de adjacência.</p>\n",
    "<p>A matriz de adjacência é bidirecional, para facilitar o uso com a implementação com qualquer algorítmo de busca a construção é nas diagonáis superiores e inferiores.</p>"
   ]
  },
  {
   "cell_type": "code",
   "execution_count": 8,
   "metadata": {},
   "outputs": [
    {
     "name": "stdout",
     "output_type": "stream",
     "text": [
      "[[0 1 1 1 0 0 0 0 0 1 1 1]\n",
      " [1 0 1 0 0 0 0 0 0 0 0 0]\n",
      " [1 1 0 1 0 0 0 0 0 0 0 0]\n",
      " [1 0 1 0 1 0 0 0 0 0 0 1]\n",
      " [0 0 0 1 0 1 1 1 0 0 0 0]\n",
      " [0 0 0 0 1 0 0 1 0 0 0 0]\n",
      " [0 0 0 0 1 0 0 1 0 0 0 0]\n",
      " [0 0 0 0 1 1 1 0 1 1 0 0]\n",
      " [0 0 0 0 0 0 0 1 0 1 0 0]\n",
      " [1 0 0 0 0 0 0 1 1 0 1 0]\n",
      " [1 0 0 0 0 0 0 0 0 1 0 0]\n",
      " [1 0 0 1 0 0 0 0 0 0 0 0]]\n"
     ]
    }
   ],
   "source": [
    "def monta_matriz(netnodes,netlinks):\n",
    "    nodes = netnodes['Id'].values.tolist()\n",
    "    matrix = np.matrix(np.zeros( (len(nodes),len(nodes)),dtype=np.int ) )\n",
    "    for n in nodes:\n",
    "        l = netlinks.loc[netlinks['From']==n,['To']].values\n",
    "        indexes = [nodes.index(x) for x in l]\n",
    "        if(len(indexes) > 0):\n",
    "            matrix[nodes.index(n),indexes] = 1\n",
    "            matrix[indexes,nodes.index(n)] = 1 #bidirecional\n",
    "    return matrix\n",
    "\n",
    "matrix = monta_matriz(netnodes,netlinks)\n",
    "\n",
    "print (matrix)"
   ]
  },
  {
   "cell_type": "markdown",
   "metadata": {},
   "source": [
    "<p>Abaixo temos a construção das listas que representam os canais de comunicação dos enlaces. Estes canais são representados por 0's e 1's guardadas em listas salvas em dicts que são acessados pela tupla que representa o origem e destino.</p>"
   ]
  },
  {
   "cell_type": "code",
   "execution_count": 9,
   "metadata": {},
   "outputs": [],
   "source": [
    "def criar_canais(mtx,ncanais):\n",
    "    canais = dict()\n",
    "#     mtxc = np.matrix(np.zeros(mtx.shape), dtype=list)\n",
    "    for i in range(len(mtx)):\n",
    "        for j in range(len(mtx)):\n",
    "            if(i<j):\n",
    "                if(mtx[i,j] == 1):\n",
    "                    lista = [1]*ncanais #1 livre, 0 ocupado\n",
    "                    canais.update({(i,j):lista})\n",
    "                    canais.update({(j,i):lista})#mesma instancia para as duas direções\n",
    "    return canais\n",
    "#                    mtxc[i,j]= [1]*ncanais\n",
    "#                    mtxc[j,i]= mtxc[i,j]\n",
    "#                 else:\n",
    "#                     mtxc[i,j]= None\n",
    "#     return mtxc"
   ]
  },
  {
   "cell_type": "markdown",
   "metadata": {},
   "source": [
    "<p>Como os canais são bidirecionais os mesmos canais são usados nas duas direções, ou seja, do nó 0 para o nó 9 e do nó 9 para o nó 0 a mesma instância do objeto lista é utilizado. Assim se o canal 0 é ocupado em uma direção ele também não estará disponível no inverso, como podemos ver abaixo:</p> "
   ]
  },
  {
   "cell_type": "code",
   "execution_count": 10,
   "metadata": {},
   "outputs": [
    {
     "name": "stdout",
     "output_type": "stream",
     "text": [
      "[0, 1, 1, 1, 1, 1, 1, 1, 1, 1, 1, 1]\n",
      "[1, 1, 1, 1, 1, 1, 1, 1, 1, 1, 1, 1]\n"
     ]
    }
   ],
   "source": [
    "canais_rede = criar_canais(matrix,len(netnodes))\n",
    "canais_rede[(9,0)][0]=0 # ocupar canal 0 do enlace\n",
    "print (canais_rede[0,9])\n",
    "canais_rede[(9,0)][0]=1 # desocupar canal 0 do enlace\n",
    "print (canais_rede[0,9])"
   ]
  },
  {
   "cell_type": "markdown",
   "metadata": {},
   "source": [
    "<p>Excluir a diagonal inferior(caso necessário):</p>"
   ]
  },
  {
   "cell_type": "code",
   "execution_count": 11,
   "metadata": {
    "scrolled": true
   },
   "outputs": [],
   "source": [
    "def diagonalizar(mtx):\n",
    "    nova = np.matrix(np.zeros(mtx.shape), dtype=int)\n",
    "    for i in range(len(mtx)):\n",
    "       # print(l)\n",
    "        for j in range(len(mtx)):\n",
    "            if(i<j):\n",
    "                nova[i,j] = mtx[i,j]\n",
    "    return nova\n",
    "# print(diagonalizar(matrix))"
   ]
  },
  {
   "cell_type": "markdown",
   "metadata": {},
   "source": [
    "<h2>Calculo e Incrementação do grau</h2>\n",
    "<p>Para calcular o grau médio basta calcular a quantidade de elementos não nulos na linha ou coluna de cada nó, e depois dividir pelo núme de nós.</p>\n",
    "<p><i>Obs. Isso se aplica quando a matriz é bidirecional e as diagonais superior e inferior são não nulas.</i></p>"
   ]
  },
  {
   "cell_type": "code",
   "execution_count": 12,
   "metadata": {},
   "outputs": [],
   "source": [
    "def calc_grau(matrix):\n",
    "    soma=0\n",
    "    for l in range(len(matrix)):\n",
    "        for c in range(len(matrix)):\n",
    "            if matrix[l,c] != 0:\n",
    "                soma += 1\n",
    "    return soma/(len(matrix))"
   ]
  },
  {
   "cell_type": "code",
   "execution_count": 13,
   "metadata": {},
   "outputs": [
    {
     "name": "stdout",
     "output_type": "stream",
     "text": [
      "grau médio: 3.1666666666666665\n"
     ]
    }
   ],
   "source": [
    "print(\"grau médio: {}\".format(calc_grau(matrix)))"
   ]
  },
  {
   "cell_type": "markdown",
   "metadata": {},
   "source": [
    "<p>Para aumentar o grau da nossa topologia basta inserir novos enlaces de forma aleatória na matriz de adjacência. Para isso adiciona-se enlaces até o grafo atingir o grau desejado</p>"
   ]
  },
  {
   "cell_type": "code",
   "execution_count": 14,
   "metadata": {},
   "outputs": [],
   "source": [
    "def aumentar_grau(mtx,inc_grau): #nodos = 6, p/incrementar 1 grau adicionamos 6 enlaces, para inc 0.5 add 3\n",
    "    grau = calc_grau(mtx)\n",
    "    mind = len(mtx)-1\n",
    "    n_grau = grau\n",
    "    while n_grau < mind and n_grau < grau + inc_grau:\n",
    "        x,y=(None,None)\n",
    "        while (x==None and y==None):\n",
    "            x,y = (randint(0,mind), randint(0,mind))\n",
    "            if x==y or mtx[x,y]==1:\n",
    "                x,y=(None,None)\n",
    "        mtx[x,y]=1\n",
    "        mtx[y,x]=1 #bijetora...\n",
    "        n_grau=calc_grau(mtx)"
   ]
  },
  {
   "cell_type": "markdown",
   "metadata": {},
   "source": [
    "<p><b>Antes:</b></p>"
   ]
  },
  {
   "cell_type": "code",
   "execution_count": 15,
   "metadata": {},
   "outputs": [
    {
     "name": "stdout",
     "output_type": "stream",
     "text": [
      "[[0 1 1 1 0 0 0 0 0 1 1 1]\n",
      " [1 0 1 0 0 0 0 0 0 0 0 0]\n",
      " [1 1 0 1 0 0 0 0 0 0 0 0]\n",
      " [1 0 1 0 1 0 0 0 0 0 0 1]\n",
      " [0 0 0 1 0 1 1 1 0 0 0 0]\n",
      " [0 0 0 0 1 0 0 1 0 0 0 0]\n",
      " [0 0 0 0 1 0 0 1 0 0 0 0]\n",
      " [0 0 0 0 1 1 1 0 1 1 0 0]\n",
      " [0 0 0 0 0 0 0 1 0 1 0 0]\n",
      " [1 0 0 0 0 0 0 1 1 0 1 0]\n",
      " [1 0 0 0 0 0 0 0 0 1 0 0]\n",
      " [1 0 0 1 0 0 0 0 0 0 0 0]]\n"
     ]
    }
   ],
   "source": [
    "print(matrix)"
   ]
  },
  {
   "cell_type": "code",
   "execution_count": 16,
   "metadata": {},
   "outputs": [],
   "source": [
    "aumentar_grau(matrix,5)"
   ]
  },
  {
   "cell_type": "markdown",
   "metadata": {},
   "source": [
    "<p><b>Depois:</b></p>"
   ]
  },
  {
   "cell_type": "code",
   "execution_count": 17,
   "metadata": {},
   "outputs": [
    {
     "name": "stdout",
     "output_type": "stream",
     "text": [
      "[[0 1 1 1 0 0 0 1 0 1 1 1]\n",
      " [1 0 1 1 1 1 1 0 1 1 0 0]\n",
      " [1 1 0 1 0 1 1 0 1 1 0 1]\n",
      " [1 1 1 0 1 1 1 0 1 0 0 1]\n",
      " [0 1 0 1 0 1 1 1 1 0 1 1]\n",
      " [0 1 1 1 1 0 1 1 1 1 1 0]\n",
      " [0 1 1 1 1 1 0 1 1 1 1 0]\n",
      " [1 0 0 0 1 1 1 0 1 1 1 1]\n",
      " [0 1 1 1 1 1 1 1 0 1 1 1]\n",
      " [1 1 1 0 0 1 1 1 1 0 1 1]\n",
      " [1 0 0 0 1 1 1 1 1 1 0 0]\n",
      " [1 0 1 1 1 0 0 1 1 1 0 0]]\n"
     ]
    }
   ],
   "source": [
    "print(matrix)"
   ]
  },
  {
   "cell_type": "code",
   "execution_count": 18,
   "metadata": {},
   "outputs": [
    {
     "name": "stdout",
     "output_type": "stream",
     "text": [
      "grau médio: 8.166666666666666\n"
     ]
    }
   ],
   "source": [
    "print(\"grau médio: {}\".format(calc_grau(matrix)))"
   ]
  },
  {
   "cell_type": "markdown",
   "metadata": {},
   "source": [
    "<h2>Construir todas as matrizes</h2>\n",
    "<p>Nesta etapa geramos todas as matrizes à partir das informações tiradas dos arquivos nodes e links."
   ]
  },
  {
   "cell_type": "code",
   "execution_count": 19,
   "metadata": {},
   "outputs": [],
   "source": [
    "matrizes = dict()\n",
    "#montar matrizes, canais, etc...\n",
    "for x in names:\n",
    "    netlinks = alllinks[x]\n",
    "    netnodes = allnodes[x]\n",
    "    matriz = monta_matriz(netnodes,netlinks)\n",
    "    matrizes.update({x:matriz})\n",
    "#     print(\"matriz {}:\\n{}\".format(x,matriz))"
   ]
  },
  {
   "cell_type": "markdown",
   "metadata": {},
   "source": [
    "<p>Para acessar as matrizes basta passar o nome da rede entre []:</p>"
   ]
  },
  {
   "cell_type": "code",
   "execution_count": 20,
   "metadata": {},
   "outputs": [
    {
     "name": "stdout",
     "output_type": "stream",
     "text": [
      "matriz:\n",
      "\n",
      "[[0 1 1 1 0 0 0 0 0 1 1 1]\n",
      " [1 0 1 0 0 0 0 0 0 0 0 0]\n",
      " [1 1 0 1 0 0 0 0 0 0 0 0]\n",
      " [1 0 1 0 1 0 0 0 0 0 0 1]\n",
      " [0 0 0 1 0 1 1 1 0 0 0 0]\n",
      " [0 0 0 0 1 0 0 1 0 0 0 0]\n",
      " [0 0 0 0 1 0 0 1 0 0 0 0]\n",
      " [0 0 0 0 1 1 1 0 1 1 0 0]\n",
      " [0 0 0 0 0 0 0 1 0 1 0 0]\n",
      " [1 0 0 0 0 0 0 1 1 0 1 0]\n",
      " [1 0 0 0 0 0 0 0 0 1 0 0]\n",
      " [1 0 0 1 0 0 0 0 0 0 0 0]]\n"
     ]
    }
   ],
   "source": [
    "mat=matrizes['cesnet']\n",
    "print(\"matriz:\\n\")\n",
    "print(mat)"
   ]
  },
  {
   "cell_type": "markdown",
   "metadata": {},
   "source": [
    "<h1>Dijkstra</h1>\n",
    "<p>Implementação da busca pelo menor caminho</p>"
   ]
  },
  {
   "cell_type": "code",
   "execution_count": 21,
   "metadata": {},
   "outputs": [],
   "source": [
    "#Matriz de Incidência\n",
    "from math import inf\n",
    "\n",
    "letra = lambda x:chr(ord('a')+x)\n",
    "\n",
    "class BuscaMatriz():\n",
    "    #matrizNova=list()\n",
    "    def __init__(self,matrix):\n",
    "        self.matrix=matrix\n",
    "        self.custo=[inf]*matrix.size()\n",
    "        self.pai=[-1]*matrix.size()\n",
    "    def backtrack(self,destino):\n",
    "        cam=list()\n",
    "#         print(destino)\n",
    "        pai=self.pai[destino]\n",
    "        cam.append(destino)\n",
    "        if(pai!=-1):\n",
    "            cam = cam + self.backtrack(pai)\n",
    "        return cam\n",
    "\n",
    "class GraphMatrix():\n",
    "    def __init__(self,first,matrix):#de certa forma isto não deveria estar aqui e desta forma\n",
    "        self.actual=first\n",
    "        self.matrix=matrix\n",
    "        self.custo=0\n",
    "        self.visited=[0]*len(matrix)\n",
    "        self.visited[first]=1\n",
    "#         for i,linha in enumerate(matrix):\n",
    "#             print (\"linha %d: %s\"%(i,linha))\n",
    "    def __str__(self):\n",
    "        return 'teste'\n",
    "    def visit(self,aresta,custo):\n",
    "        if (self.visited[aresta]==1):\n",
    "            return False\n",
    "        self.visited[aresta]=1\n",
    "        self.actual=aresta\n",
    "        self.custo+=custo\n",
    "        return True\n",
    "    def get_actual(self):\n",
    "        return self.actual\n",
    "    def set_actual(self,actual):\n",
    "        self.actual=actual\n",
    "    def size(self):\n",
    "        return len(self.matrix)\n",
    "    def run(self,*reverse): #nem isto\n",
    "#         print(\"Atualmente em %d com custo %d\" % (self.actual,self.custo))\n",
    "        vizinhos=self.get_vizinhos(self.actual)\n",
    "#         print (\"vizinhos:\")\n",
    "#         for vizinho in vizinhos:\n",
    "#             print(\"numero %d custo %d\" % vizinho)\n",
    "        while len(vizinhos)>0:\n",
    "            if reverse:\n",
    "                v=vizinhos.pop()\n",
    "            else:\n",
    "                v=vizinhos.pop(0)\n",
    "            if self.visit(*v) == True:\n",
    "                return True\n",
    "        return False\n",
    "\n",
    "class AdjMatrix(GraphMatrix):\n",
    "    def __init__(self,*args):\n",
    "        super(AdjMatrix,self).__init__(*args)\n",
    "    def get_vizinhos(self,vert):\n",
    "#         print(self.matrix)\n",
    "        vizinhos=[(i,ar) for i,ar in enumerate(self.matrix[vert]) if ar>0 ]\n",
    "        vizinhos.sort(key=lambda tupla:tupla[1])\n",
    "        return vizinhos"
   ]
  },
  {
   "cell_type": "code",
   "execution_count": 22,
   "metadata": {},
   "outputs": [],
   "source": [
    "#import mtx /\\\n",
    "import sys\n",
    "from math import inf\n",
    "class Dijkstra(BuscaMatriz):\n",
    "    show=lambda self:print(\"Custo: %s\\nPai: %s\\nFila %s\\nAtual: %d\" % (self.custo,self.pai,self.fila,self.matrix.get_actual()))\n",
    "    def __init__(self,matrix):\n",
    "        super(Dijkstra,self).__init__(matrix)\n",
    "        self.fila=list(range(0,matrix.size()))\n",
    "        self.fila.remove(self.matrix.get_actual())\n",
    "\n",
    "    def explora(self):\n",
    "        index=self.matrix.get_actual()\n",
    "        if(self.custo[index]==inf):#caso seja desconexo\n",
    "            self.custo[index]=0\n",
    "        for vizinho in self.matrix.get_vizinhos(index):\n",
    "            (vert,value)=vizinho\n",
    "#             self.show()\n",
    "            nvalue=value+self.custo[index]\n",
    "            if nvalue < self.custo[vert]:\n",
    "#                 print(\"Novo valor para %d: %d\"%(vert,nvalue))\n",
    "                self.atualiza(vert,nvalue)\n",
    "    def gen_fila(self):\n",
    "        for x in self.fila:\n",
    "            custo=self.custo[x]\n",
    "            yield (custo,x)\n",
    "    def end(self):\n",
    "        return self.fila==[]\n",
    "    def atualiza(self,filho,valor):\n",
    "        self.custo[filho]=valor\n",
    "        self.pai[filho]=self.matrix.get_actual()\n",
    "    def choose(self):\n",
    "        fila=list()\n",
    "        for a in self.gen_fila():\n",
    "            fila.append(a)\n",
    "        fila.sort()\n",
    "#         print(\"\\nFila em ordem de peso: %s\"%(fila))\n",
    "        (peso,actual)=fila.pop(0)\n",
    "        \n",
    "        self.matrix.set_actual(actual)\n",
    "        self.fila.remove(actual)"
   ]
  },
  {
   "cell_type": "markdown",
   "metadata": {},
   "source": [
    "<h2>Calcular as rotas</h2>\n",
    "<p>Ao explorar a matriz verificamos os menores custos para comunicação entre todos os nós.</p>"
   ]
  },
  {
   "cell_type": "markdown",
   "metadata": {},
   "source": [
    "Suporte a threads para acelerar o processo:"
   ]
  },
  {
   "cell_type": "code",
   "execution_count": 23,
   "metadata": {},
   "outputs": [],
   "source": [
    "from threading import Lock #bloqueios mutex\n",
    "import concurrent.futures #threads\n",
    "\n",
    "mutex = Lock()"
   ]
  },
  {
   "cell_type": "markdown",
   "metadata": {},
   "source": [
    "Explorar todos caminhos da árvore"
   ]
  },
  {
   "cell_type": "code",
   "execution_count": 24,
   "metadata": {},
   "outputs": [],
   "source": [
    "# para cada caminho uma thread, a fim de acelerar o processo de exploracao\n",
    "def explorar_caminho(ijcl):\n",
    "    i,j,caminhos,lmtx=ijcl\n",
    "    di=Dijkstra(AdjMatrix(i,lmtx))\n",
    "    di.explora()\n",
    "    while(di.end()==False):\n",
    "        di.explora()\n",
    "        di.choose()\n",
    "    mutex.acquire()\n",
    "    try:\n",
    "        caminhos.update({(j,i):di.backtrack(j)})\n",
    "    finally:\n",
    "        mutex.release()\n",
    "    print(caminhos)\n",
    "    return caminhos\n",
    "\n",
    "def explorar_matrix(mtx):\n",
    "    caminhos = dict()\n",
    "    #lmtx = mtx.tolist()\n",
    "    lmtx = mtx\n",
    "    # gera lista de entradas para as threads com todas as combinacoes de origem destino:\n",
    "    t_caminhos=[(i,j,caminhos,lmtx) for i in range(len(mtx)) for j in range(len(mtx)) if i!=j]\n",
    "    with concurrent.futures.ThreadPoolExecutor() as executor: # paralelizar o processo de explorar cada caminho\n",
    "        executor.map(explorar_caminho,t_caminhos)\n",
    "    return caminhos\n"
   ]
  },
  {
   "cell_type": "code",
   "execution_count": 25,
   "metadata": {},
   "outputs": [
    {
     "name": "stdout",
     "output_type": "stream",
     "text": [
      "{(1, 0): [1, 0]}\n",
      "{(1, 0): [1, 0], (2, 0): [2, 0]}{(1, 0): [1, 0], (2, 0): [2, 0], (3, 0): [3, 1, 0]}{(1, 0): [1, 0], (2, 0): [2, 0], (3, 0): [3, 1, 0], (4, 0): [4, 3, 1, 0]}\n",
      "\n",
      "\n",
      "{(1, 0): [1, 0], (2, 0): [2, 0], (3, 0): [3, 1, 0], (4, 0): [4, 3, 1, 0], (5, 0): [5, 2, 0]}{(1, 0): [1, 0], (2, 0): [2, 0], (3, 0): [3, 1, 0], (4, 0): [4, 3, 1, 0], (5, 0): [5, 2, 0], (0, 1): [0, 1]}\n",
      "{(1, 0): [1, 0], (2, 0): [2, 0], (3, 0): [3, 1, 0], (4, 0): [4, 3, 1, 0], (5, 0): [5, 2, 0], (0, 1): [0, 1], (2, 1): [2, 0, 1]}\n",
      "{(1, 0): [1, 0], (2, 0): [2, 0], (3, 0): [3, 1, 0], (4, 0): [4, 3, 1, 0], (5, 0): [5, 2, 0], (0, 1): [0, 1], (2, 1): [2, 0, 1], (3, 1): [3, 1]}\n",
      "{(1, 0): [1, 0], (2, 0): [2, 0], (3, 0): [3, 1, 0], (4, 0): [4, 3, 1, 0], (5, 0): [5, 2, 0], (0, 1): [0, 1], (2, 1): [2, 0, 1], (3, 1): [3, 1], (4, 1): [4, 3, 1]}\n",
      "{(1, 0): [1, 0], (2, 0): [2, 0], (3, 0): [3, 1, 0], (4, 0): [4, 3, 1, 0], (5, 0): [5, 2, 0], (0, 1): [0, 1], (2, 1): [2, 0, 1], (3, 1): [3, 1], (4, 1): [4, 3, 1], (5, 1): [5, 2, 0, 1]}\n",
      "\n",
      "{(1, 0): [1, 0], (2, 0): [2, 0], (3, 0): [3, 1, 0], (4, 0): [4, 3, 1, 0], (5, 0): [5, 2, 0], (0, 1): [0, 1], (2, 1): [2, 0, 1], (3, 1): [3, 1], (4, 1): [4, 3, 1], (5, 1): [5, 2, 0, 1], (0, 2): [0, 2]}\n",
      "{(1, 0): [1, 0], (2, 0): [2, 0], (3, 0): [3, 1, 0], (4, 0): [4, 3, 1, 0], (5, 0): [5, 2, 0], (0, 1): [0, 1], (2, 1): [2, 0, 1], (3, 1): [3, 1], (4, 1): [4, 3, 1], (5, 1): [5, 2, 0, 1], (0, 2): [0, 2], (1, 2): [1, 0, 2]}\n",
      "{(1, 0): [1, 0], (2, 0): [2, 0], (3, 0): [3, 1, 0], (4, 0): [4, 3, 1, 0], (5, 0): [5, 2, 0], (0, 1): [0, 1], (2, 1): [2, 0, 1], (3, 1): [3, 1], (4, 1): [4, 3, 1], (5, 1): [5, 2, 0, 1], (0, 2): [0, 2], (1, 2): [1, 0, 2], (3, 2): [3, 2]}\n",
      "{(1, 0): [1, 0], (2, 0): [2, 0], (3, 0): [3, 1, 0], (4, 0): [4, 3, 1, 0], (5, 0): [5, 2, 0], (0, 1): [0, 1], (2, 1): [2, 0, 1], (3, 1): [3, 1], (4, 1): [4, 3, 1], (5, 1): [5, 2, 0, 1], (0, 2): [0, 2], (1, 2): [1, 0, 2], (3, 2): [3, 2], (4, 2): [4, 3, 2]}\n",
      "{(1, 0): [1, 0], (2, 0): [2, 0], (3, 0): [3, 1, 0], (4, 0): [4, 3, 1, 0], (5, 0): [5, 2, 0], (0, 1): [0, 1], (2, 1): [2, 0, 1], (3, 1): [3, 1], (4, 1): [4, 3, 1], (5, 1): [5, 2, 0, 1], (0, 2): [0, 2], (1, 2): [1, 0, 2], (3, 2): [3, 2], (4, 2): [4, 3, 2], (5, 2): [5, 2]}\n",
      "{(1, 0): [1, 0], (2, 0): [2, 0], (3, 0): [3, 1, 0], (4, 0): [4, 3, 1, 0], (5, 0): [5, 2, 0], (0, 1): [0, 1], (2, 1): [2, 0, 1], (3, 1): [3, 1], (4, 1): [4, 3, 1], (5, 1): [5, 2, 0, 1], (0, 2): [0, 2], (1, 2): [1, 0, 2], (3, 2): [3, 2], (4, 2): [4, 3, 2], (5, 2): [5, 2], (0, 3): [0, 1, 3]}{(1, 0): [1, 0], (2, 0): [2, 0], (3, 0): [3, 1, 0], (4, 0): [4, 3, 1, 0], (5, 0): [5, 2, 0], (0, 1): [0, 1], (2, 1): [2, 0, 1], (3, 1): [3, 1], (4, 1): [4, 3, 1], (5, 1): [5, 2, 0, 1], (0, 2): [0, 2], (1, 2): [1, 0, 2], (3, 2): [3, 2], (4, 2): [4, 3, 2], (5, 2): [5, 2], (0, 3): [0, 1, 3], (1, 3): [1, 3]}\n",
      "{(1, 0): [1, 0], (2, 0): [2, 0], (3, 0): [3, 1, 0], (4, 0): [4, 3, 1, 0], (5, 0): [5, 2, 0], (0, 1): [0, 1], (2, 1): [2, 0, 1], (3, 1): [3, 1], (4, 1): [4, 3, 1], (5, 1): [5, 2, 0, 1], (0, 2): [0, 2], (1, 2): [1, 0, 2], (3, 2): [3, 2], (4, 2): [4, 3, 2], (5, 2): [5, 2], (0, 3): [0, 1, 3], (1, 3): [1, 3], (2, 3): [2, 3]}\n",
      "{(1, 0): [1, 0], (2, 0): [2, 0], (3, 0): [3, 1, 0], (4, 0): [4, 3, 1, 0], (5, 0): [5, 2, 0], (0, 1): [0, 1], (2, 1): [2, 0, 1], (3, 1): [3, 1], (4, 1): [4, 3, 1], (5, 1): [5, 2, 0, 1], (0, 2): [0, 2], (1, 2): [1, 0, 2], (3, 2): [3, 2], (4, 2): [4, 3, 2], (5, 2): [5, 2], (0, 3): [0, 1, 3], (1, 3): [1, 3], (2, 3): [2, 3], (4, 3): [4, 3]}\n",
      "{(1, 0): [1, 0], (2, 0): [2, 0], (3, 0): [3, 1, 0], (4, 0): [4, 3, 1, 0], (5, 0): [5, 2, 0], (0, 1): [0, 1], (2, 1): [2, 0, 1], (3, 1): [3, 1], (4, 1): [4, 3, 1], (5, 1): [5, 2, 0, 1], (0, 2): [0, 2], (1, 2): [1, 0, 2], (3, 2): [3, 2], (4, 2): [4, 3, 2], (5, 2): [5, 2], (0, 3): [0, 1, 3], (1, 3): [1, 3], (2, 3): [2, 3], (4, 3): [4, 3], (5, 3): [5, 2, 3]}\n",
      "{(1, 0): [1, 0], (2, 0): [2, 0], (3, 0): [3, 1, 0], (4, 0): [4, 3, 1, 0], (5, 0): [5, 2, 0], (0, 1): [0, 1], (2, 1): [2, 0, 1], (3, 1): [3, 1], (4, 1): [4, 3, 1], (5, 1): [5, 2, 0, 1], (0, 2): [0, 2], (1, 2): [1, 0, 2], (3, 2): [3, 2], (4, 2): [4, 3, 2], (5, 2): [5, 2], (0, 3): [0, 1, 3], (1, 3): [1, 3], (2, 3): [2, 3], (4, 3): [4, 3], (5, 3): [5, 2, 3], (0, 4): [0, 1, 3, 4]}\n",
      "{(1, 0): [1, 0], (2, 0): [2, 0], (3, 0): [3, 1, 0], (4, 0): [4, 3, 1, 0], (5, 0): [5, 2, 0], (0, 1): [0, 1], (2, 1): [2, 0, 1], (3, 1): [3, 1], (4, 1): [4, 3, 1], (5, 1): [5, 2, 0, 1], (0, 2): [0, 2], (1, 2): [1, 0, 2], (3, 2): [3, 2], (4, 2): [4, 3, 2], (5, 2): [5, 2], (0, 3): [0, 1, 3], (1, 3): [1, 3], (2, 3): [2, 3], (4, 3): [4, 3], (5, 3): [5, 2, 3], (0, 4): [0, 1, 3, 4], (1, 4): [1, 3, 4]}\n",
      "\n",
      "{(1, 0): [1, 0], (2, 0): [2, 0], (3, 0): [3, 1, 0], (4, 0): [4, 3, 1, 0], (5, 0): [5, 2, 0], (0, 1): [0, 1], (2, 1): [2, 0, 1], (3, 1): [3, 1], (4, 1): [4, 3, 1], (5, 1): [5, 2, 0, 1], (0, 2): [0, 2], (1, 2): [1, 0, 2], (3, 2): [3, 2], (4, 2): [4, 3, 2], (5, 2): [5, 2], (0, 3): [0, 1, 3], (1, 3): [1, 3], (2, 3): [2, 3], (4, 3): [4, 3], (5, 3): [5, 2, 3], (0, 4): [0, 1, 3, 4], (1, 4): [1, 3, 4], (2, 4): [2, 3, 4]}{(1, 0): [1, 0], (2, 0): [2, 0], (3, 0): [3, 1, 0], (4, 0): [4, 3, 1, 0], (5, 0): [5, 2, 0], (0, 1): [0, 1], (2, 1): [2, 0, 1], (3, 1): [3, 1], (4, 1): [4, 3, 1], (5, 1): [5, 2, 0, 1], (0, 2): [0, 2], (1, 2): [1, 0, 2], (3, 2): [3, 2], (4, 2): [4, 3, 2], (5, 2): [5, 2], (0, 3): [0, 1, 3], (1, 3): [1, 3], (2, 3): [2, 3], (4, 3): [4, 3], (5, 3): [5, 2, 3], (0, 4): [0, 1, 3, 4], (1, 4): [1, 3, 4], (2, 4): [2, 3, 4], (3, 4): [3, 4]}{(1, 0): [1, 0], (2, 0): [2, 0], (3, 0): [3, 1, 0], (4, 0): [4, 3, 1, 0], (5, 0): [5, 2, 0], (0, 1): [0, 1], (2, 1): [2, 0, 1], (3, 1): [3, 1], (4, 1): [4, 3, 1], (5, 1): [5, 2, 0, 1], (0, 2): [0, 2], (1, 2): [1, 0, 2], (3, 2): [3, 2], (4, 2): [4, 3, 2], (5, 2): [5, 2], (0, 3): [0, 1, 3], (1, 3): [1, 3], (2, 3): [2, 3], (4, 3): [4, 3], (5, 3): [5, 2, 3], (0, 4): [0, 1, 3, 4], (1, 4): [1, 3, 4], (2, 4): [2, 3, 4], (3, 4): [3, 4], (5, 4): [5, 4]}\n",
      "{(1, 0): [1, 0], (2, 0): [2, 0], (3, 0): [3, 1, 0], (4, 0): [4, 3, 1, 0], (5, 0): [5, 2, 0], (0, 1): [0, 1], (2, 1): [2, 0, 1], (3, 1): [3, 1], (4, 1): [4, 3, 1], (5, 1): [5, 2, 0, 1], (0, 2): [0, 2], (1, 2): [1, 0, 2], (3, 2): [3, 2], (4, 2): [4, 3, 2], (5, 2): [5, 2], (0, 3): [0, 1, 3], (1, 3): [1, 3], (2, 3): [2, 3], (4, 3): [4, 3], (5, 3): [5, 2, 3], (0, 4): [0, 1, 3, 4], (1, 4): [1, 3, 4], (2, 4): [2, 3, 4], (3, 4): [3, 4], (5, 4): [5, 4], (0, 5): [0, 2, 5]}\n",
      "{(1, 0): [1, 0], (2, 0): [2, 0], (3, 0): [3, 1, 0], (4, 0): [4, 3, 1, 0], (5, 0): [5, 2, 0], (0, 1): [0, 1], (2, 1): [2, 0, 1], (3, 1): [3, 1], (4, 1): [4, 3, 1], (5, 1): [5, 2, 0, 1], (0, 2): [0, 2], (1, 2): [1, 0, 2], (3, 2): [3, 2], (4, 2): [4, 3, 2], (5, 2): [5, 2], (0, 3): [0, 1, 3], (1, 3): [1, 3], (2, 3): [2, 3], (4, 3): [4, 3], (5, 3): [5, 2, 3], (0, 4): [0, 1, 3, 4], (1, 4): [1, 3, 4], (2, 4): [2, 3, 4], (3, 4): [3, 4], (5, 4): [5, 4], (0, 5): [0, 2, 5], (1, 5): [1, 0, 2, 5]}\n",
      "{(1, 0): [1, 0], (2, 0): [2, 0], (3, 0): [3, 1, 0], (4, 0): [4, 3, 1, 0], (5, 0): [5, 2, 0], (0, 1): [0, 1], (2, 1): [2, 0, 1], (3, 1): [3, 1], (4, 1): [4, 3, 1], (5, 1): [5, 2, 0, 1], (0, 2): [0, 2], (1, 2): [1, 0, 2], (3, 2): [3, 2], (4, 2): [4, 3, 2], (5, 2): [5, 2], (0, 3): [0, 1, 3], (1, 3): [1, 3], (2, 3): [2, 3], (4, 3): [4, 3], (5, 3): [5, 2, 3], (0, 4): [0, 1, 3, 4], (1, 4): [1, 3, 4], (2, 4): [2, 3, 4], (3, 4): [3, 4], (5, 4): [5, 4], (0, 5): [0, 2, 5], (1, 5): [1, 0, 2, 5], (2, 5): [2, 5]}\n",
      "{(1, 0): [1, 0], (2, 0): [2, 0], (3, 0): [3, 1, 0], (4, 0): [4, 3, 1, 0], (5, 0): [5, 2, 0], (0, 1): [0, 1], (2, 1): [2, 0, 1], (3, 1): [3, 1], (4, 1): [4, 3, 1], (5, 1): [5, 2, 0, 1], (0, 2): [0, 2], (1, 2): [1, 0, 2], (3, 2): [3, 2], (4, 2): [4, 3, 2], (5, 2): [5, 2], (0, 3): [0, 1, 3], (1, 3): [1, 3], (2, 3): [2, 3], (4, 3): [4, 3], (5, 3): [5, 2, 3], (0, 4): [0, 1, 3, 4], (1, 4): [1, 3, 4], (2, 4): [2, 3, 4], (3, 4): [3, 4], (5, 4): [5, 4], (0, 5): [0, 2, 5], (1, 5): [1, 0, 2, 5], (2, 5): [2, 5], (3, 5): [3, 2, 5]}\n",
      "\n",
      "{(1, 0): [1, 0], (2, 0): [2, 0], (3, 0): [3, 1, 0], (4, 0): [4, 3, 1, 0], (5, 0): [5, 2, 0], (0, 1): [0, 1], (2, 1): [2, 0, 1], (3, 1): [3, 1], (4, 1): [4, 3, 1], (5, 1): [5, 2, 0, 1], (0, 2): [0, 2], (1, 2): [1, 0, 2], (3, 2): [3, 2], (4, 2): [4, 3, 2], (5, 2): [5, 2], (0, 3): [0, 1, 3], (1, 3): [1, 3], (2, 3): [2, 3], (4, 3): [4, 3], (5, 3): [5, 2, 3], (0, 4): [0, 1, 3, 4], (1, 4): [1, 3, 4], (2, 4): [2, 3, 4], (3, 4): [3, 4], (5, 4): [5, 4], (0, 5): [0, 2, 5], (1, 5): [1, 0, 2, 5], (2, 5): [2, 5], (3, 5): [3, 2, 5], (4, 5): [4, 5]}\n",
      "\n"
     ]
    }
   ],
   "source": [
    "matrix = np.matrix(matrizes.get('scteste'))#nova instancia\n",
    "caminhos = explorar_matrix(matrix.tolist())"
   ]
  },
  {
   "cell_type": "code",
   "execution_count": 26,
   "metadata": {},
   "outputs": [
    {
     "name": "stdout",
     "output_type": "stream",
     "text": [
      "[[0 1 1 0 0 0]\n",
      " [1 0 0 1 0 0]\n",
      " [1 0 0 1 0 1]\n",
      " [0 1 1 0 1 0]\n",
      " [0 0 0 1 0 1]\n",
      " [0 0 1 0 1 0]]\n"
     ]
    }
   ],
   "source": [
    "print(matrix)"
   ]
  },
  {
   "cell_type": "markdown",
   "metadata": {},
   "source": [
    "<p>O indice de wiener é expresso pelo comprimento de todos os caminhos curtos descobertos.</p>"
   ]
  },
  {
   "cell_type": "code",
   "execution_count": 27,
   "metadata": {},
   "outputs": [],
   "source": [
    "def wiener(caminhos,mtx):\n",
    "    custo = 0\n",
    "    for i in range(len(mtx)):\n",
    "        for j in range(len(mtx)):\n",
    "            if(i<j):\n",
    "                custo+= (len(caminhos[i,j]) -1)\n",
    "    return custo"
   ]
  },
  {
   "cell_type": "code",
   "execution_count": 28,
   "metadata": {},
   "outputs": [
    {
     "name": "stdout",
     "output_type": "stream",
     "text": [
      "{(1, 0): [1, 0], (2, 0): [2, 0], (3, 0): [3, 1, 0], (4, 0): [4, 3, 1, 0], (5, 0): [5, 2, 0], (0, 1): [0, 1], (2, 1): [2, 0, 1], (3, 1): [3, 1], (4, 1): [4, 3, 1], (5, 1): [5, 2, 0, 1], (0, 2): [0, 2], (1, 2): [1, 0, 2], (3, 2): [3, 2], (4, 2): [4, 3, 2], (5, 2): [5, 2], (0, 3): [0, 1, 3], (1, 3): [1, 3], (2, 3): [2, 3], (4, 3): [4, 3], (5, 3): [5, 2, 3], (0, 4): [0, 1, 3, 4], (1, 4): [1, 3, 4], (2, 4): [2, 3, 4], (3, 4): [3, 4], (5, 4): [5, 4], (0, 5): [0, 2, 5], (1, 5): [1, 0, 2, 5], (2, 5): [2, 5], (3, 5): [3, 2, 5], (4, 5): [4, 5]}\n"
     ]
    },
    {
     "name": "stderr",
     "output_type": "stream",
     "text": [
      "Índice Wiener: 25\n"
     ]
    }
   ],
   "source": [
    "print(caminhos)\n",
    "print(\"Índice Wiener: {}\".format(wiener(caminhos,matrix.tolist())),file=sys.stderr)"
   ]
  },
  {
   "cell_type": "code",
   "execution_count": 29,
   "metadata": {},
   "outputs": [],
   "source": [
    "rotear=lambda caminhos,origem,destino: [par for par in zip(caminhos[(origem,destino)],caminhos[(origem,destino)][1:]) ]"
   ]
  },
  {
   "cell_type": "code",
   "execution_count": 30,
   "metadata": {
    "scrolled": true
   },
   "outputs": [
    {
     "name": "stdout",
     "output_type": "stream",
     "text": [
      "grau: 2.3333333333333335\n",
      "caminho:\n",
      "[2, 5]\n",
      "enlaces:\n",
      "[(2, 5)]\n"
     ]
    }
   ],
   "source": [
    "print(f\"grau: {calc_grau(matrix)}\")\n",
    "print(\"caminho:\\n{}\".format(caminhos[(2,5)]))\n",
    "print(\"enlaces:\\n{}\".format(rotear(caminhos,2,5)))"
   ]
  },
  {
   "cell_type": "code",
   "execution_count": 31,
   "metadata": {},
   "outputs": [
    {
     "name": "stdout",
     "output_type": "stream",
     "text": [
      "[[0 1 1 1 1 1]\n",
      " [1 0 1 1 1 1]\n",
      " [1 1 0 1 1 1]\n",
      " [1 1 1 0 1 1]\n",
      " [1 1 1 1 0 1]\n",
      " [1 1 1 1 1 0]]\n",
      "5.0\n"
     ]
    }
   ],
   "source": [
    "aumentar_grau(matrix,4)\n",
    "print (matrix)\n",
    "print (calc_grau(matrix))"
   ]
  },
  {
   "cell_type": "code",
   "execution_count": 32,
   "metadata": {},
   "outputs": [
    {
     "name": "stderr",
     "output_type": "stream",
     "text": [
      "Wiener: 15\n"
     ]
    }
   ],
   "source": [
    "%%capture --no-stderr\n",
    "# print(f'calculando indice wiener:\\n {caminhos}')\n",
    "caminhos = explorar_matrix(matrix.tolist())\n",
    "\n",
    "print(f'Wiener: {wiener(caminhos,matrix)}',file=sys.stderr)"
   ]
  },
  {
   "cell_type": "code",
   "execution_count": 33,
   "metadata": {},
   "outputs": [
    {
     "name": "stdout",
     "output_type": "stream",
     "text": [
      "caminhos:\n",
      "[2, 5]\n",
      "enlaces:\n",
      "[(2, 5)]\n"
     ]
    }
   ],
   "source": [
    "print(\"caminhos:\\n{}\".format(caminhos[(2,5)]))\n",
    "print(\"enlaces:\\n{}\".format([par for par in zip(caminhos[(2,5)],caminhos[(2,5)][1:]) ]))"
   ]
  },
  {
   "cell_type": "markdown",
   "metadata": {},
   "source": [
    "<h1>Executar os testes e simulação</h1>\n",
    "<p>Por fim, executa-se diversas iterações contando o número bloqueios em cada iteração, a cada iteração o grau médio é aumentado. Por fim, calcula-se a correlação entre a taxa de bloqueio e o grau médio.</p>"
   ]
  },
  {
   "cell_type": "code",
   "execution_count": 34,
   "metadata": {},
   "outputs": [],
   "source": [
    "class sim_rede():\n",
    "    def __init__(self,nome,matrix_np,ncanais=-1):\n",
    "        self.nome = nome\n",
    "#         self.matrix = np.matrix(matrix_np) #criar uma nova cópia das originais\n",
    "        if(ncanais<1):\n",
    "            ncanais = int(len(matrix_np)/2)\n",
    "        self.ncanais = ncanais\n",
    "        self.canais = criar_canais(matrix_np,ncanais)\n",
    "        \n",
    "        self.matrix = matrix_np.tolist() # nova instância do tipo lista\n",
    "        self.caminhos = explorar_matrix(self.matrix) #aqui monta a árvore usando a matrix tipo lista\n",
    "        self.bloqueios = 0\n",
    "        self.sucesso = 0\n",
    "        self.sum_demandas = 0\n",
    "\n",
    "    def testa_canais(self,enlaces):# testa os 100% ocupados para exclusão da matriz\n",
    "        return sum(self.canais[no]) # Se todos os canais\n",
    "    \n",
    "    ########################## Conexão #################################\n",
    "    # calcula os enlaces que ligam a origem ao destino\n",
    "    def calc_enlaces(self,origem,destino):\n",
    "        caminho = self.caminhos[(origem,destino)]\n",
    "        rota = [par for par in zip(caminho,caminho[1:]) ]\n",
    "        print(\"canais:{}, origem:{}, destino:{}, rota:{}, caminho: {}\".format(self.ncanais,origem,destino,rota,caminho))\n",
    "        return rota    \n",
    "    \n",
    "    # Conecta origem e destino:\n",
    "    \n",
    "    def conectar(self,origem,destino):\n",
    "        ok=1\n",
    "        enlaces = self.calc_enlaces(origem,destino)\n",
    "\n",
    "        caminho = self.caminhos[(origem,destino)]\n",
    "        \n",
    "        # excluir adjacencias relativas aos canais interrompidos e recalcular os caminhos >Sob Demanda<\n",
    "        # ou seja, somente os caminhos que usam estes canais serão recalculados cada vez que necessário\n",
    "#         excluir = []\n",
    "        for o,d in enlaces:\n",
    "            if sum(self.canais[o,d]) == 0: #se igual a 0 todos os canais do enlace estão ocupados\n",
    "#                 excluir+=[(o,d),(d,o)]\n",
    "                self.matrix[o][d] = 0 #exclui enlaces com canais cheios da matriz\n",
    "                self.matrix[d][o] = 0\n",
    "        # Atualiza caminhos ida e volta\n",
    "        explorar_caminho((origem,destino,self.caminhos,self.matrix))\n",
    "        explorar_caminho((destino,origem,self.caminhos,self.matrix))\n",
    "        \n",
    "        enlaces = self.calc_enlaces(origem,destino)\n",
    "        for canal in range(self.ncanais): #canal 0..n\n",
    "            # Atribuição de espectro: FIRST FIT\n",
    "            for o,d in enlaces: #nó do caminho\n",
    "#                 print(self.canais)\n",
    "                ok = ok*self.canais[(o,d)][canal] # se zero == bloqueio\n",
    "#             self.sum_demandas+=1\n",
    "            if ok == 1:\n",
    "                for no in caminho: #no do caminho\n",
    "                    try:\n",
    "                        self.canais[(d,o)][canal] = 0 # marca canal do enlace como ocupado\n",
    "                        self.sum_demandas+=1 #caso possível a conexão aumenta a demanda\n",
    "                    except: #caminho inexistente\n",
    "                        print(\"bloqueio ({}, {})\".format(origem,destino))\n",
    "                        self.bloqueios += 1\n",
    "                        return (False,caminho)\n",
    "                        \n",
    "#                     if i > j:\n",
    "#                         self.demandas[(j,i)]+=1\n",
    "#                     else:\n",
    "#                         self.demandas[(i,j)]+=1    \n",
    "                self.sucesso += 1\n",
    "                return (True,caminho)\n",
    "            else:\n",
    "                ok=1\n",
    "        print(\"bloqueio ({}, {})\".format(origem,destino))\n",
    "        self.bloqueios += 1\n",
    "        return (False,caminho)\n",
    "    def wiener(self):\n",
    "        return wiener(self.caminhos,self.matrix)"
   ]
  },
  {
   "cell_type": "markdown",
   "metadata": {},
   "source": [
    "<p>Exemplo de uma rede pequena com dois canais com seu grau médio original provocava entre 3 e 4 bloqueio. vejamos o resultado ao incrementar duas vezes o grau.</p>"
   ]
  },
  {
   "cell_type": "code",
   "execution_count": 35,
   "metadata": {},
   "outputs": [
    {
     "name": "stdout",
     "output_type": "stream",
     "text": [
      "\n",
      "===========iteracao (0)============\n",
      "\n",
      "{(1, 0): [1, 0]}\n",
      "{(1, 0): [1, 0], (2, 0): [2, 0]}\n",
      "{(1, 0): [1, 0], (2, 0): [2, 0], (3, 0): [3, 1, 0]}\n",
      "{(1, 0): [1, 0], (2, 0): [2, 0], (3, 0): [3, 1, 0], (4, 0): [4, 3, 1, 0]}\n",
      "{(1, 0): [1, 0], (2, 0): [2, 0], (3, 0): [3, 1, 0], (4, 0): [4, 3, 1, 0], (5, 0): [5, 2, 0]}\n",
      "{(1, 0): [1, 0], (2, 0): [2, 0], (3, 0): [3, 1, 0], (4, 0): [4, 3, 1, 0], (5, 0): [5, 2, 0], (0, 1): [0, 1]}\n",
      "{(1, 0): [1, 0], (2, 0): [2, 0], (3, 0): [3, 1, 0], (4, 0): [4, 3, 1, 0], (5, 0): [5, 2, 0], (0, 1): [0, 1], (2, 1): [2, 0, 1]}\n",
      "{(1, 0): [1, 0], (2, 0): [2, 0], (3, 0): [3, 1, 0], (4, 0): [4, 3, 1, 0], (5, 0): [5, 2, 0], (0, 1): [0, 1], (2, 1): [2, 0, 1], (3, 1): [3, 1]}\n",
      "{(1, 0): [1, 0], (2, 0): [2, 0], (3, 0): [3, 1, 0], (4, 0): [4, 3, 1, 0], (5, 0): [5, 2, 0], (0, 1): [0, 1], (2, 1): [2, 0, 1], (3, 1): [3, 1], (4, 1): [4, 3, 1]}\n",
      "{(1, 0): [1, 0], (2, 0): [2, 0], (3, 0): [3, 1, 0], (4, 0): [4, 3, 1, 0], (5, 0): [5, 2, 0], (0, 1): [0, 1], (2, 1): [2, 0, 1], (3, 1): [3, 1], (4, 1): [4, 3, 1], (5, 1): [5, 2, 0, 1]}\n",
      "{(1, 0): [1, 0], (2, 0): [2, 0], (3, 0): [3, 1, 0], (4, 0): [4, 3, 1, 0], (5, 0): [5, 2, 0], (0, 1): [0, 1], (2, 1): [2, 0, 1], (3, 1): [3, 1], (4, 1): [4, 3, 1], (5, 1): [5, 2, 0, 1], (0, 2): [0, 2]}\n",
      "{(1, 0): [1, 0], (2, 0): [2, 0], (3, 0): [3, 1, 0], (4, 0): [4, 3, 1, 0], (5, 0): [5, 2, 0], (0, 1): [0, 1], (2, 1): [2, 0, 1], (3, 1): [3, 1], (4, 1): [4, 3, 1], (5, 1): [5, 2, 0, 1], (0, 2): [0, 2], (1, 2): [1, 0, 2]}\n",
      "{(1, 0): [1, 0], (2, 0): [2, 0], (3, 0): [3, 1, 0], (4, 0): [4, 3, 1, 0], (5, 0): [5, 2, 0], (0, 1): [0, 1], (2, 1): [2, 0, 1], (3, 1): [3, 1], (4, 1): [4, 3, 1], (5, 1): [5, 2, 0, 1], (0, 2): [0, 2], (1, 2): [1, 0, 2], (3, 2): [3, 2]}\n",
      "{(1, 0): [1, 0], (2, 0): [2, 0], (3, 0): [3, 1, 0], (4, 0): [4, 3, 1, 0], (5, 0): [5, 2, 0], (0, 1): [0, 1], (2, 1): [2, 0, 1], (3, 1): [3, 1], (4, 1): [4, 3, 1], (5, 1): [5, 2, 0, 1], (0, 2): [0, 2], (1, 2): [1, 0, 2], (3, 2): [3, 2], (4, 2): [4, 3, 2]}\n",
      "{(1, 0): [1, 0], (2, 0): [2, 0], (3, 0): [3, 1, 0], (4, 0): [4, 3, 1, 0], (5, 0): [5, 2, 0], (0, 1): [0, 1], (2, 1): [2, 0, 1], (3, 1): [3, 1], (4, 1): [4, 3, 1], (5, 1): [5, 2, 0, 1], (0, 2): [0, 2], (1, 2): [1, 0, 2], (3, 2): [3, 2], (4, 2): [4, 3, 2], (5, 2): [5, 2]}\n",
      "{(1, 0): [1, 0], (2, 0): [2, 0], (3, 0): [3, 1, 0], (4, 0): [4, 3, 1, 0], (5, 0): [5, 2, 0], (0, 1): [0, 1], (2, 1): [2, 0, 1], (3, 1): [3, 1], (4, 1): [4, 3, 1], (5, 1): [5, 2, 0, 1], (0, 2): [0, 2], (1, 2): [1, 0, 2], (3, 2): [3, 2], (4, 2): [4, 3, 2], (5, 2): [5, 2], (0, 3): [0, 1, 3]}\n",
      "{(1, 0): [1, 0], (2, 0): [2, 0], (3, 0): [3, 1, 0], (4, 0): [4, 3, 1, 0], (5, 0): [5, 2, 0], (0, 1): [0, 1], (2, 1): [2, 0, 1], (3, 1): [3, 1], (4, 1): [4, 3, 1], (5, 1): [5, 2, 0, 1], (0, 2): [0, 2], (1, 2): [1, 0, 2], (3, 2): [3, 2], (4, 2): [4, 3, 2], (5, 2): [5, 2], (0, 3): [0, 1, 3], (1, 3): [1, 3]}\n",
      "{(1, 0): [1, 0], (2, 0): [2, 0], (3, 0): [3, 1, 0], (4, 0): [4, 3, 1, 0], (5, 0): [5, 2, 0], (0, 1): [0, 1], (2, 1): [2, 0, 1], (3, 1): [3, 1], (4, 1): [4, 3, 1], (5, 1): [5, 2, 0, 1], (0, 2): [0, 2], (1, 2): [1, 0, 2], (3, 2): [3, 2], (4, 2): [4, 3, 2], (5, 2): [5, 2], (0, 3): [0, 1, 3], (1, 3): [1, 3], (2, 3): [2, 3]}\n",
      "{(1, 0): [1, 0], (2, 0): [2, 0], (3, 0): [3, 1, 0], (4, 0): [4, 3, 1, 0], (5, 0): [5, 2, 0], (0, 1): [0, 1], (2, 1): [2, 0, 1], (3, 1): [3, 1], (4, 1): [4, 3, 1], (5, 1): [5, 2, 0, 1], (0, 2): [0, 2], (1, 2): [1, 0, 2], (3, 2): [3, 2], (4, 2): [4, 3, 2], (5, 2): [5, 2], (0, 3): [0, 1, 3], (1, 3): [1, 3], (2, 3): [2, 3], (4, 3): [4, 3]}\n",
      "{(1, 0): [1, 0], (2, 0): [2, 0], (3, 0): [3, 1, 0], (4, 0): [4, 3, 1, 0], (5, 0): [5, 2, 0], (0, 1): [0, 1], (2, 1): [2, 0, 1], (3, 1): [3, 1], (4, 1): [4, 3, 1], (5, 1): [5, 2, 0, 1], (0, 2): [0, 2], (1, 2): [1, 0, 2], (3, 2): [3, 2], (4, 2): [4, 3, 2], (5, 2): [5, 2], (0, 3): [0, 1, 3], (1, 3): [1, 3], (2, 3): [2, 3], (4, 3): [4, 3], (5, 3): [5, 2, 3]}\n",
      "{(1, 0): [1, 0], (2, 0): [2, 0], (3, 0): [3, 1, 0], (4, 0): [4, 3, 1, 0], (5, 0): [5, 2, 0], (0, 1): [0, 1], (2, 1): [2, 0, 1], (3, 1): [3, 1], (4, 1): [4, 3, 1], (5, 1): [5, 2, 0, 1], (0, 2): [0, 2], (1, 2): [1, 0, 2], (3, 2): [3, 2], (4, 2): [4, 3, 2], (5, 2): [5, 2], (0, 3): [0, 1, 3], (1, 3): [1, 3], (2, 3): [2, 3], (4, 3): [4, 3], (5, 3): [5, 2, 3], (0, 4): [0, 1, 3, 4]}\n",
      "{(1, 0): [1, 0], (2, 0): [2, 0], (3, 0): [3, 1, 0], (4, 0): [4, 3, 1, 0], (5, 0): [5, 2, 0], (0, 1): [0, 1], (2, 1): [2, 0, 1], (3, 1): [3, 1], (4, 1): [4, 3, 1], (5, 1): [5, 2, 0, 1], (0, 2): [0, 2], (1, 2): [1, 0, 2], (3, 2): [3, 2], (4, 2): [4, 3, 2], (5, 2): [5, 2], (0, 3): [0, 1, 3], (1, 3): [1, 3], (2, 3): [2, 3], (4, 3): [4, 3], (5, 3): [5, 2, 3], (0, 4): [0, 1, 3, 4], (1, 4): [1, 3, 4]}\n",
      "{(1, 0): [1, 0], (2, 0): [2, 0], (3, 0): [3, 1, 0], (4, 0): [4, 3, 1, 0], (5, 0): [5, 2, 0], (0, 1): [0, 1], (2, 1): [2, 0, 1], (3, 1): [3, 1], (4, 1): [4, 3, 1], (5, 1): [5, 2, 0, 1], (0, 2): [0, 2], (1, 2): [1, 0, 2], (3, 2): [3, 2], (4, 2): [4, 3, 2], (5, 2): [5, 2], (0, 3): [0, 1, 3], (1, 3): [1, 3], (2, 3): [2, 3], (4, 3): [4, 3], (5, 3): [5, 2, 3], (0, 4): [0, 1, 3, 4], (1, 4): [1, 3, 4], (2, 4): [2, 3, 4]}\n",
      "{(1, 0): [1, 0], (2, 0): [2, 0], (3, 0): [3, 1, 0], (4, 0): [4, 3, 1, 0], (5, 0): [5, 2, 0], (0, 1): [0, 1], (2, 1): [2, 0, 1], (3, 1): [3, 1], (4, 1): [4, 3, 1], (5, 1): [5, 2, 0, 1], (0, 2): [0, 2], (1, 2): [1, 0, 2], (3, 2): [3, 2], (4, 2): [4, 3, 2], (5, 2): [5, 2], (0, 3): [0, 1, 3], (1, 3): [1, 3], (2, 3): [2, 3], (4, 3): [4, 3], (5, 3): [5, 2, 3], (0, 4): [0, 1, 3, 4], (1, 4): [1, 3, 4], (2, 4): [2, 3, 4], (3, 4): [3, 4]}\n",
      "{(1, 0): [1, 0], (2, 0): [2, 0], (3, 0): [3, 1, 0], (4, 0): [4, 3, 1, 0], (5, 0): [5, 2, 0], (0, 1): [0, 1], (2, 1): [2, 0, 1], (3, 1): [3, 1], (4, 1): [4, 3, 1], (5, 1): [5, 2, 0, 1], (0, 2): [0, 2], (1, 2): [1, 0, 2], (3, 2): [3, 2], (4, 2): [4, 3, 2], (5, 2): [5, 2], (0, 3): [0, 1, 3], (1, 3): [1, 3], (2, 3): [2, 3], (4, 3): [4, 3], (5, 3): [5, 2, 3], (0, 4): [0, 1, 3, 4], (1, 4): [1, 3, 4], (2, 4): [2, 3, 4], (3, 4): [3, 4], (5, 4): [5, 4]}\n",
      "{(1, 0): [1, 0], (2, 0): [2, 0], (3, 0): [3, 1, 0], (4, 0): [4, 3, 1, 0], (5, 0): [5, 2, 0], (0, 1): [0, 1], (2, 1): [2, 0, 1], (3, 1): [3, 1], (4, 1): [4, 3, 1], (5, 1): [5, 2, 0, 1], (0, 2): [0, 2], (1, 2): [1, 0, 2], (3, 2): [3, 2], (4, 2): [4, 3, 2], (5, 2): [5, 2], (0, 3): [0, 1, 3], (1, 3): [1, 3], (2, 3): [2, 3], (4, 3): [4, 3], (5, 3): [5, 2, 3], (0, 4): [0, 1, 3, 4], (1, 4): [1, 3, 4], (2, 4): [2, 3, 4], (3, 4): [3, 4], (5, 4): [5, 4], (0, 5): [0, 2, 5]}\n",
      "{(1, 0): [1, 0], (2, 0): [2, 0], (3, 0): [3, 1, 0], (4, 0): [4, 3, 1, 0], (5, 0): [5, 2, 0], (0, 1): [0, 1], (2, 1): [2, 0, 1], (3, 1): [3, 1], (4, 1): [4, 3, 1], (5, 1): [5, 2, 0, 1], (0, 2): [0, 2], (1, 2): [1, 0, 2], (3, 2): [3, 2], (4, 2): [4, 3, 2], (5, 2): [5, 2], (0, 3): [0, 1, 3], (1, 3): [1, 3], (2, 3): [2, 3], (4, 3): [4, 3], (5, 3): [5, 2, 3], (0, 4): [0, 1, 3, 4], (1, 4): [1, 3, 4], (2, 4): [2, 3, 4], (3, 4): [3, 4], (5, 4): [5, 4], (0, 5): [0, 2, 5], (1, 5): [1, 0, 2, 5]}\n",
      "{(1, 0): [1, 0], (2, 0): [2, 0], (3, 0): [3, 1, 0], (4, 0): [4, 3, 1, 0], (5, 0): [5, 2, 0], (0, 1): [0, 1], (2, 1): [2, 0, 1], (3, 1): [3, 1], (4, 1): [4, 3, 1], (5, 1): [5, 2, 0, 1], (0, 2): [0, 2], (1, 2): [1, 0, 2], (3, 2): [3, 2], (4, 2): [4, 3, 2], (5, 2): [5, 2], (0, 3): [0, 1, 3], (1, 3): [1, 3], (2, 3): [2, 3], (4, 3): [4, 3], (5, 3): [5, 2, 3], (0, 4): [0, 1, 3, 4], (1, 4): [1, 3, 4], (2, 4): [2, 3, 4], (3, 4): [3, 4], (5, 4): [5, 4], (0, 5): [0, 2, 5], (1, 5): [1, 0, 2, 5], (2, 5): [2, 5]}\n",
      "{(1, 0): [1, 0], (2, 0): [2, 0], (3, 0): [3, 1, 0], (4, 0): [4, 3, 1, 0], (5, 0): [5, 2, 0], (0, 1): [0, 1], (2, 1): [2, 0, 1], (3, 1): [3, 1], (4, 1): [4, 3, 1], (5, 1): [5, 2, 0, 1], (0, 2): [0, 2], (1, 2): [1, 0, 2], (3, 2): [3, 2], (4, 2): [4, 3, 2], (5, 2): [5, 2], (0, 3): [0, 1, 3], (1, 3): [1, 3], (2, 3): [2, 3], (4, 3): [4, 3], (5, 3): [5, 2, 3], (0, 4): [0, 1, 3, 4], (1, 4): [1, 3, 4], (2, 4): [2, 3, 4], (3, 4): [3, 4], (5, 4): [5, 4], (0, 5): [0, 2, 5], (1, 5): [1, 0, 2, 5], (2, 5): [2, 5], (3, 5): [3, 2, 5]}\n",
      "{(1, 0): [1, 0], (2, 0): [2, 0], (3, 0): [3, 1, 0], (4, 0): [4, 3, 1, 0], (5, 0): [5, 2, 0], (0, 1): [0, 1], (2, 1): [2, 0, 1], (3, 1): [3, 1], (4, 1): [4, 3, 1], (5, 1): [5, 2, 0, 1], (0, 2): [0, 2], (1, 2): [1, 0, 2], (3, 2): [3, 2], (4, 2): [4, 3, 2], (5, 2): [5, 2], (0, 3): [0, 1, 3], (1, 3): [1, 3], (2, 3): [2, 3], (4, 3): [4, 3], (5, 3): [5, 2, 3], (0, 4): [0, 1, 3, 4], (1, 4): [1, 3, 4], (2, 4): [2, 3, 4], (3, 4): [3, 4], (5, 4): [5, 4], (0, 5): [0, 2, 5], (1, 5): [1, 0, 2, 5], (2, 5): [2, 5], (3, 5): [3, 2, 5], (4, 5): [4, 5]}\n",
      "wiener antes: 25\n",
      "canais:2, origem:0, destino:1, rota:[(0, 1)], caminho: [0, 1]\n",
      "{(1, 0): [1, 0], (2, 0): [2, 0], (3, 0): [3, 1, 0], (4, 0): [4, 3, 1, 0], (5, 0): [5, 2, 0], (0, 1): [0, 1], (2, 1): [2, 0, 1], (3, 1): [3, 1], (4, 1): [4, 3, 1], (5, 1): [5, 2, 0, 1], (0, 2): [0, 2], (1, 2): [1, 0, 2], (3, 2): [3, 2], (4, 2): [4, 3, 2], (5, 2): [5, 2], (0, 3): [0, 1, 3], (1, 3): [1, 3], (2, 3): [2, 3], (4, 3): [4, 3], (5, 3): [5, 2, 3], (0, 4): [0, 1, 3, 4], (1, 4): [1, 3, 4], (2, 4): [2, 3, 4], (3, 4): [3, 4], (5, 4): [5, 4], (0, 5): [0, 2, 5], (1, 5): [1, 0, 2, 5], (2, 5): [2, 5], (3, 5): [3, 2, 5], (4, 5): [4, 5]}\n",
      "{(1, 0): [1, 0], (2, 0): [2, 0], (3, 0): [3, 1, 0], (4, 0): [4, 3, 1, 0], (5, 0): [5, 2, 0], (0, 1): [0, 1], (2, 1): [2, 0, 1], (3, 1): [3, 1], (4, 1): [4, 3, 1], (5, 1): [5, 2, 0, 1], (0, 2): [0, 2], (1, 2): [1, 0, 2], (3, 2): [3, 2], (4, 2): [4, 3, 2], (5, 2): [5, 2], (0, 3): [0, 1, 3], (1, 3): [1, 3], (2, 3): [2, 3], (4, 3): [4, 3], (5, 3): [5, 2, 3], (0, 4): [0, 1, 3, 4], (1, 4): [1, 3, 4], (2, 4): [2, 3, 4], (3, 4): [3, 4], (5, 4): [5, 4], (0, 5): [0, 2, 5], (1, 5): [1, 0, 2, 5], (2, 5): [2, 5], (3, 5): [3, 2, 5], (4, 5): [4, 5]}\n",
      "canais:2, origem:0, destino:1, rota:[(0, 1)], caminho: [0, 1]\n",
      "canais:2, origem:0, destino:2, rota:[(0, 2)], caminho: [0, 2]\n",
      "{(1, 0): [1, 0], (2, 0): [2, 0], (3, 0): [3, 1, 0], (4, 0): [4, 3, 1, 0], (5, 0): [5, 2, 0], (0, 1): [0, 1], (2, 1): [2, 0, 1], (3, 1): [3, 1], (4, 1): [4, 3, 1], (5, 1): [5, 2, 0, 1], (0, 2): [0, 2], (1, 2): [1, 0, 2], (3, 2): [3, 2], (4, 2): [4, 3, 2], (5, 2): [5, 2], (0, 3): [0, 1, 3], (1, 3): [1, 3], (2, 3): [2, 3], (4, 3): [4, 3], (5, 3): [5, 2, 3], (0, 4): [0, 1, 3, 4], (1, 4): [1, 3, 4], (2, 4): [2, 3, 4], (3, 4): [3, 4], (5, 4): [5, 4], (0, 5): [0, 2, 5], (1, 5): [1, 0, 2, 5], (2, 5): [2, 5], (3, 5): [3, 2, 5], (4, 5): [4, 5]}\n",
      "{(1, 0): [1, 0], (2, 0): [2, 0], (3, 0): [3, 1, 0], (4, 0): [4, 3, 1, 0], (5, 0): [5, 2, 0], (0, 1): [0, 1], (2, 1): [2, 0, 1], (3, 1): [3, 1], (4, 1): [4, 3, 1], (5, 1): [5, 2, 0, 1], (0, 2): [0, 2], (1, 2): [1, 0, 2], (3, 2): [3, 2], (4, 2): [4, 3, 2], (5, 2): [5, 2], (0, 3): [0, 1, 3], (1, 3): [1, 3], (2, 3): [2, 3], (4, 3): [4, 3], (5, 3): [5, 2, 3], (0, 4): [0, 1, 3, 4], (1, 4): [1, 3, 4], (2, 4): [2, 3, 4], (3, 4): [3, 4], (5, 4): [5, 4], (0, 5): [0, 2, 5], (1, 5): [1, 0, 2, 5], (2, 5): [2, 5], (3, 5): [3, 2, 5], (4, 5): [4, 5]}\n",
      "canais:2, origem:0, destino:2, rota:[(0, 2)], caminho: [0, 2]\n",
      "canais:2, origem:0, destino:3, rota:[(0, 1), (1, 3)], caminho: [0, 1, 3]\n",
      "{(1, 0): [1, 0], (2, 0): [2, 0], (3, 0): [3, 1, 0], (4, 0): [4, 3, 1, 0], (5, 0): [5, 2, 0], (0, 1): [0, 1], (2, 1): [2, 0, 1], (3, 1): [3, 1], (4, 1): [4, 3, 1], (5, 1): [5, 2, 0, 1], (0, 2): [0, 2], (1, 2): [1, 0, 2], (3, 2): [3, 2], (4, 2): [4, 3, 2], (5, 2): [5, 2], (0, 3): [0, 1, 3], (1, 3): [1, 3], (2, 3): [2, 3], (4, 3): [4, 3], (5, 3): [5, 2, 3], (0, 4): [0, 1, 3, 4], (1, 4): [1, 3, 4], (2, 4): [2, 3, 4], (3, 4): [3, 4], (5, 4): [5, 4], (0, 5): [0, 2, 5], (1, 5): [1, 0, 2, 5], (2, 5): [2, 5], (3, 5): [3, 2, 5], (4, 5): [4, 5]}\n",
      "{(1, 0): [1, 0], (2, 0): [2, 0], (3, 0): [3, 1, 0], (4, 0): [4, 3, 1, 0], (5, 0): [5, 2, 0], (0, 1): [0, 1], (2, 1): [2, 0, 1], (3, 1): [3, 1], (4, 1): [4, 3, 1], (5, 1): [5, 2, 0, 1], (0, 2): [0, 2], (1, 2): [1, 0, 2], (3, 2): [3, 2], (4, 2): [4, 3, 2], (5, 2): [5, 2], (0, 3): [0, 1, 3], (1, 3): [1, 3], (2, 3): [2, 3], (4, 3): [4, 3], (5, 3): [5, 2, 3], (0, 4): [0, 1, 3, 4], (1, 4): [1, 3, 4], (2, 4): [2, 3, 4], (3, 4): [3, 4], (5, 4): [5, 4], (0, 5): [0, 2, 5], (1, 5): [1, 0, 2, 5], (2, 5): [2, 5], (3, 5): [3, 2, 5], (4, 5): [4, 5]}\n",
      "canais:2, origem:0, destino:3, rota:[(0, 1), (1, 3)], caminho: [0, 1, 3]\n",
      "canais:2, origem:0, destino:4, rota:[(0, 1), (1, 3), (3, 4)], caminho: [0, 1, 3, 4]\n",
      "{(1, 0): [1, 0], (2, 0): [2, 0], (3, 0): [3, 1, 0], (4, 0): [4, 3, 1, 0], (5, 0): [5, 2, 0], (0, 1): [0, 1], (2, 1): [2, 0, 1], (3, 1): [3, 1], (4, 1): [4, 3, 1], (5, 1): [5, 2, 0, 1], (0, 2): [0, 2], (1, 2): [1, 0, 2], (3, 2): [3, 2], (4, 2): [4, 3, 2], (5, 2): [5, 2], (0, 3): [0, 1, 3], (1, 3): [1, 3], (2, 3): [2, 3], (4, 3): [4, 3], (5, 3): [5, 2, 3], (0, 4): [0, 1, 3, 4], (1, 4): [1, 3, 4], (2, 4): [2, 3, 4], (3, 4): [3, 4], (5, 4): [5, 4], (0, 5): [0, 2, 5], (1, 5): [1, 0, 2, 5], (2, 5): [2, 5], (3, 5): [3, 2, 5], (4, 5): [4, 5]}\n",
      "{(1, 0): [1, 0], (2, 0): [2, 0], (3, 0): [3, 1, 0], (4, 0): [4, 3, 1, 0], (5, 0): [5, 2, 0], (0, 1): [0, 1], (2, 1): [2, 0, 1], (3, 1): [3, 1], (4, 1): [4, 3, 1], (5, 1): [5, 2, 0, 1], (0, 2): [0, 2], (1, 2): [1, 0, 2], (3, 2): [3, 2], (4, 2): [4, 3, 2], (5, 2): [5, 2], (0, 3): [0, 1, 3], (1, 3): [1, 3], (2, 3): [2, 3], (4, 3): [4, 3], (5, 3): [5, 2, 3], (0, 4): [0, 1, 3, 4], (1, 4): [1, 3, 4], (2, 4): [2, 3, 4], (3, 4): [3, 4], (5, 4): [5, 4], (0, 5): [0, 2, 5], (1, 5): [1, 0, 2, 5], (2, 5): [2, 5], (3, 5): [3, 2, 5], (4, 5): [4, 5]}\n",
      "canais:2, origem:0, destino:4, rota:[(0, 1), (1, 3), (3, 4)], caminho: [0, 1, 3, 4]\n",
      "bloqueio (0, 4)\n",
      "canais:2, origem:0, destino:5, rota:[(0, 2), (2, 5)], caminho: [0, 2, 5]\n",
      "{(1, 0): [1, 0], (2, 0): [2, 0], (3, 0): [3, 1, 0], (4, 0): [4, 3, 1, 0], (5, 0): [5, 2, 0], (0, 1): [0, 1], (2, 1): [2, 0, 1], (3, 1): [3, 1], (4, 1): [4, 3, 1], (5, 1): [5, 2, 0, 1], (0, 2): [0, 2], (1, 2): [1, 0, 2], (3, 2): [3, 2], (4, 2): [4, 3, 2], (5, 2): [5, 2], (0, 3): [0, 1, 3], (1, 3): [1, 3], (2, 3): [2, 3], (4, 3): [4, 3], (5, 3): [5, 2, 3], (0, 4): [0, 1, 3, 4], (1, 4): [1, 3, 4], (2, 4): [2, 3, 4], (3, 4): [3, 4], (5, 4): [5, 4], (0, 5): [0, 2, 5], (1, 5): [1, 0, 2, 5], (2, 5): [2, 5], (3, 5): [3, 2, 5], (4, 5): [4, 5]}\n",
      "{(1, 0): [1, 0], (2, 0): [2, 0], (3, 0): [3, 1, 0], (4, 0): [4, 3, 1, 0], (5, 0): [5, 2, 0], (0, 1): [0, 1], (2, 1): [2, 0, 1], (3, 1): [3, 1], (4, 1): [4, 3, 1], (5, 1): [5, 2, 0, 1], (0, 2): [0, 2], (1, 2): [1, 0, 2], (3, 2): [3, 2], (4, 2): [4, 3, 2], (5, 2): [5, 2], (0, 3): [0, 1, 3], (1, 3): [1, 3], (2, 3): [2, 3], (4, 3): [4, 3], (5, 3): [5, 2, 3], (0, 4): [0, 1, 3, 4], (1, 4): [1, 3, 4], (2, 4): [2, 3, 4], (3, 4): [3, 4], (5, 4): [5, 4], (0, 5): [0, 2, 5], (1, 5): [1, 0, 2, 5], (2, 5): [2, 5], (3, 5): [3, 2, 5], (4, 5): [4, 5]}\n",
      "canais:2, origem:0, destino:5, rota:[(0, 2), (2, 5)], caminho: [0, 2, 5]\n",
      "canais:2, origem:1, destino:2, rota:[(1, 0), (0, 2)], caminho: [1, 0, 2]\n",
      "{(1, 0): [1, 0], (2, 0): [2, 0], (3, 0): [3, 1, 0], (4, 0): [4, 3, 1, 0], (5, 0): [5, 2, 0], (0, 1): [0, 1], (2, 1): [2, 0, 1], (3, 1): [3, 1], (4, 1): [4, 3, 1], (5, 1): [5, 2, 0, 1], (0, 2): [0, 2], (1, 2): [1, 0, 2], (3, 2): [3, 2], (4, 2): [4, 3, 2], (5, 2): [5, 2], (0, 3): [0, 1, 3], (1, 3): [1, 3], (2, 3): [2, 3], (4, 3): [4, 3], (5, 3): [5, 2, 3], (0, 4): [0, 1, 3, 4], (1, 4): [1, 3, 4], (2, 4): [2, 3, 4], (3, 4): [3, 4], (5, 4): [5, 4], (0, 5): [0, 2, 5], (1, 5): [1, 0, 2, 5], (2, 5): [2, 5], (3, 5): [3, 2, 5], (4, 5): [4, 5]}\n",
      "{(1, 0): [1, 0], (2, 0): [2, 0], (3, 0): [3, 1, 0], (4, 0): [4, 3, 1, 0], (5, 0): [5, 2, 0], (0, 1): [0, 1], (2, 1): [2, 0, 1], (3, 1): [3, 1], (4, 1): [4, 3, 1], (5, 1): [5, 2, 0, 1], (0, 2): [0, 2], (1, 2): [1, 0, 2], (3, 2): [3, 2], (4, 2): [4, 3, 2], (5, 2): [5, 2], (0, 3): [0, 1, 3], (1, 3): [1, 3], (2, 3): [2, 3], (4, 3): [4, 3], (5, 3): [5, 2, 3], (0, 4): [0, 1, 3, 4], (1, 4): [1, 3, 4], (2, 4): [2, 3, 4], (3, 4): [3, 4], (5, 4): [5, 4], (0, 5): [0, 2, 5], (1, 5): [1, 0, 2, 5], (2, 5): [2, 5], (3, 5): [3, 2, 5], (4, 5): [4, 5]}\n",
      "canais:2, origem:1, destino:2, rota:[(1, 0), (0, 2)], caminho: [1, 0, 2]\n",
      "canais:2, origem:1, destino:3, rota:[(1, 3)], caminho: [1, 3]\n",
      "{(1, 0): [1, 0], (2, 0): [2, 0], (3, 0): [3, 1, 0], (4, 0): [4, 3, 1, 0], (5, 0): [5, 2, 0], (0, 1): [0, 1], (2, 1): [2, 0, 1], (3, 1): [3, 1], (4, 1): [4, 3, 1], (5, 1): [5, 2, 0, 1], (0, 2): [0, 2], (1, 2): [1, 0, 2], (3, 2): [3, 2], (4, 2): [4, 3, 2], (5, 2): [5, 2], (0, 3): [0, 1, 3], (1, 3): [1, 3], (2, 3): [2, 3], (4, 3): [4, 3], (5, 3): [5, 2, 3], (0, 4): [0, 1, 3, 4], (1, 4): [1, 3, 4], (2, 4): [2, 3, 4], (3, 4): [3, 4], (5, 4): [5, 4], (0, 5): [0, 2, 5], (1, 5): [1, 0, 2, 5], (2, 5): [2, 5], (3, 5): [3, 2, 5], (4, 5): [4, 5]}\n",
      "{(1, 0): [1, 0], (2, 0): [2, 0], (3, 0): [3, 1, 0], (4, 0): [4, 3, 1, 0], (5, 0): [5, 2, 0], (0, 1): [0, 1], (2, 1): [2, 0, 1], (3, 1): [3, 1], (4, 1): [4, 3, 1], (5, 1): [5, 2, 0, 1], (0, 2): [0, 2], (1, 2): [1, 0, 2], (3, 2): [3, 2], (4, 2): [4, 3, 2], (5, 2): [5, 2], (0, 3): [0, 1, 3], (1, 3): [1, 3], (2, 3): [2, 3], (4, 3): [4, 3], (5, 3): [5, 2, 3], (0, 4): [0, 1, 3, 4], (1, 4): [1, 3, 4], (2, 4): [2, 3, 4], (3, 4): [3, 4], (5, 4): [5, 4], (0, 5): [0, 2, 5], (1, 5): [1, 0, 2, 5], (2, 5): [2, 5], (3, 5): [3, 2, 5], (4, 5): [4, 5]}\n",
      "canais:2, origem:1, destino:3, rota:[(1, 3)], caminho: [1, 3]\n",
      "canais:2, origem:1, destino:4, rota:[(1, 3), (3, 4)], caminho: [1, 3, 4]\n",
      "{(1, 0): [1, 0], (2, 0): [2, 0], (3, 0): [3, 1, 0], (4, 0): [4, 3, 1, 0], (5, 0): [5, 2, 0], (0, 1): [0, 1], (2, 1): [2, 0, 1], (3, 1): [3, 1], (4, 1): [4, 3, 2, 0, 1], (5, 1): [5, 2, 0, 1], (0, 2): [0, 2], (1, 2): [1, 0, 2], (3, 2): [3, 2], (4, 2): [4, 3, 2], (5, 2): [5, 2], (0, 3): [0, 1, 3], (1, 3): [1, 3], (2, 3): [2, 3], (4, 3): [4, 3], (5, 3): [5, 2, 3], (0, 4): [0, 1, 3, 4], (1, 4): [1, 3, 4], (2, 4): [2, 3, 4], (3, 4): [3, 4], (5, 4): [5, 4], (0, 5): [0, 2, 5], (1, 5): [1, 0, 2, 5], (2, 5): [2, 5], (3, 5): [3, 2, 5], (4, 5): [4, 5]}\n",
      "{(1, 0): [1, 0], (2, 0): [2, 0], (3, 0): [3, 1, 0], (4, 0): [4, 3, 1, 0], (5, 0): [5, 2, 0], (0, 1): [0, 1], (2, 1): [2, 0, 1], (3, 1): [3, 1], (4, 1): [4, 3, 2, 0, 1], (5, 1): [5, 2, 0, 1], (0, 2): [0, 2], (1, 2): [1, 0, 2], (3, 2): [3, 2], (4, 2): [4, 3, 2], (5, 2): [5, 2], (0, 3): [0, 1, 3], (1, 3): [1, 3], (2, 3): [2, 3], (4, 3): [4, 3], (5, 3): [5, 2, 3], (0, 4): [0, 1, 3, 4], (1, 4): [1, 0, 2, 3, 4], (2, 4): [2, 3, 4], (3, 4): [3, 4], (5, 4): [5, 4], (0, 5): [0, 2, 5], (1, 5): [1, 0, 2, 5], (2, 5): [2, 5], (3, 5): [3, 2, 5], (4, 5): [4, 5]}\n",
      "canais:2, origem:1, destino:4, rota:[(1, 0), (0, 2), (2, 3), (3, 4)], caminho: [1, 0, 2, 3, 4]\n",
      "bloqueio (1, 4)\n",
      "canais:2, origem:1, destino:5, rota:[(1, 0), (0, 2), (2, 5)], caminho: [1, 0, 2, 5]\n",
      "{(1, 0): [1, 0], (2, 0): [2, 0], (3, 0): [3, 1, 0], (4, 0): [4, 3, 1, 0], (5, 0): [5, 2, 0], (0, 1): [0, 1], (2, 1): [2, 0, 1], (3, 1): [3, 1], (4, 1): [4, 3, 2, 0, 1], (5, 1): [5, 2], (0, 2): [0, 2], (1, 2): [1, 0, 2], (3, 2): [3, 2], (4, 2): [4, 3, 2], (5, 2): [5, 2], (0, 3): [0, 1, 3], (1, 3): [1, 3], (2, 3): [2, 3], (4, 3): [4, 3], (5, 3): [5, 2, 3], (0, 4): [0, 1, 3, 4], (1, 4): [1, 0, 2, 3, 4], (2, 4): [2, 3, 4], (3, 4): [3, 4], (5, 4): [5, 4], (0, 5): [0, 2, 5], (1, 5): [1, 0, 2, 5], (2, 5): [2, 5], (3, 5): [3, 2, 5], (4, 5): [4, 5]}\n",
      "{(1, 0): [1, 0], (2, 0): [2, 0], (3, 0): [3, 1, 0], (4, 0): [4, 3, 1, 0], (5, 0): [5, 2, 0], (0, 1): [0, 1], (2, 1): [2, 0, 1], (3, 1): [3, 1], (4, 1): [4, 3, 2, 0, 1], (5, 1): [5, 2], (0, 2): [0, 2], (1, 2): [1, 0, 2], (3, 2): [3, 2], (4, 2): [4, 3, 2], (5, 2): [5, 2], (0, 3): [0, 1, 3], (1, 3): [1, 3], (2, 3): [2, 3], (4, 3): [4, 3], (5, 3): [5, 2, 3], (0, 4): [0, 1, 3, 4], (1, 4): [1, 0, 2, 3, 4], (2, 4): [2, 3, 4], (3, 4): [3, 4], (5, 4): [5, 4], (0, 5): [0, 2, 5], (1, 5): [1, 0], (2, 5): [2, 5], (3, 5): [3, 2, 5], (4, 5): [4, 5]}\n",
      "canais:2, origem:1, destino:5, rota:[(1, 0)], caminho: [1, 0]\n",
      "canais:2, origem:2, destino:3, rota:[(2, 3)], caminho: [2, 3]\n",
      "{(1, 0): [1, 0], (2, 0): [2, 0], (3, 0): [3, 1, 0], (4, 0): [4, 3, 1, 0], (5, 0): [5, 2, 0], (0, 1): [0, 1], (2, 1): [2, 0, 1], (3, 1): [3, 1], (4, 1): [4, 3, 2, 0, 1], (5, 1): [5, 2], (0, 2): [0, 2], (1, 2): [1, 0, 2], (3, 2): [3, 2], (4, 2): [4, 3, 2], (5, 2): [5, 2], (0, 3): [0, 1, 3], (1, 3): [1, 3], (2, 3): [2, 3], (4, 3): [4, 3], (5, 3): [5, 2, 3], (0, 4): [0, 1, 3, 4], (1, 4): [1, 0, 2, 3, 4], (2, 4): [2, 3, 4], (3, 4): [3, 4], (5, 4): [5, 4], (0, 5): [0, 2, 5], (1, 5): [1, 0], (2, 5): [2, 5], (3, 5): [3, 2, 5], (4, 5): [4, 5]}\n",
      "{(1, 0): [1, 0], (2, 0): [2, 0], (3, 0): [3, 1, 0], (4, 0): [4, 3, 1, 0], (5, 0): [5, 2, 0], (0, 1): [0, 1], (2, 1): [2, 0, 1], (3, 1): [3, 1], (4, 1): [4, 3, 2, 0, 1], (5, 1): [5, 2], (0, 2): [0, 2], (1, 2): [1, 0, 2], (3, 2): [3, 2], (4, 2): [4, 3, 2], (5, 2): [5, 2], (0, 3): [0, 1, 3], (1, 3): [1, 3], (2, 3): [2, 3], (4, 3): [4, 3], (5, 3): [5, 2, 3], (0, 4): [0, 1, 3, 4], (1, 4): [1, 0, 2, 3, 4], (2, 4): [2, 3, 4], (3, 4): [3, 4], (5, 4): [5, 4], (0, 5): [0, 2, 5], (1, 5): [1, 0], (2, 5): [2, 5], (3, 5): [3, 2, 5], (4, 5): [4, 5]}\n",
      "canais:2, origem:2, destino:3, rota:[(2, 3)], caminho: [2, 3]\n",
      "canais:2, origem:2, destino:4, rota:[(2, 3), (3, 4)], caminho: [2, 3, 4]\n",
      "{(1, 0): [1, 0], (2, 0): [2, 0], (3, 0): [3, 1, 0], (4, 0): [4, 3, 1, 0], (5, 0): [5, 2, 0], (0, 1): [0, 1], (2, 1): [2, 0, 1], (3, 1): [3, 1], (4, 1): [4, 3, 2, 0, 1], (5, 1): [5, 2], (0, 2): [0, 2], (1, 2): [1, 0, 2], (3, 2): [3, 2], (4, 2): [4, 3, 2], (5, 2): [5, 2], (0, 3): [0, 1, 3], (1, 3): [1, 3], (2, 3): [2, 3], (4, 3): [4, 3], (5, 3): [5, 2, 3], (0, 4): [0, 1, 3, 4], (1, 4): [1, 0, 2, 3, 4], (2, 4): [2, 3, 4], (3, 4): [3, 4], (5, 4): [5, 4], (0, 5): [0, 2, 5], (1, 5): [1, 0], (2, 5): [2, 5], (3, 5): [3, 2, 5], (4, 5): [4, 5]}\n",
      "{(1, 0): [1, 0], (2, 0): [2, 0], (3, 0): [3, 1, 0], (4, 0): [4, 3, 1, 0], (5, 0): [5, 2, 0], (0, 1): [0, 1], (2, 1): [2, 0, 1], (3, 1): [3, 1], (4, 1): [4, 3, 2, 0, 1], (5, 1): [5, 2], (0, 2): [0, 2], (1, 2): [1, 0, 2], (3, 2): [3, 2], (4, 2): [4, 3, 2], (5, 2): [5, 2], (0, 3): [0, 1, 3], (1, 3): [1, 3], (2, 3): [2, 3], (4, 3): [4, 3], (5, 3): [5, 2, 3], (0, 4): [0, 1, 3, 4], (1, 4): [1, 0, 2, 3, 4], (2, 4): [2, 3, 4], (3, 4): [3, 4], (5, 4): [5, 4], (0, 5): [0, 2, 5], (1, 5): [1, 0], (2, 5): [2, 5], (3, 5): [3, 2, 5], (4, 5): [4, 5]}\n",
      "canais:2, origem:2, destino:4, rota:[(2, 3), (3, 4)], caminho: [2, 3, 4]\n",
      "canais:2, origem:2, destino:5, rota:[(2, 5)], caminho: [2, 5]\n",
      "{(1, 0): [1, 0], (2, 0): [2, 0], (3, 0): [3, 1, 0], (4, 0): [4, 3, 1, 0], (5, 0): [5, 2, 0], (0, 1): [0, 1], (2, 1): [2, 0, 1], (3, 1): [3, 1], (4, 1): [4, 3, 2, 0, 1], (5, 1): [5, 2], (0, 2): [0, 2], (1, 2): [1, 0, 2], (3, 2): [3, 2], (4, 2): [4, 3, 2], (5, 2): [5, 2], (0, 3): [0, 1, 3], (1, 3): [1, 3], (2, 3): [2, 3], (4, 3): [4, 3], (5, 3): [5, 2, 3], (0, 4): [0, 1, 3, 4], (1, 4): [1, 0, 2, 3, 4], (2, 4): [2, 3, 4], (3, 4): [3, 4], (5, 4): [5, 4], (0, 5): [0, 2, 5], (1, 5): [1, 0], (2, 5): [2, 5], (3, 5): [3, 2, 5], (4, 5): [4, 5]}\n",
      "{(1, 0): [1, 0], (2, 0): [2, 0], (3, 0): [3, 1, 0], (4, 0): [4, 3, 1, 0], (5, 0): [5, 2, 0], (0, 1): [0, 1], (2, 1): [2, 0, 1], (3, 1): [3, 1], (4, 1): [4, 3, 2, 0, 1], (5, 1): [5, 2], (0, 2): [0, 2], (1, 2): [1, 0, 2], (3, 2): [3, 2], (4, 2): [4, 3, 2], (5, 2): [5, 2], (0, 3): [0, 1, 3], (1, 3): [1, 3], (2, 3): [2, 3], (4, 3): [4, 3], (5, 3): [5, 2, 3], (0, 4): [0, 1, 3, 4], (1, 4): [1, 0, 2, 3, 4], (2, 4): [2, 3, 4], (3, 4): [3, 4], (5, 4): [5, 4], (0, 5): [0, 2, 5], (1, 5): [1, 0], (2, 5): [2, 5], (3, 5): [3, 2, 5], (4, 5): [4, 5]}\n",
      "canais:2, origem:2, destino:5, rota:[(2, 5)], caminho: [2, 5]\n",
      "canais:2, origem:3, destino:4, rota:[(3, 4)], caminho: [3, 4]\n",
      "{(1, 0): [1, 0], (2, 0): [2, 0], (3, 0): [3, 1, 0], (4, 0): [4, 3, 1, 0], (5, 0): [5, 2, 0], (0, 1): [0, 1], (2, 1): [2, 0, 1], (3, 1): [3, 1], (4, 1): [4, 3, 2, 0, 1], (5, 1): [5, 2], (0, 2): [0, 2], (1, 2): [1, 0, 2], (3, 2): [3, 2], (4, 2): [4, 3, 2], (5, 2): [5, 2], (0, 3): [0, 1, 3], (1, 3): [1, 3], (2, 3): [2, 3], (4, 3): [4, 3], (5, 3): [5, 2, 3], (0, 4): [0, 1, 3, 4], (1, 4): [1, 0, 2, 3, 4], (2, 4): [2, 3, 4], (3, 4): [3, 4], (5, 4): [5, 4], (0, 5): [0, 2, 5], (1, 5): [1, 0], (2, 5): [2, 5], (3, 5): [3, 2, 5], (4, 5): [4, 5]}\n",
      "{(1, 0): [1, 0], (2, 0): [2, 0], (3, 0): [3, 1, 0], (4, 0): [4, 3, 1, 0], (5, 0): [5, 2, 0], (0, 1): [0, 1], (2, 1): [2, 0, 1], (3, 1): [3, 1], (4, 1): [4, 3, 2, 0, 1], (5, 1): [5, 2], (0, 2): [0, 2], (1, 2): [1, 0, 2], (3, 2): [3, 2], (4, 2): [4, 3, 2], (5, 2): [5, 2], (0, 3): [0, 1, 3], (1, 3): [1, 3], (2, 3): [2, 3], (4, 3): [4, 3], (5, 3): [5, 2, 3], (0, 4): [0, 1, 3, 4], (1, 4): [1, 0, 2, 3, 4], (2, 4): [2, 3, 4], (3, 4): [3, 4], (5, 4): [5, 4], (0, 5): [0, 2, 5], (1, 5): [1, 0], (2, 5): [2, 5], (3, 5): [3, 2, 5], (4, 5): [4, 5]}\n",
      "canais:2, origem:3, destino:4, rota:[(3, 4)], caminho: [3, 4]\n",
      "canais:2, origem:3, destino:5, rota:[(3, 2), (2, 5)], caminho: [3, 2, 5]\n",
      "{(1, 0): [1, 0], (2, 0): [2, 0], (3, 0): [3, 1, 0], (4, 0): [4, 3, 1, 0], (5, 0): [5, 2, 0], (0, 1): [0, 1], (2, 1): [2, 0, 1], (3, 1): [3, 1], (4, 1): [4, 3, 2, 0, 1], (5, 1): [5, 2], (0, 2): [0, 2], (1, 2): [1, 0, 2], (3, 2): [3, 2], (4, 2): [4, 3, 2], (5, 2): [5, 2], (0, 3): [0, 1, 3], (1, 3): [1, 3], (2, 3): [2, 3], (4, 3): [4, 3], (5, 3): [5, 4, 3], (0, 4): [0, 1, 3, 4], (1, 4): [1, 0, 2, 3, 4], (2, 4): [2, 3, 4], (3, 4): [3, 4], (5, 4): [5, 4], (0, 5): [0, 2, 5], (1, 5): [1, 0], (2, 5): [2, 5], (3, 5): [3, 2, 5], (4, 5): [4, 5]}\n",
      "{(1, 0): [1, 0], (2, 0): [2, 0], (3, 0): [3, 1, 0], (4, 0): [4, 3, 1, 0], (5, 0): [5, 2, 0], (0, 1): [0, 1], (2, 1): [2, 0, 1], (3, 1): [3, 1], (4, 1): [4, 3, 2, 0, 1], (5, 1): [5, 2], (0, 2): [0, 2], (1, 2): [1, 0, 2], (3, 2): [3, 2], (4, 2): [4, 3, 2], (5, 2): [5, 2], (0, 3): [0, 1, 3], (1, 3): [1, 3], (2, 3): [2, 3], (4, 3): [4, 3], (5, 3): [5, 4, 3], (0, 4): [0, 1, 3, 4], (1, 4): [1, 0, 2, 3, 4], (2, 4): [2, 3, 4], (3, 4): [3, 4], (5, 4): [5, 4], (0, 5): [0, 2, 5], (1, 5): [1, 0], (2, 5): [2, 5], (3, 5): [3, 4, 5], (4, 5): [4, 5]}\n",
      "canais:2, origem:3, destino:5, rota:[(3, 4), (4, 5)], caminho: [3, 4, 5]\n",
      "bloqueio (3, 5)\n",
      "canais:2, origem:4, destino:5, rota:[(4, 5)], caminho: [4, 5]\n",
      "{(1, 0): [1, 0], (2, 0): [2, 0], (3, 0): [3, 1, 0], (4, 0): [4, 3, 1, 0], (5, 0): [5, 2, 0], (0, 1): [0, 1], (2, 1): [2, 0, 1], (3, 1): [3, 1], (4, 1): [4, 3, 2, 0, 1], (5, 1): [5, 2], (0, 2): [0, 2], (1, 2): [1, 0, 2], (3, 2): [3, 2], (4, 2): [4, 3, 2], (5, 2): [5, 2], (0, 3): [0, 1, 3], (1, 3): [1, 3], (2, 3): [2, 3], (4, 3): [4, 3], (5, 3): [5, 4, 3], (0, 4): [0, 1, 3, 4], (1, 4): [1, 0, 2, 3, 4], (2, 4): [2, 3, 4], (3, 4): [3, 4], (5, 4): [5, 4], (0, 5): [0, 2, 5], (1, 5): [1, 0], (2, 5): [2, 5], (3, 5): [3, 4, 5], (4, 5): [4, 5]}\n",
      "{(1, 0): [1, 0], (2, 0): [2, 0], (3, 0): [3, 1, 0], (4, 0): [4, 3, 1, 0], (5, 0): [5, 2, 0], (0, 1): [0, 1], (2, 1): [2, 0, 1], (3, 1): [3, 1], (4, 1): [4, 3, 2, 0, 1], (5, 1): [5, 2], (0, 2): [0, 2], (1, 2): [1, 0, 2], (3, 2): [3, 2], (4, 2): [4, 3, 2], (5, 2): [5, 2], (0, 3): [0, 1, 3], (1, 3): [1, 3], (2, 3): [2, 3], (4, 3): [4, 3], (5, 3): [5, 4, 3], (0, 4): [0, 1, 3, 4], (1, 4): [1, 0, 2, 3, 4], (2, 4): [2, 3, 4], (3, 4): [3, 4], (5, 4): [5, 4], (0, 5): [0, 2, 5], (1, 5): [1, 0], (2, 5): [2, 5], (3, 5): [3, 4, 5], (4, 5): [4, 5]}\n",
      "canais:2, origem:4, destino:5, rota:[(4, 5)], caminho: [4, 5]\n",
      "demandas:30, rede:scteste, bloqueios:3, wiener: 25, grau: 2.3333333333333335\n",
      "matriz:\n",
      "[[0 1 1 1 0 0]\n",
      " [1 0 1 1 0 1]\n",
      " [1 1 0 1 0 1]\n",
      " [1 1 1 0 1 0]\n",
      " [0 0 0 1 0 1]\n",
      " [0 1 1 0 1 0]]\n",
      "\n",
      "===========iteracao (1)============\n",
      "\n",
      "{(1, 0): [1, 0]}\n",
      "{(1, 0): [1, 0], (2, 0): [2, 0]}\n",
      "{(1, 0): [1, 0], (2, 0): [2, 0], (3, 0): [3, 0]}\n",
      "{(1, 0): [1, 0], (2, 0): [2, 0], (3, 0): [3, 0], (4, 0): [4, 3, 0]}\n",
      "{(1, 0): [1, 0], (2, 0): [2, 0], (3, 0): [3, 0], (4, 0): [4, 3, 0], (5, 0): [5, 1, 0]}\n",
      "{(1, 0): [1, 0], (2, 0): [2, 0], (3, 0): [3, 0], (4, 0): [4, 3, 0], (5, 0): [5, 1, 0], (0, 1): [0, 1]}{(1, 0): [1, 0], (2, 0): [2, 0], (3, 0): [3, 0], (4, 0): [4, 3, 0], (5, 0): [5, 1, 0], (0, 1): [0, 1], (2, 1): [2, 1]}\n",
      "{(1, 0): [1, 0], (2, 0): [2, 0], (3, 0): [3, 0], (4, 0): [4, 3, 0], (5, 0): [5, 1, 0], (0, 1): [0, 1], (2, 1): [2, 1], (3, 1): [3, 1]}\n",
      "{(1, 0): [1, 0], (2, 0): [2, 0], (3, 0): [3, 0], (4, 0): [4, 3, 0], (5, 0): [5, 1, 0], (0, 1): [0, 1], (2, 1): [2, 1], (3, 1): [3, 1], (4, 1): [4, 3, 1]}\n"
     ]
    },
    {
     "name": "stdout",
     "output_type": "stream",
     "text": [
      "\n",
      "{(1, 0): [1, 0], (2, 0): [2, 0], (3, 0): [3, 0], (4, 0): [4, 3, 0], (5, 0): [5, 1, 0], (0, 1): [0, 1], (2, 1): [2, 1], (3, 1): [3, 1], (4, 1): [4, 3, 1], (5, 1): [5, 1]}\n",
      "{(1, 0): [1, 0], (2, 0): [2, 0], (3, 0): [3, 0], (4, 0): [4, 3, 0], (5, 0): [5, 1, 0], (0, 1): [0, 1], (2, 1): [2, 1], (3, 1): [3, 1], (4, 1): [4, 3, 1], (5, 1): [5, 1], (0, 2): [0, 2]}\n",
      "{(1, 0): [1, 0], (2, 0): [2, 0], (3, 0): [3, 0], (4, 0): [4, 3, 0], (5, 0): [5, 1, 0], (0, 1): [0, 1], (2, 1): [2, 1], (3, 1): [3, 1], (4, 1): [4, 3, 1], (5, 1): [5, 1], (0, 2): [0, 2], (1, 2): [1, 2]}\n",
      "{(1, 0): [1, 0], (2, 0): [2, 0], (3, 0): [3, 0], (4, 0): [4, 3, 0], (5, 0): [5, 1, 0], (0, 1): [0, 1], (2, 1): [2, 1], (3, 1): [3, 1], (4, 1): [4, 3, 1], (5, 1): [5, 1], (0, 2): [0, 2], (1, 2): [1, 2], (3, 2): [3, 2]}\n",
      "{(1, 0): [1, 0], (2, 0): [2, 0], (3, 0): [3, 0], (4, 0): [4, 3, 0], (5, 0): [5, 1, 0], (0, 1): [0, 1], (2, 1): [2, 1], (3, 1): [3, 1], (4, 1): [4, 3, 1], (5, 1): [5, 1], (0, 2): [0, 2], (1, 2): [1, 2], (3, 2): [3, 2], (4, 2): [4, 3, 2]}{(1, 0): [1, 0], (2, 0): [2, 0], (3, 0): [3, 0], (4, 0): [4, 3, 0], (5, 0): [5, 1, 0], (0, 1): [0, 1], (2, 1): [2, 1], (3, 1): [3, 1], (4, 1): [4, 3, 1], (5, 1): [5, 1], (0, 2): [0, 2], (1, 2): [1, 2], (3, 2): [3, 2], (4, 2): [4, 3, 2], (5, 2): [5, 2]}{(1, 0): [1, 0], (2, 0): [2, 0], (3, 0): [3, 0], (4, 0): [4, 3, 0], (5, 0): [5, 1, 0], (0, 1): [0, 1], (2, 1): [2, 1], (3, 1): [3, 1], (4, 1): [4, 3, 1], (5, 1): [5, 1], (0, 2): [0, 2], (1, 2): [1, 2], (3, 2): [3, 2], (4, 2): [4, 3, 2], (5, 2): [5, 2], (0, 3): [0, 3]}\n",
      "{(1, 0): [1, 0], (2, 0): [2, 0], (3, 0): [3, 0], (4, 0): [4, 3, 0], (5, 0): [5, 1, 0], (0, 1): [0, 1], (2, 1): [2, 1], (3, 1): [3, 1], (4, 1): [4, 3, 1], (5, 1): [5, 1], (0, 2): [0, 2], (1, 2): [1, 2], (3, 2): [3, 2], (4, 2): [4, 3, 2], (5, 2): [5, 2], (0, 3): [0, 3], (1, 3): [1, 3]}\n",
      "{(1, 0): [1, 0], (2, 0): [2, 0], (3, 0): [3, 0], (4, 0): [4, 3, 0], (5, 0): [5, 1, 0], (0, 1): [0, 1], (2, 1): [2, 1], (3, 1): [3, 1], (4, 1): [4, 3, 1], (5, 1): [5, 1], (0, 2): [0, 2], (1, 2): [1, 2], (3, 2): [3, 2], (4, 2): [4, 3, 2], (5, 2): [5, 2], (0, 3): [0, 3], (1, 3): [1, 3], (2, 3): [2, 3]}\n",
      "{(1, 0): [1, 0], (2, 0): [2, 0], (3, 0): [3, 0], (4, 0): [4, 3, 0], (5, 0): [5, 1, 0], (0, 1): [0, 1], (2, 1): [2, 1], (3, 1): [3, 1], (4, 1): [4, 3, 1], (5, 1): [5, 1], (0, 2): [0, 2], (1, 2): [1, 2], (3, 2): [3, 2], (4, 2): [4, 3, 2], (5, 2): [5, 2], (0, 3): [0, 3], (1, 3): [1, 3], (2, 3): [2, 3], (4, 3): [4, 3]}\n",
      "\n",
      "\n",
      "{(1, 0): [1, 0], (2, 0): [2, 0], (3, 0): [3, 0], (4, 0): [4, 3, 0], (5, 0): [5, 1, 0], (0, 1): [0, 1], (2, 1): [2, 1], (3, 1): [3, 1], (4, 1): [4, 3, 1], (5, 1): [5, 1], (0, 2): [0, 2], (1, 2): [1, 2], (3, 2): [3, 2], (4, 2): [4, 3, 2], (5, 2): [5, 2], (0, 3): [0, 3], (1, 3): [1, 3], (2, 3): [2, 3], (4, 3): [4, 3], (5, 3): [5, 1, 3]}\n",
      "{(1, 0): [1, 0], (2, 0): [2, 0], (3, 0): [3, 0], (4, 0): [4, 3, 0], (5, 0): [5, 1, 0], (0, 1): [0, 1], (2, 1): [2, 1], (3, 1): [3, 1], (4, 1): [4, 3, 1], (5, 1): [5, 1], (0, 2): [0, 2], (1, 2): [1, 2], (3, 2): [3, 2], (4, 2): [4, 3, 2], (5, 2): [5, 2], (0, 3): [0, 3], (1, 3): [1, 3], (2, 3): [2, 3], (4, 3): [4, 3], (5, 3): [5, 1, 3], (0, 4): [0, 3, 4]}\n",
      "{(1, 0): [1, 0], (2, 0): [2, 0], (3, 0): [3, 0], (4, 0): [4, 3, 0], (5, 0): [5, 1, 0], (0, 1): [0, 1], (2, 1): [2, 1], (3, 1): [3, 1], (4, 1): [4, 3, 1], (5, 1): [5, 1], (0, 2): [0, 2], (1, 2): [1, 2], (3, 2): [3, 2], (4, 2): [4, 3, 2], (5, 2): [5, 2], (0, 3): [0, 3], (1, 3): [1, 3], (2, 3): [2, 3], (4, 3): [4, 3], (5, 3): [5, 1, 3], (0, 4): [0, 3, 4], (1, 4): [1, 3, 4]}\n",
      "{(1, 0): [1, 0], (2, 0): [2, 0], (3, 0): [3, 0], (4, 0): [4, 3, 0], (5, 0): [5, 1, 0], (0, 1): [0, 1], (2, 1): [2, 1], (3, 1): [3, 1], (4, 1): [4, 3, 1], (5, 1): [5, 1], (0, 2): [0, 2], (1, 2): [1, 2], (3, 2): [3, 2], (4, 2): [4, 3, 2], (5, 2): [5, 2], (0, 3): [0, 3], (1, 3): [1, 3], (2, 3): [2, 3], (4, 3): [4, 3], (5, 3): [5, 1, 3], (0, 4): [0, 3, 4], (1, 4): [1, 3, 4], (2, 4): [2, 3, 4]}{(1, 0): [1, 0], (2, 0): [2, 0], (3, 0): [3, 0], (4, 0): [4, 3, 0], (5, 0): [5, 1, 0], (0, 1): [0, 1], (2, 1): [2, 1], (3, 1): [3, 1], (4, 1): [4, 3, 1], (5, 1): [5, 1], (0, 2): [0, 2], (1, 2): [1, 2], (3, 2): [3, 2], (4, 2): [4, 3, 2], (5, 2): [5, 2], (0, 3): [0, 3], (1, 3): [1, 3], (2, 3): [2, 3], (4, 3): [4, 3], (5, 3): [5, 1, 3], (0, 4): [0, 3, 4], (1, 4): [1, 3, 4], (2, 4): [2, 3, 4], (3, 4): [3, 4]}\n",
      "{(1, 0): [1, 0], (2, 0): [2, 0], (3, 0): [3, 0], (4, 0): [4, 3, 0], (5, 0): [5, 1, 0], (0, 1): [0, 1], (2, 1): [2, 1], (3, 1): [3, 1], (4, 1): [4, 3, 1], (5, 1): [5, 1], (0, 2): [0, 2], (1, 2): [1, 2], (3, 2): [3, 2], (4, 2): [4, 3, 2], (5, 2): [5, 2], (0, 3): [0, 3], (1, 3): [1, 3], (2, 3): [2, 3], (4, 3): [4, 3], (5, 3): [5, 1, 3], (0, 4): [0, 3, 4], (1, 4): [1, 3, 4], (2, 4): [2, 3, 4], (3, 4): [3, 4], (5, 4): [5, 4]}\n",
      "\n",
      "{(1, 0): [1, 0], (2, 0): [2, 0], (3, 0): [3, 0], (4, 0): [4, 3, 0], (5, 0): [5, 1, 0], (0, 1): [0, 1], (2, 1): [2, 1], (3, 1): [3, 1], (4, 1): [4, 3, 1], (5, 1): [5, 1], (0, 2): [0, 2], (1, 2): [1, 2], (3, 2): [3, 2], (4, 2): [4, 3, 2], (5, 2): [5, 2], (0, 3): [0, 3], (1, 3): [1, 3], (2, 3): [2, 3], (4, 3): [4, 3], (5, 3): [5, 1, 3], (0, 4): [0, 3, 4], (1, 4): [1, 3, 4], (2, 4): [2, 3, 4], (3, 4): [3, 4], (5, 4): [5, 4], (0, 5): [0, 1, 5]}{(1, 0): [1, 0], (2, 0): [2, 0], (3, 0): [3, 0], (4, 0): [4, 3, 0], (5, 0): [5, 1, 0], (0, 1): [0, 1], (2, 1): [2, 1], (3, 1): [3, 1], (4, 1): [4, 3, 1], (5, 1): [5, 1], (0, 2): [0, 2], (1, 2): [1, 2], (3, 2): [3, 2], (4, 2): [4, 3, 2], (5, 2): [5, 2], (0, 3): [0, 3], (1, 3): [1, 3], (2, 3): [2, 3], (4, 3): [4, 3], (5, 3): [5, 1, 3], (0, 4): [0, 3, 4], (1, 4): [1, 3, 4], (2, 4): [2, 3, 4], (3, 4): [3, 4], (5, 4): [5, 4], (0, 5): [0, 1, 5], (1, 5): [1, 5]}{(1, 0): [1, 0], (2, 0): [2, 0], (3, 0): [3, 0], (4, 0): [4, 3, 0], (5, 0): [5, 1, 0], (0, 1): [0, 1], (2, 1): [2, 1], (3, 1): [3, 1], (4, 1): [4, 3, 1], (5, 1): [5, 1], (0, 2): [0, 2], (1, 2): [1, 2], (3, 2): [3, 2], (4, 2): [4, 3, 2], (5, 2): [5, 2], (0, 3): [0, 3], (1, 3): [1, 3], (2, 3): [2, 3], (4, 3): [4, 3], (5, 3): [5, 1, 3], (0, 4): [0, 3, 4], (1, 4): [1, 3, 4], (2, 4): [2, 3, 4], (3, 4): [3, 4], (5, 4): [5, 4], (0, 5): [0, 1, 5], (1, 5): [1, 5], (2, 5): [2, 5]}\n",
      "{(1, 0): [1, 0], (2, 0): [2, 0], (3, 0): [3, 0], (4, 0): [4, 3, 0], (5, 0): [5, 1, 0], (0, 1): [0, 1], (2, 1): [2, 1], (3, 1): [3, 1], (4, 1): [4, 3, 1], (5, 1): [5, 1], (0, 2): [0, 2], (1, 2): [1, 2], (3, 2): [3, 2], (4, 2): [4, 3, 2], (5, 2): [5, 2], (0, 3): [0, 3], (1, 3): [1, 3], (2, 3): [2, 3], (4, 3): [4, 3], (5, 3): [5, 1, 3], (0, 4): [0, 3, 4], (1, 4): [1, 3, 4], (2, 4): [2, 3, 4], (3, 4): [3, 4], (5, 4): [5, 4], (0, 5): [0, 1, 5], (1, 5): [1, 5], (2, 5): [2, 5], (3, 5): [3, 1, 5]}\n",
      "{(1, 0): [1, 0], (2, 0): [2, 0], (3, 0): [3, 0], (4, 0): [4, 3, 0], (5, 0): [5, 1, 0], (0, 1): [0, 1], (2, 1): [2, 1], (3, 1): [3, 1], (4, 1): [4, 3, 1], (5, 1): [5, 1], (0, 2): [0, 2], (1, 2): [1, 2], (3, 2): [3, 2], (4, 2): [4, 3, 2], (5, 2): [5, 2], (0, 3): [0, 3], (1, 3): [1, 3], (2, 3): [2, 3], (4, 3): [4, 3], (5, 3): [5, 1, 3], (0, 4): [0, 3, 4], (1, 4): [1, 3, 4], (2, 4): [2, 3, 4], (3, 4): [3, 4], (5, 4): [5, 4], (0, 5): [0, 1, 5], (1, 5): [1, 5], (2, 5): [2, 5], (3, 5): [3, 1, 5], (4, 5): [4, 5]}\n",
      "\n",
      "\n",
      "wiener antes: 20\n",
      "canais:2, origem:0, destino:1, rota:[(0, 1)], caminho: [0, 1]\n",
      "{(1, 0): [1, 0], (2, 0): [2, 0], (3, 0): [3, 0], (4, 0): [4, 3, 0], (5, 0): [5, 1, 0], (0, 1): [0, 1], (2, 1): [2, 1], (3, 1): [3, 1], (4, 1): [4, 3, 1], (5, 1): [5, 1], (0, 2): [0, 2], (1, 2): [1, 2], (3, 2): [3, 2], (4, 2): [4, 3, 2], (5, 2): [5, 2], (0, 3): [0, 3], (1, 3): [1, 3], (2, 3): [2, 3], (4, 3): [4, 3], (5, 3): [5, 1, 3], (0, 4): [0, 3, 4], (1, 4): [1, 3, 4], (2, 4): [2, 3, 4], (3, 4): [3, 4], (5, 4): [5, 4], (0, 5): [0, 1, 5], (1, 5): [1, 5], (2, 5): [2, 5], (3, 5): [3, 1, 5], (4, 5): [4, 5]}\n",
      "{(1, 0): [1, 0], (2, 0): [2, 0], (3, 0): [3, 0], (4, 0): [4, 3, 0], (5, 0): [5, 1, 0], (0, 1): [0, 1], (2, 1): [2, 1], (3, 1): [3, 1], (4, 1): [4, 3, 1], (5, 1): [5, 1], (0, 2): [0, 2], (1, 2): [1, 2], (3, 2): [3, 2], (4, 2): [4, 3, 2], (5, 2): [5, 2], (0, 3): [0, 3], (1, 3): [1, 3], (2, 3): [2, 3], (4, 3): [4, 3], (5, 3): [5, 1, 3], (0, 4): [0, 3, 4], (1, 4): [1, 3, 4], (2, 4): [2, 3, 4], (3, 4): [3, 4], (5, 4): [5, 4], (0, 5): [0, 1, 5], (1, 5): [1, 5], (2, 5): [2, 5], (3, 5): [3, 1, 5], (4, 5): [4, 5]}\n",
      "canais:2, origem:0, destino:1, rota:[(0, 1)], caminho: [0, 1]\n",
      "canais:2, origem:0, destino:2, rota:[(0, 2)], caminho: [0, 2]\n",
      "{(1, 0): [1, 0], (2, 0): [2, 0], (3, 0): [3, 0], (4, 0): [4, 3, 0], (5, 0): [5, 1, 0], (0, 1): [0, 1], (2, 1): [2, 1], (3, 1): [3, 1], (4, 1): [4, 3, 1], (5, 1): [5, 1], (0, 2): [0, 2], (1, 2): [1, 2], (3, 2): [3, 2], (4, 2): [4, 3, 2], (5, 2): [5, 2], (0, 3): [0, 3], (1, 3): [1, 3], (2, 3): [2, 3], (4, 3): [4, 3], (5, 3): [5, 1, 3], (0, 4): [0, 3, 4], (1, 4): [1, 3, 4], (2, 4): [2, 3, 4], (3, 4): [3, 4], (5, 4): [5, 4], (0, 5): [0, 1, 5], (1, 5): [1, 5], (2, 5): [2, 5], (3, 5): [3, 1, 5], (4, 5): [4, 5]}\n",
      "{(1, 0): [1, 0], (2, 0): [2, 0], (3, 0): [3, 0], (4, 0): [4, 3, 0], (5, 0): [5, 1, 0], (0, 1): [0, 1], (2, 1): [2, 1], (3, 1): [3, 1], (4, 1): [4, 3, 1], (5, 1): [5, 1], (0, 2): [0, 2], (1, 2): [1, 2], (3, 2): [3, 2], (4, 2): [4, 3, 2], (5, 2): [5, 2], (0, 3): [0, 3], (1, 3): [1, 3], (2, 3): [2, 3], (4, 3): [4, 3], (5, 3): [5, 1, 3], (0, 4): [0, 3, 4], (1, 4): [1, 3, 4], (2, 4): [2, 3, 4], (3, 4): [3, 4], (5, 4): [5, 4], (0, 5): [0, 1, 5], (1, 5): [1, 5], (2, 5): [2, 5], (3, 5): [3, 1, 5], (4, 5): [4, 5]}\n",
      "canais:2, origem:0, destino:2, rota:[(0, 2)], caminho: [0, 2]\n",
      "canais:2, origem:0, destino:3, rota:[(0, 3)], caminho: [0, 3]\n",
      "{(1, 0): [1, 0], (2, 0): [2, 0], (3, 0): [3, 0], (4, 0): [4, 3, 0], (5, 0): [5, 1, 0], (0, 1): [0, 1], (2, 1): [2, 1], (3, 1): [3, 1], (4, 1): [4, 3, 1], (5, 1): [5, 1], (0, 2): [0, 2], (1, 2): [1, 2], (3, 2): [3, 2], (4, 2): [4, 3, 2], (5, 2): [5, 2], (0, 3): [0, 3], (1, 3): [1, 3], (2, 3): [2, 3], (4, 3): [4, 3], (5, 3): [5, 1, 3], (0, 4): [0, 3, 4], (1, 4): [1, 3, 4], (2, 4): [2, 3, 4], (3, 4): [3, 4], (5, 4): [5, 4], (0, 5): [0, 1, 5], (1, 5): [1, 5], (2, 5): [2, 5], (3, 5): [3, 1, 5], (4, 5): [4, 5]}\n",
      "{(1, 0): [1, 0], (2, 0): [2, 0], (3, 0): [3, 0], (4, 0): [4, 3, 0], (5, 0): [5, 1, 0], (0, 1): [0, 1], (2, 1): [2, 1], (3, 1): [3, 1], (4, 1): [4, 3, 1], (5, 1): [5, 1], (0, 2): [0, 2], (1, 2): [1, 2], (3, 2): [3, 2], (4, 2): [4, 3, 2], (5, 2): [5, 2], (0, 3): [0, 3], (1, 3): [1, 3], (2, 3): [2, 3], (4, 3): [4, 3], (5, 3): [5, 1, 3], (0, 4): [0, 3, 4], (1, 4): [1, 3, 4], (2, 4): [2, 3, 4], (3, 4): [3, 4], (5, 4): [5, 4], (0, 5): [0, 1, 5], (1, 5): [1, 5], (2, 5): [2, 5], (3, 5): [3, 1, 5], (4, 5): [4, 5]}\n",
      "canais:2, origem:0, destino:3, rota:[(0, 3)], caminho: [0, 3]\n",
      "canais:2, origem:0, destino:4, rota:[(0, 3), (3, 4)], caminho: [0, 3, 4]\n",
      "{(1, 0): [1, 0], (2, 0): [2, 0], (3, 0): [3, 0], (4, 0): [4, 3, 0], (5, 0): [5, 1, 0], (0, 1): [0, 1], (2, 1): [2, 1], (3, 1): [3, 1], (4, 1): [4, 3, 1], (5, 1): [5, 1], (0, 2): [0, 2], (1, 2): [1, 2], (3, 2): [3, 2], (4, 2): [4, 3, 2], (5, 2): [5, 2], (0, 3): [0, 3], (1, 3): [1, 3], (2, 3): [2, 3], (4, 3): [4, 3], (5, 3): [5, 1, 3], (0, 4): [0, 3, 4], (1, 4): [1, 3, 4], (2, 4): [2, 3, 4], (3, 4): [3, 4], (5, 4): [5, 4], (0, 5): [0, 1, 5], (1, 5): [1, 5], (2, 5): [2, 5], (3, 5): [3, 1, 5], (4, 5): [4, 5]}\n",
      "{(1, 0): [1, 0], (2, 0): [2, 0], (3, 0): [3, 0], (4, 0): [4, 3, 0], (5, 0): [5, 1, 0], (0, 1): [0, 1], (2, 1): [2, 1], (3, 1): [3, 1], (4, 1): [4, 3, 1], (5, 1): [5, 1], (0, 2): [0, 2], (1, 2): [1, 2], (3, 2): [3, 2], (4, 2): [4, 3, 2], (5, 2): [5, 2], (0, 3): [0, 3], (1, 3): [1, 3], (2, 3): [2, 3], (4, 3): [4, 3], (5, 3): [5, 1, 3], (0, 4): [0, 3, 4], (1, 4): [1, 3, 4], (2, 4): [2, 3, 4], (3, 4): [3, 4], (5, 4): [5, 4], (0, 5): [0, 1, 5], (1, 5): [1, 5], (2, 5): [2, 5], (3, 5): [3, 1, 5], (4, 5): [4, 5]}\n",
      "canais:2, origem:0, destino:4, rota:[(0, 3), (3, 4)], caminho: [0, 3, 4]\n",
      "canais:2, origem:0, destino:5, rota:[(0, 1), (1, 5)], caminho: [0, 1, 5]\n",
      "{(1, 0): [1, 0], (2, 0): [2, 0], (3, 0): [3, 0], (4, 0): [4, 3, 0], (5, 0): [5, 1, 0], (0, 1): [0, 1], (2, 1): [2, 1], (3, 1): [3, 1], (4, 1): [4, 3, 1], (5, 1): [5, 1], (0, 2): [0, 2], (1, 2): [1, 2], (3, 2): [3, 2], (4, 2): [4, 3, 2], (5, 2): [5, 2], (0, 3): [0, 3], (1, 3): [1, 3], (2, 3): [2, 3], (4, 3): [4, 3], (5, 3): [5, 1, 3], (0, 4): [0, 3, 4], (1, 4): [1, 3, 4], (2, 4): [2, 3, 4], (3, 4): [3, 4], (5, 4): [5, 4], (0, 5): [0, 1, 5], (1, 5): [1, 5], (2, 5): [2, 5], (3, 5): [3, 1, 5], (4, 5): [4, 5]}\n",
      "{(1, 0): [1, 0], (2, 0): [2, 0], (3, 0): [3, 0], (4, 0): [4, 3, 0], (5, 0): [5, 1, 0], (0, 1): [0, 1], (2, 1): [2, 1], (3, 1): [3, 1], (4, 1): [4, 3, 1], (5, 1): [5, 1], (0, 2): [0, 2], (1, 2): [1, 2], (3, 2): [3, 2], (4, 2): [4, 3, 2], (5, 2): [5, 2], (0, 3): [0, 3], (1, 3): [1, 3], (2, 3): [2, 3], (4, 3): [4, 3], (5, 3): [5, 1, 3], (0, 4): [0, 3, 4], (1, 4): [1, 3, 4], (2, 4): [2, 3, 4], (3, 4): [3, 4], (5, 4): [5, 4], (0, 5): [0, 1, 5], (1, 5): [1, 5], (2, 5): [2, 5], (3, 5): [3, 1, 5], (4, 5): [4, 5]}\n",
      "canais:2, origem:0, destino:5, rota:[(0, 1), (1, 5)], caminho: [0, 1, 5]\n",
      "canais:2, origem:1, destino:2, rota:[(1, 2)], caminho: [1, 2]\n",
      "{(1, 0): [1, 0], (2, 0): [2, 0], (3, 0): [3, 0], (4, 0): [4, 3, 0], (5, 0): [5, 1, 0], (0, 1): [0, 1], (2, 1): [2, 1], (3, 1): [3, 1], (4, 1): [4, 3, 1], (5, 1): [5, 1], (0, 2): [0, 2], (1, 2): [1, 2], (3, 2): [3, 2], (4, 2): [4, 3, 2], (5, 2): [5, 2], (0, 3): [0, 3], (1, 3): [1, 3], (2, 3): [2, 3], (4, 3): [4, 3], (5, 3): [5, 1, 3], (0, 4): [0, 3, 4], (1, 4): [1, 3, 4], (2, 4): [2, 3, 4], (3, 4): [3, 4], (5, 4): [5, 4], (0, 5): [0, 1, 5], (1, 5): [1, 5], (2, 5): [2, 5], (3, 5): [3, 1, 5], (4, 5): [4, 5]}\n",
      "{(1, 0): [1, 0], (2, 0): [2, 0], (3, 0): [3, 0], (4, 0): [4, 3, 0], (5, 0): [5, 1, 0], (0, 1): [0, 1], (2, 1): [2, 1], (3, 1): [3, 1], (4, 1): [4, 3, 1], (5, 1): [5, 1], (0, 2): [0, 2], (1, 2): [1, 2], (3, 2): [3, 2], (4, 2): [4, 3, 2], (5, 2): [5, 2], (0, 3): [0, 3], (1, 3): [1, 3], (2, 3): [2, 3], (4, 3): [4, 3], (5, 3): [5, 1, 3], (0, 4): [0, 3, 4], (1, 4): [1, 3, 4], (2, 4): [2, 3, 4], (3, 4): [3, 4], (5, 4): [5, 4], (0, 5): [0, 1, 5], (1, 5): [1, 5], (2, 5): [2, 5], (3, 5): [3, 1, 5], (4, 5): [4, 5]}\n",
      "canais:2, origem:1, destino:2, rota:[(1, 2)], caminho: [1, 2]\n",
      "canais:2, origem:1, destino:3, rota:[(1, 3)], caminho: [1, 3]\n",
      "{(1, 0): [1, 0], (2, 0): [2, 0], (3, 0): [3, 0], (4, 0): [4, 3, 0], (5, 0): [5, 1, 0], (0, 1): [0, 1], (2, 1): [2, 1], (3, 1): [3, 1], (4, 1): [4, 3, 1], (5, 1): [5, 1], (0, 2): [0, 2], (1, 2): [1, 2], (3, 2): [3, 2], (4, 2): [4, 3, 2], (5, 2): [5, 2], (0, 3): [0, 3], (1, 3): [1, 3], (2, 3): [2, 3], (4, 3): [4, 3], (5, 3): [5, 1, 3], (0, 4): [0, 3, 4], (1, 4): [1, 3, 4], (2, 4): [2, 3, 4], (3, 4): [3, 4], (5, 4): [5, 4], (0, 5): [0, 1, 5], (1, 5): [1, 5], (2, 5): [2, 5], (3, 5): [3, 1, 5], (4, 5): [4, 5]}\n",
      "{(1, 0): [1, 0], (2, 0): [2, 0], (3, 0): [3, 0], (4, 0): [4, 3, 0], (5, 0): [5, 1, 0], (0, 1): [0, 1], (2, 1): [2, 1], (3, 1): [3, 1], (4, 1): [4, 3, 1], (5, 1): [5, 1], (0, 2): [0, 2], (1, 2): [1, 2], (3, 2): [3, 2], (4, 2): [4, 3, 2], (5, 2): [5, 2], (0, 3): [0, 3], (1, 3): [1, 3], (2, 3): [2, 3], (4, 3): [4, 3], (5, 3): [5, 1, 3], (0, 4): [0, 3, 4], (1, 4): [1, 3, 4], (2, 4): [2, 3, 4], (3, 4): [3, 4], (5, 4): [5, 4], (0, 5): [0, 1, 5], (1, 5): [1, 5], (2, 5): [2, 5], (3, 5): [3, 1, 5], (4, 5): [4, 5]}\n",
      "canais:2, origem:1, destino:3, rota:[(1, 3)], caminho: [1, 3]\n",
      "canais:2, origem:1, destino:4, rota:[(1, 3), (3, 4)], caminho: [1, 3, 4]\n",
      "{(1, 0): [1, 0], (2, 0): [2, 0], (3, 0): [3, 0], (4, 0): [4, 3, 0], (5, 0): [5, 1, 0], (0, 1): [0, 1], (2, 1): [2, 1], (3, 1): [3, 1], (4, 1): [4, 3, 1], (5, 1): [5, 1], (0, 2): [0, 2], (1, 2): [1, 2], (3, 2): [3, 2], (4, 2): [4, 3, 2], (5, 2): [5, 2], (0, 3): [0, 3], (1, 3): [1, 3], (2, 3): [2, 3], (4, 3): [4, 3], (5, 3): [5, 1, 3], (0, 4): [0, 3, 4], (1, 4): [1, 3, 4], (2, 4): [2, 3, 4], (3, 4): [3, 4], (5, 4): [5, 4], (0, 5): [0, 1, 5], (1, 5): [1, 5], (2, 5): [2, 5], (3, 5): [3, 1, 5], (4, 5): [4, 5]}\n",
      "{(1, 0): [1, 0], (2, 0): [2, 0], (3, 0): [3, 0], (4, 0): [4, 3, 0], (5, 0): [5, 1, 0], (0, 1): [0, 1], (2, 1): [2, 1], (3, 1): [3, 1], (4, 1): [4, 3, 1], (5, 1): [5, 1], (0, 2): [0, 2], (1, 2): [1, 2], (3, 2): [3, 2], (4, 2): [4, 3, 2], (5, 2): [5, 2], (0, 3): [0, 3], (1, 3): [1, 3], (2, 3): [2, 3], (4, 3): [4, 3], (5, 3): [5, 1, 3], (0, 4): [0, 3, 4], (1, 4): [1, 3, 4], (2, 4): [2, 3, 4], (3, 4): [3, 4], (5, 4): [5, 4], (0, 5): [0, 1, 5], (1, 5): [1, 5], (2, 5): [2, 5], (3, 5): [3, 1, 5], (4, 5): [4, 5]}\n",
      "canais:2, origem:1, destino:4, rota:[(1, 3), (3, 4)], caminho: [1, 3, 4]\n",
      "bloqueio (1, 4)\n",
      "canais:2, origem:1, destino:5, rota:[(1, 5)], caminho: [1, 5]\n",
      "{(1, 0): [1, 0], (2, 0): [2, 0], (3, 0): [3, 0], (4, 0): [4, 3, 0], (5, 0): [5, 1, 0], (0, 1): [0, 1], (2, 1): [2, 1], (3, 1): [3, 1], (4, 1): [4, 3, 1], (5, 1): [5, 1], (0, 2): [0, 2], (1, 2): [1, 2], (3, 2): [3, 2], (4, 2): [4, 3, 2], (5, 2): [5, 2], (0, 3): [0, 3], (1, 3): [1, 3], (2, 3): [2, 3], (4, 3): [4, 3], (5, 3): [5, 1, 3], (0, 4): [0, 3, 4], (1, 4): [1, 3, 4], (2, 4): [2, 3, 4], (3, 4): [3, 4], (5, 4): [5, 4], (0, 5): [0, 1, 5], (1, 5): [1, 5], (2, 5): [2, 5], (3, 5): [3, 1, 5], (4, 5): [4, 5]}\n",
      "{(1, 0): [1, 0], (2, 0): [2, 0], (3, 0): [3, 0], (4, 0): [4, 3, 0], (5, 0): [5, 1, 0], (0, 1): [0, 1], (2, 1): [2, 1], (3, 1): [3, 1], (4, 1): [4, 3, 1], (5, 1): [5, 1], (0, 2): [0, 2], (1, 2): [1, 2], (3, 2): [3, 2], (4, 2): [4, 3, 2], (5, 2): [5, 2], (0, 3): [0, 3], (1, 3): [1, 3], (2, 3): [2, 3], (4, 3): [4, 3], (5, 3): [5, 1, 3], (0, 4): [0, 3, 4], (1, 4): [1, 3, 4], (2, 4): [2, 3, 4], (3, 4): [3, 4], (5, 4): [5, 4], (0, 5): [0, 1, 5], (1, 5): [1, 5], (2, 5): [2, 5], (3, 5): [3, 1, 5], (4, 5): [4, 5]}\n",
      "canais:2, origem:1, destino:5, rota:[(1, 5)], caminho: [1, 5]\n",
      "canais:2, origem:2, destino:3, rota:[(2, 3)], caminho: [2, 3]\n",
      "{(1, 0): [1, 0], (2, 0): [2, 0], (3, 0): [3, 0], (4, 0): [4, 3, 0], (5, 0): [5, 1, 0], (0, 1): [0, 1], (2, 1): [2, 1], (3, 1): [3, 1], (4, 1): [4, 3, 1], (5, 1): [5, 1], (0, 2): [0, 2], (1, 2): [1, 2], (3, 2): [3, 2], (4, 2): [4, 3, 2], (5, 2): [5, 2], (0, 3): [0, 3], (1, 3): [1, 3], (2, 3): [2, 3], (4, 3): [4, 3], (5, 3): [5, 1, 3], (0, 4): [0, 3, 4], (1, 4): [1, 3, 4], (2, 4): [2, 3, 4], (3, 4): [3, 4], (5, 4): [5, 4], (0, 5): [0, 1, 5], (1, 5): [1, 5], (2, 5): [2, 5], (3, 5): [3, 1, 5], (4, 5): [4, 5]}\n",
      "{(1, 0): [1, 0], (2, 0): [2, 0], (3, 0): [3, 0], (4, 0): [4, 3, 0], (5, 0): [5, 1, 0], (0, 1): [0, 1], (2, 1): [2, 1], (3, 1): [3, 1], (4, 1): [4, 3, 1], (5, 1): [5, 1], (0, 2): [0, 2], (1, 2): [1, 2], (3, 2): [3, 2], (4, 2): [4, 3, 2], (5, 2): [5, 2], (0, 3): [0, 3], (1, 3): [1, 3], (2, 3): [2, 3], (4, 3): [4, 3], (5, 3): [5, 1, 3], (0, 4): [0, 3, 4], (1, 4): [1, 3, 4], (2, 4): [2, 3, 4], (3, 4): [3, 4], (5, 4): [5, 4], (0, 5): [0, 1, 5], (1, 5): [1, 5], (2, 5): [2, 5], (3, 5): [3, 1, 5], (4, 5): [4, 5]}\n",
      "canais:2, origem:2, destino:3, rota:[(2, 3)], caminho: [2, 3]\n",
      "canais:2, origem:2, destino:4, rota:[(2, 3), (3, 4)], caminho: [2, 3, 4]\n",
      "{(1, 0): [1, 0], (2, 0): [2, 0], (3, 0): [3, 0], (4, 0): [4, 3, 0], (5, 0): [5, 1, 0], (0, 1): [0, 1], (2, 1): [2, 1], (3, 1): [3, 1], (4, 1): [4, 3, 1], (5, 1): [5, 1], (0, 2): [0, 2], (1, 2): [1, 2], (3, 2): [3, 2], (4, 2): [4, 3, 2], (5, 2): [5, 2], (0, 3): [0, 3], (1, 3): [1, 3], (2, 3): [2, 3], (4, 3): [4, 3], (5, 3): [5, 1, 3], (0, 4): [0, 3, 4], (1, 4): [1, 3, 4], (2, 4): [2, 3, 4], (3, 4): [3, 4], (5, 4): [5, 4], (0, 5): [0, 1, 5], (1, 5): [1, 5], (2, 5): [2, 5], (3, 5): [3, 1, 5], (4, 5): [4, 5]}\n",
      "{(1, 0): [1, 0], (2, 0): [2, 0], (3, 0): [3, 0], (4, 0): [4, 3, 0], (5, 0): [5, 1, 0], (0, 1): [0, 1], (2, 1): [2, 1], (3, 1): [3, 1], (4, 1): [4, 3, 1], (5, 1): [5, 1], (0, 2): [0, 2], (1, 2): [1, 2], (3, 2): [3, 2], (4, 2): [4, 3, 2], (5, 2): [5, 2], (0, 3): [0, 3], (1, 3): [1, 3], (2, 3): [2, 3], (4, 3): [4, 3], (5, 3): [5, 1, 3], (0, 4): [0, 3, 4], (1, 4): [1, 3, 4], (2, 4): [2, 3, 4], (3, 4): [3, 4], (5, 4): [5, 4], (0, 5): [0, 1, 5], (1, 5): [1, 5], (2, 5): [2, 5], (3, 5): [3, 1, 5], (4, 5): [4, 5]}\n",
      "canais:2, origem:2, destino:4, rota:[(2, 3), (3, 4)], caminho: [2, 3, 4]\n",
      "bloqueio (2, 4)\n",
      "canais:2, origem:2, destino:5, rota:[(2, 5)], caminho: [2, 5]\n",
      "{(1, 0): [1, 0], (2, 0): [2, 0], (3, 0): [3, 0], (4, 0): [4, 3, 0], (5, 0): [5, 1, 0], (0, 1): [0, 1], (2, 1): [2, 1], (3, 1): [3, 1], (4, 1): [4, 3, 1], (5, 1): [5, 1], (0, 2): [0, 2], (1, 2): [1, 2], (3, 2): [3, 2], (4, 2): [4, 3, 2], (5, 2): [5, 2], (0, 3): [0, 3], (1, 3): [1, 3], (2, 3): [2, 3], (4, 3): [4, 3], (5, 3): [5, 1, 3], (0, 4): [0, 3, 4], (1, 4): [1, 3, 4], (2, 4): [2, 3, 4], (3, 4): [3, 4], (5, 4): [5, 4], (0, 5): [0, 1, 5], (1, 5): [1, 5], (2, 5): [2, 5], (3, 5): [3, 1, 5], (4, 5): [4, 5]}\n",
      "{(1, 0): [1, 0], (2, 0): [2, 0], (3, 0): [3, 0], (4, 0): [4, 3, 0], (5, 0): [5, 1, 0], (0, 1): [0, 1], (2, 1): [2, 1], (3, 1): [3, 1], (4, 1): [4, 3, 1], (5, 1): [5, 1], (0, 2): [0, 2], (1, 2): [1, 2], (3, 2): [3, 2], (4, 2): [4, 3, 2], (5, 2): [5, 2], (0, 3): [0, 3], (1, 3): [1, 3], (2, 3): [2, 3], (4, 3): [4, 3], (5, 3): [5, 1, 3], (0, 4): [0, 3, 4], (1, 4): [1, 3, 4], (2, 4): [2, 3, 4], (3, 4): [3, 4], (5, 4): [5, 4], (0, 5): [0, 1, 5], (1, 5): [1, 5], (2, 5): [2, 5], (3, 5): [3, 1, 5], (4, 5): [4, 5]}\n",
      "canais:2, origem:2, destino:5, rota:[(2, 5)], caminho: [2, 5]\n",
      "canais:2, origem:3, destino:4, rota:[(3, 4)], caminho: [3, 4]\n",
      "{(1, 0): [1, 0], (2, 0): [2, 0], (3, 0): [3, 0], (4, 0): [4, 3, 0], (5, 0): [5, 1, 0], (0, 1): [0, 1], (2, 1): [2, 1], (3, 1): [3, 1], (4, 1): [4, 3, 1], (5, 1): [5, 1], (0, 2): [0, 2], (1, 2): [1, 2], (3, 2): [3, 2], (4, 2): [4, 3, 2], (5, 2): [5, 2], (0, 3): [0, 3], (1, 3): [1, 3], (2, 3): [2, 3], (4, 3): [4, 3], (5, 3): [5, 1, 3], (0, 4): [0, 3, 4], (1, 4): [1, 3, 4], (2, 4): [2, 3, 4], (3, 4): [3, 4], (5, 4): [5, 4], (0, 5): [0, 1, 5], (1, 5): [1, 5], (2, 5): [2, 5], (3, 5): [3, 1, 5], (4, 5): [4, 5]}\n",
      "{(1, 0): [1, 0], (2, 0): [2, 0], (3, 0): [3, 0], (4, 0): [4, 3, 0], (5, 0): [5, 1, 0], (0, 1): [0, 1], (2, 1): [2, 1], (3, 1): [3, 1], (4, 1): [4, 3, 1], (5, 1): [5, 1], (0, 2): [0, 2], (1, 2): [1, 2], (3, 2): [3, 2], (4, 2): [4, 3, 2], (5, 2): [5, 2], (0, 3): [0, 3], (1, 3): [1, 3], (2, 3): [2, 3], (4, 3): [4, 3], (5, 3): [5, 1, 3], (0, 4): [0, 3, 4], (1, 4): [1, 3, 4], (2, 4): [2, 3, 4], (3, 4): [3, 4], (5, 4): [5, 4], (0, 5): [0, 1, 5], (1, 5): [1, 5], (2, 5): [2, 5], (3, 5): [3, 1, 5], (4, 5): [4, 5]}\n",
      "canais:2, origem:3, destino:4, rota:[(3, 4)], caminho: [3, 4]\n",
      "canais:2, origem:3, destino:5, rota:[(3, 1), (1, 5)], caminho: [3, 1, 5]\n",
      "{(1, 0): [1, 0], (2, 0): [2, 0], (3, 0): [3, 0], (4, 0): [4, 3, 0], (5, 0): [5, 1, 0], (0, 1): [0, 1], (2, 1): [2, 1], (3, 1): [3, 1], (4, 1): [4, 3, 1], (5, 1): [5, 1], (0, 2): [0, 2], (1, 2): [1, 2], (3, 2): [3, 2], (4, 2): [4, 3, 2], (5, 2): [5, 2], (0, 3): [0, 3], (1, 3): [1, 3], (2, 3): [2, 3], (4, 3): [4, 3], (5, 3): [5, 2, 3], (0, 4): [0, 3, 4], (1, 4): [1, 3, 4], (2, 4): [2, 3, 4], (3, 4): [3, 4], (5, 4): [5, 4], (0, 5): [0, 1, 5], (1, 5): [1, 5], (2, 5): [2, 5], (3, 5): [3, 1, 5], (4, 5): [4, 5]}\n",
      "{(1, 0): [1, 0], (2, 0): [2, 0], (3, 0): [3, 0], (4, 0): [4, 3, 0], (5, 0): [5, 1, 0], (0, 1): [0, 1], (2, 1): [2, 1], (3, 1): [3, 1], (4, 1): [4, 3, 1], (5, 1): [5, 1], (0, 2): [0, 2], (1, 2): [1, 2], (3, 2): [3, 2], (4, 2): [4, 3, 2], (5, 2): [5, 2], (0, 3): [0, 3], (1, 3): [1, 3], (2, 3): [2, 3], (4, 3): [4, 3], (5, 3): [5, 2, 3], (0, 4): [0, 3, 4], (1, 4): [1, 3, 4], (2, 4): [2, 3, 4], (3, 4): [3, 4], (5, 4): [5, 4], (0, 5): [0, 1, 5], (1, 5): [1, 5], (2, 5): [2, 5], (3, 5): [3, 2, 5], (4, 5): [4, 5]}\n",
      "canais:2, origem:3, destino:5, rota:[(3, 2), (2, 5)], caminho: [3, 2, 5]\n",
      "canais:2, origem:4, destino:5, rota:[(4, 5)], caminho: [4, 5]\n",
      "{(1, 0): [1, 0], (2, 0): [2, 0], (3, 0): [3, 0], (4, 0): [4, 3, 0], (5, 0): [5, 1, 0], (0, 1): [0, 1], (2, 1): [2, 1], (3, 1): [3, 1], (4, 1): [4, 3, 1], (5, 1): [5, 1], (0, 2): [0, 2], (1, 2): [1, 2], (3, 2): [3, 2], (4, 2): [4, 3, 2], (5, 2): [5, 2], (0, 3): [0, 3], (1, 3): [1, 3], (2, 3): [2, 3], (4, 3): [4, 3], (5, 3): [5, 2, 3], (0, 4): [0, 3, 4], (1, 4): [1, 3, 4], (2, 4): [2, 3, 4], (3, 4): [3, 4], (5, 4): [5, 4], (0, 5): [0, 1, 5], (1, 5): [1, 5], (2, 5): [2, 5], (3, 5): [3, 2, 5], (4, 5): [4, 5]}\n",
      "{(1, 0): [1, 0], (2, 0): [2, 0], (3, 0): [3, 0], (4, 0): [4, 3, 0], (5, 0): [5, 1, 0], (0, 1): [0, 1], (2, 1): [2, 1], (3, 1): [3, 1], (4, 1): [4, 3, 1], (5, 1): [5, 1], (0, 2): [0, 2], (1, 2): [1, 2], (3, 2): [3, 2], (4, 2): [4, 3, 2], (5, 2): [5, 2], (0, 3): [0, 3], (1, 3): [1, 3], (2, 3): [2, 3], (4, 3): [4, 3], (5, 3): [5, 2, 3], (0, 4): [0, 3, 4], (1, 4): [1, 3, 4], (2, 4): [2, 3, 4], (3, 4): [3, 4], (5, 4): [5, 4], (0, 5): [0, 1, 5], (1, 5): [1, 5], (2, 5): [2, 5], (3, 5): [3, 2, 5], (4, 5): [4, 5]}\n",
      "canais:2, origem:4, destino:5, rota:[(4, 5)], caminho: [4, 5]\n",
      "demandas:29, rede:scteste, bloqueios:2, wiener: 20, grau: 3.3333333333333335\n",
      "matriz:\n",
      "[[0 1 1 1 1 1]\n",
      " [1 0 1 1 1 1]\n",
      " [1 1 0 1 1 1]\n",
      " [1 1 1 0 1 0]\n",
      " [1 1 1 1 0 1]\n",
      " [1 1 1 0 1 0]]\n",
      "\n",
      "===========iteracao (2)============\n",
      "\n",
      "{(1, 0): [1, 0]}\n",
      "{(1, 0): [1, 0], (2, 0): [2, 0]}\n",
      "{(1, 0): [1, 0], (2, 0): [2, 0], (3, 0): [3, 0]}\n",
      "{(1, 0): [1, 0], (2, 0): [2, 0], (3, 0): [3, 0], (4, 0): [4, 0]}\n",
      "{(1, 0): [1, 0], (2, 0): [2, 0], (3, 0): [3, 0], (4, 0): [4, 0], (5, 0): [5, 0]}\n",
      "{(1, 0): [1, 0], (2, 0): [2, 0], (3, 0): [3, 0], (4, 0): [4, 0], (5, 0): [5, 0], (0, 1): [0, 1]}\n",
      "{(1, 0): [1, 0], (2, 0): [2, 0], (3, 0): [3, 0], (4, 0): [4, 0], (5, 0): [5, 0], (0, 1): [0, 1], (2, 1): [2, 1]}\n",
      "{(1, 0): [1, 0], (2, 0): [2, 0], (3, 0): [3, 0], (4, 0): [4, 0], (5, 0): [5, 0], (0, 1): [0, 1], (2, 1): [2, 1], (3, 1): [3, 1]}\n",
      "{(1, 0): [1, 0], (2, 0): [2, 0], (3, 0): [3, 0], (4, 0): [4, 0], (5, 0): [5, 0], (0, 1): [0, 1], (2, 1): [2, 1], (3, 1): [3, 1], (4, 1): [4, 1]}\n",
      "{(1, 0): [1, 0], (2, 0): [2, 0], (3, 0): [3, 0], (4, 0): [4, 0], (5, 0): [5, 0], (0, 1): [0, 1], (2, 1): [2, 1], (3, 1): [3, 1], (4, 1): [4, 1], (5, 1): [5, 1]}\n",
      "{(1, 0): [1, 0], (2, 0): [2, 0], (3, 0): [3, 0], (4, 0): [4, 0], (5, 0): [5, 0], (0, 1): [0, 1], (2, 1): [2, 1], (3, 1): [3, 1], (4, 1): [4, 1], (5, 1): [5, 1], (0, 2): [0, 2]}{(1, 0): [1, 0], (2, 0): [2, 0], (3, 0): [3, 0], (4, 0): [4, 0], (5, 0): [5, 0], (0, 1): [0, 1], (2, 1): [2, 1], (3, 1): [3, 1], (4, 1): [4, 1], (5, 1): [5, 1], (0, 2): [0, 2], (1, 2): [1, 2]}\n",
      "{(1, 0): [1, 0], (2, 0): [2, 0], (3, 0): [3, 0], (4, 0): [4, 0], (5, 0): [5, 0], (0, 1): [0, 1], (2, 1): [2, 1], (3, 1): [3, 1], (4, 1): [4, 1], (5, 1): [5, 1], (0, 2): [0, 2], (1, 2): [1, 2], (3, 2): [3, 2]}\n",
      "{(1, 0): [1, 0], (2, 0): [2, 0], (3, 0): [3, 0], (4, 0): [4, 0], (5, 0): [5, 0], (0, 1): [0, 1], (2, 1): [2, 1], (3, 1): [3, 1], (4, 1): [4, 1], (5, 1): [5, 1], (0, 2): [0, 2], (1, 2): [1, 2], (3, 2): [3, 2], (4, 2): [4, 2]}\n",
      "{(1, 0): [1, 0], (2, 0): [2, 0], (3, 0): [3, 0], (4, 0): [4, 0], (5, 0): [5, 0], (0, 1): [0, 1], (2, 1): [2, 1], (3, 1): [3, 1], (4, 1): [4, 1], (5, 1): [5, 1], (0, 2): [0, 2], (1, 2): [1, 2], (3, 2): [3, 2], (4, 2): [4, 2], (5, 2): [5, 2]}\n",
      "\n",
      "{(1, 0): [1, 0], (2, 0): [2, 0], (3, 0): [3, 0], (4, 0): [4, 0], (5, 0): [5, 0], (0, 1): [0, 1], (2, 1): [2, 1], (3, 1): [3, 1], (4, 1): [4, 1], (5, 1): [5, 1], (0, 2): [0, 2], (1, 2): [1, 2], (3, 2): [3, 2], (4, 2): [4, 2], (5, 2): [5, 2], (0, 3): [0, 3]}{(1, 0): [1, 0], (2, 0): [2, 0], (3, 0): [3, 0], (4, 0): [4, 0], (5, 0): [5, 0], (0, 1): [0, 1], (2, 1): [2, 1], (3, 1): [3, 1], (4, 1): [4, 1], (5, 1): [5, 1], (0, 2): [0, 2], (1, 2): [1, 2], (3, 2): [3, 2], (4, 2): [4, 2], (5, 2): [5, 2], (0, 3): [0, 3], (1, 3): [1, 3]}\n",
      "{(1, 0): [1, 0], (2, 0): [2, 0], (3, 0): [3, 0], (4, 0): [4, 0], (5, 0): [5, 0], (0, 1): [0, 1], (2, 1): [2, 1], (3, 1): [3, 1], (4, 1): [4, 1], (5, 1): [5, 1], (0, 2): [0, 2], (1, 2): [1, 2], (3, 2): [3, 2], (4, 2): [4, 2], (5, 2): [5, 2], (0, 3): [0, 3], (1, 3): [1, 3], (2, 3): [2, 3]}\n",
      "{(1, 0): [1, 0], (2, 0): [2, 0], (3, 0): [3, 0], (4, 0): [4, 0], (5, 0): [5, 0], (0, 1): [0, 1], (2, 1): [2, 1], (3, 1): [3, 1], (4, 1): [4, 1], (5, 1): [5, 1], (0, 2): [0, 2], (1, 2): [1, 2], (3, 2): [3, 2], (4, 2): [4, 2], (5, 2): [5, 2], (0, 3): [0, 3], (1, 3): [1, 3], (2, 3): [2, 3], (4, 3): [4, 3]}\n",
      "\n",
      "{(1, 0): [1, 0], (2, 0): [2, 0], (3, 0): [3, 0], (4, 0): [4, 0], (5, 0): [5, 0], (0, 1): [0, 1], (2, 1): [2, 1], (3, 1): [3, 1], (4, 1): [4, 1], (5, 1): [5, 1], (0, 2): [0, 2], (1, 2): [1, 2], (3, 2): [3, 2], (4, 2): [4, 2], (5, 2): [5, 2], (0, 3): [0, 3], (1, 3): [1, 3], (2, 3): [2, 3], (4, 3): [4, 3], (5, 3): [5, 0, 3]}\n",
      "{(1, 0): [1, 0], (2, 0): [2, 0], (3, 0): [3, 0], (4, 0): [4, 0], (5, 0): [5, 0], (0, 1): [0, 1], (2, 1): [2, 1], (3, 1): [3, 1], (4, 1): [4, 1], (5, 1): [5, 1], (0, 2): [0, 2], (1, 2): [1, 2], (3, 2): [3, 2], (4, 2): [4, 2], (5, 2): [5, 2], (0, 3): [0, 3], (1, 3): [1, 3], (2, 3): [2, 3], (4, 3): [4, 3], (5, 3): [5, 0, 3], (0, 4): [0, 4]}\n",
      "{(1, 0): [1, 0], (2, 0): [2, 0], (3, 0): [3, 0], (4, 0): [4, 0], (5, 0): [5, 0], (0, 1): [0, 1], (2, 1): [2, 1], (3, 1): [3, 1], (4, 1): [4, 1], (5, 1): [5, 1], (0, 2): [0, 2], (1, 2): [1, 2], (3, 2): [3, 2], (4, 2): [4, 2], (5, 2): [5, 2], (0, 3): [0, 3], (1, 3): [1, 3], (2, 3): [2, 3], (4, 3): [4, 3], (5, 3): [5, 0, 3], (0, 4): [0, 4], (1, 4): [1, 4]}\n",
      "{(1, 0): [1, 0], (2, 0): [2, 0], (3, 0): [3, 0], (4, 0): [4, 0], (5, 0): [5, 0], (0, 1): [0, 1], (2, 1): [2, 1], (3, 1): [3, 1], (4, 1): [4, 1], (5, 1): [5, 1], (0, 2): [0, 2], (1, 2): [1, 2], (3, 2): [3, 2], (4, 2): [4, 2], (5, 2): [5, 2], (0, 3): [0, 3], (1, 3): [1, 3], (2, 3): [2, 3], (4, 3): [4, 3], (5, 3): [5, 0, 3], (0, 4): [0, 4], (1, 4): [1, 4], (2, 4): [2, 4]}\n",
      "{(1, 0): [1, 0], (2, 0): [2, 0], (3, 0): [3, 0], (4, 0): [4, 0], (5, 0): [5, 0], (0, 1): [0, 1], (2, 1): [2, 1], (3, 1): [3, 1], (4, 1): [4, 1], (5, 1): [5, 1], (0, 2): [0, 2], (1, 2): [1, 2], (3, 2): [3, 2], (4, 2): [4, 2], (5, 2): [5, 2], (0, 3): [0, 3], (1, 3): [1, 3], (2, 3): [2, 3], (4, 3): [4, 3], (5, 3): [5, 0, 3], (0, 4): [0, 4], (1, 4): [1, 4], (2, 4): [2, 4], (3, 4): [3, 4]}\n",
      "{(1, 0): [1, 0], (2, 0): [2, 0], (3, 0): [3, 0], (4, 0): [4, 0], (5, 0): [5, 0], (0, 1): [0, 1], (2, 1): [2, 1], (3, 1): [3, 1], (4, 1): [4, 1], (5, 1): [5, 1], (0, 2): [0, 2], (1, 2): [1, 2], (3, 2): [3, 2], (4, 2): [4, 2], (5, 2): [5, 2], (0, 3): [0, 3], (1, 3): [1, 3], (2, 3): [2, 3], (4, 3): [4, 3], (5, 3): [5, 0, 3], (0, 4): [0, 4], (1, 4): [1, 4], (2, 4): [2, 4], (3, 4): [3, 4], (5, 4): [5, 4]}\n",
      "{(1, 0): [1, 0], (2, 0): [2, 0], (3, 0): [3, 0], (4, 0): [4, 0], (5, 0): [5, 0], (0, 1): [0, 1], (2, 1): [2, 1], (3, 1): [3, 1], (4, 1): [4, 1], (5, 1): [5, 1], (0, 2): [0, 2], (1, 2): [1, 2], (3, 2): [3, 2], (4, 2): [4, 2], (5, 2): [5, 2], (0, 3): [0, 3], (1, 3): [1, 3], (2, 3): [2, 3], (4, 3): [4, 3], (5, 3): [5, 0, 3], (0, 4): [0, 4], (1, 4): [1, 4], (2, 4): [2, 4], (3, 4): [3, 4], (5, 4): [5, 4], (0, 5): [0, 5]}\n",
      "{(1, 0): [1, 0], (2, 0): [2, 0], (3, 0): [3, 0], (4, 0): [4, 0], (5, 0): [5, 0], (0, 1): [0, 1], (2, 1): [2, 1], (3, 1): [3, 1], (4, 1): [4, 1], (5, 1): [5, 1], (0, 2): [0, 2], (1, 2): [1, 2], (3, 2): [3, 2], (4, 2): [4, 2], (5, 2): [5, 2], (0, 3): [0, 3], (1, 3): [1, 3], (2, 3): [2, 3], (4, 3): [4, 3], (5, 3): [5, 0, 3], (0, 4): [0, 4], (1, 4): [1, 4], (2, 4): [2, 4], (3, 4): [3, 4], (5, 4): [5, 4], (0, 5): [0, 5], (1, 5): [1, 5]}\n"
     ]
    },
    {
     "name": "stdout",
     "output_type": "stream",
     "text": [
      "{(1, 0): [1, 0], (2, 0): [2, 0], (3, 0): [3, 0], (4, 0): [4, 0], (5, 0): [5, 0], (0, 1): [0, 1], (2, 1): [2, 1], (3, 1): [3, 1], (4, 1): [4, 1], (5, 1): [5, 1], (0, 2): [0, 2], (1, 2): [1, 2], (3, 2): [3, 2], (4, 2): [4, 2], (5, 2): [5, 2], (0, 3): [0, 3], (1, 3): [1, 3], (2, 3): [2, 3], (4, 3): [4, 3], (5, 3): [5, 0, 3], (0, 4): [0, 4], (1, 4): [1, 4], (2, 4): [2, 4], (3, 4): [3, 4], (5, 4): [5, 4], (0, 5): [0, 5], (1, 5): [1, 5], (2, 5): [2, 5]}{(1, 0): [1, 0], (2, 0): [2, 0], (3, 0): [3, 0], (4, 0): [4, 0], (5, 0): [5, 0], (0, 1): [0, 1], (2, 1): [2, 1], (3, 1): [3, 1], (4, 1): [4, 1], (5, 1): [5, 1], (0, 2): [0, 2], (1, 2): [1, 2], (3, 2): [3, 2], (4, 2): [4, 2], (5, 2): [5, 2], (0, 3): [0, 3], (1, 3): [1, 3], (2, 3): [2, 3], (4, 3): [4, 3], (5, 3): [5, 0, 3], (0, 4): [0, 4], (1, 4): [1, 4], (2, 4): [2, 4], (3, 4): [3, 4], (5, 4): [5, 4], (0, 5): [0, 5], (1, 5): [1, 5], (2, 5): [2, 5], (3, 5): [3, 0, 5]}\n",
      "{(1, 0): [1, 0], (2, 0): [2, 0], (3, 0): [3, 0], (4, 0): [4, 0], (5, 0): [5, 0], (0, 1): [0, 1], (2, 1): [2, 1], (3, 1): [3, 1], (4, 1): [4, 1], (5, 1): [5, 1], (0, 2): [0, 2], (1, 2): [1, 2], (3, 2): [3, 2], (4, 2): [4, 2], (5, 2): [5, 2], (0, 3): [0, 3], (1, 3): [1, 3], (2, 3): [2, 3], (4, 3): [4, 3], (5, 3): [5, 0, 3], (0, 4): [0, 4], (1, 4): [1, 4], (2, 4): [2, 4], (3, 4): [3, 4], (5, 4): [5, 4], (0, 5): [0, 5], (1, 5): [1, 5], (2, 5): [2, 5], (3, 5): [3, 0, 5], (4, 5): [4, 5]}\n",
      "\n",
      "wiener antes: 16\n",
      "canais:2, origem:0, destino:1, rota:[(0, 1)], caminho: [0, 1]\n",
      "{(1, 0): [1, 0], (2, 0): [2, 0], (3, 0): [3, 0], (4, 0): [4, 0], (5, 0): [5, 0], (0, 1): [0, 1], (2, 1): [2, 1], (3, 1): [3, 1], (4, 1): [4, 1], (5, 1): [5, 1], (0, 2): [0, 2], (1, 2): [1, 2], (3, 2): [3, 2], (4, 2): [4, 2], (5, 2): [5, 2], (0, 3): [0, 3], (1, 3): [1, 3], (2, 3): [2, 3], (4, 3): [4, 3], (5, 3): [5, 0, 3], (0, 4): [0, 4], (1, 4): [1, 4], (2, 4): [2, 4], (3, 4): [3, 4], (5, 4): [5, 4], (0, 5): [0, 5], (1, 5): [1, 5], (2, 5): [2, 5], (3, 5): [3, 0, 5], (4, 5): [4, 5]}\n",
      "{(1, 0): [1, 0], (2, 0): [2, 0], (3, 0): [3, 0], (4, 0): [4, 0], (5, 0): [5, 0], (0, 1): [0, 1], (2, 1): [2, 1], (3, 1): [3, 1], (4, 1): [4, 1], (5, 1): [5, 1], (0, 2): [0, 2], (1, 2): [1, 2], (3, 2): [3, 2], (4, 2): [4, 2], (5, 2): [5, 2], (0, 3): [0, 3], (1, 3): [1, 3], (2, 3): [2, 3], (4, 3): [4, 3], (5, 3): [5, 0, 3], (0, 4): [0, 4], (1, 4): [1, 4], (2, 4): [2, 4], (3, 4): [3, 4], (5, 4): [5, 4], (0, 5): [0, 5], (1, 5): [1, 5], (2, 5): [2, 5], (3, 5): [3, 0, 5], (4, 5): [4, 5]}\n",
      "canais:2, origem:0, destino:1, rota:[(0, 1)], caminho: [0, 1]\n",
      "canais:2, origem:0, destino:2, rota:[(0, 2)], caminho: [0, 2]\n",
      "{(1, 0): [1, 0], (2, 0): [2, 0], (3, 0): [3, 0], (4, 0): [4, 0], (5, 0): [5, 0], (0, 1): [0, 1], (2, 1): [2, 1], (3, 1): [3, 1], (4, 1): [4, 1], (5, 1): [5, 1], (0, 2): [0, 2], (1, 2): [1, 2], (3, 2): [3, 2], (4, 2): [4, 2], (5, 2): [5, 2], (0, 3): [0, 3], (1, 3): [1, 3], (2, 3): [2, 3], (4, 3): [4, 3], (5, 3): [5, 0, 3], (0, 4): [0, 4], (1, 4): [1, 4], (2, 4): [2, 4], (3, 4): [3, 4], (5, 4): [5, 4], (0, 5): [0, 5], (1, 5): [1, 5], (2, 5): [2, 5], (3, 5): [3, 0, 5], (4, 5): [4, 5]}\n",
      "{(1, 0): [1, 0], (2, 0): [2, 0], (3, 0): [3, 0], (4, 0): [4, 0], (5, 0): [5, 0], (0, 1): [0, 1], (2, 1): [2, 1], (3, 1): [3, 1], (4, 1): [4, 1], (5, 1): [5, 1], (0, 2): [0, 2], (1, 2): [1, 2], (3, 2): [3, 2], (4, 2): [4, 2], (5, 2): [5, 2], (0, 3): [0, 3], (1, 3): [1, 3], (2, 3): [2, 3], (4, 3): [4, 3], (5, 3): [5, 0, 3], (0, 4): [0, 4], (1, 4): [1, 4], (2, 4): [2, 4], (3, 4): [3, 4], (5, 4): [5, 4], (0, 5): [0, 5], (1, 5): [1, 5], (2, 5): [2, 5], (3, 5): [3, 0, 5], (4, 5): [4, 5]}\n",
      "canais:2, origem:0, destino:2, rota:[(0, 2)], caminho: [0, 2]\n",
      "canais:2, origem:0, destino:3, rota:[(0, 3)], caminho: [0, 3]\n",
      "{(1, 0): [1, 0], (2, 0): [2, 0], (3, 0): [3, 0], (4, 0): [4, 0], (5, 0): [5, 0], (0, 1): [0, 1], (2, 1): [2, 1], (3, 1): [3, 1], (4, 1): [4, 1], (5, 1): [5, 1], (0, 2): [0, 2], (1, 2): [1, 2], (3, 2): [3, 2], (4, 2): [4, 2], (5, 2): [5, 2], (0, 3): [0, 3], (1, 3): [1, 3], (2, 3): [2, 3], (4, 3): [4, 3], (5, 3): [5, 0, 3], (0, 4): [0, 4], (1, 4): [1, 4], (2, 4): [2, 4], (3, 4): [3, 4], (5, 4): [5, 4], (0, 5): [0, 5], (1, 5): [1, 5], (2, 5): [2, 5], (3, 5): [3, 0, 5], (4, 5): [4, 5]}\n",
      "{(1, 0): [1, 0], (2, 0): [2, 0], (3, 0): [3, 0], (4, 0): [4, 0], (5, 0): [5, 0], (0, 1): [0, 1], (2, 1): [2, 1], (3, 1): [3, 1], (4, 1): [4, 1], (5, 1): [5, 1], (0, 2): [0, 2], (1, 2): [1, 2], (3, 2): [3, 2], (4, 2): [4, 2], (5, 2): [5, 2], (0, 3): [0, 3], (1, 3): [1, 3], (2, 3): [2, 3], (4, 3): [4, 3], (5, 3): [5, 0, 3], (0, 4): [0, 4], (1, 4): [1, 4], (2, 4): [2, 4], (3, 4): [3, 4], (5, 4): [5, 4], (0, 5): [0, 5], (1, 5): [1, 5], (2, 5): [2, 5], (3, 5): [3, 0, 5], (4, 5): [4, 5]}\n",
      "canais:2, origem:0, destino:3, rota:[(0, 3)], caminho: [0, 3]\n",
      "canais:2, origem:0, destino:4, rota:[(0, 4)], caminho: [0, 4]\n",
      "{(1, 0): [1, 0], (2, 0): [2, 0], (3, 0): [3, 0], (4, 0): [4, 0], (5, 0): [5, 0], (0, 1): [0, 1], (2, 1): [2, 1], (3, 1): [3, 1], (4, 1): [4, 1], (5, 1): [5, 1], (0, 2): [0, 2], (1, 2): [1, 2], (3, 2): [3, 2], (4, 2): [4, 2], (5, 2): [5, 2], (0, 3): [0, 3], (1, 3): [1, 3], (2, 3): [2, 3], (4, 3): [4, 3], (5, 3): [5, 0, 3], (0, 4): [0, 4], (1, 4): [1, 4], (2, 4): [2, 4], (3, 4): [3, 4], (5, 4): [5, 4], (0, 5): [0, 5], (1, 5): [1, 5], (2, 5): [2, 5], (3, 5): [3, 0, 5], (4, 5): [4, 5]}\n",
      "{(1, 0): [1, 0], (2, 0): [2, 0], (3, 0): [3, 0], (4, 0): [4, 0], (5, 0): [5, 0], (0, 1): [0, 1], (2, 1): [2, 1], (3, 1): [3, 1], (4, 1): [4, 1], (5, 1): [5, 1], (0, 2): [0, 2], (1, 2): [1, 2], (3, 2): [3, 2], (4, 2): [4, 2], (5, 2): [5, 2], (0, 3): [0, 3], (1, 3): [1, 3], (2, 3): [2, 3], (4, 3): [4, 3], (5, 3): [5, 0, 3], (0, 4): [0, 4], (1, 4): [1, 4], (2, 4): [2, 4], (3, 4): [3, 4], (5, 4): [5, 4], (0, 5): [0, 5], (1, 5): [1, 5], (2, 5): [2, 5], (3, 5): [3, 0, 5], (4, 5): [4, 5]}\n",
      "canais:2, origem:0, destino:4, rota:[(0, 4)], caminho: [0, 4]\n",
      "canais:2, origem:0, destino:5, rota:[(0, 5)], caminho: [0, 5]\n",
      "{(1, 0): [1, 0], (2, 0): [2, 0], (3, 0): [3, 0], (4, 0): [4, 0], (5, 0): [5, 0], (0, 1): [0, 1], (2, 1): [2, 1], (3, 1): [3, 1], (4, 1): [4, 1], (5, 1): [5, 1], (0, 2): [0, 2], (1, 2): [1, 2], (3, 2): [3, 2], (4, 2): [4, 2], (5, 2): [5, 2], (0, 3): [0, 3], (1, 3): [1, 3], (2, 3): [2, 3], (4, 3): [4, 3], (5, 3): [5, 0, 3], (0, 4): [0, 4], (1, 4): [1, 4], (2, 4): [2, 4], (3, 4): [3, 4], (5, 4): [5, 4], (0, 5): [0, 5], (1, 5): [1, 5], (2, 5): [2, 5], (3, 5): [3, 0, 5], (4, 5): [4, 5]}\n",
      "{(1, 0): [1, 0], (2, 0): [2, 0], (3, 0): [3, 0], (4, 0): [4, 0], (5, 0): [5, 0], (0, 1): [0, 1], (2, 1): [2, 1], (3, 1): [3, 1], (4, 1): [4, 1], (5, 1): [5, 1], (0, 2): [0, 2], (1, 2): [1, 2], (3, 2): [3, 2], (4, 2): [4, 2], (5, 2): [5, 2], (0, 3): [0, 3], (1, 3): [1, 3], (2, 3): [2, 3], (4, 3): [4, 3], (5, 3): [5, 0, 3], (0, 4): [0, 4], (1, 4): [1, 4], (2, 4): [2, 4], (3, 4): [3, 4], (5, 4): [5, 4], (0, 5): [0, 5], (1, 5): [1, 5], (2, 5): [2, 5], (3, 5): [3, 0, 5], (4, 5): [4, 5]}\n",
      "canais:2, origem:0, destino:5, rota:[(0, 5)], caminho: [0, 5]\n",
      "canais:2, origem:1, destino:2, rota:[(1, 2)], caminho: [1, 2]\n",
      "{(1, 0): [1, 0], (2, 0): [2, 0], (3, 0): [3, 0], (4, 0): [4, 0], (5, 0): [5, 0], (0, 1): [0, 1], (2, 1): [2, 1], (3, 1): [3, 1], (4, 1): [4, 1], (5, 1): [5, 1], (0, 2): [0, 2], (1, 2): [1, 2], (3, 2): [3, 2], (4, 2): [4, 2], (5, 2): [5, 2], (0, 3): [0, 3], (1, 3): [1, 3], (2, 3): [2, 3], (4, 3): [4, 3], (5, 3): [5, 0, 3], (0, 4): [0, 4], (1, 4): [1, 4], (2, 4): [2, 4], (3, 4): [3, 4], (5, 4): [5, 4], (0, 5): [0, 5], (1, 5): [1, 5], (2, 5): [2, 5], (3, 5): [3, 0, 5], (4, 5): [4, 5]}\n",
      "{(1, 0): [1, 0], (2, 0): [2, 0], (3, 0): [3, 0], (4, 0): [4, 0], (5, 0): [5, 0], (0, 1): [0, 1], (2, 1): [2, 1], (3, 1): [3, 1], (4, 1): [4, 1], (5, 1): [5, 1], (0, 2): [0, 2], (1, 2): [1, 2], (3, 2): [3, 2], (4, 2): [4, 2], (5, 2): [5, 2], (0, 3): [0, 3], (1, 3): [1, 3], (2, 3): [2, 3], (4, 3): [4, 3], (5, 3): [5, 0, 3], (0, 4): [0, 4], (1, 4): [1, 4], (2, 4): [2, 4], (3, 4): [3, 4], (5, 4): [5, 4], (0, 5): [0, 5], (1, 5): [1, 5], (2, 5): [2, 5], (3, 5): [3, 0, 5], (4, 5): [4, 5]}\n",
      "canais:2, origem:1, destino:2, rota:[(1, 2)], caminho: [1, 2]\n",
      "canais:2, origem:1, destino:3, rota:[(1, 3)], caminho: [1, 3]\n",
      "{(1, 0): [1, 0], (2, 0): [2, 0], (3, 0): [3, 0], (4, 0): [4, 0], (5, 0): [5, 0], (0, 1): [0, 1], (2, 1): [2, 1], (3, 1): [3, 1], (4, 1): [4, 1], (5, 1): [5, 1], (0, 2): [0, 2], (1, 2): [1, 2], (3, 2): [3, 2], (4, 2): [4, 2], (5, 2): [5, 2], (0, 3): [0, 3], (1, 3): [1, 3], (2, 3): [2, 3], (4, 3): [4, 3], (5, 3): [5, 0, 3], (0, 4): [0, 4], (1, 4): [1, 4], (2, 4): [2, 4], (3, 4): [3, 4], (5, 4): [5, 4], (0, 5): [0, 5], (1, 5): [1, 5], (2, 5): [2, 5], (3, 5): [3, 0, 5], (4, 5): [4, 5]}\n",
      "{(1, 0): [1, 0], (2, 0): [2, 0], (3, 0): [3, 0], (4, 0): [4, 0], (5, 0): [5, 0], (0, 1): [0, 1], (2, 1): [2, 1], (3, 1): [3, 1], (4, 1): [4, 1], (5, 1): [5, 1], (0, 2): [0, 2], (1, 2): [1, 2], (3, 2): [3, 2], (4, 2): [4, 2], (5, 2): [5, 2], (0, 3): [0, 3], (1, 3): [1, 3], (2, 3): [2, 3], (4, 3): [4, 3], (5, 3): [5, 0, 3], (0, 4): [0, 4], (1, 4): [1, 4], (2, 4): [2, 4], (3, 4): [3, 4], (5, 4): [5, 4], (0, 5): [0, 5], (1, 5): [1, 5], (2, 5): [2, 5], (3, 5): [3, 0, 5], (4, 5): [4, 5]}\n",
      "canais:2, origem:1, destino:3, rota:[(1, 3)], caminho: [1, 3]\n",
      "canais:2, origem:1, destino:4, rota:[(1, 4)], caminho: [1, 4]\n",
      "{(1, 0): [1, 0], (2, 0): [2, 0], (3, 0): [3, 0], (4, 0): [4, 0], (5, 0): [5, 0], (0, 1): [0, 1], (2, 1): [2, 1], (3, 1): [3, 1], (4, 1): [4, 1], (5, 1): [5, 1], (0, 2): [0, 2], (1, 2): [1, 2], (3, 2): [3, 2], (4, 2): [4, 2], (5, 2): [5, 2], (0, 3): [0, 3], (1, 3): [1, 3], (2, 3): [2, 3], (4, 3): [4, 3], (5, 3): [5, 0, 3], (0, 4): [0, 4], (1, 4): [1, 4], (2, 4): [2, 4], (3, 4): [3, 4], (5, 4): [5, 4], (0, 5): [0, 5], (1, 5): [1, 5], (2, 5): [2, 5], (3, 5): [3, 0, 5], (4, 5): [4, 5]}\n",
      "{(1, 0): [1, 0], (2, 0): [2, 0], (3, 0): [3, 0], (4, 0): [4, 0], (5, 0): [5, 0], (0, 1): [0, 1], (2, 1): [2, 1], (3, 1): [3, 1], (4, 1): [4, 1], (5, 1): [5, 1], (0, 2): [0, 2], (1, 2): [1, 2], (3, 2): [3, 2], (4, 2): [4, 2], (5, 2): [5, 2], (0, 3): [0, 3], (1, 3): [1, 3], (2, 3): [2, 3], (4, 3): [4, 3], (5, 3): [5, 0, 3], (0, 4): [0, 4], (1, 4): [1, 4], (2, 4): [2, 4], (3, 4): [3, 4], (5, 4): [5, 4], (0, 5): [0, 5], (1, 5): [1, 5], (2, 5): [2, 5], (3, 5): [3, 0, 5], (4, 5): [4, 5]}\n",
      "canais:2, origem:1, destino:4, rota:[(1, 4)], caminho: [1, 4]\n",
      "canais:2, origem:1, destino:5, rota:[(1, 5)], caminho: [1, 5]\n",
      "{(1, 0): [1, 0], (2, 0): [2, 0], (3, 0): [3, 0], (4, 0): [4, 0], (5, 0): [5, 0], (0, 1): [0, 1], (2, 1): [2, 1], (3, 1): [3, 1], (4, 1): [4, 1], (5, 1): [5, 1], (0, 2): [0, 2], (1, 2): [1, 2], (3, 2): [3, 2], (4, 2): [4, 2], (5, 2): [5, 2], (0, 3): [0, 3], (1, 3): [1, 3], (2, 3): [2, 3], (4, 3): [4, 3], (5, 3): [5, 0, 3], (0, 4): [0, 4], (1, 4): [1, 4], (2, 4): [2, 4], (3, 4): [3, 4], (5, 4): [5, 4], (0, 5): [0, 5], (1, 5): [1, 5], (2, 5): [2, 5], (3, 5): [3, 0, 5], (4, 5): [4, 5]}\n",
      "{(1, 0): [1, 0], (2, 0): [2, 0], (3, 0): [3, 0], (4, 0): [4, 0], (5, 0): [5, 0], (0, 1): [0, 1], (2, 1): [2, 1], (3, 1): [3, 1], (4, 1): [4, 1], (5, 1): [5, 1], (0, 2): [0, 2], (1, 2): [1, 2], (3, 2): [3, 2], (4, 2): [4, 2], (5, 2): [5, 2], (0, 3): [0, 3], (1, 3): [1, 3], (2, 3): [2, 3], (4, 3): [4, 3], (5, 3): [5, 0, 3], (0, 4): [0, 4], (1, 4): [1, 4], (2, 4): [2, 4], (3, 4): [3, 4], (5, 4): [5, 4], (0, 5): [0, 5], (1, 5): [1, 5], (2, 5): [2, 5], (3, 5): [3, 0, 5], (4, 5): [4, 5]}\n",
      "canais:2, origem:1, destino:5, rota:[(1, 5)], caminho: [1, 5]\n",
      "canais:2, origem:2, destino:3, rota:[(2, 3)], caminho: [2, 3]\n",
      "{(1, 0): [1, 0], (2, 0): [2, 0], (3, 0): [3, 0], (4, 0): [4, 0], (5, 0): [5, 0], (0, 1): [0, 1], (2, 1): [2, 1], (3, 1): [3, 1], (4, 1): [4, 1], (5, 1): [5, 1], (0, 2): [0, 2], (1, 2): [1, 2], (3, 2): [3, 2], (4, 2): [4, 2], (5, 2): [5, 2], (0, 3): [0, 3], (1, 3): [1, 3], (2, 3): [2, 3], (4, 3): [4, 3], (5, 3): [5, 0, 3], (0, 4): [0, 4], (1, 4): [1, 4], (2, 4): [2, 4], (3, 4): [3, 4], (5, 4): [5, 4], (0, 5): [0, 5], (1, 5): [1, 5], (2, 5): [2, 5], (3, 5): [3, 0, 5], (4, 5): [4, 5]}\n",
      "{(1, 0): [1, 0], (2, 0): [2, 0], (3, 0): [3, 0], (4, 0): [4, 0], (5, 0): [5, 0], (0, 1): [0, 1], (2, 1): [2, 1], (3, 1): [3, 1], (4, 1): [4, 1], (5, 1): [5, 1], (0, 2): [0, 2], (1, 2): [1, 2], (3, 2): [3, 2], (4, 2): [4, 2], (5, 2): [5, 2], (0, 3): [0, 3], (1, 3): [1, 3], (2, 3): [2, 3], (4, 3): [4, 3], (5, 3): [5, 0, 3], (0, 4): [0, 4], (1, 4): [1, 4], (2, 4): [2, 4], (3, 4): [3, 4], (5, 4): [5, 4], (0, 5): [0, 5], (1, 5): [1, 5], (2, 5): [2, 5], (3, 5): [3, 0, 5], (4, 5): [4, 5]}\n",
      "canais:2, origem:2, destino:3, rota:[(2, 3)], caminho: [2, 3]\n",
      "canais:2, origem:2, destino:4, rota:[(2, 4)], caminho: [2, 4]\n",
      "{(1, 0): [1, 0], (2, 0): [2, 0], (3, 0): [3, 0], (4, 0): [4, 0], (5, 0): [5, 0], (0, 1): [0, 1], (2, 1): [2, 1], (3, 1): [3, 1], (4, 1): [4, 1], (5, 1): [5, 1], (0, 2): [0, 2], (1, 2): [1, 2], (3, 2): [3, 2], (4, 2): [4, 2], (5, 2): [5, 2], (0, 3): [0, 3], (1, 3): [1, 3], (2, 3): [2, 3], (4, 3): [4, 3], (5, 3): [5, 0, 3], (0, 4): [0, 4], (1, 4): [1, 4], (2, 4): [2, 4], (3, 4): [3, 4], (5, 4): [5, 4], (0, 5): [0, 5], (1, 5): [1, 5], (2, 5): [2, 5], (3, 5): [3, 0, 5], (4, 5): [4, 5]}\n",
      "{(1, 0): [1, 0], (2, 0): [2, 0], (3, 0): [3, 0], (4, 0): [4, 0], (5, 0): [5, 0], (0, 1): [0, 1], (2, 1): [2, 1], (3, 1): [3, 1], (4, 1): [4, 1], (5, 1): [5, 1], (0, 2): [0, 2], (1, 2): [1, 2], (3, 2): [3, 2], (4, 2): [4, 2], (5, 2): [5, 2], (0, 3): [0, 3], (1, 3): [1, 3], (2, 3): [2, 3], (4, 3): [4, 3], (5, 3): [5, 0, 3], (0, 4): [0, 4], (1, 4): [1, 4], (2, 4): [2, 4], (3, 4): [3, 4], (5, 4): [5, 4], (0, 5): [0, 5], (1, 5): [1, 5], (2, 5): [2, 5], (3, 5): [3, 0, 5], (4, 5): [4, 5]}\n",
      "canais:2, origem:2, destino:4, rota:[(2, 4)], caminho: [2, 4]\n",
      "canais:2, origem:2, destino:5, rota:[(2, 5)], caminho: [2, 5]\n",
      "{(1, 0): [1, 0], (2, 0): [2, 0], (3, 0): [3, 0], (4, 0): [4, 0], (5, 0): [5, 0], (0, 1): [0, 1], (2, 1): [2, 1], (3, 1): [3, 1], (4, 1): [4, 1], (5, 1): [5, 1], (0, 2): [0, 2], (1, 2): [1, 2], (3, 2): [3, 2], (4, 2): [4, 2], (5, 2): [5, 2], (0, 3): [0, 3], (1, 3): [1, 3], (2, 3): [2, 3], (4, 3): [4, 3], (5, 3): [5, 0, 3], (0, 4): [0, 4], (1, 4): [1, 4], (2, 4): [2, 4], (3, 4): [3, 4], (5, 4): [5, 4], (0, 5): [0, 5], (1, 5): [1, 5], (2, 5): [2, 5], (3, 5): [3, 0, 5], (4, 5): [4, 5]}\n",
      "{(1, 0): [1, 0], (2, 0): [2, 0], (3, 0): [3, 0], (4, 0): [4, 0], (5, 0): [5, 0], (0, 1): [0, 1], (2, 1): [2, 1], (3, 1): [3, 1], (4, 1): [4, 1], (5, 1): [5, 1], (0, 2): [0, 2], (1, 2): [1, 2], (3, 2): [3, 2], (4, 2): [4, 2], (5, 2): [5, 2], (0, 3): [0, 3], (1, 3): [1, 3], (2, 3): [2, 3], (4, 3): [4, 3], (5, 3): [5, 0, 3], (0, 4): [0, 4], (1, 4): [1, 4], (2, 4): [2, 4], (3, 4): [3, 4], (5, 4): [5, 4], (0, 5): [0, 5], (1, 5): [1, 5], (2, 5): [2, 5], (3, 5): [3, 0, 5], (4, 5): [4, 5]}\n",
      "canais:2, origem:2, destino:5, rota:[(2, 5)], caminho: [2, 5]\n",
      "canais:2, origem:3, destino:4, rota:[(3, 4)], caminho: [3, 4]\n",
      "{(1, 0): [1, 0], (2, 0): [2, 0], (3, 0): [3, 0], (4, 0): [4, 0], (5, 0): [5, 0], (0, 1): [0, 1], (2, 1): [2, 1], (3, 1): [3, 1], (4, 1): [4, 1], (5, 1): [5, 1], (0, 2): [0, 2], (1, 2): [1, 2], (3, 2): [3, 2], (4, 2): [4, 2], (5, 2): [5, 2], (0, 3): [0, 3], (1, 3): [1, 3], (2, 3): [2, 3], (4, 3): [4, 3], (5, 3): [5, 0, 3], (0, 4): [0, 4], (1, 4): [1, 4], (2, 4): [2, 4], (3, 4): [3, 4], (5, 4): [5, 4], (0, 5): [0, 5], (1, 5): [1, 5], (2, 5): [2, 5], (3, 5): [3, 0, 5], (4, 5): [4, 5]}\n",
      "{(1, 0): [1, 0], (2, 0): [2, 0], (3, 0): [3, 0], (4, 0): [4, 0], (5, 0): [5, 0], (0, 1): [0, 1], (2, 1): [2, 1], (3, 1): [3, 1], (4, 1): [4, 1], (5, 1): [5, 1], (0, 2): [0, 2], (1, 2): [1, 2], (3, 2): [3, 2], (4, 2): [4, 2], (5, 2): [5, 2], (0, 3): [0, 3], (1, 3): [1, 3], (2, 3): [2, 3], (4, 3): [4, 3], (5, 3): [5, 0, 3], (0, 4): [0, 4], (1, 4): [1, 4], (2, 4): [2, 4], (3, 4): [3, 4], (5, 4): [5, 4], (0, 5): [0, 5], (1, 5): [1, 5], (2, 5): [2, 5], (3, 5): [3, 0, 5], (4, 5): [4, 5]}\n",
      "canais:2, origem:3, destino:4, rota:[(3, 4)], caminho: [3, 4]\n",
      "canais:2, origem:3, destino:5, rota:[(3, 0), (0, 5)], caminho: [3, 0, 5]\n",
      "{(1, 0): [1, 0], (2, 0): [2, 0], (3, 0): [3, 0], (4, 0): [4, 0], (5, 0): [5, 0], (0, 1): [0, 1], (2, 1): [2, 1], (3, 1): [3, 1], (4, 1): [4, 1], (5, 1): [5, 1], (0, 2): [0, 2], (1, 2): [1, 2], (3, 2): [3, 2], (4, 2): [4, 2], (5, 2): [5, 2], (0, 3): [0, 3], (1, 3): [1, 3], (2, 3): [2, 3], (4, 3): [4, 3], (5, 3): [5, 0, 3], (0, 4): [0, 4], (1, 4): [1, 4], (2, 4): [2, 4], (3, 4): [3, 4], (5, 4): [5, 4], (0, 5): [0, 5], (1, 5): [1, 5], (2, 5): [2, 5], (3, 5): [3, 0, 5], (4, 5): [4, 5]}\n",
      "{(1, 0): [1, 0], (2, 0): [2, 0], (3, 0): [3, 0], (4, 0): [4, 0], (5, 0): [5, 0], (0, 1): [0, 1], (2, 1): [2, 1], (3, 1): [3, 1], (4, 1): [4, 1], (5, 1): [5, 1], (0, 2): [0, 2], (1, 2): [1, 2], (3, 2): [3, 2], (4, 2): [4, 2], (5, 2): [5, 2], (0, 3): [0, 3], (1, 3): [1, 3], (2, 3): [2, 3], (4, 3): [4, 3], (5, 3): [5, 0, 3], (0, 4): [0, 4], (1, 4): [1, 4], (2, 4): [2, 4], (3, 4): [3, 4], (5, 4): [5, 4], (0, 5): [0, 5], (1, 5): [1, 5], (2, 5): [2, 5], (3, 5): [3, 0, 5], (4, 5): [4, 5]}\n",
      "canais:2, origem:3, destino:5, rota:[(3, 0), (0, 5)], caminho: [3, 0, 5]\n",
      "canais:2, origem:4, destino:5, rota:[(4, 5)], caminho: [4, 5]\n",
      "{(1, 0): [1, 0], (2, 0): [2, 0], (3, 0): [3, 0], (4, 0): [4, 0], (5, 0): [5, 0], (0, 1): [0, 1], (2, 1): [2, 1], (3, 1): [3, 1], (4, 1): [4, 1], (5, 1): [5, 1], (0, 2): [0, 2], (1, 2): [1, 2], (3, 2): [3, 2], (4, 2): [4, 2], (5, 2): [5, 2], (0, 3): [0, 3], (1, 3): [1, 3], (2, 3): [2, 3], (4, 3): [4, 3], (5, 3): [5, 0, 3], (0, 4): [0, 4], (1, 4): [1, 4], (2, 4): [2, 4], (3, 4): [3, 4], (5, 4): [5, 4], (0, 5): [0, 5], (1, 5): [1, 5], (2, 5): [2, 5], (3, 5): [3, 0, 5], (4, 5): [4, 5]}\n",
      "{(1, 0): [1, 0], (2, 0): [2, 0], (3, 0): [3, 0], (4, 0): [4, 0], (5, 0): [5, 0], (0, 1): [0, 1], (2, 1): [2, 1], (3, 1): [3, 1], (4, 1): [4, 1], (5, 1): [5, 1], (0, 2): [0, 2], (1, 2): [1, 2], (3, 2): [3, 2], (4, 2): [4, 2], (5, 2): [5, 2], (0, 3): [0, 3], (1, 3): [1, 3], (2, 3): [2, 3], (4, 3): [4, 3], (5, 3): [5, 0, 3], (0, 4): [0, 4], (1, 4): [1, 4], (2, 4): [2, 4], (3, 4): [3, 4], (5, 4): [5, 4], (0, 5): [0, 5], (1, 5): [1, 5], (2, 5): [2, 5], (3, 5): [3, 0, 5], (4, 5): [4, 5]}\n",
      "canais:2, origem:4, destino:5, rota:[(4, 5)], caminho: [4, 5]\n",
      "demandas:31, rede:scteste, bloqueios:0, wiener: 16, grau: 4.666666666666667\n",
      "matriz:\n",
      "[[0 1 1 1 1 1]\n",
      " [1 0 1 1 1 1]\n",
      " [1 1 0 1 1 1]\n",
      " [1 1 1 0 1 1]\n",
      " [1 1 1 1 0 1]\n",
      " [1 1 1 1 1 0]]\n"
     ]
    }
   ],
   "source": [
    "n='scteste'\n",
    "matrix = np.matrix(matrizes.get(n)) #cópia instanciada\n",
    "for i in range(3):\n",
    "    print(\"\\n===========iteracao ({})============\\n\".format(i))\n",
    "    rede = sim_rede(n,matrix,2)\n",
    "    print(\"wiener antes: {}\".format(rede.wiener()))\n",
    "    for i in range(len(matrix)):\n",
    "        for j in range(len(matrix)):\n",
    "            if(i<j):\n",
    "    #             print(rede.caminhos[i,j])\n",
    "                rede.conectar(i,j)\n",
    "    print(\"demandas:{}, rede:{}, bloqueios:{}, wiener: {}, grau: {}\".format(rede.sum_demandas,n,rede.bloqueios,rede.wiener(),calc_grau(matrix)))\n",
    "    aumentar_grau(matrix,1)\n",
    "#     print(\"demandas(total={}):\\n{}\".format(rede.sum_demandas,rede.demandas))\n",
    "    print(\"matriz:\\n{}\".format(matrix))"
   ]
  },
  {
   "cell_type": "markdown",
   "metadata": {},
   "source": [
    "<h1>Simulação e cálculo de correlação</h1>\n"
   ]
  },
  {
   "cell_type": "markdown",
   "metadata": {},
   "source": [
    "<p>Por fim simula-se o uso da rede:</p>"
   ]
  },
  {
   "cell_type": "code",
   "execution_count": 37,
   "metadata": {},
   "outputs": [],
   "source": [
    "# instanciação das listas para coletar os dados\n",
    "ind_wiener = dict()\n",
    "bloqs = dict()\n",
    "grau = dict()\n",
    "demandas = dict()\n",
    "copias = dict()\n",
    "tentativas = dict()\n",
    "sucesso = dict()\n",
    "n_wiener = dict()\n",
    "n_bloqs = dict()\n",
    "n_demand = dict()\n",
    "correlacao=dict()\n",
    "inc_grau = 1 #incremento do grau"
   ]
  },
  {
   "cell_type": "code",
   "execution_count": 49,
   "metadata": {},
   "outputs": [],
   "source": [
    "mutex2 = Lock()\n",
    "faltam = int(0)\n",
    "def simulacao (n):\n",
    "    init_listas(n)\n",
    "    \n",
    "    it=0\n",
    "    g=0\n",
    "#    for it in range(iteracoes):\n",
    "    mutex2.acquire()\n",
    "    try: #evitar prints bagunçados\n",
    "#         faltam = faltam + 1\n",
    "        print(f\"Começou rede {n}, Faltam: ({faltam})\",file=sys.stderr)\n",
    "    finally:\n",
    "        mutex2.release()\n",
    "        \n",
    "    while g < 5:\n",
    "        g = calc_grau(copias[n])\n",
    "        rede = sim_rede(n,copias[n])\n",
    "#         print (rede.ncanais,file=sys.stderr)\n",
    "#         print(copias[n],file=sys.stderr)\n",
    "#         print(f'iteração: {it}',file=sys.stderr)\n",
    "        ind_wiener[n] += [rede.wiener()]\n",
    "        grau[n] += [calc_grau(copias[n])]\n",
    "        conexoes = len(rede.matrix)**2 # numero de interconexões é o numero de nós na portencia de 3\n",
    "        conexoes = len(rede.matrix)*10\n",
    "        for l in range(conexoes): \n",
    "            j = randint(0,len(matrix)-1)\n",
    "            i = randint(0,len(matrix)-1)\n",
    "            while j == i: #origem e destino devem ser diferentes\n",
    "                j = randint(0,len(matrix)-1)\n",
    "            rede.conectar(i,j)\n",
    "        tentativas[n] += [conexoes]\n",
    "        bloqs[n] += [rede.bloqueios]\n",
    "        sucesso[n] += [rede.sucesso]\n",
    "        demandas[n] += [rede.sum_demandas]\n",
    "#         print(\"rede:{}, grau:{}, bloqueios:{}, wiener: {},conexões: {}, sucesso: {}\".format(n,grau[n][it],rede.bloqueios,ind_wiener[n][it],conexoes,rede.sucesso),file=sys.stderr)\n",
    "        if calc_grau(copias[n]) == (len(copias[n])-1): #grau máximo para\n",
    "            break\n",
    "        aumentar_grau(copias[n],inc_grau)\n",
    "        it += 1\n",
    "        \n",
    "    mutex2.acquire()\n",
    "    try: #evitar prints bagunçados\n",
    "#         faltam = faltam - 1\n",
    "        print(f\"Rede {n} pronta. Faltam:({faltam})\" ,file=sys.stderr)   \n",
    "    finally:\n",
    "        mutex2.release()"
   ]
  },
  {
   "cell_type": "code",
   "execution_count": 50,
   "metadata": {},
   "outputs": [],
   "source": [
    "#instanciar listas de relatórios:\n",
    "def init_listas(n):\n",
    "    ind_wiener.update({n:[]})\n",
    "    bloqs.update({n:[]})\n",
    "    grau.update({n:[]})\n",
    "    copias.update({n:np.matrix(matrizes.get(n))}) #copias das matrizes originais\n",
    "    demandas.update({n:[]})\n",
    "    tentativas.update({n:[]})\n",
    "    sucesso.update({n:[]})\n",
    "    n_wiener.update({n:[]})\n",
    "    n_bloqs.update({n:[]})\n",
    "    n_demand.update({n:[]})"
   ]
  },
  {
   "cell_type": "code",
   "execution_count": 51,
   "metadata": {},
   "outputs": [
    {
     "name": "stderr",
     "output_type": "stream",
     "text": [
      "Começou rede scteste, Faltam: (0)\n",
      "Rede scteste pronta. Faltam:(0)\n"
     ]
    }
   ],
   "source": [
    "%%capture --no-stderr\n",
    "teste = 'scteste'\n",
    "# teste = 'OmnicomEurope'\n",
    "# teste = 'usaGde'\n",
    "# teste = 'cesnet'\n",
    "n = teste\n",
    "\n",
    "#inicia listas vazias para o relatório\n",
    "# init_listas(n)\n",
    "\n",
    "simulacao (teste)"
   ]
  },
  {
   "cell_type": "markdown",
   "metadata": {},
   "source": [
    "Normalização das entradas wiener e blocks para adequar todas as redes:"
   ]
  },
  {
   "cell_type": "code",
   "execution_count": 52,
   "metadata": {},
   "outputs": [],
   "source": [
    "def percentual (vin):\n",
    "    minimo = np.min(vin)\n",
    "    maximo = np.max(vin)\n",
    "    return  ( (vin - np.min(vin)) * 100) / (maximo - minimo)\n",
    "def normalizar (lista):\n",
    "    n_lista = []\n",
    "    mean = np.mean(lista)\n",
    "    std = np.std(lista)\n",
    "    for v in lista:\n",
    "        n_lista.append((v - mean)/std)\n",
    "    n_lista = percentual(n_lista)\n",
    "#         n_lista.append((v - mean)/std)\n",
    "\n",
    "# percentual:\n",
    "    # max = 100\n",
    "    # min = 0\n",
    "\n",
    "    return n_lista\n",
    "def norm_rede(n):\n",
    "    n_wiener.update({n:normalizar(ind_wiener[n]) })\n",
    "    n_bloqs.update({n:normalizar(bloqs[n])})\n",
    "    n_demand.update({n:normalizar(demandas[n])})\n"
   ]
  },
  {
   "cell_type": "code",
   "execution_count": 60,
   "metadata": {},
   "outputs": [],
   "source": [
    "def print_rede(n):\n",
    "    tb = []\n",
    "    print(f'{\"wiener\":>10}{\"demand\":>10}{\"Blocks\":>10}{\"grau\":>10}{\"tentativas\":>12}{\"sucesso\":>10}{\"tx de b\":>10}{\"nd\":>10}{\"nw\":>10}{\"nb\":>10}')\n",
    "    for a,b,c,d,e,f,nw,nb,nd in zip(ind_wiener[n],demandas[n],bloqs[n],grau[n],tentativas[n],sucesso[n],n_wiener[n],n_bloqs[n],n_demand[n]):\n",
    "        print (f\"{a:10}{b:10}{c:10}{d:10.2f}{e:12}{f:10}{c/b:10.2f}{nd:>10.2f}{nw:>10.2f}{nb:>10.2f}\")\n",
    "        tb.append(c/b)\n",
    "#         tb.append(nb/nd)\n",
    "    print(f\"\\ncorrelação de TX de bloqueio/wiener\")\n",
    "    correlacao[n]=corr(tb,ind_wiener[n],True)\n",
    "#     corr(tb,n_wiener[n],True)"
   ]
  },
  {
   "cell_type": "code",
   "execution_count": 61,
   "metadata": {},
   "outputs": [
    {
     "name": "stdout",
     "output_type": "stream",
     "text": [
      "    wiener    demand    Blocks      grau  tentativas   sucesso   tx de b        nd        nw        nb\n",
      "      3166       672       150      2.84         380       230      0.22      0.00    100.00    100.00\n",
      "      1969       792       129      3.84         380       251      0.16     47.81     25.51     69.57\n",
      "      1705       779       121      4.84         380       259      0.16     42.63      9.09     57.97\n",
      "      1559       923        81      5.84         380       299      0.09    100.00      0.00      0.00\n",
      "\n",
      "correlação de TX de bloqueio/wiener\n",
      "Taxa de correlação entre [x] e [y] é:\n",
      "107.9355950143613\n",
      "----------------- =  0.8882486235376101\n",
      "121.51507151735102\n"
     ]
    }
   ],
   "source": [
    "norm_rede(n)\n",
    "print_rede(n)"
   ]
  },
  {
   "cell_type": "code",
   "execution_count": 55,
   "metadata": {},
   "outputs": [
    {
     "name": "stderr",
     "output_type": "stream",
     "text": [
      "Precione S para executar, T para executar tbm usaGde:\n"
     ]
    },
    {
     "name": "stdout",
     "output_type": "stream",
     "text": [
      "s\n"
     ]
    },
    {
     "name": "stderr",
     "output_type": "stream",
     "text": [
      "Começou rede canarie, Faltam: (0)\n",
      "Começou rede italy, Faltam: (0)\n",
      "Começou rede vbns, Faltam: (0)\n",
      "Começou rede loni, Faltam: (0)\n",
      "Começou rede germany, Faltam: (0)\n",
      "Começou rede geant2, Faltam: (0)\n",
      "Começou rede arpanet, Faltam: (0)\n",
      "Começou rede cesnet, Faltam: (0)\n",
      "Começou rede newnet, Faltam: (0)\n",
      "Começou rede rnpBrazil, Faltam: (0)\n",
      "Rede italy pronta. Faltam:(0)\n",
      "Começou rede pionier, Faltam: (0)\n",
      "Rede vbns pronta. Faltam:(0)\n",
      "Começou rede spain, Faltam: (0)\n",
      "Rede cesnet pronta. Faltam:(0)\n",
      "Começou rede renater, Faltam: (0)\n",
      "Rede rnpBrazil pronta. Faltam:(0)\n",
      "Começou rede lambdaRailUsa, Faltam: (0)\n",
      "Rede germany pronta. Faltam:(0)\n",
      "Começou rede metrona, Faltam: (0)\n",
      "Rede arpanet pronta. Faltam:(0)\n",
      "Começou rede arnes, Faltam: (0)\n",
      "Rede canarie pronta. Faltam:(0)\n",
      "Começou rede bren, Faltam: (0)\n",
      "Rede spain pronta. Faltam:(0)\n",
      "Começou rede portugal, Faltam: (0)\n",
      "Rede geant2 pronta. Faltam:(0)\n",
      "Começou rede sanet, Faltam: (0)\n",
      "Rede newnet pronta. Faltam:(0)\n",
      "Começou rede nsfnet, Faltam: (0)\n",
      "Rede bren pronta. Faltam:(0)\n",
      "Começou rede austria, Faltam: (0)\n",
      "Rede pionier pronta. Faltam:(0)\n",
      "Começou rede viaDatacenterNet, Faltam: (0)\n",
      "Rede lambdaRailUsa pronta. Faltam:(0)\n",
      "Começou rede coxUsa, Faltam: (0)\n",
      "Rede arnes pronta. Faltam:(0)\n",
      "Começou rede mzima, Faltam: (0)\n",
      "Rede loni pronta. Faltam:(0)\n",
      "Começou rede scteste, Faltam: (0)\n",
      "Rede viaDatacenterNet pronta. Faltam:(0)\n",
      "Começou rede eon, Faltam: (0)\n",
      "Rede nsfnet pronta. Faltam:(0)\n",
      "Começou rede memorexEurope, Faltam: (0)\n",
      "Rede renater pronta. Faltam:(0)\n",
      "Começou rede deutschTelecom, Faltam: (0)\n",
      "Rede austria pronta. Faltam:(0)\n",
      "Começou rede internet2Usa, Faltam: (0)\n",
      "Rede scteste pronta. Faltam:(0)\n",
      "Começou rede OmnicomEurope, Faltam: (0)\n",
      "Rede mzima pronta. Faltam:(0)\n",
      "Rede coxUsa pronta. Faltam:(0)\n",
      "Rede portugal pronta. Faltam:(0)\n",
      "Rede metrona pronta. Faltam:(0)\n",
      "Rede deutschTelecom pronta. Faltam:(0)\n",
      "Rede eon pronta. Faltam:(0)\n",
      "Rede sanet pronta. Faltam:(0)\n",
      "Rede memorexEurope pronta. Faltam:(0)\n",
      "Rede OmnicomEurope pronta. Faltam:(0)\n",
      "Rede internet2Usa pronta. Faltam:(0)\n"
     ]
    }
   ],
   "source": [
    "%%capture --no-stderr\n",
    "# /\\ suprime a saída pode atribuir a uma var: %capture [--no-stderr] [--no-stdout] [--no-display] [output]\n",
    "\n",
    "# Preparar as listas para receberem os resultados\n",
    "\n",
    "print(\"Precione S para executar, T para executar tbm usaGde:\",file=sys.stderr)\n",
    "resposta = input().lower()\n",
    "if resposta == 's' or resposta =='t':\n",
    "    #inicia listas vazias para os relatorios\n",
    "    init_listas(n)\n",
    "\n",
    "    if resposta == 't':\n",
    "        todos = names\n",
    "    else:\n",
    "        todos = [n for n in names if n!='usaGde']\n",
    "        \n",
    "    #simula cada rede em uma thread diferente\n",
    "    with concurrent.futures.ThreadPoolExecutor() as executor:\n",
    "        executor.map(simulacao,todos)\n",
    "else:\n",
    "    print(\"Cancelado\",file=sys.stderr)\n",
    "# for n in [n for n in names if n!='usaGde']: #paralelizei internamente cada rede\n",
    "#     simulacao(n)"
   ]
  },
  {
   "cell_type": "code",
   "execution_count": 79,
   "metadata": {},
   "outputs": [
    {
     "name": "stdout",
     "output_type": "stream",
     "text": [
      "\n",
      "canarie(19):\n",
      "    wiener    demand    Blocks      grau  tentativas   sucesso   tx de b        nd        nw        nb\n",
      "       519       206       116      2.74         190        74      0.56      0.00    100.00    100.00\n",
      "       380       284        97      3.79         190        93      0.34     51.66     34.12     67.80\n",
      "       336       294        82      4.84         190       108      0.28     58.28     13.27     42.37\n",
      "       308       357        57      5.89         190       133      0.16    100.00      0.00      0.00\n",
      "\n",
      "correlação de TX de bloqueio/wiener\n",
      "Taxa de correlação entre [x] e [y] é:\n",
      "46.780356245465555\n",
      "------------------ =  0.9836962293454979\n",
      "47.55569336337789\n",
      "\n",
      "italy(14):\n",
      "    wiener    demand    Blocks      grau  tentativas   sucesso   tx de b        nd        nw        nb\n",
      "       170       196        57      4.14         140        83      0.29      0.00    100.00    100.00\n",
      "       152       291        33      5.14         140       107      0.11    100.00      0.00      0.00\n",
      "\n",
      "correlação de TX de bloqueio/wiener\n",
      "Taxa de correlação entre [x] e [y] é:\n",
      "1.596728382074474\n",
      "----------------- =  0.9999999999999967\n",
      "1.5967283820744793\n",
      "\n",
      "vbns(12):\n",
      "    wiener    demand    Blocks      grau  tentativas   sucesso   tx de b        nd        nw        nb\n",
      "       156       167        58      2.83         120        62      0.35      0.00    100.00    100.00\n",
      "       120       217        46      3.83         120        74      0.21     45.05     23.40     64.71\n",
      "       109       278        24      5.00         120        96      0.09    100.00      0.00      0.00\n",
      "\n",
      "correlação de TX de bloqueio/wiener\n",
      "Taxa de correlação entre [x] e [y] é:\n",
      "6.1732046300926555\n",
      "------------------ =  0.9619997965466631\n",
      "6.417053987176406\n",
      "\n",
      "loni(33):\n",
      "    wiener    demand    Blocks      grau  tentativas   sucesso   tx de b        nd        nw        nb\n",
      "      2885       608       220      2.24         330       110      0.36      0.00    100.00    100.00\n",
      "      1603       646       157      3.27         330       173      0.24     63.33     25.94     31.52\n",
      "      1286       668       132      4.30         330       198      0.20    100.00      7.63      4.35\n",
      "      1154       636       128      5.33         330       202      0.20     46.67      0.00      0.00\n",
      "\n",
      "correlação de TX de bloqueio/wiener\n",
      "Taxa de correlação entre [x] e [y] é:\n",
      "181.39377362746336\n",
      "------------------ =  0.9953519863928058\n",
      "182.24083149202468\n",
      "\n",
      "germany(17):\n",
      "    wiener    demand    Blocks      grau  tentativas   sucesso   tx de b        nd        nw        nb\n",
      "       367       271        79      3.06         170        91      0.29      0.00    100.00    100.00\n",
      "       279       360        41      4.12         170       129      0.11     87.25     29.60     15.56\n",
      "       242       373        34      5.18         170       136      0.09    100.00      0.00      0.00\n",
      "\n",
      "correlação de TX de bloqueio/wiener\n",
      "Taxa de correlação entre [x] e [y] é:\n",
      "13.839053852334757\n",
      "------------------ =  0.9822962782625229\n",
      "14.088472244660394\n",
      "\n",
      "geant2(32):\n",
      "    wiener    demand    Blocks      grau  tentativas   sucesso   tx de b        nd        nw        nb\n",
      "      1643       490       192      3.12         320       128      0.39     35.44    100.00    100.00\n",
      "      1246       462       191      4.12         320       129      0.41      0.00     25.38     97.14\n",
      "      1111       541       157      5.12         320       163      0.29    100.00      0.00      0.00\n",
      "\n",
      "correlação de TX de bloqueio/wiener\n",
      "Taxa de correlação entre [x] e [y] é:\n",
      "20.711563330311947\n",
      "------------------ =  0.5691100034875675\n",
      "36.39289979685694\n",
      "\n",
      "arpanet(20):\n",
      "    wiener    demand    Blocks      grau  tentativas   sucesso   tx de b        nd        nw        nb\n",
      "       523       331        98      3.20         200       102      0.30      0.00    100.00    100.00\n",
      "       394       444        58      4.20         200       142      0.13     74.34     24.56     31.03\n",
      "       352       483        40      5.20         200       160      0.08    100.00      0.00      0.00\n",
      "\n",
      "correlação de TX de bloqueio/wiener\n",
      "Taxa de correlação entre [x] e [y] é:\n",
      "19.93904528273373\n",
      "----------------- =  0.9997447593987865\n",
      "19.944135835955183\n",
      "\n",
      "cesnet(12):\n",
      "    wiener    demand    Blocks      grau  tentativas   sucesso   tx de b        nd        nw        nb\n",
      "       134       195        54      3.17         120        66      0.28      0.00    100.00    100.00\n",
      "       114       250        35      4.17         120        85      0.14     88.71     33.33     36.67\n",
      "       104       257        24      5.17         120        96      0.09    100.00      0.00      0.00\n",
      "\n",
      "correlação de TX de bloqueio/wiener\n",
      "Taxa de correlação entre [x] e [y] é:\n",
      "2.903581761947521\n",
      "----------------- =  0.9962471236919133\n",
      "2.914519593479344\n",
      "\n",
      "newnet(26):\n",
      "    wiener    demand    Blocks      grau  tentativas   sucesso   tx de b        nd        nw        nb\n",
      "      1351       341       164      2.38         260        96      0.48      0.00    100.00    100.00\n",
      "       835       506       119      3.38         260       141      0.24    100.00     25.33     29.69\n",
      "       729       453       120      4.38         260       140      0.26     67.88      9.99     31.25\n",
      "       660       461       100      5.38         260       160      0.22     72.73      0.00      0.00\n",
      "\n",
      "correlação de TX de bloqueio/wiener\n",
      "Taxa de correlação entre [x] e [y] é:\n",
      "111.74501804437455\n",
      "------------------ =  0.9702033882888951\n",
      "115.17689939369755\n",
      "\n",
      "rnpBrazil(10):\n",
      "    wiener    demand    Blocks      grau  tentativas   sucesso   tx de b        nd        nw        nb\n",
      "       103       171        51      2.40         100        49      0.30      0.00    100.00    100.00\n",
      "        82       211        29      3.40         100        71      0.14     57.97     47.50     48.84\n",
      "        71       196        23      4.40         100        77      0.12     36.23     20.00     34.88\n",
      "        63       240         8      5.40         100        92      0.03    100.00      0.00      0.00\n",
      "\n",
      "correlação de TX de bloqueio/wiener\n",
      "Taxa de correlação entre [x] e [y] é:\n",
      "5.658333184857888\n",
      "----------------- =  0.9821670015935972\n",
      "5.761070343105666\n",
      "\n",
      "pionier(21):\n",
      "    wiener    demand    Blocks      grau  tentativas   sucesso   tx de b        nd        nw        nb\n",
      "       700       400       126      2.38         210        84      0.32      0.00    100.00    100.00\n",
      "       506       427        85      3.43         210       125      0.20     69.23     37.42     43.06\n",
      "       433       437        65      4.48         210       145      0.15     94.87     13.87     15.28\n",
      "       390       439        54      5.52         210       156      0.12    100.00      0.00      0.00\n",
      "\n",
      "correlação de TX de bloqueio/wiener\n",
      "Taxa de correlação entre [x] e [y] é:\n",
      "35.0008193640906\n",
      "---------------- =  0.9996377135046345\n",
      "35.013504283848064\n",
      "\n",
      "spain(17):\n",
      "    wiener    demand    Blocks      grau  tentativas   sucesso   tx de b        nd        nw        nb\n",
      "       300       212        95      3.29         170        75      0.45      0.00    100.00    100.00\n",
      "       262       315        62      4.35         170       108      0.20    100.00     32.14     19.51\n",
      "       244       304        54      5.41         170       116      0.18     89.32      0.00      0.00\n",
      "\n",
      "correlação de TX de bloqueio/wiener\n",
      "Taxa de correlação entre [x] e [y] é:\n",
      "8.347132243606922\n",
      "----------------- =  0.9672526407242239\n",
      "8.629733217742432\n",
      "\n",
      "renater(27):\n",
      "    wiener    demand    Blocks      grau  tentativas   sucesso   tx de b        nd        nw        nb\n",
      "      1130       397       156      2.59         270       114      0.39     10.68    100.00    100.00\n",
      "       895       375       144      3.63         270       126      0.38      0.00     43.24     81.25\n",
      "       796       385       143      4.67         270       127      0.37      4.85     19.32     79.69\n",
      "       716       581        92      5.70         270       178      0.16    100.00      0.00      0.00\n",
      "\n",
      "correlação de TX de bloqueio/wiener\n",
      "Taxa de correlação entre [x] e [y] é:\n",
      "41.27418264349217\n",
      "----------------- =  0.6810846217128835\n",
      "60.600667417347175\n",
      "\n",
      "lambdaRailUsa(19):\n",
      "    wiener    demand    Blocks      grau  tentativas   sucesso   tx de b        nd        nw        nb\n",
      "       602       402       108      2.42         190        82      0.27     74.71    100.00    100.00\n",
      "       415       424        90      3.47         190       100      0.21    100.00     35.96     47.06\n",
      "       354       347        87      4.53         190       103      0.25     11.49     15.07     38.24\n",
      "       310       337        74      5.58         190       116      0.22      0.00      0.00      0.00\n",
      "\n",
      "correlação de TX de bloqueio/wiener\n",
      "Taxa de correlação entre [x] e [y] é:\n",
      "6.894542055895556\n",
      "----------------- =  0.6750386497488752\n",
      "10.213551562507469\n",
      "\n",
      "metrona(33):\n",
      "    wiener    demand    Blocks      grau  tentativas   sucesso   tx de b        nd        nw        nb\n",
      "      2519       412       202      2.48         330       128      0.49      0.00    100.00    100.00\n",
      "      1488       542       146      3.52         330       184      0.27     35.52     25.51     59.12\n",
      "      1249       721        92      4.55         330       238      0.13     84.43      8.24     19.71\n",
      "      1135       778        65      5.58         330       265      0.08    100.00      0.00      0.00\n",
      "\n",
      "correlação de TX de bloqueio/wiener\n",
      "Taxa de correlação entre [x] e [y] é:\n",
      "338.95484623416564\n",
      "------------------ =  0.9770248419073536\n",
      "346.92551478267023\n",
      "\n",
      "arnes(17):\n",
      "    wiener    demand    Blocks      grau  tentativas   sucesso   tx de b        nd        nw        nb\n",
      "       411       182       116      2.35         170        54      0.64      0.00    100.00    100.00\n",
      "       305       258        84      3.41         170        86      0.33     76.77     40.11     34.69\n",
      "       254       278        72      4.47         170        98      0.26     96.97     11.30     10.20\n",
      "       234       281        67      5.53         170       103      0.24    100.00      0.00      0.00\n",
      "\n",
      "correlação de TX de bloqueio/wiener\n",
      "Taxa de correlação entre [x] e [y] é:\n",
      "43.264464852810306\n",
      "------------------ =  0.9828557694976944\n",
      "44.019139120403565\n",
      "\n",
      "bren(10):\n",
      "    wiener    demand    Blocks      grau  tentativas   sucesso   tx de b        nd        nw        nb\n",
      "       105       191        48      2.20         100        52      0.25     57.78    100.00    100.00\n",
      "        81       165        43      3.20         100        57      0.26      0.00     41.46     82.76\n",
      "        71       181        34      4.20         100        66      0.19     35.56     17.07     51.72\n",
      "        64       210        19      5.20         100        81      0.09    100.00      0.00      0.00\n",
      "\n",
      "correlação de TX de bloqueio/wiener\n",
      "Taxa de correlação entre [x] e [y] é:\n",
      "3.2075426774010936\n",
      "------------------ =  0.7615722910902216\n",
      "4.211737631380163\n",
      "\n",
      "portugal(26):\n",
      "    wiener    demand    Blocks      grau  tentativas   sucesso   tx de b        nd        nw        nb\n",
      "      1183       743       126      2.77         260       134      0.17    100.00    100.00     85.00\n",
      "       793       463       129      3.77         260       131      0.28     13.31     28.44    100.00\n",
      "       692       420       123      4.77         260       137      0.29      0.00      9.91     70.00\n",
      "       638       459       109      5.77         260       151      0.24     12.07      0.00      0.00\n",
      "\n",
      "correlação de TX de bloqueio/wiener\n",
      "Taxa de correlação entre [x] e [y] é:\n",
      "-33.03033716471157\n",
      "------------------ =  -0.8091358087158719\n",
      "40.82174686735459\n",
      "\n",
      "sanet(25):\n",
      "    wiener    demand    Blocks      grau  tentativas   sucesso   tx de b        nd        nw        nb\n",
      "      1334       473       146      2.24         250       104      0.31     45.06    100.00    100.00\n",
      "       804       368       143      3.28         250       107      0.39      0.00     27.89     95.65\n",
      "       669       601        77      4.32         250       173      0.13    100.00      9.52      0.00\n",
      "       599       462        94      5.36         250       156      0.20     40.34      0.00     24.64\n",
      "\n",
      "correlação de TX de bloqueio/wiener\n",
      "Taxa de correlação entre [x] e [y] é:\n",
      "55.71814385307073\n",
      "----------------- =  0.4867015341296733\n",
      "114.48113462947413\n",
      "\n",
      "nsfnet(14):\n",
      "    wiener    demand    Blocks      grau  tentativas   sucesso   tx de b        nd        nw        nb\n",
      "       195       268        59      3.00         140        81      0.22      0.00    100.00    100.00\n",
      "       169       270        50      4.00         140        90      0.19      3.23     42.22     75.00\n",
      "       150       330        23      5.00         140       117      0.07    100.00      0.00      0.00\n",
      "\n",
      "correlação de TX de bloqueio/wiener\n",
      "Taxa de correlação entre [x] e [y] é:\n",
      "3.2912315526743328\n",
      "------------------ =  0.9251870423674899\n",
      "3.55736883674062\n",
      "\n",
      "austria(15):\n",
      "    wiener    demand    Blocks      grau  tentativas   sucesso   tx de b        nd        nw        nb\n",
      "       228       190        81      2.93         150        69      0.43      0.00    100.00    100.00\n",
      "       202       239        64      4.00         150        86      0.27     77.78     36.59     39.29\n",
      "       187       253        53      5.07         150        97      0.21    100.00      0.00      0.00\n",
      "\n",
      "correlação de TX de bloqueio/wiener\n",
      "Taxa de correlação entre [x] e [y] é:\n",
      "4.628775301244502\n",
      "----------------- =  0.9942656679547257\n",
      "4.655471319618446\n",
      "\n",
      "viaDatacenterNet(9):\n",
      "    wiener    demand    Blocks      grau  tentativas   sucesso   tx de b        nd        nw        nb\n",
      "        71       131        43      2.67          90        47      0.33      0.00    100.00    100.00\n",
      "        56       146        35      3.78          90        55      0.24     18.29     42.31     77.78\n",
      "        50       173        22      4.89          90        68      0.13     51.22     19.23     41.67\n",
      "        45       213         7      6.00          90        83      0.03    100.00      0.00      0.00\n",
      "\n",
      "correlação de TX de bloqueio/wiener\n",
      "Taxa de correlação entre [x] e [y] é:\n",
      "4.16315688538748\n",
      "---------------- =  0.9541461551260165\n",
      "4.363227649162031\n",
      "\n",
      "coxUsa(24):\n",
      "    wiener    demand    Blocks      grau  tentativas   sucesso   tx de b        nd        nw        nb\n",
      "       750       443        83      3.33         240       157      0.19      0.00    100.00     90.00\n",
      "       635       446        85      4.42         240       155      0.19      3.16     39.47    100.00\n",
      "       560       538        65      5.42         240       175      0.12    100.00      0.00      0.00\n",
      "\n",
      "correlação de TX de bloqueio/wiener\n",
      "Taxa de correlação entre [x] e [y] é:\n",
      "5.83480750525797\n",
      "---------------- =  0.7741038228910869\n",
      "7.53749992277057\n",
      "\n",
      "mzima(15):\n",
      "    wiener    demand    Blocks      grau  tentativas   sucesso   tx de b        nd        nw        nb\n",
      "       290       206        89      2.53         150        61      0.43      0.00    100.00    100.00\n",
      "       207       257        62      3.60         150        88      0.24     45.54     29.66     52.63\n",
      "       184       291        45      4.67         150       105      0.15     75.89     10.17     22.81\n",
      "       172       318        32      5.73         150       118      0.10    100.00      0.00      0.00\n",
      "\n",
      "correlação de TX de bloqueio/wiener\n",
      "Taxa de correlação entre [x] e [y] é:\n",
      "22.977059208841922\n",
      "------------------ =  0.9909940379712416\n",
      "23.18587027615267\n",
      "\n",
      "scteste(6):\n",
      "    wiener    demand    Blocks      grau  tentativas   sucesso   tx de b        nd        nw        nb\n",
      "        25        90        27      2.33          60        33      0.30      0.00    100.00    100.00\n",
      "        20       102        19      3.33          60        41      0.19     52.17     50.00     52.94\n",
      "        16       113        10      4.67          60        50      0.09    100.00     10.00      0.00\n",
      "        15       103        12      5.00          60        48      0.12     56.52      0.00     11.76\n",
      "\n",
      "correlação de TX de bloqueio/wiener\n",
      "Taxa de correlação entre [x] e [y] é:\n",
      "1.2547683666644787\n",
      "------------------ =  0.9763796045276464\n",
      "1.2851234917709198\n",
      "\n",
      "eon(19):\n",
      "    wiener    demand    Blocks      grau  tentativas   sucesso   tx de b        nd        nw        nb\n",
      "       398       274        83      3.89         190       107      0.30      0.00    100.00    100.00\n",
      "       339       391        42      4.95         190       148      0.11    100.00     36.56      2.38\n",
      "       305       383        41      6.00         190       149      0.11     93.16      0.00      0.00\n",
      "\n",
      "correlação de TX de bloqueio/wiener\n",
      "Taxa de correlação entre [x] e [y] é:\n",
      "9.921024454818763\n",
      "----------------- =  0.9330486603809066\n",
      "10.632912168555729\n",
      "\n",
      "memorexEurope(19):\n",
      "    wiener    demand    Blocks      grau  tentativas   sucesso   tx de b        nd        nw        nb\n",
      "       559       260       115      2.53         190        75      0.44      0.00    100.00    100.00\n",
      "       389       388        66      3.58         190       124      0.17     64.65     33.07     40.24\n",
      "       337       458        44      4.63         190       146      0.10    100.00     12.60     13.41\n",
      "       305       456        33      5.68         190       157      0.07     98.99      0.00      0.00\n",
      "\n",
      "correlação de TX de bloqueio/wiener\n",
      "Taxa de correlação entre [x] e [y] é:\n",
      "57.480509997428214\n",
      "------------------ =  0.9971120090312686\n",
      "57.64699399546162\n",
      "\n",
      "deutschTelecom(17):\n",
      "    wiener    demand    Blocks      grau  tentativas   sucesso   tx de b        nd        nw        nb\n",
      "       367       248        85      3.06         170        85      0.34      0.00    100.00    100.00\n",
      "       297       298        63      4.12         170       107      0.21     36.50     41.67     57.69\n",
      "       247       385        33      5.18         170       137      0.09    100.00      0.00      0.00\n",
      "\n",
      "correlação de TX de bloqueio/wiener\n",
      "Taxa de correlação entre [x] e [y] é:\n",
      "15.440450417014574\n",
      "------------------ =  0.9965352848871291\n",
      "15.4941331743847\n",
      "\n",
      "internet2Usa(56):\n",
      "    wiener    demand    Blocks      grau  tentativas   sucesso   tx de b        nd        nw        nb\n",
      "     12660       740       379      2.18         560       181      0.51      7.08    100.00    100.00\n",
      "      5639       672       362      3.18         560       198      0.54      0.00     19.39     91.79\n",
      "      4498      1633       172      4.18         560       388      0.11    100.00      6.29      0.00\n",
      "      3950      1269       208      5.18         560       352      0.16     62.12      0.00     17.39\n",
      "\n",
      "correlação de TX de bloqueio/wiener\n",
      "Taxa de correlação entre [x] e [y] é:\n",
      "1815.7470329177868\n",
      "------------------ =  0.6588961467450766\n",
      "2755.740858233141\n",
      "\n",
      "OmnicomEurope(38):\n",
      "    wiener    demand    Blocks      grau  tentativas   sucesso   tx de b        nd        nw        nb\n",
      "      3166       672       150      2.84         380       230      0.22      0.00    100.00    100.00\n",
      "      1969       792       129      3.84         380       251      0.16     47.81     25.51     69.57\n",
      "      1705       779       121      4.84         380       259      0.16     42.63      9.09     57.97\n",
      "      1559       923        81      5.84         380       299      0.09    100.00      0.00      0.00\n",
      "\n",
      "correlação de TX de bloqueio/wiener\n",
      "Taxa de correlação entre [x] e [y] é:\n",
      "107.9355950143613\n",
      "----------------- =  0.8882486235376101\n",
      "121.51507151735102\n"
     ]
    }
   ],
   "source": [
    "names.sort()\n",
    "correlacao=dict()\n",
    "for n in todos:\n",
    "    print (f\"\\n{n}({len(matrizes[n])}):\")\n",
    "    norm_rede(n)\n",
    "    print_rede(n)"
   ]
  },
  {
   "cell_type": "markdown",
   "metadata": {},
   "source": [
    "Mescla todos e calcula a correlação geral:"
   ]
  },
  {
   "cell_type": "markdown",
   "metadata": {},
   "source": [
    "<h2 style='font-family: \"Comic Sans MS\", \"Comic Sans\", cursive;font-size: 30px;font-style: italic' >Correlação Total:</h2>\n",
    "Ponderamos conforme o tamanho de rede, e chegamos neste valor:"
   ]
  },
  {
   "cell_type": "code",
   "execution_count": 97,
   "metadata": {},
   "outputs": [
    {
     "name": "stdout",
     "output_type": "stream",
     "text": [
      "0.7963929334903295\n"
     ]
    }
   ],
   "source": [
    "ptotal = sum([len(matrizes.get(n)) for n in todos])\n",
    "print( sum ([ (correlacao[n] * len(matrizes.get(n)))/ptotal for n in todos]))"
   ]
  },
  {
   "cell_type": "code",
   "execution_count": null,
   "metadata": {},
   "outputs": [],
   "source": []
  },
  {
   "cell_type": "code",
   "execution_count": 80,
   "metadata": {},
   "outputs": [],
   "source": [
    "# ntd = []\n",
    "# tb = []\n",
    "# for n in todos:\n",
    "#     tb += [b/d for b,d in zip(n_bloqs[n],n_demand[n])]\n",
    "#     ntd += n_wiener[n]"
   ]
  }
 ],
 "metadata": {
  "kernelspec": {
   "display_name": "Python 3",
   "language": "python",
   "name": "python3"
  },
  "language_info": {
   "codemirror_mode": {
    "name": "ipython",
    "version": 3
   },
   "file_extension": ".py",
   "mimetype": "text/x-python",
   "name": "python",
   "nbconvert_exporter": "python",
   "pygments_lexer": "ipython3",
   "version": "3.8.5"
  }
 },
 "nbformat": 4,
 "nbformat_minor": 4
}
