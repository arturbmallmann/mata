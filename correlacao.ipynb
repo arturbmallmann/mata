{
 "cells": [
  {
   "cell_type": "markdown",
   "metadata": {},
   "source": [
    "<h1>Correlação Entre Variáveis no Roteamento e atribuição de espectro</h1>\n",
    "<p style='font-size: 20px' >Alunos: André Luiz Maso, Artur Bernardo Mallmann, Maikon Douglas Pereira e Tatiane Barbosa</p>\n",
    "    \n",
    "<p>&emsp;&emsp;Neste Trabalho vamos explorar qual é a correlação entre Taxa de Bloqueio (Tb = B/D), onde B é o número de bloqueios ocorridos durante o RSA (Roteamento e atribuição de espectro) e D é o número total de demandas (soma da triangular superior da matriz de demandas), e o Índice de Wiener da topologia (Soma do comprimento dos enlaces dos caminhos mais curtos)</p>"
   ]
  },
  {
   "cell_type": "code",
   "execution_count": 1,
   "metadata": {},
   "outputs": [],
   "source": [
    "import numpy as np\n",
    "import math\n",
    "from random import *\n",
    "#pandas para base de dados\n",
    "import pandas"
   ]
  },
  {
   "cell_type": "markdown",
   "metadata": {},
   "source": [
    "<h1>Calculo de Coorelação:</h1>"
   ]
  },
  {
   "cell_type": "code",
   "execution_count": 2,
   "metadata": {},
   "outputs": [],
   "source": [
    "def corr(x,y,p=False):\n",
    "    # n\n",
    "    n = len(x)\n",
    "#Somatórios:\n",
    "    #superiores\n",
    "    xysum = np.dot(x,y) #soma dos x*y\n",
    "    xsum = sum(x)\n",
    "    ysum = sum(y)\n",
    "    #inferiores\n",
    "    #soma dos quadrados\n",
    "    x2sum = np.dot(x,x) #multiplica entrada a entrada dos vetores x e ele mesmo e soma\n",
    "    y2sum = sum([v*v for v in y]) #forma na unha de fazer o mesmo\n",
    "    #quadrado das somas:\n",
    "    xsum2 = xsum**2\n",
    "    ysum2 = ysum**2\n",
    "#formula\n",
    "    #parte superior:\n",
    "    sup = (xysum - xsum*ysum/n)\n",
    "    #parte inferior:\n",
    "    infe = math.sqrt ( (x2sum - xsum2/n) * (y2sum - ysum2/n) )\n",
    "    corresult = sup/infe\n",
    "    if(p):\n",
    "        print(\"Taxa de correlação entre [x] e [y] é:\")\n",
    "        print(\"{}\\n\".format(sup)+len(str(sup))*\"-\"+\" =  {}\".format(corresult)+\"\\n{}\".format(infe))\n",
    "    return corresult"
   ]
  },
  {
   "cell_type": "markdown",
   "metadata": {},
   "source": [
    "<h2>Teste Da Correlação</h2>\n",
    "<p>Para calcular a correlação entre os valores de duas variáveis basta entrar com dois vetores com os valores a serem comparados:\n",
    "corr(vec1,vec2)</p>"
   ]
  },
  {
   "cell_type": "code",
   "execution_count": 3,
   "metadata": {},
   "outputs": [
    {
     "name": "stdout",
     "output_type": "stream",
     "text": [
      "Taxa de correlação entre [x] e [y] é:\n",
      "-0.5499999999999998\n",
      "------------------- =  -0.9710083124552239\n",
      "0.5664215155988811\n"
     ]
    },
    {
     "data": {
      "text/plain": [
       "-0.9710083124552239"
      ]
     },
     "execution_count": 3,
     "metadata": {},
     "output_type": "execute_result"
    }
   ],
   "source": [
    "gerax = lambda base,n,dif: [base + x*dif for x in range(n)] # modo preguiçoso de gerar n números espaçados em 0.5\n",
    "#Carregar valores(teste):\n",
    "x = gerax(2.5, 6,0.5)\n",
    "y = [0.4,0.4,0.3,0.2,0.2,0.1]\n",
    "corr(x,y,True)"
   ]
  },
  {
   "cell_type": "markdown",
   "metadata": {},
   "source": [
    "<h1>Carregamento de Dados</h1>\n",
    "<p>Nesta sessão do código é feita a leitura dos arquivos .csv</p>"
   ]
  },
  {
   "cell_type": "code",
   "execution_count": 4,
   "metadata": {},
   "outputs": [],
   "source": [
    "#!/usr/bin/python\n",
    "\n",
    "from pathlib import Path\n",
    "\n",
    "directory = './nodes_links/'\n",
    "allnodes = dict()\n",
    "alllinks = dict()\n",
    "names = list()\n",
    "for path in Path(directory).iterdir():\n",
    "    url = str(path)\n",
    "    netname = path.name.split('_')[0]\n",
    "    if(path.name.count('nodes')==1):\n",
    "        p = allnodes\n",
    "    else:\n",
    "        p = alllinks\n",
    "    try:\n",
    "        item = pandas.read_csv(url)\n",
    "        p.update( {netname : item })\n",
    "    #    print(url+\" lido\")\n",
    "    except:\n",
    "        try:\n",
    "            #mudar o encoding para os caracteres\n",
    "            item = pandas.read_csv(url,encoding=\"iso-8859-1\")\n",
    "            p.update( {netname : item })\n",
    "        #    print(url+\" lido\")\n",
    "        except:\n",
    "            print(\"!!! não foi possivel ler > \"+name+\" < !!!\")\n",
    "            pass\n",
    "    if names.count(netname) == 0:\n",
    "        names.append(netname) \n"
   ]
  },
  {
   "cell_type": "markdown",
   "metadata": {},
   "source": [
    "<p>Todos os links e nós ficam guardados nos dicts alllinks e allnodes, e para serem lidos basta passar o prefixo dos arquivos originais entre colchetes. Estes prefixos são os nomes das nossas redes e ficam salvos no vetor names.</p>"
   ]
  },
  {
   "cell_type": "code",
   "execution_count": 5,
   "metadata": {},
   "outputs": [
    {
     "name": "stdout",
     "output_type": "stream",
     "text": [
      "['canarie', 'italy', 'vbns', 'loni', 'germany', 'geant2', 'arpanet', 'cesnet', 'newnet', 'rnpBrazil', 'pionier', 'spain', 'renater', 'lambdaRailUsa', 'metrona', 'arnes', 'bren', 'portugal', 'usaGde', 'sanet', 'nsfnet', 'austria', 'viaDatacenterNet', 'coxUsa', 'mzima', 'scteste', 'eon', 'memorexEurope', 'deutschTelecom', 'internet2Usa', 'OmnicomEurope']\n"
     ]
    }
   ],
   "source": [
    "print(names)"
   ]
  },
  {
   "cell_type": "markdown",
   "metadata": {},
   "source": [
    "<p>Abaixo temos o exemplo do carregamento da rede cesnet:</p>"
   ]
  },
  {
   "cell_type": "code",
   "execution_count": 6,
   "metadata": {},
   "outputs": [],
   "source": [
    "netlinks = alllinks['cesnet']\n",
    "netnodes = allnodes['cesnet']"
   ]
  },
  {
   "cell_type": "markdown",
   "metadata": {},
   "source": [
    "<p>Nos arquivos de nós temos no campo Id todos os nomes dos nós da rede, e nos links a origem e destino dos enlaces, como podemos ver abaixo:</p>"
   ]
  },
  {
   "cell_type": "code",
   "execution_count": 7,
   "metadata": {},
   "outputs": [
    {
     "name": "stdout",
     "output_type": "stream",
     "text": [
      "nodes:\n",
      "['Praga', 'Usti', 'Liberec', 'Hradec', 'Olomouc', 'Ostrava', 'Zlin', 'Brno', 'Jihlava', 'Budweiss', 'Pilsen', 'Pardubice']\n",
      "links:\n",
      "         From         To      Length  Capacity  Cost\n",
      "0       Praga       Usti   44.320945        50     1\n",
      "1        Usti    Liberec   57.122562        50     1\n",
      "2     Liberec      Praga   57.111162        50     1\n",
      "3       Praga     Pilsen  114.930257        50     1\n",
      "4      Pilsen   Budweiss  123.277291        50     1\n",
      "5    Budweiss      Praga  169.402099        50     1\n",
      "6       Praga  Pardubice   72.350748        50     1\n",
      "7   Pardubice     Hradec   69.868247        50     1\n",
      "8      Hradec      Praga   91.221450        50     1\n",
      "9      Hradec    Liberec   64.755029        50     1\n",
      "10   Budweiss    Jihlava  106.688652        50     1\n",
      "11    Jihlava       Brno   74.878684        50     1\n",
      "12       Brno   Budweiss  163.463112        50     1\n",
      "13    Olomouc     Hradec  136.245096        50     1\n",
      "14    Olomouc       Zlin   30.591459        50     1\n",
      "15       Zlin       Brno   75.546151        50     1\n",
      "16       Brno    Olomouc   63.167676        50     1\n",
      "17       Brno    Ostrava  138.226062        50     1\n",
      "18    Ostrava    Olomouc   75.810650        50     1\n"
     ]
    }
   ],
   "source": [
    "#u = pandas.read_csv(\"./nodes_links/renater_links.csv\")\n",
    "a = netnodes['Id'].values.tolist()\n",
    "print(\"nodes:\\n{}\".format(a))\n",
    "print(\"links:\\n{}\".format(netlinks))"
   ]
  },
  {
   "cell_type": "markdown",
   "metadata": {},
   "source": [
    "<h2>Gerando as matrizes de Adjacência</h2>\n",
    "<p>Para montar as matrizes de adjacência consideramos a identificação numérica dos nós conforme a posição de cada um no vetor dos nós. Depois, com a ajuda da comparação de atributos da biblioteca pandas verificamos todas as origens e quais seus destinos, e assim preenchemos a matriz de adjacência.</p>\n",
    "<p>A matriz de adjacência é bidirecional, para facilitar o uso com a implementação com qualquer algorítmo de busca a construção é nas diagonáis superiores e inferiores.</p>"
   ]
  },
  {
   "cell_type": "code",
   "execution_count": 8,
   "metadata": {},
   "outputs": [
    {
     "name": "stdout",
     "output_type": "stream",
     "text": [
      "[[0 1 1 1 0 0 0 0 0 1 1 1]\n",
      " [1 0 1 0 0 0 0 0 0 0 0 0]\n",
      " [1 1 0 1 0 0 0 0 0 0 0 0]\n",
      " [1 0 1 0 1 0 0 0 0 0 0 1]\n",
      " [0 0 0 1 0 1 1 1 0 0 0 0]\n",
      " [0 0 0 0 1 0 0 1 0 0 0 0]\n",
      " [0 0 0 0 1 0 0 1 0 0 0 0]\n",
      " [0 0 0 0 1 1 1 0 1 1 0 0]\n",
      " [0 0 0 0 0 0 0 1 0 1 0 0]\n",
      " [1 0 0 0 0 0 0 1 1 0 1 0]\n",
      " [1 0 0 0 0 0 0 0 0 1 0 0]\n",
      " [1 0 0 1 0 0 0 0 0 0 0 0]]\n"
     ]
    }
   ],
   "source": [
    "def monta_matriz(netnodes,netlinks):\n",
    "    nodes = netnodes['Id'].values.tolist()\n",
    "    matrix = np.matrix(np.zeros( (len(nodes),len(nodes)),dtype=np.int ) )\n",
    "    for n in nodes:\n",
    "        l = netlinks.loc[netlinks['From']==n,['To']].values\n",
    "        indexes = [nodes.index(x) for x in l]\n",
    "        if(len(indexes) > 0):\n",
    "            matrix[nodes.index(n),indexes] = 1\n",
    "            matrix[indexes,nodes.index(n)] = 1 #bidirecional\n",
    "    return matrix\n",
    "\n",
    "matrix = monta_matriz(netnodes,netlinks)\n",
    "\n",
    "print (matrix)"
   ]
  },
  {
   "cell_type": "markdown",
   "metadata": {},
   "source": [
    "<p>Abaixo temos a construção das listas que representam os canais de comunicação dos enlaces. Estes canais são representados por 0's e 1's guardadas em listas salvas em dicts que são acessados pela tupla que representa o origem e destino.</p>"
   ]
  },
  {
   "cell_type": "code",
   "execution_count": 9,
   "metadata": {},
   "outputs": [],
   "source": [
    "def criar_canais(mtx,ncanais):\n",
    "    canais = dict()\n",
    "#     mtxc = np.matrix(np.zeros(mtx.shape), dtype=list)\n",
    "    for i in range(len(mtx)):\n",
    "        for j in range(len(mtx)):\n",
    "            if(i<j):\n",
    "                if(mtx[i,j] == 1):\n",
    "                    lista = [1]*ncanais #1 livre, 0 ocupado\n",
    "                    canais.update({(i,j):lista})\n",
    "                    canais.update({(j,i):lista})#mesma instancia para as duas direções\n",
    "    return canais\n",
    "#                    mtxc[i,j]= [1]*ncanais\n",
    "#                    mtxc[j,i]= mtxc[i,j]\n",
    "#                 else:\n",
    "#                     mtxc[i,j]= None\n",
    "#     return mtxc"
   ]
  },
  {
   "cell_type": "markdown",
   "metadata": {},
   "source": [
    "<p>Como os canais são bidirecionais os mesmos canais são usados nas duas direções, ou seja, do nó 0 para o nó 9 e do nó 9 para o nó 0 a mesma instância do objeto lista é utilizado. Assim se o canal 0 é ocupado em uma direção ele também não estará disponível no inverso, como podemos ver abaixo:</p> "
   ]
  },
  {
   "cell_type": "code",
   "execution_count": 10,
   "metadata": {},
   "outputs": [
    {
     "name": "stdout",
     "output_type": "stream",
     "text": [
      "[0, 1, 1, 1, 1, 1, 1, 1, 1, 1, 1, 1]\n",
      "[1, 1, 1, 1, 1, 1, 1, 1, 1, 1, 1, 1]\n"
     ]
    }
   ],
   "source": [
    "canais_rede = criar_canais(matrix,len(netnodes))\n",
    "canais_rede[(9,0)][0]=0 # ocupar canal 0 do enlace\n",
    "print (canais_rede[0,9])\n",
    "canais_rede[(9,0)][0]=1 # desocupar canal 0 do enlace\n",
    "print (canais_rede[0,9])"
   ]
  },
  {
   "cell_type": "markdown",
   "metadata": {},
   "source": [
    "<p>Excluir a diagonal inferior(caso necessário):</p>"
   ]
  },
  {
   "cell_type": "code",
   "execution_count": 11,
   "metadata": {
    "scrolled": true
   },
   "outputs": [],
   "source": [
    "def diagonalizar(mtx):\n",
    "    nova = np.matrix(np.zeros(mtx.shape), dtype=int)\n",
    "    for i in range(len(mtx)):\n",
    "       # print(l)\n",
    "        for j in range(len(mtx)):\n",
    "            if(i<j):\n",
    "                nova[i,j] = mtx[i,j]\n",
    "    return nova\n",
    "# print(diagonalizar(matrix))"
   ]
  },
  {
   "cell_type": "markdown",
   "metadata": {},
   "source": [
    "<h2>Calculo e Incrementação do grau</h2>\n",
    "<p>Para calcular o grau médio basta calcular a quantidade de elementos não nulos na linha ou coluna de cada nó, e depois dividir pelo núme de nós.</p>\n",
    "<p><i>Obs. Isso se aplica quando a matriz é bidirecional e as diagonais superior e inferior são não nulas.</i></p>"
   ]
  },
  {
   "cell_type": "code",
   "execution_count": 12,
   "metadata": {},
   "outputs": [],
   "source": [
    "def calc_grau(matrix):\n",
    "    soma=0\n",
    "    for l in range(len(matrix)):\n",
    "        for c in range(len(matrix)):\n",
    "            if matrix[l,c] != 0:\n",
    "                soma += 1\n",
    "    return soma/(len(matrix))"
   ]
  },
  {
   "cell_type": "code",
   "execution_count": 13,
   "metadata": {},
   "outputs": [
    {
     "name": "stdout",
     "output_type": "stream",
     "text": [
      "grau médio: 3.1666666666666665\n"
     ]
    }
   ],
   "source": [
    "print(\"grau médio: {}\".format(calc_grau(matrix)))"
   ]
  },
  {
   "cell_type": "markdown",
   "metadata": {},
   "source": [
    "<p>Para aumentar o grau da nossa topologia basta inserir novos enlaces de forma aleatória na matriz de adjacência. Para isso adiciona-se enlaces até o grafo atingir o grau desejado</p>"
   ]
  },
  {
   "cell_type": "code",
   "execution_count": 14,
   "metadata": {},
   "outputs": [],
   "source": [
    "def aumentar_grau(mtx,inc_grau): #nodos = 6, p/incrementar 1 grau adicionamos 6 enlaces, para inc 0.5 add 3\n",
    "    grau = calc_grau(mtx)\n",
    "    mind = len(mtx)-1\n",
    "    n_grau = grau\n",
    "    while n_grau < mind and n_grau < grau + inc_grau:\n",
    "        x,y=(None,None)\n",
    "        while (x==None and y==None):\n",
    "            x,y = (randint(0,mind), randint(0,mind))\n",
    "            if x==y or mtx[x,y]==1:\n",
    "                x,y=(None,None)\n",
    "        mtx[x,y]=1\n",
    "        mtx[y,x]=1 #bijetora...\n",
    "        n_grau=calc_grau(mtx)"
   ]
  },
  {
   "cell_type": "markdown",
   "metadata": {},
   "source": [
    "<p><b>Antes:</b></p>"
   ]
  },
  {
   "cell_type": "code",
   "execution_count": 15,
   "metadata": {},
   "outputs": [
    {
     "name": "stdout",
     "output_type": "stream",
     "text": [
      "[[0 1 1 1 0 0 0 0 0 1 1 1]\n",
      " [1 0 1 0 0 0 0 0 0 0 0 0]\n",
      " [1 1 0 1 0 0 0 0 0 0 0 0]\n",
      " [1 0 1 0 1 0 0 0 0 0 0 1]\n",
      " [0 0 0 1 0 1 1 1 0 0 0 0]\n",
      " [0 0 0 0 1 0 0 1 0 0 0 0]\n",
      " [0 0 0 0 1 0 0 1 0 0 0 0]\n",
      " [0 0 0 0 1 1 1 0 1 1 0 0]\n",
      " [0 0 0 0 0 0 0 1 0 1 0 0]\n",
      " [1 0 0 0 0 0 0 1 1 0 1 0]\n",
      " [1 0 0 0 0 0 0 0 0 1 0 0]\n",
      " [1 0 0 1 0 0 0 0 0 0 0 0]]\n"
     ]
    }
   ],
   "source": [
    "print(matrix)"
   ]
  },
  {
   "cell_type": "code",
   "execution_count": 16,
   "metadata": {},
   "outputs": [],
   "source": [
    "aumentar_grau(matrix,5)"
   ]
  },
  {
   "cell_type": "markdown",
   "metadata": {},
   "source": [
    "<p><b>Depois:</b></p>"
   ]
  },
  {
   "cell_type": "code",
   "execution_count": 17,
   "metadata": {},
   "outputs": [
    {
     "name": "stdout",
     "output_type": "stream",
     "text": [
      "[[0 1 1 1 1 1 1 1 0 1 1 1]\n",
      " [1 0 1 0 1 0 1 1 1 1 1 1]\n",
      " [1 1 0 1 1 0 1 0 1 0 1 1]\n",
      " [1 0 1 0 1 1 0 1 0 0 1 1]\n",
      " [1 1 1 1 0 1 1 1 1 0 1 1]\n",
      " [1 0 0 1 1 0 1 1 0 1 1 1]\n",
      " [1 1 1 0 1 1 0 1 0 0 0 1]\n",
      " [1 1 0 1 1 1 1 0 1 1 1 0]\n",
      " [0 1 1 0 1 0 0 1 0 1 0 1]\n",
      " [1 1 0 0 0 1 0 1 1 0 1 1]\n",
      " [1 1 1 1 1 1 0 1 0 1 0 0]\n",
      " [1 1 1 1 1 1 1 0 1 1 0 0]]\n"
     ]
    }
   ],
   "source": [
    "print(matrix)"
   ]
  },
  {
   "cell_type": "code",
   "execution_count": 18,
   "metadata": {},
   "outputs": [
    {
     "name": "stdout",
     "output_type": "stream",
     "text": [
      "grau médio: 8.166666666666666\n"
     ]
    }
   ],
   "source": [
    "print(\"grau médio: {}\".format(calc_grau(matrix)))"
   ]
  },
  {
   "cell_type": "markdown",
   "metadata": {},
   "source": [
    "<h2>Construir todas as matrizes</h2>\n",
    "<p>Nesta etapa geramos todas as matrizes à partir das informações tiradas dos arquivos nodes e links."
   ]
  },
  {
   "cell_type": "code",
   "execution_count": 19,
   "metadata": {},
   "outputs": [],
   "source": [
    "matrizes = dict()\n",
    "#montar matrizes, canais, etc...\n",
    "for x in names:\n",
    "    netlinks = alllinks[x]\n",
    "    netnodes = allnodes[x]\n",
    "    matriz = monta_matriz(netnodes,netlinks)\n",
    "    matrizes.update({x:matriz})\n",
    "#     print(\"matriz {}:\\n{}\".format(x,matriz))"
   ]
  },
  {
   "cell_type": "markdown",
   "metadata": {},
   "source": [
    "<p>Para acessar as matrizes basta passar o nome da rede entre []:</p>"
   ]
  },
  {
   "cell_type": "code",
   "execution_count": 20,
   "metadata": {},
   "outputs": [
    {
     "name": "stdout",
     "output_type": "stream",
     "text": [
      "matriz:\n",
      "\n",
      "[[0 1 1 1 0 0 0 0 0 1 1 1]\n",
      " [1 0 1 0 0 0 0 0 0 0 0 0]\n",
      " [1 1 0 1 0 0 0 0 0 0 0 0]\n",
      " [1 0 1 0 1 0 0 0 0 0 0 1]\n",
      " [0 0 0 1 0 1 1 1 0 0 0 0]\n",
      " [0 0 0 0 1 0 0 1 0 0 0 0]\n",
      " [0 0 0 0 1 0 0 1 0 0 0 0]\n",
      " [0 0 0 0 1 1 1 0 1 1 0 0]\n",
      " [0 0 0 0 0 0 0 1 0 1 0 0]\n",
      " [1 0 0 0 0 0 0 1 1 0 1 0]\n",
      " [1 0 0 0 0 0 0 0 0 1 0 0]\n",
      " [1 0 0 1 0 0 0 0 0 0 0 0]]\n"
     ]
    }
   ],
   "source": [
    "mat=matrizes['cesnet']\n",
    "print(\"matriz:\\n\")\n",
    "print(mat)"
   ]
  },
  {
   "cell_type": "markdown",
   "metadata": {},
   "source": [
    "<h1>Dijkstra</h1>\n",
    "<p>Implementação da busca pelo menor caminho</p>"
   ]
  },
  {
   "cell_type": "code",
   "execution_count": 21,
   "metadata": {},
   "outputs": [],
   "source": [
    "#Matriz de Incidência\n",
    "from math import inf\n",
    "\n",
    "letra = lambda x:chr(ord('a')+x)\n",
    "\n",
    "class BuscaMatriz():\n",
    "    #matrizNova=list()\n",
    "    def __init__(self,matrix):\n",
    "        self.matrix=matrix\n",
    "        self.custo=[inf]*matrix.size()\n",
    "        self.pai=[-1]*matrix.size()\n",
    "    def backtrack(self,destino):\n",
    "        cam=list()\n",
    "#         print(destino)\n",
    "        pai=self.pai[destino]\n",
    "        cam.append(destino)\n",
    "        if(pai!=-1):\n",
    "            cam = cam + self.backtrack(pai)\n",
    "        return cam\n",
    "\n",
    "class GraphMatrix():\n",
    "    def __init__(self,first,matrix):#de certa forma isto não deveria estar aqui e desta forma\n",
    "        self.actual=first\n",
    "        self.matrix=matrix\n",
    "        self.custo=0\n",
    "        self.visited=[0]*len(matrix)\n",
    "        self.visited[first]=1\n",
    "#         for i,linha in enumerate(matrix):\n",
    "#             print (\"linha %d: %s\"%(i,linha))\n",
    "    def __str__(self):\n",
    "        return 'teste'\n",
    "    def visit(self,aresta,custo):\n",
    "        if (self.visited[aresta]==1):\n",
    "            return False\n",
    "        self.visited[aresta]=1\n",
    "        self.actual=aresta\n",
    "        self.custo+=custo\n",
    "        return True\n",
    "    def get_actual(self):\n",
    "        return self.actual\n",
    "    def set_actual(self,actual):\n",
    "        self.actual=actual\n",
    "    def size(self):\n",
    "        return len(self.matrix)\n",
    "    def run(self,*reverse): #nem isto\n",
    "#         print(\"Atualmente em %d com custo %d\" % (self.actual,self.custo))\n",
    "        vizinhos=self.get_vizinhos(self.actual)\n",
    "#         print (\"vizinhos:\")\n",
    "#         for vizinho in vizinhos:\n",
    "#             print(\"numero %d custo %d\" % vizinho)\n",
    "        while len(vizinhos)>0:\n",
    "            if reverse:\n",
    "                v=vizinhos.pop()\n",
    "            else:\n",
    "                v=vizinhos.pop(0)\n",
    "            if self.visit(*v) == True:\n",
    "                return True\n",
    "        return False\n",
    "\n",
    "class AdjMatrix(GraphMatrix):\n",
    "    def __init__(self,*args):\n",
    "        super(AdjMatrix,self).__init__(*args)\n",
    "    def get_vizinhos(self,vert):\n",
    "#         print(self.matrix)\n",
    "        vizinhos=[(i,ar) for i,ar in enumerate(self.matrix[vert]) if ar>0 ]\n",
    "        vizinhos.sort(key=lambda tupla:tupla[1])\n",
    "        return vizinhos"
   ]
  },
  {
   "cell_type": "code",
   "execution_count": 22,
   "metadata": {},
   "outputs": [],
   "source": [
    "#import mtx /\\\n",
    "import sys\n",
    "from math import inf\n",
    "class Dijkstra(BuscaMatriz):\n",
    "    show=lambda self:print(\"Custo: %s\\nPai: %s\\nFila %s\\nAtual: %d\" % (self.custo,self.pai,self.fila,self.matrix.get_actual()))\n",
    "    def __init__(self,matrix):\n",
    "        super(Dijkstra,self).__init__(matrix)\n",
    "        self.fila=list(range(0,matrix.size()))\n",
    "        self.fila.remove(self.matrix.get_actual())\n",
    "\n",
    "    def explora(self):\n",
    "        index=self.matrix.get_actual()\n",
    "        if(self.custo[index]==inf):#caso seja desconexo\n",
    "            self.custo[index]=0\n",
    "        for vizinho in self.matrix.get_vizinhos(index):\n",
    "            (vert,value)=vizinho\n",
    "#             self.show()\n",
    "            nvalue=value+self.custo[index]\n",
    "            if nvalue < self.custo[vert]:\n",
    "#                 print(\"Novo valor para %d: %d\"%(vert,nvalue))\n",
    "                self.atualiza(vert,nvalue)\n",
    "    def gen_fila(self):\n",
    "        for x in self.fila:\n",
    "            custo=self.custo[x]\n",
    "            yield (custo,x)\n",
    "    def end(self):\n",
    "        return self.fila==[]\n",
    "    def atualiza(self,filho,valor):\n",
    "        self.custo[filho]=valor\n",
    "        self.pai[filho]=self.matrix.get_actual()\n",
    "    def choose(self):\n",
    "        fila=list()\n",
    "        for a in self.gen_fila():\n",
    "            fila.append(a)\n",
    "        fila.sort()\n",
    "#         print(\"\\nFila em ordem de peso: %s\"%(fila))\n",
    "        (peso,actual)=fila.pop(0)\n",
    "        \n",
    "        self.matrix.set_actual(actual)\n",
    "        self.fila.remove(actual)"
   ]
  },
  {
   "cell_type": "markdown",
   "metadata": {},
   "source": [
    "<h2>Calcular as rotas</h2>\n",
    "<p>Ao explorar a matriz verificamos os menores custos para comunicação entre todos os nós.</p>"
   ]
  },
  {
   "cell_type": "markdown",
   "metadata": {},
   "source": [
    "Suporte a threads para acelerar o processo:"
   ]
  },
  {
   "cell_type": "code",
   "execution_count": 23,
   "metadata": {},
   "outputs": [],
   "source": [
    "from threading import Lock #bloqueios mutex\n",
    "import concurrent.futures #threads\n",
    "\n",
    "mutex = Lock()"
   ]
  },
  {
   "cell_type": "markdown",
   "metadata": {},
   "source": [
    "Explorar todos caminhos da árvore"
   ]
  },
  {
   "cell_type": "code",
   "execution_count": 24,
   "metadata": {},
   "outputs": [],
   "source": [
    "# para cada caminho uma thread, a fim de acelerar o processo de exploracao\n",
    "def explorar_caminho(ijcl):\n",
    "    i,j,caminhos,lmtx=ijcl\n",
    "    di=Dijkstra(AdjMatrix(i,lmtx))\n",
    "    di.explora()\n",
    "    while(di.end()==False):\n",
    "        di.explora()\n",
    "        di.choose()\n",
    "    mutex.acquire()\n",
    "    try:\n",
    "        caminhos.update({(j,i):di.backtrack(j)})\n",
    "    finally:\n",
    "        mutex.release()\n",
    "    print(caminhos)\n",
    "    return caminhos\n",
    "\n",
    "def explorar_matrix(mtx):\n",
    "    caminhos = dict()\n",
    "    #lmtx = mtx.tolist()\n",
    "    lmtx = mtx\n",
    "    # gera lista de entradas para as threads com todas as combinacoes de origem destino:\n",
    "    t_caminhos=[(i,j,caminhos,lmtx) for i in range(len(mtx)) for j in range(len(mtx)) if i!=j]\n",
    "    with concurrent.futures.ThreadPoolExecutor() as executor: # paralelizar o processo de explorar cada caminho\n",
    "        executor.map(explorar_caminho,t_caminhos)\n",
    "    return caminhos\n"
   ]
  },
  {
   "cell_type": "code",
   "execution_count": 71,
   "metadata": {},
   "outputs": [
    {
     "name": "stdout",
     "output_type": "stream",
     "text": [
      "{(1, 0): [1, 0]}\n",
      "{(1, 0): [1, 0], (2, 0): [2, 0]}\n",
      "{(1, 0): [1, 0], (2, 0): [2, 0], (3, 0): [3, 1, 0]}\n",
      "{(1, 0): [1, 0], (2, 0): [2, 0], (3, 0): [3, 1, 0], (4, 0): [4, 3, 1, 0]}\n",
      "{(1, 0): [1, 0], (2, 0): [2, 0], (3, 0): [3, 1, 0], (4, 0): [4, 3, 1, 0], (5, 0): [5, 2, 0]}\n",
      "{(1, 0): [1, 0], (2, 0): [2, 0], (3, 0): [3, 1, 0], (4, 0): [4, 3, 1, 0], (5, 0): [5, 2, 0], (0, 1): [0, 1]}\n",
      "{(1, 0): [1, 0], (2, 0): [2, 0], (3, 0): [3, 1, 0], (4, 0): [4, 3, 1, 0], (5, 0): [5, 2, 0], (0, 1): [0, 1], (2, 1): [2, 0, 1]}{(1, 0): [1, 0], (2, 0): [2, 0], (3, 0): [3, 1, 0], (4, 0): [4, 3, 1, 0], (5, 0): [5, 2, 0], (0, 1): [0, 1], (2, 1): [2, 0, 1], (3, 1): [3, 1]}{(1, 0): [1, 0], (2, 0): [2, 0], (3, 0): [3, 1, 0], (4, 0): [4, 3, 1, 0], (5, 0): [5, 2, 0], (0, 1): [0, 1], (2, 1): [2, 0, 1], (3, 1): [3, 1], (4, 1): [4, 3, 1]}\n",
      "{(1, 0): [1, 0], (2, 0): [2, 0], (3, 0): [3, 1, 0], (4, 0): [4, 3, 1, 0], (5, 0): [5, 2, 0], (0, 1): [0, 1], (2, 1): [2, 0, 1], (3, 1): [3, 1], (4, 1): [4, 3, 1], (5, 1): [5, 2, 0, 1]}\n",
      "\n",
      "\n",
      "{(1, 0): [1, 0], (2, 0): [2, 0], (3, 0): [3, 1, 0], (4, 0): [4, 3, 1, 0], (5, 0): [5, 2, 0], (0, 1): [0, 1], (2, 1): [2, 0, 1], (3, 1): [3, 1], (4, 1): [4, 3, 1], (5, 1): [5, 2, 0, 1], (0, 2): [0, 2]}\n",
      "{(1, 0): [1, 0], (2, 0): [2, 0], (3, 0): [3, 1, 0], (4, 0): [4, 3, 1, 0], (5, 0): [5, 2, 0], (0, 1): [0, 1], (2, 1): [2, 0, 1], (3, 1): [3, 1], (4, 1): [4, 3, 1], (5, 1): [5, 2, 0, 1], (0, 2): [0, 2], (1, 2): [1, 0, 2]}\n",
      "{(1, 0): [1, 0], (2, 0): [2, 0], (3, 0): [3, 1, 0], (4, 0): [4, 3, 1, 0], (5, 0): [5, 2, 0], (0, 1): [0, 1], (2, 1): [2, 0, 1], (3, 1): [3, 1], (4, 1): [4, 3, 1], (5, 1): [5, 2, 0, 1], (0, 2): [0, 2], (1, 2): [1, 0, 2], (3, 2): [3, 2]}\n",
      "{(1, 0): [1, 0], (2, 0): [2, 0], (3, 0): [3, 1, 0], (4, 0): [4, 3, 1, 0], (5, 0): [5, 2, 0], (0, 1): [0, 1], (2, 1): [2, 0, 1], (3, 1): [3, 1], (4, 1): [4, 3, 1], (5, 1): [5, 2, 0, 1], (0, 2): [0, 2], (1, 2): [1, 0, 2], (3, 2): [3, 2], (4, 2): [4, 3, 2]}\n",
      "{(1, 0): [1, 0], (2, 0): [2, 0], (3, 0): [3, 1, 0], (4, 0): [4, 3, 1, 0], (5, 0): [5, 2, 0], (0, 1): [0, 1], (2, 1): [2, 0, 1], (3, 1): [3, 1], (4, 1): [4, 3, 1], (5, 1): [5, 2, 0, 1], (0, 2): [0, 2], (1, 2): [1, 0, 2], (3, 2): [3, 2], (4, 2): [4, 3, 2], (5, 2): [5, 2]}\n",
      "{(1, 0): [1, 0], (2, 0): [2, 0], (3, 0): [3, 1, 0], (4, 0): [4, 3, 1, 0], (5, 0): [5, 2, 0], (0, 1): [0, 1], (2, 1): [2, 0, 1], (3, 1): [3, 1], (4, 1): [4, 3, 1], (5, 1): [5, 2, 0, 1], (0, 2): [0, 2], (1, 2): [1, 0, 2], (3, 2): [3, 2], (4, 2): [4, 3, 2], (5, 2): [5, 2], (0, 3): [0, 1, 3]}\n",
      "{(1, 0): [1, 0], (2, 0): [2, 0], (3, 0): [3, 1, 0], (4, 0): [4, 3, 1, 0], (5, 0): [5, 2, 0], (0, 1): [0, 1], (2, 1): [2, 0, 1], (3, 1): [3, 1], (4, 1): [4, 3, 1], (5, 1): [5, 2, 0, 1], (0, 2): [0, 2], (1, 2): [1, 0, 2], (3, 2): [3, 2], (4, 2): [4, 3, 2], (5, 2): [5, 2], (0, 3): [0, 1, 3], (1, 3): [1, 3]}\n",
      "{(1, 0): [1, 0], (2, 0): [2, 0], (3, 0): [3, 1, 0], (4, 0): [4, 3, 1, 0], (5, 0): [5, 2, 0], (0, 1): [0, 1], (2, 1): [2, 0, 1], (3, 1): [3, 1], (4, 1): [4, 3, 1], (5, 1): [5, 2, 0, 1], (0, 2): [0, 2], (1, 2): [1, 0, 2], (3, 2): [3, 2], (4, 2): [4, 3, 2], (5, 2): [5, 2], (0, 3): [0, 1, 3], (1, 3): [1, 3], (2, 3): [2, 3]}\n",
      "{(1, 0): [1, 0], (2, 0): [2, 0], (3, 0): [3, 1, 0], (4, 0): [4, 3, 1, 0], (5, 0): [5, 2, 0], (0, 1): [0, 1], (2, 1): [2, 0, 1], (3, 1): [3, 1], (4, 1): [4, 3, 1], (5, 1): [5, 2, 0, 1], (0, 2): [0, 2], (1, 2): [1, 0, 2], (3, 2): [3, 2], (4, 2): [4, 3, 2], (5, 2): [5, 2], (0, 3): [0, 1, 3], (1, 3): [1, 3], (2, 3): [2, 3], (4, 3): [4, 3]}\n",
      "{(1, 0): [1, 0], (2, 0): [2, 0], (3, 0): [3, 1, 0], (4, 0): [4, 3, 1, 0], (5, 0): [5, 2, 0], (0, 1): [0, 1], (2, 1): [2, 0, 1], (3, 1): [3, 1], (4, 1): [4, 3, 1], (5, 1): [5, 2, 0, 1], (0, 2): [0, 2], (1, 2): [1, 0, 2], (3, 2): [3, 2], (4, 2): [4, 3, 2], (5, 2): [5, 2], (0, 3): [0, 1, 3], (1, 3): [1, 3], (2, 3): [2, 3], (4, 3): [4, 3], (5, 3): [5, 2, 3]}\n",
      "{(1, 0): [1, 0], (2, 0): [2, 0], (3, 0): [3, 1, 0], (4, 0): [4, 3, 1, 0], (5, 0): [5, 2, 0], (0, 1): [0, 1], (2, 1): [2, 0, 1], (3, 1): [3, 1], (4, 1): [4, 3, 1], (5, 1): [5, 2, 0, 1], (0, 2): [0, 2], (1, 2): [1, 0, 2], (3, 2): [3, 2], (4, 2): [4, 3, 2], (5, 2): [5, 2], (0, 3): [0, 1, 3], (1, 3): [1, 3], (2, 3): [2, 3], (4, 3): [4, 3], (5, 3): [5, 2, 3], (0, 4): [0, 1, 3, 4]}\n",
      "{(1, 0): [1, 0], (2, 0): [2, 0], (3, 0): [3, 1, 0], (4, 0): [4, 3, 1, 0], (5, 0): [5, 2, 0], (0, 1): [0, 1], (2, 1): [2, 0, 1], (3, 1): [3, 1], (4, 1): [4, 3, 1], (5, 1): [5, 2, 0, 1], (0, 2): [0, 2], (1, 2): [1, 0, 2], (3, 2): [3, 2], (4, 2): [4, 3, 2], (5, 2): [5, 2], (0, 3): [0, 1, 3], (1, 3): [1, 3], (2, 3): [2, 3], (4, 3): [4, 3], (5, 3): [5, 2, 3], (0, 4): [0, 1, 3, 4], (1, 4): [1, 3, 4]}\n",
      "{(1, 0): [1, 0], (2, 0): [2, 0], (3, 0): [3, 1, 0], (4, 0): [4, 3, 1, 0], (5, 0): [5, 2, 0], (0, 1): [0, 1], (2, 1): [2, 0, 1], (3, 1): [3, 1], (4, 1): [4, 3, 1], (5, 1): [5, 2, 0, 1], (0, 2): [0, 2], (1, 2): [1, 0, 2], (3, 2): [3, 2], (4, 2): [4, 3, 2], (5, 2): [5, 2], (0, 3): [0, 1, 3], (1, 3): [1, 3], (2, 3): [2, 3], (4, 3): [4, 3], (5, 3): [5, 2, 3], (0, 4): [0, 1, 3, 4], (1, 4): [1, 3, 4], (2, 4): [2, 3, 4]}{(1, 0): [1, 0], (2, 0): [2, 0], (3, 0): [3, 1, 0], (4, 0): [4, 3, 1, 0], (5, 0): [5, 2, 0], (0, 1): [0, 1], (2, 1): [2, 0, 1], (3, 1): [3, 1], (4, 1): [4, 3, 1], (5, 1): [5, 2, 0, 1], (0, 2): [0, 2], (1, 2): [1, 0, 2], (3, 2): [3, 2], (4, 2): [4, 3, 2], (5, 2): [5, 2], (0, 3): [0, 1, 3], (1, 3): [1, 3], (2, 3): [2, 3], (4, 3): [4, 3], (5, 3): [5, 2, 3], (0, 4): [0, 1, 3, 4], (1, 4): [1, 3, 4], (2, 4): [2, 3, 4], (3, 4): [3, 4]}\n",
      "{(1, 0): [1, 0], (2, 0): [2, 0], (3, 0): [3, 1, 0], (4, 0): [4, 3, 1, 0], (5, 0): [5, 2, 0], (0, 1): [0, 1], (2, 1): [2, 0, 1], (3, 1): [3, 1], (4, 1): [4, 3, 1], (5, 1): [5, 2, 0, 1], (0, 2): [0, 2], (1, 2): [1, 0, 2], (3, 2): [3, 2], (4, 2): [4, 3, 2], (5, 2): [5, 2], (0, 3): [0, 1, 3], (1, 3): [1, 3], (2, 3): [2, 3], (4, 3): [4, 3], (5, 3): [5, 2, 3], (0, 4): [0, 1, 3, 4], (1, 4): [1, 3, 4], (2, 4): [2, 3, 4], (3, 4): [3, 4], (5, 4): [5, 4]}\n",
      "{(1, 0): [1, 0], (2, 0): [2, 0], (3, 0): [3, 1, 0], (4, 0): [4, 3, 1, 0], (5, 0): [5, 2, 0], (0, 1): [0, 1], (2, 1): [2, 0, 1], (3, 1): [3, 1], (4, 1): [4, 3, 1], (5, 1): [5, 2, 0, 1], (0, 2): [0, 2], (1, 2): [1, 0, 2], (3, 2): [3, 2], (4, 2): [4, 3, 2], (5, 2): [5, 2], (0, 3): [0, 1, 3], (1, 3): [1, 3], (2, 3): [2, 3], (4, 3): [4, 3], (5, 3): [5, 2, 3], (0, 4): [0, 1, 3, 4], (1, 4): [1, 3, 4], (2, 4): [2, 3, 4], (3, 4): [3, 4], (5, 4): [5, 4], (0, 5): [0, 2, 5]}{(1, 0): [1, 0], (2, 0): [2, 0], (3, 0): [3, 1, 0], (4, 0): [4, 3, 1, 0], (5, 0): [5, 2, 0], (0, 1): [0, 1], (2, 1): [2, 0, 1], (3, 1): [3, 1], (4, 1): [4, 3, 1], (5, 1): [5, 2, 0, 1], (0, 2): [0, 2], (1, 2): [1, 0, 2], (3, 2): [3, 2], (4, 2): [4, 3, 2], (5, 2): [5, 2], (0, 3): [0, 1, 3], (1, 3): [1, 3], (2, 3): [2, 3], (4, 3): [4, 3], (5, 3): [5, 2, 3], (0, 4): [0, 1, 3, 4], (1, 4): [1, 3, 4], (2, 4): [2, 3, 4], (3, 4): [3, 4], (5, 4): [5, 4], (0, 5): [0, 2, 5], (1, 5): [1, 0, 2, 5]}\n",
      "{(1, 0): [1, 0], (2, 0): [2, 0], (3, 0): [3, 1, 0], (4, 0): [4, 3, 1, 0], (5, 0): [5, 2, 0], (0, 1): [0, 1], (2, 1): [2, 0, 1], (3, 1): [3, 1], (4, 1): [4, 3, 1], (5, 1): [5, 2, 0, 1], (0, 2): [0, 2], (1, 2): [1, 0, 2], (3, 2): [3, 2], (4, 2): [4, 3, 2], (5, 2): [5, 2], (0, 3): [0, 1, 3], (1, 3): [1, 3], (2, 3): [2, 3], (4, 3): [4, 3], (5, 3): [5, 2, 3], (0, 4): [0, 1, 3, 4], (1, 4): [1, 3, 4], (2, 4): [2, 3, 4], (3, 4): [3, 4], (5, 4): [5, 4], (0, 5): [0, 2, 5], (1, 5): [1, 0, 2, 5], (2, 5): [2, 5]}\n",
      "{(1, 0): [1, 0], (2, 0): [2, 0], (3, 0): [3, 1, 0], (4, 0): [4, 3, 1, 0], (5, 0): [5, 2, 0], (0, 1): [0, 1], (2, 1): [2, 0, 1], (3, 1): [3, 1], (4, 1): [4, 3, 1], (5, 1): [5, 2, 0, 1], (0, 2): [0, 2], (1, 2): [1, 0, 2], (3, 2): [3, 2], (4, 2): [4, 3, 2], (5, 2): [5, 2], (0, 3): [0, 1, 3], (1, 3): [1, 3], (2, 3): [2, 3], (4, 3): [4, 3], (5, 3): [5, 2, 3], (0, 4): [0, 1, 3, 4], (1, 4): [1, 3, 4], (2, 4): [2, 3, 4], (3, 4): [3, 4], (5, 4): [5, 4], (0, 5): [0, 2, 5], (1, 5): [1, 0, 2, 5], (2, 5): [2, 5], (3, 5): [3, 2, 5]}\n",
      "{(1, 0): [1, 0], (2, 0): [2, 0], (3, 0): [3, 1, 0], (4, 0): [4, 3, 1, 0], (5, 0): [5, 2, 0], (0, 1): [0, 1], (2, 1): [2, 0, 1], (3, 1): [3, 1], (4, 1): [4, 3, 1], (5, 1): [5, 2, 0, 1], (0, 2): [0, 2], (1, 2): [1, 0, 2], (3, 2): [3, 2], (4, 2): [4, 3, 2], (5, 2): [5, 2], (0, 3): [0, 1, 3], (1, 3): [1, 3], (2, 3): [2, 3], (4, 3): [4, 3], (5, 3): [5, 2, 3], (0, 4): [0, 1, 3, 4], (1, 4): [1, 3, 4], (2, 4): [2, 3, 4], (3, 4): [3, 4], (5, 4): [5, 4], (0, 5): [0, 2, 5], (1, 5): [1, 0, 2, 5], (2, 5): [2, 5], (3, 5): [3, 2, 5], (4, 5): [4, 5]}\n",
      "\n",
      "\n"
     ]
    }
   ],
   "source": [
    "matrix = np.matrix(matrizes.get('scteste'))#nova instancia\n",
    "caminhos = explorar_matrix(matrix.tolist())"
   ]
  },
  {
   "cell_type": "code",
   "execution_count": 72,
   "metadata": {},
   "outputs": [
    {
     "name": "stdout",
     "output_type": "stream",
     "text": [
      "[[0 1 1 0 0 0]\n",
      " [1 0 0 1 0 0]\n",
      " [1 0 0 1 0 1]\n",
      " [0 1 1 0 1 0]\n",
      " [0 0 0 1 0 1]\n",
      " [0 0 1 0 1 0]]\n"
     ]
    }
   ],
   "source": [
    "print(matrix)"
   ]
  },
  {
   "cell_type": "markdown",
   "metadata": {},
   "source": [
    "<p>O indice de wiener é expresso pelo comprimento de todos os caminhos curtos descobertos.</p>"
   ]
  },
  {
   "cell_type": "code",
   "execution_count": 73,
   "metadata": {},
   "outputs": [],
   "source": [
    "def wiener(caminhos,mtx):\n",
    "    custo = 0\n",
    "    for i in range(len(mtx)):\n",
    "        for j in range(len(mtx)):\n",
    "            if(i<j):\n",
    "                custo+= (len(caminhos[i,j]) -1)\n",
    "    return custo"
   ]
  },
  {
   "cell_type": "code",
   "execution_count": 74,
   "metadata": {},
   "outputs": [
    {
     "name": "stdout",
     "output_type": "stream",
     "text": [
      "{(1, 0): [1, 0], (2, 0): [2, 0], (3, 0): [3, 1, 0], (4, 0): [4, 3, 1, 0], (5, 0): [5, 2, 0], (0, 1): [0, 1], (2, 1): [2, 0, 1], (3, 1): [3, 1], (4, 1): [4, 3, 1], (5, 1): [5, 2, 0, 1], (0, 2): [0, 2], (1, 2): [1, 0, 2], (3, 2): [3, 2], (4, 2): [4, 3, 2], (5, 2): [5, 2], (0, 3): [0, 1, 3], (1, 3): [1, 3], (2, 3): [2, 3], (4, 3): [4, 3], (5, 3): [5, 2, 3], (0, 4): [0, 1, 3, 4], (1, 4): [1, 3, 4], (2, 4): [2, 3, 4], (3, 4): [3, 4], (5, 4): [5, 4], (0, 5): [0, 2, 5], (1, 5): [1, 0, 2, 5], (2, 5): [2, 5], (3, 5): [3, 2, 5], (4, 5): [4, 5]}\n"
     ]
    },
    {
     "name": "stderr",
     "output_type": "stream",
     "text": [
      "Índice Wiener: 25\n"
     ]
    }
   ],
   "source": [
    "print(caminhos)\n",
    "print(\"Índice Wiener: {}\".format(wiener(caminhos,matrix.tolist())),file=sys.stderr)"
   ]
  },
  {
   "cell_type": "code",
   "execution_count": 75,
   "metadata": {},
   "outputs": [],
   "source": [
    "rotear=lambda caminhos,origem,destino: [par for par in zip(caminhos[(origem,destino)],caminhos[(origem,destino)][1:]) ]"
   ]
  },
  {
   "cell_type": "code",
   "execution_count": 76,
   "metadata": {
    "scrolled": true
   },
   "outputs": [
    {
     "name": "stdout",
     "output_type": "stream",
     "text": [
      "grau: 2.3333333333333335\n",
      "caminho:\n",
      "[2, 5]\n",
      "enlaces:\n",
      "[(2, 5)]\n"
     ]
    }
   ],
   "source": [
    "print(f\"grau: {calc_grau(matrix)}\")\n",
    "print(\"caminho:\\n{}\".format(caminhos[(2,5)]))\n",
    "print(\"enlaces:\\n{}\".format(rotear(caminhos,2,5)))"
   ]
  },
  {
   "cell_type": "code",
   "execution_count": 77,
   "metadata": {},
   "outputs": [
    {
     "name": "stdout",
     "output_type": "stream",
     "text": [
      "[[0 1 1 1 1 1]\n",
      " [1 0 1 1 1 1]\n",
      " [1 1 0 1 1 1]\n",
      " [1 1 1 0 1 1]\n",
      " [1 1 1 1 0 1]\n",
      " [1 1 1 1 1 0]]\n",
      "5.0\n"
     ]
    }
   ],
   "source": [
    "aumentar_grau(matrix,4)\n",
    "print (matrix)\n",
    "print (calc_grau(matrix))"
   ]
  },
  {
   "cell_type": "code",
   "execution_count": 80,
   "metadata": {},
   "outputs": [
    {
     "name": "stderr",
     "output_type": "stream",
     "text": [
      "Wiener: 15\n"
     ]
    }
   ],
   "source": [
    "%%capture --no-stderr\n",
    "# print(f'calculando indice wiener:\\n {caminhos}')\n",
    "caminhos = explorar_matrix(matrix.tolist())\n",
    "\n",
    "print(f'Wiener: {wiener(caminhos,matrix)}',file=sys.stderr)"
   ]
  },
  {
   "cell_type": "code",
   "execution_count": 81,
   "metadata": {},
   "outputs": [
    {
     "name": "stdout",
     "output_type": "stream",
     "text": [
      "caminhos:\n",
      "[2, 5]\n",
      "enlaces:\n",
      "[(2, 5)]\n"
     ]
    }
   ],
   "source": [
    "print(\"caminhos:\\n{}\".format(caminhos[(2,5)]))\n",
    "print(\"enlaces:\\n{}\".format([par for par in zip(caminhos[(2,5)],caminhos[(2,5)][1:]) ]))"
   ]
  },
  {
   "cell_type": "markdown",
   "metadata": {},
   "source": [
    "<h1>Executar os testes e simulação</h1>\n",
    "<p>Por fim, executa-se diversas iterações contando o número bloqueios em cada iteração, a cada iteração o grau médio é aumentado. Por fim, calcula-se a correlação entre a taxa de bloqueio e o grau médio.</p>"
   ]
  },
  {
   "cell_type": "code",
   "execution_count": 45,
   "metadata": {},
   "outputs": [],
   "source": [
    "class sim_rede():\n",
    "    def __init__(self,nome,matrix_np,ncanais=2):\n",
    "        self.nome = nome\n",
    "#         self.matrix = np.matrix(matrix_np) #criar uma nova cópia das originais\n",
    "        if(ncanais<1):\n",
    "            ncanais = int(len(matrix_np)/3)\n",
    "        self.ncanais = ncanais\n",
    "        self.canais = criar_canais(matrix_np,ncanais)\n",
    "        \n",
    "        self.matrix = matrix_np.tolist() # nova instância do tipo lista\n",
    "        self.caminhos = explorar_matrix(self.matrix) #aqui monta a árvore usando a matrix tipo lista\n",
    "        self.bloqueios = 0\n",
    "#         self.demandas = np.matrix(np.zeros(matrix_np.shape),dtype=int)\n",
    "        self.sum_demandas = 0\n",
    "#         for k in self.caminhos:\n",
    "#             print(\"{}:{}\".format(k,self.caminhos[k]))\n",
    "\n",
    "### \n",
    "    def atualiza_rede(self):\n",
    "        self.caminhos = explorar_matrix(self.matrix)\n",
    "        \n",
    "# ERRATA: funções agora serão externas, novo grau nova classe\n",
    "#        self.canais = criar_canais(self.matrix,self.ncanais) # para resetar todos eles !errata: no more!\n",
    "#     def aumenta_grau(self,valor): \n",
    "#         aumentar_grau(self.matrix,valor)\n",
    "#         self.atualiza_rede()\n",
    "#     def calcula_grau(self):\n",
    "#         return calc_grau(self.matrix)\n",
    "\n",
    "    def testa_canais(self,enlaces):# testa os 100% ocupados para exclusão da matriz\n",
    "        return sum(self.canais[no]) # Se todos os canais\n",
    "    \n",
    "    ########################## Conexão #################################\n",
    "    # calcula os enlaces que ligam a origem ao destino\n",
    "    def calc_enlaces(self,origem,destino):\n",
    "        caminho = self.caminhos[(origem,destino)]\n",
    "        rota = [par for par in zip(caminho,caminho[1:]) ]\n",
    "        print(\"canais:{}, origem:{}, destino:{}, rota:{}, caminho: {}\".format(self.ncanais,origem,destino,rota,caminho))\n",
    "        return rota    \n",
    "    \n",
    "    #conecta origem e destino:\n",
    "    \n",
    "    def conectar(self,origem,destino):\n",
    "        ok=1\n",
    "        enlaces = self.calc_enlaces(origem,destino)\n",
    "\n",
    "        caminho = self.caminhos[(origem,destino)]\n",
    "        \n",
    "        # excluir adjacencias relativas aos canais interrompidos e recalcular os caminhos >Sob Demanda<\n",
    "        # ou seja, somente os caminhos que usam estes canais serão recalculados cada vez que necessário\n",
    "#         excluir = []\n",
    "        for o,d in enlaces:\n",
    "            if sum(self.canais[o,d]) == 0: #se igual a 0 todos os canais do enlace estão ocupados\n",
    "#                 excluir+=[(o,d),(d,o)]\n",
    "                self.matrix[o][d] = 0 #exclui enlace da matriz\n",
    "                self.matrix[d][o] = 0\n",
    "        #atualiza caminhos\n",
    "        explorar_caminho((origem,destino,self.caminhos,self.matrix))\n",
    "        explorar_caminho((destino,origem,self.caminhos,self.matrix))\n",
    "        \n",
    "        enlaces = self.calc_enlaces(origem,destino)\n",
    "        for canal in range(self.ncanais): #canal 0..n\n",
    "            for o,d in enlaces: #nó do caminho\n",
    "#                 print(self.canais)\n",
    "                ok = ok*self.canais[(o,d)][canal] # se zero == bloqueio\n",
    "#             self.sum_demandas+=1\n",
    "            if ok == 1:\n",
    "                for no in caminho: #no do caminho\n",
    "                    try:\n",
    "                        self.canais[(d,o)][canal] = 0 # marca canal do enlace como ocupado\n",
    "                        self.sum_demandas+=1 #caso possível a conexão aumenta a demanda\n",
    "                    except: #caminho inexistente\n",
    "                        print(\"bloqueio ({}, {})\".format(origem,destino))\n",
    "                        self.bloqueios += 1\n",
    "                        return (False,caminho)\n",
    "                        \n",
    "#                     if i > j:\n",
    "#                         self.demandas[(j,i)]+=1\n",
    "#                     else:\n",
    "#                         self.demandas[(i,j)]+=1    \n",
    "\n",
    "                return (True,caminho)\n",
    "            else:\n",
    "                ok=1\n",
    "        print(\"bloqueio ({}, {})\".format(origem,destino))\n",
    "        self.bloqueios += 1\n",
    "        return (False,caminho)\n",
    "    def wiener(self):\n",
    "        return wiener(self.caminhos,self.matrix)"
   ]
  },
  {
   "cell_type": "markdown",
   "metadata": {},
   "source": [
    "<p>Exemplo de uma rede pequena, que com seu grau médio original provocava 4 bloqueios, tem seu grau médio aumentado 2 vezes seguidas.</p>"
   ]
  },
  {
   "cell_type": "code",
   "execution_count": 124,
   "metadata": {},
   "outputs": [
    {
     "name": "stdout",
     "output_type": "stream",
     "text": [
      "\n",
      "===========iteracao (0)============\n",
      "\n",
      "{(1, 0): [1, 0]}\n",
      "{(1, 0): [1, 0], (2, 0): [2, 0]}{(1, 0): [1, 0], (2, 0): [2, 0], (3, 0): [3, 1, 0]}\n",
      "\n",
      "{(1, 0): [1, 0], (2, 0): [2, 0], (3, 0): [3, 1, 0], (4, 0): [4, 3, 1, 0]}\n",
      "{(1, 0): [1, 0], (2, 0): [2, 0], (3, 0): [3, 1, 0], (4, 0): [4, 3, 1, 0], (5, 0): [5, 2, 0]}\n",
      "{(1, 0): [1, 0], (2, 0): [2, 0], (3, 0): [3, 1, 0], (4, 0): [4, 3, 1, 0], (5, 0): [5, 2, 0], (0, 1): [0, 1]}\n",
      "{(1, 0): [1, 0], (2, 0): [2, 0], (3, 0): [3, 1, 0], (4, 0): [4, 3, 1, 0], (5, 0): [5, 2, 0], (0, 1): [0, 1], (2, 1): [2, 0, 1]}{(1, 0): [1, 0], (2, 0): [2, 0], (3, 0): [3, 1, 0], (4, 0): [4, 3, 1, 0], (5, 0): [5, 2, 0], (0, 1): [0, 1], (2, 1): [2, 0, 1], (3, 1): [3, 1]}\n",
      "{(1, 0): [1, 0], (2, 0): [2, 0], (3, 0): [3, 1, 0], (4, 0): [4, 3, 1, 0], (5, 0): [5, 2, 0], (0, 1): [0, 1], (2, 1): [2, 0, 1], (3, 1): [3, 1], (4, 1): [4, 3, 1]}\n",
      "{(1, 0): [1, 0], (2, 0): [2, 0], (3, 0): [3, 1, 0], (4, 0): [4, 3, 1, 0], (5, 0): [5, 2, 0], (0, 1): [0, 1], (2, 1): [2, 0, 1], (3, 1): [3, 1], (4, 1): [4, 3, 1], (5, 1): [5, 2, 0, 1]}\n",
      "{(1, 0): [1, 0], (2, 0): [2, 0], (3, 0): [3, 1, 0], (4, 0): [4, 3, 1, 0], (5, 0): [5, 2, 0], (0, 1): [0, 1], (2, 1): [2, 0, 1], (3, 1): [3, 1], (4, 1): [4, 3, 1], (5, 1): [5, 2, 0, 1], (0, 2): [0, 2]}\n",
      "{(1, 0): [1, 0], (2, 0): [2, 0], (3, 0): [3, 1, 0], (4, 0): [4, 3, 1, 0], (5, 0): [5, 2, 0], (0, 1): [0, 1], (2, 1): [2, 0, 1], (3, 1): [3, 1], (4, 1): [4, 3, 1], (5, 1): [5, 2, 0, 1], (0, 2): [0, 2], (1, 2): [1, 0, 2]}\n",
      "{(1, 0): [1, 0], (2, 0): [2, 0], (3, 0): [3, 1, 0], (4, 0): [4, 3, 1, 0], (5, 0): [5, 2, 0], (0, 1): [0, 1], (2, 1): [2, 0, 1], (3, 1): [3, 1], (4, 1): [4, 3, 1], (5, 1): [5, 2, 0, 1], (0, 2): [0, 2], (1, 2): [1, 0, 2], (3, 2): [3, 2]}{(1, 0): [1, 0], (2, 0): [2, 0], (3, 0): [3, 1, 0], (4, 0): [4, 3, 1, 0], (5, 0): [5, 2, 0], (0, 1): [0, 1], (2, 1): [2, 0, 1], (3, 1): [3, 1], (4, 1): [4, 3, 1], (5, 1): [5, 2, 0, 1], (0, 2): [0, 2], (1, 2): [1, 0, 2], (3, 2): [3, 2], (4, 2): [4, 3, 2]}{(1, 0): [1, 0], (2, 0): [2, 0], (3, 0): [3, 1, 0], (4, 0): [4, 3, 1, 0], (5, 0): [5, 2, 0], (0, 1): [0, 1], (2, 1): [2, 0, 1], (3, 1): [3, 1], (4, 1): [4, 3, 1], (5, 1): [5, 2, 0, 1], (0, 2): [0, 2], (1, 2): [1, 0, 2], (3, 2): [3, 2], (4, 2): [4, 3, 2], (5, 2): [5, 2]}\n",
      "{(1, 0): [1, 0], (2, 0): [2, 0], (3, 0): [3, 1, 0], (4, 0): [4, 3, 1, 0], (5, 0): [5, 2, 0], (0, 1): [0, 1], (2, 1): [2, 0, 1], (3, 1): [3, 1], (4, 1): [4, 3, 1], (5, 1): [5, 2, 0, 1], (0, 2): [0, 2], (1, 2): [1, 0, 2], (3, 2): [3, 2], (4, 2): [4, 3, 2], (5, 2): [5, 2], (0, 3): [0, 1, 3]}\n",
      "\n",
      "\n",
      "\n",
      "{(1, 0): [1, 0], (2, 0): [2, 0], (3, 0): [3, 1, 0], (4, 0): [4, 3, 1, 0], (5, 0): [5, 2, 0], (0, 1): [0, 1], (2, 1): [2, 0, 1], (3, 1): [3, 1], (4, 1): [4, 3, 1], (5, 1): [5, 2, 0, 1], (0, 2): [0, 2], (1, 2): [1, 0, 2], (3, 2): [3, 2], (4, 2): [4, 3, 2], (5, 2): [5, 2], (0, 3): [0, 1, 3], (1, 3): [1, 3]}\n",
      "{(1, 0): [1, 0], (2, 0): [2, 0], (3, 0): [3, 1, 0], (4, 0): [4, 3, 1, 0], (5, 0): [5, 2, 0], (0, 1): [0, 1], (2, 1): [2, 0, 1], (3, 1): [3, 1], (4, 1): [4, 3, 1], (5, 1): [5, 2, 0, 1], (0, 2): [0, 2], (1, 2): [1, 0, 2], (3, 2): [3, 2], (4, 2): [4, 3, 2], (5, 2): [5, 2], (0, 3): [0, 1, 3], (1, 3): [1, 3], (2, 3): [2, 3]}\n",
      "{(1, 0): [1, 0], (2, 0): [2, 0], (3, 0): [3, 1, 0], (4, 0): [4, 3, 1, 0], (5, 0): [5, 2, 0], (0, 1): [0, 1], (2, 1): [2, 0, 1], (3, 1): [3, 1], (4, 1): [4, 3, 1], (5, 1): [5, 2, 0, 1], (0, 2): [0, 2], (1, 2): [1, 0, 2], (3, 2): [3, 2], (4, 2): [4, 3, 2], (5, 2): [5, 2], (0, 3): [0, 1, 3], (1, 3): [1, 3], (2, 3): [2, 3], (4, 3): [4, 3]}\n",
      "{(1, 0): [1, 0], (2, 0): [2, 0], (3, 0): [3, 1, 0], (4, 0): [4, 3, 1, 0], (5, 0): [5, 2, 0], (0, 1): [0, 1], (2, 1): [2, 0, 1], (3, 1): [3, 1], (4, 1): [4, 3, 1], (5, 1): [5, 2, 0, 1], (0, 2): [0, 2], (1, 2): [1, 0, 2], (3, 2): [3, 2], (4, 2): [4, 3, 2], (5, 2): [5, 2], (0, 3): [0, 1, 3], (1, 3): [1, 3], (2, 3): [2, 3], (4, 3): [4, 3], (5, 3): [5, 2, 3]}\n",
      "{(1, 0): [1, 0], (2, 0): [2, 0], (3, 0): [3, 1, 0], (4, 0): [4, 3, 1, 0], (5, 0): [5, 2, 0], (0, 1): [0, 1], (2, 1): [2, 0, 1], (3, 1): [3, 1], (4, 1): [4, 3, 1], (5, 1): [5, 2, 0, 1], (0, 2): [0, 2], (1, 2): [1, 0, 2], (3, 2): [3, 2], (4, 2): [4, 3, 2], (5, 2): [5, 2], (0, 3): [0, 1, 3], (1, 3): [1, 3], (2, 3): [2, 3], (4, 3): [4, 3], (5, 3): [5, 2, 3], (0, 4): [0, 1, 3, 4]}\n",
      "{(1, 0): [1, 0], (2, 0): [2, 0], (3, 0): [3, 1, 0], (4, 0): [4, 3, 1, 0], (5, 0): [5, 2, 0], (0, 1): [0, 1], (2, 1): [2, 0, 1], (3, 1): [3, 1], (4, 1): [4, 3, 1], (5, 1): [5, 2, 0, 1], (0, 2): [0, 2], (1, 2): [1, 0, 2], (3, 2): [3, 2], (4, 2): [4, 3, 2], (5, 2): [5, 2], (0, 3): [0, 1, 3], (1, 3): [1, 3], (2, 3): [2, 3], (4, 3): [4, 3], (5, 3): [5, 2, 3], (0, 4): [0, 1, 3, 4], (1, 4): [1, 3, 4]}\n",
      "{(1, 0): [1, 0], (2, 0): [2, 0], (3, 0): [3, 1, 0], (4, 0): [4, 3, 1, 0], (5, 0): [5, 2, 0], (0, 1): [0, 1], (2, 1): [2, 0, 1], (3, 1): [3, 1], (4, 1): [4, 3, 1], (5, 1): [5, 2, 0, 1], (0, 2): [0, 2], (1, 2): [1, 0, 2], (3, 2): [3, 2], (4, 2): [4, 3, 2], (5, 2): [5, 2], (0, 3): [0, 1, 3], (1, 3): [1, 3], (2, 3): [2, 3], (4, 3): [4, 3], (5, 3): [5, 2, 3], (0, 4): [0, 1, 3, 4], (1, 4): [1, 3, 4], (2, 4): [2, 3, 4]}{(1, 0): [1, 0], (2, 0): [2, 0], (3, 0): [3, 1, 0], (4, 0): [4, 3, 1, 0], (5, 0): [5, 2, 0], (0, 1): [0, 1], (2, 1): [2, 0, 1], (3, 1): [3, 1], (4, 1): [4, 3, 1], (5, 1): [5, 2, 0, 1], (0, 2): [0, 2], (1, 2): [1, 0, 2], (3, 2): [3, 2], (4, 2): [4, 3, 2], (5, 2): [5, 2], (0, 3): [0, 1, 3], (1, 3): [1, 3], (2, 3): [2, 3], (4, 3): [4, 3], (5, 3): [5, 2, 3], (0, 4): [0, 1, 3, 4], (1, 4): [1, 3, 4], (2, 4): [2, 3, 4], (3, 4): [3, 4]}\n",
      "{(1, 0): [1, 0], (2, 0): [2, 0], (3, 0): [3, 1, 0], (4, 0): [4, 3, 1, 0], (5, 0): [5, 2, 0], (0, 1): [0, 1], (2, 1): [2, 0, 1], (3, 1): [3, 1], (4, 1): [4, 3, 1], (5, 1): [5, 2, 0, 1], (0, 2): [0, 2], (1, 2): [1, 0, 2], (3, 2): [3, 2], (4, 2): [4, 3, 2], (5, 2): [5, 2], (0, 3): [0, 1, 3], (1, 3): [1, 3], (2, 3): [2, 3], (4, 3): [4, 3], (5, 3): [5, 2, 3], (0, 4): [0, 1, 3, 4], (1, 4): [1, 3, 4], (2, 4): [2, 3, 4], (3, 4): [3, 4], (5, 4): [5, 4]}{(1, 0): [1, 0], (2, 0): [2, 0], (3, 0): [3, 1, 0], (4, 0): [4, 3, 1, 0], (5, 0): [5, 2, 0], (0, 1): [0, 1], (2, 1): [2, 0, 1], (3, 1): [3, 1], (4, 1): [4, 3, 1], (5, 1): [5, 2, 0, 1], (0, 2): [0, 2], (1, 2): [1, 0, 2], (3, 2): [3, 2], (4, 2): [4, 3, 2], (5, 2): [5, 2], (0, 3): [0, 1, 3], (1, 3): [1, 3], (2, 3): [2, 3], (4, 3): [4, 3], (5, 3): [5, 2, 3], (0, 4): [0, 1, 3, 4], (1, 4): [1, 3, 4], (2, 4): [2, 3, 4], (3, 4): [3, 4], (5, 4): [5, 4], (0, 5): [0, 2, 5]}\n",
      "{(1, 0): [1, 0], (2, 0): [2, 0], (3, 0): [3, 1, 0], (4, 0): [4, 3, 1, 0], (5, 0): [5, 2, 0], (0, 1): [0, 1], (2, 1): [2, 0, 1], (3, 1): [3, 1], (4, 1): [4, 3, 1], (5, 1): [5, 2, 0, 1], (0, 2): [0, 2], (1, 2): [1, 0, 2], (3, 2): [3, 2], (4, 2): [4, 3, 2], (5, 2): [5, 2], (0, 3): [0, 1, 3], (1, 3): [1, 3], (2, 3): [2, 3], (4, 3): [4, 3], (5, 3): [5, 2, 3], (0, 4): [0, 1, 3, 4], (1, 4): [1, 3, 4], (2, 4): [2, 3, 4], (3, 4): [3, 4], (5, 4): [5, 4], (0, 5): [0, 2, 5], (1, 5): [1, 0, 2, 5]}\n",
      "{(1, 0): [1, 0], (2, 0): [2, 0], (3, 0): [3, 1, 0], (4, 0): [4, 3, 1, 0], (5, 0): [5, 2, 0], (0, 1): [0, 1], (2, 1): [2, 0, 1], (3, 1): [3, 1], (4, 1): [4, 3, 1], (5, 1): [5, 2, 0, 1], (0, 2): [0, 2], (1, 2): [1, 0, 2], (3, 2): [3, 2], (4, 2): [4, 3, 2], (5, 2): [5, 2], (0, 3): [0, 1, 3], (1, 3): [1, 3], (2, 3): [2, 3], (4, 3): [4, 3], (5, 3): [5, 2, 3], (0, 4): [0, 1, 3, 4], (1, 4): [1, 3, 4], (2, 4): [2, 3, 4], (3, 4): [3, 4], (5, 4): [5, 4], (0, 5): [0, 2, 5], (1, 5): [1, 0, 2, 5], (2, 5): [2, 5]}\n",
      "{(1, 0): [1, 0], (2, 0): [2, 0], (3, 0): [3, 1, 0], (4, 0): [4, 3, 1, 0], (5, 0): [5, 2, 0], (0, 1): [0, 1], (2, 1): [2, 0, 1], (3, 1): [3, 1], (4, 1): [4, 3, 1], (5, 1): [5, 2, 0, 1], (0, 2): [0, 2], (1, 2): [1, 0, 2], (3, 2): [3, 2], (4, 2): [4, 3, 2], (5, 2): [5, 2], (0, 3): [0, 1, 3], (1, 3): [1, 3], (2, 3): [2, 3], (4, 3): [4, 3], (5, 3): [5, 2, 3], (0, 4): [0, 1, 3, 4], (1, 4): [1, 3, 4], (2, 4): [2, 3, 4], (3, 4): [3, 4], (5, 4): [5, 4], (0, 5): [0, 2, 5], (1, 5): [1, 0, 2, 5], (2, 5): [2, 5], (3, 5): [3, 2, 5]}\n",
      "{(1, 0): [1, 0], (2, 0): [2, 0], (3, 0): [3, 1, 0], (4, 0): [4, 3, 1, 0], (5, 0): [5, 2, 0], (0, 1): [0, 1], (2, 1): [2, 0, 1], (3, 1): [3, 1], (4, 1): [4, 3, 1], (5, 1): [5, 2, 0, 1], (0, 2): [0, 2], (1, 2): [1, 0, 2], (3, 2): [3, 2], (4, 2): [4, 3, 2], (5, 2): [5, 2], (0, 3): [0, 1, 3], (1, 3): [1, 3], (2, 3): [2, 3], (4, 3): [4, 3], (5, 3): [5, 2, 3], (0, 4): [0, 1, 3, 4], (1, 4): [1, 3, 4], (2, 4): [2, 3, 4], (3, 4): [3, 4], (5, 4): [5, 4], (0, 5): [0, 2, 5], (1, 5): [1, 0, 2, 5], (2, 5): [2, 5], (3, 5): [3, 2, 5], (4, 5): [4, 5]}\n",
      "\n",
      "\n",
      "wiener antes: 25\n",
      "canais:2, origem:0, destino:1, rota:[(0, 1)], caminho: [0, 1]\n",
      "{(1, 0): [1, 0], (2, 0): [2, 0], (3, 0): [3, 1, 0], (4, 0): [4, 3, 1, 0], (5, 0): [5, 2, 0], (0, 1): [0, 1], (2, 1): [2, 0, 1], (3, 1): [3, 1], (4, 1): [4, 3, 1], (5, 1): [5, 2, 0, 1], (0, 2): [0, 2], (1, 2): [1, 0, 2], (3, 2): [3, 2], (4, 2): [4, 3, 2], (5, 2): [5, 2], (0, 3): [0, 1, 3], (1, 3): [1, 3], (2, 3): [2, 3], (4, 3): [4, 3], (5, 3): [5, 2, 3], (0, 4): [0, 1, 3, 4], (1, 4): [1, 3, 4], (2, 4): [2, 3, 4], (3, 4): [3, 4], (5, 4): [5, 4], (0, 5): [0, 2, 5], (1, 5): [1, 0, 2, 5], (2, 5): [2, 5], (3, 5): [3, 2, 5], (4, 5): [4, 5]}\n",
      "{(1, 0): [1, 0], (2, 0): [2, 0], (3, 0): [3, 1, 0], (4, 0): [4, 3, 1, 0], (5, 0): [5, 2, 0], (0, 1): [0, 1], (2, 1): [2, 0, 1], (3, 1): [3, 1], (4, 1): [4, 3, 1], (5, 1): [5, 2, 0, 1], (0, 2): [0, 2], (1, 2): [1, 0, 2], (3, 2): [3, 2], (4, 2): [4, 3, 2], (5, 2): [5, 2], (0, 3): [0, 1, 3], (1, 3): [1, 3], (2, 3): [2, 3], (4, 3): [4, 3], (5, 3): [5, 2, 3], (0, 4): [0, 1, 3, 4], (1, 4): [1, 3, 4], (2, 4): [2, 3, 4], (3, 4): [3, 4], (5, 4): [5, 4], (0, 5): [0, 2, 5], (1, 5): [1, 0, 2, 5], (2, 5): [2, 5], (3, 5): [3, 2, 5], (4, 5): [4, 5]}\n",
      "canais:2, origem:0, destino:1, rota:[(0, 1)], caminho: [0, 1]\n",
      "canais:2, origem:0, destino:2, rota:[(0, 2)], caminho: [0, 2]\n",
      "{(1, 0): [1, 0], (2, 0): [2, 0], (3, 0): [3, 1, 0], (4, 0): [4, 3, 1, 0], (5, 0): [5, 2, 0], (0, 1): [0, 1], (2, 1): [2, 0, 1], (3, 1): [3, 1], (4, 1): [4, 3, 1], (5, 1): [5, 2, 0, 1], (0, 2): [0, 2], (1, 2): [1, 0, 2], (3, 2): [3, 2], (4, 2): [4, 3, 2], (5, 2): [5, 2], (0, 3): [0, 1, 3], (1, 3): [1, 3], (2, 3): [2, 3], (4, 3): [4, 3], (5, 3): [5, 2, 3], (0, 4): [0, 1, 3, 4], (1, 4): [1, 3, 4], (2, 4): [2, 3, 4], (3, 4): [3, 4], (5, 4): [5, 4], (0, 5): [0, 2, 5], (1, 5): [1, 0, 2, 5], (2, 5): [2, 5], (3, 5): [3, 2, 5], (4, 5): [4, 5]}\n",
      "{(1, 0): [1, 0], (2, 0): [2, 0], (3, 0): [3, 1, 0], (4, 0): [4, 3, 1, 0], (5, 0): [5, 2, 0], (0, 1): [0, 1], (2, 1): [2, 0, 1], (3, 1): [3, 1], (4, 1): [4, 3, 1], (5, 1): [5, 2, 0, 1], (0, 2): [0, 2], (1, 2): [1, 0, 2], (3, 2): [3, 2], (4, 2): [4, 3, 2], (5, 2): [5, 2], (0, 3): [0, 1, 3], (1, 3): [1, 3], (2, 3): [2, 3], (4, 3): [4, 3], (5, 3): [5, 2, 3], (0, 4): [0, 1, 3, 4], (1, 4): [1, 3, 4], (2, 4): [2, 3, 4], (3, 4): [3, 4], (5, 4): [5, 4], (0, 5): [0, 2, 5], (1, 5): [1, 0, 2, 5], (2, 5): [2, 5], (3, 5): [3, 2, 5], (4, 5): [4, 5]}\n",
      "canais:2, origem:0, destino:2, rota:[(0, 2)], caminho: [0, 2]\n",
      "canais:2, origem:0, destino:3, rota:[(0, 1), (1, 3)], caminho: [0, 1, 3]\n",
      "{(1, 0): [1, 0], (2, 0): [2, 0], (3, 0): [3, 1, 0], (4, 0): [4, 3, 1, 0], (5, 0): [5, 2, 0], (0, 1): [0, 1], (2, 1): [2, 0, 1], (3, 1): [3, 1], (4, 1): [4, 3, 1], (5, 1): [5, 2, 0, 1], (0, 2): [0, 2], (1, 2): [1, 0, 2], (3, 2): [3, 2], (4, 2): [4, 3, 2], (5, 2): [5, 2], (0, 3): [0, 1, 3], (1, 3): [1, 3], (2, 3): [2, 3], (4, 3): [4, 3], (5, 3): [5, 2, 3], (0, 4): [0, 1, 3, 4], (1, 4): [1, 3, 4], (2, 4): [2, 3, 4], (3, 4): [3, 4], (5, 4): [5, 4], (0, 5): [0, 2, 5], (1, 5): [1, 0, 2, 5], (2, 5): [2, 5], (3, 5): [3, 2, 5], (4, 5): [4, 5]}\n",
      "{(1, 0): [1, 0], (2, 0): [2, 0], (3, 0): [3, 1, 0], (4, 0): [4, 3, 1, 0], (5, 0): [5, 2, 0], (0, 1): [0, 1], (2, 1): [2, 0, 1], (3, 1): [3, 1], (4, 1): [4, 3, 1], (5, 1): [5, 2, 0, 1], (0, 2): [0, 2], (1, 2): [1, 0, 2], (3, 2): [3, 2], (4, 2): [4, 3, 2], (5, 2): [5, 2], (0, 3): [0, 1, 3], (1, 3): [1, 3], (2, 3): [2, 3], (4, 3): [4, 3], (5, 3): [5, 2, 3], (0, 4): [0, 1, 3, 4], (1, 4): [1, 3, 4], (2, 4): [2, 3, 4], (3, 4): [3, 4], (5, 4): [5, 4], (0, 5): [0, 2, 5], (1, 5): [1, 0, 2, 5], (2, 5): [2, 5], (3, 5): [3, 2, 5], (4, 5): [4, 5]}\n",
      "canais:2, origem:0, destino:3, rota:[(0, 1), (1, 3)], caminho: [0, 1, 3]\n",
      "canais:2, origem:0, destino:4, rota:[(0, 1), (1, 3), (3, 4)], caminho: [0, 1, 3, 4]\n",
      "{(1, 0): [1, 0], (2, 0): [2, 0], (3, 0): [3, 1, 0], (4, 0): [4, 3, 1, 0], (5, 0): [5, 2, 0], (0, 1): [0, 1], (2, 1): [2, 0, 1], (3, 1): [3, 1], (4, 1): [4, 3, 1], (5, 1): [5, 2, 0, 1], (0, 2): [0, 2], (1, 2): [1, 0, 2], (3, 2): [3, 2], (4, 2): [4, 3, 2], (5, 2): [5, 2], (0, 3): [0, 1, 3], (1, 3): [1, 3], (2, 3): [2, 3], (4, 3): [4, 3], (5, 3): [5, 2, 3], (0, 4): [0, 1, 3, 4], (1, 4): [1, 3, 4], (2, 4): [2, 3, 4], (3, 4): [3, 4], (5, 4): [5, 4], (0, 5): [0, 2, 5], (1, 5): [1, 0, 2, 5], (2, 5): [2, 5], (3, 5): [3, 2, 5], (4, 5): [4, 5]}\n",
      "{(1, 0): [1, 0], (2, 0): [2, 0], (3, 0): [3, 1, 0], (4, 0): [4, 3, 1, 0], (5, 0): [5, 2, 0], (0, 1): [0, 1], (2, 1): [2, 0, 1], (3, 1): [3, 1], (4, 1): [4, 3, 1], (5, 1): [5, 2, 0, 1], (0, 2): [0, 2], (1, 2): [1, 0, 2], (3, 2): [3, 2], (4, 2): [4, 3, 2], (5, 2): [5, 2], (0, 3): [0, 1, 3], (1, 3): [1, 3], (2, 3): [2, 3], (4, 3): [4, 3], (5, 3): [5, 2, 3], (0, 4): [0, 1, 3, 4], (1, 4): [1, 3, 4], (2, 4): [2, 3, 4], (3, 4): [3, 4], (5, 4): [5, 4], (0, 5): [0, 2, 5], (1, 5): [1, 0, 2, 5], (2, 5): [2, 5], (3, 5): [3, 2, 5], (4, 5): [4, 5]}\n",
      "canais:2, origem:0, destino:4, rota:[(0, 1), (1, 3), (3, 4)], caminho: [0, 1, 3, 4]\n",
      "bloqueio (0, 4)\n",
      "canais:2, origem:0, destino:5, rota:[(0, 2), (2, 5)], caminho: [0, 2, 5]\n",
      "{(1, 0): [1, 0], (2, 0): [2, 0], (3, 0): [3, 1, 0], (4, 0): [4, 3, 1, 0], (5, 0): [5, 2, 0], (0, 1): [0, 1], (2, 1): [2, 0, 1], (3, 1): [3, 1], (4, 1): [4, 3, 1], (5, 1): [5, 2, 0, 1], (0, 2): [0, 2], (1, 2): [1, 0, 2], (3, 2): [3, 2], (4, 2): [4, 3, 2], (5, 2): [5, 2], (0, 3): [0, 1, 3], (1, 3): [1, 3], (2, 3): [2, 3], (4, 3): [4, 3], (5, 3): [5, 2, 3], (0, 4): [0, 1, 3, 4], (1, 4): [1, 3, 4], (2, 4): [2, 3, 4], (3, 4): [3, 4], (5, 4): [5, 4], (0, 5): [0, 2, 5], (1, 5): [1, 0, 2, 5], (2, 5): [2, 5], (3, 5): [3, 2, 5], (4, 5): [4, 5]}\n",
      "{(1, 0): [1, 0], (2, 0): [2, 0], (3, 0): [3, 1, 0], (4, 0): [4, 3, 1, 0], (5, 0): [5, 2, 0], (0, 1): [0, 1], (2, 1): [2, 0, 1], (3, 1): [3, 1], (4, 1): [4, 3, 1], (5, 1): [5, 2, 0, 1], (0, 2): [0, 2], (1, 2): [1, 0, 2], (3, 2): [3, 2], (4, 2): [4, 3, 2], (5, 2): [5, 2], (0, 3): [0, 1, 3], (1, 3): [1, 3], (2, 3): [2, 3], (4, 3): [4, 3], (5, 3): [5, 2, 3], (0, 4): [0, 1, 3, 4], (1, 4): [1, 3, 4], (2, 4): [2, 3, 4], (3, 4): [3, 4], (5, 4): [5, 4], (0, 5): [0, 2, 5], (1, 5): [1, 0, 2, 5], (2, 5): [2, 5], (3, 5): [3, 2, 5], (4, 5): [4, 5]}\n",
      "canais:2, origem:0, destino:5, rota:[(0, 2), (2, 5)], caminho: [0, 2, 5]\n",
      "canais:2, origem:1, destino:2, rota:[(1, 0), (0, 2)], caminho: [1, 0, 2]\n",
      "{(1, 0): [1, 0], (2, 0): [2, 0], (3, 0): [3, 1, 0], (4, 0): [4, 3, 1, 0], (5, 0): [5, 2, 0], (0, 1): [0, 1], (2, 1): [2, 0, 1], (3, 1): [3, 1], (4, 1): [4, 3, 1], (5, 1): [5, 2, 0, 1], (0, 2): [0, 2], (1, 2): [1, 0, 2], (3, 2): [3, 2], (4, 2): [4, 3, 2], (5, 2): [5, 2], (0, 3): [0, 1, 3], (1, 3): [1, 3], (2, 3): [2, 3], (4, 3): [4, 3], (5, 3): [5, 2, 3], (0, 4): [0, 1, 3, 4], (1, 4): [1, 3, 4], (2, 4): [2, 3, 4], (3, 4): [3, 4], (5, 4): [5, 4], (0, 5): [0, 2, 5], (1, 5): [1, 0, 2, 5], (2, 5): [2, 5], (3, 5): [3, 2, 5], (4, 5): [4, 5]}\n",
      "{(1, 0): [1, 0], (2, 0): [2, 0], (3, 0): [3, 1, 0], (4, 0): [4, 3, 1, 0], (5, 0): [5, 2, 0], (0, 1): [0, 1], (2, 1): [2, 0, 1], (3, 1): [3, 1], (4, 1): [4, 3, 1], (5, 1): [5, 2, 0, 1], (0, 2): [0, 2], (1, 2): [1, 0, 2], (3, 2): [3, 2], (4, 2): [4, 3, 2], (5, 2): [5, 2], (0, 3): [0, 1, 3], (1, 3): [1, 3], (2, 3): [2, 3], (4, 3): [4, 3], (5, 3): [5, 2, 3], (0, 4): [0, 1, 3, 4], (1, 4): [1, 3, 4], (2, 4): [2, 3, 4], (3, 4): [3, 4], (5, 4): [5, 4], (0, 5): [0, 2, 5], (1, 5): [1, 0, 2, 5], (2, 5): [2, 5], (3, 5): [3, 2, 5], (4, 5): [4, 5]}\n",
      "canais:2, origem:1, destino:2, rota:[(1, 0), (0, 2)], caminho: [1, 0, 2]\n",
      "canais:2, origem:1, destino:3, rota:[(1, 3)], caminho: [1, 3]\n",
      "{(1, 0): [1, 0], (2, 0): [2, 0], (3, 0): [3, 1, 0], (4, 0): [4, 3, 1, 0], (5, 0): [5, 2, 0], (0, 1): [0, 1], (2, 1): [2, 0, 1], (3, 1): [3, 1], (4, 1): [4, 3, 1], (5, 1): [5, 2, 0, 1], (0, 2): [0, 2], (1, 2): [1, 0, 2], (3, 2): [3, 2], (4, 2): [4, 3, 2], (5, 2): [5, 2], (0, 3): [0, 1, 3], (1, 3): [1, 3], (2, 3): [2, 3], (4, 3): [4, 3], (5, 3): [5, 2, 3], (0, 4): [0, 1, 3, 4], (1, 4): [1, 3, 4], (2, 4): [2, 3, 4], (3, 4): [3, 4], (5, 4): [5, 4], (0, 5): [0, 2, 5], (1, 5): [1, 0, 2, 5], (2, 5): [2, 5], (3, 5): [3, 2, 5], (4, 5): [4, 5]}\n",
      "{(1, 0): [1, 0], (2, 0): [2, 0], (3, 0): [3, 1, 0], (4, 0): [4, 3, 1, 0], (5, 0): [5, 2, 0], (0, 1): [0, 1], (2, 1): [2, 0, 1], (3, 1): [3, 1], (4, 1): [4, 3, 1], (5, 1): [5, 2, 0, 1], (0, 2): [0, 2], (1, 2): [1, 0, 2], (3, 2): [3, 2], (4, 2): [4, 3, 2], (5, 2): [5, 2], (0, 3): [0, 1, 3], (1, 3): [1, 3], (2, 3): [2, 3], (4, 3): [4, 3], (5, 3): [5, 2, 3], (0, 4): [0, 1, 3, 4], (1, 4): [1, 3, 4], (2, 4): [2, 3, 4], (3, 4): [3, 4], (5, 4): [5, 4], (0, 5): [0, 2, 5], (1, 5): [1, 0, 2, 5], (2, 5): [2, 5], (3, 5): [3, 2, 5], (4, 5): [4, 5]}\n",
      "canais:2, origem:1, destino:3, rota:[(1, 3)], caminho: [1, 3]\n",
      "canais:2, origem:1, destino:4, rota:[(1, 3), (3, 4)], caminho: [1, 3, 4]\n",
      "{(1, 0): [1, 0], (2, 0): [2, 0], (3, 0): [3, 1, 0], (4, 0): [4, 3, 1, 0], (5, 0): [5, 2, 0], (0, 1): [0, 1], (2, 1): [2, 0, 1], (3, 1): [3, 1], (4, 1): [4, 3, 2, 0, 1], (5, 1): [5, 2, 0, 1], (0, 2): [0, 2], (1, 2): [1, 0, 2], (3, 2): [3, 2], (4, 2): [4, 3, 2], (5, 2): [5, 2], (0, 3): [0, 1, 3], (1, 3): [1, 3], (2, 3): [2, 3], (4, 3): [4, 3], (5, 3): [5, 2, 3], (0, 4): [0, 1, 3, 4], (1, 4): [1, 3, 4], (2, 4): [2, 3, 4], (3, 4): [3, 4], (5, 4): [5, 4], (0, 5): [0, 2, 5], (1, 5): [1, 0, 2, 5], (2, 5): [2, 5], (3, 5): [3, 2, 5], (4, 5): [4, 5]}\n",
      "{(1, 0): [1, 0], (2, 0): [2, 0], (3, 0): [3, 1, 0], (4, 0): [4, 3, 1, 0], (5, 0): [5, 2, 0], (0, 1): [0, 1], (2, 1): [2, 0, 1], (3, 1): [3, 1], (4, 1): [4, 3, 2, 0, 1], (5, 1): [5, 2, 0, 1], (0, 2): [0, 2], (1, 2): [1, 0, 2], (3, 2): [3, 2], (4, 2): [4, 3, 2], (5, 2): [5, 2], (0, 3): [0, 1, 3], (1, 3): [1, 3], (2, 3): [2, 3], (4, 3): [4, 3], (5, 3): [5, 2, 3], (0, 4): [0, 1, 3, 4], (1, 4): [1, 0, 2, 3, 4], (2, 4): [2, 3, 4], (3, 4): [3, 4], (5, 4): [5, 4], (0, 5): [0, 2, 5], (1, 5): [1, 0, 2, 5], (2, 5): [2, 5], (3, 5): [3, 2, 5], (4, 5): [4, 5]}\n",
      "canais:2, origem:1, destino:4, rota:[(1, 0), (0, 2), (2, 3), (3, 4)], caminho: [1, 0, 2, 3, 4]\n",
      "bloqueio (1, 4)\n",
      "canais:2, origem:1, destino:5, rota:[(1, 0), (0, 2), (2, 5)], caminho: [1, 0, 2, 5]\n",
      "{(1, 0): [1, 0], (2, 0): [2, 0], (3, 0): [3, 1, 0], (4, 0): [4, 3, 1, 0], (5, 0): [5, 2, 0], (0, 1): [0, 1], (2, 1): [2, 0, 1], (3, 1): [3, 1], (4, 1): [4, 3, 2, 0, 1], (5, 1): [5, 2], (0, 2): [0, 2], (1, 2): [1, 0, 2], (3, 2): [3, 2], (4, 2): [4, 3, 2], (5, 2): [5, 2], (0, 3): [0, 1, 3], (1, 3): [1, 3], (2, 3): [2, 3], (4, 3): [4, 3], (5, 3): [5, 2, 3], (0, 4): [0, 1, 3, 4], (1, 4): [1, 0, 2, 3, 4], (2, 4): [2, 3, 4], (3, 4): [3, 4], (5, 4): [5, 4], (0, 5): [0, 2, 5], (1, 5): [1, 0, 2, 5], (2, 5): [2, 5], (3, 5): [3, 2, 5], (4, 5): [4, 5]}\n",
      "{(1, 0): [1, 0], (2, 0): [2, 0], (3, 0): [3, 1, 0], (4, 0): [4, 3, 1, 0], (5, 0): [5, 2, 0], (0, 1): [0, 1], (2, 1): [2, 0, 1], (3, 1): [3, 1], (4, 1): [4, 3, 2, 0, 1], (5, 1): [5, 2], (0, 2): [0, 2], (1, 2): [1, 0, 2], (3, 2): [3, 2], (4, 2): [4, 3, 2], (5, 2): [5, 2], (0, 3): [0, 1, 3], (1, 3): [1, 3], (2, 3): [2, 3], (4, 3): [4, 3], (5, 3): [5, 2, 3], (0, 4): [0, 1, 3, 4], (1, 4): [1, 0, 2, 3, 4], (2, 4): [2, 3, 4], (3, 4): [3, 4], (5, 4): [5, 4], (0, 5): [0, 2, 5], (1, 5): [1, 0], (2, 5): [2, 5], (3, 5): [3, 2, 5], (4, 5): [4, 5]}\n",
      "canais:2, origem:1, destino:5, rota:[(1, 0)], caminho: [1, 0]\n",
      "canais:2, origem:2, destino:3, rota:[(2, 3)], caminho: [2, 3]\n",
      "{(1, 0): [1, 0], (2, 0): [2, 0], (3, 0): [3, 1, 0], (4, 0): [4, 3, 1, 0], (5, 0): [5, 2, 0], (0, 1): [0, 1], (2, 1): [2, 0, 1], (3, 1): [3, 1], (4, 1): [4, 3, 2, 0, 1], (5, 1): [5, 2], (0, 2): [0, 2], (1, 2): [1, 0, 2], (3, 2): [3, 2], (4, 2): [4, 3, 2], (5, 2): [5, 2], (0, 3): [0, 1, 3], (1, 3): [1, 3], (2, 3): [2, 3], (4, 3): [4, 3], (5, 3): [5, 2, 3], (0, 4): [0, 1, 3, 4], (1, 4): [1, 0, 2, 3, 4], (2, 4): [2, 3, 4], (3, 4): [3, 4], (5, 4): [5, 4], (0, 5): [0, 2, 5], (1, 5): [1, 0], (2, 5): [2, 5], (3, 5): [3, 2, 5], (4, 5): [4, 5]}\n",
      "{(1, 0): [1, 0], (2, 0): [2, 0], (3, 0): [3, 1, 0], (4, 0): [4, 3, 1, 0], (5, 0): [5, 2, 0], (0, 1): [0, 1], (2, 1): [2, 0, 1], (3, 1): [3, 1], (4, 1): [4, 3, 2, 0, 1], (5, 1): [5, 2], (0, 2): [0, 2], (1, 2): [1, 0, 2], (3, 2): [3, 2], (4, 2): [4, 3, 2], (5, 2): [5, 2], (0, 3): [0, 1, 3], (1, 3): [1, 3], (2, 3): [2, 3], (4, 3): [4, 3], (5, 3): [5, 2, 3], (0, 4): [0, 1, 3, 4], (1, 4): [1, 0, 2, 3, 4], (2, 4): [2, 3, 4], (3, 4): [3, 4], (5, 4): [5, 4], (0, 5): [0, 2, 5], (1, 5): [1, 0], (2, 5): [2, 5], (3, 5): [3, 2, 5], (4, 5): [4, 5]}\n",
      "canais:2, origem:2, destino:3, rota:[(2, 3)], caminho: [2, 3]\n",
      "canais:2, origem:2, destino:4, rota:[(2, 3), (3, 4)], caminho: [2, 3, 4]\n",
      "{(1, 0): [1, 0], (2, 0): [2, 0], (3, 0): [3, 1, 0], (4, 0): [4, 3, 1, 0], (5, 0): [5, 2, 0], (0, 1): [0, 1], (2, 1): [2, 0, 1], (3, 1): [3, 1], (4, 1): [4, 3, 2, 0, 1], (5, 1): [5, 2], (0, 2): [0, 2], (1, 2): [1, 0, 2], (3, 2): [3, 2], (4, 2): [4, 3, 2], (5, 2): [5, 2], (0, 3): [0, 1, 3], (1, 3): [1, 3], (2, 3): [2, 3], (4, 3): [4, 3], (5, 3): [5, 2, 3], (0, 4): [0, 1, 3, 4], (1, 4): [1, 0, 2, 3, 4], (2, 4): [2, 3, 4], (3, 4): [3, 4], (5, 4): [5, 4], (0, 5): [0, 2, 5], (1, 5): [1, 0], (2, 5): [2, 5], (3, 5): [3, 2, 5], (4, 5): [4, 5]}\n",
      "{(1, 0): [1, 0], (2, 0): [2, 0], (3, 0): [3, 1, 0], (4, 0): [4, 3, 1, 0], (5, 0): [5, 2, 0], (0, 1): [0, 1], (2, 1): [2, 0, 1], (3, 1): [3, 1], (4, 1): [4, 3, 2, 0, 1], (5, 1): [5, 2], (0, 2): [0, 2], (1, 2): [1, 0, 2], (3, 2): [3, 2], (4, 2): [4, 3, 2], (5, 2): [5, 2], (0, 3): [0, 1, 3], (1, 3): [1, 3], (2, 3): [2, 3], (4, 3): [4, 3], (5, 3): [5, 2, 3], (0, 4): [0, 1, 3, 4], (1, 4): [1, 0, 2, 3, 4], (2, 4): [2, 3, 4], (3, 4): [3, 4], (5, 4): [5, 4], (0, 5): [0, 2, 5], (1, 5): [1, 0], (2, 5): [2, 5], (3, 5): [3, 2, 5], (4, 5): [4, 5]}\n",
      "canais:2, origem:2, destino:4, rota:[(2, 3), (3, 4)], caminho: [2, 3, 4]\n",
      "canais:2, origem:2, destino:5, rota:[(2, 5)], caminho: [2, 5]\n",
      "{(1, 0): [1, 0], (2, 0): [2, 0], (3, 0): [3, 1, 0], (4, 0): [4, 3, 1, 0], (5, 0): [5, 2, 0], (0, 1): [0, 1], (2, 1): [2, 0, 1], (3, 1): [3, 1], (4, 1): [4, 3, 2, 0, 1], (5, 1): [5, 2], (0, 2): [0, 2], (1, 2): [1, 0, 2], (3, 2): [3, 2], (4, 2): [4, 3, 2], (5, 2): [5, 2], (0, 3): [0, 1, 3], (1, 3): [1, 3], (2, 3): [2, 3], (4, 3): [4, 3], (5, 3): [5, 2, 3], (0, 4): [0, 1, 3, 4], (1, 4): [1, 0, 2, 3, 4], (2, 4): [2, 3, 4], (3, 4): [3, 4], (5, 4): [5, 4], (0, 5): [0, 2, 5], (1, 5): [1, 0], (2, 5): [2, 5], (3, 5): [3, 2, 5], (4, 5): [4, 5]}\n",
      "{(1, 0): [1, 0], (2, 0): [2, 0], (3, 0): [3, 1, 0], (4, 0): [4, 3, 1, 0], (5, 0): [5, 2, 0], (0, 1): [0, 1], (2, 1): [2, 0, 1], (3, 1): [3, 1], (4, 1): [4, 3, 2, 0, 1], (5, 1): [5, 2], (0, 2): [0, 2], (1, 2): [1, 0, 2], (3, 2): [3, 2], (4, 2): [4, 3, 2], (5, 2): [5, 2], (0, 3): [0, 1, 3], (1, 3): [1, 3], (2, 3): [2, 3], (4, 3): [4, 3], (5, 3): [5, 2, 3], (0, 4): [0, 1, 3, 4], (1, 4): [1, 0, 2, 3, 4], (2, 4): [2, 3, 4], (3, 4): [3, 4], (5, 4): [5, 4], (0, 5): [0, 2, 5], (1, 5): [1, 0], (2, 5): [2, 5], (3, 5): [3, 2, 5], (4, 5): [4, 5]}\n",
      "canais:2, origem:2, destino:5, rota:[(2, 5)], caminho: [2, 5]\n",
      "canais:2, origem:3, destino:4, rota:[(3, 4)], caminho: [3, 4]\n",
      "{(1, 0): [1, 0], (2, 0): [2, 0], (3, 0): [3, 1, 0], (4, 0): [4, 3, 1, 0], (5, 0): [5, 2, 0], (0, 1): [0, 1], (2, 1): [2, 0, 1], (3, 1): [3, 1], (4, 1): [4, 3, 2, 0, 1], (5, 1): [5, 2], (0, 2): [0, 2], (1, 2): [1, 0, 2], (3, 2): [3, 2], (4, 2): [4, 3, 2], (5, 2): [5, 2], (0, 3): [0, 1, 3], (1, 3): [1, 3], (2, 3): [2, 3], (4, 3): [4, 3], (5, 3): [5, 2, 3], (0, 4): [0, 1, 3, 4], (1, 4): [1, 0, 2, 3, 4], (2, 4): [2, 3, 4], (3, 4): [3, 4], (5, 4): [5, 4], (0, 5): [0, 2, 5], (1, 5): [1, 0], (2, 5): [2, 5], (3, 5): [3, 2, 5], (4, 5): [4, 5]}\n",
      "{(1, 0): [1, 0], (2, 0): [2, 0], (3, 0): [3, 1, 0], (4, 0): [4, 3, 1, 0], (5, 0): [5, 2, 0], (0, 1): [0, 1], (2, 1): [2, 0, 1], (3, 1): [3, 1], (4, 1): [4, 3, 2, 0, 1], (5, 1): [5, 2], (0, 2): [0, 2], (1, 2): [1, 0, 2], (3, 2): [3, 2], (4, 2): [4, 3, 2], (5, 2): [5, 2], (0, 3): [0, 1, 3], (1, 3): [1, 3], (2, 3): [2, 3], (4, 3): [4, 3], (5, 3): [5, 2, 3], (0, 4): [0, 1, 3, 4], (1, 4): [1, 0, 2, 3, 4], (2, 4): [2, 3, 4], (3, 4): [3, 4], (5, 4): [5, 4], (0, 5): [0, 2, 5], (1, 5): [1, 0], (2, 5): [2, 5], (3, 5): [3, 2, 5], (4, 5): [4, 5]}\n",
      "canais:2, origem:3, destino:4, rota:[(3, 4)], caminho: [3, 4]\n",
      "canais:2, origem:3, destino:5, rota:[(3, 2), (2, 5)], caminho: [3, 2, 5]\n",
      "{(1, 0): [1, 0], (2, 0): [2, 0], (3, 0): [3, 1, 0], (4, 0): [4, 3, 1, 0], (5, 0): [5, 2, 0], (0, 1): [0, 1], (2, 1): [2, 0, 1], (3, 1): [3, 1], (4, 1): [4, 3, 2, 0, 1], (5, 1): [5, 2], (0, 2): [0, 2], (1, 2): [1, 0, 2], (3, 2): [3, 2], (4, 2): [4, 3, 2], (5, 2): [5, 2], (0, 3): [0, 1, 3], (1, 3): [1, 3], (2, 3): [2, 3], (4, 3): [4, 3], (5, 3): [5, 4, 3], (0, 4): [0, 1, 3, 4], (1, 4): [1, 0, 2, 3, 4], (2, 4): [2, 3, 4], (3, 4): [3, 4], (5, 4): [5, 4], (0, 5): [0, 2, 5], (1, 5): [1, 0], (2, 5): [2, 5], (3, 5): [3, 2, 5], (4, 5): [4, 5]}\n",
      "{(1, 0): [1, 0], (2, 0): [2, 0], (3, 0): [3, 1, 0], (4, 0): [4, 3, 1, 0], (5, 0): [5, 2, 0], (0, 1): [0, 1], (2, 1): [2, 0, 1], (3, 1): [3, 1], (4, 1): [4, 3, 2, 0, 1], (5, 1): [5, 2], (0, 2): [0, 2], (1, 2): [1, 0, 2], (3, 2): [3, 2], (4, 2): [4, 3, 2], (5, 2): [5, 2], (0, 3): [0, 1, 3], (1, 3): [1, 3], (2, 3): [2, 3], (4, 3): [4, 3], (5, 3): [5, 4, 3], (0, 4): [0, 1, 3, 4], (1, 4): [1, 0, 2, 3, 4], (2, 4): [2, 3, 4], (3, 4): [3, 4], (5, 4): [5, 4], (0, 5): [0, 2, 5], (1, 5): [1, 0], (2, 5): [2, 5], (3, 5): [3, 4, 5], (4, 5): [4, 5]}\n",
      "canais:2, origem:3, destino:5, rota:[(3, 4), (4, 5)], caminho: [3, 4, 5]\n",
      "bloqueio (3, 5)\n",
      "canais:2, origem:4, destino:5, rota:[(4, 5)], caminho: [4, 5]\n",
      "{(1, 0): [1, 0], (2, 0): [2, 0], (3, 0): [3, 1, 0], (4, 0): [4, 3, 1, 0], (5, 0): [5, 2, 0], (0, 1): [0, 1], (2, 1): [2, 0, 1], (3, 1): [3, 1], (4, 1): [4, 3, 2, 0, 1], (5, 1): [5, 2], (0, 2): [0, 2], (1, 2): [1, 0, 2], (3, 2): [3, 2], (4, 2): [4, 3, 2], (5, 2): [5, 2], (0, 3): [0, 1, 3], (1, 3): [1, 3], (2, 3): [2, 3], (4, 3): [4, 3], (5, 3): [5, 4, 3], (0, 4): [0, 1, 3, 4], (1, 4): [1, 0, 2, 3, 4], (2, 4): [2, 3, 4], (3, 4): [3, 4], (5, 4): [5, 4], (0, 5): [0, 2, 5], (1, 5): [1, 0], (2, 5): [2, 5], (3, 5): [3, 4, 5], (4, 5): [4, 5]}\n",
      "{(1, 0): [1, 0], (2, 0): [2, 0], (3, 0): [3, 1, 0], (4, 0): [4, 3, 1, 0], (5, 0): [5, 2, 0], (0, 1): [0, 1], (2, 1): [2, 0, 1], (3, 1): [3, 1], (4, 1): [4, 3, 2, 0, 1], (5, 1): [5, 2], (0, 2): [0, 2], (1, 2): [1, 0, 2], (3, 2): [3, 2], (4, 2): [4, 3, 2], (5, 2): [5, 2], (0, 3): [0, 1, 3], (1, 3): [1, 3], (2, 3): [2, 3], (4, 3): [4, 3], (5, 3): [5, 4, 3], (0, 4): [0, 1, 3, 4], (1, 4): [1, 0, 2, 3, 4], (2, 4): [2, 3, 4], (3, 4): [3, 4], (5, 4): [5, 4], (0, 5): [0, 2, 5], (1, 5): [1, 0], (2, 5): [2, 5], (3, 5): [3, 4, 5], (4, 5): [4, 5]}\n",
      "canais:2, origem:4, destino:5, rota:[(4, 5)], caminho: [4, 5]\n",
      "demandas:30, rede:scteste, bloqueios:3, wiener: 25\n",
      "matriz:\n",
      "[[0 1 1 0 0 0]\n",
      " [1 0 1 1 1 1]\n",
      " [1 1 0 1 0 1]\n",
      " [0 1 1 0 1 0]\n",
      " [0 1 0 1 0 1]\n",
      " [0 1 1 0 1 0]]\n",
      "\n",
      "===========iteracao (1)============\n",
      "\n",
      "{(1, 0): [1, 0]}\n",
      "{(1, 0): [1, 0], (2, 0): [2, 0]}{(1, 0): [1, 0], (2, 0): [2, 0], (3, 0): [3, 1, 0]}\n",
      "{(1, 0): [1, 0], (2, 0): [2, 0], (3, 0): [3, 1, 0], (4, 0): [4, 1, 0]}\n",
      "\n",
      "{(1, 0): [1, 0], (2, 0): [2, 0], (3, 0): [3, 1, 0], (4, 0): [4, 1, 0], (5, 0): [5, 1, 0]}{(1, 0): [1, 0], (2, 0): [2, 0], (3, 0): [3, 1, 0], (4, 0): [4, 1, 0], (5, 0): [5, 1, 0], (0, 1): [0, 1]}\n",
      "{(1, 0): [1, 0], (2, 0): [2, 0], (3, 0): [3, 1, 0], (4, 0): [4, 1, 0], (5, 0): [5, 1, 0], (0, 1): [0, 1], (2, 1): [2, 1]}\n",
      "\n",
      "{(1, 0): [1, 0], (2, 0): [2, 0], (3, 0): [3, 1, 0], (4, 0): [4, 1, 0], (5, 0): [5, 1, 0], (0, 1): [0, 1], (2, 1): [2, 1], (3, 1): [3, 1]}\n",
      "{(1, 0): [1, 0], (2, 0): [2, 0], (3, 0): [3, 1, 0], (4, 0): [4, 1, 0], (5, 0): [5, 1, 0], (0, 1): [0, 1], (2, 1): [2, 1], (3, 1): [3, 1], (4, 1): [4, 1]}{(1, 0): [1, 0], (2, 0): [2, 0], (3, 0): [3, 1, 0], (4, 0): [4, 1, 0], (5, 0): [5, 1, 0], (0, 1): [0, 1], (2, 1): [2, 1], (3, 1): [3, 1], (4, 1): [4, 1], (5, 1): [5, 1]}\n",
      "{(1, 0): [1, 0], (2, 0): [2, 0], (3, 0): [3, 1, 0], (4, 0): [4, 1, 0], (5, 0): [5, 1, 0], (0, 1): [0, 1], (2, 1): [2, 1], (3, 1): [3, 1], (4, 1): [4, 1], (5, 1): [5, 1], (0, 2): [0, 2]}\n",
      "{(1, 0): [1, 0], (2, 0): [2, 0], (3, 0): [3, 1, 0], (4, 0): [4, 1, 0], (5, 0): [5, 1, 0], (0, 1): [0, 1], (2, 1): [2, 1], (3, 1): [3, 1], (4, 1): [4, 1], (5, 1): [5, 1], (0, 2): [0, 2], (1, 2): [1, 2]}\n",
      "{(1, 0): [1, 0], (2, 0): [2, 0], (3, 0): [3, 1, 0], (4, 0): [4, 1, 0], (5, 0): [5, 1, 0], (0, 1): [0, 1], (2, 1): [2, 1], (3, 1): [3, 1], (4, 1): [4, 1], (5, 1): [5, 1], (0, 2): [0, 2], (1, 2): [1, 2], (3, 2): [3, 2]}\n",
      "\n",
      "{(1, 0): [1, 0], (2, 0): [2, 0], (3, 0): [3, 1, 0], (4, 0): [4, 1, 0], (5, 0): [5, 1, 0], (0, 1): [0, 1], (2, 1): [2, 1], (3, 1): [3, 1], (4, 1): [4, 1], (5, 1): [5, 1], (0, 2): [0, 2], (1, 2): [1, 2], (3, 2): [3, 2], (4, 2): [4, 1, 2]}{(1, 0): [1, 0], (2, 0): [2, 0], (3, 0): [3, 1, 0], (4, 0): [4, 1, 0], (5, 0): [5, 1, 0], (0, 1): [0, 1], (2, 1): [2, 1], (3, 1): [3, 1], (4, 1): [4, 1], (5, 1): [5, 1], (0, 2): [0, 2], (1, 2): [1, 2], (3, 2): [3, 2], (4, 2): [4, 1, 2], (5, 2): [5, 2]}\n",
      "{(1, 0): [1, 0], (2, 0): [2, 0], (3, 0): [3, 1, 0], (4, 0): [4, 1, 0], (5, 0): [5, 1, 0], (0, 1): [0, 1], (2, 1): [2, 1], (3, 1): [3, 1], (4, 1): [4, 1], (5, 1): [5, 1], (0, 2): [0, 2], (1, 2): [1, 2], (3, 2): [3, 2], (4, 2): [4, 1, 2], (5, 2): [5, 2], (0, 3): [0, 1, 3]}\n",
      "\n",
      "{(1, 0): [1, 0], (2, 0): [2, 0], (3, 0): [3, 1, 0], (4, 0): [4, 1, 0], (5, 0): [5, 1, 0], (0, 1): [0, 1], (2, 1): [2, 1], (3, 1): [3, 1], (4, 1): [4, 1], (5, 1): [5, 1], (0, 2): [0, 2], (1, 2): [1, 2], (3, 2): [3, 2], (4, 2): [4, 1, 2], (5, 2): [5, 2], (0, 3): [0, 1, 3], (1, 3): [1, 3]}{(1, 0): [1, 0], (2, 0): [2, 0], (3, 0): [3, 1, 0], (4, 0): [4, 1, 0], (5, 0): [5, 1, 0], (0, 1): [0, 1], (2, 1): [2, 1], (3, 1): [3, 1], (4, 1): [4, 1], (5, 1): [5, 1], (0, 2): [0, 2], (1, 2): [1, 2], (3, 2): [3, 2], (4, 2): [4, 1, 2], (5, 2): [5, 2], (0, 3): [0, 1, 3], (1, 3): [1, 3], (2, 3): [2, 3]}\n",
      "{(1, 0): [1, 0], (2, 0): [2, 0], (3, 0): [3, 1, 0], (4, 0): [4, 1, 0], (5, 0): [5, 1, 0], (0, 1): [0, 1], (2, 1): [2, 1], (3, 1): [3, 1], (4, 1): [4, 1], (5, 1): [5, 1], (0, 2): [0, 2], (1, 2): [1, 2], (3, 2): [3, 2], (4, 2): [4, 1, 2], (5, 2): [5, 2], (0, 3): [0, 1, 3], (1, 3): [1, 3], (2, 3): [2, 3], (4, 3): [4, 3]}\n",
      "{(1, 0): [1, 0], (2, 0): [2, 0], (3, 0): [3, 1, 0], (4, 0): [4, 1, 0], (5, 0): [5, 1, 0], (0, 1): [0, 1], (2, 1): [2, 1], (3, 1): [3, 1], (4, 1): [4, 1], (5, 1): [5, 1], (0, 2): [0, 2], (1, 2): [1, 2], (3, 2): [3, 2], (4, 2): [4, 1, 2], (5, 2): [5, 2], (0, 3): [0, 1, 3], (1, 3): [1, 3], (2, 3): [2, 3], (4, 3): [4, 3], (5, 3): [5, 1, 3]}{(1, 0): [1, 0], (2, 0): [2, 0], (3, 0): [3, 1, 0], (4, 0): [4, 1, 0], (5, 0): [5, 1, 0], (0, 1): [0, 1], (2, 1): [2, 1], (3, 1): [3, 1], (4, 1): [4, 1], (5, 1): [5, 1], (0, 2): [0, 2], (1, 2): [1, 2], (3, 2): [3, 2], (4, 2): [4, 1, 2], (5, 2): [5, 2], (0, 3): [0, 1, 3], (1, 3): [1, 3], (2, 3): [2, 3], (4, 3): [4, 3], (5, 3): [5, 1, 3], (0, 4): [0, 1, 4]}\n",
      "\n",
      "{(1, 0): [1, 0], (2, 0): [2, 0], (3, 0): [3, 1, 0], (4, 0): [4, 1, 0], (5, 0): [5, 1, 0], (0, 1): [0, 1], (2, 1): [2, 1], (3, 1): [3, 1], (4, 1): [4, 1], (5, 1): [5, 1], (0, 2): [0, 2], (1, 2): [1, 2], (3, 2): [3, 2], (4, 2): [4, 1, 2], (5, 2): [5, 2], (0, 3): [0, 1, 3], (1, 3): [1, 3], (2, 3): [2, 3], (4, 3): [4, 3], (5, 3): [5, 1, 3], (0, 4): [0, 1, 4], (1, 4): [1, 4]}\n",
      "{(1, 0): [1, 0], (2, 0): [2, 0], (3, 0): [3, 1, 0], (4, 0): [4, 1, 0], (5, 0): [5, 1, 0], (0, 1): [0, 1], (2, 1): [2, 1], (3, 1): [3, 1], (4, 1): [4, 1], (5, 1): [5, 1], (0, 2): [0, 2], (1, 2): [1, 2], (3, 2): [3, 2], (4, 2): [4, 1, 2], (5, 2): [5, 2], (0, 3): [0, 1, 3], (1, 3): [1, 3], (2, 3): [2, 3], (4, 3): [4, 3], (5, 3): [5, 1, 3], (0, 4): [0, 1, 4], (1, 4): [1, 4], (2, 4): [2, 1, 4]}\n",
      "{(1, 0): [1, 0], (2, 0): [2, 0], (3, 0): [3, 1, 0], (4, 0): [4, 1, 0], (5, 0): [5, 1, 0], (0, 1): [0, 1], (2, 1): [2, 1], (3, 1): [3, 1], (4, 1): [4, 1], (5, 1): [5, 1], (0, 2): [0, 2], (1, 2): [1, 2], (3, 2): [3, 2], (4, 2): [4, 1, 2], (5, 2): [5, 2], (0, 3): [0, 1, 3], (1, 3): [1, 3], (2, 3): [2, 3], (4, 3): [4, 3], (5, 3): [5, 1, 3], (0, 4): [0, 1, 4], (1, 4): [1, 4], (2, 4): [2, 1, 4], (3, 4): [3, 4]}\n",
      "{(1, 0): [1, 0], (2, 0): [2, 0], (3, 0): [3, 1, 0], (4, 0): [4, 1, 0], (5, 0): [5, 1, 0], (0, 1): [0, 1], (2, 1): [2, 1], (3, 1): [3, 1], (4, 1): [4, 1], (5, 1): [5, 1], (0, 2): [0, 2], (1, 2): [1, 2], (3, 2): [3, 2], (4, 2): [4, 1, 2], (5, 2): [5, 2], (0, 3): [0, 1, 3], (1, 3): [1, 3], (2, 3): [2, 3], (4, 3): [4, 3], (5, 3): [5, 1, 3], (0, 4): [0, 1, 4], (1, 4): [1, 4], (2, 4): [2, 1, 4], (3, 4): [3, 4], (5, 4): [5, 4]}\n",
      "{(1, 0): [1, 0], (2, 0): [2, 0], (3, 0): [3, 1, 0], (4, 0): [4, 1, 0], (5, 0): [5, 1, 0], (0, 1): [0, 1], (2, 1): [2, 1], (3, 1): [3, 1], (4, 1): [4, 1], (5, 1): [5, 1], (0, 2): [0, 2], (1, 2): [1, 2], (3, 2): [3, 2], (4, 2): [4, 1, 2], (5, 2): [5, 2], (0, 3): [0, 1, 3], (1, 3): [1, 3], (2, 3): [2, 3], (4, 3): [4, 3], (5, 3): [5, 1, 3], (0, 4): [0, 1, 4], (1, 4): [1, 4], (2, 4): [2, 1, 4], (3, 4): [3, 4], (5, 4): [5, 4], (0, 5): [0, 1, 5]}\n",
      "{(1, 0): [1, 0], (2, 0): [2, 0], (3, 0): [3, 1, 0], (4, 0): [4, 1, 0], (5, 0): [5, 1, 0], (0, 1): [0, 1], (2, 1): [2, 1], (3, 1): [3, 1], (4, 1): [4, 1], (5, 1): [5, 1], (0, 2): [0, 2], (1, 2): [1, 2], (3, 2): [3, 2], (4, 2): [4, 1, 2], (5, 2): [5, 2], (0, 3): [0, 1, 3], (1, 3): [1, 3], (2, 3): [2, 3], (4, 3): [4, 3], (5, 3): [5, 1, 3], (0, 4): [0, 1, 4], (1, 4): [1, 4], (2, 4): [2, 1, 4], (3, 4): [3, 4], (5, 4): [5, 4], (0, 5): [0, 1, 5], (1, 5): [1, 5]}{(1, 0): [1, 0], (2, 0): [2, 0], (3, 0): [3, 1, 0], (4, 0): [4, 1, 0], (5, 0): [5, 1, 0], (0, 1): [0, 1], (2, 1): [2, 1], (3, 1): [3, 1], (4, 1): [4, 1], (5, 1): [5, 1], (0, 2): [0, 2], (1, 2): [1, 2], (3, 2): [3, 2], (4, 2): [4, 1, 2], (5, 2): [5, 2], (0, 3): [0, 1, 3], (1, 3): [1, 3], (2, 3): [2, 3], (4, 3): [4, 3], (5, 3): [5, 1, 3], (0, 4): [0, 1, 4], (1, 4): [1, 4], (2, 4): [2, 1, 4], (3, 4): [3, 4], (5, 4): [5, 4], (0, 5): [0, 1, 5], (1, 5): [1, 5], (2, 5): [2, 5]}\n",
      "{(1, 0): [1, 0], (2, 0): [2, 0], (3, 0): [3, 1, 0], (4, 0): [4, 1, 0], (5, 0): [5, 1, 0], (0, 1): [0, 1], (2, 1): [2, 1], (3, 1): [3, 1], (4, 1): [4, 1], (5, 1): [5, 1], (0, 2): [0, 2], (1, 2): [1, 2], (3, 2): [3, 2], (4, 2): [4, 1, 2], (5, 2): [5, 2], (0, 3): [0, 1, 3], (1, 3): [1, 3], (2, 3): [2, 3], (4, 3): [4, 3], (5, 3): [5, 1, 3], (0, 4): [0, 1, 4], (1, 4): [1, 4], (2, 4): [2, 1, 4], (3, 4): [3, 4], (5, 4): [5, 4], (0, 5): [0, 1, 5], (1, 5): [1, 5], (2, 5): [2, 5], (3, 5): [3, 1, 5]}\n",
      "{(1, 0): [1, 0], (2, 0): [2, 0], (3, 0): [3, 1, 0], (4, 0): [4, 1, 0], (5, 0): [5, 1, 0], (0, 1): [0, 1], (2, 1): [2, 1], (3, 1): [3, 1], (4, 1): [4, 1], (5, 1): [5, 1], (0, 2): [0, 2], (1, 2): [1, 2], (3, 2): [3, 2], (4, 2): [4, 1, 2], (5, 2): [5, 2], (0, 3): [0, 1, 3], (1, 3): [1, 3], (2, 3): [2, 3], (4, 3): [4, 3], (5, 3): [5, 1, 3], (0, 4): [0, 1, 4], (1, 4): [1, 4], (2, 4): [2, 1, 4], (3, 4): [3, 4], (5, 4): [5, 4], (0, 5): [0, 1, 5], (1, 5): [1, 5], (2, 5): [2, 5], (3, 5): [3, 1, 5], (4, 5): [4, 5]}\n",
      "\n",
      "\n",
      "wiener antes: 20\n",
      "canais:2, origem:0, destino:1, rota:[(0, 1)], caminho: [0, 1]\n",
      "{(1, 0): [1, 0], (2, 0): [2, 0], (3, 0): [3, 1, 0], (4, 0): [4, 1, 0], (5, 0): [5, 1, 0], (0, 1): [0, 1], (2, 1): [2, 1], (3, 1): [3, 1], (4, 1): [4, 1], (5, 1): [5, 1], (0, 2): [0, 2], (1, 2): [1, 2], (3, 2): [3, 2], (4, 2): [4, 1, 2], (5, 2): [5, 2], (0, 3): [0, 1, 3], (1, 3): [1, 3], (2, 3): [2, 3], (4, 3): [4, 3], (5, 3): [5, 1, 3], (0, 4): [0, 1, 4], (1, 4): [1, 4], (2, 4): [2, 1, 4], (3, 4): [3, 4], (5, 4): [5, 4], (0, 5): [0, 1, 5], (1, 5): [1, 5], (2, 5): [2, 5], (3, 5): [3, 1, 5], (4, 5): [4, 5]}\n",
      "{(1, 0): [1, 0], (2, 0): [2, 0], (3, 0): [3, 1, 0], (4, 0): [4, 1, 0], (5, 0): [5, 1, 0], (0, 1): [0, 1], (2, 1): [2, 1], (3, 1): [3, 1], (4, 1): [4, 1], (5, 1): [5, 1], (0, 2): [0, 2], (1, 2): [1, 2], (3, 2): [3, 2], (4, 2): [4, 1, 2], (5, 2): [5, 2], (0, 3): [0, 1, 3], (1, 3): [1, 3], (2, 3): [2, 3], (4, 3): [4, 3], (5, 3): [5, 1, 3], (0, 4): [0, 1, 4], (1, 4): [1, 4], (2, 4): [2, 1, 4], (3, 4): [3, 4], (5, 4): [5, 4], (0, 5): [0, 1, 5], (1, 5): [1, 5], (2, 5): [2, 5], (3, 5): [3, 1, 5], (4, 5): [4, 5]}\n",
      "canais:2, origem:0, destino:1, rota:[(0, 1)], caminho: [0, 1]\n",
      "canais:2, origem:0, destino:2, rota:[(0, 2)], caminho: [0, 2]\n",
      "{(1, 0): [1, 0], (2, 0): [2, 0], (3, 0): [3, 1, 0], (4, 0): [4, 1, 0], (5, 0): [5, 1, 0], (0, 1): [0, 1], (2, 1): [2, 1], (3, 1): [3, 1], (4, 1): [4, 1], (5, 1): [5, 1], (0, 2): [0, 2], (1, 2): [1, 2], (3, 2): [3, 2], (4, 2): [4, 1, 2], (5, 2): [5, 2], (0, 3): [0, 1, 3], (1, 3): [1, 3], (2, 3): [2, 3], (4, 3): [4, 3], (5, 3): [5, 1, 3], (0, 4): [0, 1, 4], (1, 4): [1, 4], (2, 4): [2, 1, 4], (3, 4): [3, 4], (5, 4): [5, 4], (0, 5): [0, 1, 5], (1, 5): [1, 5], (2, 5): [2, 5], (3, 5): [3, 1, 5], (4, 5): [4, 5]}\n",
      "{(1, 0): [1, 0], (2, 0): [2, 0], (3, 0): [3, 1, 0], (4, 0): [4, 1, 0], (5, 0): [5, 1, 0], (0, 1): [0, 1], (2, 1): [2, 1], (3, 1): [3, 1], (4, 1): [4, 1], (5, 1): [5, 1], (0, 2): [0, 2], (1, 2): [1, 2], (3, 2): [3, 2], (4, 2): [4, 1, 2], (5, 2): [5, 2], (0, 3): [0, 1, 3], (1, 3): [1, 3], (2, 3): [2, 3], (4, 3): [4, 3], (5, 3): [5, 1, 3], (0, 4): [0, 1, 4], (1, 4): [1, 4], (2, 4): [2, 1, 4], (3, 4): [3, 4], (5, 4): [5, 4], (0, 5): [0, 1, 5], (1, 5): [1, 5], (2, 5): [2, 5], (3, 5): [3, 1, 5], (4, 5): [4, 5]}\n",
      "canais:2, origem:0, destino:2, rota:[(0, 2)], caminho: [0, 2]\n",
      "canais:2, origem:0, destino:3, rota:[(0, 1), (1, 3)], caminho: [0, 1, 3]\n",
      "{(1, 0): [1, 0], (2, 0): [2, 0], (3, 0): [3, 1, 0], (4, 0): [4, 1, 0], (5, 0): [5, 1, 0], (0, 1): [0, 1], (2, 1): [2, 1], (3, 1): [3, 1], (4, 1): [4, 1], (5, 1): [5, 1], (0, 2): [0, 2], (1, 2): [1, 2], (3, 2): [3, 2], (4, 2): [4, 1, 2], (5, 2): [5, 2], (0, 3): [0, 1, 3], (1, 3): [1, 3], (2, 3): [2, 3], (4, 3): [4, 3], (5, 3): [5, 1, 3], (0, 4): [0, 1, 4], (1, 4): [1, 4], (2, 4): [2, 1, 4], (3, 4): [3, 4], (5, 4): [5, 4], (0, 5): [0, 1, 5], (1, 5): [1, 5], (2, 5): [2, 5], (3, 5): [3, 1, 5], (4, 5): [4, 5]}\n",
      "{(1, 0): [1, 0], (2, 0): [2, 0], (3, 0): [3, 1, 0], (4, 0): [4, 1, 0], (5, 0): [5, 1, 0], (0, 1): [0, 1], (2, 1): [2, 1], (3, 1): [3, 1], (4, 1): [4, 1], (5, 1): [5, 1], (0, 2): [0, 2], (1, 2): [1, 2], (3, 2): [3, 2], (4, 2): [4, 1, 2], (5, 2): [5, 2], (0, 3): [0, 1, 3], (1, 3): [1, 3], (2, 3): [2, 3], (4, 3): [4, 3], (5, 3): [5, 1, 3], (0, 4): [0, 1, 4], (1, 4): [1, 4], (2, 4): [2, 1, 4], (3, 4): [3, 4], (5, 4): [5, 4], (0, 5): [0, 1, 5], (1, 5): [1, 5], (2, 5): [2, 5], (3, 5): [3, 1, 5], (4, 5): [4, 5]}\n",
      "canais:2, origem:0, destino:3, rota:[(0, 1), (1, 3)], caminho: [0, 1, 3]\n",
      "canais:2, origem:0, destino:4, rota:[(0, 1), (1, 4)], caminho: [0, 1, 4]\n",
      "{(1, 0): [1, 0], (2, 0): [2, 0], (3, 0): [3, 1, 0], (4, 0): [4, 1, 0], (5, 0): [5, 1, 0], (0, 1): [0, 1], (2, 1): [2, 1], (3, 1): [3, 1], (4, 1): [4, 1], (5, 1): [5, 1], (0, 2): [0, 2], (1, 2): [1, 2], (3, 2): [3, 2], (4, 2): [4, 1, 2], (5, 2): [5, 2], (0, 3): [0, 1, 3], (1, 3): [1, 3], (2, 3): [2, 3], (4, 3): [4, 3], (5, 3): [5, 1, 3], (0, 4): [0, 1, 4], (1, 4): [1, 4], (2, 4): [2, 1, 4], (3, 4): [3, 4], (5, 4): [5, 4], (0, 5): [0, 1, 5], (1, 5): [1, 5], (2, 5): [2, 5], (3, 5): [3, 1, 5], (4, 5): [4, 5]}\n",
      "{(1, 0): [1, 0], (2, 0): [2, 0], (3, 0): [3, 1, 0], (4, 0): [4, 1, 0], (5, 0): [5, 1, 0], (0, 1): [0, 1], (2, 1): [2, 1], (3, 1): [3, 1], (4, 1): [4, 1], (5, 1): [5, 1], (0, 2): [0, 2], (1, 2): [1, 2], (3, 2): [3, 2], (4, 2): [4, 1, 2], (5, 2): [5, 2], (0, 3): [0, 1, 3], (1, 3): [1, 3], (2, 3): [2, 3], (4, 3): [4, 3], (5, 3): [5, 1, 3], (0, 4): [0, 1, 4], (1, 4): [1, 4], (2, 4): [2, 1, 4], (3, 4): [3, 4], (5, 4): [5, 4], (0, 5): [0, 1, 5], (1, 5): [1, 5], (2, 5): [2, 5], (3, 5): [3, 1, 5], (4, 5): [4, 5]}\n",
      "canais:2, origem:0, destino:4, rota:[(0, 1), (1, 4)], caminho: [0, 1, 4]\n",
      "canais:2, origem:0, destino:5, rota:[(0, 1), (1, 5)], caminho: [0, 1, 5]\n",
      "{(1, 0): [1, 0], (2, 0): [2, 0], (3, 0): [3, 1, 0], (4, 0): [4, 1, 0], (5, 0): [5, 1, 0], (0, 1): [0, 1], (2, 1): [2, 1], (3, 1): [3, 1], (4, 1): [4, 1], (5, 1): [5, 1], (0, 2): [0, 2], (1, 2): [1, 2], (3, 2): [3, 2], (4, 2): [4, 1, 2], (5, 2): [5, 2], (0, 3): [0, 1, 3], (1, 3): [1, 3], (2, 3): [2, 3], (4, 3): [4, 3], (5, 3): [5, 1, 3], (0, 4): [0, 1, 4], (1, 4): [1, 4], (2, 4): [2, 1, 4], (3, 4): [3, 4], (5, 4): [5, 4], (0, 5): [0, 1, 5], (1, 5): [1, 5], (2, 5): [2, 5], (3, 5): [3, 1, 5], (4, 5): [4, 5]}\n",
      "{(1, 0): [1, 0], (2, 0): [2, 0], (3, 0): [3, 1, 0], (4, 0): [4, 1, 0], (5, 0): [5, 1, 0], (0, 1): [0, 1], (2, 1): [2, 1], (3, 1): [3, 1], (4, 1): [4, 1], (5, 1): [5, 1], (0, 2): [0, 2], (1, 2): [1, 2], (3, 2): [3, 2], (4, 2): [4, 1, 2], (5, 2): [5, 2], (0, 3): [0, 1, 3], (1, 3): [1, 3], (2, 3): [2, 3], (4, 3): [4, 3], (5, 3): [5, 1, 3], (0, 4): [0, 1, 4], (1, 4): [1, 4], (2, 4): [2, 1, 4], (3, 4): [3, 4], (5, 4): [5, 4], (0, 5): [0, 1, 5], (1, 5): [1, 5], (2, 5): [2, 5], (3, 5): [3, 1, 5], (4, 5): [4, 5]}\n",
      "canais:2, origem:0, destino:5, rota:[(0, 1), (1, 5)], caminho: [0, 1, 5]\n",
      "canais:2, origem:1, destino:2, rota:[(1, 2)], caminho: [1, 2]\n",
      "{(1, 0): [1, 0], (2, 0): [2, 0], (3, 0): [3, 1, 0], (4, 0): [4, 1, 0], (5, 0): [5, 1, 0], (0, 1): [0, 1], (2, 1): [2, 1], (3, 1): [3, 1], (4, 1): [4, 1], (5, 1): [5, 1], (0, 2): [0, 2], (1, 2): [1, 2], (3, 2): [3, 2], (4, 2): [4, 1, 2], (5, 2): [5, 2], (0, 3): [0, 1, 3], (1, 3): [1, 3], (2, 3): [2, 3], (4, 3): [4, 3], (5, 3): [5, 1, 3], (0, 4): [0, 1, 4], (1, 4): [1, 4], (2, 4): [2, 1, 4], (3, 4): [3, 4], (5, 4): [5, 4], (0, 5): [0, 1, 5], (1, 5): [1, 5], (2, 5): [2, 5], (3, 5): [3, 1, 5], (4, 5): [4, 5]}\n",
      "{(1, 0): [1, 0], (2, 0): [2, 0], (3, 0): [3, 1, 0], (4, 0): [4, 1, 0], (5, 0): [5, 1, 0], (0, 1): [0, 1], (2, 1): [2, 1], (3, 1): [3, 1], (4, 1): [4, 1], (5, 1): [5, 1], (0, 2): [0, 2], (1, 2): [1, 2], (3, 2): [3, 2], (4, 2): [4, 1, 2], (5, 2): [5, 2], (0, 3): [0, 1, 3], (1, 3): [1, 3], (2, 3): [2, 3], (4, 3): [4, 3], (5, 3): [5, 1, 3], (0, 4): [0, 1, 4], (1, 4): [1, 4], (2, 4): [2, 1, 4], (3, 4): [3, 4], (5, 4): [5, 4], (0, 5): [0, 1, 5], (1, 5): [1, 5], (2, 5): [2, 5], (3, 5): [3, 1, 5], (4, 5): [4, 5]}\n",
      "canais:2, origem:1, destino:2, rota:[(1, 2)], caminho: [1, 2]\n",
      "canais:2, origem:1, destino:3, rota:[(1, 3)], caminho: [1, 3]\n",
      "{(1, 0): [1, 0], (2, 0): [2, 0], (3, 0): [3, 1, 0], (4, 0): [4, 1, 0], (5, 0): [5, 1, 0], (0, 1): [0, 1], (2, 1): [2, 1], (3, 1): [3, 1], (4, 1): [4, 1], (5, 1): [5, 1], (0, 2): [0, 2], (1, 2): [1, 2], (3, 2): [3, 2], (4, 2): [4, 1, 2], (5, 2): [5, 2], (0, 3): [0, 1, 3], (1, 3): [1, 3], (2, 3): [2, 3], (4, 3): [4, 3], (5, 3): [5, 1, 3], (0, 4): [0, 1, 4], (1, 4): [1, 4], (2, 4): [2, 1, 4], (3, 4): [3, 4], (5, 4): [5, 4], (0, 5): [0, 1, 5], (1, 5): [1, 5], (2, 5): [2, 5], (3, 5): [3, 1, 5], (4, 5): [4, 5]}\n",
      "{(1, 0): [1, 0], (2, 0): [2, 0], (3, 0): [3, 1, 0], (4, 0): [4, 1, 0], (5, 0): [5, 1, 0], (0, 1): [0, 1], (2, 1): [2, 1], (3, 1): [3, 1], (4, 1): [4, 1], (5, 1): [5, 1], (0, 2): [0, 2], (1, 2): [1, 2], (3, 2): [3, 2], (4, 2): [4, 1, 2], (5, 2): [5, 2], (0, 3): [0, 1, 3], (1, 3): [1, 3], (2, 3): [2, 3], (4, 3): [4, 3], (5, 3): [5, 1, 3], (0, 4): [0, 1, 4], (1, 4): [1, 4], (2, 4): [2, 1, 4], (3, 4): [3, 4], (5, 4): [5, 4], (0, 5): [0, 1, 5], (1, 5): [1, 5], (2, 5): [2, 5], (3, 5): [3, 1, 5], (4, 5): [4, 5]}\n",
      "canais:2, origem:1, destino:3, rota:[(1, 3)], caminho: [1, 3]\n",
      "canais:2, origem:1, destino:4, rota:[(1, 4)], caminho: [1, 4]\n",
      "{(1, 0): [1, 0], (2, 0): [2, 0], (3, 0): [3, 1, 0], (4, 0): [4, 1, 0], (5, 0): [5, 1, 0], (0, 1): [0, 1], (2, 1): [2, 1], (3, 1): [3, 1], (4, 1): [4, 1], (5, 1): [5, 1], (0, 2): [0, 2], (1, 2): [1, 2], (3, 2): [3, 2], (4, 2): [4, 1, 2], (5, 2): [5, 2], (0, 3): [0, 1, 3], (1, 3): [1, 3], (2, 3): [2, 3], (4, 3): [4, 3], (5, 3): [5, 1, 3], (0, 4): [0, 1, 4], (1, 4): [1, 4], (2, 4): [2, 1, 4], (3, 4): [3, 4], (5, 4): [5, 4], (0, 5): [0, 1, 5], (1, 5): [1, 5], (2, 5): [2, 5], (3, 5): [3, 1, 5], (4, 5): [4, 5]}\n",
      "{(1, 0): [1, 0], (2, 0): [2, 0], (3, 0): [3, 1, 0], (4, 0): [4, 1, 0], (5, 0): [5, 1, 0], (0, 1): [0, 1], (2, 1): [2, 1], (3, 1): [3, 1], (4, 1): [4, 1], (5, 1): [5, 1], (0, 2): [0, 2], (1, 2): [1, 2], (3, 2): [3, 2], (4, 2): [4, 1, 2], (5, 2): [5, 2], (0, 3): [0, 1, 3], (1, 3): [1, 3], (2, 3): [2, 3], (4, 3): [4, 3], (5, 3): [5, 1, 3], (0, 4): [0, 1, 4], (1, 4): [1, 4], (2, 4): [2, 1, 4], (3, 4): [3, 4], (5, 4): [5, 4], (0, 5): [0, 1, 5], (1, 5): [1, 5], (2, 5): [2, 5], (3, 5): [3, 1, 5], (4, 5): [4, 5]}\n",
      "canais:2, origem:1, destino:4, rota:[(1, 4)], caminho: [1, 4]\n",
      "canais:2, origem:1, destino:5, rota:[(1, 5)], caminho: [1, 5]\n",
      "{(1, 0): [1, 0], (2, 0): [2, 0], (3, 0): [3, 1, 0], (4, 0): [4, 1, 0], (5, 0): [5, 1, 0], (0, 1): [0, 1], (2, 1): [2, 1], (3, 1): [3, 1], (4, 1): [4, 1], (5, 1): [5, 1], (0, 2): [0, 2], (1, 2): [1, 2], (3, 2): [3, 2], (4, 2): [4, 1, 2], (5, 2): [5, 2], (0, 3): [0, 1, 3], (1, 3): [1, 3], (2, 3): [2, 3], (4, 3): [4, 3], (5, 3): [5, 1, 3], (0, 4): [0, 1, 4], (1, 4): [1, 4], (2, 4): [2, 1, 4], (3, 4): [3, 4], (5, 4): [5, 4], (0, 5): [0, 1, 5], (1, 5): [1, 5], (2, 5): [2, 5], (3, 5): [3, 1, 5], (4, 5): [4, 5]}\n",
      "{(1, 0): [1, 0], (2, 0): [2, 0], (3, 0): [3, 1, 0], (4, 0): [4, 1, 0], (5, 0): [5, 1, 0], (0, 1): [0, 1], (2, 1): [2, 1], (3, 1): [3, 1], (4, 1): [4, 1], (5, 1): [5, 1], (0, 2): [0, 2], (1, 2): [1, 2], (3, 2): [3, 2], (4, 2): [4, 1, 2], (5, 2): [5, 2], (0, 3): [0, 1, 3], (1, 3): [1, 3], (2, 3): [2, 3], (4, 3): [4, 3], (5, 3): [5, 1, 3], (0, 4): [0, 1, 4], (1, 4): [1, 4], (2, 4): [2, 1, 4], (3, 4): [3, 4], (5, 4): [5, 4], (0, 5): [0, 1, 5], (1, 5): [1, 5], (2, 5): [2, 5], (3, 5): [3, 1, 5], (4, 5): [4, 5]}\n",
      "canais:2, origem:1, destino:5, rota:[(1, 5)], caminho: [1, 5]\n",
      "canais:2, origem:2, destino:3, rota:[(2, 3)], caminho: [2, 3]\n",
      "{(1, 0): [1, 0], (2, 0): [2, 0], (3, 0): [3, 1, 0], (4, 0): [4, 1, 0], (5, 0): [5, 1, 0], (0, 1): [0, 1], (2, 1): [2, 1], (3, 1): [3, 1], (4, 1): [4, 1], (5, 1): [5, 1], (0, 2): [0, 2], (1, 2): [1, 2], (3, 2): [3, 2], (4, 2): [4, 1, 2], (5, 2): [5, 2], (0, 3): [0, 1, 3], (1, 3): [1, 3], (2, 3): [2, 3], (4, 3): [4, 3], (5, 3): [5, 1, 3], (0, 4): [0, 1, 4], (1, 4): [1, 4], (2, 4): [2, 1, 4], (3, 4): [3, 4], (5, 4): [5, 4], (0, 5): [0, 1, 5], (1, 5): [1, 5], (2, 5): [2, 5], (3, 5): [3, 1, 5], (4, 5): [4, 5]}\n",
      "{(1, 0): [1, 0], (2, 0): [2, 0], (3, 0): [3, 1, 0], (4, 0): [4, 1, 0], (5, 0): [5, 1, 0], (0, 1): [0, 1], (2, 1): [2, 1], (3, 1): [3, 1], (4, 1): [4, 1], (5, 1): [5, 1], (0, 2): [0, 2], (1, 2): [1, 2], (3, 2): [3, 2], (4, 2): [4, 1, 2], (5, 2): [5, 2], (0, 3): [0, 1, 3], (1, 3): [1, 3], (2, 3): [2, 3], (4, 3): [4, 3], (5, 3): [5, 1, 3], (0, 4): [0, 1, 4], (1, 4): [1, 4], (2, 4): [2, 1, 4], (3, 4): [3, 4], (5, 4): [5, 4], (0, 5): [0, 1, 5], (1, 5): [1, 5], (2, 5): [2, 5], (3, 5): [3, 1, 5], (4, 5): [4, 5]}\n",
      "canais:2, origem:2, destino:3, rota:[(2, 3)], caminho: [2, 3]\n",
      "canais:2, origem:2, destino:4, rota:[(2, 1), (1, 4)], caminho: [2, 1, 4]\n",
      "{(1, 0): [1, 0], (2, 0): [2, 0], (3, 0): [3, 1, 0], (4, 0): [4, 1, 0], (5, 0): [5, 1, 0], (0, 1): [0, 1], (2, 1): [2, 1], (3, 1): [3, 1], (4, 1): [4, 1], (5, 1): [5, 1], (0, 2): [0, 2], (1, 2): [1, 2], (3, 2): [3, 2], (4, 2): [4, 3, 2], (5, 2): [5, 2], (0, 3): [0, 1, 3], (1, 3): [1, 3], (2, 3): [2, 3], (4, 3): [4, 3], (5, 3): [5, 1, 3], (0, 4): [0, 1, 4], (1, 4): [1, 4], (2, 4): [2, 1, 4], (3, 4): [3, 4], (5, 4): [5, 4], (0, 5): [0, 1, 5], (1, 5): [1, 5], (2, 5): [2, 5], (3, 5): [3, 1, 5], (4, 5): [4, 5]}\n",
      "{(1, 0): [1, 0], (2, 0): [2, 0], (3, 0): [3, 1, 0], (4, 0): [4, 1, 0], (5, 0): [5, 1, 0], (0, 1): [0, 1], (2, 1): [2, 1], (3, 1): [3, 1], (4, 1): [4, 1], (5, 1): [5, 1], (0, 2): [0, 2], (1, 2): [1, 2], (3, 2): [3, 2], (4, 2): [4, 3, 2], (5, 2): [5, 2], (0, 3): [0, 1, 3], (1, 3): [1, 3], (2, 3): [2, 3], (4, 3): [4, 3], (5, 3): [5, 1, 3], (0, 4): [0, 1, 4], (1, 4): [1, 4], (2, 4): [2, 3, 4], (3, 4): [3, 4], (5, 4): [5, 4], (0, 5): [0, 1, 5], (1, 5): [1, 5], (2, 5): [2, 5], (3, 5): [3, 1, 5], (4, 5): [4, 5]}\n",
      "canais:2, origem:2, destino:4, rota:[(2, 3), (3, 4)], caminho: [2, 3, 4]\n",
      "canais:2, origem:2, destino:5, rota:[(2, 5)], caminho: [2, 5]\n",
      "{(1, 0): [1, 0], (2, 0): [2, 0], (3, 0): [3, 1, 0], (4, 0): [4, 1, 0], (5, 0): [5, 1, 0], (0, 1): [0, 1], (2, 1): [2, 1], (3, 1): [3, 1], (4, 1): [4, 1], (5, 1): [5, 1], (0, 2): [0, 2], (1, 2): [1, 2], (3, 2): [3, 2], (4, 2): [4, 3, 2], (5, 2): [5, 2], (0, 3): [0, 1, 3], (1, 3): [1, 3], (2, 3): [2, 3], (4, 3): [4, 3], (5, 3): [5, 1, 3], (0, 4): [0, 1, 4], (1, 4): [1, 4], (2, 4): [2, 3, 4], (3, 4): [3, 4], (5, 4): [5, 4], (0, 5): [0, 1, 5], (1, 5): [1, 5], (2, 5): [2, 5], (3, 5): [3, 1, 5], (4, 5): [4, 5]}\n",
      "{(1, 0): [1, 0], (2, 0): [2, 0], (3, 0): [3, 1, 0], (4, 0): [4, 1, 0], (5, 0): [5, 1, 0], (0, 1): [0, 1], (2, 1): [2, 1], (3, 1): [3, 1], (4, 1): [4, 1], (5, 1): [5, 1], (0, 2): [0, 2], (1, 2): [1, 2], (3, 2): [3, 2], (4, 2): [4, 3, 2], (5, 2): [5, 2], (0, 3): [0, 1, 3], (1, 3): [1, 3], (2, 3): [2, 3], (4, 3): [4, 3], (5, 3): [5, 1, 3], (0, 4): [0, 1, 4], (1, 4): [1, 4], (2, 4): [2, 3, 4], (3, 4): [3, 4], (5, 4): [5, 4], (0, 5): [0, 1, 5], (1, 5): [1, 5], (2, 5): [2, 5], (3, 5): [3, 1, 5], (4, 5): [4, 5]}\n",
      "canais:2, origem:2, destino:5, rota:[(2, 5)], caminho: [2, 5]\n",
      "canais:2, origem:3, destino:4, rota:[(3, 4)], caminho: [3, 4]\n",
      "{(1, 0): [1, 0], (2, 0): [2, 0], (3, 0): [3, 1, 0], (4, 0): [4, 1, 0], (5, 0): [5, 1, 0], (0, 1): [0, 1], (2, 1): [2, 1], (3, 1): [3, 1], (4, 1): [4, 1], (5, 1): [5, 1], (0, 2): [0, 2], (1, 2): [1, 2], (3, 2): [3, 2], (4, 2): [4, 3, 2], (5, 2): [5, 2], (0, 3): [0, 1, 3], (1, 3): [1, 3], (2, 3): [2, 3], (4, 3): [4, 3], (5, 3): [5, 1, 3], (0, 4): [0, 1, 4], (1, 4): [1, 4], (2, 4): [2, 3, 4], (3, 4): [3, 4], (5, 4): [5, 4], (0, 5): [0, 1, 5], (1, 5): [1, 5], (2, 5): [2, 5], (3, 5): [3, 1, 5], (4, 5): [4, 5]}\n",
      "{(1, 0): [1, 0], (2, 0): [2, 0], (3, 0): [3, 1, 0], (4, 0): [4, 1, 0], (5, 0): [5, 1, 0], (0, 1): [0, 1], (2, 1): [2, 1], (3, 1): [3, 1], (4, 1): [4, 1], (5, 1): [5, 1], (0, 2): [0, 2], (1, 2): [1, 2], (3, 2): [3, 2], (4, 2): [4, 3, 2], (5, 2): [5, 2], (0, 3): [0, 1, 3], (1, 3): [1, 3], (2, 3): [2, 3], (4, 3): [4, 3], (5, 3): [5, 1, 3], (0, 4): [0, 1, 4], (1, 4): [1, 4], (2, 4): [2, 3, 4], (3, 4): [3, 4], (5, 4): [5, 4], (0, 5): [0, 1, 5], (1, 5): [1, 5], (2, 5): [2, 5], (3, 5): [3, 1, 5], (4, 5): [4, 5]}\n",
      "canais:2, origem:3, destino:4, rota:[(3, 4)], caminho: [3, 4]\n",
      "canais:2, origem:3, destino:5, rota:[(3, 1), (1, 5)], caminho: [3, 1, 5]\n",
      "{(1, 0): [1, 0], (2, 0): [2, 0], (3, 0): [3, 1, 0], (4, 0): [4, 1, 0], (5, 0): [5, 1, 0], (0, 1): [0, 1], (2, 1): [2, 1], (3, 1): [3, 1], (4, 1): [4, 1], (5, 1): [5, 1], (0, 2): [0, 2], (1, 2): [1, 2], (3, 2): [3, 2], (4, 2): [4, 3, 2], (5, 2): [5, 2], (0, 3): [0, 1, 3], (1, 3): [1, 3], (2, 3): [2, 3], (4, 3): [4, 3], (5, 3): [5, 2, 3], (0, 4): [0, 1, 4], (1, 4): [1, 4], (2, 4): [2, 3, 4], (3, 4): [3, 4], (5, 4): [5, 4], (0, 5): [0, 1, 5], (1, 5): [1, 5], (2, 5): [2, 5], (3, 5): [3, 1, 5], (4, 5): [4, 5]}\n",
      "{(1, 0): [1, 0], (2, 0): [2, 0], (3, 0): [3, 1, 0], (4, 0): [4, 1, 0], (5, 0): [5, 1, 0], (0, 1): [0, 1], (2, 1): [2, 1], (3, 1): [3, 1], (4, 1): [4, 1], (5, 1): [5, 1], (0, 2): [0, 2], (1, 2): [1, 2], (3, 2): [3, 2], (4, 2): [4, 3, 2], (5, 2): [5, 2], (0, 3): [0, 1, 3], (1, 3): [1, 3], (2, 3): [2, 3], (4, 3): [4, 3], (5, 3): [5, 2, 3], (0, 4): [0, 1, 4], (1, 4): [1, 4], (2, 4): [2, 3, 4], (3, 4): [3, 4], (5, 4): [5, 4], (0, 5): [0, 1, 5], (1, 5): [1, 5], (2, 5): [2, 5], (3, 5): [3, 2, 5], (4, 5): [4, 5]}\n",
      "canais:2, origem:3, destino:5, rota:[(3, 2), (2, 5)], caminho: [3, 2, 5]\n",
      "canais:2, origem:4, destino:5, rota:[(4, 5)], caminho: [4, 5]\n",
      "{(1, 0): [1, 0], (2, 0): [2, 0], (3, 0): [3, 1, 0], (4, 0): [4, 1, 0], (5, 0): [5, 1, 0], (0, 1): [0, 1], (2, 1): [2, 1], (3, 1): [3, 1], (4, 1): [4, 1], (5, 1): [5, 1], (0, 2): [0, 2], (1, 2): [1, 2], (3, 2): [3, 2], (4, 2): [4, 3, 2], (5, 2): [5, 2], (0, 3): [0, 1, 3], (1, 3): [1, 3], (2, 3): [2, 3], (4, 3): [4, 3], (5, 3): [5, 2, 3], (0, 4): [0, 1, 4], (1, 4): [1, 4], (2, 4): [2, 3, 4], (3, 4): [3, 4], (5, 4): [5, 4], (0, 5): [0, 1, 5], (1, 5): [1, 5], (2, 5): [2, 5], (3, 5): [3, 2, 5], (4, 5): [4, 5]}\n",
      "{(1, 0): [1, 0], (2, 0): [2, 0], (3, 0): [3, 1, 0], (4, 0): [4, 1, 0], (5, 0): [5, 1, 0], (0, 1): [0, 1], (2, 1): [2, 1], (3, 1): [3, 1], (4, 1): [4, 1], (5, 1): [5, 1], (0, 2): [0, 2], (1, 2): [1, 2], (3, 2): [3, 2], (4, 2): [4, 3, 2], (5, 2): [5, 2], (0, 3): [0, 1, 3], (1, 3): [1, 3], (2, 3): [2, 3], (4, 3): [4, 3], (5, 3): [5, 2, 3], (0, 4): [0, 1, 4], (1, 4): [1, 4], (2, 4): [2, 3, 4], (3, 4): [3, 4], (5, 4): [5, 4], (0, 5): [0, 1, 5], (1, 5): [1, 5], (2, 5): [2, 5], (3, 5): [3, 2, 5], (4, 5): [4, 5]}\n",
      "canais:2, origem:4, destino:5, rota:[(4, 5)], caminho: [4, 5]\n",
      "demandas:35, rede:scteste, bloqueios:0, wiener: 20\n",
      "matriz:\n",
      "[[0 1 1 1 1 0]\n",
      " [1 0 1 1 1 1]\n",
      " [1 1 0 1 1 1]\n",
      " [1 1 1 0 1 1]\n",
      " [1 1 1 1 0 1]\n",
      " [0 1 1 1 1 0]]\n",
      "\n",
      "===========iteracao (2)============\n",
      "\n",
      "{(1, 0): [1, 0]}\n",
      "{(1, 0): [1, 0], (2, 0): [2, 0]}\n",
      "{(1, 0): [1, 0], (2, 0): [2, 0], (3, 0): [3, 0]}\n",
      "{(1, 0): [1, 0], (2, 0): [2, 0], (3, 0): [3, 0], (4, 0): [4, 0]}\n",
      "{(1, 0): [1, 0], (2, 0): [2, 0], (3, 0): [3, 0], (4, 0): [4, 0], (5, 0): [5, 1, 0]}\n",
      "{(1, 0): [1, 0], (2, 0): [2, 0], (3, 0): [3, 0], (4, 0): [4, 0], (5, 0): [5, 1, 0], (0, 1): [0, 1]}\n",
      "{(1, 0): [1, 0], (2, 0): [2, 0], (3, 0): [3, 0], (4, 0): [4, 0], (5, 0): [5, 1, 0], (0, 1): [0, 1], (2, 1): [2, 1]}\n",
      "{(1, 0): [1, 0], (2, 0): [2, 0], (3, 0): [3, 0], (4, 0): [4, 0], (5, 0): [5, 1, 0], (0, 1): [0, 1], (2, 1): [2, 1], (3, 1): [3, 1]}\n",
      "{(1, 0): [1, 0], (2, 0): [2, 0], (3, 0): [3, 0], (4, 0): [4, 0], (5, 0): [5, 1, 0], (0, 1): [0, 1], (2, 1): [2, 1], (3, 1): [3, 1], (4, 1): [4, 1]}\n",
      "{(1, 0): [1, 0], (2, 0): [2, 0], (3, 0): [3, 0], (4, 0): [4, 0], (5, 0): [5, 1, 0], (0, 1): [0, 1], (2, 1): [2, 1], (3, 1): [3, 1], (4, 1): [4, 1], (5, 1): [5, 1]}\n",
      "{(1, 0): [1, 0], (2, 0): [2, 0], (3, 0): [3, 0], (4, 0): [4, 0], (5, 0): [5, 1, 0], (0, 1): [0, 1], (2, 1): [2, 1], (3, 1): [3, 1], (4, 1): [4, 1], (5, 1): [5, 1], (0, 2): [0, 2]}\n",
      "{(1, 0): [1, 0], (2, 0): [2, 0], (3, 0): [3, 0], (4, 0): [4, 0], (5, 0): [5, 1, 0], (0, 1): [0, 1], (2, 1): [2, 1], (3, 1): [3, 1], (4, 1): [4, 1], (5, 1): [5, 1], (0, 2): [0, 2], (1, 2): [1, 2]}\n",
      "{(1, 0): [1, 0], (2, 0): [2, 0], (3, 0): [3, 0], (4, 0): [4, 0], (5, 0): [5, 1, 0], (0, 1): [0, 1], (2, 1): [2, 1], (3, 1): [3, 1], (4, 1): [4, 1], (5, 1): [5, 1], (0, 2): [0, 2], (1, 2): [1, 2], (3, 2): [3, 2]}\n",
      "{(1, 0): [1, 0], (2, 0): [2, 0], (3, 0): [3, 0], (4, 0): [4, 0], (5, 0): [5, 1, 0], (0, 1): [0, 1], (2, 1): [2, 1], (3, 1): [3, 1], (4, 1): [4, 1], (5, 1): [5, 1], (0, 2): [0, 2], (1, 2): [1, 2], (3, 2): [3, 2], (4, 2): [4, 2]}\n",
      "{(1, 0): [1, 0], (2, 0): [2, 0], (3, 0): [3, 0], (4, 0): [4, 0], (5, 0): [5, 1, 0], (0, 1): [0, 1], (2, 1): [2, 1], (3, 1): [3, 1], (4, 1): [4, 1], (5, 1): [5, 1], (0, 2): [0, 2], (1, 2): [1, 2], (3, 2): [3, 2], (4, 2): [4, 2], (5, 2): [5, 2]}\n",
      "{(1, 0): [1, 0], (2, 0): [2, 0], (3, 0): [3, 0], (4, 0): [4, 0], (5, 0): [5, 1, 0], (0, 1): [0, 1], (2, 1): [2, 1], (3, 1): [3, 1], (4, 1): [4, 1], (5, 1): [5, 1], (0, 2): [0, 2], (1, 2): [1, 2], (3, 2): [3, 2], (4, 2): [4, 2], (5, 2): [5, 2], (0, 3): [0, 3]}\n",
      "{(1, 0): [1, 0], (2, 0): [2, 0], (3, 0): [3, 0], (4, 0): [4, 0], (5, 0): [5, 1, 0], (0, 1): [0, 1], (2, 1): [2, 1], (3, 1): [3, 1], (4, 1): [4, 1], (5, 1): [5, 1], (0, 2): [0, 2], (1, 2): [1, 2], (3, 2): [3, 2], (4, 2): [4, 2], (5, 2): [5, 2], (0, 3): [0, 3], (1, 3): [1, 3]}\n",
      "{(1, 0): [1, 0], (2, 0): [2, 0], (3, 0): [3, 0], (4, 0): [4, 0], (5, 0): [5, 1, 0], (0, 1): [0, 1], (2, 1): [2, 1], (3, 1): [3, 1], (4, 1): [4, 1], (5, 1): [5, 1], (0, 2): [0, 2], (1, 2): [1, 2], (3, 2): [3, 2], (4, 2): [4, 2], (5, 2): [5, 2], (0, 3): [0, 3], (1, 3): [1, 3], (2, 3): [2, 3]}\n",
      "{(1, 0): [1, 0], (2, 0): [2, 0], (3, 0): [3, 0], (4, 0): [4, 0], (5, 0): [5, 1, 0], (0, 1): [0, 1], (2, 1): [2, 1], (3, 1): [3, 1], (4, 1): [4, 1], (5, 1): [5, 1], (0, 2): [0, 2], (1, 2): [1, 2], (3, 2): [3, 2], (4, 2): [4, 2], (5, 2): [5, 2], (0, 3): [0, 3], (1, 3): [1, 3], (2, 3): [2, 3], (4, 3): [4, 3]}\n",
      "{(1, 0): [1, 0], (2, 0): [2, 0], (3, 0): [3, 0], (4, 0): [4, 0], (5, 0): [5, 1, 0], (0, 1): [0, 1], (2, 1): [2, 1], (3, 1): [3, 1], (4, 1): [4, 1], (5, 1): [5, 1], (0, 2): [0, 2], (1, 2): [1, 2], (3, 2): [3, 2], (4, 2): [4, 2], (5, 2): [5, 2], (0, 3): [0, 3], (1, 3): [1, 3], (2, 3): [2, 3], (4, 3): [4, 3], (5, 3): [5, 3]}\n",
      "{(1, 0): [1, 0], (2, 0): [2, 0], (3, 0): [3, 0], (4, 0): [4, 0], (5, 0): [5, 1, 0], (0, 1): [0, 1], (2, 1): [2, 1], (3, 1): [3, 1], (4, 1): [4, 1], (5, 1): [5, 1], (0, 2): [0, 2], (1, 2): [1, 2], (3, 2): [3, 2], (4, 2): [4, 2], (5, 2): [5, 2], (0, 3): [0, 3], (1, 3): [1, 3], (2, 3): [2, 3], (4, 3): [4, 3], (5, 3): [5, 3], (0, 4): [0, 4]}\n",
      "{(1, 0): [1, 0], (2, 0): [2, 0], (3, 0): [3, 0], (4, 0): [4, 0], (5, 0): [5, 1, 0], (0, 1): [0, 1], (2, 1): [2, 1], (3, 1): [3, 1], (4, 1): [4, 1], (5, 1): [5, 1], (0, 2): [0, 2], (1, 2): [1, 2], (3, 2): [3, 2], (4, 2): [4, 2], (5, 2): [5, 2], (0, 3): [0, 3], (1, 3): [1, 3], (2, 3): [2, 3], (4, 3): [4, 3], (5, 3): [5, 3], (0, 4): [0, 4], (1, 4): [1, 4]}\n",
      "{(1, 0): [1, 0], (2, 0): [2, 0], (3, 0): [3, 0], (4, 0): [4, 0], (5, 0): [5, 1, 0], (0, 1): [0, 1], (2, 1): [2, 1], (3, 1): [3, 1], (4, 1): [4, 1], (5, 1): [5, 1], (0, 2): [0, 2], (1, 2): [1, 2], (3, 2): [3, 2], (4, 2): [4, 2], (5, 2): [5, 2], (0, 3): [0, 3], (1, 3): [1, 3], (2, 3): [2, 3], (4, 3): [4, 3], (5, 3): [5, 3], (0, 4): [0, 4], (1, 4): [1, 4], (2, 4): [2, 4]}\n",
      "{(1, 0): [1, 0], (2, 0): [2, 0], (3, 0): [3, 0], (4, 0): [4, 0], (5, 0): [5, 1, 0], (0, 1): [0, 1], (2, 1): [2, 1], (3, 1): [3, 1], (4, 1): [4, 1], (5, 1): [5, 1], (0, 2): [0, 2], (1, 2): [1, 2], (3, 2): [3, 2], (4, 2): [4, 2], (5, 2): [5, 2], (0, 3): [0, 3], (1, 3): [1, 3], (2, 3): [2, 3], (4, 3): [4, 3], (5, 3): [5, 3], (0, 4): [0, 4], (1, 4): [1, 4], (2, 4): [2, 4], (3, 4): [3, 4]}\n",
      "{(1, 0): [1, 0], (2, 0): [2, 0], (3, 0): [3, 0], (4, 0): [4, 0], (5, 0): [5, 1, 0], (0, 1): [0, 1], (2, 1): [2, 1], (3, 1): [3, 1], (4, 1): [4, 1], (5, 1): [5, 1], (0, 2): [0, 2], (1, 2): [1, 2], (3, 2): [3, 2], (4, 2): [4, 2], (5, 2): [5, 2], (0, 3): [0, 3], (1, 3): [1, 3], (2, 3): [2, 3], (4, 3): [4, 3], (5, 3): [5, 3], (0, 4): [0, 4], (1, 4): [1, 4], (2, 4): [2, 4], (3, 4): [3, 4], (5, 4): [5, 4]}\n",
      "{(1, 0): [1, 0], (2, 0): [2, 0], (3, 0): [3, 0], (4, 0): [4, 0], (5, 0): [5, 1, 0], (0, 1): [0, 1], (2, 1): [2, 1], (3, 1): [3, 1], (4, 1): [4, 1], (5, 1): [5, 1], (0, 2): [0, 2], (1, 2): [1, 2], (3, 2): [3, 2], (4, 2): [4, 2], (5, 2): [5, 2], (0, 3): [0, 3], (1, 3): [1, 3], (2, 3): [2, 3], (4, 3): [4, 3], (5, 3): [5, 3], (0, 4): [0, 4], (1, 4): [1, 4], (2, 4): [2, 4], (3, 4): [3, 4], (5, 4): [5, 4], (0, 5): [0, 1, 5]}\n",
      "{(1, 0): [1, 0], (2, 0): [2, 0], (3, 0): [3, 0], (4, 0): [4, 0], (5, 0): [5, 1, 0], (0, 1): [0, 1], (2, 1): [2, 1], (3, 1): [3, 1], (4, 1): [4, 1], (5, 1): [5, 1], (0, 2): [0, 2], (1, 2): [1, 2], (3, 2): [3, 2], (4, 2): [4, 2], (5, 2): [5, 2], (0, 3): [0, 3], (1, 3): [1, 3], (2, 3): [2, 3], (4, 3): [4, 3], (5, 3): [5, 3], (0, 4): [0, 4], (1, 4): [1, 4], (2, 4): [2, 4], (3, 4): [3, 4], (5, 4): [5, 4], (0, 5): [0, 1, 5], (1, 5): [1, 5]}\n",
      "{(1, 0): [1, 0], (2, 0): [2, 0], (3, 0): [3, 0], (4, 0): [4, 0], (5, 0): [5, 1, 0], (0, 1): [0, 1], (2, 1): [2, 1], (3, 1): [3, 1], (4, 1): [4, 1], (5, 1): [5, 1], (0, 2): [0, 2], (1, 2): [1, 2], (3, 2): [3, 2], (4, 2): [4, 2], (5, 2): [5, 2], (0, 3): [0, 3], (1, 3): [1, 3], (2, 3): [2, 3], (4, 3): [4, 3], (5, 3): [5, 3], (0, 4): [0, 4], (1, 4): [1, 4], (2, 4): [2, 4], (3, 4): [3, 4], (5, 4): [5, 4], (0, 5): [0, 1, 5], (1, 5): [1, 5], (2, 5): [2, 5]}\n",
      "{(1, 0): [1, 0], (2, 0): [2, 0], (3, 0): [3, 0], (4, 0): [4, 0], (5, 0): [5, 1, 0], (0, 1): [0, 1], (2, 1): [2, 1], (3, 1): [3, 1], (4, 1): [4, 1], (5, 1): [5, 1], (0, 2): [0, 2], (1, 2): [1, 2], (3, 2): [3, 2], (4, 2): [4, 2], (5, 2): [5, 2], (0, 3): [0, 3], (1, 3): [1, 3], (2, 3): [2, 3], (4, 3): [4, 3], (5, 3): [5, 3], (0, 4): [0, 4], (1, 4): [1, 4], (2, 4): [2, 4], (3, 4): [3, 4], (5, 4): [5, 4], (0, 5): [0, 1, 5], (1, 5): [1, 5], (2, 5): [2, 5], (3, 5): [3, 5]}\n",
      "{(1, 0): [1, 0], (2, 0): [2, 0], (3, 0): [3, 0], (4, 0): [4, 0], (5, 0): [5, 1, 0], (0, 1): [0, 1], (2, 1): [2, 1], (3, 1): [3, 1], (4, 1): [4, 1], (5, 1): [5, 1], (0, 2): [0, 2], (1, 2): [1, 2], (3, 2): [3, 2], (4, 2): [4, 2], (5, 2): [5, 2], (0, 3): [0, 3], (1, 3): [1, 3], (2, 3): [2, 3], (4, 3): [4, 3], (5, 3): [5, 3], (0, 4): [0, 4], (1, 4): [1, 4], (2, 4): [2, 4], (3, 4): [3, 4], (5, 4): [5, 4], (0, 5): [0, 1, 5], (1, 5): [1, 5], (2, 5): [2, 5], (3, 5): [3, 5], (4, 5): [4, 5]}\n",
      "wiener antes: 16\n",
      "canais:2, origem:0, destino:1, rota:[(0, 1)], caminho: [0, 1]\n",
      "{(1, 0): [1, 0], (2, 0): [2, 0], (3, 0): [3, 0], (4, 0): [4, 0], (5, 0): [5, 1, 0], (0, 1): [0, 1], (2, 1): [2, 1], (3, 1): [3, 1], (4, 1): [4, 1], (5, 1): [5, 1], (0, 2): [0, 2], (1, 2): [1, 2], (3, 2): [3, 2], (4, 2): [4, 2], (5, 2): [5, 2], (0, 3): [0, 3], (1, 3): [1, 3], (2, 3): [2, 3], (4, 3): [4, 3], (5, 3): [5, 3], (0, 4): [0, 4], (1, 4): [1, 4], (2, 4): [2, 4], (3, 4): [3, 4], (5, 4): [5, 4], (0, 5): [0, 1, 5], (1, 5): [1, 5], (2, 5): [2, 5], (3, 5): [3, 5], (4, 5): [4, 5]}\n",
      "{(1, 0): [1, 0], (2, 0): [2, 0], (3, 0): [3, 0], (4, 0): [4, 0], (5, 0): [5, 1, 0], (0, 1): [0, 1], (2, 1): [2, 1], (3, 1): [3, 1], (4, 1): [4, 1], (5, 1): [5, 1], (0, 2): [0, 2], (1, 2): [1, 2], (3, 2): [3, 2], (4, 2): [4, 2], (5, 2): [5, 2], (0, 3): [0, 3], (1, 3): [1, 3], (2, 3): [2, 3], (4, 3): [4, 3], (5, 3): [5, 3], (0, 4): [0, 4], (1, 4): [1, 4], (2, 4): [2, 4], (3, 4): [3, 4], (5, 4): [5, 4], (0, 5): [0, 1, 5], (1, 5): [1, 5], (2, 5): [2, 5], (3, 5): [3, 5], (4, 5): [4, 5]}\n",
      "canais:2, origem:0, destino:1, rota:[(0, 1)], caminho: [0, 1]\n",
      "canais:2, origem:0, destino:2, rota:[(0, 2)], caminho: [0, 2]\n",
      "{(1, 0): [1, 0], (2, 0): [2, 0], (3, 0): [3, 0], (4, 0): [4, 0], (5, 0): [5, 1, 0], (0, 1): [0, 1], (2, 1): [2, 1], (3, 1): [3, 1], (4, 1): [4, 1], (5, 1): [5, 1], (0, 2): [0, 2], (1, 2): [1, 2], (3, 2): [3, 2], (4, 2): [4, 2], (5, 2): [5, 2], (0, 3): [0, 3], (1, 3): [1, 3], (2, 3): [2, 3], (4, 3): [4, 3], (5, 3): [5, 3], (0, 4): [0, 4], (1, 4): [1, 4], (2, 4): [2, 4], (3, 4): [3, 4], (5, 4): [5, 4], (0, 5): [0, 1, 5], (1, 5): [1, 5], (2, 5): [2, 5], (3, 5): [3, 5], (4, 5): [4, 5]}\n",
      "{(1, 0): [1, 0], (2, 0): [2, 0], (3, 0): [3, 0], (4, 0): [4, 0], (5, 0): [5, 1, 0], (0, 1): [0, 1], (2, 1): [2, 1], (3, 1): [3, 1], (4, 1): [4, 1], (5, 1): [5, 1], (0, 2): [0, 2], (1, 2): [1, 2], (3, 2): [3, 2], (4, 2): [4, 2], (5, 2): [5, 2], (0, 3): [0, 3], (1, 3): [1, 3], (2, 3): [2, 3], (4, 3): [4, 3], (5, 3): [5, 3], (0, 4): [0, 4], (1, 4): [1, 4], (2, 4): [2, 4], (3, 4): [3, 4], (5, 4): [5, 4], (0, 5): [0, 1, 5], (1, 5): [1, 5], (2, 5): [2, 5], (3, 5): [3, 5], (4, 5): [4, 5]}\n",
      "canais:2, origem:0, destino:2, rota:[(0, 2)], caminho: [0, 2]\n",
      "canais:2, origem:0, destino:3, rota:[(0, 3)], caminho: [0, 3]\n",
      "{(1, 0): [1, 0], (2, 0): [2, 0], (3, 0): [3, 0], (4, 0): [4, 0], (5, 0): [5, 1, 0], (0, 1): [0, 1], (2, 1): [2, 1], (3, 1): [3, 1], (4, 1): [4, 1], (5, 1): [5, 1], (0, 2): [0, 2], (1, 2): [1, 2], (3, 2): [3, 2], (4, 2): [4, 2], (5, 2): [5, 2], (0, 3): [0, 3], (1, 3): [1, 3], (2, 3): [2, 3], (4, 3): [4, 3], (5, 3): [5, 3], (0, 4): [0, 4], (1, 4): [1, 4], (2, 4): [2, 4], (3, 4): [3, 4], (5, 4): [5, 4], (0, 5): [0, 1, 5], (1, 5): [1, 5], (2, 5): [2, 5], (3, 5): [3, 5], (4, 5): [4, 5]}\n",
      "{(1, 0): [1, 0], (2, 0): [2, 0], (3, 0): [3, 0], (4, 0): [4, 0], (5, 0): [5, 1, 0], (0, 1): [0, 1], (2, 1): [2, 1], (3, 1): [3, 1], (4, 1): [4, 1], (5, 1): [5, 1], (0, 2): [0, 2], (1, 2): [1, 2], (3, 2): [3, 2], (4, 2): [4, 2], (5, 2): [5, 2], (0, 3): [0, 3], (1, 3): [1, 3], (2, 3): [2, 3], (4, 3): [4, 3], (5, 3): [5, 3], (0, 4): [0, 4], (1, 4): [1, 4], (2, 4): [2, 4], (3, 4): [3, 4], (5, 4): [5, 4], (0, 5): [0, 1, 5], (1, 5): [1, 5], (2, 5): [2, 5], (3, 5): [3, 5], (4, 5): [4, 5]}\n",
      "canais:2, origem:0, destino:3, rota:[(0, 3)], caminho: [0, 3]\n",
      "canais:2, origem:0, destino:4, rota:[(0, 4)], caminho: [0, 4]\n",
      "{(1, 0): [1, 0], (2, 0): [2, 0], (3, 0): [3, 0], (4, 0): [4, 0], (5, 0): [5, 1, 0], (0, 1): [0, 1], (2, 1): [2, 1], (3, 1): [3, 1], (4, 1): [4, 1], (5, 1): [5, 1], (0, 2): [0, 2], (1, 2): [1, 2], (3, 2): [3, 2], (4, 2): [4, 2], (5, 2): [5, 2], (0, 3): [0, 3], (1, 3): [1, 3], (2, 3): [2, 3], (4, 3): [4, 3], (5, 3): [5, 3], (0, 4): [0, 4], (1, 4): [1, 4], (2, 4): [2, 4], (3, 4): [3, 4], (5, 4): [5, 4], (0, 5): [0, 1, 5], (1, 5): [1, 5], (2, 5): [2, 5], (3, 5): [3, 5], (4, 5): [4, 5]}\n",
      "{(1, 0): [1, 0], (2, 0): [2, 0], (3, 0): [3, 0], (4, 0): [4, 0], (5, 0): [5, 1, 0], (0, 1): [0, 1], (2, 1): [2, 1], (3, 1): [3, 1], (4, 1): [4, 1], (5, 1): [5, 1], (0, 2): [0, 2], (1, 2): [1, 2], (3, 2): [3, 2], (4, 2): [4, 2], (5, 2): [5, 2], (0, 3): [0, 3], (1, 3): [1, 3], (2, 3): [2, 3], (4, 3): [4, 3], (5, 3): [5, 3], (0, 4): [0, 4], (1, 4): [1, 4], (2, 4): [2, 4], (3, 4): [3, 4], (5, 4): [5, 4], (0, 5): [0, 1, 5], (1, 5): [1, 5], (2, 5): [2, 5], (3, 5): [3, 5], (4, 5): [4, 5]}\n",
      "canais:2, origem:0, destino:4, rota:[(0, 4)], caminho: [0, 4]\n",
      "canais:2, origem:0, destino:5, rota:[(0, 1), (1, 5)], caminho: [0, 1, 5]\n",
      "{(1, 0): [1, 0], (2, 0): [2, 0], (3, 0): [3, 0], (4, 0): [4, 0], (5, 0): [5, 1, 0], (0, 1): [0, 1], (2, 1): [2, 1], (3, 1): [3, 1], (4, 1): [4, 1], (5, 1): [5, 1], (0, 2): [0, 2], (1, 2): [1, 2], (3, 2): [3, 2], (4, 2): [4, 2], (5, 2): [5, 2], (0, 3): [0, 3], (1, 3): [1, 3], (2, 3): [2, 3], (4, 3): [4, 3], (5, 3): [5, 3], (0, 4): [0, 4], (1, 4): [1, 4], (2, 4): [2, 4], (3, 4): [3, 4], (5, 4): [5, 4], (0, 5): [0, 1, 5], (1, 5): [1, 5], (2, 5): [2, 5], (3, 5): [3, 5], (4, 5): [4, 5]}\n",
      "{(1, 0): [1, 0], (2, 0): [2, 0], (3, 0): [3, 0], (4, 0): [4, 0], (5, 0): [5, 1, 0], (0, 1): [0, 1], (2, 1): [2, 1], (3, 1): [3, 1], (4, 1): [4, 1], (5, 1): [5, 1], (0, 2): [0, 2], (1, 2): [1, 2], (3, 2): [3, 2], (4, 2): [4, 2], (5, 2): [5, 2], (0, 3): [0, 3], (1, 3): [1, 3], (2, 3): [2, 3], (4, 3): [4, 3], (5, 3): [5, 3], (0, 4): [0, 4], (1, 4): [1, 4], (2, 4): [2, 4], (3, 4): [3, 4], (5, 4): [5, 4], (0, 5): [0, 1, 5], (1, 5): [1, 5], (2, 5): [2, 5], (3, 5): [3, 5], (4, 5): [4, 5]}\n",
      "canais:2, origem:0, destino:5, rota:[(0, 1), (1, 5)], caminho: [0, 1, 5]\n",
      "canais:2, origem:1, destino:2, rota:[(1, 2)], caminho: [1, 2]\n",
      "{(1, 0): [1, 0], (2, 0): [2, 0], (3, 0): [3, 0], (4, 0): [4, 0], (5, 0): [5, 1, 0], (0, 1): [0, 1], (2, 1): [2, 1], (3, 1): [3, 1], (4, 1): [4, 1], (5, 1): [5, 1], (0, 2): [0, 2], (1, 2): [1, 2], (3, 2): [3, 2], (4, 2): [4, 2], (5, 2): [5, 2], (0, 3): [0, 3], (1, 3): [1, 3], (2, 3): [2, 3], (4, 3): [4, 3], (5, 3): [5, 3], (0, 4): [0, 4], (1, 4): [1, 4], (2, 4): [2, 4], (3, 4): [3, 4], (5, 4): [5, 4], (0, 5): [0, 1, 5], (1, 5): [1, 5], (2, 5): [2, 5], (3, 5): [3, 5], (4, 5): [4, 5]}\n",
      "{(1, 0): [1, 0], (2, 0): [2, 0], (3, 0): [3, 0], (4, 0): [4, 0], (5, 0): [5, 1, 0], (0, 1): [0, 1], (2, 1): [2, 1], (3, 1): [3, 1], (4, 1): [4, 1], (5, 1): [5, 1], (0, 2): [0, 2], (1, 2): [1, 2], (3, 2): [3, 2], (4, 2): [4, 2], (5, 2): [5, 2], (0, 3): [0, 3], (1, 3): [1, 3], (2, 3): [2, 3], (4, 3): [4, 3], (5, 3): [5, 3], (0, 4): [0, 4], (1, 4): [1, 4], (2, 4): [2, 4], (3, 4): [3, 4], (5, 4): [5, 4], (0, 5): [0, 1, 5], (1, 5): [1, 5], (2, 5): [2, 5], (3, 5): [3, 5], (4, 5): [4, 5]}\n",
      "canais:2, origem:1, destino:2, rota:[(1, 2)], caminho: [1, 2]\n",
      "canais:2, origem:1, destino:3, rota:[(1, 3)], caminho: [1, 3]\n",
      "{(1, 0): [1, 0], (2, 0): [2, 0], (3, 0): [3, 0], (4, 0): [4, 0], (5, 0): [5, 1, 0], (0, 1): [0, 1], (2, 1): [2, 1], (3, 1): [3, 1], (4, 1): [4, 1], (5, 1): [5, 1], (0, 2): [0, 2], (1, 2): [1, 2], (3, 2): [3, 2], (4, 2): [4, 2], (5, 2): [5, 2], (0, 3): [0, 3], (1, 3): [1, 3], (2, 3): [2, 3], (4, 3): [4, 3], (5, 3): [5, 3], (0, 4): [0, 4], (1, 4): [1, 4], (2, 4): [2, 4], (3, 4): [3, 4], (5, 4): [5, 4], (0, 5): [0, 1, 5], (1, 5): [1, 5], (2, 5): [2, 5], (3, 5): [3, 5], (4, 5): [4, 5]}\n",
      "{(1, 0): [1, 0], (2, 0): [2, 0], (3, 0): [3, 0], (4, 0): [4, 0], (5, 0): [5, 1, 0], (0, 1): [0, 1], (2, 1): [2, 1], (3, 1): [3, 1], (4, 1): [4, 1], (5, 1): [5, 1], (0, 2): [0, 2], (1, 2): [1, 2], (3, 2): [3, 2], (4, 2): [4, 2], (5, 2): [5, 2], (0, 3): [0, 3], (1, 3): [1, 3], (2, 3): [2, 3], (4, 3): [4, 3], (5, 3): [5, 3], (0, 4): [0, 4], (1, 4): [1, 4], (2, 4): [2, 4], (3, 4): [3, 4], (5, 4): [5, 4], (0, 5): [0, 1, 5], (1, 5): [1, 5], (2, 5): [2, 5], (3, 5): [3, 5], (4, 5): [4, 5]}\n",
      "canais:2, origem:1, destino:3, rota:[(1, 3)], caminho: [1, 3]\n",
      "canais:2, origem:1, destino:4, rota:[(1, 4)], caminho: [1, 4]\n",
      "{(1, 0): [1, 0], (2, 0): [2, 0], (3, 0): [3, 0], (4, 0): [4, 0], (5, 0): [5, 1, 0], (0, 1): [0, 1], (2, 1): [2, 1], (3, 1): [3, 1], (4, 1): [4, 1], (5, 1): [5, 1], (0, 2): [0, 2], (1, 2): [1, 2], (3, 2): [3, 2], (4, 2): [4, 2], (5, 2): [5, 2], (0, 3): [0, 3], (1, 3): [1, 3], (2, 3): [2, 3], (4, 3): [4, 3], (5, 3): [5, 3], (0, 4): [0, 4], (1, 4): [1, 4], (2, 4): [2, 4], (3, 4): [3, 4], (5, 4): [5, 4], (0, 5): [0, 1, 5], (1, 5): [1, 5], (2, 5): [2, 5], (3, 5): [3, 5], (4, 5): [4, 5]}\n",
      "{(1, 0): [1, 0], (2, 0): [2, 0], (3, 0): [3, 0], (4, 0): [4, 0], (5, 0): [5, 1, 0], (0, 1): [0, 1], (2, 1): [2, 1], (3, 1): [3, 1], (4, 1): [4, 1], (5, 1): [5, 1], (0, 2): [0, 2], (1, 2): [1, 2], (3, 2): [3, 2], (4, 2): [4, 2], (5, 2): [5, 2], (0, 3): [0, 3], (1, 3): [1, 3], (2, 3): [2, 3], (4, 3): [4, 3], (5, 3): [5, 3], (0, 4): [0, 4], (1, 4): [1, 4], (2, 4): [2, 4], (3, 4): [3, 4], (5, 4): [5, 4], (0, 5): [0, 1, 5], (1, 5): [1, 5], (2, 5): [2, 5], (3, 5): [3, 5], (4, 5): [4, 5]}\n",
      "canais:2, origem:1, destino:4, rota:[(1, 4)], caminho: [1, 4]\n",
      "canais:2, origem:1, destino:5, rota:[(1, 5)], caminho: [1, 5]\n",
      "{(1, 0): [1, 0], (2, 0): [2, 0], (3, 0): [3, 0], (4, 0): [4, 0], (5, 0): [5, 1, 0], (0, 1): [0, 1], (2, 1): [2, 1], (3, 1): [3, 1], (4, 1): [4, 1], (5, 1): [5, 1], (0, 2): [0, 2], (1, 2): [1, 2], (3, 2): [3, 2], (4, 2): [4, 2], (5, 2): [5, 2], (0, 3): [0, 3], (1, 3): [1, 3], (2, 3): [2, 3], (4, 3): [4, 3], (5, 3): [5, 3], (0, 4): [0, 4], (1, 4): [1, 4], (2, 4): [2, 4], (3, 4): [3, 4], (5, 4): [5, 4], (0, 5): [0, 1, 5], (1, 5): [1, 5], (2, 5): [2, 5], (3, 5): [3, 5], (4, 5): [4, 5]}\n",
      "{(1, 0): [1, 0], (2, 0): [2, 0], (3, 0): [3, 0], (4, 0): [4, 0], (5, 0): [5, 1, 0], (0, 1): [0, 1], (2, 1): [2, 1], (3, 1): [3, 1], (4, 1): [4, 1], (5, 1): [5, 1], (0, 2): [0, 2], (1, 2): [1, 2], (3, 2): [3, 2], (4, 2): [4, 2], (5, 2): [5, 2], (0, 3): [0, 3], (1, 3): [1, 3], (2, 3): [2, 3], (4, 3): [4, 3], (5, 3): [5, 3], (0, 4): [0, 4], (1, 4): [1, 4], (2, 4): [2, 4], (3, 4): [3, 4], (5, 4): [5, 4], (0, 5): [0, 1, 5], (1, 5): [1, 5], (2, 5): [2, 5], (3, 5): [3, 5], (4, 5): [4, 5]}\n",
      "canais:2, origem:1, destino:5, rota:[(1, 5)], caminho: [1, 5]\n",
      "canais:2, origem:2, destino:3, rota:[(2, 3)], caminho: [2, 3]\n",
      "{(1, 0): [1, 0], (2, 0): [2, 0], (3, 0): [3, 0], (4, 0): [4, 0], (5, 0): [5, 1, 0], (0, 1): [0, 1], (2, 1): [2, 1], (3, 1): [3, 1], (4, 1): [4, 1], (5, 1): [5, 1], (0, 2): [0, 2], (1, 2): [1, 2], (3, 2): [3, 2], (4, 2): [4, 2], (5, 2): [5, 2], (0, 3): [0, 3], (1, 3): [1, 3], (2, 3): [2, 3], (4, 3): [4, 3], (5, 3): [5, 3], (0, 4): [0, 4], (1, 4): [1, 4], (2, 4): [2, 4], (3, 4): [3, 4], (5, 4): [5, 4], (0, 5): [0, 1, 5], (1, 5): [1, 5], (2, 5): [2, 5], (3, 5): [3, 5], (4, 5): [4, 5]}\n",
      "{(1, 0): [1, 0], (2, 0): [2, 0], (3, 0): [3, 0], (4, 0): [4, 0], (5, 0): [5, 1, 0], (0, 1): [0, 1], (2, 1): [2, 1], (3, 1): [3, 1], (4, 1): [4, 1], (5, 1): [5, 1], (0, 2): [0, 2], (1, 2): [1, 2], (3, 2): [3, 2], (4, 2): [4, 2], (5, 2): [5, 2], (0, 3): [0, 3], (1, 3): [1, 3], (2, 3): [2, 3], (4, 3): [4, 3], (5, 3): [5, 3], (0, 4): [0, 4], (1, 4): [1, 4], (2, 4): [2, 4], (3, 4): [3, 4], (5, 4): [5, 4], (0, 5): [0, 1, 5], (1, 5): [1, 5], (2, 5): [2, 5], (3, 5): [3, 5], (4, 5): [4, 5]}\n",
      "canais:2, origem:2, destino:3, rota:[(2, 3)], caminho: [2, 3]\n",
      "canais:2, origem:2, destino:4, rota:[(2, 4)], caminho: [2, 4]\n",
      "{(1, 0): [1, 0], (2, 0): [2, 0], (3, 0): [3, 0], (4, 0): [4, 0], (5, 0): [5, 1, 0], (0, 1): [0, 1], (2, 1): [2, 1], (3, 1): [3, 1], (4, 1): [4, 1], (5, 1): [5, 1], (0, 2): [0, 2], (1, 2): [1, 2], (3, 2): [3, 2], (4, 2): [4, 2], (5, 2): [5, 2], (0, 3): [0, 3], (1, 3): [1, 3], (2, 3): [2, 3], (4, 3): [4, 3], (5, 3): [5, 3], (0, 4): [0, 4], (1, 4): [1, 4], (2, 4): [2, 4], (3, 4): [3, 4], (5, 4): [5, 4], (0, 5): [0, 1, 5], (1, 5): [1, 5], (2, 5): [2, 5], (3, 5): [3, 5], (4, 5): [4, 5]}\n",
      "{(1, 0): [1, 0], (2, 0): [2, 0], (3, 0): [3, 0], (4, 0): [4, 0], (5, 0): [5, 1, 0], (0, 1): [0, 1], (2, 1): [2, 1], (3, 1): [3, 1], (4, 1): [4, 1], (5, 1): [5, 1], (0, 2): [0, 2], (1, 2): [1, 2], (3, 2): [3, 2], (4, 2): [4, 2], (5, 2): [5, 2], (0, 3): [0, 3], (1, 3): [1, 3], (2, 3): [2, 3], (4, 3): [4, 3], (5, 3): [5, 3], (0, 4): [0, 4], (1, 4): [1, 4], (2, 4): [2, 4], (3, 4): [3, 4], (5, 4): [5, 4], (0, 5): [0, 1, 5], (1, 5): [1, 5], (2, 5): [2, 5], (3, 5): [3, 5], (4, 5): [4, 5]}\n",
      "canais:2, origem:2, destino:4, rota:[(2, 4)], caminho: [2, 4]\n",
      "canais:2, origem:2, destino:5, rota:[(2, 5)], caminho: [2, 5]\n",
      "{(1, 0): [1, 0], (2, 0): [2, 0], (3, 0): [3, 0], (4, 0): [4, 0], (5, 0): [5, 1, 0], (0, 1): [0, 1], (2, 1): [2, 1], (3, 1): [3, 1], (4, 1): [4, 1], (5, 1): [5, 1], (0, 2): [0, 2], (1, 2): [1, 2], (3, 2): [3, 2], (4, 2): [4, 2], (5, 2): [5, 2], (0, 3): [0, 3], (1, 3): [1, 3], (2, 3): [2, 3], (4, 3): [4, 3], (5, 3): [5, 3], (0, 4): [0, 4], (1, 4): [1, 4], (2, 4): [2, 4], (3, 4): [3, 4], (5, 4): [5, 4], (0, 5): [0, 1, 5], (1, 5): [1, 5], (2, 5): [2, 5], (3, 5): [3, 5], (4, 5): [4, 5]}\n",
      "{(1, 0): [1, 0], (2, 0): [2, 0], (3, 0): [3, 0], (4, 0): [4, 0], (5, 0): [5, 1, 0], (0, 1): [0, 1], (2, 1): [2, 1], (3, 1): [3, 1], (4, 1): [4, 1], (5, 1): [5, 1], (0, 2): [0, 2], (1, 2): [1, 2], (3, 2): [3, 2], (4, 2): [4, 2], (5, 2): [5, 2], (0, 3): [0, 3], (1, 3): [1, 3], (2, 3): [2, 3], (4, 3): [4, 3], (5, 3): [5, 3], (0, 4): [0, 4], (1, 4): [1, 4], (2, 4): [2, 4], (3, 4): [3, 4], (5, 4): [5, 4], (0, 5): [0, 1, 5], (1, 5): [1, 5], (2, 5): [2, 5], (3, 5): [3, 5], (4, 5): [4, 5]}\n",
      "canais:2, origem:2, destino:5, rota:[(2, 5)], caminho: [2, 5]\n",
      "canais:2, origem:3, destino:4, rota:[(3, 4)], caminho: [3, 4]\n",
      "{(1, 0): [1, 0], (2, 0): [2, 0], (3, 0): [3, 0], (4, 0): [4, 0], (5, 0): [5, 1, 0], (0, 1): [0, 1], (2, 1): [2, 1], (3, 1): [3, 1], (4, 1): [4, 1], (5, 1): [5, 1], (0, 2): [0, 2], (1, 2): [1, 2], (3, 2): [3, 2], (4, 2): [4, 2], (5, 2): [5, 2], (0, 3): [0, 3], (1, 3): [1, 3], (2, 3): [2, 3], (4, 3): [4, 3], (5, 3): [5, 3], (0, 4): [0, 4], (1, 4): [1, 4], (2, 4): [2, 4], (3, 4): [3, 4], (5, 4): [5, 4], (0, 5): [0, 1, 5], (1, 5): [1, 5], (2, 5): [2, 5], (3, 5): [3, 5], (4, 5): [4, 5]}\n",
      "{(1, 0): [1, 0], (2, 0): [2, 0], (3, 0): [3, 0], (4, 0): [4, 0], (5, 0): [5, 1, 0], (0, 1): [0, 1], (2, 1): [2, 1], (3, 1): [3, 1], (4, 1): [4, 1], (5, 1): [5, 1], (0, 2): [0, 2], (1, 2): [1, 2], (3, 2): [3, 2], (4, 2): [4, 2], (5, 2): [5, 2], (0, 3): [0, 3], (1, 3): [1, 3], (2, 3): [2, 3], (4, 3): [4, 3], (5, 3): [5, 3], (0, 4): [0, 4], (1, 4): [1, 4], (2, 4): [2, 4], (3, 4): [3, 4], (5, 4): [5, 4], (0, 5): [0, 1, 5], (1, 5): [1, 5], (2, 5): [2, 5], (3, 5): [3, 5], (4, 5): [4, 5]}\n",
      "canais:2, origem:3, destino:4, rota:[(3, 4)], caminho: [3, 4]\n",
      "canais:2, origem:3, destino:5, rota:[(3, 5)], caminho: [3, 5]\n",
      "{(1, 0): [1, 0], (2, 0): [2, 0], (3, 0): [3, 0], (4, 0): [4, 0], (5, 0): [5, 1, 0], (0, 1): [0, 1], (2, 1): [2, 1], (3, 1): [3, 1], (4, 1): [4, 1], (5, 1): [5, 1], (0, 2): [0, 2], (1, 2): [1, 2], (3, 2): [3, 2], (4, 2): [4, 2], (5, 2): [5, 2], (0, 3): [0, 3], (1, 3): [1, 3], (2, 3): [2, 3], (4, 3): [4, 3], (5, 3): [5, 3], (0, 4): [0, 4], (1, 4): [1, 4], (2, 4): [2, 4], (3, 4): [3, 4], (5, 4): [5, 4], (0, 5): [0, 1, 5], (1, 5): [1, 5], (2, 5): [2, 5], (3, 5): [3, 5], (4, 5): [4, 5]}\n",
      "{(1, 0): [1, 0], (2, 0): [2, 0], (3, 0): [3, 0], (4, 0): [4, 0], (5, 0): [5, 1, 0], (0, 1): [0, 1], (2, 1): [2, 1], (3, 1): [3, 1], (4, 1): [4, 1], (5, 1): [5, 1], (0, 2): [0, 2], (1, 2): [1, 2], (3, 2): [3, 2], (4, 2): [4, 2], (5, 2): [5, 2], (0, 3): [0, 3], (1, 3): [1, 3], (2, 3): [2, 3], (4, 3): [4, 3], (5, 3): [5, 3], (0, 4): [0, 4], (1, 4): [1, 4], (2, 4): [2, 4], (3, 4): [3, 4], (5, 4): [5, 4], (0, 5): [0, 1, 5], (1, 5): [1, 5], (2, 5): [2, 5], (3, 5): [3, 5], (4, 5): [4, 5]}\n",
      "canais:2, origem:3, destino:5, rota:[(3, 5)], caminho: [3, 5]\n",
      "canais:2, origem:4, destino:5, rota:[(4, 5)], caminho: [4, 5]\n",
      "{(1, 0): [1, 0], (2, 0): [2, 0], (3, 0): [3, 0], (4, 0): [4, 0], (5, 0): [5, 1, 0], (0, 1): [0, 1], (2, 1): [2, 1], (3, 1): [3, 1], (4, 1): [4, 1], (5, 1): [5, 1], (0, 2): [0, 2], (1, 2): [1, 2], (3, 2): [3, 2], (4, 2): [4, 2], (5, 2): [5, 2], (0, 3): [0, 3], (1, 3): [1, 3], (2, 3): [2, 3], (4, 3): [4, 3], (5, 3): [5, 3], (0, 4): [0, 4], (1, 4): [1, 4], (2, 4): [2, 4], (3, 4): [3, 4], (5, 4): [5, 4], (0, 5): [0, 1, 5], (1, 5): [1, 5], (2, 5): [2, 5], (3, 5): [3, 5], (4, 5): [4, 5]}\n",
      "{(1, 0): [1, 0], (2, 0): [2, 0], (3, 0): [3, 0], (4, 0): [4, 0], (5, 0): [5, 1, 0], (0, 1): [0, 1], (2, 1): [2, 1], (3, 1): [3, 1], (4, 1): [4, 1], (5, 1): [5, 1], (0, 2): [0, 2], (1, 2): [1, 2], (3, 2): [3, 2], (4, 2): [4, 2], (5, 2): [5, 2], (0, 3): [0, 3], (1, 3): [1, 3], (2, 3): [2, 3], (4, 3): [4, 3], (5, 3): [5, 3], (0, 4): [0, 4], (1, 4): [1, 4], (2, 4): [2, 4], (3, 4): [3, 4], (5, 4): [5, 4], (0, 5): [0, 1, 5], (1, 5): [1, 5], (2, 5): [2, 5], (3, 5): [3, 5], (4, 5): [4, 5]}\n",
      "canais:2, origem:4, destino:5, rota:[(4, 5)], caminho: [4, 5]\n",
      "demandas:31, rede:scteste, bloqueios:0, wiener: 16\n",
      "matriz:\n",
      "[[0 1 1 1 1 1]\n",
      " [1 0 1 1 1 1]\n",
      " [1 1 0 1 1 1]\n",
      " [1 1 1 0 1 1]\n",
      " [1 1 1 1 0 1]\n",
      " [1 1 1 1 1 0]]\n"
     ]
    }
   ],
   "source": [
    "n='scteste'\n",
    "matrix = np.matrix(matrizes.get(n)) #cópia instanciada\n",
    "for i in range(3):\n",
    "    print(\"\\n===========iteracao ({})============\\n\".format(i))\n",
    "    rede = sim_rede(n,matrix)\n",
    "    print(\"wiener antes: {}\".format(rede.wiener()))\n",
    "    for i in range(len(matrix)):\n",
    "        for j in range(len(matrix)):\n",
    "            if(i<j):\n",
    "    #             print(rede.caminhos[i,j])\n",
    "                rede.conectar(i,j)\n",
    "    aumentar_grau(matrix,1)\n",
    "    print(\"demandas:{}, rede:{}, bloqueios:{}, wiener: {}\".format(rede.sum_demandas,n,rede.bloqueios,rede.wiener()))\n",
    "#     print(\"demandas(total={}):\\n{}\".format(rede.sum_demandas,rede.demandas))\n",
    "    print(\"matriz:\\n{}\".format(matrix))"
   ]
  },
  {
   "cell_type": "markdown",
   "metadata": {},
   "source": [
    "<h1>Simulação e cálculo de correlação</h1>\n"
   ]
  },
  {
   "cell_type": "markdown",
   "metadata": {},
   "source": [
    "<p>Por fim simula-se o uso da rede:</p>"
   ]
  },
  {
   "cell_type": "code",
   "execution_count": 127,
   "metadata": {},
   "outputs": [],
   "source": [
    "ind_wiener = dict()\n",
    "bloqs = dict()\n",
    "grau = dict()\n",
    "demandas = dict()\n",
    "inc_grau = 1\n",
    "copias = dict()"
   ]
  },
  {
   "cell_type": "code",
   "execution_count": 128,
   "metadata": {},
   "outputs": [
    {
     "name": "stderr",
     "output_type": "stream",
     "text": [
      "Começou rede scteste\n",
      "[[0 1 1 0 0 0]\n",
      " [1 0 0 1 0 0]\n",
      " [1 0 0 1 0 1]\n",
      " [0 1 1 0 1 0]\n",
      " [0 0 0 1 0 1]\n",
      " [0 0 1 0 1 0]]\n",
      "[[0 1 1 0 1 0]\n",
      " [1 0 0 1 0 1]\n",
      " [1 0 0 1 1 1]\n",
      " [0 1 1 0 1 0]\n",
      " [1 0 1 1 0 1]\n",
      " [0 1 1 0 1 0]]\n",
      "[[0 1 1 1 1 0]\n",
      " [1 0 1 1 1 1]\n",
      " [1 1 0 1 1 1]\n",
      " [1 1 1 0 1 1]\n",
      " [1 1 1 1 0 1]\n",
      " [0 1 1 1 1 0]]\n",
      "[[0 1 1 1 1 1]\n",
      " [1 0 1 1 1 1]\n",
      " [1 1 0 1 1 1]\n",
      " [1 1 1 0 1 1]\n",
      " [1 1 1 1 0 1]\n",
      " [1 1 1 1 1 0]]\n",
      "rede scteste pronta\n"
     ]
    }
   ],
   "source": [
    "%%capture --no-stderr\n",
    "teste = 'scteste'\n",
    "n = teste\n",
    "ind_wiener.update({n:[]})\n",
    "bloqs.update({n:[]})\n",
    "grau.update({n:[]})\n",
    "copias.update({n:np.matrix(matrizes.get(n))}) #copias das matrizes originais\n",
    "demandas.update({n:[]})\n",
    "\n",
    "\n",
    "simulacao (teste)"
   ]
  },
  {
   "cell_type": "code",
   "execution_count": 129,
   "metadata": {},
   "outputs": [
    {
     "name": "stdout",
     "output_type": "stream",
     "text": [
      "25\t78\t1265\t2.3333333333333335\n",
      "20\t82\t1262\t3.3333333333333335\n",
      "16\t96\t1253\t4.666666666666667\n",
      "15\t100\t1251\t5.0\n",
      "\n",
      "correlação de TX de bloqueio([0.0616600790513834, 0.06497622820919176, 0.07661612130885874, 0.07993605115907274])/wiener([25, 20, 16, 15])\n",
      "Taxa de correlação entre [x] e [y] é:\n",
      "-0.11465586604537403\n",
      "-------------------- =  -0.9503825020385751\n",
      "0.12064181084924927\n"
     ]
    },
    {
     "data": {
      "text/plain": [
       "-0.9503825020385751"
      ]
     },
     "execution_count": 129,
     "metadata": {},
     "output_type": "execute_result"
    }
   ],
   "source": [
    "tb = []\n",
    "for a,b,c,d in zip(ind_wiener[teste],demandas[teste],bloqs[teste],grau[teste]):\n",
    "    print (\"{}\t{}\t{}\t{}\".format(a,b,c,d))\n",
    "    tb.append(b/c)\n",
    "print(f\"\\ncorrelação de TX de bloqueio({tb})/wiener({ind_wiener[teste]})\")\n",
    "corr(tb,ind_wiener[n],True)"
   ]
  },
  {
   "cell_type": "code",
   "execution_count": 125,
   "metadata": {},
   "outputs": [],
   "source": [
    "mutex2 = Lock()\n",
    "\n",
    "def simulacao (n):\n",
    "    it=0\n",
    "    g=0\n",
    "#    for it in range(iteracoes):\n",
    "    print(f\"Começou rede {n}\",file=sys.stderr)\n",
    "    while g < 5:\n",
    "        g = calc_grau(copias[n])\n",
    "        rede = sim_rede(n,copias[n])\n",
    "        print(matrizes.get(n))\n",
    "#         print(f'iteração: {it}',file=sys.stderr)\n",
    "        ind_wiener[n] += [rede.wiener()]\n",
    "        for l in range(len(matrix)**4):\n",
    "            j = randint(0,len(matrix)-1)\n",
    "            i = randint(0,len(matrix)-1)\n",
    "            while j == i: #origem e destino devem ser diferentes\n",
    "                j = randint(0,len(matrix)-1)\n",
    "            rede.conectar(i,j)\n",
    "#         grau[n] += [rede.calcula_grau()] # a rede se modifica conforme os canais dos enlaces são ocupados\n",
    "        print(copias[n],file=sys.stderr)\n",
    "        grau[n] += [calc_grau(copias[n])]\n",
    "        bloqs[n] += [rede.bloqueios]\n",
    "        demandas[n] += [rede.sum_demandas]\n",
    "        print(\"rede:{}, grau:{}, bloqueios:{}, wiener: {}\".format(n,grau[n],rede.bloqueios,ind_wiener[n][it]))\n",
    "        if calc_grau(copias[n]) == (len(copias[n])-1): #grau máximo para\n",
    "            break\n",
    "        aumentar_grau(copias[n],inc_grau)\n",
    "        it += 1\n",
    "        \n",
    "    mutex2.acquire()\n",
    "    try: #evitar prints bagunçados\n",
    "        print(f\"rede {n} pronta\",file=sys.stderr)   \n",
    "    finally:\n",
    "        mutex2.release()"
   ]
  },
  {
   "cell_type": "code",
   "execution_count": 130,
   "metadata": {},
   "outputs": [
    {
     "name": "stderr",
     "output_type": "stream",
     "text": [
      "Começou rede OmnicomEurope\n",
      "Começou rede arnes\n",
      "Começou rede arpanet\n",
      "Começou rede austriaComeçou rede bren\n",
      "\n",
      "Começou rede canarie\n",
      "Começou rede cesnet\n",
      "Começou rede coxUsaComeçou rede deutschTelecom\n",
      "Começou rede eon\n",
      "\n"
     ]
    },
    {
     "ename": "KeyboardInterrupt",
     "evalue": "",
     "output_type": "error",
     "traceback": [
      "\u001b[0;31m---------------------------------------------------------------------------\u001b[0m",
      "\u001b[0;31mKeyboardInterrupt\u001b[0m                         Traceback (most recent call last)",
      "\u001b[0;32m<ipython-input-130-56e307648850>\u001b[0m in \u001b[0;36m<module>\u001b[0;34m\u001b[0m\n\u001b[1;32m     13\u001b[0m \u001b[0;32mwith\u001b[0m \u001b[0mconcurrent\u001b[0m\u001b[0;34m.\u001b[0m\u001b[0mfutures\u001b[0m\u001b[0;34m.\u001b[0m\u001b[0mThreadPoolExecutor\u001b[0m\u001b[0;34m(\u001b[0m\u001b[0;34m)\u001b[0m \u001b[0;32mas\u001b[0m \u001b[0mexecutor\u001b[0m\u001b[0;34m:\u001b[0m\u001b[0;34m\u001b[0m\u001b[0;34m\u001b[0m\u001b[0m\n\u001b[1;32m     14\u001b[0m \u001b[0;31m# #     executor.map(simulacao,names)\u001b[0m\u001b[0;34m\u001b[0m\u001b[0;34m\u001b[0m\u001b[0;34m\u001b[0m\u001b[0m\n\u001b[0;32m---> 15\u001b[0;31m     \u001b[0mexecutor\u001b[0m\u001b[0;34m.\u001b[0m\u001b[0mmap\u001b[0m\u001b[0;34m(\u001b[0m\u001b[0msimulacao\u001b[0m\u001b[0;34m,\u001b[0m\u001b[0;34m[\u001b[0m\u001b[0mn\u001b[0m \u001b[0;32mfor\u001b[0m \u001b[0mn\u001b[0m \u001b[0;32min\u001b[0m \u001b[0mnames\u001b[0m \u001b[0;32mif\u001b[0m \u001b[0mn\u001b[0m\u001b[0;34m!=\u001b[0m\u001b[0;34m'usaGde'\u001b[0m\u001b[0;34m]\u001b[0m\u001b[0;34m)\u001b[0m\u001b[0;34m\u001b[0m\u001b[0;34m\u001b[0m\u001b[0m\n\u001b[0m\u001b[1;32m     16\u001b[0m \u001b[0;31m# for n in [n for n in names if n!='usaGde']: #paralelizei internamente cada rede\u001b[0m\u001b[0;34m\u001b[0m\u001b[0;34m\u001b[0m\u001b[0;34m\u001b[0m\u001b[0m\n\u001b[1;32m     17\u001b[0m \u001b[0;31m#     simulacao(n)\u001b[0m\u001b[0;34m\u001b[0m\u001b[0;34m\u001b[0m\u001b[0;34m\u001b[0m\u001b[0m\n",
      "\u001b[0;32m~/local/lib/anaconda/lib/python3.8/concurrent/futures/_base.py\u001b[0m in \u001b[0;36m__exit__\u001b[0;34m(self, exc_type, exc_val, exc_tb)\u001b[0m\n\u001b[1;32m    634\u001b[0m \u001b[0;34m\u001b[0m\u001b[0m\n\u001b[1;32m    635\u001b[0m     \u001b[0;32mdef\u001b[0m \u001b[0m__exit__\u001b[0m\u001b[0;34m(\u001b[0m\u001b[0mself\u001b[0m\u001b[0;34m,\u001b[0m \u001b[0mexc_type\u001b[0m\u001b[0;34m,\u001b[0m \u001b[0mexc_val\u001b[0m\u001b[0;34m,\u001b[0m \u001b[0mexc_tb\u001b[0m\u001b[0;34m)\u001b[0m\u001b[0;34m:\u001b[0m\u001b[0;34m\u001b[0m\u001b[0;34m\u001b[0m\u001b[0m\n\u001b[0;32m--> 636\u001b[0;31m         \u001b[0mself\u001b[0m\u001b[0;34m.\u001b[0m\u001b[0mshutdown\u001b[0m\u001b[0;34m(\u001b[0m\u001b[0mwait\u001b[0m\u001b[0;34m=\u001b[0m\u001b[0;32mTrue\u001b[0m\u001b[0;34m)\u001b[0m\u001b[0;34m\u001b[0m\u001b[0;34m\u001b[0m\u001b[0m\n\u001b[0m\u001b[1;32m    637\u001b[0m         \u001b[0;32mreturn\u001b[0m \u001b[0;32mFalse\u001b[0m\u001b[0;34m\u001b[0m\u001b[0;34m\u001b[0m\u001b[0m\n\u001b[1;32m    638\u001b[0m \u001b[0;34m\u001b[0m\u001b[0m\n",
      "\u001b[0;32m~/local/lib/anaconda/lib/python3.8/concurrent/futures/thread.py\u001b[0m in \u001b[0;36mshutdown\u001b[0;34m(self, wait)\u001b[0m\n\u001b[1;32m    234\u001b[0m         \u001b[0;32mif\u001b[0m \u001b[0mwait\u001b[0m\u001b[0;34m:\u001b[0m\u001b[0;34m\u001b[0m\u001b[0;34m\u001b[0m\u001b[0m\n\u001b[1;32m    235\u001b[0m             \u001b[0;32mfor\u001b[0m \u001b[0mt\u001b[0m \u001b[0;32min\u001b[0m \u001b[0mself\u001b[0m\u001b[0;34m.\u001b[0m\u001b[0m_threads\u001b[0m\u001b[0;34m:\u001b[0m\u001b[0;34m\u001b[0m\u001b[0;34m\u001b[0m\u001b[0m\n\u001b[0;32m--> 236\u001b[0;31m                 \u001b[0mt\u001b[0m\u001b[0;34m.\u001b[0m\u001b[0mjoin\u001b[0m\u001b[0;34m(\u001b[0m\u001b[0;34m)\u001b[0m\u001b[0;34m\u001b[0m\u001b[0;34m\u001b[0m\u001b[0m\n\u001b[0m\u001b[1;32m    237\u001b[0m     \u001b[0mshutdown\u001b[0m\u001b[0;34m.\u001b[0m\u001b[0m__doc__\u001b[0m \u001b[0;34m=\u001b[0m \u001b[0m_base\u001b[0m\u001b[0;34m.\u001b[0m\u001b[0mExecutor\u001b[0m\u001b[0;34m.\u001b[0m\u001b[0mshutdown\u001b[0m\u001b[0;34m.\u001b[0m\u001b[0m__doc__\u001b[0m\u001b[0;34m\u001b[0m\u001b[0;34m\u001b[0m\u001b[0m\n",
      "\u001b[0;32m~/local/lib/anaconda/lib/python3.8/threading.py\u001b[0m in \u001b[0;36mjoin\u001b[0;34m(self, timeout)\u001b[0m\n\u001b[1;32m   1009\u001b[0m \u001b[0;34m\u001b[0m\u001b[0m\n\u001b[1;32m   1010\u001b[0m         \u001b[0;32mif\u001b[0m \u001b[0mtimeout\u001b[0m \u001b[0;32mis\u001b[0m \u001b[0;32mNone\u001b[0m\u001b[0;34m:\u001b[0m\u001b[0;34m\u001b[0m\u001b[0;34m\u001b[0m\u001b[0m\n\u001b[0;32m-> 1011\u001b[0;31m             \u001b[0mself\u001b[0m\u001b[0;34m.\u001b[0m\u001b[0m_wait_for_tstate_lock\u001b[0m\u001b[0;34m(\u001b[0m\u001b[0;34m)\u001b[0m\u001b[0;34m\u001b[0m\u001b[0;34m\u001b[0m\u001b[0m\n\u001b[0m\u001b[1;32m   1012\u001b[0m         \u001b[0;32melse\u001b[0m\u001b[0;34m:\u001b[0m\u001b[0;34m\u001b[0m\u001b[0;34m\u001b[0m\u001b[0m\n\u001b[1;32m   1013\u001b[0m             \u001b[0;31m# the behavior of a negative timeout isn't documented, but\u001b[0m\u001b[0;34m\u001b[0m\u001b[0;34m\u001b[0m\u001b[0;34m\u001b[0m\u001b[0m\n",
      "\u001b[0;32m~/local/lib/anaconda/lib/python3.8/threading.py\u001b[0m in \u001b[0;36m_wait_for_tstate_lock\u001b[0;34m(self, block, timeout)\u001b[0m\n\u001b[1;32m   1025\u001b[0m         \u001b[0;32mif\u001b[0m \u001b[0mlock\u001b[0m \u001b[0;32mis\u001b[0m \u001b[0;32mNone\u001b[0m\u001b[0;34m:\u001b[0m  \u001b[0;31m# already determined that the C code is done\u001b[0m\u001b[0;34m\u001b[0m\u001b[0;34m\u001b[0m\u001b[0m\n\u001b[1;32m   1026\u001b[0m             \u001b[0;32massert\u001b[0m \u001b[0mself\u001b[0m\u001b[0;34m.\u001b[0m\u001b[0m_is_stopped\u001b[0m\u001b[0;34m\u001b[0m\u001b[0;34m\u001b[0m\u001b[0m\n\u001b[0;32m-> 1027\u001b[0;31m         \u001b[0;32melif\u001b[0m \u001b[0mlock\u001b[0m\u001b[0;34m.\u001b[0m\u001b[0macquire\u001b[0m\u001b[0;34m(\u001b[0m\u001b[0mblock\u001b[0m\u001b[0;34m,\u001b[0m \u001b[0mtimeout\u001b[0m\u001b[0;34m)\u001b[0m\u001b[0;34m:\u001b[0m\u001b[0;34m\u001b[0m\u001b[0;34m\u001b[0m\u001b[0m\n\u001b[0m\u001b[1;32m   1028\u001b[0m             \u001b[0mlock\u001b[0m\u001b[0;34m.\u001b[0m\u001b[0mrelease\u001b[0m\u001b[0;34m(\u001b[0m\u001b[0;34m)\u001b[0m\u001b[0;34m\u001b[0m\u001b[0;34m\u001b[0m\u001b[0m\n\u001b[1;32m   1029\u001b[0m             \u001b[0mself\u001b[0m\u001b[0;34m.\u001b[0m\u001b[0m_stop\u001b[0m\u001b[0;34m(\u001b[0m\u001b[0;34m)\u001b[0m\u001b[0;34m\u001b[0m\u001b[0;34m\u001b[0m\u001b[0m\n",
      "\u001b[0;31mKeyboardInterrupt\u001b[0m: "
     ]
    },
    {
     "name": "stdout",
     "output_type": "stream",
     "text": [
      "{(1, 0): [1], (2, 0): [2], (3, 0): [3], (4, 0): [4, 13, 7, 3], (5, 0): [5], (6, 0): [6, 4, 0], (7, 0): [7, 3, 1, 0], (8, 0): [8, 3, 1, 0], (9, 0): [9, 7, 3, 1, 0], (10, 0): [10, 6, 4, 0], (11, 0): [11, 6, 4, 0], (12, 0): [12, 4, 0], (13, 0): [13, 4, 0], (14, 0): [14, 13, 4, 0], (15, 0): [15, 7, 3, 1, 0], (16, 0): [16, 12, 4, 0], (17, 0): [17, 9, 7, 3, 1, 0], (18, 0): [18, 13, 4, 0], (0, 1): [0], (2, 1): [2], (3, 1): [3], (4, 1): [4, 13, 7, 3], (5, 1): [5], (6, 1): [6, 4, 0, 1], (7, 1): [7, 3, 1], (8, 1): [8, 3, 1], (9, 1): [9, 7, 3, 1], (10, 1): [10, 7, 3, 1], (11, 1): [11, 6, 4, 0, 1], (12, 1): [12, 4, 0, 1], (13, 1): [13, 4, 0, 1], (14, 1): [14, 10, 7, 3, 1], (15, 1): [15, 7, 3, 1], (16, 1): [16, 12, 4, 0, 1], (17, 1): [17, 9, 7, 3, 1], (18, 1): [18, 13, 4, 0, 1], (0, 2): [0], (1, 2): [1], (3, 2): [3], (4, 2): [4, 13, 7, 3], (5, 2): [5], (6, 2): [6, 4, 2], (7, 2): [7, 3, 2], (8, 2): [8, 3, 2], (9, 2): [9, 7, 3, 2], (10, 2): [10, 6, 4, 2], (11, 2): [11, 6, 4, 2], (12, 2): [12, 4, 2], (13, 2): [13, 4, 2], (14, 2): [14, 13, 4, 2], (15, 2): [15, 7, 3, 2], (16, 2): [16, 12, 4, 2], (17, 2): [17, 9, 7, 3, 2], (18, 2): [18, 13, 4, 2], (0, 3): [0], (1, 3): [1], (2, 3): [2], (4, 3): [4, 13, 7, 3], (5, 3): [5], (6, 3): [6, 4, 3], (7, 3): [7, 3], (8, 3): [8, 3], (9, 3): [9, 7, 3], (10, 3): [10, 7, 3], (11, 3): [11, 6, 4, 3], (12, 3): [12, 4, 3], (13, 3): [13, 4, 3], (14, 3): [14, 10, 7, 3], (15, 3): [15, 7, 3], (16, 3): [16, 12, 4, 3], (17, 3): [17, 9, 7, 3], (18, 3): [18, 13, 4, 3], (0, 4): [0], (1, 4): [1], (2, 4): [2], (3, 4): [3, 7, 13, 4], (5, 4): [5], (6, 4): [6, 4], (7, 4): [7, 3, 4], (9, 4): [9, 7, 3, 4], (10, 4): [10, 6, 4], (11, 4): [11, 6, 4], (12, 4): [12, 4], (13, 4): [13, 4], (14, 4): [14, 13, 4], (15, 4): [15, 7, 3, 4], (16, 4): [16, 12, 4], (17, 4): [17, 9, 7, 3, 4], (18, 4): [18, 13, 4], (0, 5): [0], (8, 4): [8, 3, 4], (2, 5): [2], (3, 5): [3], (4, 5): [4, 13, 7, 3], (6, 5): [6, 5], (7, 5): [7, 3, 5], (8, 5): [8, 5], (9, 5): [9, 7, 3, 5], (10, 5): [10, 6, 5], (11, 5): [11, 6, 5], (12, 5): [12, 4, 5], (13, 5): [13, 4, 5], (15, 5): [15, 7, 3, 5], (16, 5): [16, 11, 6, 5], (17, 5): [17, 9, 7, 3, 5], (18, 5): [18, 13, 4, 5], (0, 6): [0, 4, 6], (1, 6): [1, 0, 4, 6], (2, 6): [2, 4, 6], (3, 6): [3, 4, 6], (4, 6): [4, 6], (5, 6): [5, 6], (1, 5): [1], (8, 6): [8, 5, 6], (9, 6): [9, 7, 10, 6], (10, 6): [10, 6], (11, 6): [11, 6], (12, 6): [12, 4, 6], (13, 6): [13, 6], (14, 6): [14, 10, 6], (15, 6): [15, 7, 10, 6], (16, 6): [16, 11, 6], (17, 6): [17, 9, 7, 10, 6], (14, 5): [14, 10, 6, 5], (0, 7): [0, 1, 3, 7], (1, 7): [1, 3, 7], (2, 7): [2, 3, 7], (3, 7): [3, 7], (4, 7): [4, 3, 7], (5, 7): [5, 3, 7], (6, 7): [6, 10, 7], (8, 7): [8, 7], (9, 7): [9, 7], (10, 7): [10, 7], (11, 7): [11, 6, 10, 7], (12, 7): [12, 4, 3, 7], (13, 7): [13, 7], (14, 7): [14, 10, 7], (15, 7): [15, 7], (16, 7): [16, 13, 7], (17, 7): [17, 9, 7], (18, 7): [18, 13, 7], (0, 8): [0, 1, 3, 8], (1, 8): [1, 3, 8], (18, 6): [18, 13, 6], (2, 8): [2, 3, 8], (3, 8): [3, 8], (4, 8): [4, 3, 8], (5, 8): [5, 8], (7, 6): [7, 10, 6], (6, 8): [6, 5, 8], (7, 8): [7, 8], (9, 8): [9, 7, 8], (10, 8): [10, 8], (11, 8): [11, 6, 5, 8], (12, 8): [12, 4, 3, 8], (13, 8): [13, 7, 8], (14, 8): [14, 10, 8], (15, 8): [15, 7, 8], (16, 8): [16, 13, 7, 8], (17, 8): [17, 9, 7, 8], (18, 8): [18, 13, 7, 8], (0, 9): [0, 1, 3, 7, 9], (1, 9): [1, 3, 7, 9], (2, 9): [2, 3, 7, 9], (3, 9): [3, 7, 9], (4, 9): [4, 3, 7, 9], (5, 9): [5, 3, 7, 9], (6, 9): [6, 10, 7, 9], (7, 9): [7, 9], (8, 9): [8, 7, 9], (10, 9): [10, 7, 9], (11, 9): [11, 6, 10, 7, 9], (12, 9): [12, 4, 3, 7, 9], (13, 9): [13, 7, 9], (14, 9): [14, 15, 9], (15, 9): [15, 9], (16, 9): [16, 13, 7, 9], (17, 9): [17, 9], (18, 9): [18, 13, 7, 9], (0, 10): [0, 4, 6, 10], (1, 10): [1, 3, 7, 10], (2, 10): [2, 3, 7, 10], (3, 10): [3, 7, 10], (4, 10): [4, 6, 10], (5, 10): [5, 6, 10], (6, 10): [6, 10], (7, 10): [7, 10], (8, 10): [8, 10], (9, 10): [9, 7, 10], (11, 10): [11, 6, 10], (12, 10): [12, 4, 6, 10], (13, 10): [13, 10], (14, 10): [14, 10], (15, 10): [15, 7, 10], (16, 10): [16, 13, 10], (17, 10): [17, 9, 7, 10], (18, 10): [18, 13, 10], (0, 11): [0, 4, 6, 11], (1, 11): [1, 0, 4, 6, 11], (2, 11): [2, 4, 6, 11], (3, 11): [3, 4, 6, 11], (4, 11): [4, 6, 11], (5, 11): [5, 6, 11], (6, 11): [6, 11], (7, 11): [7, 10, 6, 11], (8, 11): [8, 5, 6, 11], (9, 11): [9, 7, 10, 6, 11], (10, 11): [10, 6, 11], (12, 11): [12, 11], (13, 11): [13, 6, 11], (14, 11): [14, 10, 6, 11], (15, 11): [15, 7, 10, 6, 11], (16, 11): [16, 11], (17, 11): [17, 9, 7, 10, 6, 11], (18, 11): [18, 16, 11], (0, 12): [0, 4, 12], (1, 12): [1, 0, 4, 12], (2, 12): [2, 4, 12], (3, 12): [3, 4, 12], (4, 12): [4, 12], (5, 12): [5, 4, 12], (6, 12): [6, 4, 12], (7, 12): [7, 3, 4, 12], (8, 12): [8, 3, 4, 12], (9, 12): [9, 7, 3, 4, 12], (10, 12): [10, 6, 4, 12], (11, 12): [11, 12], (13, 12): [13, 4, 12], (14, 12): [14, 13, 4, 12], (15, 12): [15, 7, 3, 4, 12], (16, 12): [16, 12], (17, 12): [17, 9, 7, 3, 4, 12], (18, 12): [18, 16, 12], (0, 13): [0, 4, 13], (1, 13): [1, 0, 4, 13], (2, 13): [2, 4, 13], (3, 13): [3, 4, 13], (4, 13): [4, 13], (5, 13): [5, 4, 13], (6, 13): [6, 13], (7, 13): [7, 13], (8, 13): [8, 7, 13], (9, 13): [9, 7, 13], (10, 13): [10, 13], (11, 13): [11, 6, 13], (12, 13): [12, 4, 13], (14, 13): [14, 13], (15, 13): [15, 7, 13], (16, 13): [16, 13], (17, 13): [17, 9, 7, 13], (18, 13): [18, 13], (0, 14): [0, 4, 13, 14], (1, 14): [1, 0, 4, 13, 14], (2, 14): [2, 4, 13, 14], (3, 14): [3, 4, 13, 14], (4, 14): [4, 13, 14], (5, 14): [5, 4, 13, 14], (6, 14): [6, 10, 14], (7, 14): [7, 10, 14], (8, 14): [8, 10, 14], (9, 14): [9, 15, 14], (10, 14): [10, 14], (11, 14): [11, 6, 10, 14], (12, 14): [12, 4, 13, 14], (13, 14): [13, 14], (15, 14): [15, 14], (16, 14): [16, 13, 14], (17, 14): [17, 15, 14], (18, 14): [18, 13, 14], (0, 15): [0, 1, 3, 7, 15], (1, 15): [1, 3, 7, 15], (2, 15): [2, 3, 7, 15], (3, 15): [3, 7, 15], (4, 15): [4, 3, 7, 15], (5, 15): [5, 3, 7, 15], (6, 15): [6, 10, 7, 15], (7, 15): [7, 15], (8, 15): [8, 7, 15], (9, 15): [9, 15], (10, 15): [10, 7, 15], (11, 15): [11, 6, 10, 7, 15], (12, 15): [12, 4, 3, 7, 15], (13, 15): [13, 7, 15], (14, 15): [14, 15], (16, 15): [16, 13, 7, 15], (17, 15): [17, 15], (18, 15): [18, 13, 7, 15], (0, 16): [0, 4, 12, 16], (1, 16): [1, 0, 4, 12, 16], (2, 16): [2, 4, 12, 16], (3, 16): [3, 4, 12, 16], (4, 16): [4, 12, 16], (5, 16): [5, 4, 12, 16], (6, 16): [6, 11, 16], (7, 16): [7, 13, 16], (8, 16): [8, 7, 13, 16], (9, 16): [9, 7, 13, 16], (10, 16): [10, 13, 16], (11, 16): [11, 16], (12, 16): [12, 16], (13, 16): [13, 16], (14, 16): [14, 13, 16], (15, 16): [15, 7, 13, 16], (17, 16): [17, 9, 7, 13, 16], (18, 16): [18, 16], (0, 17): [0, 1, 3, 7, 9, 17], (1, 17): [1, 3, 7, 9, 17], (2, 17): [2, 3, 7, 9, 17], (3, 17): [3, 7, 9, 17], (4, 17): [4, 3, 7, 9, 17], (5, 17): [5, 3, 7, 9, 17], (6, 17): [6, 10, 7, 9, 17], (7, 17): [7, 9, 17], (8, 17): [8, 7, 9, 17], (9, 17): [9, 17], (10, 17): [10, 7, 9, 17], (11, 17): [11, 6, 10, 7, 9, 17], (12, 17): [12, 4, 3, 7, 9, 17], (13, 17): [13, 7, 9, 17], (14, 17): [14, 15, 17], (15, 17): [15, 17], (16, 17): [16, 13, 7, 9, 17], (18, 17): [18, 13, 7, 9, 17], (0, 18): [0, 4, 13, 18], (1, 18): [1, 0, 4, 13, 18], (3, 18): [3, 4, 13, 18], (4, 18): [4, 13, 18], (5, 18): [5, 4, 13, 18], (14, 18): [14, 13, 18], (15, 18): [15, 7, 13, 18], (16, 18): [16, 18], (7, 18): [7, 13, 18], (9, 18): [9, 7, 13, 18], (10, 18): [10, 13, 18], (11, 18): [11, 16, 18], (2, 18): [2, 4, 13, 18], (12, 18): [12, 16, 18], (13, 18): [13, 18], (6, 18): [6, 13, 18], (17, 18): [17, 9, 7, 13, 18], (8, 18): [8, 7, 13, 18]}\n",
      "canais:2, origem:4, destino:1, rota:[(4, 13), (13, 7), (7, 3)], caminho: [4, 13, 7, 3]\n",
      "bloqueio (4, 1)\n",
      "canais:2, origem:5, destino:2, rota:[], caminho: [5]\n",
      "{(1, 0): [1], (2, 0): [2], (3, 0): [3], (4, 0): [4], (5, 0): [5], (6, 0): [6, 2, 1, 0], (7, 0): [7, 6, 2, 1, 0], (8, 0): [8, 7, 6, 2, 1, 0], (9, 0): [9, 6, 2, 1, 0], (10, 0): [10, 6, 2, 1, 0], (11, 0): [11, 10, 6, 2, 1, 0], (12, 0): [12, 10, 6, 2, 1, 0], (13, 0): [13, 10, 6, 2, 1, 0], (14, 0): [14, 12, 10, 6, 2, 1, 0], (15, 0): [15, 13, 10, 6, 2, 1, 0], (16, 0): [16, 15, 13, 10, 6, 2, 1, 0], (17, 0): [17, 18, 8, 7, 6, 2, 1, 0], (18, 0): [18, 8, 7, 6, 2, 1, 0], (0, 1): [0], (2, 1): [2], (3, 1): [3], (4, 1): [4], (5, 1): [5], (6, 1): [6, 2, 1], (7, 1): [7, 6, 2, 1], (8, 1): [8, 7, 6, 2, 1], (9, 1): [9, 6, 2, 1], (10, 1): [10, 6, 2, 1], (11, 1): [11, 10, 6, 2, 1], (12, 1): [12, 10, 6, 2, 1], (13, 1): [13, 10, 6, 2, 1], (14, 1): [14, 12, 10, 6, 2, 1], (15, 1): [15, 13, 10, 6, 2, 1], (16, 1): [16, 15, 13, 10, 6, 2, 1], (17, 1): [17, 18, 8, 7, 6, 2, 1], (18, 1): [18, 8, 7, 6, 2, 1], (0, 2): [0], (1, 2): [1], (3, 2): [3], (4, 2): [4], (5, 2): [5], (6, 2): [6, 2], (7, 2): [7, 6, 2], (8, 2): [8, 7, 6, 2], (9, 2): [9, 6, 2], (10, 2): [10, 6, 2], (11, 2): [11, 10, 6, 2], (12, 2): [12, 10, 6, 2], (13, 2): [13, 10, 6, 2], (14, 2): [14, 12, 10, 6, 2], (15, 2): [15, 13, 10, 6, 2], (16, 2): [16, 15, 13, 10, 6, 2], (17, 2): [17, 18, 8, 7, 6, 2], (18, 2): [18, 8, 7, 6, 2], (0, 3): [0], (1, 3): [1], (2, 3): [2], (4, 3): [4], (5, 3): [5], (6, 3): [6, 2, 3], (7, 3): [7, 6, 2, 3], (8, 3): [8, 7, 6, 2, 3], (9, 3): [9, 6, 2, 3], (10, 3): [10, 6, 2, 3], (11, 3): [11, 10, 6, 2, 3], (12, 3): [12, 10, 6, 2, 3], (13, 3): [13, 10, 6, 2, 3], (15, 3): [15, 13, 10, 6, 2, 3], (16, 3): [16, 15, 13, 10, 6, 2, 3], (17, 3): [17, 18, 8, 7, 6, 2, 3], (18, 3): [18, 8, 7, 6, 2, 3], (0, 4): [0], (1, 4): [1], (2, 4): [2], (3, 4): [3], (5, 4): [5], (6, 4): [6, 5, 4], (7, 4): [7, 6, 5, 4], (14, 3): [14, 12, 10, 6, 2, 3], (8, 4): [8, 7, 6, 5, 4], (9, 4): [9, 6, 5, 4], (10, 4): [10, 6, 5, 4], (11, 4): [11, 10, 6, 5, 4], (12, 4): [12, 10, 6, 5, 4], (13, 4): [13, 10, 6, 5, 4], (14, 4): [14, 12, 10, 6, 5, 4], (15, 4): [15, 13, 10, 6, 5, 4], (16, 4): [16, 15, 13, 10, 6, 5, 4], (17, 4): [17, 18, 8, 7, 6, 5, 4], (18, 4): [18, 8, 7, 6, 5, 4], (0, 5): [0], (1, 5): [1], (2, 5): [2], (3, 5): [3], (4, 5): [4], (6, 5): [6, 5], (7, 5): [7, 6, 5], (8, 5): [8, 7, 6, 5], (9, 5): [9, 6, 5], (10, 5): [10, 6, 5], (11, 5): [11, 10, 6, 5], (12, 5): [12, 10, 6, 5], (13, 5): [13, 10, 6, 5], (14, 5): [14, 12, 10, 6, 5], (15, 5): [15, 13, 10, 6, 5], (16, 5): [16, 15, 13, 10, 6, 5], (17, 5): [17, 18, 8, 7, 6, 5], (18, 5): [18, 8, 7, 6, 5], (0, 6): [0, 1, 2, 6], (1, 6): [1, 2, 6], (2, 6): [2, 6], (3, 6): [3, 2, 6], (4, 6): [4, 5, 6], (5, 6): [5, 6], (7, 6): [7, 6], (8, 6): [8, 7, 6], (9, 6): [9, 6], (10, 6): [10, 6], (12, 6): [12, 10, 6], (13, 6): [13, 10, 6], (14, 6): [14, 12, 10, 6], (15, 6): [15, 13, 10, 6], (16, 6): [16, 15, 13, 10, 6], (17, 6): [17, 18, 8, 7, 6], (18, 6): [18, 8, 7, 6], (0, 7): [0, 1, 2, 6, 7], (1, 7): [1, 2, 6, 7], (2, 7): [2, 6, 7], (3, 7): [3, 2, 6, 7], (4, 7): [4, 5, 6, 7], (5, 7): [5, 6, 7], (8, 7): [8, 7], (9, 7): [9, 6, 7], (10, 7): [10, 6, 7], (11, 7): [11, 10, 6, 7], (12, 7): [12, 10, 6, 7], (13, 7): [13, 8, 7], (14, 7): [14, 13, 8, 7], (15, 7): [15, 13, 8, 7], (16, 7): [16, 18, 8, 7], (17, 7): [17, 18, 8, 7], (6, 7): [6, 7], (0, 8): [0, 1, 2, 6, 7, 8], (1, 8): [1, 2, 6, 7, 8], (2, 8): [2, 6, 7, 8], (3, 8): [3, 2, 6, 7, 8], (4, 8): [4, 5, 6, 7, 8], (5, 8): [5, 6, 7, 8], (6, 8): [6, 7, 8], (7, 8): [7, 8], (9, 8): [9, 6, 7, 8], (10, 8): [10, 13, 8], (11, 8): [11, 13, 8], (12, 8): [12, 10, 13, 8], (18, 7): [18, 8, 7], (13, 8): [13, 8], (14, 8): [14, 13, 8], (15, 8): [15, 13, 8], (16, 8): [16, 18, 8], (17, 8): [17, 18, 8], (18, 8): [18, 8], (0, 9): [0, 1, 2, 6, 9], (1, 9): [1, 2, 6, 9], (3, 9): [3, 2, 6, 9], (4, 9): [4, 5, 6, 9], (5, 9): [5, 6, 9], (6, 9): [6, 9], (7, 9): [7, 6, 9], (8, 9): [8, 7, 6, 9], (10, 9): [10, 9], (11, 9): [11, 10, 9], (12, 9): [12, 10, 9], (2, 9): [2, 6, 9], (14, 9): [14, 12, 10, 9], (15, 9): [15, 13, 10, 9], (16, 9): [16, 15, 13, 10, 9], (17, 9): [17, 16, 15, 13, 10, 9], (18, 9): [18, 8, 7, 6, 9], (0, 10): [0, 1, 2, 6, 10], (1, 10): [1, 2, 6, 10], (2, 10): [2, 6, 10], (3, 10): [3, 2, 6, 10], (5, 10): [5, 6, 10], (6, 10): [6, 10], (7, 10): [7, 6, 10], (8, 10): [8, 13, 10], (9, 10): [9, 10], (11, 10): [11, 10], (12, 10): [12, 10], (13, 10): [13, 10], (14, 10): [14, 12, 10], (15, 10): [15, 13, 10], (16, 10): [16, 15, 13, 10], (17, 10): [17, 16, 15, 13, 10], (18, 10): [18, 8, 13, 10], (0, 11): [0, 1, 2, 6, 10, 11], (1, 11): [1, 2, 6, 10, 11], (2, 11): [2, 6, 10, 11], (3, 11): [3, 2, 6, 10, 11], (4, 11): [4, 5, 6, 10, 11], (13, 9): [13, 10, 9], (6, 11): [6, 10, 11], (7, 11): [7, 6, 10, 11], (8, 11): [8, 13, 11], (9, 11): [9, 10, 11], (10, 11): [10, 11], (12, 11): [12, 10, 11], (13, 11): [13, 11], (14, 11): [14, 13, 11], (5, 11): [5, 6, 10, 11], (16, 11): [16, 15, 13, 11], (17, 11): [17, 16, 15, 13, 11], (18, 11): [18, 8, 13, 11], (0, 12): [0, 1, 2, 6, 10, 12], (1, 12): [1, 2, 6, 10, 12], (2, 12): [2, 6, 10, 12], (3, 12): [3, 2, 6, 10, 12], (4, 12): [4, 5, 6, 10, 12], (5, 12): [5, 6, 10, 12], (6, 12): [6, 10, 12], (7, 12): [7, 6, 10, 12], (8, 12): [8, 13, 10, 12], (9, 12): [9, 10, 12], (10, 12): [10, 12], (11, 12): [11, 10, 12], (13, 12): [13, 10, 12], (14, 12): [14, 12], (15, 12): [15, 13, 10, 12], (16, 12): [16, 15, 13, 10, 12], (17, 12): [17, 16, 15, 13, 10, 12], (18, 12): [18, 8, 13, 10, 12], (0, 13): [0, 1, 2, 6, 10, 13], (1, 13): [1, 2, 6, 10, 13], (2, 13): [2, 6, 10, 13], (3, 13): [3, 2, 6, 10, 13], (4, 13): [4, 5, 6, 10, 13], (4, 10): [4, 5, 6, 10], (5, 13): [5, 6, 10, 13], (6, 13): [6, 10, 13], (7, 13): [7, 8, 13], (8, 13): [8, 13], (9, 13): [9, 10, 13], (10, 13): [10, 13], (11, 13): [11, 13], (14, 13): [14, 13], (15, 13): [15, 13], (16, 13): [16, 15, 13], (17, 13): [17, 16, 15, 13], (18, 13): [18, 8, 13], (0, 14): [0, 1, 2, 6, 10, 12, 14], (1, 14): [1, 2, 6, 10, 12, 14], (2, 14): [2, 6, 10, 12, 14], (11, 6): [11, 10, 6], (3, 14): [3, 2, 6, 10, 12, 14], (4, 14): [4, 5, 6, 10, 12, 14], (5, 14): [5, 6, 10, 12, 14], (6, 14): [6, 10, 12, 14], (7, 14): [7, 8, 13, 14], (8, 14): [8, 13, 14], (9, 14): [9, 10, 12, 14], (11, 14): [11, 13, 14], (12, 14): [12, 14], (13, 14): [13, 14], (15, 14): [15, 13, 14], (16, 14): [16, 15, 13, 14], (17, 14): [17, 16, 15, 13, 14], (18, 14): [18, 8, 13, 14], (0, 15): [0, 1, 2, 6, 10, 13, 15], (10, 14): [10, 12, 14], (2, 15): [2, 6, 10, 13, 15], (3, 15): [3, 2, 6, 10, 13, 15], (4, 15): [4, 5, 6, 10, 13, 15], (5, 15): [5, 6, 10, 13, 15], (6, 15): [6, 10, 13, 15], (7, 15): [7, 8, 13, 15], (8, 15): [8, 13, 15], (1, 15): [1, 2, 6, 10, 13, 15], (10, 15): [10, 13, 15], (11, 15): [11, 13, 15], (12, 15): [12, 10, 13, 15], (13, 15): [13, 15], (14, 15): [14, 13, 15], (16, 15): [16, 15], (17, 15): [17, 16, 15], (18, 15): [18, 16, 15], (0, 16): [0, 1, 2, 6, 7, 8, 18, 16], (1, 16): [1, 2, 6, 7, 8, 18, 16], (2, 16): [2, 6, 7, 8, 18, 16], (3, 16): [3, 2, 6, 7, 8, 18, 16], (4, 16): [4, 5, 6, 7, 8, 18, 16], (5, 16): [5, 6, 7, 8, 18, 16], (7, 16): [7, 8, 18, 16], (8, 16): [8, 18, 16], (9, 16): [9, 10, 13, 15, 16], (10, 16): [10, 13, 15, 16], (11, 16): [11, 13, 15, 16], (12, 16): [12, 10, 13, 15, 16], (13, 16): [13, 15, 16], (14, 16): [14, 13, 15, 16], (15, 16): [15, 16], (17, 16): [17, 16], (18, 16): [18, 16], (0, 17): [0, 1, 2, 6, 7, 8, 18, 17], (1, 17): [1, 2, 6, 7, 8, 18, 17], (2, 17): [2, 6, 7, 8, 18, 17], (3, 17): [3, 2, 6, 7, 8, 18, 17], (4, 17): [4, 5, 6, 7, 8, 18, 17], (5, 17): [5, 6, 7, 8, 18, 17], (6, 17): [6, 7, 8, 18, 17], (7, 17): [7, 8, 18, 17], (8, 17): [8, 18, 17], (9, 17): [9, 6, 7, 8, 18, 17], (10, 17): [10, 13, 8, 18, 17], (11, 17): [11, 13, 8, 18, 17], (15, 11): [15, 13, 11], (12, 17): [12, 10, 13, 8, 18, 17], (13, 17): [13, 8, 18, 17], (14, 17): [14, 13, 8, 18, 17], (15, 17): [15, 16, 17], (16, 17): [16, 17], (18, 17): [18, 17], (0, 18): [0, 1, 2, 6, 7, 8, 18], (9, 15): [9, 10, 13, 15], (1, 18): [1, 2, 6, 7, 8, 18], (2, 18): [2, 6, 7, 8, 18], (3, 18): [3, 2, 6, 7, 8, 18], (4, 18): [4, 5, 6, 7, 8, 18], (5, 18): [5, 6, 7, 8, 18], (6, 18): [6, 7, 8, 18], (8, 18): [8, 18], (9, 18): [9, 6, 7, 8, 18], (10, 18): [10, 13, 8, 18], (11, 18): [11, 13, 8, 18], (12, 18): [12, 10, 13, 8, 18], (13, 18): [13, 8, 18], (14, 18): [14, 13, 8, 18], (7, 18): [7, 8, 18], (16, 18): [16, 18], (17, 18): [17, 18], (12, 13): [12, 10, 13], (15, 18): [15, 16, 18], (6, 16): [6, 7, 8, 18, 16]}\n",
      "canais:2, origem:5, destino:3, rota:[], caminho: [5]\n",
      "bloqueio (5, 3)\n",
      "canais:2, origem:4, destino:3, rota:[], caminho: [4]\n",
      "{(1, 0): [1], (2, 0): [2], (3, 0): [3, 16, 2], (4, 0): [4], (5, 0): [5, 10, 9, 11, 15, 14, 3, 16, 2], (6, 0): [6, 4, 5, 3, 0], (7, 0): [7, 8, 3, 0], (8, 0): [8, 3, 0], (9, 0): [9, 10, 5, 3, 0], (10, 0): [10, 5, 3, 0], (11, 0): [11, 15, 5, 3, 0], (12, 0): [12, 15, 5, 3, 0], (13, 0): [13, 11, 15, 5, 3, 0], (14, 0): [14, 1, 0], (15, 0): [15, 5, 3, 0], (16, 0): [16, 0], (0, 1): [0], (2, 1): [2], (3, 1): [3, 16, 2], (4, 1): [4], (5, 1): [5, 10, 9, 11, 15, 14, 3, 16, 2], (6, 1): [6, 4, 5, 3, 1], (7, 1): [7, 8, 3, 1], (8, 1): [8, 3, 1], (9, 1): [9, 10, 5, 3, 1], (10, 1): [10, 5, 3, 1], (11, 1): [11, 15, 14, 1], (12, 1): [12, 15, 14, 1], (13, 1): [13, 11, 15, 14, 1], (14, 1): [14, 1], (15, 1): [15, 14, 1], (16, 1): [16, 0, 1], (0, 2): [0], (1, 2): [1], (3, 2): [3, 16, 2], (4, 2): [4], (5, 2): [5, 10, 9, 11, 15, 14, 3, 16, 2], (6, 2): [6, 4, 8, 2], (7, 2): [7, 8, 2], (8, 2): [8, 2], (9, 2): [9, 10, 5, 3, 8, 2], (10, 2): [10, 5, 3, 8, 2], (11, 2): [11, 15, 5, 3, 8, 2], (12, 2): [12, 15, 5, 3, 8, 2], (13, 2): [13, 11, 15, 5, 3, 8, 2], (14, 2): [14, 3, 8, 2], (15, 2): [15, 5, 3, 8, 2], (16, 2): [16, 2], (0, 3): [0], (1, 3): [1], (2, 3): [2, 16, 3], (4, 3): [4], (5, 3): [5, 10, 9, 11, 15, 14, 3], (6, 3): [6, 4, 5, 3], (7, 3): [7, 8, 3], (8, 3): [8, 3], (9, 3): [9, 10, 5, 3], (10, 3): [10, 5, 3], (11, 3): [11, 15, 5, 3], (12, 3): [12, 15, 5, 3], (13, 3): [13, 11, 15, 5, 3], (14, 3): [14, 3], (15, 3): [15, 5, 3], (16, 3): [16, 3], (0, 4): [0], (1, 4): [1], (2, 4): [2], (3, 4): [3, 16, 2], (5, 4): [5, 10, 9, 11, 15, 14, 3, 16, 2], (6, 4): [6, 4], (7, 4): [7, 6, 4], (8, 4): [8, 4], (9, 4): [9, 10, 5, 4], (10, 4): [10, 5, 4], (11, 4): [11, 15, 5, 4], (12, 4): [12, 15, 5, 4], (13, 4): [13, 11, 15, 5, 4], (14, 4): [14, 5, 4], (15, 4): [15, 5, 4], (16, 4): [16, 2, 8, 4], (0, 5): [0], (1, 5): [1], (2, 5): [2, 16, 3, 14, 15, 11, 9, 10, 5], (3, 5): [3, 14, 15, 11, 9, 10, 5], (4, 5): [4], (6, 5): [6, 4, 5], (7, 5): [7, 6, 4, 5], (8, 5): [8, 3, 5], (9, 5): [9, 10, 5], (10, 5): [10, 5], (11, 5): [11, 15, 5], (12, 5): [12, 15, 5], (13, 5): [13, 11, 15, 5], (15, 5): [15, 5], (16, 5): [16, 3, 5], (0, 6): [0, 3, 5, 4, 6], (1, 6): [1, 3, 5, 4, 6], (2, 6): [2, 8, 4, 6], (3, 6): [3, 5, 4, 6], (4, 6): [4, 6], (5, 6): [5, 4, 6], (7, 6): [7, 6], (8, 6): [8, 4, 6], (9, 6): [9, 10, 5, 4, 6], (10, 6): [10, 5, 4, 6], (11, 6): [11, 15, 5, 4, 6], (14, 5): [14, 5], (12, 6): [12, 15, 5, 4, 6], (13, 6): [13, 11, 15, 5, 4, 6], (14, 6): [14, 5, 4, 6], (15, 6): [15, 5, 4, 6], (16, 6): [16, 2, 8, 4, 6], (0, 7): [0, 3, 8, 7], (1, 7): [1, 3, 8, 7], (2, 7): [2, 8, 7], (3, 7): [3, 8, 7], (4, 7): [4, 6, 7], (5, 7): [5, 3, 8, 7], (6, 7): [6, 7], (9, 7): [9, 10, 5, 3, 8, 7], (10, 7): [10, 5, 3, 8, 7], (11, 7): [11, 15, 5, 3, 8, 7], (12, 7): [12, 15, 5, 3, 8, 7], (13, 7): [13, 11, 15, 5, 3, 8, 7], (14, 7): [14, 3, 8, 7], (15, 7): [15, 5, 3, 8, 7], (16, 7): [16, 2, 8, 7], (0, 8): [0, 3, 8], (1, 8): [1, 3, 8], (2, 8): [2, 8], (3, 8): [3, 8], (4, 8): [4, 8], (5, 8): [5, 3, 8], (6, 8): [6, 4, 8], (7, 8): [7, 8], (9, 8): [9, 10, 5, 3, 8], (10, 8): [10, 5, 3, 8], (11, 8): [11, 15, 5, 3, 8], (12, 8): [12, 15, 5, 3, 8], (13, 8): [13, 11, 15, 5, 3, 8], (14, 8): [14, 3, 8], (8, 7): [8, 7], (16, 8): [16, 2, 8], (0, 9): [0, 3, 5, 10, 9], (1, 9): [1, 3, 5, 10, 9], (2, 9): [2, 8, 3, 5, 10, 9], (3, 9): [3, 5, 10, 9], (4, 9): [4, 5, 10, 9], (5, 9): [5, 10, 9], (6, 9): [6, 4, 5, 10, 9], (7, 9): [7, 6, 4, 5, 10, 9], (8, 9): [8, 3, 5, 10, 9], (10, 9): [10, 9], (11, 9): [11, 9], (12, 9): [12, 13, 11, 9], (13, 9): [13, 11, 9], (14, 9): [14, 5, 10, 9], (15, 9): [15, 11, 9], (16, 9): [16, 3, 5, 10, 9], (0, 10): [0, 3, 5, 10], (1, 10): [1, 3, 5, 10], (2, 10): [2, 8, 3, 5, 10], (3, 10): [3, 5, 10], (4, 10): [4, 5, 10], (5, 10): [5, 10], (6, 10): [6, 4, 5, 10], (7, 10): [7, 6, 4, 5, 10], (9, 10): [9, 10], (11, 10): [11, 9, 10], (12, 10): [12, 15, 5, 10], (13, 10): [13, 11, 9, 10], (14, 10): [14, 5, 10], (15, 10): [15, 5, 10], (16, 10): [16, 3, 5, 10], (0, 11): [0, 1, 14, 15, 11], (1, 11): [1, 14, 15, 11], (2, 11): [2, 8, 3, 5, 15, 11], (15, 8): [15, 5, 3, 8], (4, 11): [4, 5, 15, 11], (5, 11): [5, 15, 11], (6, 11): [6, 4, 5, 15, 11], (7, 11): [7, 6, 4, 5, 15, 11], (8, 11): [8, 3, 5, 15, 11], (9, 11): [9, 11], (10, 11): [10, 9, 11], (12, 11): [12, 13, 11], (13, 11): [13, 11], (14, 11): [14, 15, 11], (3, 11): [3, 5, 15, 11], (16, 11): [16, 3, 5, 15, 11], (0, 12): [0, 1, 14, 15, 12], (1, 12): [1, 14, 15, 12], (2, 12): [2, 8, 3, 5, 15, 12], (3, 12): [3, 5, 15, 12], (4, 12): [4, 5, 15, 12], (5, 12): [5, 15, 12], (6, 12): [6, 4, 5, 15, 12], (7, 12): [7, 6, 4, 5, 15, 12], (8, 12): [8, 3, 5, 15, 12], (8, 10): [8, 3, 5, 10], (10, 12): [10, 5, 15, 12], (11, 12): [11, 13, 12], (13, 12): [13, 12], (14, 12): [14, 15, 12], (15, 12): [15, 12], (16, 12): [16, 3, 5, 15, 12], (0, 13): [0, 1, 14, 15, 11, 13], (1, 13): [1, 14, 15, 11, 13], (2, 13): [2, 8, 3, 5, 15, 11, 13], (3, 13): [3, 5, 15, 11, 13], (4, 13): [4, 5, 15, 11, 13], (5, 13): [5, 15, 11, 13], (6, 13): [6, 4, 5, 15, 11, 13], (7, 13): [7, 6, 4, 5, 15, 11, 13], (8, 13): [8, 3, 5, 15, 11, 13], (9, 13): [9, 11, 13], (10, 13): [10, 9, 11, 13], (11, 13): [11, 13], (14, 13): [14, 15, 11, 13], (15, 13): [15, 11, 13], (16, 13): [16, 3, 5, 15, 11, 13], (0, 14): [0, 1, 14], (1, 14): [1, 14], (2, 14): [2, 8, 3, 14], (3, 14): [3, 14], (4, 14): [4, 5, 14], (5, 14): [5, 14], (15, 11): [15, 11], (7, 14): [7, 8, 3, 14], (8, 14): [8, 3, 14], (9, 14): [9, 10, 5, 14], (10, 14): [10, 5, 14], (11, 14): [11, 15, 14], (12, 14): [12, 15, 14], (13, 14): [13, 11, 15, 14], (15, 14): [15, 14], (16, 14): [16, 3, 14], (0, 15): [0, 1, 14, 15], (1, 15): [1, 14, 15], (2, 15): [2, 8, 3, 5, 15], (3, 15): [3, 5, 15], (4, 15): [4, 5, 15], (5, 15): [5, 15], (6, 15): [6, 4, 5, 15], (7, 15): [7, 6, 4, 5, 15], (8, 15): [8, 3, 5, 15], (10, 15): [10, 5, 15], (11, 15): [11, 15], (12, 15): [12, 15], (13, 15): [13, 11, 15], (14, 15): [14, 15], (16, 15): [16, 3, 5, 15], (0, 16): [0, 16], (1, 16): [1, 0, 16], (2, 16): [2, 16], (3, 16): [3, 16], (4, 16): [4, 5, 3, 16], (5, 16): [5, 3, 16], (6, 16): [6, 4, 5, 3, 16], (7, 16): [7, 8, 2, 16], (8, 16): [8, 2, 16], (9, 16): [9, 10, 5, 3, 16], (10, 16): [10, 5, 3, 16], (9, 15): [9, 11, 15], (11, 16): [11, 15, 5, 3, 16], (12, 16): [12, 15, 5, 3, 16], (13, 16): [13, 11, 15, 5, 3, 16], (14, 16): [14, 3, 16], (15, 16): [15, 5, 3, 16], (12, 13): [12, 13], (9, 12): [9, 11, 13, 12], (6, 14): [6, 4, 5, 14]}\n",
      "canais:2, origem:2, destino:5, rota:[(2, 16), (16, 3), (3, 14), (14, 15), (15, 11), (11, 9), (9, 10), (10, 5)], caminho: [2, 16, 3, 14, 15, 11, 9, 10, 5]\n",
      "bloqueio (2, 5)\n",
      "canais:2, origem:1, destino:5, rota:[], caminho: [1]\n",
      "{(1, 0): [1], (2, 0): [2], (3, 0): [3], (4, 0): [4], (5, 0): [5], (6, 0): [6, 4, 3, 0], (7, 0): [7, 9, 0], (8, 0): [8, 9, 0], (9, 0): [9, 0], (10, 0): [10, 0], (11, 0): [11, 0], (0, 1): [0], (2, 1): [2], (3, 1): [3], (4, 1): [4], (5, 1): [5], (6, 1): [6, 4, 3, 0, 1], (7, 1): [7, 9, 0, 1], (8, 1): [8, 9, 0, 1], (9, 1): [9, 0, 1], (10, 1): [10, 0, 1], (11, 1): [11, 0, 1], (0, 2): [0], (1, 2): [1], (3, 2): [3], (4, 2): [4], (5, 2): [5], (6, 2): [6, 4, 3, 2], (7, 2): [7, 4, 3, 2], (8, 2): [8, 9, 0, 2], (9, 2): [9, 0, 2], (10, 2): [10, 0, 2], (11, 2): [11, 0, 2], (0, 3): [0], (1, 3): [1], (2, 3): [2], (4, 3): [4], (5, 3): [5], (6, 3): [6, 4, 3], (7, 3): [7, 4, 3], (8, 3): [8, 7, 4, 3], (9, 3): [9, 0, 3], (10, 3): [10, 0, 3], (11, 3): [11, 3], (0, 4): [0], (1, 4): [1], (2, 4): [2], (3, 4): [3], (5, 4): [5], (6, 4): [6, 4], (7, 4): [7, 4], (8, 4): [8, 7, 4], (9, 4): [9, 7, 4], (10, 4): [10, 0, 3, 4], (11, 4): [11, 3, 4], (0, 5): [0], (1, 5): [1], (2, 5): [2], (3, 5): [3], (4, 5): [4], (6, 5): [6, 4, 5], (7, 5): [7, 5], (8, 5): [8, 7, 5], (9, 5): [9, 7, 5], (10, 5): [10, 9, 7, 5], (11, 5): [11, 3, 4, 5], (0, 6): [0, 3, 4, 6], (1, 6): [1, 0, 3, 4, 6], (2, 6): [2, 3, 4, 6], (3, 6): [3, 4, 6], (4, 6): [4, 6], (5, 6): [5, 4, 6], (7, 6): [7, 6], (8, 6): [8, 7, 6], (9, 6): [9, 7, 6], (10, 6): [10, 9, 7, 6], (11, 6): [11, 3, 4, 6], (0, 7): [0, 9, 7], (1, 7): [1, 0, 9, 7], (2, 7): [2, 0, 9, 7], (3, 7): [3, 4, 7], (4, 7): [4, 7], (5, 7): [5, 7], (6, 7): [6, 7], (8, 7): [8, 7], (9, 7): [9, 7], (10, 7): [10, 9, 7], (11, 7): [11, 0, 9, 7], (0, 8): [0, 9, 8], (1, 8): [1, 0, 9, 8], (2, 8): [2, 0, 9, 8], (3, 8): [3, 0, 9, 8], (4, 8): [4, 7, 8], (5, 8): [5, 7, 8], (6, 8): [6, 7, 8], (7, 8): [7, 8], (9, 8): [9, 8], (10, 8): [10, 9, 8], (11, 8): [11, 0, 9, 8], (0, 9): [0, 9], (1, 9): [1, 0, 9], (2, 9): [2, 0, 9], (3, 9): [3, 0, 9], (4, 9): [4, 7, 9], (5, 9): [5, 7, 9], (6, 9): [6, 7, 9], (7, 9): [7, 9], (8, 9): [8, 9], (11, 9): [11, 0, 9], (0, 10): [0, 10], (1, 10): [1, 0, 10], (2, 10): [2, 0, 10], (3, 10): [3, 0, 10], (4, 10): [4, 3, 0, 10], (5, 10): [5, 7, 9, 10], (6, 10): [6, 7, 9, 10], (7, 10): [7, 9, 10], (8, 10): [8, 9, 10], (9, 10): [9, 10], (11, 10): [11, 0, 10], (0, 11): [0, 11], (1, 11): [1, 0, 11], (2, 11): [2, 0, 11], (3, 11): [3, 11], (4, 11): [4, 3, 11], (5, 11): [5, 4, 3, 11], (6, 11): [6, 4, 3, 11], (7, 11): [7, 4, 3, 11], (8, 11): [8, 9, 0, 11], (9, 11): [9, 0, 11], (10, 11): [10, 0, 11], (10, 9): [10, 9]}\n",
      "{(1, 0): [1, 7, 8, 9, 10, 15, 0], (2, 0): [2], (3, 0): [3], (4, 0): [4], (5, 0): [5], (6, 0): [6, 5, 4, 7, 0], (7, 0): [7, 0], (8, 0): [8, 7, 0], (9, 0): [9, 8, 7, 0], (10, 0): [10, 15, 0], (11, 0): [11, 7, 0], (12, 0): [12, 0], (13, 0): [13, 0], (14, 0): [14, 13, 0], (15, 0): [15, 0], (16, 0): [16, 15, 0], (0, 1): [0, 15, 10, 9, 8, 7, 1], (2, 1): [2], (3, 1): [3], (4, 1): [4], (5, 1): [5], (6, 1): [6, 2, 3, 1], (7, 1): [7, 1], (8, 1): [8, 7, 1], (9, 1): [9, 8, 7, 1], (10, 1): [10, 9, 8, 7, 1], (11, 1): [11, 7, 1], (12, 1): [12, 0, 7, 1], (13, 1): [13, 0, 7, 1], (14, 1): [14, 13, 0, 7, 1], (15, 1): [15, 0, 7, 1], (16, 1): [16, 15, 0, 7, 1], (0, 2): [0], (1, 2): [1, 7, 8, 9, 10, 15, 0], (3, 2): [3], (4, 2): [4], (5, 2): [5], (6, 2): [6, 2], (7, 2): [7, 1, 3, 2], (8, 2): [8, 7, 1, 3, 2], (9, 2): [9, 8, 7, 1, 3, 2], (10, 2): [10, 9, 8, 7, 1, 3, 2], (11, 2): [11, 7, 1, 3, 2], (12, 2): [12, 0, 7, 1, 3, 2], (13, 2): [13, 0, 7, 1, 3, 2], (14, 2): [14, 13, 0, 7, 1, 3, 2], (15, 2): [15, 0, 7, 1, 3, 2], (16, 2): [16, 15, 0, 7, 1, 3, 2], (0, 3): [0], (1, 3): [1, 7, 8, 9, 10, 15, 0], (2, 3): [2], (4, 3): [4], (5, 3): [5], (6, 3): [6, 2, 3], (7, 3): [7, 1, 3], (8, 3): [8, 7, 1, 3], (9, 3): [9, 8, 7, 1, 3], (10, 3): [10, 9, 8, 7, 1, 3], (11, 3): [11, 7, 1, 3], (12, 3): [12, 0, 7, 1, 3], (13, 3): [13, 0, 7, 1, 3], (14, 3): [14, 13, 0, 7, 1, 3], (15, 3): [15, 0, 7, 1, 3], (16, 3): [16, 15, 0, 7, 1, 3], (0, 4): [0], (1, 4): [1, 7, 8, 9, 10, 15, 0], (2, 4): [2], (3, 4): [3], (5, 4): [5], (6, 4): [6, 5, 4], (7, 4): [7, 4], (8, 4): [8, 7, 4], (9, 4): [9, 8, 7, 4], (10, 4): [10, 9, 8, 7, 4], (11, 4): [11, 7, 4], (12, 4): [12, 0, 7, 4], (13, 4): [13, 0, 7, 4], (14, 4): [14, 13, 0, 7, 4], (15, 4): [15, 0, 7, 4], (16, 4): [16, 15, 0, 7, 4], (0, 5): [0], (1, 5): [1, 7, 8, 9, 10, 15, 0], (2, 5): [2], (3, 5): [3], (4, 5): [4], (6, 5): [6, 5], (7, 5): [7, 4, 5], (8, 5): [8, 7, 4, 5], (9, 5): [9, 8, 7, 4, 5], (10, 5): [10, 9, 8, 7, 4, 5], (11, 5): [11, 7, 4, 5], (12, 5): [12, 0, 7, 4, 5], (13, 5): [13, 0, 7, 4, 5], (14, 5): [14, 13, 0, 7, 4, 5], (15, 5): [15, 0, 7, 4, 5], (16, 5): [16, 15, 0, 7, 4, 5], (0, 6): [0, 7, 4, 5, 6], (1, 6): [1, 3, 2, 6], (2, 6): [2, 6], (3, 6): [3, 2, 6], (4, 6): [4, 5, 6], (5, 6): [5, 6], (7, 6): [7, 4, 5, 6], (8, 6): [8, 7, 4, 5, 6], (9, 6): [9, 8, 7, 4, 5, 6], (10, 6): [10, 9, 8, 7, 4, 5, 6], (11, 6): [11, 7, 4, 5, 6], (12, 6): [12, 0, 7, 4, 5, 6], (13, 6): [13, 0, 7, 4, 5, 6], (14, 6): [14, 13, 0, 7, 4, 5, 6], (15, 6): [15, 0, 7, 4, 5, 6], (16, 6): [16, 15, 0, 7, 4, 5, 6], (0, 7): [0, 7], (1, 7): [1, 7], (2, 7): [2, 3, 1, 7], (3, 7): [3, 1, 7], (4, 7): [4, 7], (5, 7): [5, 4, 7], (6, 7): [6, 5, 4, 7], (8, 7): [8, 7], (9, 7): [9, 8, 7], (10, 7): [10, 9, 8, 7], (11, 7): [11, 7], (12, 7): [12, 0, 7], (13, 7): [13, 0, 7], (14, 7): [14, 13, 0, 7], (15, 7): [15, 0, 7], (16, 7): [16, 15, 0, 7], (0, 8): [0, 7, 8], (1, 8): [1, 7, 8], (2, 8): [2, 3, 1, 7, 8], (3, 8): [3, 1, 7, 8], (4, 8): [4, 7, 8], (5, 8): [5, 4, 7, 8], (6, 8): [6, 5, 4, 7, 8], (7, 8): [7, 8], (9, 8): [9, 8], (10, 8): [10, 9, 8], (11, 8): [11, 7, 8], (12, 8): [12, 0, 7, 8], (13, 8): [13, 0, 7, 8], (14, 8): [14, 13, 0, 7, 8], (15, 8): [15, 0, 7, 8], (16, 8): [16, 15, 0, 7, 8], (0, 9): [0, 7, 8, 9], (1, 9): [1, 7, 8, 9], (2, 9): [2, 3, 1, 7, 8, 9], (3, 9): [3, 1, 7, 8, 9], (4, 9): [4, 7, 8, 9], (5, 9): [5, 4, 7, 8, 9], (6, 9): [6, 5, 4, 7, 8, 9], (7, 9): [7, 8, 9], (8, 9): [8, 9], (10, 9): [10, 9], (11, 9): [11, 7, 8, 9], (12, 9): [12, 0, 7, 8, 9], (13, 9): [13, 0, 7, 8, 9], (14, 9): [14, 16, 15, 10, 9], (15, 9): [15, 10, 9], (16, 9): [16, 15, 10, 9], (0, 10): [0, 15, 10], (1, 10): [1, 7, 0, 15, 10], (2, 10): [2, 3, 1, 7, 0, 15, 10], (3, 10): [3, 1, 7, 0, 15, 10], (4, 10): [4, 7, 0, 15, 10], (5, 10): [5, 4, 7, 0, 15, 10], (6, 10): [6, 5, 4, 7, 0, 15, 10], (7, 10): [7, 0, 15, 10], (8, 10): [8, 9, 10], (9, 10): [9, 10], (11, 10): [11, 7, 0, 15, 10], (12, 10): [12, 0, 15, 10], (13, 10): [13, 0, 15, 10], (14, 10): [14, 16, 15, 10], (15, 10): [15, 10], (16, 10): [16, 15, 10], (0, 11): [0, 7, 11], (1, 11): [1, 7, 11], (2, 11): [2, 3, 1, 7, 11], (3, 11): [3, 1, 7, 11], (4, 11): [4, 7, 11], (5, 11): [5, 4, 7, 11], (6, 11): [6, 5, 4, 7, 11], (7, 11): [7, 11], (8, 11): [8, 7, 11], (9, 11): [9, 8, 7, 11], (10, 11): [10, 9, 8, 7, 11], (12, 11): [12, 11], (13, 11): [13, 0, 7, 11], (14, 11): [14, 13, 0, 7, 11], (15, 11): [15, 0, 7, 11], (16, 11): [16, 15, 0, 7, 11], (0, 12): [0, 12], (1, 12): [1, 7, 0, 12], (2, 12): [2, 3, 1, 7, 0, 12], (3, 12): [3, 1, 7, 0, 12], (4, 12): [4, 7, 0, 12], (5, 12): [5, 4, 7, 0, 12], (6, 12): [6, 5, 4, 7, 0, 12], (7, 12): [7, 0, 12], (8, 12): [8, 7, 0, 12], (9, 12): [9, 8, 7, 0, 12], (10, 12): [10, 15, 0, 12], (11, 12): [11, 12], (13, 12): [13, 0, 12], (14, 12): [14, 13, 0, 12], (15, 12): [15, 0, 12], (16, 12): [16, 15, 0, 12], (0, 13): [0, 13], (1, 13): [1, 7, 0, 13], (2, 13): [2, 3, 1, 7, 0, 13], (3, 13): [3, 1, 7, 0, 13], (4, 13): [4, 7, 0, 13], (5, 13): [5, 4, 7, 0, 13], (6, 13): [6, 5, 4, 7, 0, 13], (7, 13): [7, 0, 13], (8, 13): [8, 7, 0, 13], (9, 13): [9, 8, 7, 0, 13], (10, 13): [10, 15, 0, 13], (11, 13): [11, 7, 0, 13], (12, 13): [12, 0, 13], (14, 13): [14, 13], (15, 13): [15, 0, 13], (16, 13): [16, 14, 13], (0, 14): [0, 13, 14], (1, 14): [1, 7, 0, 13, 14], (2, 14): [2, 3, 1, 7, 0, 13, 14], (3, 14): [3, 1, 7, 0, 13, 14], (4, 14): [4, 7, 0, 13, 14], (5, 14): [5, 4, 7, 0, 13, 14], (6, 14): [6, 5, 4, 7, 0, 13, 14], (7, 14): [7, 0, 13, 14], (8, 14): [8, 7, 0, 13, 14], (9, 14): [9, 10, 15, 16, 14], (10, 14): [10, 15, 16, 14], (11, 14): [11, 7, 0, 13, 14], (12, 14): [12, 0, 13, 14], (13, 14): [13, 14], (15, 14): [15, 16, 14], (16, 14): [16, 14], (0, 15): [0, 15], (1, 15): [1, 7, 0, 15], (2, 15): [2, 3, 1, 7, 0, 15], (3, 15): [3, 1, 7, 0, 15], (4, 15): [4, 7, 0, 15], (5, 15): [5, 4, 7, 0, 15], (6, 15): [6, 5, 4, 7, 0, 15], (7, 15): [7, 0, 15], (8, 15): [8, 7, 0, 15], (9, 15): [9, 10, 15], (10, 15): [10, 15], (11, 15): [11, 7, 0, 15], (12, 15): [12, 0, 15], (13, 15): [13, 0, 15], (14, 15): [14, 16, 15], (16, 15): [16, 15], (0, 16): [0, 15, 16], (1, 16): [1, 7, 0, 15, 16], (2, 16): [2, 3, 1, 7, 0, 15, 16], (3, 16): [3, 1, 7, 0, 15, 16], (4, 16): [4, 7, 0, 15, 16], (5, 16): [5, 4, 7, 0, 15, 16], (6, 16): [6, 5, 4, 7, 0, 15, 16], (7, 16): [7, 0, 15, 16], (8, 16): [8, 7, 0, 15, 16], (9, 16): [9, 10, 15, 16], (10, 16): [10, 15, 16], (11, 16): [11, 7, 0, 15, 16], (12, 16): [12, 0, 15, 16], (13, 16): [13, 14, 16], (14, 16): [14, 16], (15, 16): [15, 16]}\n",
      "{(1, 0): [1, 6, 7, 0], (2, 0): [2], (3, 0): [3], (4, 0): [4], (5, 0): [5, 7, 0], (6, 0): [6, 1, 0], (7, 0): [7, 0], (8, 0): [8, 0], (9, 0): [9, 1, 0], (10, 0): [10, 0], (11, 0): [11, 1, 0], (12, 0): [12, 13, 0], (13, 0): [13, 0], (14, 0): [14, 1, 0], (0, 1): [0, 7, 6, 1], (2, 1): [2], (3, 1): [3], (4, 1): [4], (5, 1): [5, 6, 1], (6, 1): [6, 1], (7, 1): [7, 0, 1], (8, 1): [8, 0, 1], (9, 1): [9, 1], (10, 1): [10, 0, 1], (11, 1): [11, 1], (12, 1): [12, 14, 1], (13, 1): [13, 0, 1], (14, 1): [14, 1], (0, 2): [0], (1, 2): [1, 6, 7, 0], (3, 2): [3], (4, 2): [4], (5, 2): [5, 7, 0], (6, 2): [6, 1, 2], (7, 2): [7, 0, 2], (8, 2): [8, 0, 2], (9, 2): [9, 1, 2], (10, 2): [10, 0, 2], (11, 2): [11, 1, 2], (12, 2): [12, 13, 0, 2], (13, 2): [13, 0, 2], (14, 2): [14, 1, 2], (0, 3): [0], (1, 3): [1, 6, 7, 0], (2, 3): [2], (4, 3): [4], (5, 3): [5, 7, 0], (6, 3): [6, 1, 0, 3], (7, 3): [7, 0, 3], (8, 3): [8, 0, 3], (9, 3): [9, 1, 0, 3], (10, 3): [10, 0, 3], (11, 3): [11, 1, 0, 3], (12, 3): [12, 13, 0, 3], (13, 3): [13, 0, 3], (14, 3): [14, 1, 0, 3], (0, 4): [0], (1, 4): [1, 6, 7, 0], (2, 4): [2], (3, 4): [3], (5, 4): [5, 7, 0], (6, 4): [6, 1, 4], (7, 4): [7, 0, 1, 4], (8, 4): [8, 0, 1, 4], (9, 4): [9, 1, 4], (10, 4): [10, 0, 1, 4], (11, 4): [11, 1, 4], (12, 4): [12, 14, 1, 4], (13, 4): [13, 0, 1, 4], (14, 4): [14, 1, 4], (0, 5): [0, 7, 5], (1, 5): [1, 6, 5], (2, 5): [2], (3, 5): [3], (4, 5): [4], (6, 5): [6, 5], (7, 5): [7, 5], (8, 5): [8, 0, 7, 5], (9, 5): [9, 1, 6, 5], (10, 5): [10, 0, 7, 5], (11, 5): [11, 1, 6, 5], (12, 5): [12, 13, 0, 7, 5], (14, 5): [14, 1, 6, 5], (0, 6): [0, 1, 6], (1, 6): [1, 6], (2, 6): [2, 1, 6], (3, 6): [3, 0, 1, 6], (4, 6): [4, 1, 6], (5, 6): [5, 6], (7, 6): [7, 6], (8, 6): [8, 0, 1, 6], (9, 6): [9, 1, 6], (10, 6): [10, 0, 1, 6], (11, 6): [11, 1, 6], (12, 6): [12, 14, 1, 6], (14, 6): [14, 1, 6], (0, 7): [0, 7], (1, 7): [1, 0, 7], (2, 7): [2, 0, 7], (3, 7): [3, 0, 7], (4, 7): [4, 1, 0, 7], (5, 7): [5, 7], (6, 7): [6, 7], (8, 7): [8, 0, 7], (9, 7): [9, 1, 0, 7], (13, 5): [13, 0, 7, 5], (11, 7): [11, 1, 0, 7], (12, 7): [12, 13, 0, 7], (13, 7): [13, 0, 7], (14, 7): [14, 1, 0, 7], (0, 8): [0, 8], (1, 8): [1, 0, 8], (2, 8): [2, 0, 8], (3, 8): [3, 0, 8], (4, 8): [4, 1, 0, 8], (5, 8): [5, 7, 0, 8], (6, 8): [6, 1, 0, 8], (7, 8): [7, 0, 8], (9, 8): [9, 8], (11, 8): [11, 1, 0, 8], (12, 8): [12, 13, 0, 8], (13, 8): [13, 0, 8], (14, 8): [14, 1, 0, 8], (0, 9): [0, 1, 9], (1, 9): [1, 9], (2, 9): [2, 1, 9], (3, 9): [3, 0, 1, 9], (4, 9): [4, 1, 9], (5, 9): [5, 6, 1, 9], (6, 9): [6, 1, 9], (7, 9): [7, 0, 1, 9], (8, 9): [8, 9], (10, 9): [10, 0, 1, 9], (13, 6): [13, 0, 1, 6], (12, 9): [12, 14, 1, 9], (13, 9): [13, 0, 1, 9], (14, 9): [14, 1, 9], (0, 10): [0, 10], (1, 10): [1, 0, 10], (2, 10): [2, 0, 10], (3, 10): [3, 0, 10], (4, 10): [4, 1, 0, 10], (5, 10): [5, 7, 0, 10], (6, 10): [6, 1, 0, 10], (7, 10): [7, 0, 10], (8, 10): [8, 0, 10], (10, 8): [10, 0, 8], (11, 10): [11, 10], (12, 10): [12, 13, 0, 10], (13, 10): [13, 0, 10], (14, 10): [14, 1, 0, 10], (0, 11): [0, 1, 11], (1, 11): [1, 11], (2, 11): [2, 1, 11], (3, 11): [3, 0, 1, 11], (4, 11): [4, 1, 11], (5, 11): [5, 6, 1, 11], (6, 11): [6, 1, 11], (10, 7): [10, 0, 7], (8, 11): [8, 0, 1, 11], (9, 11): [9, 1, 11], (10, 11): [10, 11], (12, 11): [12, 14, 1, 11], (13, 11): [13, 0, 1, 11], (14, 11): [14, 1, 11], (0, 12): [0, 13, 12], (1, 12): [1, 14, 12], (2, 12): [2, 0, 13, 12], (7, 11): [7, 0, 1, 11], (4, 12): [4, 1, 14, 12], (5, 12): [5, 6, 1, 14, 12], (6, 12): [6, 1, 14, 12], (7, 12): [7, 0, 13, 12], (8, 12): [8, 0, 13, 12], (9, 12): [9, 1, 14, 12], (10, 12): [10, 0, 13, 12], (11, 12): [11, 1, 14, 12], (13, 12): [13, 12], (14, 12): [14, 12], (11, 9): [11, 1, 9], (0, 13): [0, 13], (1, 13): [1, 0, 13], (2, 13): [2, 0, 13], (3, 13): [3, 0, 13], (4, 13): [4, 1, 0, 13], (5, 13): [5, 7, 0, 13], (6, 13): [6, 1, 0, 13], (7, 13): [7, 0, 13], (8, 13): [8, 0, 13], (9, 13): [9, 1, 0, 13], (10, 13): [10, 0, 13], (9, 10): [9, 1, 0, 10], (11, 13): [11, 1, 0, 13], (12, 13): [12, 13], (14, 13): [14, 13], (0, 14): [0, 1, 14], (1, 14): [1, 14], (2, 14): [2, 1, 14], (3, 14): [3, 0, 1, 14], (4, 14): [4, 1, 14], (5, 14): [5, 6, 1, 14], (6, 14): [6, 1, 14], (7, 14): [7, 0, 1, 14], (8, 14): [8, 0, 1, 14], (9, 14): [9, 1, 14], (10, 14): [10, 0, 1, 14], (11, 14): [11, 1, 14], (12, 14): [12, 14], (13, 14): [13, 14], (3, 12): [3, 0, 13, 12]}\n",
      "{(1, 0): [1], (2, 0): [2], (3, 0): [3], (4, 0): [4], (5, 0): [5], (6, 0): [6, 12, 0], (7, 0): [7, 6, 12, 0], (8, 0): [8, 6, 12, 0], (9, 0): [9, 8, 6, 12, 0], (10, 0): [10, 11, 6, 12, 0], (11, 0): [11, 6, 12, 0], (12, 0): [12, 0], (13, 0): [13, 4, 0], (14, 0): [14, 12, 0], (15, 0): [15, 14, 12, 0], (16, 0): [16, 15, 14, 12, 0], (17, 0): [17, 18, 6, 12, 0], (18, 0): [18, 6, 12, 0], (19, 0): [19, 20, 12, 0], (20, 0): [20, 12, 0], (21, 0): [21, 20, 12, 0], (22, 0): [22, 6, 12, 0], (23, 0): [23, 12, 0], (0, 1): [0], (2, 1): [2], (3, 1): [3], (4, 1): [4], (5, 1): [5], (6, 1): [6, 5, 1], (7, 1): [7, 6, 5, 1], (8, 1): [8, 6, 5, 1], (9, 1): [9, 8, 6, 5, 1], (10, 1): [10, 11, 6, 5, 1], (11, 1): [11, 6, 5, 1], (12, 1): [12, 0, 1], (13, 1): [13, 4, 0, 1], (14, 1): [14, 12, 0, 1], (15, 1): [15, 14, 12, 0, 1], (16, 1): [16, 15, 14, 12, 0, 1], (17, 1): [17, 18, 6, 5, 1], (18, 1): [18, 6, 5, 1], (19, 1): [19, 18, 6, 5, 1], (20, 1): [20, 12, 0, 1], (21, 1): [21, 20, 12, 0, 1], (22, 1): [22, 6, 5, 1], (23, 1): [23, 12, 0, 1], (0, 2): [0], (1, 2): [1], (3, 2): [3], (4, 2): [4], (5, 2): [5], (6, 2): [6, 5, 1, 2], (7, 2): [7, 6, 5, 1, 2], (8, 2): [8, 6, 5, 1, 2], (9, 2): [9, 8, 6, 5, 1, 2], (10, 2): [10, 11, 6, 5, 1, 2], (11, 2): [11, 6, 5, 1, 2], (12, 2): [12, 3, 2], (13, 2): [13, 4, 2], (14, 2): [14, 12, 3, 2], (15, 2): [15, 14, 12, 3, 2], (16, 2): [16, 15, 14, 12, 3, 2], (17, 2): [17, 18, 6, 5, 1, 2], (18, 2): [18, 6, 5, 1, 2], (19, 2): [19, 20, 12, 3, 2], (20, 2): [20, 12, 3, 2], (21, 2): [21, 20, 12, 3, 2], (22, 2): [22, 6, 5, 1, 2], (23, 2): [23, 12, 3, 2], (0, 3): [0], (1, 3): [1], (2, 3): [2], (4, 3): [4], (5, 3): [5], (6, 3): [6, 5, 3], (7, 3): [7, 6, 5, 3], (8, 3): [8, 6, 5, 3], (9, 3): [9, 8, 6, 5, 3], (10, 3): [10, 11, 6, 5, 3], (11, 3): [11, 6, 5, 3], (12, 3): [12, 3], (13, 3): [13, 12, 3], (14, 3): [14, 12, 3], (16, 3): [16, 15, 14, 12, 3], (17, 3): [17, 18, 6, 5, 3], (18, 3): [18, 6, 5, 3], (19, 3): [19, 20, 12, 3], (20, 3): [20, 12, 3], (21, 3): [21, 20, 12, 3], (22, 3): [22, 6, 5, 3], (23, 3): [23, 12, 3], (15, 3): [15, 14, 12, 3], (1, 4): [1], (2, 4): [2], (3, 4): [3], (5, 4): [5], (6, 4): [6, 5, 4], (7, 4): [7, 6, 5, 4], (8, 4): [8, 6, 5, 4], (9, 4): [9, 8, 6, 5, 4], (10, 4): [10, 11, 6, 5, 4], (11, 4): [11, 6, 5, 4], (12, 4): [12, 0, 4], (13, 4): [13, 4], (14, 4): [14, 13, 4], (15, 4): [15, 14, 13, 4], (16, 4): [16, 15, 14, 13, 4], (17, 4): [17, 18, 6, 5, 4], (18, 4): [18, 6, 5, 4], (19, 4): [19, 18, 6, 5, 4], (20, 4): [20, 12, 0, 4], (21, 4): [21, 20, 12, 0, 4], (22, 4): [22, 6, 5, 4], (23, 4): [23, 13, 4], (0, 5): [0], (1, 5): [1], (2, 5): [2], (3, 5): [3], (4, 5): [4], (6, 5): [6, 5], (7, 5): [7, 6, 5], (8, 5): [8, 6, 5], (9, 5): [9, 8, 6, 5], (10, 5): [10, 11, 6, 5], (11, 5): [11, 6, 5], (12, 5): [12, 3, 5], (0, 4): [0], (13, 5): [13, 4, 5], (14, 5): [14, 12, 3, 5], (15, 5): [15, 14, 12, 3, 5], (16, 5): [16, 17, 18, 6, 5], (17, 5): [17, 18, 6, 5], (18, 5): [18, 6, 5], (19, 5): [19, 18, 6, 5], (20, 5): [20, 12, 3, 5], (21, 5): [21, 22, 6, 5], (23, 5): [23, 12, 3, 5], (0, 6): [0, 12, 6], (1, 6): [1, 5, 6], (2, 6): [2, 1, 5, 6], (3, 6): [3, 5, 6], (4, 6): [4, 5, 6], (5, 6): [5, 6], (22, 5): [22, 6, 5], (8, 6): [8, 6], (9, 6): [9, 8, 6], (10, 6): [10, 11, 6], (11, 6): [11, 6], (12, 6): [12, 6], (13, 6): [13, 12, 6], (14, 6): [14, 12, 6], (15, 6): [15, 14, 12, 6], (16, 6): [16, 17, 18, 6], (17, 6): [17, 18, 6], (18, 6): [18, 6], (19, 6): [19, 18, 6], (20, 6): [20, 12, 6], (21, 6): [21, 22, 6], (22, 6): [22, 6], (23, 6): [23, 12, 6], (0, 7): [0, 12, 6, 7], (1, 7): [1, 5, 6, 7], (2, 7): [2, 1, 5, 6, 7], (3, 7): [3, 5, 6, 7], (4, 7): [4, 5, 6, 7], (6, 7): [6, 7], (8, 7): [8, 7], (9, 7): [9, 8, 7], (10, 7): [10, 9, 8, 7], (11, 7): [11, 6, 7], (12, 7): [12, 6, 7], (13, 7): [13, 12, 6, 7], (15, 7): [15, 14, 12, 6, 7], (16, 7): [16, 17, 18, 6, 7], (17, 7): [17, 18, 6, 7], (18, 7): [18, 6, 7], (19, 7): [19, 18, 6, 7], (20, 7): [20, 12, 6, 7], (21, 7): [21, 22, 6, 7], (23, 7): [23, 12, 6, 7], (0, 8): [0, 12, 6, 8], (1, 8): [1, 5, 6, 8], (2, 8): [2, 1, 5, 6, 8], (3, 8): [3, 5, 6, 8], (4, 8): [4, 5, 6, 8], (5, 8): [5, 6, 8], (6, 8): [6, 8], (14, 7): [14, 12, 6, 7], (7, 8): [7, 8], (9, 8): [9, 8], (10, 8): [10, 9, 8], (11, 8): [11, 6, 8], (12, 8): [12, 6, 8], (13, 8): [13, 12, 6, 8], (15, 8): [15, 14, 12, 6, 8], (16, 8): [16, 17, 18, 6, 8], (17, 8): [17, 18, 6, 8], (18, 8): [18, 6, 8], (19, 8): [19, 18, 6, 8], (20, 8): [20, 12, 6, 8], (22, 7): [22, 6, 7], (21, 8): [21, 22, 6, 8], (22, 8): [22, 6, 8], (23, 8): [23, 12, 6, 8], (0, 9): [0, 12, 6, 8, 9], (1, 9): [1, 5, 6, 8, 9], (2, 9): [2, 1, 5, 6, 8, 9], (5, 7): [5, 6, 7], (4, 9): [4, 5, 6, 8, 9], (5, 9): [5, 6, 8, 9], (6, 9): [6, 8, 9], (7, 9): [7, 8, 9], (8, 9): [8, 9], (10, 9): [10, 9], (14, 8): [14, 12, 6, 8], (11, 9): [11, 10, 9], (12, 9): [12, 6, 8, 9], (13, 9): [13, 12, 6, 8, 9], (14, 9): [14, 12, 6, 8, 9], (15, 9): [15, 14, 12, 6, 8, 9], (16, 9): [16, 17, 18, 6, 8, 9], (18, 9): [18, 6, 8, 9], (19, 9): [19, 18, 6, 8, 9], (20, 9): [20, 12, 6, 8, 9], (21, 9): [21, 22, 6, 8, 9], (22, 9): [22, 6, 8, 9], (23, 9): [23, 12, 6, 8, 9], (0, 10): [0, 12, 6, 11, 10], (1, 10): [1, 5, 6, 11, 10], (2, 10): [2, 1, 5, 6, 11, 10], (3, 10): [3, 5, 6, 11, 10], (4, 10): [4, 5, 6, 11, 10], (5, 10): [5, 6, 11, 10], (6, 10): [6, 11, 10], (7, 10): [7, 6, 11, 10], (8, 10): [8, 9, 10], (9, 10): [9, 10], (11, 10): [11, 10], (12, 10): [12, 6, 11, 10], (13, 10): [13, 12, 6, 11, 10], (14, 10): [14, 12, 6, 11, 10], (15, 10): [15, 14, 12, 6, 11, 10], (7, 6): [7, 6], (16, 10): [16, 17, 18, 6, 11, 10], (17, 10): [17, 18, 6, 11, 10], (18, 10): [18, 6, 11, 10], (19, 10): [19, 18, 6, 11, 10], (20, 10): [20, 12, 6, 11, 10], (21, 10): [21, 22, 6, 11, 10], (22, 10): [22, 6, 11, 10], (23, 10): [23, 12, 6, 11, 10], (0, 11): [0, 12, 6, 11], (1, 11): [1, 5, 6, 11], (2, 11): [2, 1, 5, 6, 11], (3, 11): [3, 5, 6, 11], (4, 11): [4, 5, 6, 11], (5, 11): [5, 6, 11], (6, 11): [6, 11], (7, 11): [7, 6, 11], (8, 11): [8, 6, 11], (9, 11): [9, 10, 11], (10, 11): [10, 11], (12, 11): [12, 6, 11], (13, 11): [13, 12, 6, 11], (15, 11): [15, 14, 12, 6, 11], (16, 11): [16, 17, 18, 6, 11], (17, 11): [17, 18, 6, 11], (18, 11): [18, 6, 11], (19, 11): [19, 18, 6, 11], (20, 11): [20, 12, 6, 11], (17, 9): [17, 18, 6, 8, 9], (22, 11): [22, 6, 11], (23, 11): [23, 12, 6, 11], (0, 12): [0, 12], (1, 12): [1, 0, 12], (2, 12): [2, 3, 12], (3, 12): [3, 12], (21, 11): [21, 22, 6, 11], (5, 12): [5, 3, 12], (6, 12): [6, 12], (7, 12): [7, 6, 12], (8, 12): [8, 6, 12], (9, 12): [9, 8, 6, 12], (11, 12): [11, 6, 12], (13, 12): [13, 12], (14, 12): [14, 12], (15, 12): [15, 14, 12], (16, 12): [16, 15, 14, 12], (17, 12): [17, 18, 6, 12], (10, 12): [10, 11, 6, 12], (19, 12): [19, 20, 12], (20, 12): [20, 12], (21, 12): [21, 20, 12], (22, 12): [22, 6, 12], (23, 12): [23, 12], (18, 12): [18, 6, 12], (1, 13): [1, 0, 4, 13], (2, 13): [2, 4, 13], (3, 13): [3, 12, 13], (4, 13): [4, 13], (5, 13): [5, 4, 13], (6, 13): [6, 12, 13], (7, 13): [7, 6, 12, 13], (8, 13): [8, 6, 12, 13], (9, 13): [9, 8, 6, 12, 13], (10, 13): [10, 11, 6, 12, 13], (11, 13): [11, 6, 12, 13], (12, 13): [12, 13], (15, 13): [15, 14, 13], (16, 13): [16, 15, 14, 13], (17, 13): [17, 16, 15, 14, 13], (18, 13): [18, 6, 12, 13], (19, 13): [19, 20, 12, 13], (20, 13): [20, 12, 13], (14, 13): [14, 13], (22, 13): [22, 6, 12, 13], (23, 13): [23, 13], (0, 14): [0, 12, 14], (1, 14): [1, 0, 12, 14], (2, 14): [2, 3, 12, 14], (3, 14): [3, 12, 14], (4, 14): [4, 13, 14], (5, 14): [5, 3, 12, 14], (6, 14): [6, 12, 14], (7, 14): [7, 6, 12, 14], (8, 14): [8, 6, 12, 14], (9, 14): [9, 8, 6, 12, 14], (14, 11): [14, 12, 6, 11], (11, 14): [11, 6, 12, 14], (12, 14): [12, 14], (13, 14): [13, 14], (15, 14): [15, 14], (16, 14): [16, 15, 14], (10, 14): [10, 11, 6, 12, 14], (18, 14): [18, 6, 12, 14], (19, 14): [19, 20, 12, 14], (20, 14): [20, 12, 14], (21, 14): [21, 20, 12, 14], (22, 14): [22, 6, 12, 14], (17, 14): [17, 16, 15, 14], (0, 15): [0, 12, 14, 15], (1, 15): [1, 0, 12, 14, 15], (2, 15): [2, 3, 12, 14, 15], (3, 15): [3, 12, 14, 15], (4, 15): [4, 13, 14, 15], (3, 9): [3, 5, 6, 8, 9], (6, 15): [6, 12, 14, 15], (7, 15): [7, 6, 12, 14, 15], (8, 15): [8, 6, 12, 14, 15], (9, 15): [9, 8, 6, 12, 14, 15], (10, 15): [10, 11, 6, 12, 14, 15], (11, 15): [11, 6, 12, 14, 15], (12, 15): [12, 14, 15], (13, 15): [13, 14, 15], (14, 15): [14, 15], (16, 15): [16, 15], (17, 15): [17, 16, 15], (18, 15): [18, 17, 16, 15], (0, 13): [0, 4, 13], (19, 15): [19, 17, 16, 15], (20, 15): [20, 12, 14, 15], (21, 15): [21, 20, 12, 14, 15], (22, 15): [22, 6, 12, 14, 15], (0, 16): [0, 12, 14, 15, 16], (1, 16): [1, 0, 12, 14, 15, 16], (2, 16): [2, 3, 12, 14, 15, 16], (3, 16): [3, 12, 14, 15, 16], (23, 15): [23, 12, 14, 15], (5, 16): [5, 6, 18, 17, 16], (6, 16): [6, 18, 17, 16], (7, 16): [7, 6, 18, 17, 16], (8, 16): [8, 6, 18, 17, 16], (9, 16): [9, 8, 6, 18, 17, 16], (21, 13): [21, 20, 12, 13], (10, 16): [10, 11, 6, 18, 17, 16], (11, 16): [11, 6, 18, 17, 16], (12, 16): [12, 14, 15, 16], (13, 16): [13, 14, 15, 16], (14, 16): [14, 15, 16], (15, 16): [15, 16], (17, 16): [17, 16], (18, 16): [18, 17, 16], (19, 16): [19, 17, 16], (20, 16): [20, 18, 17, 16], (21, 16): [21, 20, 18, 17, 16], (22, 16): [22, 6, 18, 17, 16], (23, 16): [23, 12, 14, 15, 16], (4, 16): [4, 13, 14, 15, 16], (0, 17): [0, 12, 6, 18, 17], (1, 17): [1, 5, 6, 18, 17], (2, 17): [2, 1, 5, 6, 18, 17], (3, 17): [3, 5, 6, 18, 17], (4, 12): [4, 0, 12], (4, 17): [4, 5, 6, 18, 17], (5, 17): [5, 6, 18, 17], (6, 17): [6, 18, 17], (7, 17): [7, 6, 18, 17], (9, 17): [9, 8, 6, 18, 17], (10, 17): [10, 11, 6, 18, 17], (11, 17): [11, 6, 18, 17], (12, 17): [12, 6, 18, 17], (8, 17): [8, 6, 18, 17], (14, 17): [14, 15, 16, 17], (15, 17): [15, 16, 17], (16, 17): [16, 17], (18, 17): [18, 17], (19, 17): [19, 17], (5, 15): [5, 3, 12, 14, 15], (20, 17): [20, 18, 17], (21, 17): [21, 20, 18, 17], (22, 17): [22, 6, 18, 17], (0, 18): [0, 12, 6, 18], (1, 18): [1, 5, 6, 18], (2, 18): [2, 1, 5, 6, 18], (3, 18): [3, 5, 6, 18], (4, 18): [4, 5, 6, 18], (5, 18): [5, 6, 18], (6, 18): [6, 18], (7, 18): [7, 6, 18], (8, 18): [8, 6, 18], (9, 18): [9, 8, 6, 18], (13, 17): [13, 12, 6, 18, 17], (10, 18): [10, 11, 6, 18], (11, 18): [11, 6, 18], (12, 18): [12, 6, 18], (13, 18): [13, 12, 6, 18], (14, 18): [14, 12, 6, 18], (23, 17): [23, 12, 6, 18, 17], (15, 18): [15, 16, 17, 18], (16, 18): [16, 17, 18], (17, 18): [17, 18], (19, 18): [19, 18], (23, 14): [23, 12, 14], (21, 18): [21, 20, 18], (22, 18): [22, 6, 18], (23, 18): [23, 12, 6, 18], (0, 19): [0, 12, 20, 19], (1, 19): [1, 0, 12, 20, 19], (2, 19): [2, 3, 12, 20, 19], (3, 19): [3, 12, 20, 19], (4, 19): [4, 0, 12, 20, 19], (5, 19): [5, 6, 18, 19], (7, 19): [7, 6, 18, 19], (8, 19): [8, 6, 18, 19], (9, 19): [9, 8, 6, 18, 19], (10, 19): [10, 11, 6, 18, 19], (11, 19): [11, 6, 18, 19], (12, 19): [12, 20, 19], (13, 19): [13, 12, 20, 19], (14, 19): [14, 12, 20, 19], (15, 19): [15, 16, 17, 19], (17, 19): [17, 19], (18, 19): [18, 19], (20, 19): [20, 19], (21, 19): [21, 20, 19], (22, 19): [22, 20, 19], (23, 19): [23, 12, 20, 19], (0, 20): [0, 12, 20], (1, 20): [1, 0, 12, 20], (2, 20): [2, 3, 12, 20], (3, 20): [3, 12, 20], (4, 20): [4, 0, 12, 20], (5, 20): [5, 3, 12, 20], (6, 20): [6, 12, 20], (7, 20): [7, 6, 12, 20], (8, 20): [8, 6, 12, 20], (10, 20): [10, 11, 6, 12, 20], (11, 20): [11, 6, 12, 20], (12, 20): [12, 20], (13, 20): [13, 12, 20], (14, 20): [14, 12, 20], (9, 20): [9, 8, 6, 12, 20], (16, 20): [16, 17, 18, 20], (17, 20): [17, 18, 20], (18, 20): [18, 20], (19, 20): [19, 20], (15, 20): [15, 14, 12, 20], (22, 20): [22, 20], (23, 20): [23, 12, 20], (0, 21): [0, 12, 20, 21], (1, 21): [1, 0, 12, 20, 21], (21, 20): [21, 20], (3, 21): [3, 12, 20, 21], (4, 21): [4, 0, 12, 20, 21], (5, 21): [5, 6, 22, 21], (6, 21): [6, 22, 21], (2, 21): [2, 3, 12, 20, 21], (8, 21): [8, 6, 22, 21], (9, 21): [9, 8, 6, 22, 21], (10, 21): [10, 11, 6, 22, 21], (11, 21): [11, 6, 22, 21], (7, 21): [7, 6, 22, 21], (13, 21): [13, 12, 20, 21], (14, 21): [14, 12, 20, 21], (15, 21): [15, 14, 12, 20, 21], (16, 21): [16, 17, 18, 20, 21], (17, 21): [17, 18, 20, 21], (18, 21): [18, 20, 21], (19, 21): [19, 20, 21], (20, 21): [20, 21], (22, 21): [22, 21], (23, 21): [23, 12, 20, 21], (0, 22): [0, 12, 6, 22], (2, 22): [2, 1, 5, 6, 22], (3, 22): [3, 5, 6, 22], (4, 22): [4, 5, 6, 22], (5, 22): [5, 6, 22], (6, 22): [6, 22], (12, 21): [12, 20, 21], (8, 22): [8, 6, 22], (9, 22): [9, 8, 6, 22], (10, 22): [10, 11, 6, 22], (11, 22): [11, 6, 22], (7, 22): [7, 6, 22], (13, 22): [13, 12, 6, 22], (14, 22): [14, 12, 6, 22], (15, 22): [15, 14, 12, 6, 22], (16, 22): [16, 17, 18, 6, 22], (1, 22): [1, 5, 6, 22], (17, 22): [17, 18, 6, 22], (18, 22): [18, 6, 22], (19, 22): [19, 20, 22], (20, 22): [20, 22], (21, 22): [21, 22], (23, 22): [23, 12, 6, 22], (0, 23): [0, 12, 23], (1, 23): [1, 0, 12, 23], (3, 23): [3, 12, 23], (4, 23): [4, 13, 23], (5, 23): [5, 3, 12, 23], (6, 23): [6, 12, 23], (7, 23): [7, 6, 12, 23], (16, 19): [16, 17, 19], (8, 23): [8, 6, 12, 23], (9, 23): [9, 8, 6, 12, 23], (10, 23): [10, 11, 6, 12, 23], (11, 23): [11, 6, 12, 23], (12, 22): [12, 6, 22], (12, 23): [12, 23], (13, 23): [13, 23], (14, 23): [14, 12, 23], (16, 23): [16, 15, 14, 12, 23], (17, 23): [17, 18, 6, 12, 23], (18, 23): [18, 6, 12, 23], (19, 23): [19, 20, 12, 23], (20, 23): [20, 12, 23], (21, 23): [21, 20, 12, 23], (22, 23): [22, 6, 12, 23], (20, 18): [20, 18], (2, 23): [2, 3, 12, 23], (15, 23): [15, 14, 12, 23], (6, 19): [6, 18, 19]}{(1, 0): [1], (2, 0): [2], (3, 0): [3], (4, 0): [4], (5, 0): [5, 25, 32, 33, 36, 4], (6, 0): [6, 2, 0], (7, 0): [7, 3, 0], (8, 0): [8, 6, 2, 0], (9, 0): [9, 7, 3, 0], (10, 0): [10, 9, 7, 3, 0], (11, 0): [11, 10, 9, 7, 3, 0], (12, 0): [12, 11, 10, 9, 7, 3, 0], (13, 0): [13, 12, 11, 10, 9, 7, 3, 0], (14, 0): [14, 13, 12, 11, 10, 9, 7, 3, 0], (15, 0): [15, 16, 11, 10, 9, 7, 3, 0], (16, 0): [16, 11, 10, 9, 7, 3, 0], (17, 0): [17, 11, 10, 9, 7, 3, 0], (18, 0): [18, 10, 9, 7, 3, 0], (19, 0): [19, 17, 11, 10, 9, 7, 3, 0], (20, 0): [20, 19, 17, 11, 10, 9, 7, 3, 0], (21, 0): [21, 22, 23, 24, 8, 6, 2, 0], (22, 0): [22, 23, 24, 8, 6, 2, 0], (23, 0): [23, 24, 8, 6, 2, 0], (24, 0): [24, 8, 6, 2, 0], (25, 0): [25, 4, 1, 0], (26, 0): [26, 33, 36, 37, 0], (28, 0): [28, 27, 33, 36, 37, 0], (27, 0): [27, 33, 36, 37, 0], (29, 0): [29, 28, 27, 33, 36, 37, 0], (30, 0): [30, 24, 8, 6, 2, 0], (31, 0): [31, 32, 25, 4, 1, 0], (32, 0): [32, 25, 4, 1, 0], (33, 0): [33, 36, 37, 0], (35, 0): [35, 21, 22, 23, 24, 8, 6, 2, 0], (36, 0): [36, 37, 0], (37, 0): [37, 0], (0, 1): [0], (2, 1): [2], (4, 1): [4], (5, 1): [5, 25, 32, 33, 36, 4], (3, 1): [3], (6, 1): [6, 2, 1], (7, 1): [7, 3, 0, 1], (8, 1): [8, 6, 2, 1], (9, 1): [9, 7, 3, 0, 1], (11, 1): [11, 10, 9, 7, 3, 0, 1], (12, 1): [12, 11, 10, 9, 7, 3, 0, 1], (13, 1): [13, 12, 11, 10, 9, 7, 3, 0, 1], (34, 0): [34, 29, 28, 27, 33, 36, 37, 0], (10, 1): [10, 9, 7, 3, 0, 1], (14, 1): [14, 13, 12, 11, 10, 9, 7, 3, 0, 1], (15, 1): [15, 16, 11, 10, 9, 7, 3, 0, 1], (16, 1): [16, 11, 10, 9, 7, 3, 0, 1], (17, 1): [17, 18, 23, 24, 25, 4, 1], (19, 1): [19, 17, 18, 23, 24, 25, 4, 1], (20, 1): [20, 21, 22, 23, 24, 25, 4, 1], (21, 1): [21, 22, 23, 24, 25, 4, 1], (22, 1): [22, 23, 24, 25, 4, 1], (23, 1): [23, 24, 25, 4, 1], (18, 1): [18, 23, 24, 25, 4, 1], (25, 1): [25, 4, 1], (26, 1): [26, 33, 36, 4, 1], (27, 1): [27, 33, 36, 4, 1], (28, 1): [28, 27, 33, 36, 4, 1], (29, 1): [29, 28, 27, 33, 36, 4, 1], (30, 1): [30, 24, 25, 4, 1], (24, 1): [24, 25, 4, 1], (31, 1): [31, 32, 25, 4, 1], (32, 1): [32, 25, 4, 1], (33, 1): [33, 36, 4, 1], (34, 1): [34, 29, 28, 27, 33, 36, 4, 1], (35, 1): [35, 21, 22, 23, 24, 25, 4, 1], (36, 1): [36, 4, 1], (37, 1): [37, 0, 1], (0, 2): [0], (1, 2): [1], (3, 2): [3], (4, 2): [4], (5, 2): [5, 25, 32, 33, 36, 4], (6, 2): [6, 2], (7, 2): [7, 3, 2], (8, 2): [8, 6, 2], (9, 2): [9, 7, 3, 2], (10, 2): [10, 9, 7, 3, 2], (11, 2): [11, 10, 9, 7, 3, 2], (12, 2): [12, 11, 10, 9, 7, 3, 2], (13, 2): [13, 12, 11, 10, 9, 7, 3, 2], (14, 2): [14, 13, 12, 11, 10, 9, 7, 3, 2], (15, 2): [15, 16, 11, 10, 9, 7, 3, 2], (16, 2): [16, 11, 10, 9, 7, 3, 2], (17, 2): [17, 11, 10, 9, 7, 3, 2], (18, 2): [18, 10, 9, 7, 3, 2], (19, 2): [19, 17, 11, 10, 9, 7, 3, 2], (20, 2): [20, 21, 22, 23, 24, 8, 6, 2], (21, 2): [21, 22, 23, 24, 8, 6, 2], (22, 2): [22, 23, 24, 8, 6, 2], (23, 2): [23, 24, 8, 6, 2], (24, 2): [24, 8, 6, 2], (25, 2): [25, 5, 2], (26, 2): [26, 33, 32, 25, 5, 2], (27, 2): [27, 33, 32, 25, 5, 2], (28, 2): [28, 27, 33, 32, 25, 5, 2], (29, 2): [29, 28, 27, 33, 32, 25, 5, 2], (30, 2): [30, 24, 8, 6, 2], (31, 2): [31, 32, 25, 5, 2], (32, 2): [32, 25, 5, 2], (33, 2): [33, 32, 25, 5, 2], (34, 2): [34, 29, 28, 27, 33, 32, 25, 5, 2], (35, 2): [35, 21, 22, 23, 24, 8, 6, 2], (36, 2): [36, 4, 1, 2], (37, 2): [37, 0, 2], (0, 3): [0], (1, 3): [1], (2, 3): [2], (4, 3): [4], (5, 3): [5, 25, 32, 33, 36, 4], (6, 3): [6, 2, 3], (7, 3): [7, 3], (8, 3): [8, 6, 2, 3], (9, 3): [9, 7, 3], (10, 3): [10, 9, 7, 3], (11, 3): [11, 10, 9, 7, 3], (12, 3): [12, 11, 10, 9, 7, 3], (13, 3): [13, 12, 11, 10, 9, 7, 3], (14, 3): [14, 13, 12, 11, 10, 9, 7, 3], (15, 3): [15, 16, 11, 10, 9, 7, 3], (16, 3): [16, 11, 10, 9, 7, 3], (17, 3): [17, 11, 10, 9, 7, 3], (18, 3): [18, 10, 9, 7, 3], (19, 3): [19, 17, 11, 10, 9, 7, 3], (20, 3): [20, 19, 17, 11, 10, 9, 7, 3], (21, 3): [21, 22, 23, 18, 10, 9, 7, 3], (22, 3): [22, 23, 18, 10, 9, 7, 3], (23, 3): [23, 18, 10, 9, 7, 3], (24, 3): [24, 8, 6, 2, 3], (25, 3): [25, 5, 2, 3], (26, 3): [26, 33, 36, 37, 0, 3], (27, 3): [27, 33, 36, 37, 0, 3], (28, 3): [28, 27, 33, 36, 37, 0, 3], (29, 3): [29, 28, 27, 33, 36, 37, 0, 3], (30, 3): [30, 24, 8, 6, 2, 3], (31, 3): [31, 32, 25, 5, 2, 3], (32, 3): [32, 25, 5, 2, 3], (33, 3): [33, 36, 37, 0, 3], (34, 3): [34, 29, 28, 27, 33, 36, 37, 0, 3], (35, 3): [35, 21, 22, 23, 18, 10, 9, 7, 3], (36, 3): [36, 37, 0, 3], (37, 3): [37, 0, 3], (0, 4): [0], (1, 4): [1], (2, 4): [2], (3, 4): [3], (5, 4): [5, 25, 32, 33, 36, 4], (6, 4): [6, 5, 4], (7, 4): [7, 6, 5, 4], (8, 4): [8, 6, 5, 4], (9, 4): [9, 7, 6, 5, 4], (10, 4): [10, 9, 7, 6, 5, 4], (11, 4): [11, 10, 9, 7, 6, 5, 4], (12, 4): [12, 11, 10, 9, 7, 6, 5, 4], (13, 4): [13, 12, 11, 10, 9, 7, 6, 5, 4], (14, 4): [14, 13, 12, 11, 10, 9, 7, 6, 5, 4], (15, 4): [15, 16, 11, 10, 9, 7, 6, 5, 4], (16, 4): [16, 11, 10, 9, 7, 6, 5, 4], (17, 4): [17, 18, 23, 24, 25, 4], (18, 4): [18, 23, 24, 25, 4], (19, 4): [19, 17, 18, 23, 24, 25, 4], (20, 4): [20, 21, 22, 23, 24, 25, 4], (21, 4): [21, 22, 23, 24, 25, 4], (22, 4): [22, 23, 24, 25, 4], (23, 4): [23, 24, 25, 4], (24, 4): [24, 25, 4], (25, 4): [25, 4], (26, 4): [26, 33, 36, 4], (27, 4): [27, 33, 36, 4], (28, 4): [28, 27, 33, 36, 4], (29, 4): [29, 28, 27, 33, 36, 4], (30, 4): [30, 24, 25, 4], (31, 4): [31, 32, 25, 4], (32, 4): [32, 25, 4], (33, 4): [33, 36, 4], (34, 4): [34, 29, 28, 27, 33, 36, 4], (35, 4): [35, 21, 22, 23, 24, 25, 4], (36, 4): [36, 4], (37, 4): [37, 36, 4], (0, 5): [0], (1, 5): [1], (2, 5): [2], (3, 5): [3], (4, 5): [4, 36, 33, 32, 25, 5], (6, 5): [6, 5], (7, 5): [7, 6, 5], (8, 5): [8, 6, 5], (9, 5): [9, 7, 6, 5], (10, 5): [10, 9, 7, 6, 5], (11, 5): [11, 10, 9, 7, 6, 5], (12, 5): [12, 11, 10, 9, 7, 6, 5], (13, 5): [13, 12, 11, 10, 9, 7, 6, 5], (14, 5): [14, 13, 12, 11, 10, 9, 7, 6, 5], (15, 5): [15, 16, 11, 10, 9, 7, 6, 5], (16, 5): [16, 11, 10, 9, 7, 6, 5], (17, 5): [17, 18, 23, 24, 25, 5], (18, 5): [18, 23, 24, 25, 5], (19, 5): [19, 17, 18, 23, 24, 25, 5], (20, 5): [20, 21, 22, 23, 24, 25, 5], (21, 5): [21, 22, 23, 24, 25, 5], (22, 5): [22, 23, 24, 25, 5], (23, 5): [23, 24, 25, 5], (24, 5): [24, 25, 5], (25, 5): [25, 5], (26, 5): [26, 33, 32, 25, 5], (27, 5): [27, 33, 32, 25, 5], (28, 5): [28, 27, 33, 32, 25, 5], (29, 5): [29, 28, 27, 33, 32, 25, 5], (30, 5): [30, 24, 25, 5], (31, 5): [31, 32, 25, 5], (32, 5): [32, 25, 5], (33, 5): [33, 32, 25, 5], (34, 5): [34, 29, 28, 27, 33, 32, 25, 5], (35, 5): [35, 21, 22, 23, 24, 25, 5], (36, 5): [36, 4, 5], (37, 5): [37, 0, 2, 5], (0, 6): [0, 2, 6], (1, 6): [1, 2, 6], (2, 6): [2, 6], (3, 6): [3, 2, 6], (4, 6): [4, 5, 6], (5, 6): [5, 6], (7, 6): [7, 6], (8, 6): [8, 6], (9, 6): [9, 7, 6], (10, 6): [10, 9, 7, 6], (11, 6): [11, 10, 9, 7, 6], (12, 6): [12, 11, 10, 9, 7, 6], (13, 6): [13, 12, 11, 10, 9, 7, 6], (14, 6): [14, 13, 12, 11, 10, 9, 7, 6], (15, 6): [15, 16, 11, 10, 9, 7, 6], (16, 6): [16, 11, 10, 9, 7, 6], (17, 6): [17, 11, 10, 9, 7, 6], (18, 6): [18, 10, 9, 7, 6], (19, 6): [19, 17, 11, 10, 9, 7, 6], (20, 6): [20, 21, 22, 23, 24, 8, 6], (21, 6): [21, 22, 23, 24, 8, 6], (22, 6): [22, 23, 24, 8, 6], (23, 6): [23, 24, 8, 6], (24, 6): [24, 8, 6], (25, 6): [25, 5, 6], (26, 6): [26, 33, 32, 25, 5, 6], (27, 6): [27, 33, 32, 25, 5, 6], (28, 6): [28, 27, 33, 32, 25, 5, 6], (29, 6): [29, 28, 27, 33, 32, 25, 5, 6], (30, 6): [30, 24, 8, 6], (31, 6): [31, 30, 24, 8, 6], (32, 6): [32, 25, 5, 6], (33, 6): [33, 32, 25, 5, 6], (34, 6): [34, 35, 21, 22, 23, 24, 8, 6], (35, 6): [35, 21, 22, 23, 24, 8, 6], (36, 6): [36, 4, 5, 6], (37, 6): [37, 0, 2, 6], (10, 7): [10, 9, 7], (0, 7): [0, 3, 7], (1, 7): [1, 0, 3, 7], (2, 7): [2, 3, 7], (4, 7): [4, 5, 6, 7], (5, 7): [5, 6, 7], (16, 7): [16, 11, 10, 9, 7], (6, 7): [6, 7], (8, 7): [8, 6, 7], (11, 7): [11, 10, 9, 7], (12, 7): [12, 11, 10, 9, 7], (13, 7): [13, 12, 11, 10, 9, 7], (14, 7): [14, 13, 12, 11, 10, 9, 7], (3, 7): [3, 7], (15, 7): [15, 16, 11, 10, 9, 7], (17, 7): [17, 11, 10, 9, 7], (18, 7): [18, 10, 9, 7], (19, 7): [19, 17, 11, 10, 9, 7], (9, 7): [9, 7], (20, 7): [20, 19, 17, 11, 10, 9, 7], (21, 7): [21, 22, 23, 18, 10, 9, 7], (22, 7): [22, 23, 18, 10, 9, 7], (23, 7): [23, 18, 10, 9, 7], (24, 7): [24, 8, 6, 7], (25, 7): [25, 5, 6, 7], (26, 7): [26, 33, 32, 25, 5, 6, 7], (27, 7): [27, 33, 32, 25, 5, 6, 7], (28, 7): [28, 27, 33, 32, 25, 5, 6, 7], (29, 7): [29, 28, 27, 33, 32, 25, 5, 6, 7], (30, 7): [30, 24, 8, 6, 7], (31, 7): [31, 30, 24, 8, 6, 7], (32, 7): [32, 25, 5, 6, 7], (33, 7): [33, 32, 25, 5, 6, 7], (34, 7): [34, 35, 21, 22, 23, 18, 10, 9, 7], (35, 7): [35, 21, 22, 23, 18, 10, 9, 7], (36, 7): [36, 4, 5, 6, 7], (37, 7): [37, 0, 3, 7], (0, 8): [0, 2, 6, 8], (1, 8): [1, 2, 6, 8], (2, 8): [2, 6, 8], (3, 8): [3, 2, 6, 8], (4, 8): [4, 5, 6, 8], (5, 8): [5, 6, 8], (6, 8): [6, 8], (17, 8): [17, 18, 23, 24, 8], (9, 8): [9, 7, 6, 8], (10, 8): [10, 9, 7, 6, 8], (11, 8): [11, 10, 9, 7, 6, 8], (12, 8): [12, 11, 10, 9, 7, 6, 8], (13, 8): [13, 12, 11, 10, 9, 7, 6, 8], (14, 8): [14, 13, 12, 11, 10, 9, 7, 6, 8], (15, 8): [15, 16, 11, 10, 9, 7, 6, 8], (16, 8): [16, 11, 10, 9, 7, 6, 8], (7, 8): [7, 6, 8], (18, 8): [18, 23, 24, 8], (19, 8): [19, 17, 18, 23, 24, 8], (29, 8): [29, 28, 27, 33, 32, 25, 24, 8], (20, 8): [20, 21, 22, 23, 24, 8], (21, 8): [21, 22, 23, 24, 8], (22, 8): [22, 23, 24, 8], (23, 8): [23, 24, 8], (24, 8): [24, 8], (25, 8): [25, 24, 8], (26, 8): [26, 33, 32, 25, 24, 8], (27, 8): [27, 33, 32, 25, 24, 8], (28, 8): [28, 27, 33, 32, 25, 24, 8], (30, 8): [30, 24, 8], (31, 8): [31, 30, 24, 8], (32, 8): [32, 25, 24, 8], (33, 8): [33, 32, 25, 24, 8], (34, 8): [34, 35, 21, 22, 23, 24, 8], (35, 8): [35, 21, 22, 23, 24, 8], (36, 8): [36, 4, 5, 6, 8], (37, 8): [37, 0, 2, 6, 8], (0, 9): [0, 3, 7, 9], (1, 9): [1, 0, 3, 7, 9], (2, 9): [2, 3, 7, 9], (3, 9): [3, 7, 9], (5, 9): [5, 6, 7, 9], (6, 9): [6, 7, 9], (7, 9): [7, 9], (8, 9): [8, 6, 7, 9], (10, 9): [10, 9], (11, 9): [11, 10, 9], (20, 9): [20, 19, 17, 11, 10, 9], (13, 9): [13, 12, 11, 10, 9], (14, 9): [14, 13, 12, 11, 10, 9], (4, 9): [4, 5, 6, 7, 9], (15, 9): [15, 16, 11, 10, 9], (16, 9): [16, 11, 10, 9], (17, 9): [17, 11, 10, 9], (18, 9): [18, 10, 9], (19, 9): [19, 17, 11, 10, 9], (12, 9): [12, 11, 10, 9], (21, 9): [21, 22, 23, 18, 10, 9], (22, 9): [22, 23, 18, 10, 9], (23, 9): [23, 18, 10, 9], (24, 9): [24, 8, 6, 7, 9], (25, 9): [25, 5, 6, 7, 9], (26, 9): [26, 33, 32, 25, 5, 6, 7, 9], (27, 9): [27, 33, 32, 25, 5, 6, 7, 9], (28, 9): [28, 27, 33, 32, 25, 5, 6, 7, 9], (29, 9): [29, 34, 35, 21, 22, 23, 18, 10, 9], (30, 9): [30, 24, 8, 6, 7, 9], (31, 9): [31, 22, 23, 18, 10, 9], (32, 9): [32, 25, 5, 6, 7, 9], (33, 9): [33, 32, 25, 5, 6, 7, 9], (34, 9): [34, 35, 21, 22, 23, 18, 10, 9], (35, 9): [35, 21, 22, 23, 18, 10, 9], (36, 9): [36, 4, 5, 6, 7, 9], (37, 9): [37, 0, 3, 7, 9], (0, 10): [0, 3, 7, 9, 10], (1, 10): [1, 0, 3, 7, 9, 10], (2, 10): [2, 3, 7, 9, 10], (3, 10): [3, 7, 9, 10], (4, 10): [4, 5, 6, 7, 9, 10], (5, 10): [5, 6, 7, 9, 10], (6, 10): [6, 7, 9, 10], (7, 10): [7, 9, 10], (8, 10): [8, 6, 7, 9, 10], (9, 10): [9, 10], (11, 10): [11, 10], (12, 10): [12, 11, 10], (13, 10): [13, 12, 11, 10], (14, 10): [14, 13, 12, 11, 10], (15, 10): [15, 16, 11, 10], (16, 10): [16, 11, 10], (17, 10): [17, 11, 10], (18, 10): [18, 10], (19, 10): [19, 17, 11, 10], (20, 10): [20, 19, 17, 11, 10], (21, 10): [21, 22, 23, 18, 10], (22, 10): [22, 23, 18, 10], (23, 10): [23, 18, 10], (24, 10): [24, 23, 18, 10], (25, 10): [25, 24, 23, 18, 10], (26, 10): [26, 33, 32, 25, 24, 23, 18, 10], (27, 10): [27, 33, 32, 25, 24, 23, 18, 10], (37, 10): [37, 0, 3, 7, 9, 10], (28, 10): [28, 27, 33, 32, 25, 24, 23, 18, 10], (29, 10): [29, 34, 35, 21, 22, 23, 18, 10], (30, 10): [30, 24, 23, 18, 10], (31, 10): [31, 22, 23, 18, 10], (32, 10): [32, 25, 24, 23, 18, 10], (33, 10): [33, 32, 25, 24, 23, 18, 10], (34, 10): [34, 35, 21, 22, 23, 18, 10], (35, 10): [35, 21, 22, 23, 18, 10], (36, 10): [36, 4, 5, 6, 7, 9, 10], (0, 11): [0, 3, 7, 9, 10, 11], (1, 11): [1, 0, 3, 7, 9, 10, 11], (2, 11): [2, 3, 7, 9, 10, 11], (3, 11): [3, 7, 9, 10, 11], (4, 11): [4, 5, 6, 7, 9, 10, 11], (5, 11): [5, 6, 7, 9, 10, 11], (6, 11): [6, 7, 9, 10, 11], (7, 11): [7, 9, 10, 11], (8, 11): [8, 6, 7, 9, 10, 11], (9, 11): [9, 10, 11], (10, 11): [10, 11], (12, 11): [12, 11], (13, 11): [13, 12, 11], (14, 11): [14, 13, 12, 11], (15, 11): [15, 16, 11], (16, 11): [16, 11], (17, 11): [17, 11], (18, 11): [18, 10, 11], (19, 11): [19, 17, 11], (20, 11): [20, 19, 17, 11], (21, 11): [21, 20, 19, 17, 11], (22, 11): [22, 23, 18, 10, 11], (23, 11): [23, 18, 10, 11], (24, 11): [24, 23, 18, 10, 11], (25, 11): [25, 24, 23, 18, 10, 11], (26, 11): [26, 33, 32, 25, 24, 23, 18, 10, 11], (27, 11): [27, 33, 32, 25, 24, 23, 18, 10, 11], (28, 11): [28, 29, 34, 35, 21, 20, 19, 17, 11], (29, 11): [29, 34, 35, 21, 20, 19, 17, 11], (30, 11): [30, 24, 23, 18, 10, 11], (31, 11): [31, 22, 23, 18, 10, 11], (32, 11): [32, 25, 24, 23, 18, 10, 11], (33, 11): [33, 32, 25, 24, 23, 18, 10, 11], (34, 11): [34, 35, 21, 20, 19, 17, 11], (35, 11): [35, 21, 20, 19, 17, 11], (36, 11): [36, 4, 5, 6, 7, 9, 10, 11], (37, 11): [37, 0, 3, 7, 9, 10, 11], (0, 12): [0, 3, 7, 9, 10, 11, 12], (1, 12): [1, 0, 3, 7, 9, 10, 11, 12], (2, 12): [2, 3, 7, 9, 10, 11, 12], (3, 12): [3, 7, 9, 10, 11, 12], (4, 12): [4, 5, 6, 7, 9, 10, 11, 12], (5, 12): [5, 6, 7, 9, 10, 11, 12], (6, 12): [6, 7, 9, 10, 11, 12], (7, 12): [7, 9, 10, 11, 12], (8, 12): [8, 6, 7, 9, 10, 11, 12], (9, 12): [9, 10, 11, 12], (10, 12): [10, 11, 12], (11, 12): [11, 12], (13, 12): [13, 12], (14, 12): [14, 13, 12], (15, 12): [15, 14, 13, 12], (16, 12): [16, 11, 12], (17, 12): [17, 11, 12], (18, 12): [18, 10, 11, 12], (19, 12): [19, 17, 11, 12], (20, 12): [20, 19, 17, 11, 12], (21, 12): [21, 20, 19, 17, 11, 12], (22, 12): [22, 23, 18, 10, 11, 12], (23, 12): [23, 18, 10, 11, 12], (24, 12): [24, 23, 18, 10, 11, 12], (25, 12): [25, 24, 23, 18, 10, 11, 12], (26, 12): [26, 33, 32, 25, 24, 23, 18, 10, 11, 12], (27, 12): [27, 33, 32, 25, 24, 23, 18, 10, 11, 12], (28, 12): [28, 29, 34, 35, 21, 20, 19, 17, 11, 12], (29, 12): [29, 34, 35, 21, 20, 19, 17, 11, 12], (30, 12): [30, 24, 23, 18, 10, 11, 12], (31, 12): [31, 22, 23, 18, 10, 11, 12], (32, 12): [32, 25, 24, 23, 18, 10, 11, 12], (33, 12): [33, 32, 25, 24, 23, 18, 10, 11, 12], (34, 12): [34, 35, 21, 20, 19, 17, 11, 12], (35, 12): [35, 21, 20, 19, 17, 11, 12], (36, 12): [36, 4, 5, 6, 7, 9, 10, 11, 12], (37, 12): [37, 0, 3, 7, 9, 10, 11, 12], (0, 13): [0, 3, 7, 9, 10, 11, 12, 13], (1, 13): [1, 0, 3, 7, 9, 10, 11, 12, 13], (2, 13): [2, 3, 7, 9, 10, 11, 12, 13], (3, 13): [3, 7, 9, 10, 11, 12, 13], (4, 13): [4, 5, 6, 7, 9, 10, 11, 12, 13], (5, 13): [5, 6, 7, 9, 10, 11, 12, 13], (6, 13): [6, 7, 9, 10, 11, 12, 13], (7, 13): [7, 9, 10, 11, 12, 13], (8, 13): [8, 6, 7, 9, 10, 11, 12, 13], (9, 13): [9, 10, 11, 12, 13], (10, 13): [10, 11, 12, 13], (11, 13): [11, 12, 13], (12, 13): [12, 13], (14, 13): [14, 13], (15, 13): [15, 14, 13], (16, 13): [16, 11, 12, 13], (17, 13): [17, 11, 12, 13], (18, 13): [18, 10, 11, 12, 13], (19, 13): [19, 17, 11, 12, 13], (20, 13): [20, 19, 17, 11, 12, 13], (21, 13): [21, 20, 19, 17, 11, 12, 13], (22, 13): [22, 23, 18, 10, 11, 12, 13], (23, 13): [23, 18, 10, 11, 12, 13], (24, 13): [24, 23, 18, 10, 11, 12, 13], (25, 13): [25, 24, 23, 18, 10, 11, 12, 13], (26, 13): [26, 33, 32, 25, 24, 23, 18, 10, 11, 12, 13], (27, 13): [27, 33, 32, 25, 24, 23, 18, 10, 11, 12, 13], (28, 13): [28, 29, 34, 35, 21, 20, 19, 17, 11, 12, 13], (29, 13): [29, 34, 35, 21, 20, 19, 17, 11, 12, 13], (30, 13): [30, 24, 23, 18, 10, 11, 12, 13], (31, 13): [31, 22, 23, 18, 10, 11, 12, 13], (32, 13): [32, 25, 24, 23, 18, 10, 11, 12, 13], (33, 13): [33, 32, 25, 24, 23, 18, 10, 11, 12, 13], (34, 13): [34, 35, 21, 20, 19, 17, 11, 12, 13], (35, 13): [35, 21, 20, 19, 17, 11, 12, 13], (36, 13): [36, 4, 5, 6, 7, 9, 10, 11, 12, 13], (37, 13): [37, 0, 3, 7, 9, 10, 11, 12, 13], (0, 14): [0, 3, 7, 9, 10, 11, 12, 13, 14], (1, 14): [1, 0, 3, 7, 9, 10, 11, 12, 13, 14], (2, 14): [2, 3, 7, 9, 10, 11, 12, 13, 14], (3, 14): [3, 7, 9, 10, 11, 12, 13, 14], (4, 14): [4, 5, 6, 7, 9, 10, 11, 12, 13, 14], (5, 14): [5, 6, 7, 9, 10, 11, 12, 13, 14], (6, 14): [6, 7, 9, 10, 11, 12, 13, 14], (7, 14): [7, 9, 10, 11, 12, 13, 14], (8, 14): [8, 6, 7, 9, 10, 11, 12, 13, 14], (9, 14): [9, 10, 11, 12, 13, 14], (10, 14): [10, 11, 12, 13, 14], (11, 14): [11, 12, 13, 14], (12, 14): [12, 13, 14], (13, 14): [13, 14], (15, 14): [15, 14], (16, 14): [16, 15, 14], (17, 14): [17, 11, 12, 13, 14], (18, 14): [18, 10, 11, 12, 13, 14], (19, 14): [19, 17, 11, 12, 13, 14], (20, 14): [20, 19, 17, 11, 12, 13, 14], (21, 14): [21, 20, 19, 17, 11, 12, 13, 14], (22, 14): [22, 23, 18, 10, 11, 12, 13, 14], (23, 14): [23, 18, 10, 11, 12, 13, 14], (24, 14): [24, 23, 18, 10, 11, 12, 13, 14], (25, 14): [25, 24, 23, 18, 10, 11, 12, 13, 14], (26, 14): [26, 33, 32, 25, 24, 23, 18, 10, 11, 12, 13, 14], (27, 14): [27, 33, 32, 25, 24, 23, 18, 10, 11, 12, 13, 14], (28, 14): [28, 29, 34, 35, 21, 20, 19, 17, 11, 12, 13, 14], (29, 14): [29, 34, 35, 21, 20, 19, 17, 11, 12, 13, 14], (30, 14): [30, 24, 23, 18, 10, 11, 12, 13, 14], (31, 14): [31, 22, 23, 18, 10, 11, 12, 13, 14], (32, 14): [32, 25, 24, 23, 18, 10, 11, 12, 13, 14], (33, 14): [33, 32, 25, 24, 23, 18, 10, 11, 12, 13, 14], (34, 14): [34, 35, 21, 20, 19, 17, 11, 12, 13, 14], (35, 14): [35, 21, 20, 19, 17, 11, 12, 13, 14], (36, 14): [36, 4, 5, 6, 7, 9, 10, 11, 12, 13, 14], (37, 14): [37, 0, 3, 7, 9, 10, 11, 12, 13, 14], (0, 15): [0, 3, 7, 9, 10, 11, 16, 15], (1, 15): [1, 0, 3, 7, 9, 10, 11, 16, 15], (2, 15): [2, 3, 7, 9, 10, 11, 16, 15], (3, 15): [3, 7, 9, 10, 11, 16, 15], (4, 15): [4, 5, 6, 7, 9, 10, 11, 16, 15], (5, 15): [5, 6, 7, 9, 10, 11, 16, 15], (6, 15): [6, 7, 9, 10, 11, 16, 15], (7, 15): [7, 9, 10, 11, 16, 15], (8, 15): [8, 6, 7, 9, 10, 11, 16, 15], (9, 15): [9, 10, 11, 16, 15], (10, 15): [10, 11, 16, 15], (11, 15): [11, 16, 15], (12, 15): [12, 11, 16, 15], (13, 15): [13, 14, 15], (14, 15): [14, 15], (16, 15): [16, 15], (17, 15): [17, 11, 16, 15], (18, 15): [18, 10, 11, 16, 15], (19, 15): [19, 17, 11, 16, 15], (20, 15): [20, 19, 17, 11, 16, 15], (21, 15): [21, 20, 19, 17, 11, 16, 15], (22, 15): [22, 23, 18, 10, 11, 16, 15], (23, 15): [23, 18, 10, 11, 16, 15], (24, 15): [24, 23, 18, 10, 11, 16, 15], (25, 15): [25, 24, 23, 18, 10, 11, 16, 15], (26, 15): [26, 33, 32, 25, 24, 23, 18, 10, 11, 16, 15], (27, 15): [27, 33, 32, 25, 24, 23, 18, 10, 11, 16, 15], (28, 15): [28, 29, 34, 35, 21, 20, 19, 17, 11, 16, 15], (29, 15): [29, 34, 35, 21, 20, 19, 17, 11, 16, 15], (30, 15): [30, 24, 23, 18, 10, 11, 16, 15], (31, 15): [31, 22, 23, 18, 10, 11, 16, 15], (32, 15): [32, 25, 24, 23, 18, 10, 11, 16, 15], (33, 15): [33, 32, 25, 24, 23, 18, 10, 11, 16, 15], (34, 15): [34, 35, 21, 20, 19, 17, 11, 16, 15], (35, 15): [35, 21, 20, 19, 17, 11, 16, 15], (36, 15): [36, 4, 5, 6, 7, 9, 10, 11, 16, 15], (37, 15): [37, 0, 3, 7, 9, 10, 11, 16, 15], (0, 16): [0, 3, 7, 9, 10, 11, 16], (1, 16): [1, 0, 3, 7, 9, 10, 11, 16], (2, 16): [2, 3, 7, 9, 10, 11, 16], (3, 16): [3, 7, 9, 10, 11, 16], (4, 16): [4, 5, 6, 7, 9, 10, 11, 16], (5, 16): [5, 6, 7, 9, 10, 11, 16], (6, 16): [6, 7, 9, 10, 11, 16], (7, 16): [7, 9, 10, 11, 16], (8, 16): [8, 6, 7, 9, 10, 11, 16], (9, 16): [9, 10, 11, 16], (10, 16): [10, 11, 16], (11, 16): [11, 16], (12, 16): [12, 11, 16], (13, 16): [13, 12, 11, 16], (14, 16): [14, 15, 16], (15, 16): [15, 16], (17, 16): [17, 11, 16], (18, 16): [18, 10, 11, 16], (19, 16): [19, 17, 11, 16], (20, 16): [20, 19, 17, 11, 16], (21, 16): [21, 20, 19, 17, 11, 16], (22, 16): [22, 23, 18, 10, 11, 16], (23, 16): [23, 18, 10, 11, 16], (24, 16): [24, 23, 18, 10, 11, 16], (25, 16): [25, 24, 23, 18, 10, 11, 16], (26, 16): [26, 33, 32, 25, 24, 23, 18, 10, 11, 16], (27, 16): [27, 33, 32, 25, 24, 23, 18, 10, 11, 16], (28, 16): [28, 29, 34, 35, 21, 20, 19, 17, 11, 16], (29, 16): [29, 34, 35, 21, 20, 19, 17, 11, 16], (30, 16): [30, 24, 23, 18, 10, 11, 16], (31, 16): [31, 22, 23, 18, 10, 11, 16], (32, 16): [32, 25, 24, 23, 18, 10, 11, 16], (33, 16): [33, 32, 25, 24, 23, 18, 10, 11, 16], (5, 17): [5, 25, 24, 23, 18, 17], (35, 16): [35, 21, 20, 19, 17, 11, 16], (36, 16): [36, 4, 5, 6, 7, 9, 10, 11, 16], (37, 16): [37, 0, 3, 7, 9, 10, 11, 16], (0, 17): [0, 3, 7, 9, 10, 11, 17], (1, 17): [1, 4, 25, 24, 23, 18, 17], (2, 17): [2, 3, 7, 9, 10, 11, 17], (3, 17): [3, 7, 9, 10, 11, 17], (4, 17): [4, 25, 24, 23, 18, 17], (34, 16): [34, 35, 21, 20, 19, 17, 11, 16], (6, 17): [6, 7, 9, 10, 11, 17], (7, 17): [7, 9, 10, 11, 17], (8, 17): [8, 24, 23, 18, 17], (9, 17): [9, 10, 11, 17], (10, 17): [10, 11, 17], (11, 17): [11, 17], (12, 17): [12, 11, 17], (13, 17): [13, 12, 11, 17], (14, 17): [14, 13, 12, 11, 17], (15, 17): [15, 16, 11, 17], (16, 17): [16, 11, 17], (18, 17): [18, 17], (19, 17): [19, 17], (20, 17): [20, 19, 17], (22, 17): [22, 23, 18, 17], (23, 17): [23, 18, 17], (24, 17): [24, 23, 18, 17], (25, 17): [25, 24, 23, 18, 17], (26, 17): [26, 33, 32, 25, 24, 23, 18, 17], (27, 17): [27, 33, 32, 25, 24, 23, 18, 17], (28, 17): [28, 29, 34, 35, 21, 20, 19, 17], (29, 17): [29, 34, 35, 21, 20, 19, 17], (30, 17): [30, 24, 23, 18, 17], (21, 17): [21, 20, 19, 17], (31, 17): [31, 22, 23, 18, 17], (32, 17): [32, 25, 24, 23, 18, 17], (33, 17): [33, 32, 25, 24, 23, 18, 17], (34, 17): [34, 35, 21, 20, 19, 17], (35, 17): [35, 21, 20, 19, 17], (36, 17): [36, 4, 25, 24, 23, 18, 17], (37, 17): [37, 0, 3, 7, 9, 10, 11, 17], (0, 18): [0, 3, 7, 9, 10, 18], (1, 18): [1, 4, 25, 24, 23, 18], (2, 18): [2, 3, 7, 9, 10, 18], (3, 18): [3, 7, 9, 10, 18], (4, 18): [4, 25, 24, 23, 18], (5, 18): [5, 25, 24, 23, 18], (6, 18): [6, 7, 9, 10, 18], (7, 18): [7, 9, 10, 18], (8, 18): [8, 24, 23, 18], (9, 18): [9, 10, 18], (10, 18): [10, 18], (11, 18): [11, 10, 18], (12, 18): [12, 11, 10, 18], (13, 18): [13, 12, 11, 10, 18], (14, 18): [14, 13, 12, 11, 10, 18], (15, 18): [15, 16, 11, 10, 18], (16, 18): [16, 11, 10, 18], (17, 18): [17, 18], (19, 18): [19, 17, 18], (20, 18): [20, 19, 17, 18], (21, 18): [21, 22, 23, 18], (22, 18): [22, 23, 18], (23, 18): [23, 18], (24, 18): [24, 23, 18], (25, 18): [25, 24, 23, 18], (26, 18): [26, 33, 32, 25, 24, 23, 18], (27, 18): [27, 33, 32, 25, 24, 23, 18], (28, 18): [28, 27, 33, 32, 25, 24, 23, 18], (29, 18): [29, 34, 35, 21, 22, 23, 18], (30, 18): [30, 24, 23, 18], (31, 18): [31, 22, 23, 18], (32, 18): [32, 25, 24, 23, 18], (33, 18): [33, 32, 25, 24, 23, 18], (34, 18): [34, 35, 21, 22, 23, 18], (35, 18): [35, 21, 22, 23, 18], (36, 18): [36, 4, 25, 24, 23, 18], (37, 18): [37, 0, 3, 7, 9, 10, 18], (0, 19): [0, 3, 7, 9, 10, 11, 17, 19], (1, 19): [1, 4, 25, 24, 23, 18, 17, 19], (2, 19): [2, 3, 7, 9, 10, 11, 17, 19], (3, 19): [3, 7, 9, 10, 11, 17, 19], (4, 19): [4, 25, 24, 23, 18, 17, 19], (5, 19): [5, 25, 24, 23, 18, 17, 19], (6, 19): [6, 7, 9, 10, 11, 17, 19], (7, 19): [7, 9, 10, 11, 17, 19], (8, 19): [8, 24, 23, 18, 17, 19], (9, 19): [9, 10, 11, 17, 19], (10, 19): [10, 11, 17, 19], (11, 19): [11, 17, 19], (12, 19): [12, 11, 17, 19], (13, 19): [13, 12, 11, 17, 19], (14, 19): [14, 13, 12, 11, 17, 19], (15, 19): [15, 16, 11, 17, 19], (16, 19): [16, 11, 17, 19], (17, 19): [17, 19], (18, 19): [18, 17, 19], (20, 19): [20, 19], (21, 19): [21, 20, 19], (22, 19): [22, 21, 20, 19], (23, 19): [23, 18, 17, 19], (24, 19): [24, 23, 18, 17, 19], (25, 19): [25, 24, 23, 18, 17, 19], (26, 19): [26, 33, 32, 31, 22, 21, 20, 19], (27, 19): [27, 28, 29, 34, 35, 21, 20, 19], (28, 19): [28, 29, 34, 35, 21, 20, 19], (29, 19): [29, 34, 35, 21, 20, 19], (30, 19): [30, 24, 23, 18, 17, 19], (31, 19): [31, 22, 21, 20, 19], (32, 19): [32, 31, 22, 21, 20, 19], (33, 19): [33, 32, 31, 22, 21, 20, 19], (34, 19): [34, 35, 21, 20, 19], (35, 19): [35, 21, 20, 19], (36, 19): [36, 4, 25, 24, 23, 18, 17, 19], (37, 19): [37, 0, 3, 7, 9, 10, 11, 17, 19], (0, 20): [0, 1, 4, 25, 24, 23, 22, 21, 20], (1, 20): [1, 4, 25, 24, 23, 22, 21, 20], (2, 20): [2, 5, 25, 24, 23, 22, 21, 20], (3, 20): [3, 7, 9, 10, 11, 17, 19, 20], (4, 20): [4, 25, 24, 23, 22, 21, 20], (5, 20): [5, 25, 24, 23, 22, 21, 20], (6, 20): [6, 8, 24, 23, 22, 21, 20], (7, 20): [7, 9, 10, 11, 17, 19, 20], (8, 20): [8, 24, 23, 22, 21, 20], (9, 20): [9, 10, 11, 17, 19, 20], (10, 20): [10, 11, 17, 19, 20], (11, 20): [11, 17, 19, 20], (12, 20): [12, 11, 17, 19, 20], (13, 20): [13, 12, 11, 17, 19, 20], (14, 20): [14, 13, 12, 11, 17, 19, 20], (15, 20): [15, 16, 11, 17, 19, 20], (16, 20): [16, 11, 17, 19, 20], (17, 20): [17, 19, 20], (18, 20): [18, 17, 19, 20], (19, 20): [19, 20], (21, 20): [21, 20], (22, 20): [22, 21, 20], (23, 20): [23, 22, 21, 20], (24, 20): [24, 23, 22, 21, 20], (25, 20): [25, 24, 23, 22, 21, 20], (26, 20): [26, 33, 32, 31, 22, 21, 20], (27, 20): [27, 28, 29, 34, 35, 21, 20], (28, 20): [28, 29, 34, 35, 21, 20], (29, 20): [29, 34, 35, 21, 20], (30, 20): [30, 31, 22, 21, 20], (31, 20): [31, 22, 21, 20], (32, 20): [32, 31, 22, 21, 20], (33, 20): [33, 32, 31, 22, 21, 20], (34, 20): [34, 35, 21, 20], (35, 20): [35, 21, 20], (36, 20): [36, 33, 32, 31, 22, 21, 20], (37, 20): [37, 36, 33, 32, 31, 22, 21, 20], (0, 21): [0, 1, 4, 25, 24, 23, 22, 21], (1, 21): [1, 4, 25, 24, 23, 22, 21], (2, 21): [2, 5, 25, 24, 23, 22, 21], (3, 21): [3, 2, 5, 25, 24, 23, 22, 21], (4, 21): [4, 25, 24, 23, 22, 21], (5, 21): [5, 25, 24, 23, 22, 21], (6, 21): [6, 8, 24, 23, 22, 21], (7, 21): [7, 6, 8, 24, 23, 22, 21], (8, 21): [8, 24, 23, 22, 21], (9, 21): [9, 10, 18, 23, 22, 21], (10, 21): [10, 18, 23, 22, 21], (11, 21): [11, 17, 19, 20, 21], (12, 21): [12, 11, 17, 19, 20, 21], (13, 21): [13, 12, 11, 17, 19, 20, 21], (14, 21): [14, 13, 12, 11, 17, 19, 20, 21], (15, 21): [15, 16, 11, 17, 19, 20, 21], (16, 21): [16, 11, 17, 19, 20, 21], (17, 21): [17, 19, 20, 21], (18, 21): [18, 23, 22, 21], (19, 21): [19, 20, 21], (20, 21): [20, 21], (22, 21): [22, 21], (23, 21): [23, 22, 21], (24, 21): [24, 23, 22, 21], (25, 21): [25, 24, 23, 22, 21], (26, 21): [26, 33, 32, 31, 22, 21], (27, 21): [27, 28, 29, 34, 35, 21], (28, 21): [28, 29, 34, 35, 21], (29, 21): [29, 34, 35, 21], (30, 21): [30, 31, 22, 21], (31, 21): [31, 22, 21], (32, 21): [32, 31, 22, 21], (33, 21): [33, 32, 31, 22, 21], (34, 21): [34, 35, 21], (35, 21): [35, 21], (36, 21): [36, 33, 32, 31, 22, 21], (37, 21): [37, 36, 33, 32, 31, 22, 21], (0, 22): [0, 1, 4, 25, 24, 23, 22], (1, 22): [1, 4, 25, 24, 23, 22], (2, 22): [2, 5, 25, 24, 23, 22], (3, 22): [3, 2, 5, 25, 24, 23, 22], (4, 22): [4, 25, 24, 23, 22], (5, 22): [5, 25, 24, 23, 22], (6, 22): [6, 8, 24, 23, 22], (7, 22): [7, 6, 8, 24, 23, 22], (8, 22): [8, 24, 23, 22], (9, 22): [9, 10, 18, 23, 22], (10, 22): [10, 18, 23, 22], (11, 22): [11, 10, 18, 23, 22], (12, 22): [12, 11, 10, 18, 23, 22], (13, 22): [13, 12, 11, 10, 18, 23, 22], (14, 22): [14, 13, 12, 11, 10, 18, 23, 22], (15, 22): [15, 16, 11, 10, 18, 23, 22], (16, 22): [16, 11, 10, 18, 23, 22], (17, 22): [17, 18, 23, 22], (18, 22): [18, 23, 22], (19, 22): [19, 20, 21, 22], (20, 22): [20, 21, 22], (21, 22): [21, 22], (23, 22): [23, 22], (24, 22): [24, 23, 22], (25, 22): [25, 24, 23, 22], (26, 22): [26, 33, 32, 31, 22], (27, 22): [27, 33, 32, 31, 22], (28, 22): [28, 27, 33, 32, 31, 22], (29, 22): [29, 34, 35, 21, 22], (30, 22): [30, 31, 22], (31, 22): [31, 22], (32, 22): [32, 31, 22], (33, 22): [33, 32, 31, 22], (34, 22): [34, 35, 21, 22], (35, 22): [35, 21, 22], (36, 22): [36, 33, 32, 31, 22], (37, 22): [37, 36, 33, 32, 31, 22], (0, 23): [0, 1, 4, 25, 24, 23], (1, 23): [1, 4, 25, 24, 23], (2, 23): [2, 5, 25, 24, 23], (3, 23): [3, 2, 5, 25, 24, 23], (4, 23): [4, 25, 24, 23], (5, 23): [5, 25, 24, 23], (6, 23): [6, 8, 24, 23], (7, 23): [7, 6, 8, 24, 23], (8, 23): [8, 24, 23], (9, 23): [9, 10, 18, 23], (10, 23): [10, 18, 23], (11, 23): [11, 10, 18, 23], (12, 23): [12, 11, 10, 18, 23], (13, 23): [13, 12, 11, 10, 18, 23], (14, 23): [14, 13, 12, 11, 10, 18, 23], (15, 23): [15, 16, 11, 10, 18, 23], (16, 23): [16, 11, 10, 18, 23], (17, 23): [17, 18, 23], (18, 23): [18, 23], (19, 23): [19, 17, 18, 23], (20, 23): [20, 21, 22, 23], (21, 23): [21, 22, 23], (22, 23): [22, 23], (24, 23): [24, 23], (25, 23): [25, 24, 23], (26, 23): [26, 33, 32, 25, 24, 23], (27, 23): [27, 33, 32, 25, 24, 23], (28, 23): [28, 27, 33, 32, 25, 24, 23], (29, 23): [29, 34, 35, 21, 22, 23], (30, 23): [30, 24, 23], (31, 23): [31, 22, 23], (32, 23): [32, 25, 24, 23], (33, 23): [33, 32, 25, 24, 23], (34, 23): [34, 35, 21, 22, 23], (35, 23): [35, 21, 22, 23], (36, 23): [36, 4, 25, 24, 23], (37, 23): [37, 36, 4, 25, 24, 23], (0, 24): [0, 1, 4, 25, 24], (1, 24): [1, 4, 25, 24], (2, 24): [2, 5, 25, 24], (3, 24): [3, 2, 5, 25, 24], (4, 24): [4, 25, 24], (5, 24): [5, 25, 24], (6, 24): [6, 8, 24], (7, 24): [7, 6, 8, 24], (8, 24): [8, 24], (9, 24): [9, 7, 6, 8, 24], (10, 24): [10, 18, 23, 24], (11, 24): [11, 10, 18, 23, 24], (12, 24): [12, 11, 10, 18, 23, 24], (13, 24): [13, 12, 11, 10, 18, 23, 24], (14, 24): [14, 13, 12, 11, 10, 18, 23, 24], (15, 24): [15, 16, 11, 10, 18, 23, 24], (16, 24): [16, 11, 10, 18, 23, 24], (17, 24): [17, 18, 23, 24], (18, 24): [18, 23, 24], (19, 24): [19, 17, 18, 23, 24], (20, 24): [20, 21, 22, 23, 24], (21, 24): [21, 22, 23, 24], (22, 24): [22, 23, 24], (23, 24): [23, 24], (25, 24): [25, 24], (26, 24): [26, 33, 32, 25, 24], (27, 24): [27, 33, 32, 25, 24], (28, 24): [28, 27, 33, 32, 25, 24], (29, 24): [29, 28, 27, 33, 32, 25, 24], (30, 24): [30, 24], (31, 24): [31, 30, 24], (32, 24): [32, 25, 24], (33, 24): [33, 32, 25, 24], (34, 24): [34, 35, 21, 22, 23, 24], (35, 24): [35, 21, 22, 23, 24], (36, 24): [36, 4, 25, 24], (37, 24): [37, 36, 4, 25, 24], (0, 25): [0, 1, 4, 25], (1, 25): [1, 4, 25], (2, 25): [2, 5, 25], (3, 25): [3, 2, 5, 25], (4, 25): [4, 25], (5, 25): [5, 25], (6, 25): [6, 5, 25], (7, 25): [7, 6, 5, 25], (8, 25): [8, 24, 25], (9, 25): [9, 7, 6, 5, 25], (10, 25): [10, 18, 23, 24, 25], (11, 25): [11, 10, 18, 23, 24, 25], (12, 25): [12, 11, 10, 18, 23, 24, 25], (13, 25): [13, 12, 11, 10, 18, 23, 24, 25], (14, 25): [14, 13, 12, 11, 10, 18, 23, 24, 25], (15, 25): [15, 16, 11, 10, 18, 23, 24, 25], (16, 25): [16, 11, 10, 18, 23, 24, 25], (17, 25): [17, 18, 23, 24, 25], (18, 25): [18, 23, 24, 25], (19, 25): [19, 17, 18, 23, 24, 25], (20, 25): [20, 21, 22, 23, 24, 25], (21, 25): [21, 22, 23, 24, 25], (22, 25): [22, 23, 24, 25], (23, 25): [23, 24, 25], (24, 25): [24, 25], (26, 25): [26, 33, 32, 25], (27, 25): [27, 33, 32, 25], (28, 25): [28, 27, 33, 32, 25], (29, 25): [29, 28, 27, 33, 32, 25], (30, 25): [30, 24, 25], (31, 25): [31, 32, 25], (32, 25): [32, 25], (33, 25): [33, 32, 25], (34, 25): [34, 29, 28, 27, 33, 32, 25], (35, 25): [35, 21, 22, 23, 24, 25], (36, 25): [36, 4, 25], (37, 25): [37, 36, 4, 25], (0, 26): [0, 37, 36, 33, 26], (1, 26): [1, 4, 36, 33, 26], (2, 26): [2, 0, 37, 36, 33, 26], (3, 26): [3, 0, 37, 36, 33, 26], (4, 26): [4, 36, 33, 26], (5, 26): [5, 4, 36, 33, 26], (6, 26): [6, 5, 4, 36, 33, 26], (7, 26): [7, 3, 0, 37, 36, 33, 26], (8, 26): [8, 24, 25, 32, 33, 26], (9, 26): [9, 7, 3, 0, 37, 36, 33, 26], (10, 26): [10, 18, 23, 22, 31, 32, 33, 26], (11, 26): [11, 10, 18, 23, 22, 31, 32, 33, 26], (12, 26): [12, 11, 10, 18, 23, 22, 31, 32, 33, 26], (13, 26): [13, 12, 11, 10, 18, 23, 22, 31, 32, 33, 26], (14, 26): [14, 13, 12, 11, 10, 18, 23, 22, 31, 32, 33, 26], (15, 26): [15, 16, 11, 10, 18, 23, 22, 31, 32, 33, 26], (16, 26): [16, 11, 10, 18, 23, 22, 31, 32, 33, 26], (17, 26): [17, 18, 23, 22, 31, 32, 33, 26], (18, 26): [18, 23, 22, 31, 32, 33, 26], (19, 26): [19, 20, 21, 22, 31, 32, 33, 26], (20, 26): [20, 21, 22, 31, 32, 33, 26], (21, 26): [21, 22, 31, 32, 33, 26], (22, 26): [22, 31, 32, 33, 26], (23, 26): [23, 22, 31, 32, 33, 26], (24, 26): [24, 25, 32, 33, 26], (25, 26): [25, 32, 33, 26], (27, 26): [27, 26], (28, 26): [28, 27, 26], (29, 26): [29, 28, 27, 26], (30, 26): [30, 31, 32, 33, 26], (31, 26): [31, 32, 33, 26], (32, 26): [32, 33, 26], (33, 26): [33, 26], (34, 26): [34, 29, 28, 27, 26], (35, 26): [35, 34, 29, 28, 27, 26], (36, 26): [36, 33, 26], (37, 26): [37, 36, 33, 26], (0, 27): [0, 37, 36, 33, 27], (1, 27): [1, 4, 36, 33, 27], (2, 27): [2, 0, 37, 36, 33, 27], (3, 27): [3, 0, 37, 36, 33, 27], (4, 27): [4, 36, 33, 27], (5, 27): [5, 4, 36, 33, 27], (6, 27): [6, 5, 4, 36, 33, 27], (7, 27): [7, 3, 0, 37, 36, 33, 27], (8, 27): [8, 24, 25, 32, 33, 27], (9, 27): [9, 7, 3, 0, 37, 36, 33, 27], (10, 27): [10, 18, 23, 22, 31, 32, 33, 27], (11, 27): [11, 10, 18, 23, 22, 31, 32, 33, 27], (12, 27): [12, 11, 10, 18, 23, 22, 31, 32, 33, 27], (13, 27): [13, 12, 11, 10, 18, 23, 22, 31, 32, 33, 27], (14, 27): [14, 13, 12, 11, 10, 18, 23, 22, 31, 32, 33, 27], (15, 27): [15, 16, 11, 10, 18, 23, 22, 31, 32, 33, 27], (16, 27): [16, 11, 10, 18, 23, 22, 31, 32, 33, 27], (17, 27): [17, 18, 23, 22, 31, 32, 33, 27], (18, 27): [18, 23, 22, 31, 32, 33, 27], (19, 27): [19, 20, 21, 22, 31, 32, 33, 27], (20, 27): [20, 21, 22, 31, 32, 33, 27], (21, 27): [21, 22, 31, 32, 33, 27], (22, 27): [22, 31, 32, 33, 27], (23, 27): [23, 22, 31, 32, 33, 27], (24, 27): [24, 25, 32, 33, 27], (25, 27): [25, 32, 33, 27], (26, 27): [26, 27], (28, 27): [28, 27], (29, 27): [29, 28, 27], (30, 27): [30, 31, 32, 33, 27], (31, 27): [31, 32, 33, 27], (32, 27): [32, 33, 27], (33, 27): [33, 27], (34, 27): [34, 29, 28, 27], (35, 27): [35, 34, 29, 28, 27], (36, 27): [36, 33, 27], (37, 27): [37, 36, 33, 27], (0, 28): [0, 37, 36, 33, 27, 28], (1, 28): [1, 4, 36, 33, 27, 28], (2, 28): [2, 0, 37, 36, 33, 27, 28], (3, 28): [3, 0, 37, 36, 33, 27, 28], (4, 28): [4, 36, 33, 27, 28], (5, 28): [5, 4, 36, 33, 27, 28], (6, 28): [6, 5, 4, 36, 33, 27, 28], (7, 28): [7, 3, 0, 37, 36, 33, 27, 28], (8, 28): [8, 24, 25, 32, 33, 27, 28], (9, 28): [9, 7, 3, 0, 37, 36, 33, 27, 28], (10, 28): [10, 18, 23, 22, 21, 35, 34, 29, 28], (11, 28): [11, 17, 19, 20, 21, 35, 34, 29, 28], (12, 28): [12, 11, 17, 19, 20, 21, 35, 34, 29, 28], (13, 28): [13, 12, 11, 17, 19, 20, 21, 35, 34, 29, 28], (14, 28): [14, 13, 12, 11, 17, 19, 20, 21, 35, 34, 29, 28], (15, 28): [15, 16, 11, 17, 19, 20, 21, 35, 34, 29, 28], (16, 28): [16, 11, 17, 19, 20, 21, 35, 34, 29, 28], (17, 28): [17, 19, 20, 21, 35, 34, 29, 28], (18, 28): [18, 23, 22, 21, 35, 34, 29, 28], (19, 28): [19, 20, 21, 35, 34, 29, 28], (20, 28): [20, 21, 35, 34, 29, 28], (21, 28): [21, 35, 34, 29, 28], (22, 28): [22, 21, 35, 34, 29, 28], (23, 28): [23, 22, 21, 35, 34, 29, 28], (24, 28): [24, 25, 32, 33, 27, 28], (25, 28): [25, 32, 33, 27, 28], (26, 28): [26, 27, 28], (27, 28): [27, 28], (29, 28): [29, 28], (30, 28): [30, 31, 32, 33, 27, 28], (31, 28): [31, 32, 33, 27, 28], (32, 28): [32, 33, 27, 28], (33, 28): [33, 27, 28], (34, 28): [34, 29, 28], (35, 28): [35, 34, 29, 28], (36, 28): [36, 33, 27, 28], (37, 28): [37, 36, 33, 27, 28], (0, 29): [0, 37, 36, 33, 27, 28, 29], (1, 29): [1, 4, 36, 33, 27, 28, 29], (2, 29): [2, 0, 37, 36, 33, 27, 28, 29], (3, 29): [3, 0, 37, 36, 33, 27, 28, 29], (4, 29): [4, 36, 33, 27, 28, 29], (5, 29): [5, 4, 36, 33, 27, 28, 29], (6, 29): [6, 5, 4, 36, 33, 27, 28, 29], (7, 29): [7, 3, 0, 37, 36, 33, 27, 28, 29], (8, 29): [8, 24, 23, 22, 21, 35, 34, 29], (9, 29): [9, 10, 18, 23, 22, 21, 35, 34, 29], (10, 29): [10, 18, 23, 22, 21, 35, 34, 29], (11, 29): [11, 17, 19, 20, 21, 35, 34, 29], (12, 29): [12, 11, 17, 19, 20, 21, 35, 34, 29], (13, 29): [13, 12, 11, 17, 19, 20, 21, 35, 34, 29], (14, 29): [14, 13, 12, 11, 17, 19, 20, 21, 35, 34, 29], (15, 29): [15, 16, 11, 17, 19, 20, 21, 35, 34, 29], (16, 29): [16, 11, 17, 19, 20, 21, 35, 34, 29], (17, 29): [17, 19, 20, 21, 35, 34, 29], (18, 29): [18, 23, 22, 21, 35, 34, 29], (19, 29): [19, 20, 21, 35, 34, 29], (20, 29): [20, 21, 35, 34, 29], (21, 29): [21, 35, 34, 29], (22, 29): [22, 21, 35, 34, 29], (23, 29): [23, 22, 21, 35, 34, 29], (24, 29): [24, 23, 22, 21, 35, 34, 29], (25, 29): [25, 32, 33, 27, 28, 29], (26, 29): [26, 27, 28, 29], (27, 29): [27, 28, 29], (28, 29): [28, 29], (30, 29): [30, 31, 22, 21, 35, 34, 29], (31, 29): [31, 22, 21, 35, 34, 29], (32, 29): [32, 33, 27, 28, 29], (33, 29): [33, 27, 28, 29], (34, 29): [34, 29], (35, 29): [35, 34, 29], (36, 29): [36, 33, 27, 28, 29], (37, 29): [37, 36, 33, 27, 28, 29], (0, 30): [0, 1, 4, 25, 24, 30], (1, 30): [1, 4, 25, 24, 30], (2, 30): [2, 5, 25, 24, 30], (3, 30): [3, 2, 5, 25, 24, 30], (4, 30): [4, 25, 24, 30], (5, 30): [5, 25, 24, 30], (6, 30): [6, 8, 24, 30], (7, 30): [7, 6, 8, 24, 30], (8, 30): [8, 24, 30], (9, 30): [9, 7, 6, 8, 24, 30], (10, 30): [10, 18, 23, 24, 30], (11, 30): [11, 10, 18, 23, 24, 30], (12, 30): [12, 11, 10, 18, 23, 24, 30], (13, 30): [13, 12, 11, 10, 18, 23, 24, 30], (14, 30): [14, 13, 12, 11, 10, 18, 23, 24, 30], (15, 30): [15, 16, 11, 10, 18, 23, 24, 30], (16, 30): [16, 11, 10, 18, 23, 24, 30], (17, 30): [17, 18, 23, 24, 30], (18, 30): [18, 23, 24, 30], (19, 30): [19, 17, 18, 23, 24, 30], (20, 30): [20, 21, 22, 31, 30], (21, 30): [21, 22, 31, 30], (22, 30): [22, 31, 30], (23, 30): [23, 24, 30], (24, 30): [24, 30], (25, 30): [25, 24, 30], (26, 30): [26, 33, 32, 31, 30], (27, 30): [27, 33, 32, 31, 30], (28, 30): [28, 27, 33, 32, 31, 30], (29, 30): [29, 28, 27, 33, 32, 31, 30], (31, 30): [31, 30], (32, 30): [32, 31, 30], (33, 30): [33, 32, 31, 30], (34, 30): [34, 35, 21, 22, 31, 30], (35, 30): [35, 21, 22, 31, 30], (36, 30): [36, 4, 25, 24, 30], (37, 30): [37, 36, 4, 25, 24, 30], (0, 31): [0, 1, 4, 25, 32, 31], (1, 31): [1, 4, 25, 32, 31], (2, 31): [2, 5, 25, 32, 31], (3, 31): [3, 2, 5, 25, 32, 31], (4, 31): [4, 25, 32, 31], (5, 31): [5, 25, 32, 31], (6, 31): [6, 5, 25, 32, 31], (7, 31): [7, 6, 5, 25, 32, 31], (8, 31): [8, 24, 30, 31], (9, 31): [9, 10, 18, 23, 22, 31], (10, 31): [10, 18, 23, 22, 31], (11, 31): [11, 10, 18, 23, 22, 31], (12, 31): [12, 11, 10, 18, 23, 22, 31], (13, 31): [13, 12, 11, 10, 18, 23, 22, 31], (14, 31): [14, 13, 12, 11, 10, 18, 23, 22, 31], (15, 31): [15, 16, 11, 10, 18, 23, 22, 31], (16, 31): [16, 11, 10, 18, 23, 22, 31], (17, 31): [17, 18, 23, 22, 31], (18, 31): [18, 23, 22, 31], (19, 31): [19, 20, 21, 22, 31], (20, 31): [20, 21, 22, 31], (21, 31): [21, 22, 31], (22, 31): [22, 31], (23, 31): [23, 22, 31], (24, 31): [24, 30, 31], (25, 31): [25, 32, 31], (26, 31): [26, 33, 32, 31], (27, 31): [27, 33, 32, 31], (28, 31): [28, 27, 33, 32, 31], (29, 31): [29, 28, 27, 33, 32, 31], (30, 31): [30, 31], (32, 31): [32, 31], (33, 31): [33, 32, 31], (34, 31): [34, 35, 21, 22, 31], (35, 31): [35, 21, 22, 31], (36, 31): [36, 33, 32, 31], (37, 31): [37, 36, 33, 32, 31], (0, 32): [0, 1, 4, 25, 32], (1, 32): [1, 4, 25, 32], (2, 32): [2, 5, 25, 32], (3, 32): [3, 2, 5, 25, 32], (4, 32): [4, 25, 32], (5, 32): [5, 25, 32], (6, 32): [6, 5, 25, 32], (7, 32): [7, 6, 5, 25, 32], (8, 32): [8, 24, 25, 32], (9, 32): [9, 7, 6, 5, 25, 32], (10, 32): [10, 18, 23, 22, 31, 32], (11, 32): [11, 10, 18, 23, 22, 31, 32], (12, 32): [12, 11, 10, 18, 23, 22, 31, 32], (13, 32): [13, 12, 11, 10, 18, 23, 22, 31, 32], (14, 32): [14, 13, 12, 11, 10, 18, 23, 22, 31, 32], (15, 32): [15, 16, 11, 10, 18, 23, 22, 31, 32], (16, 32): [16, 11, 10, 18, 23, 22, 31, 32], (17, 32): [17, 18, 23, 22, 31, 32], (18, 32): [18, 23, 22, 31, 32], (19, 32): [19, 20, 21, 22, 31, 32], (20, 32): [20, 21, 22, 31, 32], (21, 32): [21, 22, 31, 32], (22, 32): [22, 31, 32], (23, 32): [23, 22, 31, 32], (24, 32): [24, 25, 32], (25, 32): [25, 32], (26, 32): [26, 33, 32], (27, 32): [27, 33, 32], (28, 32): [28, 27, 33, 32], (29, 32): [29, 28, 27, 33, 32], (30, 32): [30, 31, 32], (31, 32): [31, 32], (33, 32): [33, 32], (34, 32): [34, 29, 28, 27, 33, 32], (35, 32): [35, 21, 22, 31, 32], (36, 32): [36, 33, 32], (37, 32): [37, 36, 33, 32], (0, 33): [0, 37, 36, 33], (1, 33): [1, 4, 36, 33], (2, 33): [2, 0, 37, 36, 33], (3, 33): [3, 0, 37, 36, 33], (4, 33): [4, 36, 33], (5, 33): [5, 4, 36, 33], (6, 33): [6, 5, 4, 36, 33], (7, 33): [7, 3, 0, 37, 36, 33], (8, 33): [8, 24, 25, 32, 33], (9, 33): [9, 7, 3, 0, 37, 36, 33], (10, 33): [10, 18, 23, 22, 31, 32, 33], (11, 33): [11, 10, 18, 23, 22, 31, 32, 33], (12, 33): [12, 11, 10, 18, 23, 22, 31, 32, 33], (13, 33): [13, 12, 11, 10, 18, 23, 22, 31, 32, 33], (14, 33): [14, 13, 12, 11, 10, 18, 23, 22, 31, 32, 33], (15, 33): [15, 16, 11, 10, 18, 23, 22, 31, 32, 33], (16, 33): [16, 11, 10, 18, 23, 22, 31, 32, 33], (17, 33): [17, 18, 23, 22, 31, 32, 33], (18, 33): [18, 23, 22, 31, 32, 33], (19, 33): [19, 20, 21, 22, 31, 32, 33], (20, 33): [20, 21, 22, 31, 32, 33], (21, 33): [21, 22, 31, 32, 33], (22, 33): [22, 31, 32, 33], (23, 33): [23, 22, 31, 32, 33], (24, 33): [24, 25, 32, 33], (25, 33): [25, 32, 33], (26, 33): [26, 33], (27, 33): [27, 33], (28, 33): [28, 27, 33], (29, 33): [29, 28, 27, 33], (30, 33): [30, 31, 32, 33], (31, 33): [31, 32, 33], (32, 33): [32, 33], (34, 33): [34, 29, 28, 27, 33], (35, 33): [35, 21, 22, 31, 32, 33], (36, 33): [36, 33], (37, 33): [37, 36, 33], (0, 34): [0, 37, 36, 33, 27, 28, 29, 34], (1, 34): [1, 4, 36, 33, 27, 28, 29, 34], (2, 34): [2, 0, 37, 36, 33, 27, 28, 29, 34], (3, 34): [3, 0, 37, 36, 33, 27, 28, 29, 34], (4, 34): [4, 36, 33, 27, 28, 29, 34], (5, 34): [5, 4, 36, 33, 27, 28, 29, 34], (6, 34): [6, 8, 24, 23, 22, 21, 35, 34], (7, 34): [7, 6, 8, 24, 23, 22, 21, 35, 34], (8, 34): [8, 24, 23, 22, 21, 35, 34], (9, 34): [9, 10, 18, 23, 22, 21, 35, 34], (10, 34): [10, 18, 23, 22, 21, 35, 34], (11, 34): [11, 17, 19, 20, 21, 35, 34], (12, 34): [12, 11, 17, 19, 20, 21, 35, 34], (13, 34): [13, 12, 11, 17, 19, 20, 21, 35, 34], (14, 34): [14, 13, 12, 11, 17, 19, 20, 21, 35, 34], (15, 34): [15, 16, 11, 17, 19, 20, 21, 35, 34], (16, 34): [16, 11, 17, 19, 20, 21, 35, 34], (17, 34): [17, 19, 20, 21, 35, 34], (18, 34): [18, 23, 22, 21, 35, 34], (19, 34): [19, 20, 21, 35, 34], (20, 34): [20, 21, 35, 34], (21, 34): [21, 35, 34], (22, 34): [22, 21, 35, 34], (23, 34): [23, 22, 21, 35, 34], (24, 34): [24, 23, 22, 21, 35, 34], (25, 34): [25, 24, 23, 22, 21, 35, 34], (26, 34): [26, 27, 28, 29, 34], (27, 34): [27, 28, 29, 34], (28, 34): [28, 29, 34], (29, 34): [29, 34], (30, 34): [30, 31, 22, 21, 35, 34], (31, 34): [31, 22, 21, 35, 34], (32, 34): [32, 31, 22, 21, 35, 34], (33, 34): [33, 27, 28, 29, 34], (35, 34): [35, 34], (36, 34): [36, 33, 27, 28, 29, 34], (37, 34): [37, 36, 33, 27, 28, 29, 34], (0, 35): [0, 1, 4, 25, 24, 23, 22, 21, 35], (1, 35): [1, 4, 25, 24, 23, 22, 21, 35], (2, 35): [2, 5, 25, 24, 23, 22, 21, 35], (3, 35): [3, 2, 5, 25, 24, 23, 22, 21, 35], (4, 35): [4, 25, 24, 23, 22, 21, 35], (5, 35): [5, 25, 24, 23, 22, 21, 35], (6, 35): [6, 8, 24, 23, 22, 21, 35], (7, 35): [7, 6, 8, 24, 23, 22, 21, 35], (8, 35): [8, 24, 23, 22, 21, 35], (9, 35): [9, 10, 18, 23, 22, 21, 35], (10, 35): [10, 18, 23, 22, 21, 35], (11, 35): [11, 17, 19, 20, 21, 35], (12, 35): [12, 11, 17, 19, 20, 21, 35], (13, 35): [13, 12, 11, 17, 19, 20, 21, 35], (14, 35): [14, 13, 12, 11, 17, 19, 20, 21, 35], (15, 35): [15, 16, 11, 17, 19, 20, 21, 35], (16, 35): [16, 11, 17, 19, 20, 21, 35], (17, 35): [17, 19, 20, 21, 35], (18, 35): [18, 23, 22, 21, 35], (19, 35): [19, 20, 21, 35], (20, 35): [20, 21, 35], (21, 35): [21, 35], (22, 35): [22, 21, 35], (23, 35): [23, 22, 21, 35], (24, 35): [24, 23, 22, 21, 35], (25, 35): [25, 24, 23, 22, 21, 35], (26, 35): [26, 27, 28, 29, 34, 35], (27, 35): [27, 28, 29, 34, 35], (28, 35): [28, 29, 34, 35], (29, 35): [29, 34, 35], (30, 35): [30, 31, 22, 21, 35], (31, 35): [31, 22, 21, 35], (32, 35): [32, 31, 22, 21, 35], (33, 35): [33, 27, 28, 29, 34, 35], (34, 35): [34, 35], (36, 35): [36, 33, 27, 28, 29, 34, 35], (37, 35): [37, 36, 33, 27, 28, 29, 34, 35], (0, 36): [0, 37, 36], (1, 36): [1, 4, 36], (2, 36): [2, 0, 37, 36], (3, 36): [3, 0, 37, 36], (4, 36): [4, 36], (5, 36): [5, 4, 36], (6, 36): [6, 5, 4, 36], (7, 36): [7, 3, 0, 37, 36], (8, 36): [8, 6, 5, 4, 36], (9, 36): [9, 7, 3, 0, 37, 36], (10, 36): [10, 9, 7, 3, 0, 37, 36], (11, 36): [11, 10, 9, 7, 3, 0, 37, 36], (12, 36): [12, 11, 10, 9, 7, 3, 0, 37, 36], (13, 36): [13, 12, 11, 10, 9, 7, 3, 0, 37, 36], (14, 36): [14, 13, 12, 11, 10, 9, 7, 3, 0, 37, 36], (15, 36): [15, 16, 11, 10, 9, 7, 3, 0, 37, 36], (16, 36): [16, 11, 10, 9, 7, 3, 0, 37, 36], (17, 36): [17, 18, 23, 24, 25, 4, 36], (18, 36): [18, 23, 24, 25, 4, 36], (19, 36): [19, 17, 18, 23, 24, 25, 4, 36], (20, 36): [20, 21, 22, 31, 32, 33, 36], (21, 36): [21, 22, 31, 32, 33, 36], (22, 36): [22, 31, 32, 33, 36], (23, 36): [23, 24, 25, 4, 36], (24, 36): [24, 25, 4, 36], (25, 36): [25, 4, 36], (26, 36): [26, 33, 36], (27, 36): [27, 33, 36], (28, 36): [28, 27, 33, 36], (29, 36): [29, 28, 27, 33, 36], (30, 36): [30, 24, 25, 4, 36], (31, 36): [31, 32, 33, 36], (32, 36): [32, 33, 36], (33, 36): [33, 36], (34, 36): [34, 29, 28, 27, 33, 36], (35, 36): [35, 21, 22, 31, 32, 33, 36], (37, 36): [37, 36], (0, 37): [0, 37], (1, 37): [1, 0, 37], (2, 37): [2, 0, 37], (3, 37): [3, 0, 37], (4, 37): [4, 36, 37], (5, 37): [5, 2, 0, 37], (6, 37): [6, 2, 0, 37], (7, 37): [7, 3, 0, 37], (8, 37): [8, 6, 2, 0, 37], (9, 37): [9, 7, 3, 0, 37], (10, 37): [10, 9, 7, 3, 0, 37], (11, 37): [11, 10, 9, 7, 3, 0, 37], (12, 37): [12, 11, 10, 9, 7, 3, 0, 37], (13, 37): [13, 12, 11, 10, 9, 7, 3, 0, 37], (14, 37): [14, 13, 12, 11, 10, 9, 7, 3, 0, 37], (15, 37): [15, 16, 11, 10, 9, 7, 3, 0, 37], (16, 37): [16, 11, 10, 9, 7, 3, 0, 37], (17, 37): [17, 11, 10, 9, 7, 3, 0, 37], (18, 37): [18, 10, 9, 7, 3, 0, 37], (19, 37): [19, 17, 11, 10, 9, 7, 3, 0, 37], (20, 37): [20, 21, 22, 31, 32, 33, 36, 37], (21, 37): [21, 22, 31, 32, 33, 36, 37], (22, 37): [22, 31, 32, 33, 36, 37], (23, 37): [23, 24, 25, 4, 36, 37], (24, 37): [24, 25, 4, 36, 37], (25, 37): [25, 4, 36, 37], (26, 37): [26, 33, 36, 37], (27, 37): [27, 33, 36, 37], (28, 37): [28, 27, 33, 36, 37], (29, 37): [29, 28, 27, 33, 36, 37], (30, 37): [30, 24, 25, 4, 36, 37], (31, 37): [31, 32, 33, 36, 37], (32, 37): [32, 33, 36, 37], (33, 37): [33, 36, 37], (34, 37): [34, 29, 28, 27, 33, 36, 37], (35, 37): [35, 21, 22, 31, 32, 33, 36, 37], (36, 37): [36, 37]}\n",
      "canais:2, origem:4, destino:2, rota:[], caminho: [4]\n",
      "bloqueio (4, 2)\n",
      "canais:2, origem:3, destino:2, rota:[], caminho: [3]\n",
      "{(1, 0): [1], (2, 0): [2], (3, 0): [3], (4, 0): [4], (5, 0): [5, 7, 6, 8, 9, 3], (6, 0): [6, 7, 5, 1, 0], (7, 0): [7, 5, 1, 0], (8, 0): [8, 9, 3, 2, 0], (9, 0): [9, 3, 2, 0], (0, 1): [0], (2, 1): [2], (3, 1): [3], (4, 1): [4], (5, 1): [5, 7, 6, 8, 9, 3], (6, 1): [6, 7, 5, 1], (7, 1): [7, 5, 1], (8, 1): [8, 6, 7, 5, 1], (9, 1): [9, 3, 2, 0, 1], (0, 2): [0], (1, 2): [1], (3, 2): [3], (4, 2): [4], (5, 2): [5, 7, 6, 8, 9, 3], (6, 2): [6, 8, 9, 3, 2], (7, 2): [7, 5, 1, 0, 2], (8, 2): [8, 9, 3, 2], (9, 2): [9, 3, 2], (0, 3): [0], (1, 3): [1], (2, 3): [2], (4, 3): [4], (5, 3): [5, 7, 6, 8, 9, 3], (6, 3): [6, 8, 9, 3], (7, 3): [7, 5, 4, 3], (8, 3): [8, 9, 3], (9, 3): [9, 3], (0, 4): [0], (1, 4): [1], (2, 4): [2], (3, 4): [3], (5, 4): [5, 7, 6, 8, 9, 3], (6, 4): [6, 7, 5, 4], (7, 4): [7, 5, 4], (8, 4): [8, 9, 3, 4], (9, 4): [9, 3, 4], (0, 5): [0], (1, 5): [1], (2, 5): [2], (3, 5): [3, 9, 8, 6, 7, 5], (4, 5): [4], (6, 5): [6, 7, 5], (7, 5): [7, 5], (8, 5): [8, 6, 7, 5], (9, 5): [9, 3, 4, 5], (0, 6): [0, 1, 5, 7, 6], (1, 6): [1, 5, 7, 6], (2, 6): [2, 3, 9, 8, 6], (3, 6): [3, 9, 8, 6], (4, 6): [4, 5, 7, 6], (5, 6): [5, 7, 6], (7, 6): [7, 6], (8, 6): [8, 6], (9, 6): [9, 8, 6], (0, 7): [0, 1, 5, 7], (1, 7): [1, 5, 7], (2, 7): [2, 0, 1, 5, 7], (3, 7): [3, 4, 5, 7], (4, 7): [4, 5, 7], (5, 7): [5, 7], (6, 7): [6, 7], (8, 7): [8, 6, 7], (9, 7): [9, 8, 6, 7], (0, 8): [0, 2, 3, 9, 8], (1, 8): [1, 5, 7, 6, 8], (2, 8): [2, 3, 9, 8], (3, 8): [3, 9, 8], (4, 8): [4, 3, 9, 8], (5, 8): [5, 7, 6, 8], (7, 8): [7, 6, 8], (9, 8): [9, 8], (0, 9): [0, 2, 3, 9], (1, 9): [1, 0, 2, 3, 9], (2, 9): [2, 3, 9], (3, 9): [3, 9], (4, 9): [4, 3, 9], (5, 9): [5, 4, 3, 9], (6, 9): [6, 8, 9], (7, 9): [7, 6, 8, 9], (8, 9): [8, 9], (6, 8): [6, 8]}"
     ]
    }
   ],
   "source": [
    "%%capture --no-stderr\n",
    "# /\\ suprime a saída pode atribuir a uma var: %capture [--no-stderr] [--no-stdout] [--no-display] [output]\n",
    "\n",
    "# Preparar as listas para receberem os resultados\n",
    "\n",
    "for n in names:\n",
    "    ind_wiener.update({n:[]})\n",
    "    bloqs.update({n:[]})\n",
    "    grau.update({n:[]})\n",
    "    copias.update({n:np.matrix(matrizes.get(n))}) #copias das matrizes originais\n",
    "    demandas.update({n:[]})\n",
    "    \n",
    "#simula cada rede em uma thread diferente\n",
    "with concurrent.futures.ThreadPoolExecutor() as executor:\n",
    "# #     executor.map(simulacao,names)\n",
    "    executor.map(simulacao,[n for n in names if n!='usaGde'])\n",
    "# for n in [n for n in names if n!='usaGde']: #paralelizei internamente cada rede\n",
    "#     simulacao(n)"
   ]
  },
  {
   "cell_type": "code",
   "execution_count": 119,
   "metadata": {},
   "outputs": [
    {
     "name": "stdout",
     "output_type": "stream",
     "text": [
      "\n",
      "OmnicomEurope(38):\n",
      "wiener\tdemand\tBlocks\tgrau\n",
      "3148\t134\t1259\t2.8421052631578947\n",
      "1990\t169\t1249\t3.8421052631578947\n",
      "1678\t169\t1244\t4.842105263157895\n",
      "1517\t209\t1233\t5.842105263157895\n",
      "\n",
      "correlação de TX de bloqueio([0.10643367752184273, 0.13530824659727783, 0.13585209003215434, 0.16950527169505272])/wiener([3148, 1990, 1678, 1517])\n",
      "Taxa de correlação entre [x] e [y] é:\n",
      "-50.32865543666844\n",
      "------------------ =  -0.8833448698986096\n",
      "56.97509223373332\n",
      "=====================================\n",
      "\n",
      "arnes(17):\n",
      "wiener\tdemand\tBlocks\tgrau\n",
      "376\t167\t1260\t2.3529411764705883\n",
      "270\t151\t1257\t3.411764705882353\n",
      "250\t160\t1248\t4.470588235294118\n",
      "210\t234\t1228\t5.529411764705882\n",
      "\n",
      "correlação de TX de bloqueio([0.13253968253968254, 0.12012728719172633, 0.1282051282051282, 0.19055374592833876])/wiener([376, 270, 250, 210])\n",
      "Taxa de correlação entre [x] e [y] é:\n",
      "-3.6623889557181997\n",
      "------------------- =  -0.5347852039614369\n",
      "6.848336357455193\n",
      "=====================================\n",
      "\n",
      "arpanet(20):\n",
      "wiener\tdemand\tBlocks\tgrau\n",
      "498\t119\t1260\t3.2\n",
      "381\t125\t1255\t4.2\n",
      "347\t146\t1249\t5.2\n",
      "\n",
      "correlação de TX de bloqueio([0.09444444444444444, 0.099601593625498, 0.11689351481184948])/wiener([498, 381, 347])\n",
      "Taxa de correlação entre [x] e [y] é:\n",
      "-1.527040466665781\n",
      "------------------ =  -0.8197596177896112\n",
      "1.8627905467986732\n",
      "=====================================\n",
      "\n",
      "austria(15):\n",
      "wiener\tdemand\tBlocks\tgrau\n",
      "203\t103\t1263\t2.933333333333333\n",
      "174\t111\t1260\t4.0\n",
      "158\t148\t1247\t5.066666666666666\n",
      "\n",
      "correlação de TX de bloqueio([0.08155186064924783, 0.0880952380952381, 0.11868484362469928])/wiener([203, 174, 158])\n",
      "Taxa de correlação entre [x] e [y] é:\n",
      "-0.7833919561001395\n",
      "------------------- =  -0.8662982584690189\n",
      "0.9042982003503077\n",
      "=====================================\n",
      "\n",
      "bren(10):\n",
      "wiener\tdemand\tBlocks\tgrau\n",
      "78\t98\t1266\t2.2\n",
      "57\t104\t1262\t3.2\n",
      "57\t120\t1254\t4.2\n",
      "49\t145\t1245\t5.2\n",
      "\n",
      "correlação de TX de bloqueio([0.07740916271721959, 0.08240887480190175, 0.09569377990430622, 0.11646586345381527])/wiener([78, 57, 57, 49])\n",
      "Taxa de correlação entre [x] e [y] é:\n",
      "-0.5150619534199485\n",
      "------------------- =  -0.792346934863656\n",
      "0.6500459972228938\n",
      "=====================================\n",
      "\n",
      "canarie(19):\n",
      "wiener\tdemand\tBlocks\tgrau\n",
      "494\t76\t1267\t2.736842105263158\n",
      "\n",
      "correlação de TX de bloqueio([0.05998421468034728])/wiener([494])\n",
      "Taxa de correlação entre [x] e [y] é:\n",
      "0.0\n",
      "--- =  nan\n",
      "0.0\n",
      "=====================================\n",
      "\n",
      "cesnet(12):\n",
      "wiener\tdemand\tBlocks\tgrau\n",
      "\n",
      "correlação de TX de bloqueio([])/wiener([])\n"
     ]
    },
    {
     "name": "stderr",
     "output_type": "stream",
     "text": [
      "<ipython-input-2-fbb1eca401b6>:21: RuntimeWarning: invalid value encountered in double_scalars\n",
      "  corresult = sup/infe\n"
     ]
    },
    {
     "ename": "ZeroDivisionError",
     "evalue": "division by zero",
     "output_type": "error",
     "traceback": [
      "\u001b[0;31m---------------------------------------------------------------------------\u001b[0m",
      "\u001b[0;31mZeroDivisionError\u001b[0m                         Traceback (most recent call last)",
      "\u001b[0;32m<ipython-input-119-3d5bd537ae01>\u001b[0m in \u001b[0;36m<module>\u001b[0;34m\u001b[0m\n\u001b[1;32m      8\u001b[0m         \u001b[0mtb\u001b[0m\u001b[0;34m.\u001b[0m\u001b[0mappend\u001b[0m\u001b[0;34m(\u001b[0m\u001b[0mb\u001b[0m\u001b[0;34m/\u001b[0m\u001b[0mc\u001b[0m\u001b[0;34m)\u001b[0m\u001b[0;34m\u001b[0m\u001b[0;34m\u001b[0m\u001b[0m\n\u001b[1;32m      9\u001b[0m     \u001b[0mprint\u001b[0m\u001b[0;34m(\u001b[0m\u001b[0;34mf\"\\ncorrelação de TX de bloqueio({tb})/wiener({ind_wiener[n]})\"\u001b[0m\u001b[0;34m)\u001b[0m\u001b[0;34m\u001b[0m\u001b[0;34m\u001b[0m\u001b[0m\n\u001b[0;32m---> 10\u001b[0;31m     \u001b[0mcorr\u001b[0m\u001b[0;34m(\u001b[0m\u001b[0mtb\u001b[0m\u001b[0;34m,\u001b[0m\u001b[0mind_wiener\u001b[0m\u001b[0;34m[\u001b[0m\u001b[0mn\u001b[0m\u001b[0;34m]\u001b[0m\u001b[0;34m,\u001b[0m\u001b[0;32mTrue\u001b[0m\u001b[0;34m)\u001b[0m\u001b[0;34m\u001b[0m\u001b[0;34m\u001b[0m\u001b[0m\n\u001b[0m\u001b[1;32m     11\u001b[0m \u001b[0;31m#     print(\"\\ncorrelação de TX de bloqueio/grau\")\u001b[0m\u001b[0;34m\u001b[0m\u001b[0;34m\u001b[0m\u001b[0;34m\u001b[0m\u001b[0m\n\u001b[1;32m     12\u001b[0m \u001b[0;31m#     corr(tb,grau[n],True)\u001b[0m\u001b[0;34m\u001b[0m\u001b[0;34m\u001b[0m\u001b[0;34m\u001b[0m\u001b[0m\n",
      "\u001b[0;32m<ipython-input-2-fbb1eca401b6>\u001b[0m in \u001b[0;36mcorr\u001b[0;34m(x, y, p)\u001b[0m\n\u001b[1;32m     16\u001b[0m \u001b[0;31m#formula\u001b[0m\u001b[0;34m\u001b[0m\u001b[0;34m\u001b[0m\u001b[0;34m\u001b[0m\u001b[0m\n\u001b[1;32m     17\u001b[0m     \u001b[0;31m#parte superior:\u001b[0m\u001b[0;34m\u001b[0m\u001b[0;34m\u001b[0m\u001b[0;34m\u001b[0m\u001b[0m\n\u001b[0;32m---> 18\u001b[0;31m     \u001b[0msup\u001b[0m \u001b[0;34m=\u001b[0m \u001b[0;34m(\u001b[0m\u001b[0mxysum\u001b[0m \u001b[0;34m-\u001b[0m \u001b[0mxsum\u001b[0m\u001b[0;34m*\u001b[0m\u001b[0mysum\u001b[0m\u001b[0;34m/\u001b[0m\u001b[0mn\u001b[0m\u001b[0;34m)\u001b[0m\u001b[0;34m\u001b[0m\u001b[0;34m\u001b[0m\u001b[0m\n\u001b[0m\u001b[1;32m     19\u001b[0m     \u001b[0;31m#parte inferior:\u001b[0m\u001b[0;34m\u001b[0m\u001b[0;34m\u001b[0m\u001b[0;34m\u001b[0m\u001b[0m\n\u001b[1;32m     20\u001b[0m     \u001b[0minfe\u001b[0m \u001b[0;34m=\u001b[0m \u001b[0mmath\u001b[0m\u001b[0;34m.\u001b[0m\u001b[0msqrt\u001b[0m \u001b[0;34m(\u001b[0m \u001b[0;34m(\u001b[0m\u001b[0mx2sum\u001b[0m \u001b[0;34m-\u001b[0m \u001b[0mxsum2\u001b[0m\u001b[0;34m/\u001b[0m\u001b[0mn\u001b[0m\u001b[0;34m)\u001b[0m \u001b[0;34m*\u001b[0m \u001b[0;34m(\u001b[0m\u001b[0my2sum\u001b[0m \u001b[0;34m-\u001b[0m \u001b[0mysum2\u001b[0m\u001b[0;34m/\u001b[0m\u001b[0mn\u001b[0m\u001b[0;34m)\u001b[0m \u001b[0;34m)\u001b[0m\u001b[0;34m\u001b[0m\u001b[0;34m\u001b[0m\u001b[0m\n",
      "\u001b[0;31mZeroDivisionError\u001b[0m: division by zero"
     ]
    }
   ],
   "source": [
    "names.sort()\n",
    "for n in [n for n in names if n!='usaGde']:\n",
    "    print (\"\\n{}({}):\".format(n,len(matrizes[n])))\n",
    "    print(\"wiener\tdemand\tBlocks\tgrau\")\n",
    "    tb = []\n",
    "    for a,b,c,d in zip(ind_wiener[n],demandas[n],bloqs[n],grau[n]):\n",
    "        print (\"{}\t{}\t{}\t{}\".format(a,b,c,d))\n",
    "        tb.append(b/c)\n",
    "    print(f\"\\ncorrelação de TX de bloqueio({tb})/wiener({ind_wiener[n]})\")\n",
    "    corr(tb,ind_wiener[n],True)\n",
    "#     print(\"\\ncorrelação de TX de bloqueio/grau\")\n",
    "#     corr(tb,grau[n],True)\n",
    "    print(\"=====================================\")"
   ]
  },
  {
   "cell_type": "code",
   "execution_count": null,
   "metadata": {},
   "outputs": [],
   "source": [
    "print(matrizes['rnpBrazil'])\n",
    "print(len(matrizes['rnpBrazil']))"
   ]
  },
  {
   "cell_type": "code",
   "execution_count": null,
   "metadata": {},
   "outputs": [],
   "source": []
  },
  {
   "cell_type": "code",
   "execution_count": null,
   "metadata": {},
   "outputs": [],
   "source": []
  }
 ],
 "metadata": {
  "kernelspec": {
   "display_name": "Python 3",
   "language": "python",
   "name": "python3"
  },
  "language_info": {
   "codemirror_mode": {
    "name": "ipython",
    "version": 3
   },
   "file_extension": ".py",
   "mimetype": "text/x-python",
   "name": "python",
   "nbconvert_exporter": "python",
   "pygments_lexer": "ipython3",
   "version": "3.8.5"
  }
 },
 "nbformat": 4,
 "nbformat_minor": 4
}
