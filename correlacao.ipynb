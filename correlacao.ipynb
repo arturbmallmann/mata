{
 "cells": [
  {
   "cell_type": "markdown",
   "metadata": {},
   "source": [
    "Imports que importam :) "
   ]
  },
  {
   "cell_type": "code",
   "execution_count": 30,
   "metadata": {},
   "outputs": [],
   "source": [
    "import numpy as np\n",
    "import math\n",
    "\n",
    "import pandas"
   ]
  },
  {
   "cell_type": "code",
   "execution_count": 31,
   "metadata": {},
   "outputs": [],
   "source": [
    "from random import *\n",
    "cutpart = lambda x: (int((x+1) * np.random.normal(scale=0.2,loc=0.5)) )% x"
   ]
  },
  {
   "cell_type": "code",
   "execution_count": 32,
   "metadata": {},
   "outputs": [
    {
     "name": "stdout",
     "output_type": "stream",
     "text": [
      "va:\n",
      "[1, 2, 3, 4, 5, 6, 7, 8, 9, 10]\n",
      "vb:\n",
      "[10, 9, 8, 7, 6, 5, 4, 3, 2, 1]\n"
     ]
    }
   ],
   "source": [
    "va = [x for x in range(1,11)]\n",
    "vb = [x for x in range(10,0,-1)]\n",
    "print(\"va:\\n{}\\nvb:\\n{}\".format(va,vb))"
   ]
  },
  {
   "cell_type": "markdown",
   "metadata": {},
   "source": [
    "<h1>Genetic Algorithm for QAP solving()</h1>"
   ]
  },
  {
   "cell_type": "code",
   "execution_count": 33,
   "metadata": {},
   "outputs": [],
   "source": [
    "def crossover(va,vb):\n",
    "    cut = cutpart(len(va))\n",
    "    print(\"cut: {}\".format(cut))\n",
    "    new_va = va[:cut]+vb[cut:]\n",
    "    new_vb = vb[:cut]+va[cut:]\n",
    "    print(\"new va:\\n{}\\nnew vb:\\n{}\".format(new_va,new_vb))\n",
    "    #encontrar repetidos (x) e suas repectivas posicoes (i)\n",
    "    repeated_a = [(x,i) for x,i in zip(new_va,range(len(va))) if new_va.count(x) > 1]\n",
    "    repeated_b = [(x,i) for x,i in zip(new_vb,range(len(vb))) if new_vb.count(x) > 1]\n",
    "    rn = int(len(repeated_a)/2)\n",
    "    print(\"rn:{}\".format(rn))\n",
    "    for i in range(rn):\n",
    "        print(\"switch {} / {}\".format(i,rn))\n",
    "        new_va[repeated_a[i][1]] = repeated_b[i+ (0 if cut >5 else rn)][0]\t#se trocar sempre o primeiro \n",
    "        new_vb[repeated_b[i][1]] = repeated_a[i+ (0 if cut >5 else rn)][0]\t#repetido cortes acima de 5 tendem\n",
    "    print(\"repeated a: {}\".format(repeated_a[:int(len(repeated_a))]))\t\t#a repertir os valores dos pais\n",
    "    print(\"repeated b: {}\".format(repeated_b[:int(len(repeated_b))]))\n",
    "    return(new_va,new_vb)"
   ]
  },
  {
   "cell_type": "code",
   "execution_count": 34,
   "metadata": {},
   "outputs": [
    {
     "name": "stdout",
     "output_type": "stream",
     "text": [
      "cut: 4\n",
      "new va:\n",
      "[1, 2, 3, 4, 6, 5, 4, 3, 2, 1]\n",
      "new vb:\n",
      "[10, 9, 8, 7, 5, 6, 7, 8, 9, 10]\n",
      "rn:4\n",
      "switch 0 / 4\n",
      "switch 1 / 4\n",
      "switch 2 / 4\n",
      "switch 3 / 4\n",
      "repeated a: [(1, 0), (2, 1), (3, 2), (4, 3), (4, 6), (3, 7), (2, 8), (1, 9)]\n",
      "repeated b: [(10, 0), (9, 1), (8, 2), (7, 3), (7, 6), (8, 7), (9, 8), (10, 9)]\n",
      "new va:\n",
      "[7, 8, 9, 10, 6, 5, 4, 3, 2, 1]\n",
      "new vb:\n",
      "[4, 3, 2, 1, 5, 6, 7, 8, 9, 10]\n"
     ]
    }
   ],
   "source": [
    "new_va,new_vb = crossover(va,vb)#[1,5,3,4,6,10,7,9,8,2])\n",
    "print(\"new va:\\n{}\\nnew vb:\\n{}\".format(new_va,new_vb))"
   ]
  },
  {
   "cell_type": "code",
   "execution_count": 35,
   "metadata": {},
   "outputs": [],
   "source": [
    "def inverse(vec):\n",
    "    inf = int(random()*len(vec))\n",
    "    part = list(vec[inf:])\n",
    "    part.reverse()\n",
    "    return vec[:inf]+part"
   ]
  },
  {
   "cell_type": "code",
   "execution_count": 36,
   "metadata": {},
   "outputs": [],
   "source": [
    "def swap (vec):\n",
    "    n_vec = list(vec)\n",
    "    p1 = int(random()*len(vec))\n",
    "    p2 = int(random()*len(vec))\n",
    "    v1 = vec[p1]\n",
    "    v2 = vec[p2]\n",
    "    print(\"swap {} and {}\".format(v1,v2))\n",
    "    n_vec[p1] = v2\n",
    "    n_vec[p2] = v1\n",
    "    return n_vec"
   ]
  },
  {
   "cell_type": "code",
   "execution_count": 37,
   "metadata": {},
   "outputs": [],
   "source": [
    "def insertion(vec):\n",
    "    inf = int(random()*len(vec))\n",
    "    part = vec[inf:]\n",
    "    part = part[1:] + part[:1]\n",
    "    print(part)\n",
    "    return vec[:inf]+part"
   ]
  },
  {
   "cell_type": "code",
   "execution_count": 38,
   "metadata": {},
   "outputs": [
    {
     "name": "stdout",
     "output_type": "stream",
     "text": [
      "Original:\n",
      "[1, 2, 3, 4, 5, 6, 7, 8, 9, 10]\n",
      "Inverse:\n",
      "[10, 9, 8, 7, 6, 5, 4, 3, 2, 1]\n",
      "Swap:\n",
      "swap 2 and 1\n",
      "[2, 1, 3, 4, 5, 6, 7, 8, 9, 10]\n",
      "Insertion\n",
      "[3, 4, 5, 6, 7, 8, 9, 10, 2]\n",
      "[1, 3, 4, 5, 6, 7, 8, 9, 10, 2]\n"
     ]
    }
   ],
   "source": [
    "def mutation(vec,p):#percentual\n",
    "    if random() > p:\n",
    "        return vec\n",
    "    typ = random()\n",
    "    if(typ < 1/3):\n",
    "        print(\"inverse\")\n",
    "        vec = inverse(vec)\n",
    "    elif(typ < 2/3):\n",
    "        print(\"swap\")\n",
    "        vec = swap(vec)\n",
    "    else:\n",
    "        print(\"insertion\")\n",
    "        vec = insertion(vec)\n",
    "    return vec\n",
    "    \n",
    "#mutation(va,0.7)\n",
    "print(\"Original:\")\n",
    "print(va)\n",
    "print(\"Inverse:\")\n",
    "print(inverse(va))\n",
    "print(\"Swap:\")\n",
    "print(swap(va))\n",
    "print(\"Insertion\")\n",
    "print(insertion(va))"
   ]
  },
  {
   "cell_type": "code",
   "execution_count": 39,
   "metadata": {},
   "outputs": [
    {
     "name": "stdout",
     "output_type": "stream",
     "text": [
      "insertion\n",
      "[5, 6, 7, 8, 9, 10, 4]\n"
     ]
    },
    {
     "data": {
      "text/plain": [
       "[1, 2, 3, 5, 6, 7, 8, 9, 10, 4]"
      ]
     },
     "execution_count": 39,
     "metadata": {},
     "output_type": "execute_result"
    }
   ],
   "source": [
    "mutation(va,0.7)"
   ]
  },
  {
   "cell_type": "markdown",
   "metadata": {},
   "source": [
    "<h1>Calculo de Coorelação:</h1>"
   ]
  },
  {
   "cell_type": "code",
   "execution_count": 40,
   "metadata": {},
   "outputs": [],
   "source": [
    "def corr(x,y,p=False):\n",
    "    # n\n",
    "    n = len(x)\n",
    "#Somatórios:\n",
    "    #superiores\n",
    "    xysum = np.dot(x,y) #soma dos x*y\n",
    "    xsum = sum(x)\n",
    "    ysum = sum(y)\n",
    "    #inferiores\n",
    "    #soma dos quadrados\n",
    "    x2sum = np.dot(x,x) #multiplica entrada a entrada dos vetores x e ele mesmo e soma\n",
    "    y2sum = sum([v*v for v in y]) #forma na unha de fazer o mesmo\n",
    "    #quadrado das somas:\n",
    "    xsum2 = xsum**2\n",
    "    ysum2 = ysum**2\n",
    "    #parte superior:\n",
    "    sup = (xysum - xsum*ysum/n)\n",
    "    #parte inferior:\n",
    "    infe = math.sqrt ( (x2sum - xsum2/n) * (y2sum - ysum2/n) )\n",
    "    corresult = sup/infe\n",
    "    if(p):\n",
    "        print(\"Taxa de correlação entre X e Y é:\")\n",
    "        print(\"{}\\n\".format(sup)+len(str(sup))*\"-\"+\" =  {}\".format(corresult)+\"\\n{}\".format(infe))\n",
    "    return corresult"
   ]
  },
  {
   "cell_type": "markdown",
   "metadata": {},
   "source": [
    "<h2>Teste Da Correlação</h2>"
   ]
  },
  {
   "cell_type": "code",
   "execution_count": 41,
   "metadata": {},
   "outputs": [
    {
     "name": "stdout",
     "output_type": "stream",
     "text": [
      "Taxa de correlação entre X e Y é:\n",
      "-0.5499999999999998\n",
      "------------------- =  -0.9710083124552239\n",
      "0.5664215155988811\n"
     ]
    },
    {
     "data": {
      "text/plain": [
       "-0.9710083124552239"
      ]
     },
     "execution_count": 41,
     "metadata": {},
     "output_type": "execute_result"
    }
   ],
   "source": [
    "gerax = lambda base,n,dif: [base + x*dif for x in range(n)] # modo preguiçoso de gerar n números espaçados em 0.5\n",
    "#Carregar valores(teste):\n",
    "x = gerax(2.5, 6,0.5)\n",
    "y = [0.4,0.4,0.3,0.2,0.2,0.1]\n",
    "corr(x,y,True)"
   ]
  },
  {
   "cell_type": "code",
   "execution_count": 42,
   "metadata": {},
   "outputs": [],
   "source": [
    "#!/usr/bin/python\n",
    "\n",
    "from pathlib import Path\n",
    "\n",
    "directory = './nodes_links/'\n",
    "allnodes = dict()\n",
    "alllinks = dict()\n",
    "names = list()\n",
    "for path in Path(directory).iterdir():\n",
    "    url = str(path)\n",
    "    netname = path.name.split('_')[0]\n",
    "    if(path.name.count('nodes')==1):\n",
    "        p = allnodes\n",
    "    else:\n",
    "        p = alllinks\n",
    "    try:\n",
    "        item = pandas.read_csv(url)\n",
    "        p.update( {netname : item })\n",
    "    #    print(url+\" lido\")\n",
    "    except:\n",
    "        try:\n",
    "            #mudar o encoding para os caracteres\n",
    "            item = pandas.read_csv(url,encoding=\"iso-8859-1\")\n",
    "            p.update( {netname : item })\n",
    "        #    print(url+\" lido\")\n",
    "        except:\n",
    "            print(\"!!! não foi possivel ler > \"+name+\" < !!!\")\n",
    "            pass\n",
    "    if names.count(netname) == 0:\n",
    "        names.append(netname) \n"
   ]
  },
  {
   "cell_type": "code",
   "execution_count": 43,
   "metadata": {},
   "outputs": [
    {
     "name": "stdout",
     "output_type": "stream",
     "text": [
      "['canarie', 'italy', 'vbns', 'loni', 'germany', 'geant2', 'arpanet', 'cesnet', 'newnet', 'rnpBrazil', 'pionier', 'spain', 'renater', 'lambdaRailUsa', 'metrona', 'arnes', 'bren', 'portugal', 'usaGde', 'sanet', 'nsfnet', 'austria', 'viaDatacenterNet', 'coxUsa', 'mzima', 'scteste', 'eon', 'memorexEurope', 'deutschTelecom', 'internet2Usa', 'OmnicomEurope']\n"
     ]
    }
   ],
   "source": [
    "print(names)\n",
    "\n",
    "netlinks = alllinks['portugal']\n",
    "netnodes = allnodes['portugal']"
   ]
  },
  {
   "cell_type": "code",
   "execution_count": 44,
   "metadata": {},
   "outputs": [
    {
     "name": "stdout",
     "output_type": "stream",
     "text": [
      "nodes:\n",
      "['Alcácer_do_Sal', 'Aveiro', 'Beja', 'Braga', 'Bragança', 'Caldas_Rainha', 'Castelo_Branco', 'Coimbra', 'Elvas', 'Évora', 'Faro', 'Funchal', 'Guarda', 'Leiria', 'Lisboa', 'Ponta_Delgada', 'Portalegre', 'Portimão', 'Porto', 'Santarém', 'S_João_Madeira', 'Setúbal', 'Sines', 'Viana_do_Castelo', 'Vila_Real', 'Viseu']\n",
      "links:\n",
      "                From              To  Length  Capacity    Cost\n",
      "0             Lisboa   Ponta_Delgada    1500         1  975000\n",
      "1             Lisboa         Funchal    1050         1  682500\n",
      "2      Ponta_Delgada         Funchal    1050         1  682500\n",
      "3           Portimão         Funchal    1010         1  656500\n",
      "4              Braga        Bragança     209         1  135850\n",
      "5           Santarém      Portalegre     144         1   93600\n",
      "6               Beja            Faro     140         1   91000\n",
      "7           Portimão           Sines     139         1   90350\n",
      "8           Santarém         Coimbra     136         1   88400\n",
      "9           Bragança       Vila_Real     118         1   76700\n",
      "10            Aveiro          Leiria     113         1   73450\n",
      "11         Vila_Real           Viseu      97         1   63050\n",
      "12            Guarda  Castelo_Branco      94         1   61100\n",
      "13            Lisboa   Caldas_Rainha      88         1   57200\n",
      "14             Braga  S_João_Madeira      85         1   55250\n",
      "15    S_João_Madeira         Coimbra      84         1   54600\n",
      "16             Viseu         Coimbra      84         1   54600\n",
      "17             Elvas           Évora      83         1   53950\n",
      "18        Portalegre  Castelo_Branco      80         1   52000\n",
      "19          Santarém          Lisboa      76         1   49400\n",
      "20              Beja           Évora      76         1   49400\n",
      "21             Viseu          Guarda      73         1   47450\n",
      "22  Viana_do_Castelo           Porto      70         1   45500\n",
      "23            Leiria        Santarém      70         1   45500\n",
      "24    Alcácer_do_Sal           Évora      68         1   44200\n",
      "25             Porto          Aveiro      67         1   43550\n",
      "26    Alcácer_do_Sal           Sines      65         1   42250\n",
      "27          Portimão            Faro      62         1   40300\n",
      "28           Coimbra          Aveiro      58         1   37700\n",
      "29             Elvas      Portalegre      56         1   36400\n",
      "30            Leiria   Caldas_Rainha      54         1   35100\n",
      "31             Braga           Porto      53         1   34450\n",
      "32    Alcácer_do_Sal         Setúbal      50         1   32500\n",
      "33  Viana_do_Castelo           Braga      47         1   30550\n",
      "34            Lisboa         Setúbal      44         1   28600\n",
      "35             Porto  S_João_Madeira      32         1   20800\n"
     ]
    }
   ],
   "source": [
    "#u = pandas.read_csv(\"./nodes_links/renater_links.csv\")\n",
    "a = netnodes['Id'].values.tolist()\n",
    "print(\"nodes:\\n{}\".format(a))\n",
    "print(\"links:\\n{}\".format(netlinks))"
   ]
  },
  {
   "cell_type": "code",
   "execution_count": 45,
   "metadata": {},
   "outputs": [
    {
     "name": "stdout",
     "output_type": "stream",
     "text": [
      "[[0 0 0 0 0 0 0 0 0 1 0 0 0 0 0 0 0 0 0 0 0 1 1 0 0 0]\n",
      " [0 0 0 0 0 0 0 1 0 0 0 0 0 1 0 0 0 0 1 0 0 0 0 0 0 0]\n",
      " [0 0 0 0 0 0 0 0 0 1 1 0 0 0 0 0 0 0 0 0 0 0 0 0 0 0]\n",
      " [0 0 0 0 1 0 0 0 0 0 0 0 0 0 0 0 0 0 1 0 1 0 0 1 0 0]\n",
      " [0 0 0 1 0 0 0 0 0 0 0 0 0 0 0 0 0 0 0 0 0 0 0 0 1 0]\n",
      " [0 0 0 0 0 0 0 0 0 0 0 0 0 1 1 0 0 0 0 0 0 0 0 0 0 0]\n",
      " [0 0 0 0 0 0 0 0 0 0 0 0 1 0 0 0 1 0 0 0 0 0 0 0 0 0]\n",
      " [0 1 0 0 0 0 0 0 0 0 0 0 0 0 0 0 0 0 0 1 1 0 0 0 0 1]\n",
      " [0 0 0 0 0 0 0 0 0 1 0 0 0 0 0 0 1 0 0 0 0 0 0 0 0 0]\n",
      " [1 0 1 0 0 0 0 0 1 0 0 0 0 0 0 0 0 0 0 0 0 0 0 0 0 0]\n",
      " [0 0 1 0 0 0 0 0 0 0 0 0 0 0 0 0 0 1 0 0 0 0 0 0 0 0]\n",
      " [0 0 0 0 0 0 0 0 0 0 0 0 0 0 1 1 0 1 0 0 0 0 0 0 0 0]\n",
      " [0 0 0 0 0 0 1 0 0 0 0 0 0 0 0 0 0 0 0 0 0 0 0 0 0 1]\n",
      " [0 1 0 0 0 1 0 0 0 0 0 0 0 0 0 0 0 0 0 1 0 0 0 0 0 0]\n",
      " [0 0 0 0 0 1 0 0 0 0 0 1 0 0 0 1 0 0 0 1 0 1 0 0 0 0]\n",
      " [0 0 0 0 0 0 0 0 0 0 0 1 0 0 1 0 0 0 0 0 0 0 0 0 0 0]\n",
      " [0 0 0 0 0 0 1 0 1 0 0 0 0 0 0 0 0 0 0 1 0 0 0 0 0 0]\n",
      " [0 0 0 0 0 0 0 0 0 0 1 1 0 0 0 0 0 0 0 0 0 0 1 0 0 0]\n",
      " [0 1 0 1 0 0 0 0 0 0 0 0 0 0 0 0 0 0 0 0 1 0 0 1 0 0]\n",
      " [0 0 0 0 0 0 0 1 0 0 0 0 0 1 1 0 1 0 0 0 0 0 0 0 0 0]\n",
      " [0 0 0 1 0 0 0 1 0 0 0 0 0 0 0 0 0 0 1 0 0 0 0 0 0 0]\n",
      " [1 0 0 0 0 0 0 0 0 0 0 0 0 0 1 0 0 0 0 0 0 0 0 0 0 0]\n",
      " [1 0 0 0 0 0 0 0 0 0 0 0 0 0 0 0 0 1 0 0 0 0 0 0 0 0]\n",
      " [0 0 0 1 0 0 0 0 0 0 0 0 0 0 0 0 0 0 1 0 0 0 0 0 0 0]\n",
      " [0 0 0 0 1 0 0 0 0 0 0 0 0 0 0 0 0 0 0 0 0 0 0 0 0 1]\n",
      " [0 0 0 0 0 0 0 1 0 0 0 0 1 0 0 0 0 0 0 0 0 0 0 0 1 0]]\n"
     ]
    }
   ],
   "source": [
    "#print(netlinks.loc[:, ['From','To']])\n",
    "#import networkx as nx\n",
    "#g = nx.DiGraph()\n",
    "#nodes = [key for key in u.groupby(\"From\").indices]\n",
    "def monta_matriz(netnodes,netlinks):\n",
    "    nodes = netnodes['Id'].values.tolist()\n",
    "    matrix = np.matrix(np.zeros( (len(nodes),len(nodes)),dtype=np.int ) )\n",
    "    for n in nodes:\n",
    "        l = netlinks.loc[netlinks['From']==n,['To']].values\n",
    "        indexes = [nodes.index(x) for x in l]\n",
    "        if(len(indexes) > 0):\n",
    "            matrix[nodes.index(n),indexes] = 1\n",
    "            matrix[indexes,nodes.index(n)] = 1 #bidirecional\n",
    "    return matrix\n",
    "#l = u.loc[u['From']==\"Boston\",['To']]\n",
    "#print(l.values)\n",
    "#print(nodes.index(\"NewYork\"))\n",
    "#nodes.index(\"Boston\")\n",
    "#g.add_nodes_from(nodes)\n",
    "\n",
    "matrix = monta_matriz(netnodes,netlinks)\n",
    "print (matrix)"
   ]
  },
  {
   "cell_type": "code",
   "execution_count": 46,
   "metadata": {},
   "outputs": [],
   "source": [
    "def calc_grau(matrix):\n",
    "    soma=0\n",
    "    for l in range(len(matrix)):\n",
    "        for c in range(len(matrix)):\n",
    "            soma += matrix[l,c]\n",
    "    return soma/(len(matrix))"
   ]
  },
  {
   "cell_type": "code",
   "execution_count": 47,
   "metadata": {},
   "outputs": [
    {
     "name": "stdout",
     "output_type": "stream",
     "text": [
      "grau médio: 2.769230769230769\n"
     ]
    }
   ],
   "source": [
    "print(\"grau médio: {}\".format(calc_grau(matrix)))"
   ]
  },
  {
   "cell_type": "code",
   "execution_count": 48,
   "metadata": {},
   "outputs": [],
   "source": [
    "def aumentar_grau(mtx,inc_grau): #nodos = 6, p/incrementar 1 grau adicionamos 6 enlaces, para inc 0.5 add 3\n",
    "    grau = calc_grau(mtx)\n",
    "    mind = len(mtx)-1\n",
    "    n_grau = grau\n",
    "    while n_grau < mind and n_grau < grau + inc_grau:\n",
    "        x,y=(None,None)\n",
    "        while (x==None and y==None):\n",
    "            x,y = (randint(0,mind), randint(0,mind))\n",
    "            if x==y or mtx[x,y]==1:\n",
    "                x,y=(None,None)\n",
    "        mtx[x,y]=1\n",
    "        mtx[y,x]=1 #bijetora...\n",
    "        n_grau=calc_grau(mtx)"
   ]
  },
  {
   "cell_type": "code",
   "execution_count": 49,
   "metadata": {},
   "outputs": [],
   "source": [
    "aumentar_grau(matrix,10)"
   ]
  },
  {
   "cell_type": "code",
   "execution_count": 50,
   "metadata": {},
   "outputs": [
    {
     "name": "stdout",
     "output_type": "stream",
     "text": [
      "[[0 0 1 1 0 0 0 0 0 1 0 1 0 0 1 0 0 0 1 0 0 1 1 0 0 0]\n",
      " [0 0 0 0 0 1 0 1 1 0 1 0 1 1 0 1 0 0 1 1 1 1 1 0 0 1]\n",
      " [1 0 0 0 0 1 0 1 0 1 1 0 0 1 0 1 1 1 1 0 0 1 0 0 0 1]\n",
      " [1 0 0 0 1 0 0 0 1 1 1 0 1 0 1 1 0 0 1 0 1 1 1 1 0 0]\n",
      " [0 0 0 1 0 0 1 1 0 1 1 1 1 0 0 1 1 0 0 0 1 1 0 1 1 1]\n",
      " [0 1 1 0 0 0 0 0 1 1 0 0 0 1 1 1 0 1 0 1 0 1 0 0 0 0]\n",
      " [0 0 0 0 1 0 0 0 0 0 1 0 1 1 1 0 1 0 0 1 0 1 0 0 1 0]\n",
      " [0 1 1 0 1 0 0 0 0 1 1 1 0 1 0 0 1 0 1 1 1 0 1 1 1 1]\n",
      " [0 1 0 1 0 1 0 0 0 1 1 1 0 0 0 1 1 1 1 1 1 1 1 1 1 0]\n",
      " [1 0 1 1 1 1 0 1 1 0 0 1 1 1 1 1 0 0 0 0 0 0 0 0 1 0]\n",
      " [0 1 1 1 1 0 1 1 1 0 0 0 0 1 0 0 1 1 1 1 1 0 1 1 1 0]\n",
      " [1 0 0 0 1 0 0 1 1 1 0 0 1 0 1 1 1 1 1 0 0 1 0 1 1 0]\n",
      " [0 1 0 1 1 0 1 0 0 1 0 1 0 0 1 1 0 1 1 1 0 1 1 0 0 1]\n",
      " [0 1 1 0 0 1 1 1 0 1 1 0 0 0 1 1 0 0 0 1 0 0 0 0 1 0]\n",
      " [1 0 0 1 0 1 1 0 0 1 0 1 1 1 0 1 1 0 1 1 0 1 0 0 0 1]\n",
      " [0 1 1 1 1 1 0 0 1 1 0 1 1 1 1 0 0 1 1 1 0 1 1 0 1 1]\n",
      " [0 0 1 0 1 0 1 1 1 0 1 1 0 0 1 0 0 0 0 1 0 0 0 0 0 0]\n",
      " [0 0 1 0 0 1 0 0 1 0 1 1 1 0 0 1 0 0 0 0 1 0 1 1 1 0]\n",
      " [1 1 1 1 0 0 0 1 1 0 1 1 1 0 1 1 0 0 0 0 1 0 1 1 0 0]\n",
      " [0 1 0 0 0 1 1 1 1 0 1 0 1 1 1 1 1 0 0 0 0 1 0 1 1 0]\n",
      " [0 1 0 1 1 0 0 1 1 0 1 0 0 0 0 0 0 1 1 0 0 1 0 1 1 0]\n",
      " [1 1 1 1 1 1 1 0 1 0 0 1 1 0 1 1 0 0 0 1 1 0 0 0 0 1]\n",
      " [1 1 0 1 0 0 0 1 1 0 1 0 1 0 0 1 0 1 1 0 0 0 0 0 1 0]\n",
      " [0 0 0 1 1 0 0 1 1 0 1 1 0 0 0 0 0 1 1 1 1 0 0 0 1 1]\n",
      " [0 0 0 0 1 0 1 1 1 1 1 1 0 1 0 1 0 1 0 1 1 0 1 1 0 1]\n",
      " [0 1 1 0 1 0 0 1 0 0 0 0 1 0 1 1 0 0 0 0 0 1 0 1 1 0]]\n"
     ]
    }
   ],
   "source": [
    "print(matrix)"
   ]
  },
  {
   "cell_type": "code",
   "execution_count": 51,
   "metadata": {},
   "outputs": [
    {
     "name": "stdout",
     "output_type": "stream",
     "text": [
      "grau médio: 12.76923076923077\n"
     ]
    }
   ],
   "source": [
    "print(\"grau médio: {}\".format(calc_grau(matrix)))"
   ]
  },
  {
   "cell_type": "code",
   "execution_count": 52,
   "metadata": {},
   "outputs": [],
   "source": [
    "aumentar_grau(matrix,100)"
   ]
  },
  {
   "cell_type": "code",
   "execution_count": 53,
   "metadata": {},
   "outputs": [
    {
     "name": "stdout",
     "output_type": "stream",
     "text": [
      "grau médio: 25.0\n"
     ]
    }
   ],
   "source": [
    "print(\"grau médio: {}\".format(calc_grau(matrix)))"
   ]
  },
  {
   "cell_type": "code",
   "execution_count": 54,
   "metadata": {},
   "outputs": [
    {
     "name": "stdout",
     "output_type": "stream",
     "text": [
      "[[0 1 1 1 1 1 1 1 1 1 1 1 1 1 1 1 1 1 1 1 1 1 1 1 1 1]\n",
      " [1 0 1 1 1 1 1 1 1 1 1 1 1 1 1 1 1 1 1 1 1 1 1 1 1 1]\n",
      " [1 1 0 1 1 1 1 1 1 1 1 1 1 1 1 1 1 1 1 1 1 1 1 1 1 1]\n",
      " [1 1 1 0 1 1 1 1 1 1 1 1 1 1 1 1 1 1 1 1 1 1 1 1 1 1]\n",
      " [1 1 1 1 0 1 1 1 1 1 1 1 1 1 1 1 1 1 1 1 1 1 1 1 1 1]\n",
      " [1 1 1 1 1 0 1 1 1 1 1 1 1 1 1 1 1 1 1 1 1 1 1 1 1 1]\n",
      " [1 1 1 1 1 1 0 1 1 1 1 1 1 1 1 1 1 1 1 1 1 1 1 1 1 1]\n",
      " [1 1 1 1 1 1 1 0 1 1 1 1 1 1 1 1 1 1 1 1 1 1 1 1 1 1]\n",
      " [1 1 1 1 1 1 1 1 0 1 1 1 1 1 1 1 1 1 1 1 1 1 1 1 1 1]\n",
      " [1 1 1 1 1 1 1 1 1 0 1 1 1 1 1 1 1 1 1 1 1 1 1 1 1 1]\n",
      " [1 1 1 1 1 1 1 1 1 1 0 1 1 1 1 1 1 1 1 1 1 1 1 1 1 1]\n",
      " [1 1 1 1 1 1 1 1 1 1 1 0 1 1 1 1 1 1 1 1 1 1 1 1 1 1]\n",
      " [1 1 1 1 1 1 1 1 1 1 1 1 0 1 1 1 1 1 1 1 1 1 1 1 1 1]\n",
      " [1 1 1 1 1 1 1 1 1 1 1 1 1 0 1 1 1 1 1 1 1 1 1 1 1 1]\n",
      " [1 1 1 1 1 1 1 1 1 1 1 1 1 1 0 1 1 1 1 1 1 1 1 1 1 1]\n",
      " [1 1 1 1 1 1 1 1 1 1 1 1 1 1 1 0 1 1 1 1 1 1 1 1 1 1]\n",
      " [1 1 1 1 1 1 1 1 1 1 1 1 1 1 1 1 0 1 1 1 1 1 1 1 1 1]\n",
      " [1 1 1 1 1 1 1 1 1 1 1 1 1 1 1 1 1 0 1 1 1 1 1 1 1 1]\n",
      " [1 1 1 1 1 1 1 1 1 1 1 1 1 1 1 1 1 1 0 1 1 1 1 1 1 1]\n",
      " [1 1 1 1 1 1 1 1 1 1 1 1 1 1 1 1 1 1 1 0 1 1 1 1 1 1]\n",
      " [1 1 1 1 1 1 1 1 1 1 1 1 1 1 1 1 1 1 1 1 0 1 1 1 1 1]\n",
      " [1 1 1 1 1 1 1 1 1 1 1 1 1 1 1 1 1 1 1 1 1 0 1 1 1 1]\n",
      " [1 1 1 1 1 1 1 1 1 1 1 1 1 1 1 1 1 1 1 1 1 1 0 1 1 1]\n",
      " [1 1 1 1 1 1 1 1 1 1 1 1 1 1 1 1 1 1 1 1 1 1 1 0 1 1]\n",
      " [1 1 1 1 1 1 1 1 1 1 1 1 1 1 1 1 1 1 1 1 1 1 1 1 0 1]\n",
      " [1 1 1 1 1 1 1 1 1 1 1 1 1 1 1 1 1 1 1 1 1 1 1 1 1 0]]\n"
     ]
    }
   ],
   "source": [
    "print(matrix)"
   ]
  },
  {
   "cell_type": "code",
   "execution_count": 68,
   "metadata": {},
   "outputs": [
    {
     "name": "stdout",
     "output_type": "stream",
     "text": [
      "matriz canarie:\n",
      "[[0 1 0 0 1 0 0 0 0 0 0 0 0 0 0 0 0 0 0]\n",
      " [1 0 1 0 0 0 0 0 0 0 0 0 0 0 0 0 0 0 0]\n",
      " [0 1 0 1 0 0 1 0 0 0 0 0 0 0 0 0 0 0 0]\n",
      " [0 0 1 0 1 0 0 0 0 0 0 0 0 0 0 0 0 0 0]\n",
      " [1 0 0 1 0 1 0 0 0 0 0 0 0 0 0 0 0 0 0]\n",
      " [0 0 0 0 1 0 1 0 0 0 0 0 0 0 0 0 0 0 0]\n",
      " [0 0 1 0 0 1 0 1 0 1 1 0 0 0 0 0 0 0 0]\n",
      " [0 0 0 0 0 0 1 0 1 0 0 0 0 0 0 0 0 0 0]\n",
      " [0 0 0 0 0 0 0 1 0 0 0 0 0 1 0 0 0 0 1]\n",
      " [0 0 0 0 0 0 1 0 0 0 1 0 0 0 0 0 0 0 0]\n",
      " [0 0 0 0 0 0 1 0 0 1 0 1 1 1 0 0 0 0 0]\n",
      " [0 0 0 0 0 0 0 0 0 0 1 0 0 1 0 0 0 0 0]\n",
      " [0 0 0 0 0 0 0 0 0 0 1 0 0 0 1 0 0 0 0]\n",
      " [0 0 0 0 0 0 0 0 1 0 1 1 0 0 1 1 0 0 0]\n",
      " [0 0 0 0 0 0 0 0 0 0 0 0 1 1 0 0 0 0 0]\n",
      " [0 0 0 0 0 0 0 0 0 0 0 0 0 1 0 0 1 0 0]\n",
      " [0 0 0 0 0 0 0 0 0 0 0 0 0 0 0 1 0 1 1]\n",
      " [0 0 0 0 0 0 0 0 0 0 0 0 0 0 0 0 1 0 1]\n",
      " [0 0 0 0 0 0 0 0 1 0 0 0 0 0 0 0 1 1 0]]\n",
      "matriz italy:\n",
      "[[0 1 0 1 0 0 0 0 0 0 0 0 0 0]\n",
      " [1 0 1 1 0 0 0 0 0 0 0 0 0 0]\n",
      " [0 1 0 1 1 0 0 0 0 0 0 0 0 0]\n",
      " [1 1 1 0 1 1 1 1 0 0 1 0 0 1]\n",
      " [0 0 1 1 0 1 0 0 0 0 0 0 0 0]\n",
      " [0 0 0 1 1 0 1 0 1 0 1 0 0 1]\n",
      " [0 0 0 1 0 1 0 1 0 0 1 0 0 0]\n",
      " [0 0 0 1 0 0 1 0 1 0 0 0 0 0]\n",
      " [0 0 0 0 0 1 0 1 0 1 1 0 0 0]\n",
      " [0 0 0 0 0 0 0 0 1 0 1 0 0 1]\n",
      " [0 0 0 1 0 1 1 0 1 1 0 1 1 1]\n",
      " [0 0 0 0 0 0 0 0 0 0 1 0 1 0]\n",
      " [0 0 0 0 0 0 0 0 0 0 1 1 0 1]\n",
      " [0 0 0 1 0 1 0 0 0 1 1 0 1 0]]\n",
      "matriz vbns:\n",
      "[[0 1 0 1 0 0 0 0 0 0 0 0]\n",
      " [1 0 1 1 0 0 0 0 0 0 0 0]\n",
      " [0 1 0 0 0 1 0 0 0 0 0 0]\n",
      " [1 1 0 0 1 0 0 0 0 0 0 0]\n",
      " [0 0 0 1 0 1 1 0 0 0 0 0]\n",
      " [0 0 1 0 1 0 0 1 0 0 0 0]\n",
      " [0 0 0 0 1 0 0 0 1 1 0 1]\n",
      " [0 0 0 0 0 1 0 0 0 0 1 1]\n",
      " [0 0 0 0 0 0 1 0 0 1 0 1]\n",
      " [0 0 0 0 0 0 1 0 1 0 0 0]\n",
      " [0 0 0 0 0 0 0 1 0 0 0 1]\n",
      " [0 0 0 0 0 0 1 1 1 0 1 0]]\n",
      "matriz loni:\n",
      "[[0 1 0 ... 0 0 0]\n",
      " [1 0 1 ... 0 0 0]\n",
      " [0 1 0 ... 0 0 0]\n",
      " ...\n",
      " [0 0 0 ... 0 1 0]\n",
      " [0 0 0 ... 1 0 0]\n",
      " [0 0 0 ... 0 0 0]]\n",
      "matriz germany:\n",
      "[[0 1 0 1 0 0 0 0 0 0 0 0 0 0 0 0 1]\n",
      " [1 0 0 1 0 0 0 0 0 0 0 0 0 0 1 0 0]\n",
      " [0 0 0 0 0 0 0 0 1 0 0 0 0 0 0 0 1]\n",
      " [1 1 0 0 0 1 0 0 1 0 0 0 0 0 1 0 1]\n",
      " [0 0 0 0 0 1 1 0 1 0 0 0 0 0 0 0 0]\n",
      " [0 0 0 1 1 0 0 0 0 0 1 0 0 0 1 1 0]\n",
      " [0 0 0 0 1 0 0 1 0 0 0 0 0 0 0 0 0]\n",
      " [0 0 0 0 0 0 1 0 1 0 0 0 0 0 0 0 0]\n",
      " [0 0 1 1 1 0 0 1 0 0 0 0 0 0 0 0 0]\n",
      " [0 0 0 0 0 0 0 0 0 0 1 1 0 0 0 0 0]\n",
      " [0 0 0 0 0 1 0 0 0 1 0 0 0 0 0 0 0]\n",
      " [0 0 0 0 0 0 0 0 0 1 0 0 0 1 0 1 0]\n",
      " [0 0 0 0 0 0 0 0 0 0 0 0 0 1 0 1 0]\n",
      " [0 0 0 0 0 0 0 0 0 0 0 1 1 0 0 0 0]\n",
      " [0 1 0 1 0 1 0 0 0 0 0 0 0 0 0 1 0]\n",
      " [0 0 0 0 0 1 0 0 0 0 0 1 1 0 1 0 0]\n",
      " [1 0 1 1 0 0 0 0 0 0 0 0 0 0 0 0 0]]\n",
      "matriz geant2:\n",
      "[[0 0 0 ... 1 0 0]\n",
      " [0 0 0 ... 0 0 1]\n",
      " [0 0 0 ... 0 1 0]\n",
      " ...\n",
      " [1 0 0 ... 0 0 0]\n",
      " [0 0 1 ... 0 0 0]\n",
      " [0 1 0 ... 0 0 0]]\n",
      "matriz arpanet:\n",
      "[[0 0 1 1 0 0 0 0 1 0 0 0 0 0 0 0 0 0 0 0]\n",
      " [0 0 1 0 1 0 0 1 0 0 0 0 0 0 0 0 0 0 0 0]\n",
      " [1 1 0 1 0 0 0 0 0 0 0 0 0 0 0 0 0 0 0 0]\n",
      " [1 0 1 0 1 0 0 0 0 0 0 0 0 0 0 0 0 0 0 0]\n",
      " [0 1 0 1 0 1 0 0 0 0 0 0 0 0 0 0 0 0 0 0]\n",
      " [0 0 0 0 1 0 1 1 0 0 0 0 0 0 0 0 0 0 0 0]\n",
      " [0 0 0 0 0 1 0 0 0 0 0 1 1 0 1 0 0 0 0 0]\n",
      " [0 1 0 0 0 1 0 0 0 0 0 0 0 0 1 0 0 0 0 0]\n",
      " [1 0 0 0 0 0 0 0 0 1 0 1 0 0 0 0 0 0 0 0]\n",
      " [0 0 0 0 0 0 0 0 1 0 1 0 0 0 0 0 0 0 1 0]\n",
      " [0 0 0 0 0 0 0 0 0 1 0 0 0 0 0 1 1 0 0 0]\n",
      " [0 0 0 0 0 0 1 0 1 0 0 0 0 0 1 0 0 0 0 0]\n",
      " [0 0 0 0 0 0 1 0 0 0 0 0 0 1 0 1 0 0 0 0]\n",
      " [0 0 0 0 0 0 0 0 0 0 0 0 1 0 0 1 1 0 0 0]\n",
      " [0 0 0 0 0 0 1 1 0 0 0 1 0 0 0 0 0 1 0 0]\n",
      " [0 0 0 0 0 0 0 0 0 0 1 0 1 1 0 0 0 0 0 1]\n",
      " [0 0 0 0 0 0 0 0 0 0 1 0 0 1 0 0 0 1 0 0]\n",
      " [0 0 0 0 0 0 0 0 0 0 0 0 0 0 1 0 1 0 1 1]\n",
      " [0 0 0 0 0 0 0 0 0 1 0 0 0 0 0 0 0 1 0 1]\n",
      " [0 0 0 0 0 0 0 0 0 0 0 0 0 0 0 1 0 1 1 0]]\n",
      "matriz cesnet:\n",
      "[[0 1 1 1 0 0 0 0 0 1 1 1]\n",
      " [1 0 1 0 0 0 0 0 0 0 0 0]\n",
      " [1 1 0 1 0 0 0 0 0 0 0 0]\n",
      " [1 0 1 0 1 0 0 0 0 0 0 1]\n",
      " [0 0 0 1 0 1 1 1 0 0 0 0]\n",
      " [0 0 0 0 1 0 0 1 0 0 0 0]\n",
      " [0 0 0 0 1 0 0 1 0 0 0 0]\n",
      " [0 0 0 0 1 1 1 0 1 1 0 0]\n",
      " [0 0 0 0 0 0 0 1 0 1 0 0]\n",
      " [1 0 0 0 0 0 0 1 1 0 1 0]\n",
      " [1 0 0 0 0 0 0 0 0 1 0 0]\n",
      " [1 0 0 1 0 0 0 0 0 0 0 0]]\n",
      "matriz newnet:\n",
      "[[0 1 1 0 0 0 0 0 0 0 0 0 0 0 0 0 0 0 0 0 0 0 0 0 0 0]\n",
      " [1 0 0 0 0 0 0 0 0 0 0 0 0 0 0 0 0 0 0 0 0 0 0 1 0 0]\n",
      " [1 0 0 1 0 0 0 0 0 0 0 0 0 0 0 0 0 0 0 0 0 0 0 0 0 0]\n",
      " [0 0 1 0 0 0 0 0 1 0 0 0 0 0 0 0 0 0 0 0 0 0 0 1 0 0]\n",
      " [0 0 0 0 0 1 0 0 0 0 0 0 0 0 0 0 0 0 0 0 0 0 0 1 0 0]\n",
      " [0 0 0 0 1 0 1 0 0 0 0 0 0 0 0 0 0 0 0 0 0 0 0 0 0 0]\n",
      " [0 0 0 0 0 1 0 1 0 0 1 0 0 0 0 0 0 0 0 0 0 0 0 0 0 0]\n",
      " [0 0 0 0 0 0 1 0 1 0 0 0 0 0 0 0 0 0 0 0 0 0 0 0 0 0]\n",
      " [0 0 0 1 0 0 0 1 0 1 0 0 0 0 0 0 0 0 0 0 0 0 0 0 0 0]\n",
      " [0 0 0 0 0 0 0 0 1 0 0 0 0 0 0 1 0 0 0 0 0 0 0 0 1 0]\n",
      " [0 0 0 0 0 0 1 0 0 0 0 0 0 0 0 0 0 0 0 0 0 0 0 0 1 1]\n",
      " [0 0 0 0 0 0 0 0 0 0 0 0 1 0 0 0 0 0 0 0 0 0 0 0 0 1]\n",
      " [0 0 0 0 0 0 0 0 0 0 0 1 0 1 0 0 0 0 1 0 0 0 0 0 0 0]\n",
      " [0 0 0 0 0 0 0 0 0 0 0 0 1 0 1 0 0 0 0 0 0 0 0 0 0 0]\n",
      " [0 0 0 0 0 0 0 0 0 0 0 0 0 1 0 1 0 0 0 0 0 0 0 0 0 0]\n",
      " [0 0 0 0 0 0 0 0 0 1 0 0 0 0 1 0 1 0 0 0 0 0 0 0 0 0]\n",
      " [0 0 0 0 0 0 0 0 0 0 0 0 0 0 0 1 0 1 0 0 0 0 1 0 0 0]\n",
      " [0 0 0 0 0 0 0 0 0 0 0 0 0 0 0 0 1 0 0 1 0 0 0 0 0 0]\n",
      " [0 0 0 0 0 0 0 0 0 0 0 0 1 0 0 0 0 0 0 1 0 0 0 0 0 0]\n",
      " [0 0 0 0 0 0 0 0 0 0 0 0 0 0 0 0 0 1 1 0 1 0 0 0 0 0]\n",
      " [0 0 0 0 0 0 0 0 0 0 0 0 0 0 0 0 0 0 0 1 0 1 0 0 0 0]\n",
      " [0 0 0 0 0 0 0 0 0 0 0 0 0 0 0 0 0 0 0 0 1 0 1 0 0 0]\n",
      " [0 0 0 0 0 0 0 0 0 0 0 0 0 0 0 0 1 0 0 0 0 1 0 0 0 0]\n",
      " [0 1 0 1 1 0 0 0 0 0 0 0 0 0 0 0 0 0 0 0 0 0 0 0 0 0]\n",
      " [0 0 0 0 0 0 0 0 0 1 1 0 0 0 0 0 0 0 0 0 0 0 0 0 0 0]\n",
      " [0 0 0 0 0 0 0 0 0 0 1 1 0 0 0 0 0 0 0 0 0 0 0 0 0 0]]\n",
      "matriz rnpBrazil:\n",
      "[[0 1 0 0 0 0 0 1 0 0]\n",
      " [1 0 0 0 0 1 0 0 0 0]\n",
      " [0 0 0 1 0 1 0 1 0 0]\n",
      " [0 0 1 0 1 0 1 0 0 0]\n",
      " [0 0 0 1 0 0 0 0 1 0]\n",
      " [0 1 1 0 0 0 0 0 0 0]\n",
      " [0 0 0 1 0 0 0 1 0 1]\n",
      " [1 0 1 0 0 0 1 0 0 0]\n",
      " [0 0 0 0 1 0 0 0 0 1]\n",
      " [0 0 0 0 0 0 1 0 1 0]]\n",
      "matriz pionier:\n",
      "[[0 1 1 0 0 0 0 0 0 0 0 0 0 0 0 0 0 0 0 0 0]\n",
      " [1 0 0 0 0 0 0 0 0 0 0 0 0 0 0 1 1 0 0 0 0]\n",
      " [1 0 0 1 0 0 0 0 0 0 0 0 0 0 0 0 0 0 0 0 0]\n",
      " [0 0 1 0 1 0 0 0 0 0 0 0 1 1 0 0 0 0 0 0 0]\n",
      " [0 0 0 1 0 0 1 0 0 1 0 0 0 0 0 0 0 0 0 0 0]\n",
      " [0 0 0 0 0 0 1 1 0 0 0 0 0 0 0 0 0 0 0 0 0]\n",
      " [0 0 0 0 1 1 0 0 0 0 0 0 0 0 0 0 0 0 0 0 0]\n",
      " [0 0 0 0 0 1 0 0 1 0 0 0 0 0 0 0 0 0 0 0 0]\n",
      " [0 0 0 0 0 0 0 1 0 1 1 0 0 0 0 0 0 0 0 0 0]\n",
      " [0 0 0 0 1 0 0 0 1 0 0 0 0 0 0 0 0 0 0 0 0]\n",
      " [0 0 0 0 0 0 0 0 1 0 0 1 0 0 0 0 0 0 0 1 0]\n",
      " [0 0 0 0 0 0 0 0 0 0 1 0 1 0 0 0 0 0 0 0 0]\n",
      " [0 0 0 1 0 0 0 0 0 0 0 1 0 0 0 0 0 0 0 0 0]\n",
      " [0 0 0 1 0 0 0 0 0 0 0 0 0 0 1 0 0 1 1 0 0]\n",
      " [0 0 0 0 0 0 0 0 0 0 0 0 0 1 0 1 0 0 0 0 0]\n",
      " [0 1 0 0 0 0 0 0 0 0 0 0 0 0 1 0 0 0 0 0 0]\n",
      " [0 1 0 0 0 0 0 0 0 0 0 0 0 0 0 0 0 1 0 0 0]\n",
      " [0 0 0 0 0 0 0 0 0 0 0 0 0 1 0 0 1 0 0 0 0]\n",
      " [0 0 0 0 0 0 0 0 0 0 0 0 0 1 0 0 0 0 0 0 1]\n",
      " [0 0 0 0 0 0 0 0 0 0 1 0 0 0 0 0 0 0 0 0 1]\n",
      " [0 0 0 0 0 0 0 0 0 0 0 0 0 0 0 0 0 0 1 1 0]]\n",
      "matriz spain:\n",
      "[[0 1 0 1 0 0 0 1 1 0 0 0 0 0 0 0 0]\n",
      " [1 0 1 0 0 0 0 0 0 0 0 0 0 0 0 0 0]\n",
      " [0 1 0 1 0 0 0 0 0 0 0 0 0 0 0 0 0]\n",
      " [1 0 1 0 1 0 0 0 1 0 0 0 0 0 0 0 0]\n",
      " [0 0 0 1 0 1 0 0 0 0 0 0 0 0 0 0 0]\n",
      " [0 0 0 0 1 0 1 0 1 0 0 0 0 0 0 0 0]\n",
      " [0 0 0 0 0 1 0 0 1 1 0 0 0 0 0 1 0]\n",
      " [1 0 0 0 0 0 0 0 1 0 0 0 0 0 0 0 0]\n",
      " [1 0 0 1 0 1 1 1 0 1 0 1 1 0 1 0 1]\n",
      " [0 0 0 0 0 0 1 0 1 0 1 1 0 0 0 1 0]\n",
      " [0 0 0 0 0 0 0 0 0 1 0 1 0 0 0 0 0]\n",
      " [0 0 0 0 0 0 0 0 1 1 1 0 1 1 0 0 1]\n",
      " [0 0 0 0 0 0 0 0 1 0 0 1 0 0 0 0 0]\n",
      " [0 0 0 0 0 0 0 0 0 0 0 1 0 0 1 0 0]\n",
      " [0 0 0 0 0 0 0 0 1 0 0 0 0 1 0 0 0]\n",
      " [0 0 0 0 0 0 1 0 0 1 0 0 0 0 0 0 0]\n",
      " [0 0 0 0 0 0 0 0 1 0 0 1 0 0 0 0 0]]\n",
      "matriz renater:\n",
      "[[0 1 1 0 0 0 0 0 0 0 0 0 0 0 0 0 0 0 0 0 0 0 0 0 0 0 0]\n",
      " [1 0 1 1 0 0 0 0 0 0 0 0 0 0 0 0 0 0 0 0 0 0 0 0 0 0 0]\n",
      " [1 1 0 0 0 0 0 0 0 0 1 0 0 0 0 0 0 0 0 0 0 0 0 0 0 0 0]\n",
      " [0 1 0 0 1 0 0 1 0 0 0 0 0 0 0 0 0 0 0 0 0 0 0 0 0 0 0]\n",
      " [0 0 0 1 0 1 0 0 0 0 0 0 0 0 0 0 0 0 0 0 0 0 0 0 0 0 0]\n",
      " [0 0 0 0 1 0 1 0 0 0 0 0 0 0 0 0 0 0 0 0 0 0 0 0 0 0 0]\n",
      " [0 0 0 0 0 1 0 1 0 0 0 0 0 0 0 0 0 0 0 0 0 0 0 0 0 0 0]\n",
      " [0 0 0 1 0 0 1 0 1 0 0 1 0 0 0 0 1 0 0 0 0 0 0 0 0 0 0]\n",
      " [0 0 0 0 0 0 0 1 0 1 0 0 0 0 0 0 0 0 0 0 0 0 0 0 0 0 0]\n",
      " [0 0 0 0 0 0 0 0 1 0 1 0 0 0 0 0 0 0 0 0 0 0 0 0 0 0 0]\n",
      " [0 0 1 0 0 0 0 0 0 1 0 0 0 0 0 0 1 0 0 0 0 0 1 0 0 0 1]\n",
      " [0 0 0 0 0 0 0 1 0 0 0 0 1 0 0 0 0 0 0 0 0 0 0 0 0 0 0]\n",
      " [0 0 0 0 0 0 0 0 0 0 0 1 0 1 0 0 0 0 0 0 0 0 0 0 0 0 0]\n",
      " [0 0 0 0 0 0 0 0 0 0 0 0 1 0 1 0 0 0 0 0 0 0 0 0 0 0 0]\n",
      " [0 0 0 0 0 0 0 0 0 0 0 0 0 1 0 1 0 0 0 0 0 0 0 0 0 0 0]\n",
      " [0 0 0 0 0 0 0 0 0 0 0 0 0 0 1 0 1 0 0 0 0 0 0 0 0 0 0]\n",
      " [0 0 0 0 0 0 0 1 0 0 1 0 0 0 0 1 0 1 1 1 0 0 0 0 0 0 1]\n",
      " [0 0 0 0 0 0 0 0 0 0 0 0 0 0 0 0 1 0 1 0 0 0 0 0 0 0 0]\n",
      " [0 0 0 0 0 0 0 0 0 0 0 0 0 0 0 0 1 1 0 0 0 0 0 0 0 0 0]\n",
      " [0 0 0 0 0 0 0 0 0 0 0 0 0 0 0 0 1 0 0 0 1 0 0 0 0 0 0]\n",
      " [0 0 0 0 0 0 0 0 0 0 0 0 0 0 0 0 0 0 0 1 0 1 0 0 0 0 0]\n",
      " [0 0 0 0 0 0 0 0 0 0 0 0 0 0 0 0 0 0 0 0 1 0 1 0 0 0 0]\n",
      " [0 0 0 0 0 0 0 0 0 0 1 0 0 0 0 0 0 0 0 0 0 1 0 1 0 0 0]\n",
      " [0 0 0 0 0 0 0 0 0 0 0 0 0 0 0 0 0 0 0 0 0 0 1 0 1 0 0]\n",
      " [0 0 0 0 0 0 0 0 0 0 0 0 0 0 0 0 0 0 0 0 0 0 0 1 0 1 0]\n",
      " [0 0 0 0 0 0 0 0 0 0 0 0 0 0 0 0 0 0 0 0 0 0 0 0 1 0 1]\n",
      " [0 0 0 0 0 0 0 0 0 0 1 0 0 0 0 0 1 0 0 0 0 0 0 0 0 1 0]]\n",
      "matriz lambdaRailUsa:\n",
      "[[0 1 0 0 0 0 0 0 0 0 0 0 0 0 0 0 1 0 0]\n",
      " [1 0 0 1 0 0 0 0 0 0 0 0 0 0 0 0 0 0 0]\n",
      " [0 0 0 1 1 0 0 0 0 0 0 0 0 0 0 0 0 1 0]\n",
      " [0 1 1 0 0 0 0 0 0 0 0 0 0 0 0 0 0 0 0]\n",
      " [0 0 1 0 0 1 0 0 0 0 0 0 0 0 0 0 0 0 1]\n",
      " [0 0 0 0 1 0 1 0 0 0 0 0 0 0 0 0 0 0 0]\n",
      " [0 0 0 0 0 1 0 1 0 0 0 0 0 0 0 0 0 0 0]\n",
      " [0 0 0 0 0 0 1 0 1 0 0 0 0 0 0 0 0 0 0]\n",
      " [0 0 0 0 0 0 0 1 0 1 0 0 0 0 0 0 0 0 0]\n",
      " [0 0 0 0 0 0 0 0 1 0 1 0 1 0 0 0 0 0 0]\n",
      " [0 0 0 0 0 0 0 0 0 1 0 1 0 1 0 0 0 0 0]\n",
      " [0 0 0 0 0 0 0 0 0 0 1 0 0 0 1 0 0 0 0]\n",
      " [0 0 0 0 0 0 0 0 0 1 0 0 0 1 0 0 0 0 0]\n",
      " [0 0 0 0 0 0 0 0 0 0 1 0 1 0 1 0 0 0 0]\n",
      " [0 0 0 0 0 0 0 0 0 0 0 1 0 1 0 1 0 0 0]\n",
      " [0 0 0 0 0 0 0 0 0 0 0 0 0 0 1 0 1 0 1]\n",
      " [1 0 0 0 0 0 0 0 0 0 0 0 0 0 0 1 0 1 0]\n",
      " [0 0 1 0 0 0 0 0 0 0 0 0 0 0 0 0 1 0 0]\n",
      " [0 0 0 0 1 0 0 0 0 0 0 0 0 0 0 1 0 0 0]]\n"
     ]
    },
    {
     "name": "stdout",
     "output_type": "stream",
     "text": [
      "matriz metrona:\n",
      "[[0 1 0 ... 0 0 0]\n",
      " [1 0 1 ... 0 0 0]\n",
      " [0 1 0 ... 0 0 0]\n",
      " ...\n",
      " [0 0 0 ... 0 1 0]\n",
      " [0 0 0 ... 1 0 0]\n",
      " [0 0 0 ... 0 0 0]]\n",
      "matriz arnes:\n",
      "[[0 0 0 0 0 0 0 1 0 0 0 0 1 1 0 1 0]\n",
      " [0 0 0 1 0 0 0 1 0 0 0 0 0 0 0 0 0]\n",
      " [0 0 0 1 0 0 1 0 0 0 0 0 0 0 0 0 0]\n",
      " [0 1 1 0 0 0 0 0 0 0 0 0 0 0 0 0 0]\n",
      " [0 0 0 0 0 1 0 1 0 0 0 0 0 0 0 0 0]\n",
      " [0 0 0 0 1 0 1 0 0 0 0 0 0 0 0 0 0]\n",
      " [0 0 1 0 0 1 0 0 0 0 0 0 0 0 0 0 0]\n",
      " [1 1 0 0 1 0 0 0 1 0 0 1 0 0 0 0 0]\n",
      " [0 0 0 0 0 0 0 1 0 1 0 0 0 0 0 0 0]\n",
      " [0 0 0 0 0 0 0 0 1 0 1 0 0 0 0 0 0]\n",
      " [0 0 0 0 0 0 0 0 0 1 0 0 0 0 0 1 0]\n",
      " [0 0 0 0 0 0 0 1 0 0 0 0 1 0 0 0 0]\n",
      " [1 0 0 0 0 0 0 0 0 0 0 1 0 0 0 0 0]\n",
      " [1 0 0 0 0 0 0 0 0 0 0 0 0 0 1 0 0]\n",
      " [0 0 0 0 0 0 0 0 0 0 0 0 0 1 0 0 1]\n",
      " [1 0 0 0 0 0 0 0 0 0 1 0 0 0 0 0 1]\n",
      " [0 0 0 0 0 0 0 0 0 0 0 0 0 0 1 1 0]]\n",
      "matriz bren:\n",
      "[[0 1 1 0 0 0 0 0 0 0]\n",
      " [1 0 0 0 0 1 0 0 0 0]\n",
      " [1 0 0 1 0 0 0 0 0 0]\n",
      " [0 0 1 0 1 0 0 0 0 1]\n",
      " [0 0 0 1 0 1 0 0 0 0]\n",
      " [0 1 0 0 1 0 0 1 0 0]\n",
      " [0 0 0 0 0 0 0 1 1 0]\n",
      " [0 0 0 0 0 1 1 0 0 0]\n",
      " [0 0 0 0 0 0 1 0 0 1]\n",
      " [0 0 0 1 0 0 0 0 1 0]]\n",
      "matriz portugal:\n",
      "[[0 0 0 0 0 0 0 0 0 1 0 0 0 0 0 0 0 0 0 0 0 1 1 0 0 0]\n",
      " [0 0 0 0 0 0 0 1 0 0 0 0 0 1 0 0 0 0 1 0 0 0 0 0 0 0]\n",
      " [0 0 0 0 0 0 0 0 0 1 1 0 0 0 0 0 0 0 0 0 0 0 0 0 0 0]\n",
      " [0 0 0 0 1 0 0 0 0 0 0 0 0 0 0 0 0 0 1 0 1 0 0 1 0 0]\n",
      " [0 0 0 1 0 0 0 0 0 0 0 0 0 0 0 0 0 0 0 0 0 0 0 0 1 0]\n",
      " [0 0 0 0 0 0 0 0 0 0 0 0 0 1 1 0 0 0 0 0 0 0 0 0 0 0]\n",
      " [0 0 0 0 0 0 0 0 0 0 0 0 1 0 0 0 1 0 0 0 0 0 0 0 0 0]\n",
      " [0 1 0 0 0 0 0 0 0 0 0 0 0 0 0 0 0 0 0 1 1 0 0 0 0 1]\n",
      " [0 0 0 0 0 0 0 0 0 1 0 0 0 0 0 0 1 0 0 0 0 0 0 0 0 0]\n",
      " [1 0 1 0 0 0 0 0 1 0 0 0 0 0 0 0 0 0 0 0 0 0 0 0 0 0]\n",
      " [0 0 1 0 0 0 0 0 0 0 0 0 0 0 0 0 0 1 0 0 0 0 0 0 0 0]\n",
      " [0 0 0 0 0 0 0 0 0 0 0 0 0 0 1 1 0 1 0 0 0 0 0 0 0 0]\n",
      " [0 0 0 0 0 0 1 0 0 0 0 0 0 0 0 0 0 0 0 0 0 0 0 0 0 1]\n",
      " [0 1 0 0 0 1 0 0 0 0 0 0 0 0 0 0 0 0 0 1 0 0 0 0 0 0]\n",
      " [0 0 0 0 0 1 0 0 0 0 0 1 0 0 0 1 0 0 0 1 0 1 0 0 0 0]\n",
      " [0 0 0 0 0 0 0 0 0 0 0 1 0 0 1 0 0 0 0 0 0 0 0 0 0 0]\n",
      " [0 0 0 0 0 0 1 0 1 0 0 0 0 0 0 0 0 0 0 1 0 0 0 0 0 0]\n",
      " [0 0 0 0 0 0 0 0 0 0 1 1 0 0 0 0 0 0 0 0 0 0 1 0 0 0]\n",
      " [0 1 0 1 0 0 0 0 0 0 0 0 0 0 0 0 0 0 0 0 1 0 0 1 0 0]\n",
      " [0 0 0 0 0 0 0 1 0 0 0 0 0 1 1 0 1 0 0 0 0 0 0 0 0 0]\n",
      " [0 0 0 1 0 0 0 1 0 0 0 0 0 0 0 0 0 0 1 0 0 0 0 0 0 0]\n",
      " [1 0 0 0 0 0 0 0 0 0 0 0 0 0 1 0 0 0 0 0 0 0 0 0 0 0]\n",
      " [1 0 0 0 0 0 0 0 0 0 0 0 0 0 0 0 0 1 0 0 0 0 0 0 0 0]\n",
      " [0 0 0 1 0 0 0 0 0 0 0 0 0 0 0 0 0 0 1 0 0 0 0 0 0 0]\n",
      " [0 0 0 0 1 0 0 0 0 0 0 0 0 0 0 0 0 0 0 0 0 0 0 0 0 1]\n",
      " [0 0 0 0 0 0 0 1 0 0 0 0 1 0 0 0 0 0 0 0 0 0 0 0 1 0]]\n",
      "matriz usaGde:\n",
      "[[0 1 1 ... 0 0 0]\n",
      " [1 0 0 ... 0 0 0]\n",
      " [1 0 0 ... 0 0 0]\n",
      " ...\n",
      " [0 0 0 ... 0 1 0]\n",
      " [0 0 0 ... 1 0 1]\n",
      " [0 0 0 ... 0 1 0]]\n",
      "matriz sanet:\n",
      "[[0 1 0 1 0 0 0 0 0 0 0 0 0 0 0 0 0 0 0 0 0 0 0 0 0]\n",
      " [1 0 0 0 1 0 1 0 0 0 0 0 0 0 0 0 0 0 0 0 0 0 0 0 0]\n",
      " [0 0 0 1 1 1 0 0 0 0 0 0 0 0 0 0 0 0 0 0 0 0 0 0 0]\n",
      " [1 0 1 0 0 0 0 0 0 0 0 0 0 0 0 0 0 0 0 0 0 0 0 0 0]\n",
      " [0 1 1 0 0 0 0 0 0 0 0 0 0 0 1 0 0 0 0 0 0 0 0 0 0]\n",
      " [0 0 1 0 0 0 0 0 0 0 0 0 0 0 0 1 0 0 0 0 0 0 0 0 0]\n",
      " [0 1 0 0 0 0 0 1 0 0 0 0 0 0 0 0 0 0 0 0 0 0 0 0 0]\n",
      " [0 0 0 0 0 0 1 0 1 0 0 0 0 0 0 0 0 0 0 0 0 0 0 0 0]\n",
      " [0 0 0 0 0 0 0 1 0 1 0 0 0 0 0 0 0 0 0 0 0 0 0 0 0]\n",
      " [0 0 0 0 0 0 0 0 1 0 1 0 0 0 0 0 0 0 0 0 0 0 0 0 0]\n",
      " [0 0 0 0 0 0 0 0 0 1 0 0 1 0 0 0 0 0 0 0 0 0 0 0 0]\n",
      " [0 0 0 0 0 0 0 0 0 0 0 0 1 0 0 0 1 1 0 0 0 0 0 0 0]\n",
      " [0 0 0 0 0 0 0 0 0 0 1 1 0 0 0 0 0 0 0 0 0 0 0 0 0]\n",
      " [0 0 0 0 0 0 0 0 0 0 0 0 0 0 1 1 0 0 0 0 0 0 0 0 0]\n",
      " [0 0 0 0 1 0 0 0 0 0 0 0 0 1 0 0 0 0 0 0 0 0 0 0 0]\n",
      " [0 0 0 0 0 1 0 0 0 0 0 0 0 1 0 0 1 0 0 0 0 0 0 0 1]\n",
      " [0 0 0 0 0 0 0 0 0 0 0 1 0 0 0 1 0 0 0 0 0 0 0 0 0]\n",
      " [0 0 0 0 0 0 0 0 0 0 0 1 0 0 0 0 0 0 1 0 0 0 0 0 0]\n",
      " [0 0 0 0 0 0 0 0 0 0 0 0 0 0 0 0 0 1 0 0 1 0 0 0 0]\n",
      " [0 0 0 0 0 0 0 0 0 0 0 0 0 0 0 0 0 0 0 0 1 1 0 0 0]\n",
      " [0 0 0 0 0 0 0 0 0 0 0 0 0 0 0 0 0 0 1 1 0 0 0 0 0]\n",
      " [0 0 0 0 0 0 0 0 0 0 0 0 0 0 0 0 0 0 0 1 0 0 1 0 0]\n",
      " [0 0 0 0 0 0 0 0 0 0 0 0 0 0 0 0 0 0 0 0 0 1 0 1 0]\n",
      " [0 0 0 0 0 0 0 0 0 0 0 0 0 0 0 0 0 0 0 0 0 0 1 0 1]\n",
      " [0 0 0 0 0 0 0 0 0 0 0 0 0 0 0 1 0 0 0 0 0 0 0 1 0]]\n",
      "matriz nsfnet:\n",
      "[[0 1 1 1 0 0 0 0 0 0 0 0 0 0]\n",
      " [1 0 1 0 0 0 0 1 0 0 0 0 0 0]\n",
      " [1 1 0 0 0 1 0 0 0 0 0 0 0 0]\n",
      " [1 0 0 0 1 0 0 0 0 0 1 0 0 0]\n",
      " [0 0 0 1 0 1 1 0 0 0 0 0 0 0]\n",
      " [0 0 1 0 1 0 0 0 0 1 0 0 1 0]\n",
      " [0 0 0 0 1 0 0 1 0 0 0 0 0 0]\n",
      " [0 1 0 0 0 0 1 0 1 0 0 0 0 0]\n",
      " [0 0 0 0 0 0 0 1 0 1 0 1 0 1]\n",
      " [0 0 0 0 0 1 0 0 1 0 0 0 0 0]\n",
      " [0 0 0 1 0 0 0 0 0 0 0 1 0 1]\n",
      " [0 0 0 0 0 0 0 0 1 0 1 0 1 0]\n",
      " [0 0 0 0 0 1 0 0 0 0 0 1 0 1]\n",
      " [0 0 0 0 0 0 0 0 1 0 1 0 1 0]]\n",
      "matriz austria:\n",
      "[[0 1 1 1 0 0 0 1 1 0 1 0 0 1 0]\n",
      " [1 0 1 0 1 0 1 0 0 1 0 1 0 0 1]\n",
      " [1 1 0 0 0 0 0 0 0 0 0 0 0 0 0]\n",
      " [1 0 0 0 1 0 0 0 0 0 0 0 0 0 0]\n",
      " [0 1 0 1 0 0 0 0 0 0 0 0 0 0 0]\n",
      " [0 0 0 0 0 0 1 1 0 0 0 0 0 0 0]\n",
      " [0 1 0 0 0 1 0 1 0 0 0 0 0 0 0]\n",
      " [1 0 0 0 0 1 1 0 0 0 0 0 0 0 0]\n",
      " [1 0 0 0 0 0 0 0 0 1 0 0 0 0 0]\n",
      " [0 1 0 0 0 0 0 0 1 0 0 0 0 0 0]\n",
      " [1 0 0 0 0 0 0 0 0 0 0 1 0 0 0]\n",
      " [0 1 0 0 0 0 0 0 0 0 1 0 0 0 0]\n",
      " [0 0 0 0 0 0 0 0 0 0 0 0 0 1 1]\n",
      " [1 0 0 0 0 0 0 0 0 0 0 0 1 0 1]\n",
      " [0 1 0 0 0 0 0 0 0 0 0 0 1 1 0]]\n",
      "matriz viaDatacenterNet:\n",
      "[[0 1 1 1 0 0 0 0 1]\n",
      " [1 0 1 0 0 0 0 0 0]\n",
      " [1 1 0 1 1 1 0 0 0]\n",
      " [1 0 1 0 0 0 1 0 0]\n",
      " [0 0 1 0 0 1 0 0 0]\n",
      " [0 0 1 0 1 0 0 0 0]\n",
      " [0 0 0 1 0 0 0 1 0]\n",
      " [0 0 0 0 0 0 1 0 1]\n",
      " [1 0 0 0 0 0 0 1 0]]\n",
      "matriz coxUsa:\n",
      "[[0 1 0 1 1 0 0 0 0 0 0 0 1 0 0 0 0 0 0 0 0 0 0 0]\n",
      " [1 0 1 0 0 1 0 0 0 0 0 0 0 0 0 0 0 0 0 0 0 0 0 0]\n",
      " [0 1 0 1 1 0 0 0 0 0 0 0 0 0 0 0 0 0 0 0 0 0 0 0]\n",
      " [1 0 1 0 0 1 0 0 0 0 0 0 1 0 0 0 0 0 0 0 0 0 0 0]\n",
      " [1 0 1 0 0 1 0 0 0 0 0 0 0 1 0 0 0 0 0 0 0 0 0 0]\n",
      " [0 1 0 1 1 0 1 0 0 0 0 0 0 0 0 0 0 0 0 0 0 0 0 0]\n",
      " [0 0 0 0 0 1 0 1 1 0 0 1 1 0 0 0 0 0 1 0 0 0 1 0]\n",
      " [0 0 0 0 0 0 1 0 1 0 0 0 0 0 0 0 0 0 0 0 0 0 0 0]\n",
      " [0 0 0 0 0 0 1 1 0 1 0 0 0 0 0 0 0 0 0 0 0 0 0 0]\n",
      " [0 0 0 0 0 0 0 0 1 0 1 0 0 0 0 0 0 0 0 0 0 0 0 0]\n",
      " [0 0 0 0 0 0 0 0 0 1 0 1 0 0 0 0 0 0 0 0 0 0 0 0]\n",
      " [0 0 0 0 0 0 1 0 0 0 1 0 0 0 0 0 0 0 0 0 0 0 0 0]\n",
      " [1 0 0 1 0 0 1 0 0 0 0 0 0 1 1 0 0 0 0 0 1 0 0 1]\n",
      " [0 0 0 0 1 0 0 0 0 0 0 0 1 0 1 0 0 0 0 0 0 0 0 1]\n",
      " [0 0 0 0 0 0 0 0 0 0 0 0 1 1 0 1 0 0 0 0 0 0 0 0]\n",
      " [0 0 0 0 0 0 0 0 0 0 0 0 0 0 1 0 1 0 0 0 0 0 0 0]\n",
      " [0 0 0 0 0 0 0 0 0 0 0 0 0 0 0 1 0 1 0 0 0 0 0 0]\n",
      " [0 0 0 0 0 0 0 0 0 0 0 0 0 0 0 0 1 0 1 1 0 0 0 0]\n",
      " [0 0 0 0 0 0 1 0 0 0 0 0 0 0 0 0 0 1 0 1 1 0 0 0]\n",
      " [0 0 0 0 0 0 0 0 0 0 0 0 0 0 0 0 0 1 1 0 1 0 0 0]\n",
      " [0 0 0 0 0 0 0 0 0 0 0 0 1 0 0 0 0 0 1 1 0 1 1 0]\n",
      " [0 0 0 0 0 0 0 0 0 0 0 0 0 0 0 0 0 0 0 0 1 0 1 0]\n",
      " [0 0 0 0 0 0 1 0 0 0 0 0 0 0 0 0 0 0 0 0 1 1 0 0]\n",
      " [0 0 0 0 0 0 0 0 0 0 0 0 1 1 0 0 0 0 0 0 0 0 0 0]]\n",
      "matriz mzima:\n",
      "[[0 0 0 0 1 1 0 0 0 0 0 0 0 0 0]\n",
      " [0 0 0 0 0 0 0 0 0 0 0 0 0 1 1]\n",
      " [0 0 0 1 1 0 0 0 0 0 0 0 0 0 0]\n",
      " [0 0 1 0 1 0 1 0 0 0 1 0 0 0 0]\n",
      " [1 0 1 1 0 0 0 0 0 0 0 0 0 0 0]\n",
      " [1 0 0 0 0 0 1 1 0 0 0 0 0 0 0]\n",
      " [0 0 0 1 0 1 0 0 0 0 0 0 0 0 0]\n",
      " [0 0 0 0 0 1 0 0 1 0 0 0 0 0 0]\n",
      " [0 0 0 0 0 0 0 1 0 1 0 1 1 0 0]\n",
      " [0 0 0 0 0 0 0 0 1 0 1 0 0 0 0]\n",
      " [0 0 0 1 0 0 0 0 0 1 0 0 0 1 0]\n",
      " [0 0 0 0 0 0 0 0 1 0 0 0 1 0 0]\n",
      " [0 0 0 0 0 0 0 0 1 0 0 1 0 0 1]\n",
      " [0 1 0 0 0 0 0 0 0 0 1 0 0 0 0]\n",
      " [0 1 0 0 0 0 0 0 0 0 0 0 1 0 0]]\n",
      "matriz scteste:\n",
      "[[0 1 1 0 0 0]\n",
      " [1 0 0 1 0 0]\n",
      " [1 0 0 1 0 1]\n",
      " [0 1 1 0 1 0]\n",
      " [0 0 0 1 0 1]\n",
      " [0 0 1 0 1 0]]\n",
      "matriz eon:\n",
      "[[0 1 0 0 1 0 0 0 0 0 0 0 0 0 0 0 0 0 0]\n",
      " [1 0 0 1 0 0 0 0 0 0 0 0 0 0 0 0 0 0 0]\n",
      " [0 0 0 1 1 0 0 0 0 0 0 0 0 0 0 0 0 0 0]\n",
      " [0 1 1 0 1 1 0 1 1 0 0 0 0 0 0 0 0 0 0]\n",
      " [1 0 1 1 0 1 1 0 0 0 0 0 1 1 0 0 0 0 0]\n",
      " [0 0 0 1 1 0 1 0 1 0 0 0 0 0 0 0 0 0 0]\n",
      " [0 0 0 0 1 1 0 0 0 0 1 1 0 1 0 0 0 0 0]\n",
      " [0 0 0 1 0 0 0 0 1 1 1 0 0 1 0 1 0 0 0]\n",
      " [0 0 0 1 0 1 0 1 0 0 1 0 0 0 0 0 0 0 0]\n",
      " [0 0 0 0 0 0 0 1 0 0 0 0 0 0 0 1 0 1 0]\n",
      " [0 0 0 0 0 0 1 1 1 0 0 0 0 1 1 0 0 0 0]\n",
      " [0 0 0 0 0 0 1 0 0 0 0 0 1 0 0 0 1 0 0]\n",
      " [0 0 0 0 1 0 0 0 0 0 0 1 0 0 0 0 1 0 0]\n",
      " [0 0 0 0 1 0 1 1 0 0 1 0 0 0 1 0 1 0 1]\n",
      " [0 0 0 0 0 0 0 0 0 0 1 0 0 1 0 1 0 0 0]\n",
      " [0 0 0 0 0 0 0 1 0 1 0 0 0 0 1 0 0 1 0]\n",
      " [0 0 0 0 0 0 0 0 0 0 0 1 1 1 0 0 0 0 1]\n",
      " [0 0 0 0 0 0 0 0 0 1 0 0 0 0 0 1 0 0 0]\n",
      " [0 0 0 0 0 0 0 0 0 0 0 0 0 1 0 0 1 0 0]]\n",
      "matriz memorexEurope:\n",
      "[[0 1 0 1 0 0 0 0 0 0 0 0 0 0 0 0 0 0 0]\n",
      " [1 0 1 0 0 0 0 0 0 0 0 0 0 0 0 0 0 0 0]\n",
      " [0 1 0 0 1 0 0 0 0 0 0 0 0 0 0 0 0 0 0]\n",
      " [1 0 0 0 1 0 0 0 0 0 0 0 0 0 0 0 0 0 0]\n",
      " [0 0 1 1 0 1 0 0 0 0 0 1 0 0 0 0 0 0 0]\n",
      " [0 0 0 0 1 0 1 0 0 0 0 0 0 0 0 0 0 0 0]\n",
      " [0 0 0 0 0 1 0 1 0 0 0 0 0 0 0 0 0 0 0]\n",
      " [0 0 0 0 0 0 1 0 1 0 0 0 0 0 0 0 0 0 1]\n",
      " [0 0 0 0 0 0 0 1 0 1 0 0 0 0 0 0 0 1 1]\n",
      " [0 0 0 0 0 0 0 0 1 0 1 0 0 0 0 0 0 0 0]\n",
      " [0 0 0 0 0 0 0 0 0 1 0 1 0 1 0 0 0 0 0]\n",
      " [0 0 0 0 1 0 0 0 0 0 1 0 1 0 0 0 0 0 0]\n",
      " [0 0 0 0 0 0 0 0 0 0 0 1 0 0 0 1 0 0 0]\n",
      " [0 0 0 0 0 0 0 0 0 0 1 0 0 0 1 1 0 0 0]\n",
      " [0 0 0 0 0 0 0 0 0 0 0 0 0 1 0 0 1 1 0]\n",
      " [0 0 0 0 0 0 0 0 0 0 0 0 1 1 0 0 0 0 0]\n",
      " [0 0 0 0 0 0 0 0 0 0 0 0 0 0 1 0 0 1 0]\n",
      " [0 0 0 0 0 0 0 0 1 0 0 0 0 0 1 0 1 0 0]\n",
      " [0 0 0 0 0 0 0 1 1 0 0 0 0 0 0 0 0 0 0]]\n",
      "matriz deutschTelecom:\n",
      "[[0 1 0 1 0 0 0 0 0 0 0 0 0 0 0 0 1]\n",
      " [1 0 0 1 0 0 0 0 0 0 0 0 0 0 1 0 0]\n",
      " [0 0 0 0 0 0 0 0 1 0 0 0 0 0 0 0 1]\n",
      " [1 1 0 0 0 1 0 0 1 0 0 0 0 0 1 0 1]\n",
      " [0 0 0 0 0 1 1 0 1 0 0 0 0 0 0 0 0]\n",
      " [0 0 0 1 1 0 0 0 0 0 1 0 0 0 1 1 0]\n",
      " [0 0 0 0 1 0 0 1 0 0 0 0 0 0 0 0 0]\n",
      " [0 0 0 0 0 0 1 0 1 0 0 0 0 0 0 0 0]\n",
      " [0 0 1 1 1 0 0 1 0 0 0 0 0 0 0 0 0]\n",
      " [0 0 0 0 0 0 0 0 0 0 1 1 0 0 0 0 0]\n",
      " [0 0 0 0 0 1 0 0 0 1 0 0 0 0 0 0 0]\n",
      " [0 0 0 0 0 0 0 0 0 1 0 0 0 1 0 1 0]\n",
      " [0 0 0 0 0 0 0 0 0 0 0 0 0 1 0 1 0]\n",
      " [0 0 0 0 0 0 0 0 0 0 0 1 1 0 0 0 0]\n",
      " [0 1 0 1 0 1 0 0 0 0 0 0 0 0 0 1 0]\n",
      " [0 0 0 0 0 1 0 0 0 0 0 1 1 0 1 0 0]\n"
     ]
    },
    {
     "name": "stdout",
     "output_type": "stream",
     "text": [
      " [1 0 1 1 0 0 0 0 0 0 0 0 0 0 0 0 0]]\n",
      "matriz internet2Usa:\n",
      "[[0 1 1 ... 0 0 0]\n",
      " [1 0 0 ... 0 0 0]\n",
      " [1 0 0 ... 0 0 0]\n",
      " ...\n",
      " [0 0 0 ... 0 1 0]\n",
      " [0 0 0 ... 1 0 1]\n",
      " [0 0 0 ... 0 1 0]]\n",
      "matriz OmnicomEurope:\n",
      "[[0 1 1 ... 0 0 1]\n",
      " [1 0 1 ... 0 0 0]\n",
      " [1 1 0 ... 0 0 0]\n",
      " ...\n",
      " [0 0 0 ... 0 0 0]\n",
      " [0 0 0 ... 0 0 1]\n",
      " [1 0 0 ... 0 1 0]]\n"
     ]
    }
   ],
   "source": [
    "matrizes = dict()\n",
    "for x in names:\n",
    "    netlinks = alllinks[x]\n",
    "    netnodes = allnodes[x]\n",
    "    matriz = monta_matriz(netnodes,netlinks)\n",
    "    matrizes.update({x:matriz})\n",
    "    print(\"matriz {}:\\n{}\".format(x,matriz))"
   ]
  },
  {
   "cell_type": "code",
   "execution_count": 69,
   "metadata": {},
   "outputs": [
    {
     "data": {
      "text/plain": [
       "3.1666666666666665"
      ]
     },
     "execution_count": 69,
     "metadata": {},
     "output_type": "execute_result"
    }
   ],
   "source": [
    "calc_grau(matrizes.get('cesnet'))"
   ]
  },
  {
   "cell_type": "code",
   "execution_count": 70,
   "metadata": {},
   "outputs": [
    {
     "name": "stdout",
     "output_type": "stream",
     "text": [
      "[[0 1 1 1 0 0 0 0 0 1 1 1]\n",
      " [1 0 1 0 0 0 0 0 0 0 0 0]\n",
      " [1 1 0 1 0 0 0 0 0 0 0 0]\n",
      " [1 0 1 0 1 0 0 0 0 0 0 1]\n",
      " [0 0 0 1 0 1 1 1 0 0 0 0]\n",
      " [0 0 0 0 1 0 0 1 0 0 0 0]\n",
      " [0 0 0 0 1 0 0 1 0 0 0 0]\n",
      " [0 0 0 0 1 1 1 0 1 1 0 0]\n",
      " [0 0 0 0 0 0 0 1 0 1 0 0]\n",
      " [1 0 0 0 0 0 0 1 1 0 1 0]\n",
      " [1 0 0 0 0 0 0 0 0 1 0 0]\n",
      " [1 0 0 1 0 0 0 0 0 0 0 0]]\n",
      "12\n"
     ]
    }
   ],
   "source": [
    "print (matrizes.get('cesnet'))\n",
    "print(len(matrizes.get('cesnet')))"
   ]
  },
  {
   "cell_type": "code",
   "execution_count": 71,
   "metadata": {},
   "outputs": [
    {
     "name": "stdout",
     "output_type": "stream",
     "text": [
      "[[0 1 1 1 0 1 1 0 0 1 1 1]\n",
      " [1 0 1 0 1 1 0 1 1 1 1 0]\n",
      " [1 1 0 1 0 0 1 1 0 0 1 1]\n",
      " [1 0 1 0 1 1 0 0 0 1 0 1]\n",
      " [0 1 0 1 0 1 1 1 0 0 0 1]\n",
      " [1 1 0 1 1 0 1 1 0 1 1 0]\n",
      " [1 0 1 0 1 1 0 1 1 0 0 0]\n",
      " [0 1 1 0 1 1 1 0 1 1 1 0]\n",
      " [0 1 0 0 0 0 1 1 0 1 1 1]\n",
      " [1 1 0 1 0 1 0 1 1 0 1 1]\n",
      " [1 1 1 0 0 1 0 1 1 1 0 1]\n",
      " [1 0 1 1 1 0 0 0 1 1 1 0]]\n",
      "7.166666666666667\n"
     ]
    }
   ],
   "source": [
    "mtx = matrizes.get('cesnet')\n",
    "aumentar_grau(mtx,4)\n",
    "print (mtx)\n",
    "print (calc_grau(mtx))"
   ]
  },
  {
   "cell_type": "code",
   "execution_count": null,
   "metadata": {},
   "outputs": [],
   "source": []
  }
 ],
 "metadata": {
  "kernelspec": {
   "display_name": "Python 3",
   "language": "python",
   "name": "python3"
  },
  "language_info": {
   "codemirror_mode": {
    "name": "ipython",
    "version": 3
   },
   "file_extension": ".py",
   "mimetype": "text/x-python",
   "name": "python",
   "nbconvert_exporter": "python",
   "pygments_lexer": "ipython3",
   "version": "3.8.5"
  }
 },
 "nbformat": 4,
 "nbformat_minor": 4
}
