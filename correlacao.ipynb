{
 "cells": [
  {
   "cell_type": "markdown",
   "metadata": {},
   "source": [
    "Imports que importam :) "
   ]
  },
  {
   "cell_type": "code",
   "execution_count": 249,
   "metadata": {},
   "outputs": [],
   "source": [
    "import numpy as np\n",
    "import math\n",
    "\n",
    "import pandas"
   ]
  },
  {
   "cell_type": "code",
   "execution_count": 3,
   "metadata": {},
   "outputs": [],
   "source": [
    "#tirar dependencias das libs:\n",
    "rand = lambda :np.random.rand()\n",
    "cutpart = lambda x: (int((x+1) * np.random.normal(scale=0.2,loc=0.5)) )% x"
   ]
  },
  {
   "cell_type": "code",
   "execution_count": 4,
   "metadata": {},
   "outputs": [
    {
     "name": "stdout",
     "output_type": "stream",
     "text": [
      "va:\n",
      "[1, 2, 3, 4, 5, 6, 7, 8, 9, 10]\n",
      "vb:\n",
      "[10, 9, 8, 7, 6, 5, 4, 3, 2, 1]\n"
     ]
    }
   ],
   "source": [
    "va = [x for x in range(1,11)]\n",
    "vb = [x for x in range(10,0,-1)]\n",
    "print(\"va:\\n{}\\nvb:\\n{}\".format(va,vb))"
   ]
  },
  {
   "cell_type": "markdown",
   "metadata": {},
   "source": [
    "<h1>Genetic Algorithm for QAP solving()</h1>"
   ]
  },
  {
   "cell_type": "code",
   "execution_count": 245,
   "metadata": {},
   "outputs": [],
   "source": [
    "def crossover(va,vb):\n",
    "    cut = cutpart(len(va))\n",
    "    print(\"cut: {}\".format(cut))\n",
    "    new_va = va[:cut]+vb[cut:]\n",
    "    new_vb = vb[:cut]+va[cut:]\n",
    "    print(\"new va:\\n{}\\nnew vb:\\n{}\".format(new_va,new_vb))\n",
    "    #encontrar repetidos (x) e suas repectivas posicoes (i)\n",
    "    repeated_a = [(x,i) for x,i in zip(new_va,range(len(va))) if new_va.count(x) > 1]\n",
    "    repeated_b = [(x,i) for x,i in zip(new_vb,range(len(vb))) if new_vb.count(x) > 1]\n",
    "    rn = int(len(repeated_a)/2)\n",
    "    print(\"rn:{}\".format(rn))\n",
    "    for i in range(rn):\n",
    "        print(\"switch {} / {}\".format(i,rn))\n",
    "        new_va[repeated_a[i][1]] = repeated_b[i+ (0 if cut >5 else rn)][0]\t#se trocar sempre o primeiro \n",
    "        new_vb[repeated_b[i][1]] = repeated_a[i+ (0 if cut >5 else rn)][0]\t#repetido cortes acima de 5 tendem\n",
    "    print(\"repeated a: {}\".format(repeated_a[:int(len(repeated_a))]))\t\t#a repertir os valores dos pais\n",
    "    print(\"repeated b: {}\".format(repeated_b[:int(len(repeated_b))]))\n",
    "    return(new_va,new_vb)"
   ]
  },
  {
   "cell_type": "code",
   "execution_count": 246,
   "metadata": {},
   "outputs": [
    {
     "name": "stdout",
     "output_type": "stream",
     "text": [
      "cut: 3\n",
      "new va:\n",
      "[1, 2, 3, 7, 6, 5, 4, 3, 2, 1]\n",
      "new vb:\n",
      "[10, 9, 8, 4, 5, 6, 7, 8, 9, 10]\n",
      "rn:3\n",
      "switch 0 / 3\n",
      "switch 1 / 3\n",
      "switch 2 / 3\n",
      "repeated a: [(1, 0), (2, 1), (3, 2), (3, 7), (2, 8), (1, 9)]\n",
      "repeated b: [(10, 0), (9, 1), (8, 2), (8, 7), (9, 8), (10, 9)]\n",
      "new va:\n",
      "[8, 9, 10, 7, 6, 5, 4, 3, 2, 1]\n",
      "new vb:\n",
      "[3, 2, 1, 4, 5, 6, 7, 8, 9, 10]\n"
     ]
    }
   ],
   "source": [
    "new_va,new_vb = crossover(va,vb)#[1,5,3,4,6,10,7,9,8,2])\n",
    "print(\"new va:\\n{}\\nnew vb:\\n{}\".format(new_va,new_vb))"
   ]
  },
  {
   "cell_type": "code",
   "execution_count": 149,
   "metadata": {},
   "outputs": [],
   "source": [
    "def inverse(vec):\n",
    "    inf = int(rand()*len(vec))\n",
    "    part = list(vec[inf:])\n",
    "    part.reverse()\n",
    "    return vec[:inf]+part"
   ]
  },
  {
   "cell_type": "code",
   "execution_count": 150,
   "metadata": {},
   "outputs": [],
   "source": [
    "def swap (vec):\n",
    "    n_vec = list(vec)\n",
    "    p1 = int(rand()*len(vec))\n",
    "    p2 = int(rand()*len(vec))\n",
    "    v1 = vec[p1]\n",
    "    v2 = vec[p2]\n",
    "    print(\"swap {} and {}\".format(v1,v2))\n",
    "    n_vec[p1] = v2\n",
    "    n_vec[p2] = v1\n",
    "    return n_vec"
   ]
  },
  {
   "cell_type": "code",
   "execution_count": 151,
   "metadata": {},
   "outputs": [],
   "source": [
    "def insertion(vec):\n",
    "    inf = int(rand()*len(vec))\n",
    "    part = vec[inf:]\n",
    "    part = part[1:] + part[:1]\n",
    "    print(part)\n",
    "    return vec[:inf]+part"
   ]
  },
  {
   "cell_type": "code",
   "execution_count": 183,
   "metadata": {},
   "outputs": [
    {
     "name": "stdout",
     "output_type": "stream",
     "text": [
      "Original:\n",
      "[1, 2, 3, 4, 5, 6, 7, 8, 9, 10]\n",
      "Inverse:\n",
      "[1, 2, 3, 4, 5, 6, 7, 8, 10, 9]\n",
      "Swap:\n",
      "swap 7 and 4\n",
      "[1, 2, 3, 7, 5, 6, 4, 8, 9, 10]\n",
      "Insertion\n",
      "[9, 10, 8]\n",
      "[1, 2, 3, 4, 5, 6, 7, 9, 10, 8]\n"
     ]
    }
   ],
   "source": [
    "def mutation(vec,p):#percentual\n",
    "    if rand() > p:\n",
    "        return vec\n",
    "    typ = rand()\n",
    "    if(typ < 1/3):\n",
    "        print(\"inverse\")\n",
    "        vec = inverse(vec)\n",
    "    elif(typ < 2/3):\n",
    "        print(\"swap\")\n",
    "        vec = swap(vec)\n",
    "    else:\n",
    "        print(\"insertion\")\n",
    "        vec = insertion(vec)\n",
    "    return vec\n",
    "    \n",
    "#mutation(va,0.7)\n",
    "print(\"Original:\")\n",
    "print(va)\n",
    "print(\"Inverse:\")\n",
    "print(inverse(va))\n",
    "print(\"Swap:\")\n",
    "print(swap(va))\n",
    "print(\"Insertion\")\n",
    "print(insertion(va))"
   ]
  },
  {
   "cell_type": "code",
   "execution_count": 188,
   "metadata": {},
   "outputs": [
    {
     "name": "stdout",
     "output_type": "stream",
     "text": [
      "inverse\n"
     ]
    },
    {
     "data": {
      "text/plain": [
       "[1, 2, 3, 4, 10, 9, 8, 7, 6, 5]"
      ]
     },
     "execution_count": 188,
     "metadata": {},
     "output_type": "execute_result"
    }
   ],
   "source": [
    "mutation(va,0.7)"
   ]
  },
  {
   "cell_type": "markdown",
   "metadata": {},
   "source": [
    "<h1>Calculo de Coorelação:</h1>"
   ]
  },
  {
   "cell_type": "code",
   "execution_count": 247,
   "metadata": {},
   "outputs": [],
   "source": [
    "def corr(x,y,p=False):\n",
    "    # n\n",
    "    n = len(x)\n",
    "#Somatórios:\n",
    "    #superiores\n",
    "    xysum = np.dot(x,y) #soma dos x*y\n",
    "    xsum = sum(x)\n",
    "    ysum = sum(y)\n",
    "    #inferiores\n",
    "    #soma dos quadrados\n",
    "    x2sum = np.dot(x,x) #multiplica entrada a entrada dos vetores x e ele mesmo e soma\n",
    "    y2sum = sum([v*v for v in y]) #forma na unha de fazer o mesmo\n",
    "    #quadrado das somas:\n",
    "    xsum2 = xsum**2\n",
    "    ysum2 = ysum**2\n",
    "    #parte superior:\n",
    "    sup = (xysum - xsum*ysum/n)\n",
    "    #parte inferior:\n",
    "    infe = math.sqrt ( (x2sum - xsum2/n) * (y2sum - ysum2/n) )\n",
    "    corresult = sup/infe\n",
    "    if(p):\n",
    "        print(\"Taxa de correlação entre X e Y é:\")\n",
    "        print(\"{}\\n\".format(sup)+len(str(sup))*\"-\"+\" =  {}\".format(corresult)+\"\\n{}\".format(infe))\n",
    "    return corresult"
   ]
  },
  {
   "cell_type": "markdown",
   "metadata": {},
   "source": [
    "<h2>Teste</h2>"
   ]
  },
  {
   "cell_type": "code",
   "execution_count": 248,
   "metadata": {},
   "outputs": [
    {
     "name": "stdout",
     "output_type": "stream",
     "text": [
      "Taxa de correlação entre X e Y é:\n",
      "-0.5499999999999998\n",
      "------------------- =  -0.9710083124552239\n",
      "0.5664215155988811\n"
     ]
    },
    {
     "data": {
      "text/plain": [
       "-0.9710083124552239"
      ]
     },
     "execution_count": 248,
     "metadata": {},
     "output_type": "execute_result"
    }
   ],
   "source": [
    "gerax = lambda base,n,dif: [base + x*dif for x in range(n)] # modo preguiçoso de gerar n números espaçados em 0.5\n",
    "#Carregar valores(teste):\n",
    "x = gerax(2.5, 6,0.5)\n",
    "y = [0.4,0.4,0.3,0.2,0.2,0.1]\n",
    "corr(x,y,True)"
   ]
  },
  {
   "cell_type": "code",
   "execution_count": 278,
   "metadata": {},
   "outputs": [
    {
     "name": "stdout",
     "output_type": "stream",
     "text": [
      "nodes_links/canarie_links.csv lido\n",
      "nodes_links/italy_nodes.csv lido\n",
      "nodes_links/vbns_nodes.csv lido\n",
      "nodes_links/loni_links.csv lido\n",
      "nodes_links/germany_links.csv lido\n",
      "nodes_links/geant2_links.csv lido\n",
      "nodes_links/germany_nodes.csv lido\n",
      "nodes_links/arpanet_links.csv lido\n",
      "nodes_links/cesnet_links.csv lido\n",
      "nodes_links/newnet_nodes.csv lido\n",
      "nodes_links/rnpBrazil_nodes.csv lido\n",
      "nodes_links/pionier_nodes.csv lido\n",
      "nodes_links/loni_nodes.csv lido\n",
      "nodes_links/spain_links.csv lido\n",
      "nodes_links/renater_nodes.csv lido\n",
      "nodes_links/lambdaRailUsa_nodes.csv lido\n",
      "nodes_links/metrona_UK_nodes.csv lido\n",
      "nodes_links/rnpBrazil_links.csv lido\n",
      "nodes_links/arnes_links.csv lido\n",
      "nodes_links/spain_nodes.csv lido\n",
      "nodes_links/bren_nodes.csv lido\n",
      "!!! não foi possivel ler > nodes_links/portugal_links.csv < !!!\n",
      "nodes_links/arpanet_nodes.csv lido\n",
      "nodes_links/usaGde_nodes.csv lido\n",
      "nodes_links/sanet_links.csv lido\n",
      "nodes_links/nsfnet_nodes.csv lido\n",
      "nodes_links/pionier_links.csv lido\n",
      "nodes_links/austria_links.csv lido\n",
      "nodes_links/nsfnet_links.csv lido\n",
      "nodes_links/viaDatacenterNet_links.csv lido\n",
      "nodes_links/lambdaRailUsa_links.csv lido\n",
      "nodes_links/coxUsa_nodes.csv lido\n",
      "nodes_links/mzima_links.csv lido\n",
      "nodes_links/scteste_nodes.csv lido\n",
      "!!! não foi possivel ler > nodes_links/eon_links.csv < !!!\n",
      "nodes_links/mzima_nodes.csv lido\n",
      "!!! não foi possivel ler > nodes_links/eon_nodes.csv < !!!\n",
      "nodes_links/canarie_nodes.csv lido\n",
      "nodes_links/memorexEurope_nodes.csv lido\n",
      "nodes_links/deutschTelecom_nodes.csv lido\n",
      "nodes_links/memorexEurope_links.csv lido\n",
      "nodes_links/cesnet_nodes.csv lido\n",
      "nodes_links/internet2Usa_links.csv lido\n",
      "nodes_links/newnet_links.csv lido\n",
      "nodes_links/coxUsa_links.csv lido\n",
      "nodes_links/italy_links.csv lido\n",
      "nodes_links/usaGde_links.csv lido\n",
      "nodes_links/vbns_links.csv lido\n",
      "nodes_links/metrona_UK_links.csv lido\n",
      "nodes_links/OmnicomEurope_links.csv lido\n",
      "nodes_links/geant2_nodes.csv lido\n",
      "nodes_links/OmnicomEurope_nodes.csv lido\n",
      "nodes_links/internet2Usa_nodes.csv lido\n",
      "nodes_links/deutschTelecom_links.csv lido\n",
      "nodes_links/austria_nodes.csv lido\n",
      "!!! não foi possivel ler > nodes_links/portugal_nodes.csv < !!!\n",
      "nodes_links/arnes_nodes.csv lido\n",
      "nodes_links/renater_links.csv lido\n",
      "nodes_links/scteste_links.csv lido\n",
      "nodes_links/bren_links.csv lido\n",
      "nodes_links/viaDatacenterNet_nodes.csv lido\n",
      "nodes_links/sanet_nodes.csv lido\n",
      "['OmnicomEurope_links.csv', 'OmnicomEurope_nodes.csv', 'arnes_links.csv', 'arnes_nodes.csv', 'arpanet_links.csv', 'arpanet_nodes.csv', 'austria_links.csv', 'austria_nodes.csv', 'bren_links.csv', 'bren_nodes.csv', 'canarie_links.csv', 'canarie_nodes.csv', 'cesnet_links.csv', 'cesnet_nodes.csv', 'coxUsa_links.csv', 'coxUsa_nodes.csv', 'deutschTelecom_links.csv', 'deutschTelecom_nodes.csv', 'geant2_links.csv', 'geant2_nodes.csv', 'germany_links.csv', 'germany_nodes.csv', 'internet2Usa_links.csv', 'internet2Usa_nodes.csv', 'italy_links.csv', 'italy_nodes.csv', 'lambdaRailUsa_links.csv', 'lambdaRailUsa_nodes.csv', 'loni_links.csv', 'loni_nodes.csv', 'memorexEurope_links.csv', 'memorexEurope_nodes.csv', 'metrona_UK_links.csv', 'metrona_UK_nodes.csv', 'mzima_links.csv', 'mzima_nodes.csv', 'newnet_links.csv', 'newnet_nodes.csv', 'nsfnet_links.csv', 'nsfnet_nodes.csv', 'pionier_links.csv', 'pionier_nodes.csv', 'renater_links.csv', 'renater_nodes.csv', 'rnpBrazil_links.csv', 'rnpBrazil_nodes.csv', 'sanet_links.csv', 'sanet_nodes.csv', 'scteste_links.csv', 'scteste_nodes.csv', 'spain_links.csv', 'spain_nodes.csv', 'usaGde_links.csv', 'usaGde_nodes.csv', 'vbns_links.csv', 'vbns_nodes.csv', 'viaDatacenterNet_links.csv', 'viaDatacenterNet_nodes.csv']\n"
     ]
    }
   ],
   "source": [
    "#!/usr/bin/python\n",
    "\n",
    "from pathlib import Path\n",
    "\n",
    "directory = './nodes_links/'\n",
    "p = list()\n",
    "for path in Path(directory).iterdir():\n",
    "    name = str(path)\n",
    "    try:\n",
    "        p.append( (path.name , pandas.read_csv(name)) )\n",
    "        print(name+\" lido\")\n",
    "    except:\n",
    "        print(\"!!! não foi possivel ler > \"+name+\" < !!!\")\n",
    "p.sort()\n",
    "print([x for x,y in p])"
   ]
  },
  {
   "cell_type": "code",
   "execution_count": 293,
   "metadata": {},
   "outputs": [],
   "source": [
    "u = p[2][1]"
   ]
  },
  {
   "cell_type": "code",
   "execution_count": 294,
   "metadata": {},
   "outputs": [],
   "source": [
    "#u = pandas.read_csv(\"./nodes_links/renater_links.csv\")"
   ]
  },
  {
   "cell_type": "code",
   "execution_count": 307,
   "metadata": {},
   "outputs": [
    {
     "data": {
      "text/plain": [
       "False"
      ]
     },
     "execution_count": 307,
     "metadata": {},
     "output_type": "execute_result"
    }
   ],
   "source": [
    "u[\"From\"].equals(\"Velenje\")"
   ]
  },
  {
   "cell_type": "code",
   "execution_count": null,
   "metadata": {},
   "outputs": [],
   "source": []
  }
 ],
 "metadata": {
  "kernelspec": {
   "display_name": "Python 3",
   "language": "python",
   "name": "python3"
  },
  "language_info": {
   "codemirror_mode": {
    "name": "ipython",
    "version": 3
   },
   "file_extension": ".py",
   "mimetype": "text/x-python",
   "name": "python",
   "nbconvert_exporter": "python",
   "pygments_lexer": "ipython3",
   "version": "3.8.5"
  }
 },
 "nbformat": 4,
 "nbformat_minor": 4
}
