{
 "cells": [
  {
   "cell_type": "markdown",
   "metadata": {},
   "source": [
    "<h1>Correlação Entre Variáveis no Roteamento e atribuição de espectro</h1>\n",
    "<p style='font-size: 20px' >Alunos: André Luiz Maso, Artur Bernardo Mallmann, Maikon Douglas Pereira e Tatiane Barbosa</p>\n",
    "    \n",
    "<p>&emsp;&emsp;Neste Trabalho vamos explorar qual é a correlação entre Taxa de Bloqueio (Tb = B/D), onde B é o número de bloqueios ocorridos durante o RSA (Roteamento e atribuição de espectro) e D é o número total de demandas (soma da triangular superior da matriz de demandas), e o Índice de Wiener da topologia (Soma do comprimento dos enlaces dos caminhos mais curtos)</p>"
   ]
  },
  {
   "cell_type": "code",
   "execution_count": 1,
   "metadata": {},
   "outputs": [],
   "source": [
    "import numpy as np\n",
    "import math\n",
    "from random import *\n",
    "#pandas para base de dados\n",
    "import pandas"
   ]
  },
  {
   "cell_type": "markdown",
   "metadata": {},
   "source": [
    "<h1>Calculo de Coorelação:</h1>\n",
    "Correlação é calculada através de Correlação de Werner."
   ]
  },
  {
   "cell_type": "code",
   "execution_count": 2,
   "metadata": {},
   "outputs": [],
   "source": [
    "def corr(x,y,p=False):\n",
    "    # n\n",
    "    n = len(x)\n",
    "#Somatórios:\n",
    "    #superiores\n",
    "    xysum = np.dot(x,y) #soma dos x*y\n",
    "    xsum = sum(x)\n",
    "    ysum = sum(y)\n",
    "    #inferiores\n",
    "    #soma dos quadrados\n",
    "    x2sum = np.dot(x,x) #multiplica entrada a entrada dos vetores x e ele mesmo e soma\n",
    "    y2sum = sum([v*v for v in y]) #forma na unha de fazer o mesmo\n",
    "    #quadrado das somas:\n",
    "    xsum2 = xsum**2\n",
    "    ysum2 = ysum**2\n",
    "#formula\n",
    "    #parte superior:\n",
    "    sup = (xysum - xsum*ysum/n)\n",
    "    #parte inferior:\n",
    "    infe = math.sqrt ( (x2sum - xsum2/n) * (y2sum - ysum2/n) )\n",
    "    corresult = sup/infe\n",
    "    if(p):\n",
    "        print(\"Taxa de correlação entre [x] e [y] é:\")\n",
    "        print(\"{}\\n\".format(sup)+len(str(sup))*\"-\"+\" =  {}\".format(corresult)+\"\\n{}\".format(infe))\n",
    "    return corresult"
   ]
  },
  {
   "cell_type": "markdown",
   "metadata": {},
   "source": [
    "<h2>Teste Da Correlação</h2>\n",
    "<p>Para calcular a correlação entre os valores de duas variáveis basta entrar com dois vetores com os valores a serem comparados:\n",
    "corr(vec1,vec2)</p>"
   ]
  },
  {
   "cell_type": "code",
   "execution_count": 3,
   "metadata": {},
   "outputs": [
    {
     "name": "stdout",
     "output_type": "stream",
     "text": [
      "x:[2.5, 3.0, 3.5, 4.0, 4.5, 5.0]\n",
      "y:[0.4, 0.4, 0.3, 0.2, 0.2, 0.1]\n",
      "Taxa de correlação entre [x] e [y] é:\n",
      "-0.5499999999999998\n",
      "------------------- =  -0.9710083124552239\n",
      "0.5664215155988811\n"
     ]
    },
    {
     "data": {
      "text/plain": [
       "-0.9710083124552239"
      ]
     },
     "execution_count": 3,
     "metadata": {},
     "output_type": "execute_result"
    }
   ],
   "source": [
    "gerax = lambda base,n,dif: [base + x*dif for x in range(n)] # modo preguiçoso de gerar n números espaçados em 0.5\n",
    "#Carregar valores(teste):\n",
    "x = gerax(2.5, 6,0.5)\n",
    "print(f'x:{x}')\n",
    "y = [0.4,0.4,0.3,0.2,0.2,0.1]\n",
    "print(f'y:{y}')\n",
    "corr(x,y,True)"
   ]
  },
  {
   "cell_type": "markdown",
   "metadata": {},
   "source": [
    "<h1>Carregamento de Dados</h1>\n",
    "<p>Nesta sessão do código é feita a leitura dos arquivos .csv</p>"
   ]
  },
  {
   "cell_type": "code",
   "execution_count": 4,
   "metadata": {},
   "outputs": [],
   "source": [
    "#!/usr/bin/python\n",
    "\n",
    "from pathlib import Path\n",
    "\n",
    "directory = './nodes_links/'\n",
    "allnodes = dict()\n",
    "alllinks = dict()\n",
    "names = list()\n",
    "for path in Path(directory).iterdir():\n",
    "    url = str(path)\n",
    "    netname = path.name.split('_')[0]\n",
    "    if(path.name.count('nodes')==1):\n",
    "        p = allnodes\n",
    "    else:\n",
    "        p = alllinks\n",
    "    try:\n",
    "        item = pandas.read_csv(url)\n",
    "        p.update( {netname : item })\n",
    "    #    print(url+\" lido\")\n",
    "    except:\n",
    "        try:\n",
    "            #mudar o encoding para os caracteres\n",
    "            item = pandas.read_csv(url,encoding=\"iso-8859-1\")\n",
    "            p.update( {netname : item })\n",
    "        #    print(url+\" lido\")\n",
    "        except:\n",
    "            print(\"!!! não foi possivel ler > \"+name+\" < !!!\")\n",
    "            pass\n",
    "    if names.count(netname) == 0:\n",
    "        names.append(netname) \n"
   ]
  },
  {
   "cell_type": "markdown",
   "metadata": {},
   "source": [
    "<p>Todos os links e nós ficam guardados nos dicts alllinks e allnodes, e para serem lidos basta passar o prefixo dos arquivos originais entre colchetes. Estes prefixos são os nomes das nossas redes e ficam salvos no vetor names.</p>"
   ]
  },
  {
   "cell_type": "code",
   "execution_count": 5,
   "metadata": {},
   "outputs": [
    {
     "name": "stdout",
     "output_type": "stream",
     "text": [
      "['canarie', 'italy', 'vbns', 'loni', 'germany', 'geant2', 'arpanet', 'cesnet', 'newnet', 'rnpBrazil', 'pionier', 'spain', 'renater', 'lambdaRailUsa', 'metrona', 'arnes', 'bren', 'portugal', 'usaGde', 'sanet', 'nsfnet', 'austria', 'viaDatacenterNet', 'coxUsa', 'mzima', 'scteste', 'eon', 'memorexEurope', 'deutschTelecom', 'internet2Usa', 'OmnicomEurope']\n"
     ]
    }
   ],
   "source": [
    "print(names)"
   ]
  },
  {
   "cell_type": "markdown",
   "metadata": {},
   "source": [
    "<p>Abaixo temos o exemplo do carregamento da rede cesnet:</p>"
   ]
  },
  {
   "cell_type": "code",
   "execution_count": 6,
   "metadata": {},
   "outputs": [],
   "source": [
    "netlinks = alllinks['cesnet']\n",
    "netnodes = allnodes['cesnet']"
   ]
  },
  {
   "cell_type": "markdown",
   "metadata": {},
   "source": [
    "<p>Nos arquivos de nós temos no campo Id todos os nomes dos nós da rede, e nos links a origem e destino dos enlaces, como podemos ver abaixo:</p>"
   ]
  },
  {
   "cell_type": "code",
   "execution_count": 7,
   "metadata": {},
   "outputs": [
    {
     "name": "stdout",
     "output_type": "stream",
     "text": [
      "nodes:\n",
      "['Praga', 'Usti', 'Liberec', 'Hradec', 'Olomouc', 'Ostrava', 'Zlin', 'Brno', 'Jihlava', 'Budweiss', 'Pilsen', 'Pardubice']\n",
      "links:\n",
      "         From         To      Length  Capacity  Cost\n",
      "0       Praga       Usti   44.320945        50     1\n",
      "1        Usti    Liberec   57.122562        50     1\n",
      "2     Liberec      Praga   57.111162        50     1\n",
      "3       Praga     Pilsen  114.930257        50     1\n",
      "4      Pilsen   Budweiss  123.277291        50     1\n",
      "5    Budweiss      Praga  169.402099        50     1\n",
      "6       Praga  Pardubice   72.350748        50     1\n",
      "7   Pardubice     Hradec   69.868247        50     1\n",
      "8      Hradec      Praga   91.221450        50     1\n",
      "9      Hradec    Liberec   64.755029        50     1\n",
      "10   Budweiss    Jihlava  106.688652        50     1\n",
      "11    Jihlava       Brno   74.878684        50     1\n",
      "12       Brno   Budweiss  163.463112        50     1\n",
      "13    Olomouc     Hradec  136.245096        50     1\n",
      "14    Olomouc       Zlin   30.591459        50     1\n",
      "15       Zlin       Brno   75.546151        50     1\n",
      "16       Brno    Olomouc   63.167676        50     1\n",
      "17       Brno    Ostrava  138.226062        50     1\n",
      "18    Ostrava    Olomouc   75.810650        50     1\n"
     ]
    }
   ],
   "source": [
    "#u = pandas.read_csv(\"./nodes_links/renater_links.csv\")\n",
    "a = netnodes['Id'].values.tolist()\n",
    "print(\"nodes:\\n{}\".format(a))\n",
    "print(\"links:\\n{}\".format(netlinks))"
   ]
  },
  {
   "cell_type": "code",
   "execution_count": 8,
   "metadata": {},
   "outputs": [
    {
     "name": "stdout",
     "output_type": "stream",
     "text": [
      "destinos: [['Usti']\n",
      " ['Pilsen']\n",
      " ['Pardubice']]\n",
      "Ids dos destinos: [1, 10, 11]\n"
     ]
    }
   ],
   "source": [
    "destinos = netlinks.loc[netlinks['From']==\"Praga\",['To']].values\n",
    "print(f\"destinos: {destinos}\")\n",
    "nodes = netnodes['Id'].values.tolist()\n",
    "print (f\"Ids dos destinos: {[nodes.index(x) for x in destinos]}\")"
   ]
  },
  {
   "cell_type": "markdown",
   "metadata": {},
   "source": [
    "<h2>Gerando as matrizes de Adjacência</h2>\n",
    "<p>Para montar as matrizes de adjacência consideramos a identificação numérica dos nós conforme a posição de cada um no vetor dos nós. Depois, com a ajuda da comparação de atributos da biblioteca pandas verificamos todas as origens e quais seus destinos, e assim preenchemos a matriz de adjacência.</p>\n",
    "<p>A matriz de adjacência é bidirecional, para facilitar o uso com a implementação com qualquer algorítmo de busca a construção é nas diagonáis superiores e inferiores.</p>"
   ]
  },
  {
   "cell_type": "code",
   "execution_count": 9,
   "metadata": {},
   "outputs": [
    {
     "name": "stdout",
     "output_type": "stream",
     "text": [
      "[[0 1 1 1 0 0 0 0 0 1 1 1]\n",
      " [1 0 1 0 0 0 0 0 0 0 0 0]\n",
      " [1 1 0 1 0 0 0 0 0 0 0 0]\n",
      " [1 0 1 0 1 0 0 0 0 0 0 1]\n",
      " [0 0 0 1 0 1 1 1 0 0 0 0]\n",
      " [0 0 0 0 1 0 0 1 0 0 0 0]\n",
      " [0 0 0 0 1 0 0 1 0 0 0 0]\n",
      " [0 0 0 0 1 1 1 0 1 1 0 0]\n",
      " [0 0 0 0 0 0 0 1 0 1 0 0]\n",
      " [1 0 0 0 0 0 0 1 1 0 1 0]\n",
      " [1 0 0 0 0 0 0 0 0 1 0 0]\n",
      " [1 0 0 1 0 0 0 0 0 0 0 0]]\n"
     ]
    }
   ],
   "source": [
    "def monta_matriz(netnodes,netlinks):\n",
    "    nodes = netnodes['Id'].values.tolist()\n",
    "    matrix = np.matrix(np.zeros( (len(nodes),len(nodes)),dtype=np.int ) )\n",
    "    for n in nodes:\n",
    "        l = netlinks.loc[netlinks['From']==n,['To']].values\n",
    "        indexes = [nodes.index(x) for x in l] #a posicação de cada nome na ordem dos nós\n",
    "        if(len(indexes) > 0):\n",
    "            matrix[nodes.index(n),indexes] = 1\n",
    "            matrix[indexes,nodes.index(n)] = 1 #bidirecional\n",
    "    return matrix\n",
    "\n",
    "matrix = monta_matriz(netnodes,netlinks)\n",
    "\n",
    "print (matrix)"
   ]
  },
  {
   "cell_type": "markdown",
   "metadata": {},
   "source": [
    "<p>Abaixo temos a construção das listas que representam os canais de comunicação dos enlaces. Estes canais são representados por 0's e 1's, salvamos em listas e depois guardamos em dicts que são acessados pela tupla que representa o origem e destino.</p>"
   ]
  },
  {
   "cell_type": "code",
   "execution_count": 10,
   "metadata": {},
   "outputs": [],
   "source": [
    "def criar_canais(mtx,ncanais):\n",
    "    canais = dict()\n",
    "#     mtxc = np.matrix(np.zeros(mtx.shape), dtype=list)\n",
    "    for i in range(len(mtx)):\n",
    "        for j in range(len(mtx)):\n",
    "            if(i<j):\n",
    "                if(mtx[i,j] == 1):\n",
    "                    lista = [1]*ncanais #1 livre, 0 ocupado\n",
    "                    canais.update({(i,j):lista})\n",
    "                    canais.update({(j,i):lista})#mesma instancia para as duas direções\n",
    "    return canais"
   ]
  },
  {
   "cell_type": "markdown",
   "metadata": {},
   "source": [
    "<p>Como os canais são bidirecionais os mesmos canais são usados nas duas direções, ou seja, do nó 0 para o nó 9 e do nó 9 para o nó 0 a mesma instância do objeto lista é utilizado. Assim se o canal 0 é ocupado em uma direção ele também não estará disponível no inverso do mesmo enlace, como podemos ver abaixo:</p> "
   ]
  },
  {
   "cell_type": "code",
   "execution_count": 11,
   "metadata": {},
   "outputs": [
    {
     "name": "stdout",
     "output_type": "stream",
     "text": [
      "Ocupado\n",
      "[0, 1, 1, 1, 1, 1, 1, 1, 1, 1, 1, 1]\n",
      "[0, 1, 1, 1, 1, 1, 1, 1, 1, 1, 1, 1]\n",
      "Desocupado\n",
      "[1, 1, 1, 1, 1, 1, 1, 1, 1, 1, 1, 1]\n",
      "[1, 1, 1, 1, 1, 1, 1, 1, 1, 1, 1, 1]\n"
     ]
    }
   ],
   "source": [
    "canais_rede = criar_canais(matrix,len(netnodes))\n",
    "canais_rede[(9,0)][0]=0 # ocupar canal 0 do enlace\n",
    "print (f'Ocupado\\n{canais_rede[0,9]}\\n{canais_rede[9,0]}')\n",
    "canais_rede[(9,0)][0]=1 # desocupar canal 0 do enlace\n",
    "print (f'Desocupado\\n{canais_rede[0,9]}\\n{canais_rede[9,0]}')"
   ]
  },
  {
   "cell_type": "markdown",
   "metadata": {},
   "source": [
    "<p>Excluir a diagonal inferior(caso necessário):</p>"
   ]
  },
  {
   "cell_type": "code",
   "execution_count": 12,
   "metadata": {
    "scrolled": true
   },
   "outputs": [],
   "source": [
    "# def diagonalizar(mtx):\n",
    "#     nova = np.matrix(np.zeros(mtx.shape), dtype=int)\n",
    "#     for i in range(len(mtx)):\n",
    "#        # print(l)\n",
    "#         for j in range(len(mtx)):\n",
    "#             if(i<j):\n",
    "#                 nova[i,j] = mtx[i,j]\n",
    "#     return nova\n",
    "# print(diagonalizar(matrix))"
   ]
  },
  {
   "cell_type": "markdown",
   "metadata": {},
   "source": [
    "<h2>Calculo e Incrementação do grau</h2>\n",
    "<p>Para calcular o grau médio basta calcular a quantidade de elementos não nulos na linha ou coluna de cada nó, e depois dividir pelo número de nós.</p>\n",
    "<p><i>Obs. Isso se aplica quando a matriz é bidirecional e as diagonais superior e inferior são não nulas.</i></p>"
   ]
  },
  {
   "cell_type": "code",
   "execution_count": 13,
   "metadata": {},
   "outputs": [],
   "source": [
    "def calc_grau(matrix):\n",
    "    soma=0\n",
    "    for l in range(len(matrix)):\n",
    "        for c in range(len(matrix)):\n",
    "            if matrix[l,c] != 0:\n",
    "                soma += 1\n",
    "    return soma/(len(matrix))"
   ]
  },
  {
   "cell_type": "code",
   "execution_count": 14,
   "metadata": {},
   "outputs": [
    {
     "name": "stdout",
     "output_type": "stream",
     "text": [
      "grau médio: 3.1666666666666665\n"
     ]
    }
   ],
   "source": [
    "print(\"grau médio: {}\".format(calc_grau(matrix)))"
   ]
  },
  {
   "cell_type": "markdown",
   "metadata": {},
   "source": [
    "<p>Para aumentar o grau da nossa topologia basta inserir novos enlaces na matriz de adjacência de forma aleatória. Para isso adiciona-se enlaces até o grafo atingir o grau desejado</p>"
   ]
  },
  {
   "cell_type": "code",
   "execution_count": 15,
   "metadata": {},
   "outputs": [],
   "source": [
    "def aumentar_grau(mtx,inc_grau): #nodos = 6, p/incrementar 1 grau adicionamos 6 enlaces, para inc 0.5 add 3\n",
    "    grau = calc_grau(mtx)\n",
    "    mind = len(mtx)-1\n",
    "    n_grau = grau\n",
    "    while n_grau < mind and n_grau < grau + inc_grau:\n",
    "        x,y=(None,None)\n",
    "        while (x==None and y==None):\n",
    "            x,y = (randint(0,mind), randint(0,mind))\n",
    "            if x==y or mtx[x,y]==1:\n",
    "                x,y=(None,None)\n",
    "        mtx[x,y]=1\n",
    "        mtx[y,x]=1 #bijetora...\n",
    "        n_grau=calc_grau(mtx)"
   ]
  },
  {
   "cell_type": "markdown",
   "metadata": {},
   "source": [
    "<p><b>Antes:</b></p>"
   ]
  },
  {
   "cell_type": "code",
   "execution_count": 16,
   "metadata": {},
   "outputs": [
    {
     "name": "stdout",
     "output_type": "stream",
     "text": [
      "[[0 1 1 1 0 0 0 0 0 1 1 1]\n",
      " [1 0 1 0 0 0 0 0 0 0 0 0]\n",
      " [1 1 0 1 0 0 0 0 0 0 0 0]\n",
      " [1 0 1 0 1 0 0 0 0 0 0 1]\n",
      " [0 0 0 1 0 1 1 1 0 0 0 0]\n",
      " [0 0 0 0 1 0 0 1 0 0 0 0]\n",
      " [0 0 0 0 1 0 0 1 0 0 0 0]\n",
      " [0 0 0 0 1 1 1 0 1 1 0 0]\n",
      " [0 0 0 0 0 0 0 1 0 1 0 0]\n",
      " [1 0 0 0 0 0 0 1 1 0 1 0]\n",
      " [1 0 0 0 0 0 0 0 0 1 0 0]\n",
      " [1 0 0 1 0 0 0 0 0 0 0 0]]\n"
     ]
    }
   ],
   "source": [
    "print(matrix)"
   ]
  },
  {
   "cell_type": "code",
   "execution_count": 17,
   "metadata": {},
   "outputs": [],
   "source": [
    "aumentar_grau(matrix,5)"
   ]
  },
  {
   "cell_type": "markdown",
   "metadata": {},
   "source": [
    "<p><b>Depois:</b></p>"
   ]
  },
  {
   "cell_type": "code",
   "execution_count": 18,
   "metadata": {},
   "outputs": [
    {
     "name": "stdout",
     "output_type": "stream",
     "text": [
      "[[0 1 1 1 0 0 1 1 1 1 1 1]\n",
      " [1 0 1 1 1 1 1 0 1 1 1 0]\n",
      " [1 1 0 1 1 1 0 0 1 0 1 1]\n",
      " [1 1 1 0 1 0 0 0 0 1 1 1]\n",
      " [0 1 1 1 0 1 1 1 1 1 0 1]\n",
      " [0 1 1 0 1 0 0 1 0 1 0 0]\n",
      " [1 1 0 0 1 0 0 1 1 0 1 1]\n",
      " [1 0 0 0 1 1 1 0 1 1 1 1]\n",
      " [1 1 1 0 1 0 1 1 0 1 1 1]\n",
      " [1 1 0 1 1 1 0 1 1 0 1 1]\n",
      " [1 1 1 1 0 0 1 1 1 1 0 1]\n",
      " [1 0 1 1 1 0 1 1 1 1 1 0]]\n"
     ]
    }
   ],
   "source": [
    "print(matrix)"
   ]
  },
  {
   "cell_type": "code",
   "execution_count": 19,
   "metadata": {},
   "outputs": [
    {
     "name": "stdout",
     "output_type": "stream",
     "text": [
      "grau médio: 8.166666666666666\n"
     ]
    }
   ],
   "source": [
    "print(\"grau médio: {}\".format(calc_grau(matrix)))"
   ]
  },
  {
   "cell_type": "markdown",
   "metadata": {},
   "source": [
    "<h2>Construir todas as matrizes</h2>\n",
    "<p>Nesta etapa geramos todas as matrizes à partir das informações tiradas dos arquivos nodes e links."
   ]
  },
  {
   "cell_type": "code",
   "execution_count": 20,
   "metadata": {},
   "outputs": [],
   "source": [
    "matrizes = dict()\n",
    "#montar matrizes, canais, etc...\n",
    "for x in names:\n",
    "    netlinks = alllinks[x]\n",
    "    netnodes = allnodes[x]\n",
    "    matriz = monta_matriz(netnodes,netlinks)\n",
    "    matrizes.update({x:matriz})\n",
    "#     print(\"matriz {}:\\n{}\".format(x,matriz))"
   ]
  },
  {
   "cell_type": "markdown",
   "metadata": {},
   "source": [
    "<p>Para acessar as matrizes basta passar o nome da rede entre []:</p>"
   ]
  },
  {
   "cell_type": "code",
   "execution_count": 21,
   "metadata": {},
   "outputs": [
    {
     "name": "stdout",
     "output_type": "stream",
     "text": [
      "matriz:\n",
      "\n",
      "[[0 1 1 1 0 0 0 0 0 1 1 1]\n",
      " [1 0 1 0 0 0 0 0 0 0 0 0]\n",
      " [1 1 0 1 0 0 0 0 0 0 0 0]\n",
      " [1 0 1 0 1 0 0 0 0 0 0 1]\n",
      " [0 0 0 1 0 1 1 1 0 0 0 0]\n",
      " [0 0 0 0 1 0 0 1 0 0 0 0]\n",
      " [0 0 0 0 1 0 0 1 0 0 0 0]\n",
      " [0 0 0 0 1 1 1 0 1 1 0 0]\n",
      " [0 0 0 0 0 0 0 1 0 1 0 0]\n",
      " [1 0 0 0 0 0 0 1 1 0 1 0]\n",
      " [1 0 0 0 0 0 0 0 0 1 0 0]\n",
      " [1 0 0 1 0 0 0 0 0 0 0 0]]\n"
     ]
    }
   ],
   "source": [
    "mat=matrizes['cesnet']\n",
    "print(\"matriz:\\n\")\n",
    "print(mat)"
   ]
  },
  {
   "cell_type": "markdown",
   "metadata": {},
   "source": [
    "<h1>Dijkstra</h1>\n",
    "<p>Implementação da busca pelo menor caminho</p>"
   ]
  },
  {
   "cell_type": "code",
   "execution_count": 22,
   "metadata": {},
   "outputs": [],
   "source": [
    "from math import inf\n",
    "\n",
    "letra = lambda x:chr(ord('a')+x)\n",
    "\n",
    "class BuscaMatriz():\n",
    "    #matrizNova=list()\n",
    "    def __init__(self,matrix):\n",
    "        self.matrix=matrix\n",
    "        self.custo=[inf]*matrix.size()\n",
    "        self.pai=[-1]*matrix.size()\n",
    "    def backtrack(self,destino):\n",
    "        cam=list()\n",
    "#         print(destino)\n",
    "        pai=self.pai[destino]\n",
    "        cam.append(destino)\n",
    "        if(pai!=-1):\n",
    "            cam = cam + self.backtrack(pai)\n",
    "        return cam\n",
    "\n",
    "class GraphMatrix():\n",
    "    def __init__(self,first,matrix):#de certa forma isto não deveria estar aqui e desta forma\n",
    "        self.actual=first\n",
    "        self.matrix=matrix\n",
    "        self.custo=0\n",
    "        self.visited=[0]*len(matrix)\n",
    "        self.visited[first]=1\n",
    "#         for i,linha in enumerate(matrix):\n",
    "#             print (\"linha %d: %s\"%(i,linha))\n",
    "    def __str__(self):\n",
    "        return 'teste'\n",
    "    def visit(self,aresta,custo):\n",
    "        if (self.visited[aresta]==1):\n",
    "            return False\n",
    "        self.visited[aresta]=1\n",
    "        self.actual=aresta\n",
    "        self.custo+=custo\n",
    "        return True\n",
    "    def get_actual(self):\n",
    "        return self.actual\n",
    "    def set_actual(self,actual):\n",
    "        self.actual=actual\n",
    "    def size(self):\n",
    "        return len(self.matrix)\n",
    "    def run(self,*reverse): #nem isto\n",
    "#         print(\"Atualmente em %d com custo %d\" % (self.actual,self.custo))\n",
    "        vizinhos=self.get_vizinhos(self.actual)\n",
    "#         print (\"vizinhos:\")\n",
    "#         for vizinho in vizinhos:\n",
    "#             print(\"numero %d custo %d\" % vizinho)\n",
    "        while len(vizinhos)>0:\n",
    "            if reverse:\n",
    "                v=vizinhos.pop()\n",
    "            else:\n",
    "                v=vizinhos.pop(0)\n",
    "            if self.visit(*v) == True:\n",
    "                return True\n",
    "        return False\n",
    "\n",
    "class AdjMatrix(GraphMatrix):\n",
    "    def __init__(self,*args):\n",
    "        super(AdjMatrix,self).__init__(*args)\n",
    "    def get_vizinhos(self,vert):\n",
    "#         print(self.matrix)\n",
    "        vizinhos=[(i,ar) for i,ar in enumerate(self.matrix[vert]) if ar>0 ]\n",
    "        vizinhos.sort(key=lambda tupla:tupla[1])\n",
    "        return vizinhos"
   ]
  },
  {
   "cell_type": "code",
   "execution_count": 23,
   "metadata": {},
   "outputs": [],
   "source": [
    "#import mtx /\\\n",
    "import sys\n",
    "from math import inf\n",
    "class Dijkstra(BuscaMatriz):\n",
    "    show=lambda self:print(\"Custo: %s\\nPai: %s\\nFila %s\\nAtual: %d\" % (self.custo,self.pai,self.fila,self.matrix.get_actual()))\n",
    "    def __init__(self,matrix):\n",
    "        super(Dijkstra,self).__init__(matrix)\n",
    "        self.fila=list(range(0,matrix.size()))\n",
    "        self.fila.remove(self.matrix.get_actual())\n",
    "\n",
    "    def explora(self):\n",
    "        index=self.matrix.get_actual()\n",
    "        if(self.custo[index]==inf):#caso seja desconexo\n",
    "            self.custo[index]=0\n",
    "        for vizinho in self.matrix.get_vizinhos(index):\n",
    "            (vert,value)=vizinho\n",
    "#             self.show()\n",
    "            nvalue=value+self.custo[index]\n",
    "            if nvalue < self.custo[vert]:\n",
    "#                 print(\"Novo valor para %d: %d\"%(vert,nvalue))\n",
    "                self.atualiza(vert,nvalue)\n",
    "    def gen_fila(self):\n",
    "        for x in self.fila:\n",
    "            custo=self.custo[x]\n",
    "            yield (custo,x)\n",
    "    def end(self):\n",
    "        return self.fila==[]\n",
    "    def atualiza(self,filho,valor):\n",
    "        self.custo[filho]=valor\n",
    "        self.pai[filho]=self.matrix.get_actual()\n",
    "    def choose(self):\n",
    "        fila=list()\n",
    "        for a in self.gen_fila():\n",
    "            fila.append(a)\n",
    "        fila.sort()\n",
    "#         print(\"\\nFila em ordem de peso: %s\"%(fila))\n",
    "        (peso,actual)=fila.pop(0)\n",
    "        \n",
    "        self.matrix.set_actual(actual)\n",
    "        self.fila.remove(actual)"
   ]
  },
  {
   "cell_type": "markdown",
   "metadata": {},
   "source": [
    "<h2>Calcular as rotas</h2>\n",
    "<p>Ao explorar a matriz verificamos os menores custos para comunicação entre todos os nós.</p>"
   ]
  },
  {
   "cell_type": "markdown",
   "metadata": {},
   "source": [
    "Suporte a threads para acelerar o processo:"
   ]
  },
  {
   "cell_type": "code",
   "execution_count": 24,
   "metadata": {},
   "outputs": [],
   "source": [
    "from threading import Lock #bloqueios mutex\n",
    "import concurrent.futures #threads\n",
    "\n",
    "mutex = Lock()"
   ]
  },
  {
   "cell_type": "markdown",
   "metadata": {},
   "source": [
    "Explorar todos caminhos da árvore"
   ]
  },
  {
   "cell_type": "code",
   "execution_count": 25,
   "metadata": {},
   "outputs": [],
   "source": [
    "# para cada caminho uma thread, a fim de acelerar o processo de exploracao\n",
    "def explorar_caminho(ijcl):\n",
    "    i,j,caminhos,lmtx=ijcl\n",
    "    di=Dijkstra(AdjMatrix(i,lmtx))\n",
    "    di.explora()\n",
    "    while(di.end()==False):\n",
    "        di.explora()\n",
    "        di.choose()\n",
    "    mutex.acquire()\n",
    "    try:\n",
    "        caminhos.update({(j,i):di.backtrack(j)})\n",
    "    finally:\n",
    "        mutex.release()\n",
    "    print(caminhos)\n",
    "    return caminhos\n",
    "\n",
    "def explorar_matrix(mtx):\n",
    "    caminhos = dict()\n",
    "    #lmtx = mtx.tolist()\n",
    "    lmtx = mtx\n",
    "    # gera lista de entradas para as threads com todas as combinacoes de origem destino:\n",
    "    t_caminhos=[(i,j,caminhos,lmtx) for i in range(len(mtx)) for j in range(len(mtx)) if i!=j]\n",
    "    with concurrent.futures.ThreadPoolExecutor() as executor: # chamada paralelizada dos processos:\n",
    "        executor.map(explorar_caminho,t_caminhos)\n",
    "    return caminhos\n"
   ]
  },
  {
   "cell_type": "code",
   "execution_count": 26,
   "metadata": {},
   "outputs": [
    {
     "name": "stdout",
     "output_type": "stream",
     "text": [
      "{(1, 0): [1, 7, 19, 14, 21, 0]}\n",
      "{(1, 0): [1, 7, 19, 14, 21, 0], (2, 0): [2, 9, 0]}{(1, 0): [1, 7, 19, 14, 21, 0], (2, 0): [2, 9, 0], (3, 0): [3, 20, 7, 19, 14, 21, 0]}\n",
      "{(1, 0): [1, 7, 19, 14, 21, 0], (2, 0): [2, 9, 0], (3, 0): [3, 20, 7, 19, 14, 21, 0], (4, 0): [4, 3, 20, 7, 19, 14, 21, 0]}\n",
      "\n",
      "{(1, 0): [1, 7, 19, 14, 21, 0], (2, 0): [2, 9, 0], (3, 0): [3, 20, 7, 19, 14, 21, 0], (4, 0): [4, 3, 20, 7, 19, 14, 21, 0], (5, 0): [5, 14, 21, 0]}{(1, 0): [1, 7, 19, 14, 21, 0], (2, 0): [2, 9, 0], (3, 0): [3, 20, 7, 19, 14, 21, 0], (4, 0): [4, 3, 20, 7, 19, 14, 21, 0], (5, 0): [5, 14, 21, 0], (6, 0): [6, 16, 8, 9, 0]}\n",
      "{(1, 0): [1, 7, 19, 14, 21, 0], (2, 0): [2, 9, 0], (3, 0): [3, 20, 7, 19, 14, 21, 0], (4, 0): [4, 3, 20, 7, 19, 14, 21, 0], (5, 0): [5, 14, 21, 0], (6, 0): [6, 16, 8, 9, 0], (7, 0): [7, 19, 14, 21, 0]}\n",
      "{(1, 0): [1, 7, 19, 14, 21, 0], (2, 0): [2, 9, 0], (3, 0): [3, 20, 7, 19, 14, 21, 0], (4, 0): [4, 3, 20, 7, 19, 14, 21, 0], (5, 0): [5, 14, 21, 0], (6, 0): [6, 16, 8, 9, 0], (7, 0): [7, 19, 14, 21, 0], (8, 0): [8, 9, 0]}\n",
      "\n",
      "{(1, 0): [1, 7, 19, 14, 21, 0], (2, 0): [2, 9, 0], (3, 0): [3, 20, 7, 19, 14, 21, 0], (4, 0): [4, 3, 20, 7, 19, 14, 21, 0], (5, 0): [5, 14, 21, 0], (6, 0): [6, 16, 8, 9, 0], (7, 0): [7, 19, 14, 21, 0], (8, 0): [8, 9, 0], (9, 0): [9, 0]}{(1, 0): [1, 7, 19, 14, 21, 0], (2, 0): [2, 9, 0], (3, 0): [3, 20, 7, 19, 14, 21, 0], (4, 0): [4, 3, 20, 7, 19, 14, 21, 0], (5, 0): [5, 14, 21, 0], (6, 0): [6, 16, 8, 9, 0], (7, 0): [7, 19, 14, 21, 0], (8, 0): [8, 9, 0], (9, 0): [9, 0], (10, 0): [10, 2, 9, 0]}\n",
      "{(1, 0): [1, 7, 19, 14, 21, 0], (2, 0): [2, 9, 0], (3, 0): [3, 20, 7, 19, 14, 21, 0], (4, 0): [4, 3, 20, 7, 19, 14, 21, 0], (5, 0): [5, 14, 21, 0], (6, 0): [6, 16, 8, 9, 0], (7, 0): [7, 19, 14, 21, 0], (8, 0): [8, 9, 0], (9, 0): [9, 0], (10, 0): [10, 2, 9, 0], (11, 0): [11, 14, 21, 0]}\n",
      "{(1, 0): [1, 7, 19, 14, 21, 0], (2, 0): [2, 9, 0], (3, 0): [3, 20, 7, 19, 14, 21, 0], (4, 0): [4, 3, 20, 7, 19, 14, 21, 0], (5, 0): [5, 14, 21, 0], (6, 0): [6, 16, 8, 9, 0], (7, 0): [7, 19, 14, 21, 0], (8, 0): [8, 9, 0], (9, 0): [9, 0], (10, 0): [10, 2, 9, 0], (11, 0): [11, 14, 21, 0], (12, 0): [12, 6, 16, 8, 9, 0]}\n",
      "\n",
      "{(1, 0): [1, 7, 19, 14, 21, 0], (2, 0): [2, 9, 0], (3, 0): [3, 20, 7, 19, 14, 21, 0], (4, 0): [4, 3, 20, 7, 19, 14, 21, 0], (5, 0): [5, 14, 21, 0], (6, 0): [6, 16, 8, 9, 0], (7, 0): [7, 19, 14, 21, 0], (8, 0): [8, 9, 0], (9, 0): [9, 0], (10, 0): [10, 2, 9, 0], (11, 0): [11, 14, 21, 0], (12, 0): [12, 6, 16, 8, 9, 0], (13, 0): [13, 5, 14, 21, 0]}\n",
      "{(1, 0): [1, 7, 19, 14, 21, 0], (2, 0): [2, 9, 0], (3, 0): [3, 20, 7, 19, 14, 21, 0], (4, 0): [4, 3, 20, 7, 19, 14, 21, 0], (5, 0): [5, 14, 21, 0], (6, 0): [6, 16, 8, 9, 0], (7, 0): [7, 19, 14, 21, 0], (8, 0): [8, 9, 0], (9, 0): [9, 0], (10, 0): [10, 2, 9, 0], (11, 0): [11, 14, 21, 0], (12, 0): [12, 6, 16, 8, 9, 0], (13, 0): [13, 5, 14, 21, 0], (14, 0): [14, 21, 0]}\n",
      "{(1, 0): [1, 7, 19, 14, 21, 0], (2, 0): [2, 9, 0], (3, 0): [3, 20, 7, 19, 14, 21, 0], (4, 0): [4, 3, 20, 7, 19, 14, 21, 0], (5, 0): [5, 14, 21, 0], (6, 0): [6, 16, 8, 9, 0], (7, 0): [7, 19, 14, 21, 0], (8, 0): [8, 9, 0], (9, 0): [9, 0], (10, 0): [10, 2, 9, 0], (11, 0): [11, 14, 21, 0], (12, 0): [12, 6, 16, 8, 9, 0], (13, 0): [13, 5, 14, 21, 0], (14, 0): [14, 21, 0], (15, 0): [15, 14, 21, 0]}\n",
      "{(1, 0): [1, 7, 19, 14, 21, 0], (2, 0): [2, 9, 0], (3, 0): [3, 20, 7, 19, 14, 21, 0], (4, 0): [4, 3, 20, 7, 19, 14, 21, 0], (5, 0): [5, 14, 21, 0], (6, 0): [6, 16, 8, 9, 0], (7, 0): [7, 19, 14, 21, 0], (8, 0): [8, 9, 0], (9, 0): [9, 0], (10, 0): [10, 2, 9, 0], (11, 0): [11, 14, 21, 0], (12, 0): [12, 6, 16, 8, 9, 0], (13, 0): [13, 5, 14, 21, 0], (14, 0): [14, 21, 0], (15, 0): [15, 14, 21, 0], (16, 0): [16, 8, 9, 0]}\n",
      "{(1, 0): [1, 7, 19, 14, 21, 0], (2, 0): [2, 9, 0], (3, 0): [3, 20, 7, 19, 14, 21, 0], (4, 0): [4, 3, 20, 7, 19, 14, 21, 0], (5, 0): [5, 14, 21, 0], (6, 0): [6, 16, 8, 9, 0], (7, 0): [7, 19, 14, 21, 0], (8, 0): [8, 9, 0], (9, 0): [9, 0], (10, 0): [10, 2, 9, 0], (11, 0): [11, 14, 21, 0], (12, 0): [12, 6, 16, 8, 9, 0], (13, 0): [13, 5, 14, 21, 0], (14, 0): [14, 21, 0], (15, 0): [15, 14, 21, 0], (16, 0): [16, 8, 9, 0], (17, 0): [17, 22, 0]}\n",
      "{(1, 0): [1, 7, 19, 14, 21, 0], (2, 0): [2, 9, 0], (3, 0): [3, 20, 7, 19, 14, 21, 0], (4, 0): [4, 3, 20, 7, 19, 14, 21, 0], (5, 0): [5, 14, 21, 0], (6, 0): [6, 16, 8, 9, 0], (7, 0): [7, 19, 14, 21, 0], (8, 0): [8, 9, 0], (9, 0): [9, 0], (10, 0): [10, 2, 9, 0], (11, 0): [11, 14, 21, 0], (12, 0): [12, 6, 16, 8, 9, 0], (13, 0): [13, 5, 14, 21, 0], (14, 0): [14, 21, 0], (15, 0): [15, 14, 21, 0], (16, 0): [16, 8, 9, 0], (17, 0): [17, 22, 0], (18, 0): [18, 1, 7, 19, 14, 21, 0]}{(1, 0): [1, 7, 19, 14, 21, 0], (2, 0): [2, 9, 0], (3, 0): [3, 20, 7, 19, 14, 21, 0], (4, 0): [4, 3, 20, 7, 19, 14, 21, 0], (5, 0): [5, 14, 21, 0], (6, 0): [6, 16, 8, 9, 0], (7, 0): [7, 19, 14, 21, 0], (8, 0): [8, 9, 0], (9, 0): [9, 0], (10, 0): [10, 2, 9, 0], (11, 0): [11, 14, 21, 0], (12, 0): [12, 6, 16, 8, 9, 0], (13, 0): [13, 5, 14, 21, 0], (14, 0): [14, 21, 0], (15, 0): [15, 14, 21, 0], (16, 0): [16, 8, 9, 0], (17, 0): [17, 22, 0], (18, 0): [18, 1, 7, 19, 14, 21, 0], (19, 0): [19, 14, 21, 0]}\n",
      "{(1, 0): [1, 7, 19, 14, 21, 0], (2, 0): [2, 9, 0], (3, 0): [3, 20, 7, 19, 14, 21, 0], (4, 0): [4, 3, 20, 7, 19, 14, 21, 0], (5, 0): [5, 14, 21, 0], (6, 0): [6, 16, 8, 9, 0], (7, 0): [7, 19, 14, 21, 0], (8, 0): [8, 9, 0], (9, 0): [9, 0], (10, 0): [10, 2, 9, 0], (11, 0): [11, 14, 21, 0], (12, 0): [12, 6, 16, 8, 9, 0], (13, 0): [13, 5, 14, 21, 0], (14, 0): [14, 21, 0], (15, 0): [15, 14, 21, 0], (16, 0): [16, 8, 9, 0], (17, 0): [17, 22, 0], (18, 0): [18, 1, 7, 19, 14, 21, 0], (19, 0): [19, 14, 21, 0], (20, 0): [20, 7, 19, 14, 21, 0]}\n",
      "{(1, 0): [1, 7, 19, 14, 21, 0], (2, 0): [2, 9, 0], (3, 0): [3, 20, 7, 19, 14, 21, 0], (4, 0): [4, 3, 20, 7, 19, 14, 21, 0], (5, 0): [5, 14, 21, 0], (6, 0): [6, 16, 8, 9, 0], (7, 0): [7, 19, 14, 21, 0], (8, 0): [8, 9, 0], (9, 0): [9, 0], (10, 0): [10, 2, 9, 0], (11, 0): [11, 14, 21, 0], (12, 0): [12, 6, 16, 8, 9, 0], (13, 0): [13, 5, 14, 21, 0], (14, 0): [14, 21, 0], (15, 0): [15, 14, 21, 0], (16, 0): [16, 8, 9, 0], (17, 0): [17, 22, 0], (18, 0): [18, 1, 7, 19, 14, 21, 0], (19, 0): [19, 14, 21, 0], (20, 0): [20, 7, 19, 14, 21, 0], (21, 0): [21, 0]}\n",
      "{(1, 0): [1, 7, 19, 14, 21, 0], (2, 0): [2, 9, 0], (3, 0): [3, 20, 7, 19, 14, 21, 0], (4, 0): [4, 3, 20, 7, 19, 14, 21, 0], (5, 0): [5, 14, 21, 0], (6, 0): [6, 16, 8, 9, 0], (7, 0): [7, 19, 14, 21, 0], (8, 0): [8, 9, 0], (9, 0): [9, 0], (10, 0): [10, 2, 9, 0], (11, 0): [11, 14, 21, 0], (12, 0): [12, 6, 16, 8, 9, 0], (13, 0): [13, 5, 14, 21, 0], (14, 0): [14, 21, 0], (15, 0): [15, 14, 21, 0], (16, 0): [16, 8, 9, 0], (17, 0): [17, 22, 0], (18, 0): [18, 1, 7, 19, 14, 21, 0], (19, 0): [19, 14, 21, 0], (20, 0): [20, 7, 19, 14, 21, 0], (21, 0): [21, 0], (22, 0): [22, 0]}\n",
      "{(1, 0): [1, 7, 19, 14, 21, 0], (2, 0): [2, 9, 0], (3, 0): [3, 20, 7, 19, 14, 21, 0], (4, 0): [4, 3, 20, 7, 19, 14, 21, 0], (5, 0): [5, 14, 21, 0], (6, 0): [6, 16, 8, 9, 0], (7, 0): [7, 19, 14, 21, 0], (8, 0): [8, 9, 0], (9, 0): [9, 0], (10, 0): [10, 2, 9, 0], (11, 0): [11, 14, 21, 0], (12, 0): [12, 6, 16, 8, 9, 0], (13, 0): [13, 5, 14, 21, 0], (14, 0): [14, 21, 0], (15, 0): [15, 14, 21, 0], (16, 0): [16, 8, 9, 0], (17, 0): [17, 22, 0], (18, 0): [18, 1, 7, 19, 14, 21, 0], (19, 0): [19, 14, 21, 0], (20, 0): [20, 7, 19, 14, 21, 0], (21, 0): [21, 0], (22, 0): [22, 0], (23, 0): [23, 3, 20, 7, 19, 14, 21, 0]}\n",
      "{(1, 0): [1, 7, 19, 14, 21, 0], (2, 0): [2, 9, 0], (3, 0): [3, 20, 7, 19, 14, 21, 0], (4, 0): [4, 3, 20, 7, 19, 14, 21, 0], (5, 0): [5, 14, 21, 0], (6, 0): [6, 16, 8, 9, 0], (7, 0): [7, 19, 14, 21, 0], (8, 0): [8, 9, 0], (9, 0): [9, 0], (10, 0): [10, 2, 9, 0], (11, 0): [11, 14, 21, 0], (12, 0): [12, 6, 16, 8, 9, 0], (13, 0): [13, 5, 14, 21, 0], (14, 0): [14, 21, 0], (15, 0): [15, 14, 21, 0], (16, 0): [16, 8, 9, 0], (17, 0): [17, 22, 0], (18, 0): [18, 1, 7, 19, 14, 21, 0], (19, 0): [19, 14, 21, 0], (20, 0): [20, 7, 19, 14, 21, 0], (21, 0): [21, 0], (22, 0): [22, 0], (23, 0): [23, 3, 20, 7, 19, 14, 21, 0], (24, 0): [24, 25, 7, 19, 14, 21, 0]}\n",
      "\n",
      "{(1, 0): [1, 7, 19, 14, 21, 0], (2, 0): [2, 9, 0], (3, 0): [3, 20, 7, 19, 14, 21, 0], (4, 0): [4, 3, 20, 7, 19, 14, 21, 0], (5, 0): [5, 14, 21, 0], (6, 0): [6, 16, 8, 9, 0], (7, 0): [7, 19, 14, 21, 0], (8, 0): [8, 9, 0], (9, 0): [9, 0], (10, 0): [10, 2, 9, 0], (11, 0): [11, 14, 21, 0], (12, 0): [12, 6, 16, 8, 9, 0], (13, 0): [13, 5, 14, 21, 0], (14, 0): [14, 21, 0], (15, 0): [15, 14, 21, 0], (16, 0): [16, 8, 9, 0], (17, 0): [17, 22, 0], (18, 0): [18, 1, 7, 19, 14, 21, 0], (19, 0): [19, 14, 21, 0], (20, 0): [20, 7, 19, 14, 21, 0], (21, 0): [21, 0], (22, 0): [22, 0], (23, 0): [23, 3, 20, 7, 19, 14, 21, 0], (24, 0): [24, 25, 7, 19, 14, 21, 0], (25, 0): [25, 7, 19, 14, 21, 0]}{(1, 0): [1, 7, 19, 14, 21, 0], (2, 0): [2, 9, 0], (3, 0): [3, 20, 7, 19, 14, 21, 0], (4, 0): [4, 3, 20, 7, 19, 14, 21, 0], (5, 0): [5, 14, 21, 0], (6, 0): [6, 16, 8, 9, 0], (7, 0): [7, 19, 14, 21, 0], (8, 0): [8, 9, 0], (9, 0): [9, 0], (10, 0): [10, 2, 9, 0], (11, 0): [11, 14, 21, 0], (12, 0): [12, 6, 16, 8, 9, 0], (13, 0): [13, 5, 14, 21, 0], (14, 0): [14, 21, 0], (15, 0): [15, 14, 21, 0], (16, 0): [16, 8, 9, 0], (17, 0): [17, 22, 0], (18, 0): [18, 1, 7, 19, 14, 21, 0], (19, 0): [19, 14, 21, 0], (20, 0): [20, 7, 19, 14, 21, 0], (21, 0): [21, 0], (22, 0): [22, 0], (23, 0): [23, 3, 20, 7, 19, 14, 21, 0], (24, 0): [24, 25, 7, 19, 14, 21, 0], (25, 0): [25, 7, 19, 14, 21, 0], (0, 1): [0, 21, 14, 5, 13, 1]}{(1, 0): [1, 7, 19, 14, 21, 0], (2, 0): [2, 9, 0], (3, 0): [3, 20, 7, 19, 14, 21, 0], (4, 0): [4, 3, 20, 7, 19, 14, 21, 0], (5, 0): [5, 14, 21, 0], (6, 0): [6, 16, 8, 9, 0], (7, 0): [7, 19, 14, 21, 0], (8, 0): [8, 9, 0], (9, 0): [9, 0], (10, 0): [10, 2, 9, 0], (11, 0): [11, 14, 21, 0], (12, 0): [12, 6, 16, 8, 9, 0], (13, 0): [13, 5, 14, 21, 0], (14, 0): [14, 21, 0], (15, 0): [15, 14, 21, 0], (16, 0): [16, 8, 9, 0], (17, 0): [17, 22, 0], (18, 0): [18, 1, 7, 19, 14, 21, 0], (19, 0): [19, 14, 21, 0], (20, 0): [20, 7, 19, 14, 21, 0], (21, 0): [21, 0], (22, 0): [22, 0], (23, 0): [23, 3, 20, 7, 19, 14, 21, 0], (24, 0): [24, 25, 7, 19, 14, 21, 0], (25, 0): [25, 7, 19, 14, 21, 0], (0, 1): [0, 21, 14, 5, 13, 1], (2, 1): [2, 9, 8, 16, 19, 7, 1]}\n",
      "{(1, 0): [1, 7, 19, 14, 21, 0], (2, 0): [2, 9, 0], (3, 0): [3, 20, 7, 19, 14, 21, 0], (4, 0): [4, 3, 20, 7, 19, 14, 21, 0], (5, 0): [5, 14, 21, 0], (6, 0): [6, 16, 8, 9, 0], (7, 0): [7, 19, 14, 21, 0], (8, 0): [8, 9, 0], (9, 0): [9, 0], (10, 0): [10, 2, 9, 0], (11, 0): [11, 14, 21, 0], (12, 0): [12, 6, 16, 8, 9, 0], (13, 0): [13, 5, 14, 21, 0], (14, 0): [14, 21, 0], (15, 0): [15, 14, 21, 0], (16, 0): [16, 8, 9, 0], (17, 0): [17, 22, 0], (18, 0): [18, 1, 7, 19, 14, 21, 0], (19, 0): [19, 14, 21, 0], (20, 0): [20, 7, 19, 14, 21, 0], (21, 0): [21, 0], (22, 0): [22, 0], (23, 0): [23, 3, 20, 7, 19, 14, 21, 0], (24, 0): [24, 25, 7, 19, 14, 21, 0], (25, 0): [25, 7, 19, 14, 21, 0], (0, 1): [0, 21, 14, 5, 13, 1], (2, 1): [2, 9, 8, 16, 19, 7, 1], (3, 1): [3, 18, 1]}\n",
      "{(1, 0): [1, 7, 19, 14, 21, 0], (2, 0): [2, 9, 0], (3, 0): [3, 20, 7, 19, 14, 21, 0], (4, 0): [4, 3, 20, 7, 19, 14, 21, 0], (5, 0): [5, 14, 21, 0], (6, 0): [6, 16, 8, 9, 0], (7, 0): [7, 19, 14, 21, 0], (8, 0): [8, 9, 0], (9, 0): [9, 0], (10, 0): [10, 2, 9, 0], (11, 0): [11, 14, 21, 0], (12, 0): [12, 6, 16, 8, 9, 0], (13, 0): [13, 5, 14, 21, 0], (14, 0): [14, 21, 0], (15, 0): [15, 14, 21, 0], (16, 0): [16, 8, 9, 0], (17, 0): [17, 22, 0], (18, 0): [18, 1, 7, 19, 14, 21, 0], (19, 0): [19, 14, 21, 0], (20, 0): [20, 7, 19, 14, 21, 0], (21, 0): [21, 0], (22, 0): [22, 0], (23, 0): [23, 3, 20, 7, 19, 14, 21, 0], (24, 0): [24, 25, 7, 19, 14, 21, 0], (25, 0): [25, 7, 19, 14, 21, 0], (0, 1): [0, 21, 14, 5, 13, 1], (2, 1): [2, 9, 8, 16, 19, 7, 1], (3, 1): [3, 18, 1], (4, 1): [4, 3, 18, 1]}\n",
      "{(1, 0): [1, 7, 19, 14, 21, 0], (2, 0): [2, 9, 0], (3, 0): [3, 20, 7, 19, 14, 21, 0], (4, 0): [4, 3, 20, 7, 19, 14, 21, 0], (5, 0): [5, 14, 21, 0], (6, 0): [6, 16, 8, 9, 0], (7, 0): [7, 19, 14, 21, 0], (8, 0): [8, 9, 0], (9, 0): [9, 0], (10, 0): [10, 2, 9, 0], (11, 0): [11, 14, 21, 0], (12, 0): [12, 6, 16, 8, 9, 0], (13, 0): [13, 5, 14, 21, 0], (14, 0): [14, 21, 0], (15, 0): [15, 14, 21, 0], (16, 0): [16, 8, 9, 0], (17, 0): [17, 22, 0], (18, 0): [18, 1, 7, 19, 14, 21, 0], (19, 0): [19, 14, 21, 0], (20, 0): [20, 7, 19, 14, 21, 0], (21, 0): [21, 0], (22, 0): [22, 0], (23, 0): [23, 3, 20, 7, 19, 14, 21, 0], (24, 0): [24, 25, 7, 19, 14, 21, 0], (25, 0): [25, 7, 19, 14, 21, 0], (0, 1): [0, 21, 14, 5, 13, 1], (2, 1): [2, 9, 8, 16, 19, 7, 1], (3, 1): [3, 18, 1], (4, 1): [4, 3, 18, 1], (5, 1): [5, 13, 1]}\n",
      "{(1, 0): [1, 7, 19, 14, 21, 0], (2, 0): [2, 9, 0], (3, 0): [3, 20, 7, 19, 14, 21, 0], (4, 0): [4, 3, 20, 7, 19, 14, 21, 0], (5, 0): [5, 14, 21, 0], (6, 0): [6, 16, 8, 9, 0], (7, 0): [7, 19, 14, 21, 0], (8, 0): [8, 9, 0], (9, 0): [9, 0], (10, 0): [10, 2, 9, 0], (11, 0): [11, 14, 21, 0], (12, 0): [12, 6, 16, 8, 9, 0], (13, 0): [13, 5, 14, 21, 0], (14, 0): [14, 21, 0], (15, 0): [15, 14, 21, 0], (16, 0): [16, 8, 9, 0], (17, 0): [17, 22, 0], (18, 0): [18, 1, 7, 19, 14, 21, 0], (19, 0): [19, 14, 21, 0], (20, 0): [20, 7, 19, 14, 21, 0], (21, 0): [21, 0], (22, 0): [22, 0], (23, 0): [23, 3, 20, 7, 19, 14, 21, 0], (24, 0): [24, 25, 7, 19, 14, 21, 0], (25, 0): [25, 7, 19, 14, 21, 0], (0, 1): [0, 21, 14, 5, 13, 1], (2, 1): [2, 9, 8, 16, 19, 7, 1], (3, 1): [3, 18, 1], (4, 1): [4, 3, 18, 1], (5, 1): [5, 13, 1], (6, 1): [6, 12, 25, 7, 1]}\n",
      "{(1, 0): [1, 7, 19, 14, 21, 0], (2, 0): [2, 9, 0], (3, 0): [3, 20, 7, 19, 14, 21, 0], (4, 0): [4, 3, 20, 7, 19, 14, 21, 0], (5, 0): [5, 14, 21, 0], (6, 0): [6, 16, 8, 9, 0], (7, 0): [7, 19, 14, 21, 0], (8, 0): [8, 9, 0], (9, 0): [9, 0], (10, 0): [10, 2, 9, 0], (11, 0): [11, 14, 21, 0], (12, 0): [12, 6, 16, 8, 9, 0], (13, 0): [13, 5, 14, 21, 0], (14, 0): [14, 21, 0], (15, 0): [15, 14, 21, 0], (16, 0): [16, 8, 9, 0], (17, 0): [17, 22, 0], (18, 0): [18, 1, 7, 19, 14, 21, 0], (19, 0): [19, 14, 21, 0], (20, 0): [20, 7, 19, 14, 21, 0], (21, 0): [21, 0], (22, 0): [22, 0], (23, 0): [23, 3, 20, 7, 19, 14, 21, 0], (24, 0): [24, 25, 7, 19, 14, 21, 0], (25, 0): [25, 7, 19, 14, 21, 0], (0, 1): [0, 21, 14, 5, 13, 1], (2, 1): [2, 9, 8, 16, 19, 7, 1], (3, 1): [3, 18, 1], (4, 1): [4, 3, 18, 1], (5, 1): [5, 13, 1], (6, 1): [6, 12, 25, 7, 1], (7, 1): [7, 1]}\n",
      "\n",
      "\n",
      "{(1, 0): [1, 7, 19, 14, 21, 0], (2, 0): [2, 9, 0], (3, 0): [3, 20, 7, 19, 14, 21, 0], (4, 0): [4, 3, 20, 7, 19, 14, 21, 0], (5, 0): [5, 14, 21, 0], (6, 0): [6, 16, 8, 9, 0], (7, 0): [7, 19, 14, 21, 0], (8, 0): [8, 9, 0], (9, 0): [9, 0], (10, 0): [10, 2, 9, 0], (11, 0): [11, 14, 21, 0], (12, 0): [12, 6, 16, 8, 9, 0], (13, 0): [13, 5, 14, 21, 0], (14, 0): [14, 21, 0], (15, 0): [15, 14, 21, 0], (16, 0): [16, 8, 9, 0], (17, 0): [17, 22, 0], (18, 0): [18, 1, 7, 19, 14, 21, 0], (19, 0): [19, 14, 21, 0], (20, 0): [20, 7, 19, 14, 21, 0], (21, 0): [21, 0], (22, 0): [22, 0], (23, 0): [23, 3, 20, 7, 19, 14, 21, 0], (24, 0): [24, 25, 7, 19, 14, 21, 0], (25, 0): [25, 7, 19, 14, 21, 0], (0, 1): [0, 21, 14, 5, 13, 1], (2, 1): [2, 9, 8, 16, 19, 7, 1], (3, 1): [3, 18, 1], (4, 1): [4, 3, 18, 1], (5, 1): [5, 13, 1], (6, 1): [6, 12, 25, 7, 1], (7, 1): [7, 1], (8, 1): [8, 16, 19, 7, 1]}{(1, 0): [1, 7, 19, 14, 21, 0], (2, 0): [2, 9, 0], (3, 0): [3, 20, 7, 19, 14, 21, 0], (4, 0): [4, 3, 20, 7, 19, 14, 21, 0], (5, 0): [5, 14, 21, 0], (6, 0): [6, 16, 8, 9, 0], (7, 0): [7, 19, 14, 21, 0], (8, 0): [8, 9, 0], (9, 0): [9, 0], (10, 0): [10, 2, 9, 0], (11, 0): [11, 14, 21, 0], (12, 0): [12, 6, 16, 8, 9, 0], (13, 0): [13, 5, 14, 21, 0], (14, 0): [14, 21, 0], (15, 0): [15, 14, 21, 0], (16, 0): [16, 8, 9, 0], (17, 0): [17, 22, 0], (18, 0): [18, 1, 7, 19, 14, 21, 0], (19, 0): [19, 14, 21, 0], (20, 0): [20, 7, 19, 14, 21, 0], (21, 0): [21, 0], (22, 0): [22, 0], (23, 0): [23, 3, 20, 7, 19, 14, 21, 0], (24, 0): [24, 25, 7, 19, 14, 21, 0], (25, 0): [25, 7, 19, 14, 21, 0], (0, 1): [0, 21, 14, 5, 13, 1], (2, 1): [2, 9, 8, 16, 19, 7, 1], (3, 1): [3, 18, 1], (4, 1): [4, 3, 18, 1], (5, 1): [5, 13, 1], (6, 1): [6, 12, 25, 7, 1], (7, 1): [7, 1], (8, 1): [8, 16, 19, 7, 1], (9, 1): [9, 8, 16, 19, 7, 1]}\n",
      "{(1, 0): [1, 7, 19, 14, 21, 0], (2, 0): [2, 9, 0], (3, 0): [3, 20, 7, 19, 14, 21, 0], (4, 0): [4, 3, 20, 7, 19, 14, 21, 0], (5, 0): [5, 14, 21, 0], (6, 0): [6, 16, 8, 9, 0], (7, 0): [7, 19, 14, 21, 0], (8, 0): [8, 9, 0], (9, 0): [9, 0], (10, 0): [10, 2, 9, 0], (11, 0): [11, 14, 21, 0], (12, 0): [12, 6, 16, 8, 9, 0], (13, 0): [13, 5, 14, 21, 0], (14, 0): [14, 21, 0], (15, 0): [15, 14, 21, 0], (16, 0): [16, 8, 9, 0], (17, 0): [17, 22, 0], (18, 0): [18, 1, 7, 19, 14, 21, 0], (19, 0): [19, 14, 21, 0], (20, 0): [20, 7, 19, 14, 21, 0], (21, 0): [21, 0], (22, 0): [22, 0], (23, 0): [23, 3, 20, 7, 19, 14, 21, 0], (24, 0): [24, 25, 7, 19, 14, 21, 0], (25, 0): [25, 7, 19, 14, 21, 0], (0, 1): [0, 21, 14, 5, 13, 1], (2, 1): [2, 9, 8, 16, 19, 7, 1], (3, 1): [3, 18, 1], (4, 1): [4, 3, 18, 1], (5, 1): [5, 13, 1], (6, 1): [6, 12, 25, 7, 1], (7, 1): [7, 1], (8, 1): [8, 16, 19, 7, 1], (9, 1): [9, 8, 16, 19, 7, 1], (10, 1): [10, 17, 11, 14, 5, 13, 1]}\n",
      "{(1, 0): [1, 7, 19, 14, 21, 0], (2, 0): [2, 9, 0], (3, 0): [3, 20, 7, 19, 14, 21, 0], (4, 0): [4, 3, 20, 7, 19, 14, 21, 0], (5, 0): [5, 14, 21, 0], (6, 0): [6, 16, 8, 9, 0], (7, 0): [7, 19, 14, 21, 0], (8, 0): [8, 9, 0], (9, 0): [9, 0], (10, 0): [10, 2, 9, 0], (11, 0): [11, 14, 21, 0], (12, 0): [12, 6, 16, 8, 9, 0], (13, 0): [13, 5, 14, 21, 0], (14, 0): [14, 21, 0], (15, 0): [15, 14, 21, 0], (16, 0): [16, 8, 9, 0], (17, 0): [17, 22, 0], (18, 0): [18, 1, 7, 19, 14, 21, 0], (19, 0): [19, 14, 21, 0], (20, 0): [20, 7, 19, 14, 21, 0], (21, 0): [21, 0], (22, 0): [22, 0], (23, 0): [23, 3, 20, 7, 19, 14, 21, 0], (24, 0): [24, 25, 7, 19, 14, 21, 0], (25, 0): [25, 7, 19, 14, 21, 0], (0, 1): [0, 21, 14, 5, 13, 1], (2, 1): [2, 9, 8, 16, 19, 7, 1], (3, 1): [3, 18, 1], (4, 1): [4, 3, 18, 1], (5, 1): [5, 13, 1], (6, 1): [6, 12, 25, 7, 1], (7, 1): [7, 1], (8, 1): [8, 16, 19, 7, 1], (9, 1): [9, 8, 16, 19, 7, 1], (10, 1): [10, 17, 11, 14, 5, 13, 1], (11, 1): [11, 14, 5, 13, 1]}\n",
      "{(1, 0): [1, 7, 19, 14, 21, 0], (2, 0): [2, 9, 0], (3, 0): [3, 20, 7, 19, 14, 21, 0], (4, 0): [4, 3, 20, 7, 19, 14, 21, 0], (5, 0): [5, 14, 21, 0], (6, 0): [6, 16, 8, 9, 0], (7, 0): [7, 19, 14, 21, 0], (8, 0): [8, 9, 0], (9, 0): [9, 0], (10, 0): [10, 2, 9, 0], (11, 0): [11, 14, 21, 0], (12, 0): [12, 6, 16, 8, 9, 0], (13, 0): [13, 5, 14, 21, 0], (14, 0): [14, 21, 0], (15, 0): [15, 14, 21, 0], (16, 0): [16, 8, 9, 0], (17, 0): [17, 22, 0], (18, 0): [18, 1, 7, 19, 14, 21, 0], (19, 0): [19, 14, 21, 0], (20, 0): [20, 7, 19, 14, 21, 0], (21, 0): [21, 0], (22, 0): [22, 0], (23, 0): [23, 3, 20, 7, 19, 14, 21, 0], (24, 0): [24, 25, 7, 19, 14, 21, 0], (25, 0): [25, 7, 19, 14, 21, 0], (0, 1): [0, 21, 14, 5, 13, 1], (2, 1): [2, 9, 8, 16, 19, 7, 1], (3, 1): [3, 18, 1], (4, 1): [4, 3, 18, 1], (5, 1): [5, 13, 1], (6, 1): [6, 12, 25, 7, 1], (7, 1): [7, 1], (8, 1): [8, 16, 19, 7, 1], (9, 1): [9, 8, 16, 19, 7, 1], (10, 1): [10, 17, 11, 14, 5, 13, 1], (11, 1): [11, 14, 5, 13, 1], (12, 1): [12, 25, 7, 1]}\n",
      "{(1, 0): [1, 7, 19, 14, 21, 0], (2, 0): [2, 9, 0], (3, 0): [3, 20, 7, 19, 14, 21, 0], (4, 0): [4, 3, 20, 7, 19, 14, 21, 0], (5, 0): [5, 14, 21, 0], (6, 0): [6, 16, 8, 9, 0], (7, 0): [7, 19, 14, 21, 0], (8, 0): [8, 9, 0], (9, 0): [9, 0], (10, 0): [10, 2, 9, 0], (11, 0): [11, 14, 21, 0], (12, 0): [12, 6, 16, 8, 9, 0], (13, 0): [13, 5, 14, 21, 0], (14, 0): [14, 21, 0], (15, 0): [15, 14, 21, 0], (16, 0): [16, 8, 9, 0], (17, 0): [17, 22, 0], (18, 0): [18, 1, 7, 19, 14, 21, 0], (19, 0): [19, 14, 21, 0], (20, 0): [20, 7, 19, 14, 21, 0], (21, 0): [21, 0], (22, 0): [22, 0], (23, 0): [23, 3, 20, 7, 19, 14, 21, 0], (24, 0): [24, 25, 7, 19, 14, 21, 0], (25, 0): [25, 7, 19, 14, 21, 0], (0, 1): [0, 21, 14, 5, 13, 1], (2, 1): [2, 9, 8, 16, 19, 7, 1], (3, 1): [3, 18, 1], (4, 1): [4, 3, 18, 1], (5, 1): [5, 13, 1], (6, 1): [6, 12, 25, 7, 1], (7, 1): [7, 1], (8, 1): [8, 16, 19, 7, 1], (9, 1): [9, 8, 16, 19, 7, 1], (10, 1): [10, 17, 11, 14, 5, 13, 1], (11, 1): [11, 14, 5, 13, 1], (12, 1): [12, 25, 7, 1], (13, 1): [13, 1]}\n",
      "{(1, 0): [1, 7, 19, 14, 21, 0], (2, 0): [2, 9, 0], (3, 0): [3, 20, 7, 19, 14, 21, 0], (4, 0): [4, 3, 20, 7, 19, 14, 21, 0], (5, 0): [5, 14, 21, 0], (6, 0): [6, 16, 8, 9, 0], (7, 0): [7, 19, 14, 21, 0], (8, 0): [8, 9, 0], (9, 0): [9, 0], (10, 0): [10, 2, 9, 0], (11, 0): [11, 14, 21, 0], (12, 0): [12, 6, 16, 8, 9, 0], (13, 0): [13, 5, 14, 21, 0], (14, 0): [14, 21, 0], (15, 0): [15, 14, 21, 0], (16, 0): [16, 8, 9, 0], (17, 0): [17, 22, 0], (18, 0): [18, 1, 7, 19, 14, 21, 0], (19, 0): [19, 14, 21, 0], (20, 0): [20, 7, 19, 14, 21, 0], (21, 0): [21, 0], (22, 0): [22, 0], (23, 0): [23, 3, 20, 7, 19, 14, 21, 0], (24, 0): [24, 25, 7, 19, 14, 21, 0], (25, 0): [25, 7, 19, 14, 21, 0], (0, 1): [0, 21, 14, 5, 13, 1], (2, 1): [2, 9, 8, 16, 19, 7, 1], (3, 1): [3, 18, 1], (4, 1): [4, 3, 18, 1], (5, 1): [5, 13, 1], (6, 1): [6, 12, 25, 7, 1], (7, 1): [7, 1], (8, 1): [8, 16, 19, 7, 1], (9, 1): [9, 8, 16, 19, 7, 1], (10, 1): [10, 17, 11, 14, 5, 13, 1], (11, 1): [11, 14, 5, 13, 1], (12, 1): [12, 25, 7, 1], (13, 1): [13, 1], (14, 1): [14, 5, 13, 1]}\n",
      "\n",
      "{(1, 0): [1, 7, 19, 14, 21, 0], (2, 0): [2, 9, 0], (3, 0): [3, 20, 7, 19, 14, 21, 0], (4, 0): [4, 3, 20, 7, 19, 14, 21, 0], (5, 0): [5, 14, 21, 0], (6, 0): [6, 16, 8, 9, 0], (7, 0): [7, 19, 14, 21, 0], (8, 0): [8, 9, 0], (9, 0): [9, 0], (10, 0): [10, 2, 9, 0], (11, 0): [11, 14, 21, 0], (12, 0): [12, 6, 16, 8, 9, 0], (13, 0): [13, 5, 14, 21, 0], (14, 0): [14, 21, 0], (15, 0): [15, 14, 21, 0], (16, 0): [16, 8, 9, 0], (17, 0): [17, 22, 0], (18, 0): [18, 1, 7, 19, 14, 21, 0], (19, 0): [19, 14, 21, 0], (20, 0): [20, 7, 19, 14, 21, 0], (21, 0): [21, 0], (22, 0): [22, 0], (23, 0): [23, 3, 20, 7, 19, 14, 21, 0], (24, 0): [24, 25, 7, 19, 14, 21, 0], (25, 0): [25, 7, 19, 14, 21, 0], (0, 1): [0, 21, 14, 5, 13, 1], (2, 1): [2, 9, 8, 16, 19, 7, 1], (3, 1): [3, 18, 1], (4, 1): [4, 3, 18, 1], (5, 1): [5, 13, 1], (6, 1): [6, 12, 25, 7, 1], (7, 1): [7, 1], (8, 1): [8, 16, 19, 7, 1], (9, 1): [9, 8, 16, 19, 7, 1], (10, 1): [10, 17, 11, 14, 5, 13, 1], (11, 1): [11, 14, 5, 13, 1], (12, 1): [12, 25, 7, 1], (13, 1): [13, 1], (14, 1): [14, 5, 13, 1], (15, 1): [15, 14, 5, 13, 1]}{(1, 0): [1, 7, 19, 14, 21, 0], (2, 0): [2, 9, 0], (3, 0): [3, 20, 7, 19, 14, 21, 0], (4, 0): [4, 3, 20, 7, 19, 14, 21, 0], (5, 0): [5, 14, 21, 0], (6, 0): [6, 16, 8, 9, 0], (7, 0): [7, 19, 14, 21, 0], (8, 0): [8, 9, 0], (9, 0): [9, 0], (10, 0): [10, 2, 9, 0], (11, 0): [11, 14, 21, 0], (12, 0): [12, 6, 16, 8, 9, 0], (13, 0): [13, 5, 14, 21, 0], (14, 0): [14, 21, 0], (15, 0): [15, 14, 21, 0], (16, 0): [16, 8, 9, 0], (17, 0): [17, 22, 0], (18, 0): [18, 1, 7, 19, 14, 21, 0], (19, 0): [19, 14, 21, 0], (20, 0): [20, 7, 19, 14, 21, 0], (21, 0): [21, 0], (22, 0): [22, 0], (23, 0): [23, 3, 20, 7, 19, 14, 21, 0], (24, 0): [24, 25, 7, 19, 14, 21, 0], (25, 0): [25, 7, 19, 14, 21, 0], (0, 1): [0, 21, 14, 5, 13, 1], (2, 1): [2, 9, 8, 16, 19, 7, 1], (3, 1): [3, 18, 1], (4, 1): [4, 3, 18, 1], (5, 1): [5, 13, 1], (6, 1): [6, 12, 25, 7, 1], (7, 1): [7, 1], (8, 1): [8, 16, 19, 7, 1], (9, 1): [9, 8, 16, 19, 7, 1], (10, 1): [10, 17, 11, 14, 5, 13, 1], (11, 1): [11, 14, 5, 13, 1], (12, 1): [12, 25, 7, 1], (13, 1): [13, 1], (14, 1): [14, 5, 13, 1], (15, 1): [15, 14, 5, 13, 1], (16, 1): [16, 19, 7, 1]}\n",
      "{(1, 0): [1, 7, 19, 14, 21, 0], (2, 0): [2, 9, 0], (3, 0): [3, 20, 7, 19, 14, 21, 0], (4, 0): [4, 3, 20, 7, 19, 14, 21, 0], (5, 0): [5, 14, 21, 0], (6, 0): [6, 16, 8, 9, 0], (7, 0): [7, 19, 14, 21, 0], (8, 0): [8, 9, 0], (9, 0): [9, 0], (10, 0): [10, 2, 9, 0], (11, 0): [11, 14, 21, 0], (12, 0): [12, 6, 16, 8, 9, 0], (13, 0): [13, 5, 14, 21, 0], (14, 0): [14, 21, 0], (15, 0): [15, 14, 21, 0], (16, 0): [16, 8, 9, 0], (17, 0): [17, 22, 0], (18, 0): [18, 1, 7, 19, 14, 21, 0], (19, 0): [19, 14, 21, 0], (20, 0): [20, 7, 19, 14, 21, 0], (21, 0): [21, 0], (22, 0): [22, 0], (23, 0): [23, 3, 20, 7, 19, 14, 21, 0], (24, 0): [24, 25, 7, 19, 14, 21, 0], (25, 0): [25, 7, 19, 14, 21, 0], (0, 1): [0, 21, 14, 5, 13, 1], (2, 1): [2, 9, 8, 16, 19, 7, 1], (3, 1): [3, 18, 1], (4, 1): [4, 3, 18, 1], (5, 1): [5, 13, 1], (6, 1): [6, 12, 25, 7, 1], (7, 1): [7, 1], (8, 1): [8, 16, 19, 7, 1], (9, 1): [9, 8, 16, 19, 7, 1], (10, 1): [10, 17, 11, 14, 5, 13, 1], (11, 1): [11, 14, 5, 13, 1], (12, 1): [12, 25, 7, 1], (13, 1): [13, 1], (14, 1): [14, 5, 13, 1], (15, 1): [15, 14, 5, 13, 1], (16, 1): [16, 19, 7, 1], (17, 1): [17, 11, 14, 5, 13, 1]}\n",
      "{(1, 0): [1, 7, 19, 14, 21, 0], (2, 0): [2, 9, 0], (3, 0): [3, 20, 7, 19, 14, 21, 0], (4, 0): [4, 3, 20, 7, 19, 14, 21, 0], (5, 0): [5, 14, 21, 0], (6, 0): [6, 16, 8, 9, 0], (7, 0): [7, 19, 14, 21, 0], (8, 0): [8, 9, 0], (9, 0): [9, 0], (10, 0): [10, 2, 9, 0], (11, 0): [11, 14, 21, 0], (12, 0): [12, 6, 16, 8, 9, 0], (13, 0): [13, 5, 14, 21, 0], (14, 0): [14, 21, 0], (15, 0): [15, 14, 21, 0], (16, 0): [16, 8, 9, 0], (17, 0): [17, 22, 0], (18, 0): [18, 1, 7, 19, 14, 21, 0], (19, 0): [19, 14, 21, 0], (20, 0): [20, 7, 19, 14, 21, 0], (21, 0): [21, 0], (22, 0): [22, 0], (23, 0): [23, 3, 20, 7, 19, 14, 21, 0], (24, 0): [24, 25, 7, 19, 14, 21, 0], (25, 0): [25, 7, 19, 14, 21, 0], (0, 1): [0, 21, 14, 5, 13, 1], (2, 1): [2, 9, 8, 16, 19, 7, 1], (3, 1): [3, 18, 1], (4, 1): [4, 3, 18, 1], (5, 1): [5, 13, 1], (6, 1): [6, 12, 25, 7, 1], (7, 1): [7, 1], (8, 1): [8, 16, 19, 7, 1], (9, 1): [9, 8, 16, 19, 7, 1], (10, 1): [10, 17, 11, 14, 5, 13, 1], (11, 1): [11, 14, 5, 13, 1], (12, 1): [12, 25, 7, 1], (13, 1): [13, 1], (14, 1): [14, 5, 13, 1], (15, 1): [15, 14, 5, 13, 1], (16, 1): [16, 19, 7, 1], (17, 1): [17, 11, 14, 5, 13, 1], (18, 1): [18, 1]}\n",
      "{(1, 0): [1, 7, 19, 14, 21, 0], (2, 0): [2, 9, 0], (3, 0): [3, 20, 7, 19, 14, 21, 0], (4, 0): [4, 3, 20, 7, 19, 14, 21, 0], (5, 0): [5, 14, 21, 0], (6, 0): [6, 16, 8, 9, 0], (7, 0): [7, 19, 14, 21, 0], (8, 0): [8, 9, 0], (9, 0): [9, 0], (10, 0): [10, 2, 9, 0], (11, 0): [11, 14, 21, 0], (12, 0): [12, 6, 16, 8, 9, 0], (13, 0): [13, 5, 14, 21, 0], (14, 0): [14, 21, 0], (15, 0): [15, 14, 21, 0], (16, 0): [16, 8, 9, 0], (17, 0): [17, 22, 0], (18, 0): [18, 1, 7, 19, 14, 21, 0], (19, 0): [19, 14, 21, 0], (20, 0): [20, 7, 19, 14, 21, 0], (21, 0): [21, 0], (22, 0): [22, 0], (23, 0): [23, 3, 20, 7, 19, 14, 21, 0], (24, 0): [24, 25, 7, 19, 14, 21, 0], (25, 0): [25, 7, 19, 14, 21, 0], (0, 1): [0, 21, 14, 5, 13, 1], (2, 1): [2, 9, 8, 16, 19, 7, 1], (3, 1): [3, 18, 1], (4, 1): [4, 3, 18, 1], (5, 1): [5, 13, 1], (6, 1): [6, 12, 25, 7, 1], (7, 1): [7, 1], (8, 1): [8, 16, 19, 7, 1], (9, 1): [9, 8, 16, 19, 7, 1], (10, 1): [10, 17, 11, 14, 5, 13, 1], (11, 1): [11, 14, 5, 13, 1], (12, 1): [12, 25, 7, 1], (13, 1): [13, 1], (14, 1): [14, 5, 13, 1], (15, 1): [15, 14, 5, 13, 1], (16, 1): [16, 19, 7, 1], (17, 1): [17, 11, 14, 5, 13, 1], (18, 1): [18, 1], (19, 1): [19, 7, 1]}\n",
      "{(1, 0): [1, 7, 19, 14, 21, 0], (2, 0): [2, 9, 0], (3, 0): [3, 20, 7, 19, 14, 21, 0], (4, 0): [4, 3, 20, 7, 19, 14, 21, 0], (5, 0): [5, 14, 21, 0], (6, 0): [6, 16, 8, 9, 0], (7, 0): [7, 19, 14, 21, 0], (8, 0): [8, 9, 0], (9, 0): [9, 0], (10, 0): [10, 2, 9, 0], (11, 0): [11, 14, 21, 0], (12, 0): [12, 6, 16, 8, 9, 0], (13, 0): [13, 5, 14, 21, 0], (14, 0): [14, 21, 0], (15, 0): [15, 14, 21, 0], (16, 0): [16, 8, 9, 0], (17, 0): [17, 22, 0], (18, 0): [18, 1, 7, 19, 14, 21, 0], (19, 0): [19, 14, 21, 0], (20, 0): [20, 7, 19, 14, 21, 0], (21, 0): [21, 0], (22, 0): [22, 0], (23, 0): [23, 3, 20, 7, 19, 14, 21, 0], (24, 0): [24, 25, 7, 19, 14, 21, 0], (25, 0): [25, 7, 19, 14, 21, 0], (0, 1): [0, 21, 14, 5, 13, 1], (2, 1): [2, 9, 8, 16, 19, 7, 1], (3, 1): [3, 18, 1], (4, 1): [4, 3, 18, 1], (5, 1): [5, 13, 1], (6, 1): [6, 12, 25, 7, 1], (7, 1): [7, 1], (8, 1): [8, 16, 19, 7, 1], (9, 1): [9, 8, 16, 19, 7, 1], (10, 1): [10, 17, 11, 14, 5, 13, 1], (11, 1): [11, 14, 5, 13, 1], (12, 1): [12, 25, 7, 1], (13, 1): [13, 1], (14, 1): [14, 5, 13, 1], (15, 1): [15, 14, 5, 13, 1], (16, 1): [16, 19, 7, 1], (17, 1): [17, 11, 14, 5, 13, 1], (18, 1): [18, 1], (19, 1): [19, 7, 1], (20, 1): [20, 7, 1]}\n",
      "{(1, 0): [1, 7, 19, 14, 21, 0], (2, 0): [2, 9, 0], (3, 0): [3, 20, 7, 19, 14, 21, 0], (4, 0): [4, 3, 20, 7, 19, 14, 21, 0], (5, 0): [5, 14, 21, 0], (6, 0): [6, 16, 8, 9, 0], (7, 0): [7, 19, 14, 21, 0], (8, 0): [8, 9, 0], (9, 0): [9, 0], (10, 0): [10, 2, 9, 0], (11, 0): [11, 14, 21, 0], (12, 0): [12, 6, 16, 8, 9, 0], (13, 0): [13, 5, 14, 21, 0], (14, 0): [14, 21, 0], (15, 0): [15, 14, 21, 0], (16, 0): [16, 8, 9, 0], (17, 0): [17, 22, 0], (18, 0): [18, 1, 7, 19, 14, 21, 0], (19, 0): [19, 14, 21, 0], (20, 0): [20, 7, 19, 14, 21, 0], (21, 0): [21, 0], (22, 0): [22, 0], (23, 0): [23, 3, 20, 7, 19, 14, 21, 0], (24, 0): [24, 25, 7, 19, 14, 21, 0], (25, 0): [25, 7, 19, 14, 21, 0], (0, 1): [0, 21, 14, 5, 13, 1], (2, 1): [2, 9, 8, 16, 19, 7, 1], (3, 1): [3, 18, 1], (4, 1): [4, 3, 18, 1], (5, 1): [5, 13, 1], (6, 1): [6, 12, 25, 7, 1], (7, 1): [7, 1], (8, 1): [8, 16, 19, 7, 1], (9, 1): [9, 8, 16, 19, 7, 1], (10, 1): [10, 17, 11, 14, 5, 13, 1], (11, 1): [11, 14, 5, 13, 1], (12, 1): [12, 25, 7, 1], (13, 1): [13, 1], (14, 1): [14, 5, 13, 1], (15, 1): [15, 14, 5, 13, 1], (16, 1): [16, 19, 7, 1], (17, 1): [17, 11, 14, 5, 13, 1], (18, 1): [18, 1], (19, 1): [19, 7, 1], (20, 1): [20, 7, 1], (21, 1): [21, 14, 5, 13, 1]}\n",
      "{(1, 0): [1, 7, 19, 14, 21, 0], (2, 0): [2, 9, 0], (3, 0): [3, 20, 7, 19, 14, 21, 0], (4, 0): [4, 3, 20, 7, 19, 14, 21, 0], (5, 0): [5, 14, 21, 0], (6, 0): [6, 16, 8, 9, 0], (7, 0): [7, 19, 14, 21, 0], (8, 0): [8, 9, 0], (9, 0): [9, 0], (10, 0): [10, 2, 9, 0], (11, 0): [11, 14, 21, 0], (12, 0): [12, 6, 16, 8, 9, 0], (13, 0): [13, 5, 14, 21, 0], (14, 0): [14, 21, 0], (15, 0): [15, 14, 21, 0], (16, 0): [16, 8, 9, 0], (17, 0): [17, 22, 0], (18, 0): [18, 1, 7, 19, 14, 21, 0], (19, 0): [19, 14, 21, 0], (20, 0): [20, 7, 19, 14, 21, 0], (21, 0): [21, 0], (22, 0): [22, 0], (23, 0): [23, 3, 20, 7, 19, 14, 21, 0], (24, 0): [24, 25, 7, 19, 14, 21, 0], (25, 0): [25, 7, 19, 14, 21, 0], (0, 1): [0, 21, 14, 5, 13, 1], (2, 1): [2, 9, 8, 16, 19, 7, 1], (3, 1): [3, 18, 1], (4, 1): [4, 3, 18, 1], (5, 1): [5, 13, 1], (6, 1): [6, 12, 25, 7, 1], (7, 1): [7, 1], (8, 1): [8, 16, 19, 7, 1], (9, 1): [9, 8, 16, 19, 7, 1], (10, 1): [10, 17, 11, 14, 5, 13, 1], (11, 1): [11, 14, 5, 13, 1], (12, 1): [12, 25, 7, 1], (13, 1): [13, 1], (14, 1): [14, 5, 13, 1], (15, 1): [15, 14, 5, 13, 1], (16, 1): [16, 19, 7, 1], (17, 1): [17, 11, 14, 5, 13, 1], (18, 1): [18, 1], (19, 1): [19, 7, 1], (20, 1): [20, 7, 1], (21, 1): [21, 14, 5, 13, 1], (22, 1): [22, 0, 21, 14, 5, 13, 1]}\n",
      "{(1, 0): [1, 7, 19, 14, 21, 0], (2, 0): [2, 9, 0], (3, 0): [3, 20, 7, 19, 14, 21, 0], (4, 0): [4, 3, 20, 7, 19, 14, 21, 0], (5, 0): [5, 14, 21, 0], (6, 0): [6, 16, 8, 9, 0], (7, 0): [7, 19, 14, 21, 0], (8, 0): [8, 9, 0], (9, 0): [9, 0], (10, 0): [10, 2, 9, 0], (11, 0): [11, 14, 21, 0], (12, 0): [12, 6, 16, 8, 9, 0], (13, 0): [13, 5, 14, 21, 0], (14, 0): [14, 21, 0], (15, 0): [15, 14, 21, 0], (16, 0): [16, 8, 9, 0], (17, 0): [17, 22, 0], (18, 0): [18, 1, 7, 19, 14, 21, 0], (19, 0): [19, 14, 21, 0], (20, 0): [20, 7, 19, 14, 21, 0], (21, 0): [21, 0], (22, 0): [22, 0], (23, 0): [23, 3, 20, 7, 19, 14, 21, 0], (24, 0): [24, 25, 7, 19, 14, 21, 0], (25, 0): [25, 7, 19, 14, 21, 0], (0, 1): [0, 21, 14, 5, 13, 1], (2, 1): [2, 9, 8, 16, 19, 7, 1], (3, 1): [3, 18, 1], (4, 1): [4, 3, 18, 1], (5, 1): [5, 13, 1], (6, 1): [6, 12, 25, 7, 1], (7, 1): [7, 1], (8, 1): [8, 16, 19, 7, 1], (9, 1): [9, 8, 16, 19, 7, 1], (10, 1): [10, 17, 11, 14, 5, 13, 1], (11, 1): [11, 14, 5, 13, 1], (12, 1): [12, 25, 7, 1], (13, 1): [13, 1], (14, 1): [14, 5, 13, 1], (15, 1): [15, 14, 5, 13, 1], (16, 1): [16, 19, 7, 1], (17, 1): [17, 11, 14, 5, 13, 1], (18, 1): [18, 1], (19, 1): [19, 7, 1], (20, 1): [20, 7, 1], (21, 1): [21, 14, 5, 13, 1], (22, 1): [22, 0, 21, 14, 5, 13, 1], (23, 1): [23, 18, 1]}\n",
      "{(1, 0): [1, 7, 19, 14, 21, 0], (2, 0): [2, 9, 0], (3, 0): [3, 20, 7, 19, 14, 21, 0], (4, 0): [4, 3, 20, 7, 19, 14, 21, 0], (5, 0): [5, 14, 21, 0], (6, 0): [6, 16, 8, 9, 0], (7, 0): [7, 19, 14, 21, 0], (8, 0): [8, 9, 0], (9, 0): [9, 0], (10, 0): [10, 2, 9, 0], (11, 0): [11, 14, 21, 0], (12, 0): [12, 6, 16, 8, 9, 0], (13, 0): [13, 5, 14, 21, 0], (14, 0): [14, 21, 0], (15, 0): [15, 14, 21, 0], (16, 0): [16, 8, 9, 0], (17, 0): [17, 22, 0], (18, 0): [18, 1, 7, 19, 14, 21, 0], (19, 0): [19, 14, 21, 0], (20, 0): [20, 7, 19, 14, 21, 0], (21, 0): [21, 0], (22, 0): [22, 0], (23, 0): [23, 3, 20, 7, 19, 14, 21, 0], (24, 0): [24, 25, 7, 19, 14, 21, 0], (25, 0): [25, 7, 19, 14, 21, 0], (0, 1): [0, 21, 14, 5, 13, 1], (2, 1): [2, 9, 8, 16, 19, 7, 1], (3, 1): [3, 18, 1], (4, 1): [4, 3, 18, 1], (5, 1): [5, 13, 1], (6, 1): [6, 12, 25, 7, 1], (7, 1): [7, 1], (8, 1): [8, 16, 19, 7, 1], (9, 1): [9, 8, 16, 19, 7, 1], (10, 1): [10, 17, 11, 14, 5, 13, 1], (11, 1): [11, 14, 5, 13, 1], (12, 1): [12, 25, 7, 1], (13, 1): [13, 1], (14, 1): [14, 5, 13, 1], (15, 1): [15, 14, 5, 13, 1], (16, 1): [16, 19, 7, 1], (17, 1): [17, 11, 14, 5, 13, 1], (18, 1): [18, 1], (19, 1): [19, 7, 1], (20, 1): [20, 7, 1], (21, 1): [21, 14, 5, 13, 1], (22, 1): [22, 0, 21, 14, 5, 13, 1], (23, 1): [23, 18, 1], (24, 1): [24, 25, 7, 1]}\n",
      "\n",
      "{(1, 0): [1, 7, 19, 14, 21, 0], (2, 0): [2, 9, 0], (3, 0): [3, 20, 7, 19, 14, 21, 0], (4, 0): [4, 3, 20, 7, 19, 14, 21, 0], (5, 0): [5, 14, 21, 0], (6, 0): [6, 16, 8, 9, 0], (7, 0): [7, 19, 14, 21, 0], (8, 0): [8, 9, 0], (9, 0): [9, 0], (10, 0): [10, 2, 9, 0], (11, 0): [11, 14, 21, 0], (12, 0): [12, 6, 16, 8, 9, 0], (13, 0): [13, 5, 14, 21, 0], (14, 0): [14, 21, 0], (15, 0): [15, 14, 21, 0], (16, 0): [16, 8, 9, 0], (17, 0): [17, 22, 0], (18, 0): [18, 1, 7, 19, 14, 21, 0], (19, 0): [19, 14, 21, 0], (20, 0): [20, 7, 19, 14, 21, 0], (21, 0): [21, 0], (22, 0): [22, 0], (23, 0): [23, 3, 20, 7, 19, 14, 21, 0], (24, 0): [24, 25, 7, 19, 14, 21, 0], (25, 0): [25, 7, 19, 14, 21, 0], (0, 1): [0, 21, 14, 5, 13, 1], (2, 1): [2, 9, 8, 16, 19, 7, 1], (3, 1): [3, 18, 1], (4, 1): [4, 3, 18, 1], (5, 1): [5, 13, 1], (6, 1): [6, 12, 25, 7, 1], (7, 1): [7, 1], (8, 1): [8, 16, 19, 7, 1], (9, 1): [9, 8, 16, 19, 7, 1], (10, 1): [10, 17, 11, 14, 5, 13, 1], (11, 1): [11, 14, 5, 13, 1], (12, 1): [12, 25, 7, 1], (13, 1): [13, 1], (14, 1): [14, 5, 13, 1], (15, 1): [15, 14, 5, 13, 1], (16, 1): [16, 19, 7, 1], (17, 1): [17, 11, 14, 5, 13, 1], (18, 1): [18, 1], (19, 1): [19, 7, 1], (20, 1): [20, 7, 1], (21, 1): [21, 14, 5, 13, 1], (22, 1): [22, 0, 21, 14, 5, 13, 1], (23, 1): [23, 18, 1], (24, 1): [24, 25, 7, 1], (25, 1): [25, 7, 1]}\n",
      "{(1, 0): [1, 7, 19, 14, 21, 0], (2, 0): [2, 9, 0], (3, 0): [3, 20, 7, 19, 14, 21, 0], (4, 0): [4, 3, 20, 7, 19, 14, 21, 0], (5, 0): [5, 14, 21, 0], (6, 0): [6, 16, 8, 9, 0], (7, 0): [7, 19, 14, 21, 0], (8, 0): [8, 9, 0], (9, 0): [9, 0], (10, 0): [10, 2, 9, 0], (11, 0): [11, 14, 21, 0], (12, 0): [12, 6, 16, 8, 9, 0], (13, 0): [13, 5, 14, 21, 0], (14, 0): [14, 21, 0], (15, 0): [15, 14, 21, 0], (16, 0): [16, 8, 9, 0], (17, 0): [17, 22, 0], (18, 0): [18, 1, 7, 19, 14, 21, 0], (19, 0): [19, 14, 21, 0], (20, 0): [20, 7, 19, 14, 21, 0], (21, 0): [21, 0], (22, 0): [22, 0], (23, 0): [23, 3, 20, 7, 19, 14, 21, 0], (24, 0): [24, 25, 7, 19, 14, 21, 0], (25, 0): [25, 7, 19, 14, 21, 0], (0, 1): [0, 21, 14, 5, 13, 1], (2, 1): [2, 9, 8, 16, 19, 7, 1], (3, 1): [3, 18, 1], (4, 1): [4, 3, 18, 1], (5, 1): [5, 13, 1], (6, 1): [6, 12, 25, 7, 1], (7, 1): [7, 1], (8, 1): [8, 16, 19, 7, 1], (9, 1): [9, 8, 16, 19, 7, 1], (10, 1): [10, 17, 11, 14, 5, 13, 1], (11, 1): [11, 14, 5, 13, 1], (12, 1): [12, 25, 7, 1], (13, 1): [13, 1], (14, 1): [14, 5, 13, 1], (15, 1): [15, 14, 5, 13, 1], (16, 1): [16, 19, 7, 1], (17, 1): [17, 11, 14, 5, 13, 1], (18, 1): [18, 1], (19, 1): [19, 7, 1], (20, 1): [20, 7, 1], (21, 1): [21, 14, 5, 13, 1], (22, 1): [22, 0, 21, 14, 5, 13, 1], (23, 1): [23, 18, 1], (24, 1): [24, 25, 7, 1], (25, 1): [25, 7, 1], (0, 2): [0, 9, 2]}{(1, 0): [1, 7, 19, 14, 21, 0], (2, 0): [2, 9, 0], (3, 0): [3, 20, 7, 19, 14, 21, 0], (4, 0): [4, 3, 20, 7, 19, 14, 21, 0], (5, 0): [5, 14, 21, 0], (6, 0): [6, 16, 8, 9, 0], (7, 0): [7, 19, 14, 21, 0], (8, 0): [8, 9, 0], (9, 0): [9, 0], (10, 0): [10, 2, 9, 0], (11, 0): [11, 14, 21, 0], (12, 0): [12, 6, 16, 8, 9, 0], (13, 0): [13, 5, 14, 21, 0], (14, 0): [14, 21, 0], (15, 0): [15, 14, 21, 0], (16, 0): [16, 8, 9, 0], (17, 0): [17, 22, 0], (18, 0): [18, 1, 7, 19, 14, 21, 0], (19, 0): [19, 14, 21, 0], (20, 0): [20, 7, 19, 14, 21, 0], (21, 0): [21, 0], (22, 0): [22, 0], (23, 0): [23, 3, 20, 7, 19, 14, 21, 0], (24, 0): [24, 25, 7, 19, 14, 21, 0], (25, 0): [25, 7, 19, 14, 21, 0], (0, 1): [0, 21, 14, 5, 13, 1], (2, 1): [2, 9, 8, 16, 19, 7, 1], (3, 1): [3, 18, 1], (4, 1): [4, 3, 18, 1], (5, 1): [5, 13, 1], (6, 1): [6, 12, 25, 7, 1], (7, 1): [7, 1], (8, 1): [8, 16, 19, 7, 1], (9, 1): [9, 8, 16, 19, 7, 1], (10, 1): [10, 17, 11, 14, 5, 13, 1], (11, 1): [11, 14, 5, 13, 1], (12, 1): [12, 25, 7, 1], (13, 1): [13, 1], (14, 1): [14, 5, 13, 1], (15, 1): [15, 14, 5, 13, 1], (16, 1): [16, 19, 7, 1], (17, 1): [17, 11, 14, 5, 13, 1], (18, 1): [18, 1], (19, 1): [19, 7, 1], (20, 1): [20, 7, 1], (21, 1): [21, 14, 5, 13, 1], (22, 1): [22, 0, 21, 14, 5, 13, 1], (23, 1): [23, 18, 1], (24, 1): [24, 25, 7, 1], (25, 1): [25, 7, 1], (0, 2): [0, 9, 2], (1, 2): [1, 7, 19, 16, 8, 9, 2]}\n",
      "{(1, 0): [1, 7, 19, 14, 21, 0], (2, 0): [2, 9, 0], (3, 0): [3, 20, 7, 19, 14, 21, 0], (4, 0): [4, 3, 20, 7, 19, 14, 21, 0], (5, 0): [5, 14, 21, 0], (6, 0): [6, 16, 8, 9, 0], (7, 0): [7, 19, 14, 21, 0], (8, 0): [8, 9, 0], (9, 0): [9, 0], (10, 0): [10, 2, 9, 0], (11, 0): [11, 14, 21, 0], (12, 0): [12, 6, 16, 8, 9, 0], (13, 0): [13, 5, 14, 21, 0], (14, 0): [14, 21, 0], (15, 0): [15, 14, 21, 0], (16, 0): [16, 8, 9, 0], (17, 0): [17, 22, 0], (18, 0): [18, 1, 7, 19, 14, 21, 0], (19, 0): [19, 14, 21, 0], (20, 0): [20, 7, 19, 14, 21, 0], (21, 0): [21, 0], (22, 0): [22, 0], (23, 0): [23, 3, 20, 7, 19, 14, 21, 0], (24, 0): [24, 25, 7, 19, 14, 21, 0], (25, 0): [25, 7, 19, 14, 21, 0], (0, 1): [0, 21, 14, 5, 13, 1], (2, 1): [2, 9, 8, 16, 19, 7, 1], (3, 1): [3, 18, 1], (4, 1): [4, 3, 18, 1], (5, 1): [5, 13, 1], (6, 1): [6, 12, 25, 7, 1], (7, 1): [7, 1], (8, 1): [8, 16, 19, 7, 1], (9, 1): [9, 8, 16, 19, 7, 1], (10, 1): [10, 17, 11, 14, 5, 13, 1], (11, 1): [11, 14, 5, 13, 1], (12, 1): [12, 25, 7, 1], (13, 1): [13, 1], (14, 1): [14, 5, 13, 1], (15, 1): [15, 14, 5, 13, 1], (16, 1): [16, 19, 7, 1], (17, 1): [17, 11, 14, 5, 13, 1], (18, 1): [18, 1], (19, 1): [19, 7, 1], (20, 1): [20, 7, 1], (21, 1): [21, 14, 5, 13, 1], (22, 1): [22, 0, 21, 14, 5, 13, 1], (23, 1): [23, 18, 1], (24, 1): [24, 25, 7, 1], (25, 1): [25, 7, 1], (0, 2): [0, 9, 2], (1, 2): [1, 7, 19, 16, 8, 9, 2], (3, 2): [3, 20, 7, 19, 16, 8, 9, 2]}\n",
      "{(1, 0): [1, 7, 19, 14, 21, 0], (2, 0): [2, 9, 0], (3, 0): [3, 20, 7, 19, 14, 21, 0], (4, 0): [4, 3, 20, 7, 19, 14, 21, 0], (5, 0): [5, 14, 21, 0], (6, 0): [6, 16, 8, 9, 0], (7, 0): [7, 19, 14, 21, 0], (8, 0): [8, 9, 0], (9, 0): [9, 0], (10, 0): [10, 2, 9, 0], (11, 0): [11, 14, 21, 0], (12, 0): [12, 6, 16, 8, 9, 0], (13, 0): [13, 5, 14, 21, 0], (14, 0): [14, 21, 0], (15, 0): [15, 14, 21, 0], (16, 0): [16, 8, 9, 0], (17, 0): [17, 22, 0], (18, 0): [18, 1, 7, 19, 14, 21, 0], (19, 0): [19, 14, 21, 0], (20, 0): [20, 7, 19, 14, 21, 0], (21, 0): [21, 0], (22, 0): [22, 0], (23, 0): [23, 3, 20, 7, 19, 14, 21, 0], (24, 0): [24, 25, 7, 19, 14, 21, 0], (25, 0): [25, 7, 19, 14, 21, 0], (0, 1): [0, 21, 14, 5, 13, 1], (2, 1): [2, 9, 8, 16, 19, 7, 1], (3, 1): [3, 18, 1], (4, 1): [4, 3, 18, 1], (5, 1): [5, 13, 1], (6, 1): [6, 12, 25, 7, 1], (7, 1): [7, 1], (8, 1): [8, 16, 19, 7, 1], (9, 1): [9, 8, 16, 19, 7, 1], (10, 1): [10, 17, 11, 14, 5, 13, 1], (11, 1): [11, 14, 5, 13, 1], (12, 1): [12, 25, 7, 1], (13, 1): [13, 1], (14, 1): [14, 5, 13, 1], (15, 1): [15, 14, 5, 13, 1], (16, 1): [16, 19, 7, 1], (17, 1): [17, 11, 14, 5, 13, 1], (18, 1): [18, 1], (19, 1): [19, 7, 1], (20, 1): [20, 7, 1], (21, 1): [21, 14, 5, 13, 1], (22, 1): [22, 0, 21, 14, 5, 13, 1], (23, 1): [23, 18, 1], (24, 1): [24, 25, 7, 1], (25, 1): [25, 7, 1], (0, 2): [0, 9, 2], (1, 2): [1, 7, 19, 16, 8, 9, 2], (3, 2): [3, 20, 7, 19, 16, 8, 9, 2], (4, 2): [4, 3, 20, 7, 19, 16, 8, 9, 2]}\n",
      "{(1, 0): [1, 7, 19, 14, 21, 0], (2, 0): [2, 9, 0], (3, 0): [3, 20, 7, 19, 14, 21, 0], (4, 0): [4, 3, 20, 7, 19, 14, 21, 0], (5, 0): [5, 14, 21, 0], (6, 0): [6, 16, 8, 9, 0], (7, 0): [7, 19, 14, 21, 0], (8, 0): [8, 9, 0], (9, 0): [9, 0], (10, 0): [10, 2, 9, 0], (11, 0): [11, 14, 21, 0], (12, 0): [12, 6, 16, 8, 9, 0], (13, 0): [13, 5, 14, 21, 0], (14, 0): [14, 21, 0], (15, 0): [15, 14, 21, 0], (16, 0): [16, 8, 9, 0], (17, 0): [17, 22, 0], (18, 0): [18, 1, 7, 19, 14, 21, 0], (19, 0): [19, 14, 21, 0], (20, 0): [20, 7, 19, 14, 21, 0], (21, 0): [21, 0], (22, 0): [22, 0], (23, 0): [23, 3, 20, 7, 19, 14, 21, 0], (24, 0): [24, 25, 7, 19, 14, 21, 0], (25, 0): [25, 7, 19, 14, 21, 0], (0, 1): [0, 21, 14, 5, 13, 1], (2, 1): [2, 9, 8, 16, 19, 7, 1], (3, 1): [3, 18, 1], (4, 1): [4, 3, 18, 1], (5, 1): [5, 13, 1], (6, 1): [6, 12, 25, 7, 1], (7, 1): [7, 1], (8, 1): [8, 16, 19, 7, 1], (9, 1): [9, 8, 16, 19, 7, 1], (10, 1): [10, 17, 11, 14, 5, 13, 1], (11, 1): [11, 14, 5, 13, 1], (12, 1): [12, 25, 7, 1], (13, 1): [13, 1], (14, 1): [14, 5, 13, 1], (15, 1): [15, 14, 5, 13, 1], (16, 1): [16, 19, 7, 1], (17, 1): [17, 11, 14, 5, 13, 1], (18, 1): [18, 1], (19, 1): [19, 7, 1], (20, 1): [20, 7, 1], (21, 1): [21, 14, 5, 13, 1], (22, 1): [22, 0, 21, 14, 5, 13, 1], (23, 1): [23, 18, 1], (24, 1): [24, 25, 7, 1], (25, 1): [25, 7, 1], (0, 2): [0, 9, 2], (1, 2): [1, 7, 19, 16, 8, 9, 2], (3, 2): [3, 20, 7, 19, 16, 8, 9, 2], (4, 2): [4, 3, 20, 7, 19, 16, 8, 9, 2], (5, 2): [5, 14, 11, 17, 10, 2]}\n",
      "{(1, 0): [1, 7, 19, 14, 21, 0], (2, 0): [2, 9, 0], (3, 0): [3, 20, 7, 19, 14, 21, 0], (4, 0): [4, 3, 20, 7, 19, 14, 21, 0], (5, 0): [5, 14, 21, 0], (6, 0): [6, 16, 8, 9, 0], (7, 0): [7, 19, 14, 21, 0], (8, 0): [8, 9, 0], (9, 0): [9, 0], (10, 0): [10, 2, 9, 0], (11, 0): [11, 14, 21, 0], (12, 0): [12, 6, 16, 8, 9, 0], (13, 0): [13, 5, 14, 21, 0], (14, 0): [14, 21, 0], (15, 0): [15, 14, 21, 0], (16, 0): [16, 8, 9, 0], (17, 0): [17, 22, 0], (18, 0): [18, 1, 7, 19, 14, 21, 0], (19, 0): [19, 14, 21, 0], (20, 0): [20, 7, 19, 14, 21, 0], (21, 0): [21, 0], (22, 0): [22, 0], (23, 0): [23, 3, 20, 7, 19, 14, 21, 0], (24, 0): [24, 25, 7, 19, 14, 21, 0], (25, 0): [25, 7, 19, 14, 21, 0], (0, 1): [0, 21, 14, 5, 13, 1], (2, 1): [2, 9, 8, 16, 19, 7, 1], (3, 1): [3, 18, 1], (4, 1): [4, 3, 18, 1], (5, 1): [5, 13, 1], (6, 1): [6, 12, 25, 7, 1], (7, 1): [7, 1], (8, 1): [8, 16, 19, 7, 1], (9, 1): [9, 8, 16, 19, 7, 1], (10, 1): [10, 17, 11, 14, 5, 13, 1], (11, 1): [11, 14, 5, 13, 1], (12, 1): [12, 25, 7, 1], (13, 1): [13, 1], (14, 1): [14, 5, 13, 1], (15, 1): [15, 14, 5, 13, 1], (16, 1): [16, 19, 7, 1], (17, 1): [17, 11, 14, 5, 13, 1], (18, 1): [18, 1], (19, 1): [19, 7, 1], (20, 1): [20, 7, 1], (21, 1): [21, 14, 5, 13, 1], (22, 1): [22, 0, 21, 14, 5, 13, 1], (23, 1): [23, 18, 1], (24, 1): [24, 25, 7, 1], (25, 1): [25, 7, 1], (0, 2): [0, 9, 2], (1, 2): [1, 7, 19, 16, 8, 9, 2], (3, 2): [3, 20, 7, 19, 16, 8, 9, 2], (4, 2): [4, 3, 20, 7, 19, 16, 8, 9, 2], (5, 2): [5, 14, 11, 17, 10, 2], (6, 2): [6, 16, 8, 9, 2]}\n",
      "{(1, 0): [1, 7, 19, 14, 21, 0], (2, 0): [2, 9, 0], (3, 0): [3, 20, 7, 19, 14, 21, 0], (4, 0): [4, 3, 20, 7, 19, 14, 21, 0], (5, 0): [5, 14, 21, 0], (6, 0): [6, 16, 8, 9, 0], (7, 0): [7, 19, 14, 21, 0], (8, 0): [8, 9, 0], (9, 0): [9, 0], (10, 0): [10, 2, 9, 0], (11, 0): [11, 14, 21, 0], (12, 0): [12, 6, 16, 8, 9, 0], (13, 0): [13, 5, 14, 21, 0], (14, 0): [14, 21, 0], (15, 0): [15, 14, 21, 0], (16, 0): [16, 8, 9, 0], (17, 0): [17, 22, 0], (18, 0): [18, 1, 7, 19, 14, 21, 0], (19, 0): [19, 14, 21, 0], (20, 0): [20, 7, 19, 14, 21, 0], (21, 0): [21, 0], (22, 0): [22, 0], (23, 0): [23, 3, 20, 7, 19, 14, 21, 0], (24, 0): [24, 25, 7, 19, 14, 21, 0], (25, 0): [25, 7, 19, 14, 21, 0], (0, 1): [0, 21, 14, 5, 13, 1], (2, 1): [2, 9, 8, 16, 19, 7, 1], (3, 1): [3, 18, 1], (4, 1): [4, 3, 18, 1], (5, 1): [5, 13, 1], (6, 1): [6, 12, 25, 7, 1], (7, 1): [7, 1], (8, 1): [8, 16, 19, 7, 1], (9, 1): [9, 8, 16, 19, 7, 1], (10, 1): [10, 17, 11, 14, 5, 13, 1], (11, 1): [11, 14, 5, 13, 1], (12, 1): [12, 25, 7, 1], (13, 1): [13, 1], (14, 1): [14, 5, 13, 1], (15, 1): [15, 14, 5, 13, 1], (16, 1): [16, 19, 7, 1], (17, 1): [17, 11, 14, 5, 13, 1], (18, 1): [18, 1], (19, 1): [19, 7, 1], (20, 1): [20, 7, 1], (21, 1): [21, 14, 5, 13, 1], (22, 1): [22, 0, 21, 14, 5, 13, 1], (23, 1): [23, 18, 1], (24, 1): [24, 25, 7, 1], (25, 1): [25, 7, 1], (0, 2): [0, 9, 2], (1, 2): [1, 7, 19, 16, 8, 9, 2], (3, 2): [3, 20, 7, 19, 16, 8, 9, 2], (4, 2): [4, 3, 20, 7, 19, 16, 8, 9, 2], (5, 2): [5, 14, 11, 17, 10, 2], (6, 2): [6, 16, 8, 9, 2], (7, 2): [7, 19, 16, 8, 9, 2]}\n",
      "{(1, 0): [1, 7, 19, 14, 21, 0], (2, 0): [2, 9, 0], (3, 0): [3, 20, 7, 19, 14, 21, 0], (4, 0): [4, 3, 20, 7, 19, 14, 21, 0], (5, 0): [5, 14, 21, 0], (6, 0): [6, 16, 8, 9, 0], (7, 0): [7, 19, 14, 21, 0], (8, 0): [8, 9, 0], (9, 0): [9, 0], (10, 0): [10, 2, 9, 0], (11, 0): [11, 14, 21, 0], (12, 0): [12, 6, 16, 8, 9, 0], (13, 0): [13, 5, 14, 21, 0], (14, 0): [14, 21, 0], (15, 0): [15, 14, 21, 0], (16, 0): [16, 8, 9, 0], (17, 0): [17, 22, 0], (18, 0): [18, 1, 7, 19, 14, 21, 0], (19, 0): [19, 14, 21, 0], (20, 0): [20, 7, 19, 14, 21, 0], (21, 0): [21, 0], (22, 0): [22, 0], (23, 0): [23, 3, 20, 7, 19, 14, 21, 0], (24, 0): [24, 25, 7, 19, 14, 21, 0], (25, 0): [25, 7, 19, 14, 21, 0], (0, 1): [0, 21, 14, 5, 13, 1], (2, 1): [2, 9, 8, 16, 19, 7, 1], (3, 1): [3, 18, 1], (4, 1): [4, 3, 18, 1], (5, 1): [5, 13, 1], (6, 1): [6, 12, 25, 7, 1], (7, 1): [7, 1], (8, 1): [8, 16, 19, 7, 1], (9, 1): [9, 8, 16, 19, 7, 1], (10, 1): [10, 17, 11, 14, 5, 13, 1], (11, 1): [11, 14, 5, 13, 1], (12, 1): [12, 25, 7, 1], (13, 1): [13, 1], (14, 1): [14, 5, 13, 1], (15, 1): [15, 14, 5, 13, 1], (16, 1): [16, 19, 7, 1], (17, 1): [17, 11, 14, 5, 13, 1], (18, 1): [18, 1], (19, 1): [19, 7, 1], (20, 1): [20, 7, 1], (21, 1): [21, 14, 5, 13, 1], (22, 1): [22, 0, 21, 14, 5, 13, 1], (23, 1): [23, 18, 1], (24, 1): [24, 25, 7, 1], (25, 1): [25, 7, 1], (0, 2): [0, 9, 2], (1, 2): [1, 7, 19, 16, 8, 9, 2], (3, 2): [3, 20, 7, 19, 16, 8, 9, 2], (4, 2): [4, 3, 20, 7, 19, 16, 8, 9, 2], (5, 2): [5, 14, 11, 17, 10, 2], (6, 2): [6, 16, 8, 9, 2], (7, 2): [7, 19, 16, 8, 9, 2], (8, 2): [8, 9, 2]}\n",
      "{(1, 0): [1, 7, 19, 14, 21, 0], (2, 0): [2, 9, 0], (3, 0): [3, 20, 7, 19, 14, 21, 0], (4, 0): [4, 3, 20, 7, 19, 14, 21, 0], (5, 0): [5, 14, 21, 0], (6, 0): [6, 16, 8, 9, 0], (7, 0): [7, 19, 14, 21, 0], (8, 0): [8, 9, 0], (9, 0): [9, 0], (10, 0): [10, 2, 9, 0], (11, 0): [11, 14, 21, 0], (12, 0): [12, 6, 16, 8, 9, 0], (13, 0): [13, 5, 14, 21, 0], (14, 0): [14, 21, 0], (15, 0): [15, 14, 21, 0], (16, 0): [16, 8, 9, 0], (17, 0): [17, 22, 0], (18, 0): [18, 1, 7, 19, 14, 21, 0], (19, 0): [19, 14, 21, 0], (20, 0): [20, 7, 19, 14, 21, 0], (21, 0): [21, 0], (22, 0): [22, 0], (23, 0): [23, 3, 20, 7, 19, 14, 21, 0], (24, 0): [24, 25, 7, 19, 14, 21, 0], (25, 0): [25, 7, 19, 14, 21, 0], (0, 1): [0, 21, 14, 5, 13, 1], (2, 1): [2, 9, 8, 16, 19, 7, 1], (3, 1): [3, 18, 1], (4, 1): [4, 3, 18, 1], (5, 1): [5, 13, 1], (6, 1): [6, 12, 25, 7, 1], (7, 1): [7, 1], (8, 1): [8, 16, 19, 7, 1], (9, 1): [9, 8, 16, 19, 7, 1], (10, 1): [10, 17, 11, 14, 5, 13, 1], (11, 1): [11, 14, 5, 13, 1], (12, 1): [12, 25, 7, 1], (13, 1): [13, 1], (14, 1): [14, 5, 13, 1], (15, 1): [15, 14, 5, 13, 1], (16, 1): [16, 19, 7, 1], (17, 1): [17, 11, 14, 5, 13, 1], (18, 1): [18, 1], (19, 1): [19, 7, 1], (20, 1): [20, 7, 1], (21, 1): [21, 14, 5, 13, 1], (22, 1): [22, 0, 21, 14, 5, 13, 1], (23, 1): [23, 18, 1], (24, 1): [24, 25, 7, 1], (25, 1): [25, 7, 1], (0, 2): [0, 9, 2], (1, 2): [1, 7, 19, 16, 8, 9, 2], (3, 2): [3, 20, 7, 19, 16, 8, 9, 2], (4, 2): [4, 3, 20, 7, 19, 16, 8, 9, 2], (5, 2): [5, 14, 11, 17, 10, 2], (6, 2): [6, 16, 8, 9, 2], (7, 2): [7, 19, 16, 8, 9, 2], (8, 2): [8, 9, 2], (9, 2): [9, 2]}\n",
      "{(1, 0): [1, 7, 19, 14, 21, 0], (2, 0): [2, 9, 0], (3, 0): [3, 20, 7, 19, 14, 21, 0], (4, 0): [4, 3, 20, 7, 19, 14, 21, 0], (5, 0): [5, 14, 21, 0], (6, 0): [6, 16, 8, 9, 0], (7, 0): [7, 19, 14, 21, 0], (8, 0): [8, 9, 0], (9, 0): [9, 0], (10, 0): [10, 2, 9, 0], (11, 0): [11, 14, 21, 0], (12, 0): [12, 6, 16, 8, 9, 0], (13, 0): [13, 5, 14, 21, 0], (14, 0): [14, 21, 0], (15, 0): [15, 14, 21, 0], (16, 0): [16, 8, 9, 0], (17, 0): [17, 22, 0], (18, 0): [18, 1, 7, 19, 14, 21, 0], (19, 0): [19, 14, 21, 0], (20, 0): [20, 7, 19, 14, 21, 0], (21, 0): [21, 0], (22, 0): [22, 0], (23, 0): [23, 3, 20, 7, 19, 14, 21, 0], (24, 0): [24, 25, 7, 19, 14, 21, 0], (25, 0): [25, 7, 19, 14, 21, 0], (0, 1): [0, 21, 14, 5, 13, 1], (2, 1): [2, 9, 8, 16, 19, 7, 1], (3, 1): [3, 18, 1], (4, 1): [4, 3, 18, 1], (5, 1): [5, 13, 1], (6, 1): [6, 12, 25, 7, 1], (7, 1): [7, 1], (8, 1): [8, 16, 19, 7, 1], (9, 1): [9, 8, 16, 19, 7, 1], (10, 1): [10, 17, 11, 14, 5, 13, 1], (11, 1): [11, 14, 5, 13, 1], (12, 1): [12, 25, 7, 1], (13, 1): [13, 1], (14, 1): [14, 5, 13, 1], (15, 1): [15, 14, 5, 13, 1], (16, 1): [16, 19, 7, 1], (17, 1): [17, 11, 14, 5, 13, 1], (18, 1): [18, 1], (19, 1): [19, 7, 1], (20, 1): [20, 7, 1], (21, 1): [21, 14, 5, 13, 1], (22, 1): [22, 0, 21, 14, 5, 13, 1], (23, 1): [23, 18, 1], (24, 1): [24, 25, 7, 1], (25, 1): [25, 7, 1], (0, 2): [0, 9, 2], (1, 2): [1, 7, 19, 16, 8, 9, 2], (3, 2): [3, 20, 7, 19, 16, 8, 9, 2], (4, 2): [4, 3, 20, 7, 19, 16, 8, 9, 2], (5, 2): [5, 14, 11, 17, 10, 2], (6, 2): [6, 16, 8, 9, 2], (7, 2): [7, 19, 16, 8, 9, 2], (8, 2): [8, 9, 2], (9, 2): [9, 2], (10, 2): [10, 2]}\n",
      "{(1, 0): [1, 7, 19, 14, 21, 0], (2, 0): [2, 9, 0], (3, 0): [3, 20, 7, 19, 14, 21, 0], (4, 0): [4, 3, 20, 7, 19, 14, 21, 0], (5, 0): [5, 14, 21, 0], (6, 0): [6, 16, 8, 9, 0], (7, 0): [7, 19, 14, 21, 0], (8, 0): [8, 9, 0], (9, 0): [9, 0], (10, 0): [10, 2, 9, 0], (11, 0): [11, 14, 21, 0], (12, 0): [12, 6, 16, 8, 9, 0], (13, 0): [13, 5, 14, 21, 0], (14, 0): [14, 21, 0], (15, 0): [15, 14, 21, 0], (16, 0): [16, 8, 9, 0], (17, 0): [17, 22, 0], (18, 0): [18, 1, 7, 19, 14, 21, 0], (19, 0): [19, 14, 21, 0], (20, 0): [20, 7, 19, 14, 21, 0], (21, 0): [21, 0], (22, 0): [22, 0], (23, 0): [23, 3, 20, 7, 19, 14, 21, 0], (24, 0): [24, 25, 7, 19, 14, 21, 0], (25, 0): [25, 7, 19, 14, 21, 0], (0, 1): [0, 21, 14, 5, 13, 1], (2, 1): [2, 9, 8, 16, 19, 7, 1], (3, 1): [3, 18, 1], (4, 1): [4, 3, 18, 1], (5, 1): [5, 13, 1], (6, 1): [6, 12, 25, 7, 1], (7, 1): [7, 1], (8, 1): [8, 16, 19, 7, 1], (9, 1): [9, 8, 16, 19, 7, 1], (10, 1): [10, 17, 11, 14, 5, 13, 1], (11, 1): [11, 14, 5, 13, 1], (12, 1): [12, 25, 7, 1], (13, 1): [13, 1], (14, 1): [14, 5, 13, 1], (15, 1): [15, 14, 5, 13, 1], (16, 1): [16, 19, 7, 1], (17, 1): [17, 11, 14, 5, 13, 1], (18, 1): [18, 1], (19, 1): [19, 7, 1], (20, 1): [20, 7, 1], (21, 1): [21, 14, 5, 13, 1], (22, 1): [22, 0, 21, 14, 5, 13, 1], (23, 1): [23, 18, 1], (24, 1): [24, 25, 7, 1], (25, 1): [25, 7, 1], (0, 2): [0, 9, 2], (1, 2): [1, 7, 19, 16, 8, 9, 2], (3, 2): [3, 20, 7, 19, 16, 8, 9, 2], (4, 2): [4, 3, 20, 7, 19, 16, 8, 9, 2], (5, 2): [5, 14, 11, 17, 10, 2], (6, 2): [6, 16, 8, 9, 2], (7, 2): [7, 19, 16, 8, 9, 2], (8, 2): [8, 9, 2], (9, 2): [9, 2], (10, 2): [10, 2], (11, 2): [11, 17, 10, 2]}\n",
      "{(1, 0): [1, 7, 19, 14, 21, 0], (2, 0): [2, 9, 0], (3, 0): [3, 20, 7, 19, 14, 21, 0], (4, 0): [4, 3, 20, 7, 19, 14, 21, 0], (5, 0): [5, 14, 21, 0], (6, 0): [6, 16, 8, 9, 0], (7, 0): [7, 19, 14, 21, 0], (8, 0): [8, 9, 0], (9, 0): [9, 0], (10, 0): [10, 2, 9, 0], (11, 0): [11, 14, 21, 0], (12, 0): [12, 6, 16, 8, 9, 0], (13, 0): [13, 5, 14, 21, 0], (14, 0): [14, 21, 0], (15, 0): [15, 14, 21, 0], (16, 0): [16, 8, 9, 0], (17, 0): [17, 22, 0], (18, 0): [18, 1, 7, 19, 14, 21, 0], (19, 0): [19, 14, 21, 0], (20, 0): [20, 7, 19, 14, 21, 0], (21, 0): [21, 0], (22, 0): [22, 0], (23, 0): [23, 3, 20, 7, 19, 14, 21, 0], (24, 0): [24, 25, 7, 19, 14, 21, 0], (25, 0): [25, 7, 19, 14, 21, 0], (0, 1): [0, 21, 14, 5, 13, 1], (2, 1): [2, 9, 8, 16, 19, 7, 1], (3, 1): [3, 18, 1], (4, 1): [4, 3, 18, 1], (5, 1): [5, 13, 1], (6, 1): [6, 12, 25, 7, 1], (7, 1): [7, 1], (8, 1): [8, 16, 19, 7, 1], (9, 1): [9, 8, 16, 19, 7, 1], (10, 1): [10, 17, 11, 14, 5, 13, 1], (11, 1): [11, 14, 5, 13, 1], (12, 1): [12, 25, 7, 1], (13, 1): [13, 1], (14, 1): [14, 5, 13, 1], (15, 1): [15, 14, 5, 13, 1], (16, 1): [16, 19, 7, 1], (17, 1): [17, 11, 14, 5, 13, 1], (18, 1): [18, 1], (19, 1): [19, 7, 1], (20, 1): [20, 7, 1], (21, 1): [21, 14, 5, 13, 1], (22, 1): [22, 0, 21, 14, 5, 13, 1], (23, 1): [23, 18, 1], (24, 1): [24, 25, 7, 1], (25, 1): [25, 7, 1], (0, 2): [0, 9, 2], (1, 2): [1, 7, 19, 16, 8, 9, 2], (3, 2): [3, 20, 7, 19, 16, 8, 9, 2], (4, 2): [4, 3, 20, 7, 19, 16, 8, 9, 2], (5, 2): [5, 14, 11, 17, 10, 2], (6, 2): [6, 16, 8, 9, 2], (7, 2): [7, 19, 16, 8, 9, 2], (8, 2): [8, 9, 2], (9, 2): [9, 2], (10, 2): [10, 2], (11, 2): [11, 17, 10, 2], (12, 2): [12, 6, 16, 8, 9, 2]}\n",
      "{(1, 0): [1, 7, 19, 14, 21, 0], (2, 0): [2, 9, 0], (3, 0): [3, 20, 7, 19, 14, 21, 0], (4, 0): [4, 3, 20, 7, 19, 14, 21, 0], (5, 0): [5, 14, 21, 0], (6, 0): [6, 16, 8, 9, 0], (7, 0): [7, 19, 14, 21, 0], (8, 0): [8, 9, 0], (9, 0): [9, 0], (10, 0): [10, 2, 9, 0], (11, 0): [11, 14, 21, 0], (12, 0): [12, 6, 16, 8, 9, 0], (13, 0): [13, 5, 14, 21, 0], (14, 0): [14, 21, 0], (15, 0): [15, 14, 21, 0], (16, 0): [16, 8, 9, 0], (17, 0): [17, 22, 0], (18, 0): [18, 1, 7, 19, 14, 21, 0], (19, 0): [19, 14, 21, 0], (20, 0): [20, 7, 19, 14, 21, 0], (21, 0): [21, 0], (22, 0): [22, 0], (23, 0): [23, 3, 20, 7, 19, 14, 21, 0], (24, 0): [24, 25, 7, 19, 14, 21, 0], (25, 0): [25, 7, 19, 14, 21, 0], (0, 1): [0, 21, 14, 5, 13, 1], (2, 1): [2, 9, 8, 16, 19, 7, 1], (3, 1): [3, 18, 1], (4, 1): [4, 3, 18, 1], (5, 1): [5, 13, 1], (6, 1): [6, 12, 25, 7, 1], (7, 1): [7, 1], (8, 1): [8, 16, 19, 7, 1], (9, 1): [9, 8, 16, 19, 7, 1], (10, 1): [10, 17, 11, 14, 5, 13, 1], (11, 1): [11, 14, 5, 13, 1], (12, 1): [12, 25, 7, 1], (13, 1): [13, 1], (14, 1): [14, 5, 13, 1], (15, 1): [15, 14, 5, 13, 1], (16, 1): [16, 19, 7, 1], (17, 1): [17, 11, 14, 5, 13, 1], (18, 1): [18, 1], (19, 1): [19, 7, 1], (20, 1): [20, 7, 1], (21, 1): [21, 14, 5, 13, 1], (22, 1): [22, 0, 21, 14, 5, 13, 1], (23, 1): [23, 18, 1], (24, 1): [24, 25, 7, 1], (25, 1): [25, 7, 1], (0, 2): [0, 9, 2], (1, 2): [1, 7, 19, 16, 8, 9, 2], (3, 2): [3, 20, 7, 19, 16, 8, 9, 2], (4, 2): [4, 3, 20, 7, 19, 16, 8, 9, 2], (5, 2): [5, 14, 11, 17, 10, 2], (6, 2): [6, 16, 8, 9, 2], (7, 2): [7, 19, 16, 8, 9, 2], (8, 2): [8, 9, 2], (9, 2): [9, 2], (10, 2): [10, 2], (11, 2): [11, 17, 10, 2], (12, 2): [12, 6, 16, 8, 9, 2], (13, 2): [13, 19, 16, 8, 9, 2]}\n",
      "{(1, 0): [1, 7, 19, 14, 21, 0], (2, 0): [2, 9, 0], (3, 0): [3, 20, 7, 19, 14, 21, 0], (4, 0): [4, 3, 20, 7, 19, 14, 21, 0], (5, 0): [5, 14, 21, 0], (6, 0): [6, 16, 8, 9, 0], (7, 0): [7, 19, 14, 21, 0], (8, 0): [8, 9, 0], (9, 0): [9, 0], (10, 0): [10, 2, 9, 0], (11, 0): [11, 14, 21, 0], (12, 0): [12, 6, 16, 8, 9, 0], (13, 0): [13, 5, 14, 21, 0], (14, 0): [14, 21, 0], (15, 0): [15, 14, 21, 0], (16, 0): [16, 8, 9, 0], (17, 0): [17, 22, 0], (18, 0): [18, 1, 7, 19, 14, 21, 0], (19, 0): [19, 14, 21, 0], (20, 0): [20, 7, 19, 14, 21, 0], (21, 0): [21, 0], (22, 0): [22, 0], (23, 0): [23, 3, 20, 7, 19, 14, 21, 0], (24, 0): [24, 25, 7, 19, 14, 21, 0], (25, 0): [25, 7, 19, 14, 21, 0], (0, 1): [0, 21, 14, 5, 13, 1], (2, 1): [2, 9, 8, 16, 19, 7, 1], (3, 1): [3, 18, 1], (4, 1): [4, 3, 18, 1], (5, 1): [5, 13, 1], (6, 1): [6, 12, 25, 7, 1], (7, 1): [7, 1], (8, 1): [8, 16, 19, 7, 1], (9, 1): [9, 8, 16, 19, 7, 1], (10, 1): [10, 17, 11, 14, 5, 13, 1], (11, 1): [11, 14, 5, 13, 1], (12, 1): [12, 25, 7, 1], (13, 1): [13, 1], (14, 1): [14, 5, 13, 1], (15, 1): [15, 14, 5, 13, 1], (16, 1): [16, 19, 7, 1], (17, 1): [17, 11, 14, 5, 13, 1], (18, 1): [18, 1], (19, 1): [19, 7, 1], (20, 1): [20, 7, 1], (21, 1): [21, 14, 5, 13, 1], (22, 1): [22, 0, 21, 14, 5, 13, 1], (23, 1): [23, 18, 1], (24, 1): [24, 25, 7, 1], (25, 1): [25, 7, 1], (0, 2): [0, 9, 2], (1, 2): [1, 7, 19, 16, 8, 9, 2], (3, 2): [3, 20, 7, 19, 16, 8, 9, 2], (4, 2): [4, 3, 20, 7, 19, 16, 8, 9, 2], (5, 2): [5, 14, 11, 17, 10, 2], (6, 2): [6, 16, 8, 9, 2], (7, 2): [7, 19, 16, 8, 9, 2], (8, 2): [8, 9, 2], (9, 2): [9, 2], (10, 2): [10, 2], (11, 2): [11, 17, 10, 2], (12, 2): [12, 6, 16, 8, 9, 2], (13, 2): [13, 19, 16, 8, 9, 2], (14, 2): [14, 11, 17, 10, 2]}\n",
      "{(1, 0): [1, 7, 19, 14, 21, 0], (2, 0): [2, 9, 0], (3, 0): [3, 20, 7, 19, 14, 21, 0], (4, 0): [4, 3, 20, 7, 19, 14, 21, 0], (5, 0): [5, 14, 21, 0], (6, 0): [6, 16, 8, 9, 0], (7, 0): [7, 19, 14, 21, 0], (8, 0): [8, 9, 0], (9, 0): [9, 0], (10, 0): [10, 2, 9, 0], (11, 0): [11, 14, 21, 0], (12, 0): [12, 6, 16, 8, 9, 0], (13, 0): [13, 5, 14, 21, 0], (14, 0): [14, 21, 0], (15, 0): [15, 14, 21, 0], (16, 0): [16, 8, 9, 0], (17, 0): [17, 22, 0], (18, 0): [18, 1, 7, 19, 14, 21, 0], (19, 0): [19, 14, 21, 0], (20, 0): [20, 7, 19, 14, 21, 0], (21, 0): [21, 0], (22, 0): [22, 0], (23, 0): [23, 3, 20, 7, 19, 14, 21, 0], (24, 0): [24, 25, 7, 19, 14, 21, 0], (25, 0): [25, 7, 19, 14, 21, 0], (0, 1): [0, 21, 14, 5, 13, 1], (2, 1): [2, 9, 8, 16, 19, 7, 1], (3, 1): [3, 18, 1], (4, 1): [4, 3, 18, 1], (5, 1): [5, 13, 1], (6, 1): [6, 12, 25, 7, 1], (7, 1): [7, 1], (8, 1): [8, 16, 19, 7, 1], (9, 1): [9, 8, 16, 19, 7, 1], (10, 1): [10, 17, 11, 14, 5, 13, 1], (11, 1): [11, 14, 5, 13, 1], (12, 1): [12, 25, 7, 1], (13, 1): [13, 1], (14, 1): [14, 5, 13, 1], (15, 1): [15, 14, 5, 13, 1], (16, 1): [16, 19, 7, 1], (17, 1): [17, 11, 14, 5, 13, 1], (18, 1): [18, 1], (19, 1): [19, 7, 1], (20, 1): [20, 7, 1], (21, 1): [21, 14, 5, 13, 1], (22, 1): [22, 0, 21, 14, 5, 13, 1], (23, 1): [23, 18, 1], (24, 1): [24, 25, 7, 1], (25, 1): [25, 7, 1], (0, 2): [0, 9, 2], (1, 2): [1, 7, 19, 16, 8, 9, 2], (3, 2): [3, 20, 7, 19, 16, 8, 9, 2], (4, 2): [4, 3, 20, 7, 19, 16, 8, 9, 2], (5, 2): [5, 14, 11, 17, 10, 2], (6, 2): [6, 16, 8, 9, 2], (7, 2): [7, 19, 16, 8, 9, 2], (8, 2): [8, 9, 2], (9, 2): [9, 2], (10, 2): [10, 2], (11, 2): [11, 17, 10, 2], (12, 2): [12, 6, 16, 8, 9, 2], (13, 2): [13, 19, 16, 8, 9, 2], (14, 2): [14, 11, 17, 10, 2], (15, 2): [15, 11, 17, 10, 2]}\n",
      "{(1, 0): [1, 7, 19, 14, 21, 0], (2, 0): [2, 9, 0], (3, 0): [3, 20, 7, 19, 14, 21, 0], (4, 0): [4, 3, 20, 7, 19, 14, 21, 0], (5, 0): [5, 14, 21, 0], (6, 0): [6, 16, 8, 9, 0], (7, 0): [7, 19, 14, 21, 0], (8, 0): [8, 9, 0], (9, 0): [9, 0], (10, 0): [10, 2, 9, 0], (11, 0): [11, 14, 21, 0], (12, 0): [12, 6, 16, 8, 9, 0], (13, 0): [13, 5, 14, 21, 0], (14, 0): [14, 21, 0], (15, 0): [15, 14, 21, 0], (16, 0): [16, 8, 9, 0], (17, 0): [17, 22, 0], (18, 0): [18, 1, 7, 19, 14, 21, 0], (19, 0): [19, 14, 21, 0], (20, 0): [20, 7, 19, 14, 21, 0], (21, 0): [21, 0], (22, 0): [22, 0], (23, 0): [23, 3, 20, 7, 19, 14, 21, 0], (24, 0): [24, 25, 7, 19, 14, 21, 0], (25, 0): [25, 7, 19, 14, 21, 0], (0, 1): [0, 21, 14, 5, 13, 1], (2, 1): [2, 9, 8, 16, 19, 7, 1], (3, 1): [3, 18, 1], (4, 1): [4, 3, 18, 1], (5, 1): [5, 13, 1], (6, 1): [6, 12, 25, 7, 1], (7, 1): [7, 1], (8, 1): [8, 16, 19, 7, 1], (9, 1): [9, 8, 16, 19, 7, 1], (10, 1): [10, 17, 11, 14, 5, 13, 1], (11, 1): [11, 14, 5, 13, 1], (12, 1): [12, 25, 7, 1], (13, 1): [13, 1], (14, 1): [14, 5, 13, 1], (15, 1): [15, 14, 5, 13, 1], (16, 1): [16, 19, 7, 1], (17, 1): [17, 11, 14, 5, 13, 1], (18, 1): [18, 1], (19, 1): [19, 7, 1], (20, 1): [20, 7, 1], (21, 1): [21, 14, 5, 13, 1], (22, 1): [22, 0, 21, 14, 5, 13, 1], (23, 1): [23, 18, 1], (24, 1): [24, 25, 7, 1], (25, 1): [25, 7, 1], (0, 2): [0, 9, 2], (1, 2): [1, 7, 19, 16, 8, 9, 2], (3, 2): [3, 20, 7, 19, 16, 8, 9, 2], (4, 2): [4, 3, 20, 7, 19, 16, 8, 9, 2], (5, 2): [5, 14, 11, 17, 10, 2], (6, 2): [6, 16, 8, 9, 2], (7, 2): [7, 19, 16, 8, 9, 2], (8, 2): [8, 9, 2], (9, 2): [9, 2], (10, 2): [10, 2], (11, 2): [11, 17, 10, 2], (12, 2): [12, 6, 16, 8, 9, 2], (13, 2): [13, 19, 16, 8, 9, 2], (14, 2): [14, 11, 17, 10, 2], (15, 2): [15, 11, 17, 10, 2], (16, 2): [16, 8, 9, 2]}\n",
      "{(1, 0): [1, 7, 19, 14, 21, 0], (2, 0): [2, 9, 0], (3, 0): [3, 20, 7, 19, 14, 21, 0], (4, 0): [4, 3, 20, 7, 19, 14, 21, 0], (5, 0): [5, 14, 21, 0], (6, 0): [6, 16, 8, 9, 0], (7, 0): [7, 19, 14, 21, 0], (8, 0): [8, 9, 0], (9, 0): [9, 0], (10, 0): [10, 2, 9, 0], (11, 0): [11, 14, 21, 0], (12, 0): [12, 6, 16, 8, 9, 0], (13, 0): [13, 5, 14, 21, 0], (14, 0): [14, 21, 0], (15, 0): [15, 14, 21, 0], (16, 0): [16, 8, 9, 0], (17, 0): [17, 22, 0], (18, 0): [18, 1, 7, 19, 14, 21, 0], (19, 0): [19, 14, 21, 0], (20, 0): [20, 7, 19, 14, 21, 0], (21, 0): [21, 0], (22, 0): [22, 0], (23, 0): [23, 3, 20, 7, 19, 14, 21, 0], (24, 0): [24, 25, 7, 19, 14, 21, 0], (25, 0): [25, 7, 19, 14, 21, 0], (0, 1): [0, 21, 14, 5, 13, 1], (2, 1): [2, 9, 8, 16, 19, 7, 1], (3, 1): [3, 18, 1], (4, 1): [4, 3, 18, 1], (5, 1): [5, 13, 1], (6, 1): [6, 12, 25, 7, 1], (7, 1): [7, 1], (8, 1): [8, 16, 19, 7, 1], (9, 1): [9, 8, 16, 19, 7, 1], (10, 1): [10, 17, 11, 14, 5, 13, 1], (11, 1): [11, 14, 5, 13, 1], (12, 1): [12, 25, 7, 1], (13, 1): [13, 1], (14, 1): [14, 5, 13, 1], (15, 1): [15, 14, 5, 13, 1], (16, 1): [16, 19, 7, 1], (17, 1): [17, 11, 14, 5, 13, 1], (18, 1): [18, 1], (19, 1): [19, 7, 1], (20, 1): [20, 7, 1], (21, 1): [21, 14, 5, 13, 1], (22, 1): [22, 0, 21, 14, 5, 13, 1], (23, 1): [23, 18, 1], (24, 1): [24, 25, 7, 1], (25, 1): [25, 7, 1], (0, 2): [0, 9, 2], (1, 2): [1, 7, 19, 16, 8, 9, 2], (3, 2): [3, 20, 7, 19, 16, 8, 9, 2], (4, 2): [4, 3, 20, 7, 19, 16, 8, 9, 2], (5, 2): [5, 14, 11, 17, 10, 2], (6, 2): [6, 16, 8, 9, 2], (7, 2): [7, 19, 16, 8, 9, 2], (8, 2): [8, 9, 2], (9, 2): [9, 2], (10, 2): [10, 2], (11, 2): [11, 17, 10, 2], (12, 2): [12, 6, 16, 8, 9, 2], (13, 2): [13, 19, 16, 8, 9, 2], (14, 2): [14, 11, 17, 10, 2], (15, 2): [15, 11, 17, 10, 2], (16, 2): [16, 8, 9, 2], (17, 2): [17, 10, 2]}\n",
      "{(1, 0): [1, 7, 19, 14, 21, 0], (2, 0): [2, 9, 0], (3, 0): [3, 20, 7, 19, 14, 21, 0], (4, 0): [4, 3, 20, 7, 19, 14, 21, 0], (5, 0): [5, 14, 21, 0], (6, 0): [6, 16, 8, 9, 0], (7, 0): [7, 19, 14, 21, 0], (8, 0): [8, 9, 0], (9, 0): [9, 0], (10, 0): [10, 2, 9, 0], (11, 0): [11, 14, 21, 0], (12, 0): [12, 6, 16, 8, 9, 0], (13, 0): [13, 5, 14, 21, 0], (14, 0): [14, 21, 0], (15, 0): [15, 14, 21, 0], (16, 0): [16, 8, 9, 0], (17, 0): [17, 22, 0], (18, 0): [18, 1, 7, 19, 14, 21, 0], (19, 0): [19, 14, 21, 0], (20, 0): [20, 7, 19, 14, 21, 0], (21, 0): [21, 0], (22, 0): [22, 0], (23, 0): [23, 3, 20, 7, 19, 14, 21, 0], (24, 0): [24, 25, 7, 19, 14, 21, 0], (25, 0): [25, 7, 19, 14, 21, 0], (0, 1): [0, 21, 14, 5, 13, 1], (2, 1): [2, 9, 8, 16, 19, 7, 1], (3, 1): [3, 18, 1], (4, 1): [4, 3, 18, 1], (5, 1): [5, 13, 1], (6, 1): [6, 12, 25, 7, 1], (7, 1): [7, 1], (8, 1): [8, 16, 19, 7, 1], (9, 1): [9, 8, 16, 19, 7, 1], (10, 1): [10, 17, 11, 14, 5, 13, 1], (11, 1): [11, 14, 5, 13, 1], (12, 1): [12, 25, 7, 1], (13, 1): [13, 1], (14, 1): [14, 5, 13, 1], (15, 1): [15, 14, 5, 13, 1], (16, 1): [16, 19, 7, 1], (17, 1): [17, 11, 14, 5, 13, 1], (18, 1): [18, 1], (19, 1): [19, 7, 1], (20, 1): [20, 7, 1], (21, 1): [21, 14, 5, 13, 1], (22, 1): [22, 0, 21, 14, 5, 13, 1], (23, 1): [23, 18, 1], (24, 1): [24, 25, 7, 1], (25, 1): [25, 7, 1], (0, 2): [0, 9, 2], (1, 2): [1, 7, 19, 16, 8, 9, 2], (3, 2): [3, 20, 7, 19, 16, 8, 9, 2], (4, 2): [4, 3, 20, 7, 19, 16, 8, 9, 2], (5, 2): [5, 14, 11, 17, 10, 2], (6, 2): [6, 16, 8, 9, 2], (7, 2): [7, 19, 16, 8, 9, 2], (8, 2): [8, 9, 2], (9, 2): [9, 2], (10, 2): [10, 2], (11, 2): [11, 17, 10, 2], (12, 2): [12, 6, 16, 8, 9, 2], (13, 2): [13, 19, 16, 8, 9, 2], (14, 2): [14, 11, 17, 10, 2], (15, 2): [15, 11, 17, 10, 2], (16, 2): [16, 8, 9, 2], (17, 2): [17, 10, 2], (18, 2): [18, 1, 7, 19, 16, 8, 9, 2]}\n",
      "{(1, 0): [1, 7, 19, 14, 21, 0], (2, 0): [2, 9, 0], (3, 0): [3, 20, 7, 19, 14, 21, 0], (4, 0): [4, 3, 20, 7, 19, 14, 21, 0], (5, 0): [5, 14, 21, 0], (6, 0): [6, 16, 8, 9, 0], (7, 0): [7, 19, 14, 21, 0], (8, 0): [8, 9, 0], (9, 0): [9, 0], (10, 0): [10, 2, 9, 0], (11, 0): [11, 14, 21, 0], (12, 0): [12, 6, 16, 8, 9, 0], (13, 0): [13, 5, 14, 21, 0], (14, 0): [14, 21, 0], (15, 0): [15, 14, 21, 0], (16, 0): [16, 8, 9, 0], (17, 0): [17, 22, 0], (18, 0): [18, 1, 7, 19, 14, 21, 0], (19, 0): [19, 14, 21, 0], (20, 0): [20, 7, 19, 14, 21, 0], (21, 0): [21, 0], (22, 0): [22, 0], (23, 0): [23, 3, 20, 7, 19, 14, 21, 0], (24, 0): [24, 25, 7, 19, 14, 21, 0], (25, 0): [25, 7, 19, 14, 21, 0], (0, 1): [0, 21, 14, 5, 13, 1], (2, 1): [2, 9, 8, 16, 19, 7, 1], (3, 1): [3, 18, 1], (4, 1): [4, 3, 18, 1], (5, 1): [5, 13, 1], (6, 1): [6, 12, 25, 7, 1], (7, 1): [7, 1], (8, 1): [8, 16, 19, 7, 1], (9, 1): [9, 8, 16, 19, 7, 1], (10, 1): [10, 17, 11, 14, 5, 13, 1], (11, 1): [11, 14, 5, 13, 1], (12, 1): [12, 25, 7, 1], (13, 1): [13, 1], (14, 1): [14, 5, 13, 1], (15, 1): [15, 14, 5, 13, 1], (16, 1): [16, 19, 7, 1], (17, 1): [17, 11, 14, 5, 13, 1], (18, 1): [18, 1], (19, 1): [19, 7, 1], (20, 1): [20, 7, 1], (21, 1): [21, 14, 5, 13, 1], (22, 1): [22, 0, 21, 14, 5, 13, 1], (23, 1): [23, 18, 1], (24, 1): [24, 25, 7, 1], (25, 1): [25, 7, 1], (0, 2): [0, 9, 2], (1, 2): [1, 7, 19, 16, 8, 9, 2], (3, 2): [3, 20, 7, 19, 16, 8, 9, 2], (4, 2): [4, 3, 20, 7, 19, 16, 8, 9, 2], (5, 2): [5, 14, 11, 17, 10, 2], (6, 2): [6, 16, 8, 9, 2], (7, 2): [7, 19, 16, 8, 9, 2], (8, 2): [8, 9, 2], (9, 2): [9, 2], (10, 2): [10, 2], (11, 2): [11, 17, 10, 2], (12, 2): [12, 6, 16, 8, 9, 2], (13, 2): [13, 19, 16, 8, 9, 2], (14, 2): [14, 11, 17, 10, 2], (15, 2): [15, 11, 17, 10, 2], (16, 2): [16, 8, 9, 2], (17, 2): [17, 10, 2], (18, 2): [18, 1, 7, 19, 16, 8, 9, 2], (19, 2): [19, 16, 8, 9, 2]}\n",
      "{(1, 0): [1, 7, 19, 14, 21, 0], (2, 0): [2, 9, 0], (3, 0): [3, 20, 7, 19, 14, 21, 0], (4, 0): [4, 3, 20, 7, 19, 14, 21, 0], (5, 0): [5, 14, 21, 0], (6, 0): [6, 16, 8, 9, 0], (7, 0): [7, 19, 14, 21, 0], (8, 0): [8, 9, 0], (9, 0): [9, 0], (10, 0): [10, 2, 9, 0], (11, 0): [11, 14, 21, 0], (12, 0): [12, 6, 16, 8, 9, 0], (13, 0): [13, 5, 14, 21, 0], (14, 0): [14, 21, 0], (15, 0): [15, 14, 21, 0], (16, 0): [16, 8, 9, 0], (17, 0): [17, 22, 0], (18, 0): [18, 1, 7, 19, 14, 21, 0], (19, 0): [19, 14, 21, 0], (20, 0): [20, 7, 19, 14, 21, 0], (21, 0): [21, 0], (22, 0): [22, 0], (23, 0): [23, 3, 20, 7, 19, 14, 21, 0], (24, 0): [24, 25, 7, 19, 14, 21, 0], (25, 0): [25, 7, 19, 14, 21, 0], (0, 1): [0, 21, 14, 5, 13, 1], (2, 1): [2, 9, 8, 16, 19, 7, 1], (3, 1): [3, 18, 1], (4, 1): [4, 3, 18, 1], (5, 1): [5, 13, 1], (6, 1): [6, 12, 25, 7, 1], (7, 1): [7, 1], (8, 1): [8, 16, 19, 7, 1], (9, 1): [9, 8, 16, 19, 7, 1], (10, 1): [10, 17, 11, 14, 5, 13, 1], (11, 1): [11, 14, 5, 13, 1], (12, 1): [12, 25, 7, 1], (13, 1): [13, 1], (14, 1): [14, 5, 13, 1], (15, 1): [15, 14, 5, 13, 1], (16, 1): [16, 19, 7, 1], (17, 1): [17, 11, 14, 5, 13, 1], (18, 1): [18, 1], (19, 1): [19, 7, 1], (20, 1): [20, 7, 1], (21, 1): [21, 14, 5, 13, 1], (22, 1): [22, 0, 21, 14, 5, 13, 1], (23, 1): [23, 18, 1], (24, 1): [24, 25, 7, 1], (25, 1): [25, 7, 1], (0, 2): [0, 9, 2], (1, 2): [1, 7, 19, 16, 8, 9, 2], (3, 2): [3, 20, 7, 19, 16, 8, 9, 2], (4, 2): [4, 3, 20, 7, 19, 16, 8, 9, 2], (5, 2): [5, 14, 11, 17, 10, 2], (6, 2): [6, 16, 8, 9, 2], (7, 2): [7, 19, 16, 8, 9, 2], (8, 2): [8, 9, 2], (9, 2): [9, 2], (10, 2): [10, 2], (11, 2): [11, 17, 10, 2], (12, 2): [12, 6, 16, 8, 9, 2], (13, 2): [13, 19, 16, 8, 9, 2], (14, 2): [14, 11, 17, 10, 2], (15, 2): [15, 11, 17, 10, 2], (16, 2): [16, 8, 9, 2], (17, 2): [17, 10, 2], (18, 2): [18, 1, 7, 19, 16, 8, 9, 2], (19, 2): [19, 16, 8, 9, 2], (20, 2): [20, 7, 19, 16, 8, 9, 2]}\n",
      "{(1, 0): [1, 7, 19, 14, 21, 0], (2, 0): [2, 9, 0], (3, 0): [3, 20, 7, 19, 14, 21, 0], (4, 0): [4, 3, 20, 7, 19, 14, 21, 0], (5, 0): [5, 14, 21, 0], (6, 0): [6, 16, 8, 9, 0], (7, 0): [7, 19, 14, 21, 0], (8, 0): [8, 9, 0], (9, 0): [9, 0], (10, 0): [10, 2, 9, 0], (11, 0): [11, 14, 21, 0], (12, 0): [12, 6, 16, 8, 9, 0], (13, 0): [13, 5, 14, 21, 0], (14, 0): [14, 21, 0], (15, 0): [15, 14, 21, 0], (16, 0): [16, 8, 9, 0], (17, 0): [17, 22, 0], (18, 0): [18, 1, 7, 19, 14, 21, 0], (19, 0): [19, 14, 21, 0], (20, 0): [20, 7, 19, 14, 21, 0], (21, 0): [21, 0], (22, 0): [22, 0], (23, 0): [23, 3, 20, 7, 19, 14, 21, 0], (24, 0): [24, 25, 7, 19, 14, 21, 0], (25, 0): [25, 7, 19, 14, 21, 0], (0, 1): [0, 21, 14, 5, 13, 1], (2, 1): [2, 9, 8, 16, 19, 7, 1], (3, 1): [3, 18, 1], (4, 1): [4, 3, 18, 1], (5, 1): [5, 13, 1], (6, 1): [6, 12, 25, 7, 1], (7, 1): [7, 1], (8, 1): [8, 16, 19, 7, 1], (9, 1): [9, 8, 16, 19, 7, 1], (10, 1): [10, 17, 11, 14, 5, 13, 1], (11, 1): [11, 14, 5, 13, 1], (12, 1): [12, 25, 7, 1], (13, 1): [13, 1], (14, 1): [14, 5, 13, 1], (15, 1): [15, 14, 5, 13, 1], (16, 1): [16, 19, 7, 1], (17, 1): [17, 11, 14, 5, 13, 1], (18, 1): [18, 1], (19, 1): [19, 7, 1], (20, 1): [20, 7, 1], (21, 1): [21, 14, 5, 13, 1], (22, 1): [22, 0, 21, 14, 5, 13, 1], (23, 1): [23, 18, 1], (24, 1): [24, 25, 7, 1], (25, 1): [25, 7, 1], (0, 2): [0, 9, 2], (1, 2): [1, 7, 19, 16, 8, 9, 2], (3, 2): [3, 20, 7, 19, 16, 8, 9, 2], (4, 2): [4, 3, 20, 7, 19, 16, 8, 9, 2], (5, 2): [5, 14, 11, 17, 10, 2], (6, 2): [6, 16, 8, 9, 2], (7, 2): [7, 19, 16, 8, 9, 2], (8, 2): [8, 9, 2], (9, 2): [9, 2], (10, 2): [10, 2], (11, 2): [11, 17, 10, 2], (12, 2): [12, 6, 16, 8, 9, 2], (13, 2): [13, 19, 16, 8, 9, 2], (14, 2): [14, 11, 17, 10, 2], (15, 2): [15, 11, 17, 10, 2], (16, 2): [16, 8, 9, 2], (17, 2): [17, 10, 2], (18, 2): [18, 1, 7, 19, 16, 8, 9, 2], (19, 2): [19, 16, 8, 9, 2], (20, 2): [20, 7, 19, 16, 8, 9, 2], (21, 2): [21, 0, 9, 2]}\n",
      "{(1, 0): [1, 7, 19, 14, 21, 0], (2, 0): [2, 9, 0], (3, 0): [3, 20, 7, 19, 14, 21, 0], (4, 0): [4, 3, 20, 7, 19, 14, 21, 0], (5, 0): [5, 14, 21, 0], (6, 0): [6, 16, 8, 9, 0], (7, 0): [7, 19, 14, 21, 0], (8, 0): [8, 9, 0], (9, 0): [9, 0], (10, 0): [10, 2, 9, 0], (11, 0): [11, 14, 21, 0], (12, 0): [12, 6, 16, 8, 9, 0], (13, 0): [13, 5, 14, 21, 0], (14, 0): [14, 21, 0], (15, 0): [15, 14, 21, 0], (16, 0): [16, 8, 9, 0], (17, 0): [17, 22, 0], (18, 0): [18, 1, 7, 19, 14, 21, 0], (19, 0): [19, 14, 21, 0], (20, 0): [20, 7, 19, 14, 21, 0], (21, 0): [21, 0], (22, 0): [22, 0], (23, 0): [23, 3, 20, 7, 19, 14, 21, 0], (24, 0): [24, 25, 7, 19, 14, 21, 0], (25, 0): [25, 7, 19, 14, 21, 0], (0, 1): [0, 21, 14, 5, 13, 1], (2, 1): [2, 9, 8, 16, 19, 7, 1], (3, 1): [3, 18, 1], (4, 1): [4, 3, 18, 1], (5, 1): [5, 13, 1], (6, 1): [6, 12, 25, 7, 1], (7, 1): [7, 1], (8, 1): [8, 16, 19, 7, 1], (9, 1): [9, 8, 16, 19, 7, 1], (10, 1): [10, 17, 11, 14, 5, 13, 1], (11, 1): [11, 14, 5, 13, 1], (12, 1): [12, 25, 7, 1], (13, 1): [13, 1], (14, 1): [14, 5, 13, 1], (15, 1): [15, 14, 5, 13, 1], (16, 1): [16, 19, 7, 1], (17, 1): [17, 11, 14, 5, 13, 1], (18, 1): [18, 1], (19, 1): [19, 7, 1], (20, 1): [20, 7, 1], (21, 1): [21, 14, 5, 13, 1], (22, 1): [22, 0, 21, 14, 5, 13, 1], (23, 1): [23, 18, 1], (24, 1): [24, 25, 7, 1], (25, 1): [25, 7, 1], (0, 2): [0, 9, 2], (1, 2): [1, 7, 19, 16, 8, 9, 2], (3, 2): [3, 20, 7, 19, 16, 8, 9, 2], (4, 2): [4, 3, 20, 7, 19, 16, 8, 9, 2], (5, 2): [5, 14, 11, 17, 10, 2], (6, 2): [6, 16, 8, 9, 2], (7, 2): [7, 19, 16, 8, 9, 2], (8, 2): [8, 9, 2], (9, 2): [9, 2], (10, 2): [10, 2], (11, 2): [11, 17, 10, 2], (12, 2): [12, 6, 16, 8, 9, 2], (13, 2): [13, 19, 16, 8, 9, 2], (14, 2): [14, 11, 17, 10, 2], (15, 2): [15, 11, 17, 10, 2], (16, 2): [16, 8, 9, 2], (17, 2): [17, 10, 2], (18, 2): [18, 1, 7, 19, 16, 8, 9, 2], (19, 2): [19, 16, 8, 9, 2], (20, 2): [20, 7, 19, 16, 8, 9, 2], (21, 2): [21, 0, 9, 2], (22, 2): [22, 0, 9, 2]}\n",
      "{(1, 0): [1, 7, 19, 14, 21, 0], (2, 0): [2, 9, 0], (3, 0): [3, 20, 7, 19, 14, 21, 0], (4, 0): [4, 3, 20, 7, 19, 14, 21, 0], (5, 0): [5, 14, 21, 0], (6, 0): [6, 16, 8, 9, 0], (7, 0): [7, 19, 14, 21, 0], (8, 0): [8, 9, 0], (9, 0): [9, 0], (10, 0): [10, 2, 9, 0], (11, 0): [11, 14, 21, 0], (12, 0): [12, 6, 16, 8, 9, 0], (13, 0): [13, 5, 14, 21, 0], (14, 0): [14, 21, 0], (15, 0): [15, 14, 21, 0], (16, 0): [16, 8, 9, 0], (17, 0): [17, 22, 0], (18, 0): [18, 1, 7, 19, 14, 21, 0], (19, 0): [19, 14, 21, 0], (20, 0): [20, 7, 19, 14, 21, 0], (21, 0): [21, 0], (22, 0): [22, 0], (23, 0): [23, 3, 20, 7, 19, 14, 21, 0], (24, 0): [24, 25, 7, 19, 14, 21, 0], (25, 0): [25, 7, 19, 14, 21, 0], (0, 1): [0, 21, 14, 5, 13, 1], (2, 1): [2, 9, 8, 16, 19, 7, 1], (3, 1): [3, 18, 1], (4, 1): [4, 3, 18, 1], (5, 1): [5, 13, 1], (6, 1): [6, 12, 25, 7, 1], (7, 1): [7, 1], (8, 1): [8, 16, 19, 7, 1], (9, 1): [9, 8, 16, 19, 7, 1], (10, 1): [10, 17, 11, 14, 5, 13, 1], (11, 1): [11, 14, 5, 13, 1], (12, 1): [12, 25, 7, 1], (13, 1): [13, 1], (14, 1): [14, 5, 13, 1], (15, 1): [15, 14, 5, 13, 1], (16, 1): [16, 19, 7, 1], (17, 1): [17, 11, 14, 5, 13, 1], (18, 1): [18, 1], (19, 1): [19, 7, 1], (20, 1): [20, 7, 1], (21, 1): [21, 14, 5, 13, 1], (22, 1): [22, 0, 21, 14, 5, 13, 1], (23, 1): [23, 18, 1], (24, 1): [24, 25, 7, 1], (25, 1): [25, 7, 1], (0, 2): [0, 9, 2], (1, 2): [1, 7, 19, 16, 8, 9, 2], (3, 2): [3, 20, 7, 19, 16, 8, 9, 2], (4, 2): [4, 3, 20, 7, 19, 16, 8, 9, 2], (5, 2): [5, 14, 11, 17, 10, 2], (6, 2): [6, 16, 8, 9, 2], (7, 2): [7, 19, 16, 8, 9, 2], (8, 2): [8, 9, 2], (9, 2): [9, 2], (10, 2): [10, 2], (11, 2): [11, 17, 10, 2], (12, 2): [12, 6, 16, 8, 9, 2], (13, 2): [13, 19, 16, 8, 9, 2], (14, 2): [14, 11, 17, 10, 2], (15, 2): [15, 11, 17, 10, 2], (16, 2): [16, 8, 9, 2], (17, 2): [17, 10, 2], (18, 2): [18, 1, 7, 19, 16, 8, 9, 2], (19, 2): [19, 16, 8, 9, 2], (20, 2): [20, 7, 19, 16, 8, 9, 2], (21, 2): [21, 0, 9, 2], (22, 2): [22, 0, 9, 2], (23, 2): [23, 3, 20, 7, 19, 16, 8, 9, 2]}\n",
      "{(1, 0): [1, 7, 19, 14, 21, 0], (2, 0): [2, 9, 0], (3, 0): [3, 20, 7, 19, 14, 21, 0], (4, 0): [4, 3, 20, 7, 19, 14, 21, 0], (5, 0): [5, 14, 21, 0], (6, 0): [6, 16, 8, 9, 0], (7, 0): [7, 19, 14, 21, 0], (8, 0): [8, 9, 0], (9, 0): [9, 0], (10, 0): [10, 2, 9, 0], (11, 0): [11, 14, 21, 0], (12, 0): [12, 6, 16, 8, 9, 0], (13, 0): [13, 5, 14, 21, 0], (14, 0): [14, 21, 0], (15, 0): [15, 14, 21, 0], (16, 0): [16, 8, 9, 0], (17, 0): [17, 22, 0], (18, 0): [18, 1, 7, 19, 14, 21, 0], (19, 0): [19, 14, 21, 0], (20, 0): [20, 7, 19, 14, 21, 0], (21, 0): [21, 0], (22, 0): [22, 0], (23, 0): [23, 3, 20, 7, 19, 14, 21, 0], (24, 0): [24, 25, 7, 19, 14, 21, 0], (25, 0): [25, 7, 19, 14, 21, 0], (0, 1): [0, 21, 14, 5, 13, 1], (2, 1): [2, 9, 8, 16, 19, 7, 1], (3, 1): [3, 18, 1], (4, 1): [4, 3, 18, 1], (5, 1): [5, 13, 1], (6, 1): [6, 12, 25, 7, 1], (7, 1): [7, 1], (8, 1): [8, 16, 19, 7, 1], (9, 1): [9, 8, 16, 19, 7, 1], (10, 1): [10, 17, 11, 14, 5, 13, 1], (11, 1): [11, 14, 5, 13, 1], (12, 1): [12, 25, 7, 1], (13, 1): [13, 1], (14, 1): [14, 5, 13, 1], (15, 1): [15, 14, 5, 13, 1], (16, 1): [16, 19, 7, 1], (17, 1): [17, 11, 14, 5, 13, 1], (18, 1): [18, 1], (19, 1): [19, 7, 1], (20, 1): [20, 7, 1], (21, 1): [21, 14, 5, 13, 1], (22, 1): [22, 0, 21, 14, 5, 13, 1], (23, 1): [23, 18, 1], (24, 1): [24, 25, 7, 1], (25, 1): [25, 7, 1], (0, 2): [0, 9, 2], (1, 2): [1, 7, 19, 16, 8, 9, 2], (3, 2): [3, 20, 7, 19, 16, 8, 9, 2], (4, 2): [4, 3, 20, 7, 19, 16, 8, 9, 2], (5, 2): [5, 14, 11, 17, 10, 2], (6, 2): [6, 16, 8, 9, 2], (7, 2): [7, 19, 16, 8, 9, 2], (8, 2): [8, 9, 2], (9, 2): [9, 2], (10, 2): [10, 2], (11, 2): [11, 17, 10, 2], (12, 2): [12, 6, 16, 8, 9, 2], (13, 2): [13, 19, 16, 8, 9, 2], (14, 2): [14, 11, 17, 10, 2], (15, 2): [15, 11, 17, 10, 2], (16, 2): [16, 8, 9, 2], (17, 2): [17, 10, 2], (18, 2): [18, 1, 7, 19, 16, 8, 9, 2], (19, 2): [19, 16, 8, 9, 2], (20, 2): [20, 7, 19, 16, 8, 9, 2], (21, 2): [21, 0, 9, 2], (22, 2): [22, 0, 9, 2], (23, 2): [23, 3, 20, 7, 19, 16, 8, 9, 2], (24, 2): [24, 25, 7, 19, 16, 8, 9, 2]}\n",
      "{(1, 0): [1, 7, 19, 14, 21, 0], (2, 0): [2, 9, 0], (3, 0): [3, 20, 7, 19, 14, 21, 0], (4, 0): [4, 3, 20, 7, 19, 14, 21, 0], (5, 0): [5, 14, 21, 0], (6, 0): [6, 16, 8, 9, 0], (7, 0): [7, 19, 14, 21, 0], (8, 0): [8, 9, 0], (9, 0): [9, 0], (10, 0): [10, 2, 9, 0], (11, 0): [11, 14, 21, 0], (12, 0): [12, 6, 16, 8, 9, 0], (13, 0): [13, 5, 14, 21, 0], (14, 0): [14, 21, 0], (15, 0): [15, 14, 21, 0], (16, 0): [16, 8, 9, 0], (17, 0): [17, 22, 0], (18, 0): [18, 1, 7, 19, 14, 21, 0], (19, 0): [19, 14, 21, 0], (20, 0): [20, 7, 19, 14, 21, 0], (21, 0): [21, 0], (22, 0): [22, 0], (23, 0): [23, 3, 20, 7, 19, 14, 21, 0], (24, 0): [24, 25, 7, 19, 14, 21, 0], (25, 0): [25, 7, 19, 14, 21, 0], (0, 1): [0, 21, 14, 5, 13, 1], (2, 1): [2, 9, 8, 16, 19, 7, 1], (3, 1): [3, 18, 1], (4, 1): [4, 3, 18, 1], (5, 1): [5, 13, 1], (6, 1): [6, 12, 25, 7, 1], (7, 1): [7, 1], (8, 1): [8, 16, 19, 7, 1], (9, 1): [9, 8, 16, 19, 7, 1], (10, 1): [10, 17, 11, 14, 5, 13, 1], (11, 1): [11, 14, 5, 13, 1], (12, 1): [12, 25, 7, 1], (13, 1): [13, 1], (14, 1): [14, 5, 13, 1], (15, 1): [15, 14, 5, 13, 1], (16, 1): [16, 19, 7, 1], (17, 1): [17, 11, 14, 5, 13, 1], (18, 1): [18, 1], (19, 1): [19, 7, 1], (20, 1): [20, 7, 1], (21, 1): [21, 14, 5, 13, 1], (22, 1): [22, 0, 21, 14, 5, 13, 1], (23, 1): [23, 18, 1], (24, 1): [24, 25, 7, 1], (25, 1): [25, 7, 1], (0, 2): [0, 9, 2], (1, 2): [1, 7, 19, 16, 8, 9, 2], (3, 2): [3, 20, 7, 19, 16, 8, 9, 2], (4, 2): [4, 3, 20, 7, 19, 16, 8, 9, 2], (5, 2): [5, 14, 11, 17, 10, 2], (6, 2): [6, 16, 8, 9, 2], (7, 2): [7, 19, 16, 8, 9, 2], (8, 2): [8, 9, 2], (9, 2): [9, 2], (10, 2): [10, 2], (11, 2): [11, 17, 10, 2], (12, 2): [12, 6, 16, 8, 9, 2], (13, 2): [13, 19, 16, 8, 9, 2], (14, 2): [14, 11, 17, 10, 2], (15, 2): [15, 11, 17, 10, 2], (16, 2): [16, 8, 9, 2], (17, 2): [17, 10, 2], (18, 2): [18, 1, 7, 19, 16, 8, 9, 2], (19, 2): [19, 16, 8, 9, 2], (20, 2): [20, 7, 19, 16, 8, 9, 2], (21, 2): [21, 0, 9, 2], (22, 2): [22, 0, 9, 2], (23, 2): [23, 3, 20, 7, 19, 16, 8, 9, 2], (24, 2): [24, 25, 7, 19, 16, 8, 9, 2], (25, 2): [25, 7, 19, 16, 8, 9, 2]}\n",
      "{(1, 0): [1, 7, 19, 14, 21, 0], (2, 0): [2, 9, 0], (3, 0): [3, 20, 7, 19, 14, 21, 0], (4, 0): [4, 3, 20, 7, 19, 14, 21, 0], (5, 0): [5, 14, 21, 0], (6, 0): [6, 16, 8, 9, 0], (7, 0): [7, 19, 14, 21, 0], (8, 0): [8, 9, 0], (9, 0): [9, 0], (10, 0): [10, 2, 9, 0], (11, 0): [11, 14, 21, 0], (12, 0): [12, 6, 16, 8, 9, 0], (13, 0): [13, 5, 14, 21, 0], (14, 0): [14, 21, 0], (15, 0): [15, 14, 21, 0], (16, 0): [16, 8, 9, 0], (17, 0): [17, 22, 0], (18, 0): [18, 1, 7, 19, 14, 21, 0], (19, 0): [19, 14, 21, 0], (20, 0): [20, 7, 19, 14, 21, 0], (21, 0): [21, 0], (22, 0): [22, 0], (23, 0): [23, 3, 20, 7, 19, 14, 21, 0], (24, 0): [24, 25, 7, 19, 14, 21, 0], (25, 0): [25, 7, 19, 14, 21, 0], (0, 1): [0, 21, 14, 5, 13, 1], (2, 1): [2, 9, 8, 16, 19, 7, 1], (3, 1): [3, 18, 1], (4, 1): [4, 3, 18, 1], (5, 1): [5, 13, 1], (6, 1): [6, 12, 25, 7, 1], (7, 1): [7, 1], (8, 1): [8, 16, 19, 7, 1], (9, 1): [9, 8, 16, 19, 7, 1], (10, 1): [10, 17, 11, 14, 5, 13, 1], (11, 1): [11, 14, 5, 13, 1], (12, 1): [12, 25, 7, 1], (13, 1): [13, 1], (14, 1): [14, 5, 13, 1], (15, 1): [15, 14, 5, 13, 1], (16, 1): [16, 19, 7, 1], (17, 1): [17, 11, 14, 5, 13, 1], (18, 1): [18, 1], (19, 1): [19, 7, 1], (20, 1): [20, 7, 1], (21, 1): [21, 14, 5, 13, 1], (22, 1): [22, 0, 21, 14, 5, 13, 1], (23, 1): [23, 18, 1], (24, 1): [24, 25, 7, 1], (25, 1): [25, 7, 1], (0, 2): [0, 9, 2], (1, 2): [1, 7, 19, 16, 8, 9, 2], (3, 2): [3, 20, 7, 19, 16, 8, 9, 2], (4, 2): [4, 3, 20, 7, 19, 16, 8, 9, 2], (5, 2): [5, 14, 11, 17, 10, 2], (6, 2): [6, 16, 8, 9, 2], (7, 2): [7, 19, 16, 8, 9, 2], (8, 2): [8, 9, 2], (9, 2): [9, 2], (10, 2): [10, 2], (11, 2): [11, 17, 10, 2], (12, 2): [12, 6, 16, 8, 9, 2], (13, 2): [13, 19, 16, 8, 9, 2], (14, 2): [14, 11, 17, 10, 2], (15, 2): [15, 11, 17, 10, 2], (16, 2): [16, 8, 9, 2], (17, 2): [17, 10, 2], (18, 2): [18, 1, 7, 19, 16, 8, 9, 2], (19, 2): [19, 16, 8, 9, 2], (20, 2): [20, 7, 19, 16, 8, 9, 2], (21, 2): [21, 0, 9, 2], (22, 2): [22, 0, 9, 2], (23, 2): [23, 3, 20, 7, 19, 16, 8, 9, 2], (24, 2): [24, 25, 7, 19, 16, 8, 9, 2], (25, 2): [25, 7, 19, 16, 8, 9, 2], (0, 3): [0, 21, 14, 19, 7, 20, 3]}\n",
      "{(1, 0): [1, 7, 19, 14, 21, 0], (2, 0): [2, 9, 0], (3, 0): [3, 20, 7, 19, 14, 21, 0], (4, 0): [4, 3, 20, 7, 19, 14, 21, 0], (5, 0): [5, 14, 21, 0], (6, 0): [6, 16, 8, 9, 0], (7, 0): [7, 19, 14, 21, 0], (8, 0): [8, 9, 0], (9, 0): [9, 0], (10, 0): [10, 2, 9, 0], (11, 0): [11, 14, 21, 0], (12, 0): [12, 6, 16, 8, 9, 0], (13, 0): [13, 5, 14, 21, 0], (14, 0): [14, 21, 0], (15, 0): [15, 14, 21, 0], (16, 0): [16, 8, 9, 0], (17, 0): [17, 22, 0], (18, 0): [18, 1, 7, 19, 14, 21, 0], (19, 0): [19, 14, 21, 0], (20, 0): [20, 7, 19, 14, 21, 0], (21, 0): [21, 0], (22, 0): [22, 0], (23, 0): [23, 3, 20, 7, 19, 14, 21, 0], (24, 0): [24, 25, 7, 19, 14, 21, 0], (25, 0): [25, 7, 19, 14, 21, 0], (0, 1): [0, 21, 14, 5, 13, 1], (2, 1): [2, 9, 8, 16, 19, 7, 1], (3, 1): [3, 18, 1], (4, 1): [4, 3, 18, 1], (5, 1): [5, 13, 1], (6, 1): [6, 12, 25, 7, 1], (7, 1): [7, 1], (8, 1): [8, 16, 19, 7, 1], (9, 1): [9, 8, 16, 19, 7, 1], (10, 1): [10, 17, 11, 14, 5, 13, 1], (11, 1): [11, 14, 5, 13, 1], (12, 1): [12, 25, 7, 1], (13, 1): [13, 1], (14, 1): [14, 5, 13, 1], (15, 1): [15, 14, 5, 13, 1], (16, 1): [16, 19, 7, 1], (17, 1): [17, 11, 14, 5, 13, 1], (18, 1): [18, 1], (19, 1): [19, 7, 1], (20, 1): [20, 7, 1], (21, 1): [21, 14, 5, 13, 1], (22, 1): [22, 0, 21, 14, 5, 13, 1], (23, 1): [23, 18, 1], (24, 1): [24, 25, 7, 1], (25, 1): [25, 7, 1], (0, 2): [0, 9, 2], (1, 2): [1, 7, 19, 16, 8, 9, 2], (3, 2): [3, 20, 7, 19, 16, 8, 9, 2], (4, 2): [4, 3, 20, 7, 19, 16, 8, 9, 2], (5, 2): [5, 14, 11, 17, 10, 2], (6, 2): [6, 16, 8, 9, 2], (7, 2): [7, 19, 16, 8, 9, 2], (8, 2): [8, 9, 2], (9, 2): [9, 2], (10, 2): [10, 2], (11, 2): [11, 17, 10, 2], (12, 2): [12, 6, 16, 8, 9, 2], (13, 2): [13, 19, 16, 8, 9, 2], (14, 2): [14, 11, 17, 10, 2], (15, 2): [15, 11, 17, 10, 2], (16, 2): [16, 8, 9, 2], (17, 2): [17, 10, 2], (18, 2): [18, 1, 7, 19, 16, 8, 9, 2], (19, 2): [19, 16, 8, 9, 2], (20, 2): [20, 7, 19, 16, 8, 9, 2], (21, 2): [21, 0, 9, 2], (22, 2): [22, 0, 9, 2], (23, 2): [23, 3, 20, 7, 19, 16, 8, 9, 2], (24, 2): [24, 25, 7, 19, 16, 8, 9, 2], (25, 2): [25, 7, 19, 16, 8, 9, 2], (0, 3): [0, 21, 14, 19, 7, 20, 3], (1, 3): [1, 18, 3]}{(1, 0): [1, 7, 19, 14, 21, 0], (2, 0): [2, 9, 0], (3, 0): [3, 20, 7, 19, 14, 21, 0], (4, 0): [4, 3, 20, 7, 19, 14, 21, 0], (5, 0): [5, 14, 21, 0], (6, 0): [6, 16, 8, 9, 0], (7, 0): [7, 19, 14, 21, 0], (8, 0): [8, 9, 0], (9, 0): [9, 0], (10, 0): [10, 2, 9, 0], (11, 0): [11, 14, 21, 0], (12, 0): [12, 6, 16, 8, 9, 0], (13, 0): [13, 5, 14, 21, 0], (14, 0): [14, 21, 0], (15, 0): [15, 14, 21, 0], (16, 0): [16, 8, 9, 0], (17, 0): [17, 22, 0], (18, 0): [18, 1, 7, 19, 14, 21, 0], (19, 0): [19, 14, 21, 0], (20, 0): [20, 7, 19, 14, 21, 0], (21, 0): [21, 0], (22, 0): [22, 0], (23, 0): [23, 3, 20, 7, 19, 14, 21, 0], (24, 0): [24, 25, 7, 19, 14, 21, 0], (25, 0): [25, 7, 19, 14, 21, 0], (0, 1): [0, 21, 14, 5, 13, 1], (2, 1): [2, 9, 8, 16, 19, 7, 1], (3, 1): [3, 18, 1], (4, 1): [4, 3, 18, 1], (5, 1): [5, 13, 1], (6, 1): [6, 12, 25, 7, 1], (7, 1): [7, 1], (8, 1): [8, 16, 19, 7, 1], (9, 1): [9, 8, 16, 19, 7, 1], (10, 1): [10, 17, 11, 14, 5, 13, 1], (11, 1): [11, 14, 5, 13, 1], (12, 1): [12, 25, 7, 1], (13, 1): [13, 1], (14, 1): [14, 5, 13, 1], (15, 1): [15, 14, 5, 13, 1], (16, 1): [16, 19, 7, 1], (17, 1): [17, 11, 14, 5, 13, 1], (18, 1): [18, 1], (19, 1): [19, 7, 1], (20, 1): [20, 7, 1], (21, 1): [21, 14, 5, 13, 1], (22, 1): [22, 0, 21, 14, 5, 13, 1], (23, 1): [23, 18, 1], (24, 1): [24, 25, 7, 1], (25, 1): [25, 7, 1], (0, 2): [0, 9, 2], (1, 2): [1, 7, 19, 16, 8, 9, 2], (3, 2): [3, 20, 7, 19, 16, 8, 9, 2], (4, 2): [4, 3, 20, 7, 19, 16, 8, 9, 2], (5, 2): [5, 14, 11, 17, 10, 2], (6, 2): [6, 16, 8, 9, 2], (7, 2): [7, 19, 16, 8, 9, 2], (8, 2): [8, 9, 2], (9, 2): [9, 2], (10, 2): [10, 2], (11, 2): [11, 17, 10, 2], (12, 2): [12, 6, 16, 8, 9, 2], (13, 2): [13, 19, 16, 8, 9, 2], (14, 2): [14, 11, 17, 10, 2], (15, 2): [15, 11, 17, 10, 2], (16, 2): [16, 8, 9, 2], (17, 2): [17, 10, 2], (18, 2): [18, 1, 7, 19, 16, 8, 9, 2], (19, 2): [19, 16, 8, 9, 2], (20, 2): [20, 7, 19, 16, 8, 9, 2], (21, 2): [21, 0, 9, 2], (22, 2): [22, 0, 9, 2], (23, 2): [23, 3, 20, 7, 19, 16, 8, 9, 2], (24, 2): [24, 25, 7, 19, 16, 8, 9, 2], (25, 2): [25, 7, 19, 16, 8, 9, 2], (0, 3): [0, 21, 14, 19, 7, 20, 3], (1, 3): [1, 18, 3], (2, 3): [2, 9, 8, 16, 19, 7, 20, 3]}\n",
      "{(1, 0): [1, 7, 19, 14, 21, 0], (2, 0): [2, 9, 0], (3, 0): [3, 20, 7, 19, 14, 21, 0], (4, 0): [4, 3, 20, 7, 19, 14, 21, 0], (5, 0): [5, 14, 21, 0], (6, 0): [6, 16, 8, 9, 0], (7, 0): [7, 19, 14, 21, 0], (8, 0): [8, 9, 0], (9, 0): [9, 0], (10, 0): [10, 2, 9, 0], (11, 0): [11, 14, 21, 0], (12, 0): [12, 6, 16, 8, 9, 0], (13, 0): [13, 5, 14, 21, 0], (14, 0): [14, 21, 0], (15, 0): [15, 14, 21, 0], (16, 0): [16, 8, 9, 0], (17, 0): [17, 22, 0], (18, 0): [18, 1, 7, 19, 14, 21, 0], (19, 0): [19, 14, 21, 0], (20, 0): [20, 7, 19, 14, 21, 0], (21, 0): [21, 0], (22, 0): [22, 0], (23, 0): [23, 3, 20, 7, 19, 14, 21, 0], (24, 0): [24, 25, 7, 19, 14, 21, 0], (25, 0): [25, 7, 19, 14, 21, 0], (0, 1): [0, 21, 14, 5, 13, 1], (2, 1): [2, 9, 8, 16, 19, 7, 1], (3, 1): [3, 18, 1], (4, 1): [4, 3, 18, 1], (5, 1): [5, 13, 1], (6, 1): [6, 12, 25, 7, 1], (7, 1): [7, 1], (8, 1): [8, 16, 19, 7, 1], (9, 1): [9, 8, 16, 19, 7, 1], (10, 1): [10, 17, 11, 14, 5, 13, 1], (11, 1): [11, 14, 5, 13, 1], (12, 1): [12, 25, 7, 1], (13, 1): [13, 1], (14, 1): [14, 5, 13, 1], (15, 1): [15, 14, 5, 13, 1], (16, 1): [16, 19, 7, 1], (17, 1): [17, 11, 14, 5, 13, 1], (18, 1): [18, 1], (19, 1): [19, 7, 1], (20, 1): [20, 7, 1], (21, 1): [21, 14, 5, 13, 1], (22, 1): [22, 0, 21, 14, 5, 13, 1], (23, 1): [23, 18, 1], (24, 1): [24, 25, 7, 1], (25, 1): [25, 7, 1], (0, 2): [0, 9, 2], (1, 2): [1, 7, 19, 16, 8, 9, 2], (3, 2): [3, 20, 7, 19, 16, 8, 9, 2], (4, 2): [4, 3, 20, 7, 19, 16, 8, 9, 2], (5, 2): [5, 14, 11, 17, 10, 2], (6, 2): [6, 16, 8, 9, 2], (7, 2): [7, 19, 16, 8, 9, 2], (8, 2): [8, 9, 2], (9, 2): [9, 2], (10, 2): [10, 2], (11, 2): [11, 17, 10, 2], (12, 2): [12, 6, 16, 8, 9, 2], (13, 2): [13, 19, 16, 8, 9, 2], (14, 2): [14, 11, 17, 10, 2], (15, 2): [15, 11, 17, 10, 2], (16, 2): [16, 8, 9, 2], (17, 2): [17, 10, 2], (18, 2): [18, 1, 7, 19, 16, 8, 9, 2], (19, 2): [19, 16, 8, 9, 2], (20, 2): [20, 7, 19, 16, 8, 9, 2], (21, 2): [21, 0, 9, 2], (22, 2): [22, 0, 9, 2], (23, 2): [23, 3, 20, 7, 19, 16, 8, 9, 2], (24, 2): [24, 25, 7, 19, 16, 8, 9, 2], (25, 2): [25, 7, 19, 16, 8, 9, 2], (0, 3): [0, 21, 14, 19, 7, 20, 3], (1, 3): [1, 18, 3], (2, 3): [2, 9, 8, 16, 19, 7, 20, 3], (4, 3): [4, 3]}\n",
      "{(1, 0): [1, 7, 19, 14, 21, 0], (2, 0): [2, 9, 0], (3, 0): [3, 20, 7, 19, 14, 21, 0], (4, 0): [4, 3, 20, 7, 19, 14, 21, 0], (5, 0): [5, 14, 21, 0], (6, 0): [6, 16, 8, 9, 0], (7, 0): [7, 19, 14, 21, 0], (8, 0): [8, 9, 0], (9, 0): [9, 0], (10, 0): [10, 2, 9, 0], (11, 0): [11, 14, 21, 0], (12, 0): [12, 6, 16, 8, 9, 0], (13, 0): [13, 5, 14, 21, 0], (14, 0): [14, 21, 0], (15, 0): [15, 14, 21, 0], (16, 0): [16, 8, 9, 0], (17, 0): [17, 22, 0], (18, 0): [18, 1, 7, 19, 14, 21, 0], (19, 0): [19, 14, 21, 0], (20, 0): [20, 7, 19, 14, 21, 0], (21, 0): [21, 0], (22, 0): [22, 0], (23, 0): [23, 3, 20, 7, 19, 14, 21, 0], (24, 0): [24, 25, 7, 19, 14, 21, 0], (25, 0): [25, 7, 19, 14, 21, 0], (0, 1): [0, 21, 14, 5, 13, 1], (2, 1): [2, 9, 8, 16, 19, 7, 1], (3, 1): [3, 18, 1], (4, 1): [4, 3, 18, 1], (5, 1): [5, 13, 1], (6, 1): [6, 12, 25, 7, 1], (7, 1): [7, 1], (8, 1): [8, 16, 19, 7, 1], (9, 1): [9, 8, 16, 19, 7, 1], (10, 1): [10, 17, 11, 14, 5, 13, 1], (11, 1): [11, 14, 5, 13, 1], (12, 1): [12, 25, 7, 1], (13, 1): [13, 1], (14, 1): [14, 5, 13, 1], (15, 1): [15, 14, 5, 13, 1], (16, 1): [16, 19, 7, 1], (17, 1): [17, 11, 14, 5, 13, 1], (18, 1): [18, 1], (19, 1): [19, 7, 1], (20, 1): [20, 7, 1], (21, 1): [21, 14, 5, 13, 1], (22, 1): [22, 0, 21, 14, 5, 13, 1], (23, 1): [23, 18, 1], (24, 1): [24, 25, 7, 1], (25, 1): [25, 7, 1], (0, 2): [0, 9, 2], (1, 2): [1, 7, 19, 16, 8, 9, 2], (3, 2): [3, 20, 7, 19, 16, 8, 9, 2], (4, 2): [4, 3, 20, 7, 19, 16, 8, 9, 2], (5, 2): [5, 14, 11, 17, 10, 2], (6, 2): [6, 16, 8, 9, 2], (7, 2): [7, 19, 16, 8, 9, 2], (8, 2): [8, 9, 2], (9, 2): [9, 2], (10, 2): [10, 2], (11, 2): [11, 17, 10, 2], (12, 2): [12, 6, 16, 8, 9, 2], (13, 2): [13, 19, 16, 8, 9, 2], (14, 2): [14, 11, 17, 10, 2], (15, 2): [15, 11, 17, 10, 2], (16, 2): [16, 8, 9, 2], (17, 2): [17, 10, 2], (18, 2): [18, 1, 7, 19, 16, 8, 9, 2], (19, 2): [19, 16, 8, 9, 2], (20, 2): [20, 7, 19, 16, 8, 9, 2], (21, 2): [21, 0, 9, 2], (22, 2): [22, 0, 9, 2], (23, 2): [23, 3, 20, 7, 19, 16, 8, 9, 2], (24, 2): [24, 25, 7, 19, 16, 8, 9, 2], (25, 2): [25, 7, 19, 16, 8, 9, 2], (0, 3): [0, 21, 14, 19, 7, 20, 3], (1, 3): [1, 18, 3], (2, 3): [2, 9, 8, 16, 19, 7, 20, 3], (4, 3): [4, 3], (5, 3): [5, 13, 1, 18, 3]}\n",
      "{(1, 0): [1, 7, 19, 14, 21, 0], (2, 0): [2, 9, 0], (3, 0): [3, 20, 7, 19, 14, 21, 0], (4, 0): [4, 3, 20, 7, 19, 14, 21, 0], (5, 0): [5, 14, 21, 0], (6, 0): [6, 16, 8, 9, 0], (7, 0): [7, 19, 14, 21, 0], (8, 0): [8, 9, 0], (9, 0): [9, 0], (10, 0): [10, 2, 9, 0], (11, 0): [11, 14, 21, 0], (12, 0): [12, 6, 16, 8, 9, 0], (13, 0): [13, 5, 14, 21, 0], (14, 0): [14, 21, 0], (15, 0): [15, 14, 21, 0], (16, 0): [16, 8, 9, 0], (17, 0): [17, 22, 0], (18, 0): [18, 1, 7, 19, 14, 21, 0], (19, 0): [19, 14, 21, 0], (20, 0): [20, 7, 19, 14, 21, 0], (21, 0): [21, 0], (22, 0): [22, 0], (23, 0): [23, 3, 20, 7, 19, 14, 21, 0], (24, 0): [24, 25, 7, 19, 14, 21, 0], (25, 0): [25, 7, 19, 14, 21, 0], (0, 1): [0, 21, 14, 5, 13, 1], (2, 1): [2, 9, 8, 16, 19, 7, 1], (3, 1): [3, 18, 1], (4, 1): [4, 3, 18, 1], (5, 1): [5, 13, 1], (6, 1): [6, 12, 25, 7, 1], (7, 1): [7, 1], (8, 1): [8, 16, 19, 7, 1], (9, 1): [9, 8, 16, 19, 7, 1], (10, 1): [10, 17, 11, 14, 5, 13, 1], (11, 1): [11, 14, 5, 13, 1], (12, 1): [12, 25, 7, 1], (13, 1): [13, 1], (14, 1): [14, 5, 13, 1], (15, 1): [15, 14, 5, 13, 1], (16, 1): [16, 19, 7, 1], (17, 1): [17, 11, 14, 5, 13, 1], (18, 1): [18, 1], (19, 1): [19, 7, 1], (20, 1): [20, 7, 1], (21, 1): [21, 14, 5, 13, 1], (22, 1): [22, 0, 21, 14, 5, 13, 1], (23, 1): [23, 18, 1], (24, 1): [24, 25, 7, 1], (25, 1): [25, 7, 1], (0, 2): [0, 9, 2], (1, 2): [1, 7, 19, 16, 8, 9, 2], (3, 2): [3, 20, 7, 19, 16, 8, 9, 2], (4, 2): [4, 3, 20, 7, 19, 16, 8, 9, 2], (5, 2): [5, 14, 11, 17, 10, 2], (6, 2): [6, 16, 8, 9, 2], (7, 2): [7, 19, 16, 8, 9, 2], (8, 2): [8, 9, 2], (9, 2): [9, 2], (10, 2): [10, 2], (11, 2): [11, 17, 10, 2], (12, 2): [12, 6, 16, 8, 9, 2], (13, 2): [13, 19, 16, 8, 9, 2], (14, 2): [14, 11, 17, 10, 2], (15, 2): [15, 11, 17, 10, 2], (16, 2): [16, 8, 9, 2], (17, 2): [17, 10, 2], (18, 2): [18, 1, 7, 19, 16, 8, 9, 2], (19, 2): [19, 16, 8, 9, 2], (20, 2): [20, 7, 19, 16, 8, 9, 2], (21, 2): [21, 0, 9, 2], (22, 2): [22, 0, 9, 2], (23, 2): [23, 3, 20, 7, 19, 16, 8, 9, 2], (24, 2): [24, 25, 7, 19, 16, 8, 9, 2], (25, 2): [25, 7, 19, 16, 8, 9, 2], (0, 3): [0, 21, 14, 19, 7, 20, 3], (1, 3): [1, 18, 3], (2, 3): [2, 9, 8, 16, 19, 7, 20, 3], (4, 3): [4, 3], (5, 3): [5, 13, 1, 18, 3], (6, 3): [6, 12, 25, 7, 20, 3]}\n",
      "{(1, 0): [1, 7, 19, 14, 21, 0], (2, 0): [2, 9, 0], (3, 0): [3, 20, 7, 19, 14, 21, 0], (4, 0): [4, 3, 20, 7, 19, 14, 21, 0], (5, 0): [5, 14, 21, 0], (6, 0): [6, 16, 8, 9, 0], (7, 0): [7, 19, 14, 21, 0], (8, 0): [8, 9, 0], (9, 0): [9, 0], (10, 0): [10, 2, 9, 0], (11, 0): [11, 14, 21, 0], (12, 0): [12, 6, 16, 8, 9, 0], (13, 0): [13, 5, 14, 21, 0], (14, 0): [14, 21, 0], (15, 0): [15, 14, 21, 0], (16, 0): [16, 8, 9, 0], (17, 0): [17, 22, 0], (18, 0): [18, 1, 7, 19, 14, 21, 0], (19, 0): [19, 14, 21, 0], (20, 0): [20, 7, 19, 14, 21, 0], (21, 0): [21, 0], (22, 0): [22, 0], (23, 0): [23, 3, 20, 7, 19, 14, 21, 0], (24, 0): [24, 25, 7, 19, 14, 21, 0], (25, 0): [25, 7, 19, 14, 21, 0], (0, 1): [0, 21, 14, 5, 13, 1], (2, 1): [2, 9, 8, 16, 19, 7, 1], (3, 1): [3, 18, 1], (4, 1): [4, 3, 18, 1], (5, 1): [5, 13, 1], (6, 1): [6, 12, 25, 7, 1], (7, 1): [7, 1], (8, 1): [8, 16, 19, 7, 1], (9, 1): [9, 8, 16, 19, 7, 1], (10, 1): [10, 17, 11, 14, 5, 13, 1], (11, 1): [11, 14, 5, 13, 1], (12, 1): [12, 25, 7, 1], (13, 1): [13, 1], (14, 1): [14, 5, 13, 1], (15, 1): [15, 14, 5, 13, 1], (16, 1): [16, 19, 7, 1], (17, 1): [17, 11, 14, 5, 13, 1], (18, 1): [18, 1], (19, 1): [19, 7, 1], (20, 1): [20, 7, 1], (21, 1): [21, 14, 5, 13, 1], (22, 1): [22, 0, 21, 14, 5, 13, 1], (23, 1): [23, 18, 1], (24, 1): [24, 25, 7, 1], (25, 1): [25, 7, 1], (0, 2): [0, 9, 2], (1, 2): [1, 7, 19, 16, 8, 9, 2], (3, 2): [3, 20, 7, 19, 16, 8, 9, 2], (4, 2): [4, 3, 20, 7, 19, 16, 8, 9, 2], (5, 2): [5, 14, 11, 17, 10, 2], (6, 2): [6, 16, 8, 9, 2], (7, 2): [7, 19, 16, 8, 9, 2], (8, 2): [8, 9, 2], (9, 2): [9, 2], (10, 2): [10, 2], (11, 2): [11, 17, 10, 2], (12, 2): [12, 6, 16, 8, 9, 2], (13, 2): [13, 19, 16, 8, 9, 2], (14, 2): [14, 11, 17, 10, 2], (15, 2): [15, 11, 17, 10, 2], (16, 2): [16, 8, 9, 2], (17, 2): [17, 10, 2], (18, 2): [18, 1, 7, 19, 16, 8, 9, 2], (19, 2): [19, 16, 8, 9, 2], (20, 2): [20, 7, 19, 16, 8, 9, 2], (21, 2): [21, 0, 9, 2], (22, 2): [22, 0, 9, 2], (23, 2): [23, 3, 20, 7, 19, 16, 8, 9, 2], (24, 2): [24, 25, 7, 19, 16, 8, 9, 2], (25, 2): [25, 7, 19, 16, 8, 9, 2], (0, 3): [0, 21, 14, 19, 7, 20, 3], (1, 3): [1, 18, 3], (2, 3): [2, 9, 8, 16, 19, 7, 20, 3], (4, 3): [4, 3], (5, 3): [5, 13, 1, 18, 3], (6, 3): [6, 12, 25, 7, 20, 3], (7, 3): [7, 20, 3]}\n",
      "{(1, 0): [1, 7, 19, 14, 21, 0], (2, 0): [2, 9, 0], (3, 0): [3, 20, 7, 19, 14, 21, 0], (4, 0): [4, 3, 20, 7, 19, 14, 21, 0], (5, 0): [5, 14, 21, 0], (6, 0): [6, 16, 8, 9, 0], (7, 0): [7, 19, 14, 21, 0], (8, 0): [8, 9, 0], (9, 0): [9, 0], (10, 0): [10, 2, 9, 0], (11, 0): [11, 14, 21, 0], (12, 0): [12, 6, 16, 8, 9, 0], (13, 0): [13, 5, 14, 21, 0], (14, 0): [14, 21, 0], (15, 0): [15, 14, 21, 0], (16, 0): [16, 8, 9, 0], (17, 0): [17, 22, 0], (18, 0): [18, 1, 7, 19, 14, 21, 0], (19, 0): [19, 14, 21, 0], (20, 0): [20, 7, 19, 14, 21, 0], (21, 0): [21, 0], (22, 0): [22, 0], (23, 0): [23, 3, 20, 7, 19, 14, 21, 0], (24, 0): [24, 25, 7, 19, 14, 21, 0], (25, 0): [25, 7, 19, 14, 21, 0], (0, 1): [0, 21, 14, 5, 13, 1], (2, 1): [2, 9, 8, 16, 19, 7, 1], (3, 1): [3, 18, 1], (4, 1): [4, 3, 18, 1], (5, 1): [5, 13, 1], (6, 1): [6, 12, 25, 7, 1], (7, 1): [7, 1], (8, 1): [8, 16, 19, 7, 1], (9, 1): [9, 8, 16, 19, 7, 1], (10, 1): [10, 17, 11, 14, 5, 13, 1], (11, 1): [11, 14, 5, 13, 1], (12, 1): [12, 25, 7, 1], (13, 1): [13, 1], (14, 1): [14, 5, 13, 1], (15, 1): [15, 14, 5, 13, 1], (16, 1): [16, 19, 7, 1], (17, 1): [17, 11, 14, 5, 13, 1], (18, 1): [18, 1], (19, 1): [19, 7, 1], (20, 1): [20, 7, 1], (21, 1): [21, 14, 5, 13, 1], (22, 1): [22, 0, 21, 14, 5, 13, 1], (23, 1): [23, 18, 1], (24, 1): [24, 25, 7, 1], (25, 1): [25, 7, 1], (0, 2): [0, 9, 2], (1, 2): [1, 7, 19, 16, 8, 9, 2], (3, 2): [3, 20, 7, 19, 16, 8, 9, 2], (4, 2): [4, 3, 20, 7, 19, 16, 8, 9, 2], (5, 2): [5, 14, 11, 17, 10, 2], (6, 2): [6, 16, 8, 9, 2], (7, 2): [7, 19, 16, 8, 9, 2], (8, 2): [8, 9, 2], (9, 2): [9, 2], (10, 2): [10, 2], (11, 2): [11, 17, 10, 2], (12, 2): [12, 6, 16, 8, 9, 2], (13, 2): [13, 19, 16, 8, 9, 2], (14, 2): [14, 11, 17, 10, 2], (15, 2): [15, 11, 17, 10, 2], (16, 2): [16, 8, 9, 2], (17, 2): [17, 10, 2], (18, 2): [18, 1, 7, 19, 16, 8, 9, 2], (19, 2): [19, 16, 8, 9, 2], (20, 2): [20, 7, 19, 16, 8, 9, 2], (21, 2): [21, 0, 9, 2], (22, 2): [22, 0, 9, 2], (23, 2): [23, 3, 20, 7, 19, 16, 8, 9, 2], (24, 2): [24, 25, 7, 19, 16, 8, 9, 2], (25, 2): [25, 7, 19, 16, 8, 9, 2], (0, 3): [0, 21, 14, 19, 7, 20, 3], (1, 3): [1, 18, 3], (2, 3): [2, 9, 8, 16, 19, 7, 20, 3], (4, 3): [4, 3], (5, 3): [5, 13, 1, 18, 3], (6, 3): [6, 12, 25, 7, 20, 3], (7, 3): [7, 20, 3], (8, 3): [8, 16, 19, 7, 20, 3]}\n",
      "{(1, 0): [1, 7, 19, 14, 21, 0], (2, 0): [2, 9, 0], (3, 0): [3, 20, 7, 19, 14, 21, 0], (4, 0): [4, 3, 20, 7, 19, 14, 21, 0], (5, 0): [5, 14, 21, 0], (6, 0): [6, 16, 8, 9, 0], (7, 0): [7, 19, 14, 21, 0], (8, 0): [8, 9, 0], (9, 0): [9, 0], (10, 0): [10, 2, 9, 0], (11, 0): [11, 14, 21, 0], (12, 0): [12, 6, 16, 8, 9, 0], (13, 0): [13, 5, 14, 21, 0], (14, 0): [14, 21, 0], (15, 0): [15, 14, 21, 0], (16, 0): [16, 8, 9, 0], (17, 0): [17, 22, 0], (18, 0): [18, 1, 7, 19, 14, 21, 0], (19, 0): [19, 14, 21, 0], (20, 0): [20, 7, 19, 14, 21, 0], (21, 0): [21, 0], (22, 0): [22, 0], (23, 0): [23, 3, 20, 7, 19, 14, 21, 0], (24, 0): [24, 25, 7, 19, 14, 21, 0], (25, 0): [25, 7, 19, 14, 21, 0], (0, 1): [0, 21, 14, 5, 13, 1], (2, 1): [2, 9, 8, 16, 19, 7, 1], (3, 1): [3, 18, 1], (4, 1): [4, 3, 18, 1], (5, 1): [5, 13, 1], (6, 1): [6, 12, 25, 7, 1], (7, 1): [7, 1], (8, 1): [8, 16, 19, 7, 1], (9, 1): [9, 8, 16, 19, 7, 1], (10, 1): [10, 17, 11, 14, 5, 13, 1], (11, 1): [11, 14, 5, 13, 1], (12, 1): [12, 25, 7, 1], (13, 1): [13, 1], (14, 1): [14, 5, 13, 1], (15, 1): [15, 14, 5, 13, 1], (16, 1): [16, 19, 7, 1], (17, 1): [17, 11, 14, 5, 13, 1], (18, 1): [18, 1], (19, 1): [19, 7, 1], (20, 1): [20, 7, 1], (21, 1): [21, 14, 5, 13, 1], (22, 1): [22, 0, 21, 14, 5, 13, 1], (23, 1): [23, 18, 1], (24, 1): [24, 25, 7, 1], (25, 1): [25, 7, 1], (0, 2): [0, 9, 2], (1, 2): [1, 7, 19, 16, 8, 9, 2], (3, 2): [3, 20, 7, 19, 16, 8, 9, 2], (4, 2): [4, 3, 20, 7, 19, 16, 8, 9, 2], (5, 2): [5, 14, 11, 17, 10, 2], (6, 2): [6, 16, 8, 9, 2], (7, 2): [7, 19, 16, 8, 9, 2], (8, 2): [8, 9, 2], (9, 2): [9, 2], (10, 2): [10, 2], (11, 2): [11, 17, 10, 2], (12, 2): [12, 6, 16, 8, 9, 2], (13, 2): [13, 19, 16, 8, 9, 2], (14, 2): [14, 11, 17, 10, 2], (15, 2): [15, 11, 17, 10, 2], (16, 2): [16, 8, 9, 2], (17, 2): [17, 10, 2], (18, 2): [18, 1, 7, 19, 16, 8, 9, 2], (19, 2): [19, 16, 8, 9, 2], (20, 2): [20, 7, 19, 16, 8, 9, 2], (21, 2): [21, 0, 9, 2], (22, 2): [22, 0, 9, 2], (23, 2): [23, 3, 20, 7, 19, 16, 8, 9, 2], (24, 2): [24, 25, 7, 19, 16, 8, 9, 2], (25, 2): [25, 7, 19, 16, 8, 9, 2], (0, 3): [0, 21, 14, 19, 7, 20, 3], (1, 3): [1, 18, 3], (2, 3): [2, 9, 8, 16, 19, 7, 20, 3], (4, 3): [4, 3], (5, 3): [5, 13, 1, 18, 3], (6, 3): [6, 12, 25, 7, 20, 3], (7, 3): [7, 20, 3], (8, 3): [8, 16, 19, 7, 20, 3], (9, 3): [9, 8, 16, 19, 7, 20, 3]}\n",
      "{(1, 0): [1, 7, 19, 14, 21, 0], (2, 0): [2, 9, 0], (3, 0): [3, 20, 7, 19, 14, 21, 0], (4, 0): [4, 3, 20, 7, 19, 14, 21, 0], (5, 0): [5, 14, 21, 0], (6, 0): [6, 16, 8, 9, 0], (7, 0): [7, 19, 14, 21, 0], (8, 0): [8, 9, 0], (9, 0): [9, 0], (10, 0): [10, 2, 9, 0], (11, 0): [11, 14, 21, 0], (12, 0): [12, 6, 16, 8, 9, 0], (13, 0): [13, 5, 14, 21, 0], (14, 0): [14, 21, 0], (15, 0): [15, 14, 21, 0], (16, 0): [16, 8, 9, 0], (17, 0): [17, 22, 0], (18, 0): [18, 1, 7, 19, 14, 21, 0], (19, 0): [19, 14, 21, 0], (20, 0): [20, 7, 19, 14, 21, 0], (21, 0): [21, 0], (22, 0): [22, 0], (23, 0): [23, 3, 20, 7, 19, 14, 21, 0], (24, 0): [24, 25, 7, 19, 14, 21, 0], (25, 0): [25, 7, 19, 14, 21, 0], (0, 1): [0, 21, 14, 5, 13, 1], (2, 1): [2, 9, 8, 16, 19, 7, 1], (3, 1): [3, 18, 1], (4, 1): [4, 3, 18, 1], (5, 1): [5, 13, 1], (6, 1): [6, 12, 25, 7, 1], (7, 1): [7, 1], (8, 1): [8, 16, 19, 7, 1], (9, 1): [9, 8, 16, 19, 7, 1], (10, 1): [10, 17, 11, 14, 5, 13, 1], (11, 1): [11, 14, 5, 13, 1], (12, 1): [12, 25, 7, 1], (13, 1): [13, 1], (14, 1): [14, 5, 13, 1], (15, 1): [15, 14, 5, 13, 1], (16, 1): [16, 19, 7, 1], (17, 1): [17, 11, 14, 5, 13, 1], (18, 1): [18, 1], (19, 1): [19, 7, 1], (20, 1): [20, 7, 1], (21, 1): [21, 14, 5, 13, 1], (22, 1): [22, 0, 21, 14, 5, 13, 1], (23, 1): [23, 18, 1], (24, 1): [24, 25, 7, 1], (25, 1): [25, 7, 1], (0, 2): [0, 9, 2], (1, 2): [1, 7, 19, 16, 8, 9, 2], (3, 2): [3, 20, 7, 19, 16, 8, 9, 2], (4, 2): [4, 3, 20, 7, 19, 16, 8, 9, 2], (5, 2): [5, 14, 11, 17, 10, 2], (6, 2): [6, 16, 8, 9, 2], (7, 2): [7, 19, 16, 8, 9, 2], (8, 2): [8, 9, 2], (9, 2): [9, 2], (10, 2): [10, 2], (11, 2): [11, 17, 10, 2], (12, 2): [12, 6, 16, 8, 9, 2], (13, 2): [13, 19, 16, 8, 9, 2], (14, 2): [14, 11, 17, 10, 2], (15, 2): [15, 11, 17, 10, 2], (16, 2): [16, 8, 9, 2], (17, 2): [17, 10, 2], (18, 2): [18, 1, 7, 19, 16, 8, 9, 2], (19, 2): [19, 16, 8, 9, 2], (20, 2): [20, 7, 19, 16, 8, 9, 2], (21, 2): [21, 0, 9, 2], (22, 2): [22, 0, 9, 2], (23, 2): [23, 3, 20, 7, 19, 16, 8, 9, 2], (24, 2): [24, 25, 7, 19, 16, 8, 9, 2], (25, 2): [25, 7, 19, 16, 8, 9, 2], (0, 3): [0, 21, 14, 19, 7, 20, 3], (1, 3): [1, 18, 3], (2, 3): [2, 9, 8, 16, 19, 7, 20, 3], (4, 3): [4, 3], (5, 3): [5, 13, 1, 18, 3], (6, 3): [6, 12, 25, 7, 20, 3], (7, 3): [7, 20, 3], (8, 3): [8, 16, 19, 7, 20, 3], (9, 3): [9, 8, 16, 19, 7, 20, 3], (10, 3): [10, 17, 11, 14, 19, 7, 20, 3]}\n",
      "{(1, 0): [1, 7, 19, 14, 21, 0], (2, 0): [2, 9, 0], (3, 0): [3, 20, 7, 19, 14, 21, 0], (4, 0): [4, 3, 20, 7, 19, 14, 21, 0], (5, 0): [5, 14, 21, 0], (6, 0): [6, 16, 8, 9, 0], (7, 0): [7, 19, 14, 21, 0], (8, 0): [8, 9, 0], (9, 0): [9, 0], (10, 0): [10, 2, 9, 0], (11, 0): [11, 14, 21, 0], (12, 0): [12, 6, 16, 8, 9, 0], (13, 0): [13, 5, 14, 21, 0], (14, 0): [14, 21, 0], (15, 0): [15, 14, 21, 0], (16, 0): [16, 8, 9, 0], (17, 0): [17, 22, 0], (18, 0): [18, 1, 7, 19, 14, 21, 0], (19, 0): [19, 14, 21, 0], (20, 0): [20, 7, 19, 14, 21, 0], (21, 0): [21, 0], (22, 0): [22, 0], (23, 0): [23, 3, 20, 7, 19, 14, 21, 0], (24, 0): [24, 25, 7, 19, 14, 21, 0], (25, 0): [25, 7, 19, 14, 21, 0], (0, 1): [0, 21, 14, 5, 13, 1], (2, 1): [2, 9, 8, 16, 19, 7, 1], (3, 1): [3, 18, 1], (4, 1): [4, 3, 18, 1], (5, 1): [5, 13, 1], (6, 1): [6, 12, 25, 7, 1], (7, 1): [7, 1], (8, 1): [8, 16, 19, 7, 1], (9, 1): [9, 8, 16, 19, 7, 1], (10, 1): [10, 17, 11, 14, 5, 13, 1], (11, 1): [11, 14, 5, 13, 1], (12, 1): [12, 25, 7, 1], (13, 1): [13, 1], (14, 1): [14, 5, 13, 1], (15, 1): [15, 14, 5, 13, 1], (16, 1): [16, 19, 7, 1], (17, 1): [17, 11, 14, 5, 13, 1], (18, 1): [18, 1], (19, 1): [19, 7, 1], (20, 1): [20, 7, 1], (21, 1): [21, 14, 5, 13, 1], (22, 1): [22, 0, 21, 14, 5, 13, 1], (23, 1): [23, 18, 1], (24, 1): [24, 25, 7, 1], (25, 1): [25, 7, 1], (0, 2): [0, 9, 2], (1, 2): [1, 7, 19, 16, 8, 9, 2], (3, 2): [3, 20, 7, 19, 16, 8, 9, 2], (4, 2): [4, 3, 20, 7, 19, 16, 8, 9, 2], (5, 2): [5, 14, 11, 17, 10, 2], (6, 2): [6, 16, 8, 9, 2], (7, 2): [7, 19, 16, 8, 9, 2], (8, 2): [8, 9, 2], (9, 2): [9, 2], (10, 2): [10, 2], (11, 2): [11, 17, 10, 2], (12, 2): [12, 6, 16, 8, 9, 2], (13, 2): [13, 19, 16, 8, 9, 2], (14, 2): [14, 11, 17, 10, 2], (15, 2): [15, 11, 17, 10, 2], (16, 2): [16, 8, 9, 2], (17, 2): [17, 10, 2], (18, 2): [18, 1, 7, 19, 16, 8, 9, 2], (19, 2): [19, 16, 8, 9, 2], (20, 2): [20, 7, 19, 16, 8, 9, 2], (21, 2): [21, 0, 9, 2], (22, 2): [22, 0, 9, 2], (23, 2): [23, 3, 20, 7, 19, 16, 8, 9, 2], (24, 2): [24, 25, 7, 19, 16, 8, 9, 2], (25, 2): [25, 7, 19, 16, 8, 9, 2], (0, 3): [0, 21, 14, 19, 7, 20, 3], (1, 3): [1, 18, 3], (2, 3): [2, 9, 8, 16, 19, 7, 20, 3], (4, 3): [4, 3], (5, 3): [5, 13, 1, 18, 3], (6, 3): [6, 12, 25, 7, 20, 3], (7, 3): [7, 20, 3], (8, 3): [8, 16, 19, 7, 20, 3], (9, 3): [9, 8, 16, 19, 7, 20, 3], (10, 3): [10, 17, 11, 14, 19, 7, 20, 3], (11, 3): [11, 14, 19, 7, 20, 3]}\n",
      "{(1, 0): [1, 7, 19, 14, 21, 0], (2, 0): [2, 9, 0], (3, 0): [3, 20, 7, 19, 14, 21, 0], (4, 0): [4, 3, 20, 7, 19, 14, 21, 0], (5, 0): [5, 14, 21, 0], (6, 0): [6, 16, 8, 9, 0], (7, 0): [7, 19, 14, 21, 0], (8, 0): [8, 9, 0], (9, 0): [9, 0], (10, 0): [10, 2, 9, 0], (11, 0): [11, 14, 21, 0], (12, 0): [12, 6, 16, 8, 9, 0], (13, 0): [13, 5, 14, 21, 0], (14, 0): [14, 21, 0], (15, 0): [15, 14, 21, 0], (16, 0): [16, 8, 9, 0], (17, 0): [17, 22, 0], (18, 0): [18, 1, 7, 19, 14, 21, 0], (19, 0): [19, 14, 21, 0], (20, 0): [20, 7, 19, 14, 21, 0], (21, 0): [21, 0], (22, 0): [22, 0], (23, 0): [23, 3, 20, 7, 19, 14, 21, 0], (24, 0): [24, 25, 7, 19, 14, 21, 0], (25, 0): [25, 7, 19, 14, 21, 0], (0, 1): [0, 21, 14, 5, 13, 1], (2, 1): [2, 9, 8, 16, 19, 7, 1], (3, 1): [3, 18, 1], (4, 1): [4, 3, 18, 1], (5, 1): [5, 13, 1], (6, 1): [6, 12, 25, 7, 1], (7, 1): [7, 1], (8, 1): [8, 16, 19, 7, 1], (9, 1): [9, 8, 16, 19, 7, 1], (10, 1): [10, 17, 11, 14, 5, 13, 1], (11, 1): [11, 14, 5, 13, 1], (12, 1): [12, 25, 7, 1], (13, 1): [13, 1], (14, 1): [14, 5, 13, 1], (15, 1): [15, 14, 5, 13, 1], (16, 1): [16, 19, 7, 1], (17, 1): [17, 11, 14, 5, 13, 1], (18, 1): [18, 1], (19, 1): [19, 7, 1], (20, 1): [20, 7, 1], (21, 1): [21, 14, 5, 13, 1], (22, 1): [22, 0, 21, 14, 5, 13, 1], (23, 1): [23, 18, 1], (24, 1): [24, 25, 7, 1], (25, 1): [25, 7, 1], (0, 2): [0, 9, 2], (1, 2): [1, 7, 19, 16, 8, 9, 2], (3, 2): [3, 20, 7, 19, 16, 8, 9, 2], (4, 2): [4, 3, 20, 7, 19, 16, 8, 9, 2], (5, 2): [5, 14, 11, 17, 10, 2], (6, 2): [6, 16, 8, 9, 2], (7, 2): [7, 19, 16, 8, 9, 2], (8, 2): [8, 9, 2], (9, 2): [9, 2], (10, 2): [10, 2], (11, 2): [11, 17, 10, 2], (12, 2): [12, 6, 16, 8, 9, 2], (13, 2): [13, 19, 16, 8, 9, 2], (14, 2): [14, 11, 17, 10, 2], (15, 2): [15, 11, 17, 10, 2], (16, 2): [16, 8, 9, 2], (17, 2): [17, 10, 2], (18, 2): [18, 1, 7, 19, 16, 8, 9, 2], (19, 2): [19, 16, 8, 9, 2], (20, 2): [20, 7, 19, 16, 8, 9, 2], (21, 2): [21, 0, 9, 2], (22, 2): [22, 0, 9, 2], (23, 2): [23, 3, 20, 7, 19, 16, 8, 9, 2], (24, 2): [24, 25, 7, 19, 16, 8, 9, 2], (25, 2): [25, 7, 19, 16, 8, 9, 2], (0, 3): [0, 21, 14, 19, 7, 20, 3], (1, 3): [1, 18, 3], (2, 3): [2, 9, 8, 16, 19, 7, 20, 3], (4, 3): [4, 3], (5, 3): [5, 13, 1, 18, 3], (6, 3): [6, 12, 25, 7, 20, 3], (7, 3): [7, 20, 3], (8, 3): [8, 16, 19, 7, 20, 3], (9, 3): [9, 8, 16, 19, 7, 20, 3], (10, 3): [10, 17, 11, 14, 19, 7, 20, 3], (11, 3): [11, 14, 19, 7, 20, 3], (12, 3): [12, 25, 7, 20, 3]}\n",
      "{(1, 0): [1, 7, 19, 14, 21, 0], (2, 0): [2, 9, 0], (3, 0): [3, 20, 7, 19, 14, 21, 0], (4, 0): [4, 3, 20, 7, 19, 14, 21, 0], (5, 0): [5, 14, 21, 0], (6, 0): [6, 16, 8, 9, 0], (7, 0): [7, 19, 14, 21, 0], (8, 0): [8, 9, 0], (9, 0): [9, 0], (10, 0): [10, 2, 9, 0], (11, 0): [11, 14, 21, 0], (12, 0): [12, 6, 16, 8, 9, 0], (13, 0): [13, 5, 14, 21, 0], (14, 0): [14, 21, 0], (15, 0): [15, 14, 21, 0], (16, 0): [16, 8, 9, 0], (17, 0): [17, 22, 0], (18, 0): [18, 1, 7, 19, 14, 21, 0], (19, 0): [19, 14, 21, 0], (20, 0): [20, 7, 19, 14, 21, 0], (21, 0): [21, 0], (22, 0): [22, 0], (23, 0): [23, 3, 20, 7, 19, 14, 21, 0], (24, 0): [24, 25, 7, 19, 14, 21, 0], (25, 0): [25, 7, 19, 14, 21, 0], (0, 1): [0, 21, 14, 5, 13, 1], (2, 1): [2, 9, 8, 16, 19, 7, 1], (3, 1): [3, 18, 1], (4, 1): [4, 3, 18, 1], (5, 1): [5, 13, 1], (6, 1): [6, 12, 25, 7, 1], (7, 1): [7, 1], (8, 1): [8, 16, 19, 7, 1], (9, 1): [9, 8, 16, 19, 7, 1], (10, 1): [10, 17, 11, 14, 5, 13, 1], (11, 1): [11, 14, 5, 13, 1], (12, 1): [12, 25, 7, 1], (13, 1): [13, 1], (14, 1): [14, 5, 13, 1], (15, 1): [15, 14, 5, 13, 1], (16, 1): [16, 19, 7, 1], (17, 1): [17, 11, 14, 5, 13, 1], (18, 1): [18, 1], (19, 1): [19, 7, 1], (20, 1): [20, 7, 1], (21, 1): [21, 14, 5, 13, 1], (22, 1): [22, 0, 21, 14, 5, 13, 1], (23, 1): [23, 18, 1], (24, 1): [24, 25, 7, 1], (25, 1): [25, 7, 1], (0, 2): [0, 9, 2], (1, 2): [1, 7, 19, 16, 8, 9, 2], (3, 2): [3, 20, 7, 19, 16, 8, 9, 2], (4, 2): [4, 3, 20, 7, 19, 16, 8, 9, 2], (5, 2): [5, 14, 11, 17, 10, 2], (6, 2): [6, 16, 8, 9, 2], (7, 2): [7, 19, 16, 8, 9, 2], (8, 2): [8, 9, 2], (9, 2): [9, 2], (10, 2): [10, 2], (11, 2): [11, 17, 10, 2], (12, 2): [12, 6, 16, 8, 9, 2], (13, 2): [13, 19, 16, 8, 9, 2], (14, 2): [14, 11, 17, 10, 2], (15, 2): [15, 11, 17, 10, 2], (16, 2): [16, 8, 9, 2], (17, 2): [17, 10, 2], (18, 2): [18, 1, 7, 19, 16, 8, 9, 2], (19, 2): [19, 16, 8, 9, 2], (20, 2): [20, 7, 19, 16, 8, 9, 2], (21, 2): [21, 0, 9, 2], (22, 2): [22, 0, 9, 2], (23, 2): [23, 3, 20, 7, 19, 16, 8, 9, 2], (24, 2): [24, 25, 7, 19, 16, 8, 9, 2], (25, 2): [25, 7, 19, 16, 8, 9, 2], (0, 3): [0, 21, 14, 19, 7, 20, 3], (1, 3): [1, 18, 3], (2, 3): [2, 9, 8, 16, 19, 7, 20, 3], (4, 3): [4, 3], (5, 3): [5, 13, 1, 18, 3], (6, 3): [6, 12, 25, 7, 20, 3], (7, 3): [7, 20, 3], (8, 3): [8, 16, 19, 7, 20, 3], (9, 3): [9, 8, 16, 19, 7, 20, 3], (10, 3): [10, 17, 11, 14, 19, 7, 20, 3], (11, 3): [11, 14, 19, 7, 20, 3], (12, 3): [12, 25, 7, 20, 3], (13, 3): [13, 1, 18, 3]}\n",
      "{(1, 0): [1, 7, 19, 14, 21, 0], (2, 0): [2, 9, 0], (3, 0): [3, 20, 7, 19, 14, 21, 0], (4, 0): [4, 3, 20, 7, 19, 14, 21, 0], (5, 0): [5, 14, 21, 0], (6, 0): [6, 16, 8, 9, 0], (7, 0): [7, 19, 14, 21, 0], (8, 0): [8, 9, 0], (9, 0): [9, 0], (10, 0): [10, 2, 9, 0], (11, 0): [11, 14, 21, 0], (12, 0): [12, 6, 16, 8, 9, 0], (13, 0): [13, 5, 14, 21, 0], (14, 0): [14, 21, 0], (15, 0): [15, 14, 21, 0], (16, 0): [16, 8, 9, 0], (17, 0): [17, 22, 0], (18, 0): [18, 1, 7, 19, 14, 21, 0], (19, 0): [19, 14, 21, 0], (20, 0): [20, 7, 19, 14, 21, 0], (21, 0): [21, 0], (22, 0): [22, 0], (23, 0): [23, 3, 20, 7, 19, 14, 21, 0], (24, 0): [24, 25, 7, 19, 14, 21, 0], (25, 0): [25, 7, 19, 14, 21, 0], (0, 1): [0, 21, 14, 5, 13, 1], (2, 1): [2, 9, 8, 16, 19, 7, 1], (3, 1): [3, 18, 1], (4, 1): [4, 3, 18, 1], (5, 1): [5, 13, 1], (6, 1): [6, 12, 25, 7, 1], (7, 1): [7, 1], (8, 1): [8, 16, 19, 7, 1], (9, 1): [9, 8, 16, 19, 7, 1], (10, 1): [10, 17, 11, 14, 5, 13, 1], (11, 1): [11, 14, 5, 13, 1], (12, 1): [12, 25, 7, 1], (13, 1): [13, 1], (14, 1): [14, 5, 13, 1], (15, 1): [15, 14, 5, 13, 1], (16, 1): [16, 19, 7, 1], (17, 1): [17, 11, 14, 5, 13, 1], (18, 1): [18, 1], (19, 1): [19, 7, 1], (20, 1): [20, 7, 1], (21, 1): [21, 14, 5, 13, 1], (22, 1): [22, 0, 21, 14, 5, 13, 1], (23, 1): [23, 18, 1], (24, 1): [24, 25, 7, 1], (25, 1): [25, 7, 1], (0, 2): [0, 9, 2], (1, 2): [1, 7, 19, 16, 8, 9, 2], (3, 2): [3, 20, 7, 19, 16, 8, 9, 2], (4, 2): [4, 3, 20, 7, 19, 16, 8, 9, 2], (5, 2): [5, 14, 11, 17, 10, 2], (6, 2): [6, 16, 8, 9, 2], (7, 2): [7, 19, 16, 8, 9, 2], (8, 2): [8, 9, 2], (9, 2): [9, 2], (10, 2): [10, 2], (11, 2): [11, 17, 10, 2], (12, 2): [12, 6, 16, 8, 9, 2], (13, 2): [13, 19, 16, 8, 9, 2], (14, 2): [14, 11, 17, 10, 2], (15, 2): [15, 11, 17, 10, 2], (16, 2): [16, 8, 9, 2], (17, 2): [17, 10, 2], (18, 2): [18, 1, 7, 19, 16, 8, 9, 2], (19, 2): [19, 16, 8, 9, 2], (20, 2): [20, 7, 19, 16, 8, 9, 2], (21, 2): [21, 0, 9, 2], (22, 2): [22, 0, 9, 2], (23, 2): [23, 3, 20, 7, 19, 16, 8, 9, 2], (24, 2): [24, 25, 7, 19, 16, 8, 9, 2], (25, 2): [25, 7, 19, 16, 8, 9, 2], (0, 3): [0, 21, 14, 19, 7, 20, 3], (1, 3): [1, 18, 3], (2, 3): [2, 9, 8, 16, 19, 7, 20, 3], (4, 3): [4, 3], (5, 3): [5, 13, 1, 18, 3], (6, 3): [6, 12, 25, 7, 20, 3], (7, 3): [7, 20, 3], (8, 3): [8, 16, 19, 7, 20, 3], (9, 3): [9, 8, 16, 19, 7, 20, 3], (10, 3): [10, 17, 11, 14, 19, 7, 20, 3], (11, 3): [11, 14, 19, 7, 20, 3], (12, 3): [12, 25, 7, 20, 3], (13, 3): [13, 1, 18, 3], (14, 3): [14, 19, 7, 20, 3]}\n",
      "{(1, 0): [1, 7, 19, 14, 21, 0], (2, 0): [2, 9, 0], (3, 0): [3, 20, 7, 19, 14, 21, 0], (4, 0): [4, 3, 20, 7, 19, 14, 21, 0], (5, 0): [5, 14, 21, 0], (6, 0): [6, 16, 8, 9, 0], (7, 0): [7, 19, 14, 21, 0], (8, 0): [8, 9, 0], (9, 0): [9, 0], (10, 0): [10, 2, 9, 0], (11, 0): [11, 14, 21, 0], (12, 0): [12, 6, 16, 8, 9, 0], (13, 0): [13, 5, 14, 21, 0], (14, 0): [14, 21, 0], (15, 0): [15, 14, 21, 0], (16, 0): [16, 8, 9, 0], (17, 0): [17, 22, 0], (18, 0): [18, 1, 7, 19, 14, 21, 0], (19, 0): [19, 14, 21, 0], (20, 0): [20, 7, 19, 14, 21, 0], (21, 0): [21, 0], (22, 0): [22, 0], (23, 0): [23, 3, 20, 7, 19, 14, 21, 0], (24, 0): [24, 25, 7, 19, 14, 21, 0], (25, 0): [25, 7, 19, 14, 21, 0], (0, 1): [0, 21, 14, 5, 13, 1], (2, 1): [2, 9, 8, 16, 19, 7, 1], (3, 1): [3, 18, 1], (4, 1): [4, 3, 18, 1], (5, 1): [5, 13, 1], (6, 1): [6, 12, 25, 7, 1], (7, 1): [7, 1], (8, 1): [8, 16, 19, 7, 1], (9, 1): [9, 8, 16, 19, 7, 1], (10, 1): [10, 17, 11, 14, 5, 13, 1], (11, 1): [11, 14, 5, 13, 1], (12, 1): [12, 25, 7, 1], (13, 1): [13, 1], (14, 1): [14, 5, 13, 1], (15, 1): [15, 14, 5, 13, 1], (16, 1): [16, 19, 7, 1], (17, 1): [17, 11, 14, 5, 13, 1], (18, 1): [18, 1], (19, 1): [19, 7, 1], (20, 1): [20, 7, 1], (21, 1): [21, 14, 5, 13, 1], (22, 1): [22, 0, 21, 14, 5, 13, 1], (23, 1): [23, 18, 1], (24, 1): [24, 25, 7, 1], (25, 1): [25, 7, 1], (0, 2): [0, 9, 2], (1, 2): [1, 7, 19, 16, 8, 9, 2], (3, 2): [3, 20, 7, 19, 16, 8, 9, 2], (4, 2): [4, 3, 20, 7, 19, 16, 8, 9, 2], (5, 2): [5, 14, 11, 17, 10, 2], (6, 2): [6, 16, 8, 9, 2], (7, 2): [7, 19, 16, 8, 9, 2], (8, 2): [8, 9, 2], (9, 2): [9, 2], (10, 2): [10, 2], (11, 2): [11, 17, 10, 2], (12, 2): [12, 6, 16, 8, 9, 2], (13, 2): [13, 19, 16, 8, 9, 2], (14, 2): [14, 11, 17, 10, 2], (15, 2): [15, 11, 17, 10, 2], (16, 2): [16, 8, 9, 2], (17, 2): [17, 10, 2], (18, 2): [18, 1, 7, 19, 16, 8, 9, 2], (19, 2): [19, 16, 8, 9, 2], (20, 2): [20, 7, 19, 16, 8, 9, 2], (21, 2): [21, 0, 9, 2], (22, 2): [22, 0, 9, 2], (23, 2): [23, 3, 20, 7, 19, 16, 8, 9, 2], (24, 2): [24, 25, 7, 19, 16, 8, 9, 2], (25, 2): [25, 7, 19, 16, 8, 9, 2], (0, 3): [0, 21, 14, 19, 7, 20, 3], (1, 3): [1, 18, 3], (2, 3): [2, 9, 8, 16, 19, 7, 20, 3], (4, 3): [4, 3], (5, 3): [5, 13, 1, 18, 3], (6, 3): [6, 12, 25, 7, 20, 3], (7, 3): [7, 20, 3], (8, 3): [8, 16, 19, 7, 20, 3], (9, 3): [9, 8, 16, 19, 7, 20, 3], (10, 3): [10, 17, 11, 14, 19, 7, 20, 3], (11, 3): [11, 14, 19, 7, 20, 3], (12, 3): [12, 25, 7, 20, 3], (13, 3): [13, 1, 18, 3], (14, 3): [14, 19, 7, 20, 3], (15, 3): [15, 14, 19, 7, 20, 3]}\n",
      "{(1, 0): [1, 7, 19, 14, 21, 0], (2, 0): [2, 9, 0], (3, 0): [3, 20, 7, 19, 14, 21, 0], (4, 0): [4, 3, 20, 7, 19, 14, 21, 0], (5, 0): [5, 14, 21, 0], (6, 0): [6, 16, 8, 9, 0], (7, 0): [7, 19, 14, 21, 0], (8, 0): [8, 9, 0], (9, 0): [9, 0], (10, 0): [10, 2, 9, 0], (11, 0): [11, 14, 21, 0], (12, 0): [12, 6, 16, 8, 9, 0], (13, 0): [13, 5, 14, 21, 0], (14, 0): [14, 21, 0], (15, 0): [15, 14, 21, 0], (16, 0): [16, 8, 9, 0], (17, 0): [17, 22, 0], (18, 0): [18, 1, 7, 19, 14, 21, 0], (19, 0): [19, 14, 21, 0], (20, 0): [20, 7, 19, 14, 21, 0], (21, 0): [21, 0], (22, 0): [22, 0], (23, 0): [23, 3, 20, 7, 19, 14, 21, 0], (24, 0): [24, 25, 7, 19, 14, 21, 0], (25, 0): [25, 7, 19, 14, 21, 0], (0, 1): [0, 21, 14, 5, 13, 1], (2, 1): [2, 9, 8, 16, 19, 7, 1], (3, 1): [3, 18, 1], (4, 1): [4, 3, 18, 1], (5, 1): [5, 13, 1], (6, 1): [6, 12, 25, 7, 1], (7, 1): [7, 1], (8, 1): [8, 16, 19, 7, 1], (9, 1): [9, 8, 16, 19, 7, 1], (10, 1): [10, 17, 11, 14, 5, 13, 1], (11, 1): [11, 14, 5, 13, 1], (12, 1): [12, 25, 7, 1], (13, 1): [13, 1], (14, 1): [14, 5, 13, 1], (15, 1): [15, 14, 5, 13, 1], (16, 1): [16, 19, 7, 1], (17, 1): [17, 11, 14, 5, 13, 1], (18, 1): [18, 1], (19, 1): [19, 7, 1], (20, 1): [20, 7, 1], (21, 1): [21, 14, 5, 13, 1], (22, 1): [22, 0, 21, 14, 5, 13, 1], (23, 1): [23, 18, 1], (24, 1): [24, 25, 7, 1], (25, 1): [25, 7, 1], (0, 2): [0, 9, 2], (1, 2): [1, 7, 19, 16, 8, 9, 2], (3, 2): [3, 20, 7, 19, 16, 8, 9, 2], (4, 2): [4, 3, 20, 7, 19, 16, 8, 9, 2], (5, 2): [5, 14, 11, 17, 10, 2], (6, 2): [6, 16, 8, 9, 2], (7, 2): [7, 19, 16, 8, 9, 2], (8, 2): [8, 9, 2], (9, 2): [9, 2], (10, 2): [10, 2], (11, 2): [11, 17, 10, 2], (12, 2): [12, 6, 16, 8, 9, 2], (13, 2): [13, 19, 16, 8, 9, 2], (14, 2): [14, 11, 17, 10, 2], (15, 2): [15, 11, 17, 10, 2], (16, 2): [16, 8, 9, 2], (17, 2): [17, 10, 2], (18, 2): [18, 1, 7, 19, 16, 8, 9, 2], (19, 2): [19, 16, 8, 9, 2], (20, 2): [20, 7, 19, 16, 8, 9, 2], (21, 2): [21, 0, 9, 2], (22, 2): [22, 0, 9, 2], (23, 2): [23, 3, 20, 7, 19, 16, 8, 9, 2], (24, 2): [24, 25, 7, 19, 16, 8, 9, 2], (25, 2): [25, 7, 19, 16, 8, 9, 2], (0, 3): [0, 21, 14, 19, 7, 20, 3], (1, 3): [1, 18, 3], (2, 3): [2, 9, 8, 16, 19, 7, 20, 3], (4, 3): [4, 3], (5, 3): [5, 13, 1, 18, 3], (6, 3): [6, 12, 25, 7, 20, 3], (7, 3): [7, 20, 3], (8, 3): [8, 16, 19, 7, 20, 3], (9, 3): [9, 8, 16, 19, 7, 20, 3], (10, 3): [10, 17, 11, 14, 19, 7, 20, 3], (11, 3): [11, 14, 19, 7, 20, 3], (12, 3): [12, 25, 7, 20, 3], (13, 3): [13, 1, 18, 3], (14, 3): [14, 19, 7, 20, 3], (15, 3): [15, 14, 19, 7, 20, 3], (16, 3): [16, 19, 7, 20, 3]}\n",
      "{(1, 0): [1, 7, 19, 14, 21, 0], (2, 0): [2, 9, 0], (3, 0): [3, 20, 7, 19, 14, 21, 0], (4, 0): [4, 3, 20, 7, 19, 14, 21, 0], (5, 0): [5, 14, 21, 0], (6, 0): [6, 16, 8, 9, 0], (7, 0): [7, 19, 14, 21, 0], (8, 0): [8, 9, 0], (9, 0): [9, 0], (10, 0): [10, 2, 9, 0], (11, 0): [11, 14, 21, 0], (12, 0): [12, 6, 16, 8, 9, 0], (13, 0): [13, 5, 14, 21, 0], (14, 0): [14, 21, 0], (15, 0): [15, 14, 21, 0], (16, 0): [16, 8, 9, 0], (17, 0): [17, 22, 0], (18, 0): [18, 1, 7, 19, 14, 21, 0], (19, 0): [19, 14, 21, 0], (20, 0): [20, 7, 19, 14, 21, 0], (21, 0): [21, 0], (22, 0): [22, 0], (23, 0): [23, 3, 20, 7, 19, 14, 21, 0], (24, 0): [24, 25, 7, 19, 14, 21, 0], (25, 0): [25, 7, 19, 14, 21, 0], (0, 1): [0, 21, 14, 5, 13, 1], (2, 1): [2, 9, 8, 16, 19, 7, 1], (3, 1): [3, 18, 1], (4, 1): [4, 3, 18, 1], (5, 1): [5, 13, 1], (6, 1): [6, 12, 25, 7, 1], (7, 1): [7, 1], (8, 1): [8, 16, 19, 7, 1], (9, 1): [9, 8, 16, 19, 7, 1], (10, 1): [10, 17, 11, 14, 5, 13, 1], (11, 1): [11, 14, 5, 13, 1], (12, 1): [12, 25, 7, 1], (13, 1): [13, 1], (14, 1): [14, 5, 13, 1], (15, 1): [15, 14, 5, 13, 1], (16, 1): [16, 19, 7, 1], (17, 1): [17, 11, 14, 5, 13, 1], (18, 1): [18, 1], (19, 1): [19, 7, 1], (20, 1): [20, 7, 1], (21, 1): [21, 14, 5, 13, 1], (22, 1): [22, 0, 21, 14, 5, 13, 1], (23, 1): [23, 18, 1], (24, 1): [24, 25, 7, 1], (25, 1): [25, 7, 1], (0, 2): [0, 9, 2], (1, 2): [1, 7, 19, 16, 8, 9, 2], (3, 2): [3, 20, 7, 19, 16, 8, 9, 2], (4, 2): [4, 3, 20, 7, 19, 16, 8, 9, 2], (5, 2): [5, 14, 11, 17, 10, 2], (6, 2): [6, 16, 8, 9, 2], (7, 2): [7, 19, 16, 8, 9, 2], (8, 2): [8, 9, 2], (9, 2): [9, 2], (10, 2): [10, 2], (11, 2): [11, 17, 10, 2], (12, 2): [12, 6, 16, 8, 9, 2], (13, 2): [13, 19, 16, 8, 9, 2], (14, 2): [14, 11, 17, 10, 2], (15, 2): [15, 11, 17, 10, 2], (16, 2): [16, 8, 9, 2], (17, 2): [17, 10, 2], (18, 2): [18, 1, 7, 19, 16, 8, 9, 2], (19, 2): [19, 16, 8, 9, 2], (20, 2): [20, 7, 19, 16, 8, 9, 2], (21, 2): [21, 0, 9, 2], (22, 2): [22, 0, 9, 2], (23, 2): [23, 3, 20, 7, 19, 16, 8, 9, 2], (24, 2): [24, 25, 7, 19, 16, 8, 9, 2], (25, 2): [25, 7, 19, 16, 8, 9, 2], (0, 3): [0, 21, 14, 19, 7, 20, 3], (1, 3): [1, 18, 3], (2, 3): [2, 9, 8, 16, 19, 7, 20, 3], (4, 3): [4, 3], (5, 3): [5, 13, 1, 18, 3], (6, 3): [6, 12, 25, 7, 20, 3], (7, 3): [7, 20, 3], (8, 3): [8, 16, 19, 7, 20, 3], (9, 3): [9, 8, 16, 19, 7, 20, 3], (10, 3): [10, 17, 11, 14, 19, 7, 20, 3], (11, 3): [11, 14, 19, 7, 20, 3], (12, 3): [12, 25, 7, 20, 3], (13, 3): [13, 1, 18, 3], (14, 3): [14, 19, 7, 20, 3], (15, 3): [15, 14, 19, 7, 20, 3], (16, 3): [16, 19, 7, 20, 3], (17, 3): [17, 11, 14, 19, 7, 20, 3]}\n",
      "{(1, 0): [1, 7, 19, 14, 21, 0], (2, 0): [2, 9, 0], (3, 0): [3, 20, 7, 19, 14, 21, 0], (4, 0): [4, 3, 20, 7, 19, 14, 21, 0], (5, 0): [5, 14, 21, 0], (6, 0): [6, 16, 8, 9, 0], (7, 0): [7, 19, 14, 21, 0], (8, 0): [8, 9, 0], (9, 0): [9, 0], (10, 0): [10, 2, 9, 0], (11, 0): [11, 14, 21, 0], (12, 0): [12, 6, 16, 8, 9, 0], (13, 0): [13, 5, 14, 21, 0], (14, 0): [14, 21, 0], (15, 0): [15, 14, 21, 0], (16, 0): [16, 8, 9, 0], (17, 0): [17, 22, 0], (18, 0): [18, 1, 7, 19, 14, 21, 0], (19, 0): [19, 14, 21, 0], (20, 0): [20, 7, 19, 14, 21, 0], (21, 0): [21, 0], (22, 0): [22, 0], (23, 0): [23, 3, 20, 7, 19, 14, 21, 0], (24, 0): [24, 25, 7, 19, 14, 21, 0], (25, 0): [25, 7, 19, 14, 21, 0], (0, 1): [0, 21, 14, 5, 13, 1], (2, 1): [2, 9, 8, 16, 19, 7, 1], (3, 1): [3, 18, 1], (4, 1): [4, 3, 18, 1], (5, 1): [5, 13, 1], (6, 1): [6, 12, 25, 7, 1], (7, 1): [7, 1], (8, 1): [8, 16, 19, 7, 1], (9, 1): [9, 8, 16, 19, 7, 1], (10, 1): [10, 17, 11, 14, 5, 13, 1], (11, 1): [11, 14, 5, 13, 1], (12, 1): [12, 25, 7, 1], (13, 1): [13, 1], (14, 1): [14, 5, 13, 1], (15, 1): [15, 14, 5, 13, 1], (16, 1): [16, 19, 7, 1], (17, 1): [17, 11, 14, 5, 13, 1], (18, 1): [18, 1], (19, 1): [19, 7, 1], (20, 1): [20, 7, 1], (21, 1): [21, 14, 5, 13, 1], (22, 1): [22, 0, 21, 14, 5, 13, 1], (23, 1): [23, 18, 1], (24, 1): [24, 25, 7, 1], (25, 1): [25, 7, 1], (0, 2): [0, 9, 2], (1, 2): [1, 7, 19, 16, 8, 9, 2], (3, 2): [3, 20, 7, 19, 16, 8, 9, 2], (4, 2): [4, 3, 20, 7, 19, 16, 8, 9, 2], (5, 2): [5, 14, 11, 17, 10, 2], (6, 2): [6, 16, 8, 9, 2], (7, 2): [7, 19, 16, 8, 9, 2], (8, 2): [8, 9, 2], (9, 2): [9, 2], (10, 2): [10, 2], (11, 2): [11, 17, 10, 2], (12, 2): [12, 6, 16, 8, 9, 2], (13, 2): [13, 19, 16, 8, 9, 2], (14, 2): [14, 11, 17, 10, 2], (15, 2): [15, 11, 17, 10, 2], (16, 2): [16, 8, 9, 2], (17, 2): [17, 10, 2], (18, 2): [18, 1, 7, 19, 16, 8, 9, 2], (19, 2): [19, 16, 8, 9, 2], (20, 2): [20, 7, 19, 16, 8, 9, 2], (21, 2): [21, 0, 9, 2], (22, 2): [22, 0, 9, 2], (23, 2): [23, 3, 20, 7, 19, 16, 8, 9, 2], (24, 2): [24, 25, 7, 19, 16, 8, 9, 2], (25, 2): [25, 7, 19, 16, 8, 9, 2], (0, 3): [0, 21, 14, 19, 7, 20, 3], (1, 3): [1, 18, 3], (2, 3): [2, 9, 8, 16, 19, 7, 20, 3], (4, 3): [4, 3], (5, 3): [5, 13, 1, 18, 3], (6, 3): [6, 12, 25, 7, 20, 3], (7, 3): [7, 20, 3], (8, 3): [8, 16, 19, 7, 20, 3], (9, 3): [9, 8, 16, 19, 7, 20, 3], (10, 3): [10, 17, 11, 14, 19, 7, 20, 3], (11, 3): [11, 14, 19, 7, 20, 3], (12, 3): [12, 25, 7, 20, 3], (13, 3): [13, 1, 18, 3], (14, 3): [14, 19, 7, 20, 3], (15, 3): [15, 14, 19, 7, 20, 3], (16, 3): [16, 19, 7, 20, 3], (17, 3): [17, 11, 14, 19, 7, 20, 3], (18, 3): [18, 3]}\n",
      "{(1, 0): [1, 7, 19, 14, 21, 0], (2, 0): [2, 9, 0], (3, 0): [3, 20, 7, 19, 14, 21, 0], (4, 0): [4, 3, 20, 7, 19, 14, 21, 0], (5, 0): [5, 14, 21, 0], (6, 0): [6, 16, 8, 9, 0], (7, 0): [7, 19, 14, 21, 0], (8, 0): [8, 9, 0], (9, 0): [9, 0], (10, 0): [10, 2, 9, 0], (11, 0): [11, 14, 21, 0], (12, 0): [12, 6, 16, 8, 9, 0], (13, 0): [13, 5, 14, 21, 0], (14, 0): [14, 21, 0], (15, 0): [15, 14, 21, 0], (16, 0): [16, 8, 9, 0], (17, 0): [17, 22, 0], (18, 0): [18, 1, 7, 19, 14, 21, 0], (19, 0): [19, 14, 21, 0], (20, 0): [20, 7, 19, 14, 21, 0], (21, 0): [21, 0], (22, 0): [22, 0], (23, 0): [23, 3, 20, 7, 19, 14, 21, 0], (24, 0): [24, 25, 7, 19, 14, 21, 0], (25, 0): [25, 7, 19, 14, 21, 0], (0, 1): [0, 21, 14, 5, 13, 1], (2, 1): [2, 9, 8, 16, 19, 7, 1], (3, 1): [3, 18, 1], (4, 1): [4, 3, 18, 1], (5, 1): [5, 13, 1], (6, 1): [6, 12, 25, 7, 1], (7, 1): [7, 1], (8, 1): [8, 16, 19, 7, 1], (9, 1): [9, 8, 16, 19, 7, 1], (10, 1): [10, 17, 11, 14, 5, 13, 1], (11, 1): [11, 14, 5, 13, 1], (12, 1): [12, 25, 7, 1], (13, 1): [13, 1], (14, 1): [14, 5, 13, 1], (15, 1): [15, 14, 5, 13, 1], (16, 1): [16, 19, 7, 1], (17, 1): [17, 11, 14, 5, 13, 1], (18, 1): [18, 1], (19, 1): [19, 7, 1], (20, 1): [20, 7, 1], (21, 1): [21, 14, 5, 13, 1], (22, 1): [22, 0, 21, 14, 5, 13, 1], (23, 1): [23, 18, 1], (24, 1): [24, 25, 7, 1], (25, 1): [25, 7, 1], (0, 2): [0, 9, 2], (1, 2): [1, 7, 19, 16, 8, 9, 2], (3, 2): [3, 20, 7, 19, 16, 8, 9, 2], (4, 2): [4, 3, 20, 7, 19, 16, 8, 9, 2], (5, 2): [5, 14, 11, 17, 10, 2], (6, 2): [6, 16, 8, 9, 2], (7, 2): [7, 19, 16, 8, 9, 2], (8, 2): [8, 9, 2], (9, 2): [9, 2], (10, 2): [10, 2], (11, 2): [11, 17, 10, 2], (12, 2): [12, 6, 16, 8, 9, 2], (13, 2): [13, 19, 16, 8, 9, 2], (14, 2): [14, 11, 17, 10, 2], (15, 2): [15, 11, 17, 10, 2], (16, 2): [16, 8, 9, 2], (17, 2): [17, 10, 2], (18, 2): [18, 1, 7, 19, 16, 8, 9, 2], (19, 2): [19, 16, 8, 9, 2], (20, 2): [20, 7, 19, 16, 8, 9, 2], (21, 2): [21, 0, 9, 2], (22, 2): [22, 0, 9, 2], (23, 2): [23, 3, 20, 7, 19, 16, 8, 9, 2], (24, 2): [24, 25, 7, 19, 16, 8, 9, 2], (25, 2): [25, 7, 19, 16, 8, 9, 2], (0, 3): [0, 21, 14, 19, 7, 20, 3], (1, 3): [1, 18, 3], (2, 3): [2, 9, 8, 16, 19, 7, 20, 3], (4, 3): [4, 3], (5, 3): [5, 13, 1, 18, 3], (6, 3): [6, 12, 25, 7, 20, 3], (7, 3): [7, 20, 3], (8, 3): [8, 16, 19, 7, 20, 3], (9, 3): [9, 8, 16, 19, 7, 20, 3], (10, 3): [10, 17, 11, 14, 19, 7, 20, 3], (11, 3): [11, 14, 19, 7, 20, 3], (12, 3): [12, 25, 7, 20, 3], (13, 3): [13, 1, 18, 3], (14, 3): [14, 19, 7, 20, 3], (15, 3): [15, 14, 19, 7, 20, 3], (16, 3): [16, 19, 7, 20, 3], (17, 3): [17, 11, 14, 19, 7, 20, 3], (18, 3): [18, 3], (19, 3): [19, 7, 20, 3]}\n",
      "{(1, 0): [1, 7, 19, 14, 21, 0], (2, 0): [2, 9, 0], (3, 0): [3, 20, 7, 19, 14, 21, 0], (4, 0): [4, 3, 20, 7, 19, 14, 21, 0], (5, 0): [5, 14, 21, 0], (6, 0): [6, 16, 8, 9, 0], (7, 0): [7, 19, 14, 21, 0], (8, 0): [8, 9, 0], (9, 0): [9, 0], (10, 0): [10, 2, 9, 0], (11, 0): [11, 14, 21, 0], (12, 0): [12, 6, 16, 8, 9, 0], (13, 0): [13, 5, 14, 21, 0], (14, 0): [14, 21, 0], (15, 0): [15, 14, 21, 0], (16, 0): [16, 8, 9, 0], (17, 0): [17, 22, 0], (18, 0): [18, 1, 7, 19, 14, 21, 0], (19, 0): [19, 14, 21, 0], (20, 0): [20, 7, 19, 14, 21, 0], (21, 0): [21, 0], (22, 0): [22, 0], (23, 0): [23, 3, 20, 7, 19, 14, 21, 0], (24, 0): [24, 25, 7, 19, 14, 21, 0], (25, 0): [25, 7, 19, 14, 21, 0], (0, 1): [0, 21, 14, 5, 13, 1], (2, 1): [2, 9, 8, 16, 19, 7, 1], (3, 1): [3, 18, 1], (4, 1): [4, 3, 18, 1], (5, 1): [5, 13, 1], (6, 1): [6, 12, 25, 7, 1], (7, 1): [7, 1], (8, 1): [8, 16, 19, 7, 1], (9, 1): [9, 8, 16, 19, 7, 1], (10, 1): [10, 17, 11, 14, 5, 13, 1], (11, 1): [11, 14, 5, 13, 1], (12, 1): [12, 25, 7, 1], (13, 1): [13, 1], (14, 1): [14, 5, 13, 1], (15, 1): [15, 14, 5, 13, 1], (16, 1): [16, 19, 7, 1], (17, 1): [17, 11, 14, 5, 13, 1], (18, 1): [18, 1], (19, 1): [19, 7, 1], (20, 1): [20, 7, 1], (21, 1): [21, 14, 5, 13, 1], (22, 1): [22, 0, 21, 14, 5, 13, 1], (23, 1): [23, 18, 1], (24, 1): [24, 25, 7, 1], (25, 1): [25, 7, 1], (0, 2): [0, 9, 2], (1, 2): [1, 7, 19, 16, 8, 9, 2], (3, 2): [3, 20, 7, 19, 16, 8, 9, 2], (4, 2): [4, 3, 20, 7, 19, 16, 8, 9, 2], (5, 2): [5, 14, 11, 17, 10, 2], (6, 2): [6, 16, 8, 9, 2], (7, 2): [7, 19, 16, 8, 9, 2], (8, 2): [8, 9, 2], (9, 2): [9, 2], (10, 2): [10, 2], (11, 2): [11, 17, 10, 2], (12, 2): [12, 6, 16, 8, 9, 2], (13, 2): [13, 19, 16, 8, 9, 2], (14, 2): [14, 11, 17, 10, 2], (15, 2): [15, 11, 17, 10, 2], (16, 2): [16, 8, 9, 2], (17, 2): [17, 10, 2], (18, 2): [18, 1, 7, 19, 16, 8, 9, 2], (19, 2): [19, 16, 8, 9, 2], (20, 2): [20, 7, 19, 16, 8, 9, 2], (21, 2): [21, 0, 9, 2], (22, 2): [22, 0, 9, 2], (23, 2): [23, 3, 20, 7, 19, 16, 8, 9, 2], (24, 2): [24, 25, 7, 19, 16, 8, 9, 2], (25, 2): [25, 7, 19, 16, 8, 9, 2], (0, 3): [0, 21, 14, 19, 7, 20, 3], (1, 3): [1, 18, 3], (2, 3): [2, 9, 8, 16, 19, 7, 20, 3], (4, 3): [4, 3], (5, 3): [5, 13, 1, 18, 3], (6, 3): [6, 12, 25, 7, 20, 3], (7, 3): [7, 20, 3], (8, 3): [8, 16, 19, 7, 20, 3], (9, 3): [9, 8, 16, 19, 7, 20, 3], (10, 3): [10, 17, 11, 14, 19, 7, 20, 3], (11, 3): [11, 14, 19, 7, 20, 3], (12, 3): [12, 25, 7, 20, 3], (13, 3): [13, 1, 18, 3], (14, 3): [14, 19, 7, 20, 3], (15, 3): [15, 14, 19, 7, 20, 3], (16, 3): [16, 19, 7, 20, 3], (17, 3): [17, 11, 14, 19, 7, 20, 3], (18, 3): [18, 3], (19, 3): [19, 7, 20, 3], (20, 3): [20, 3]}\n",
      "{(1, 0): [1, 7, 19, 14, 21, 0], (2, 0): [2, 9, 0], (3, 0): [3, 20, 7, 19, 14, 21, 0], (4, 0): [4, 3, 20, 7, 19, 14, 21, 0], (5, 0): [5, 14, 21, 0], (6, 0): [6, 16, 8, 9, 0], (7, 0): [7, 19, 14, 21, 0], (8, 0): [8, 9, 0], (9, 0): [9, 0], (10, 0): [10, 2, 9, 0], (11, 0): [11, 14, 21, 0], (12, 0): [12, 6, 16, 8, 9, 0], (13, 0): [13, 5, 14, 21, 0], (14, 0): [14, 21, 0], (15, 0): [15, 14, 21, 0], (16, 0): [16, 8, 9, 0], (17, 0): [17, 22, 0], (18, 0): [18, 1, 7, 19, 14, 21, 0], (19, 0): [19, 14, 21, 0], (20, 0): [20, 7, 19, 14, 21, 0], (21, 0): [21, 0], (22, 0): [22, 0], (23, 0): [23, 3, 20, 7, 19, 14, 21, 0], (24, 0): [24, 25, 7, 19, 14, 21, 0], (25, 0): [25, 7, 19, 14, 21, 0], (0, 1): [0, 21, 14, 5, 13, 1], (2, 1): [2, 9, 8, 16, 19, 7, 1], (3, 1): [3, 18, 1], (4, 1): [4, 3, 18, 1], (5, 1): [5, 13, 1], (6, 1): [6, 12, 25, 7, 1], (7, 1): [7, 1], (8, 1): [8, 16, 19, 7, 1], (9, 1): [9, 8, 16, 19, 7, 1], (10, 1): [10, 17, 11, 14, 5, 13, 1], (11, 1): [11, 14, 5, 13, 1], (12, 1): [12, 25, 7, 1], (13, 1): [13, 1], (14, 1): [14, 5, 13, 1], (15, 1): [15, 14, 5, 13, 1], (16, 1): [16, 19, 7, 1], (17, 1): [17, 11, 14, 5, 13, 1], (18, 1): [18, 1], (19, 1): [19, 7, 1], (20, 1): [20, 7, 1], (21, 1): [21, 14, 5, 13, 1], (22, 1): [22, 0, 21, 14, 5, 13, 1], (23, 1): [23, 18, 1], (24, 1): [24, 25, 7, 1], (25, 1): [25, 7, 1], (0, 2): [0, 9, 2], (1, 2): [1, 7, 19, 16, 8, 9, 2], (3, 2): [3, 20, 7, 19, 16, 8, 9, 2], (4, 2): [4, 3, 20, 7, 19, 16, 8, 9, 2], (5, 2): [5, 14, 11, 17, 10, 2], (6, 2): [6, 16, 8, 9, 2], (7, 2): [7, 19, 16, 8, 9, 2], (8, 2): [8, 9, 2], (9, 2): [9, 2], (10, 2): [10, 2], (11, 2): [11, 17, 10, 2], (12, 2): [12, 6, 16, 8, 9, 2], (13, 2): [13, 19, 16, 8, 9, 2], (14, 2): [14, 11, 17, 10, 2], (15, 2): [15, 11, 17, 10, 2], (16, 2): [16, 8, 9, 2], (17, 2): [17, 10, 2], (18, 2): [18, 1, 7, 19, 16, 8, 9, 2], (19, 2): [19, 16, 8, 9, 2], (20, 2): [20, 7, 19, 16, 8, 9, 2], (21, 2): [21, 0, 9, 2], (22, 2): [22, 0, 9, 2], (23, 2): [23, 3, 20, 7, 19, 16, 8, 9, 2], (24, 2): [24, 25, 7, 19, 16, 8, 9, 2], (25, 2): [25, 7, 19, 16, 8, 9, 2], (0, 3): [0, 21, 14, 19, 7, 20, 3], (1, 3): [1, 18, 3], (2, 3): [2, 9, 8, 16, 19, 7, 20, 3], (4, 3): [4, 3], (5, 3): [5, 13, 1, 18, 3], (6, 3): [6, 12, 25, 7, 20, 3], (7, 3): [7, 20, 3], (8, 3): [8, 16, 19, 7, 20, 3], (9, 3): [9, 8, 16, 19, 7, 20, 3], (10, 3): [10, 17, 11, 14, 19, 7, 20, 3], (11, 3): [11, 14, 19, 7, 20, 3], (12, 3): [12, 25, 7, 20, 3], (13, 3): [13, 1, 18, 3], (14, 3): [14, 19, 7, 20, 3], (15, 3): [15, 14, 19, 7, 20, 3], (16, 3): [16, 19, 7, 20, 3], (17, 3): [17, 11, 14, 19, 7, 20, 3], (18, 3): [18, 3], (19, 3): [19, 7, 20, 3], (20, 3): [20, 3], (21, 3): [21, 14, 19, 7, 20, 3]}\n",
      "{(1, 0): [1, 7, 19, 14, 21, 0], (2, 0): [2, 9, 0], (3, 0): [3, 20, 7, 19, 14, 21, 0], (4, 0): [4, 3, 20, 7, 19, 14, 21, 0], (5, 0): [5, 14, 21, 0], (6, 0): [6, 16, 8, 9, 0], (7, 0): [7, 19, 14, 21, 0], (8, 0): [8, 9, 0], (9, 0): [9, 0], (10, 0): [10, 2, 9, 0], (11, 0): [11, 14, 21, 0], (12, 0): [12, 6, 16, 8, 9, 0], (13, 0): [13, 5, 14, 21, 0], (14, 0): [14, 21, 0], (15, 0): [15, 14, 21, 0], (16, 0): [16, 8, 9, 0], (17, 0): [17, 22, 0], (18, 0): [18, 1, 7, 19, 14, 21, 0], (19, 0): [19, 14, 21, 0], (20, 0): [20, 7, 19, 14, 21, 0], (21, 0): [21, 0], (22, 0): [22, 0], (23, 0): [23, 3, 20, 7, 19, 14, 21, 0], (24, 0): [24, 25, 7, 19, 14, 21, 0], (25, 0): [25, 7, 19, 14, 21, 0], (0, 1): [0, 21, 14, 5, 13, 1], (2, 1): [2, 9, 8, 16, 19, 7, 1], (3, 1): [3, 18, 1], (4, 1): [4, 3, 18, 1], (5, 1): [5, 13, 1], (6, 1): [6, 12, 25, 7, 1], (7, 1): [7, 1], (8, 1): [8, 16, 19, 7, 1], (9, 1): [9, 8, 16, 19, 7, 1], (10, 1): [10, 17, 11, 14, 5, 13, 1], (11, 1): [11, 14, 5, 13, 1], (12, 1): [12, 25, 7, 1], (13, 1): [13, 1], (14, 1): [14, 5, 13, 1], (15, 1): [15, 14, 5, 13, 1], (16, 1): [16, 19, 7, 1], (17, 1): [17, 11, 14, 5, 13, 1], (18, 1): [18, 1], (19, 1): [19, 7, 1], (20, 1): [20, 7, 1], (21, 1): [21, 14, 5, 13, 1], (22, 1): [22, 0, 21, 14, 5, 13, 1], (23, 1): [23, 18, 1], (24, 1): [24, 25, 7, 1], (25, 1): [25, 7, 1], (0, 2): [0, 9, 2], (1, 2): [1, 7, 19, 16, 8, 9, 2], (3, 2): [3, 20, 7, 19, 16, 8, 9, 2], (4, 2): [4, 3, 20, 7, 19, 16, 8, 9, 2], (5, 2): [5, 14, 11, 17, 10, 2], (6, 2): [6, 16, 8, 9, 2], (7, 2): [7, 19, 16, 8, 9, 2], (8, 2): [8, 9, 2], (9, 2): [9, 2], (10, 2): [10, 2], (11, 2): [11, 17, 10, 2], (12, 2): [12, 6, 16, 8, 9, 2], (13, 2): [13, 19, 16, 8, 9, 2], (14, 2): [14, 11, 17, 10, 2], (15, 2): [15, 11, 17, 10, 2], (16, 2): [16, 8, 9, 2], (17, 2): [17, 10, 2], (18, 2): [18, 1, 7, 19, 16, 8, 9, 2], (19, 2): [19, 16, 8, 9, 2], (20, 2): [20, 7, 19, 16, 8, 9, 2], (21, 2): [21, 0, 9, 2], (22, 2): [22, 0, 9, 2], (23, 2): [23, 3, 20, 7, 19, 16, 8, 9, 2], (24, 2): [24, 25, 7, 19, 16, 8, 9, 2], (25, 2): [25, 7, 19, 16, 8, 9, 2], (0, 3): [0, 21, 14, 19, 7, 20, 3], (1, 3): [1, 18, 3], (2, 3): [2, 9, 8, 16, 19, 7, 20, 3], (4, 3): [4, 3], (5, 3): [5, 13, 1, 18, 3], (6, 3): [6, 12, 25, 7, 20, 3], (7, 3): [7, 20, 3], (8, 3): [8, 16, 19, 7, 20, 3], (9, 3): [9, 8, 16, 19, 7, 20, 3], (10, 3): [10, 17, 11, 14, 19, 7, 20, 3], (11, 3): [11, 14, 19, 7, 20, 3], (12, 3): [12, 25, 7, 20, 3], (13, 3): [13, 1, 18, 3], (14, 3): [14, 19, 7, 20, 3], (15, 3): [15, 14, 19, 7, 20, 3], (16, 3): [16, 19, 7, 20, 3], (17, 3): [17, 11, 14, 19, 7, 20, 3], (18, 3): [18, 3], (19, 3): [19, 7, 20, 3], (20, 3): [20, 3], (21, 3): [21, 14, 19, 7, 20, 3], (22, 3): [22, 0, 21, 14, 19, 7, 20, 3]}\n",
      "{(1, 0): [1, 7, 19, 14, 21, 0], (2, 0): [2, 9, 0], (3, 0): [3, 20, 7, 19, 14, 21, 0], (4, 0): [4, 3, 20, 7, 19, 14, 21, 0], (5, 0): [5, 14, 21, 0], (6, 0): [6, 16, 8, 9, 0], (7, 0): [7, 19, 14, 21, 0], (8, 0): [8, 9, 0], (9, 0): [9, 0], (10, 0): [10, 2, 9, 0], (11, 0): [11, 14, 21, 0], (12, 0): [12, 6, 16, 8, 9, 0], (13, 0): [13, 5, 14, 21, 0], (14, 0): [14, 21, 0], (15, 0): [15, 14, 21, 0], (16, 0): [16, 8, 9, 0], (17, 0): [17, 22, 0], (18, 0): [18, 1, 7, 19, 14, 21, 0], (19, 0): [19, 14, 21, 0], (20, 0): [20, 7, 19, 14, 21, 0], (21, 0): [21, 0], (22, 0): [22, 0], (23, 0): [23, 3, 20, 7, 19, 14, 21, 0], (24, 0): [24, 25, 7, 19, 14, 21, 0], (25, 0): [25, 7, 19, 14, 21, 0], (0, 1): [0, 21, 14, 5, 13, 1], (2, 1): [2, 9, 8, 16, 19, 7, 1], (3, 1): [3, 18, 1], (4, 1): [4, 3, 18, 1], (5, 1): [5, 13, 1], (6, 1): [6, 12, 25, 7, 1], (7, 1): [7, 1], (8, 1): [8, 16, 19, 7, 1], (9, 1): [9, 8, 16, 19, 7, 1], (10, 1): [10, 17, 11, 14, 5, 13, 1], (11, 1): [11, 14, 5, 13, 1], (12, 1): [12, 25, 7, 1], (13, 1): [13, 1], (14, 1): [14, 5, 13, 1], (15, 1): [15, 14, 5, 13, 1], (16, 1): [16, 19, 7, 1], (17, 1): [17, 11, 14, 5, 13, 1], (18, 1): [18, 1], (19, 1): [19, 7, 1], (20, 1): [20, 7, 1], (21, 1): [21, 14, 5, 13, 1], (22, 1): [22, 0, 21, 14, 5, 13, 1], (23, 1): [23, 18, 1], (24, 1): [24, 25, 7, 1], (25, 1): [25, 7, 1], (0, 2): [0, 9, 2], (1, 2): [1, 7, 19, 16, 8, 9, 2], (3, 2): [3, 20, 7, 19, 16, 8, 9, 2], (4, 2): [4, 3, 20, 7, 19, 16, 8, 9, 2], (5, 2): [5, 14, 11, 17, 10, 2], (6, 2): [6, 16, 8, 9, 2], (7, 2): [7, 19, 16, 8, 9, 2], (8, 2): [8, 9, 2], (9, 2): [9, 2], (10, 2): [10, 2], (11, 2): [11, 17, 10, 2], (12, 2): [12, 6, 16, 8, 9, 2], (13, 2): [13, 19, 16, 8, 9, 2], (14, 2): [14, 11, 17, 10, 2], (15, 2): [15, 11, 17, 10, 2], (16, 2): [16, 8, 9, 2], (17, 2): [17, 10, 2], (18, 2): [18, 1, 7, 19, 16, 8, 9, 2], (19, 2): [19, 16, 8, 9, 2], (20, 2): [20, 7, 19, 16, 8, 9, 2], (21, 2): [21, 0, 9, 2], (22, 2): [22, 0, 9, 2], (23, 2): [23, 3, 20, 7, 19, 16, 8, 9, 2], (24, 2): [24, 25, 7, 19, 16, 8, 9, 2], (25, 2): [25, 7, 19, 16, 8, 9, 2], (0, 3): [0, 21, 14, 19, 7, 20, 3], (1, 3): [1, 18, 3], (2, 3): [2, 9, 8, 16, 19, 7, 20, 3], (4, 3): [4, 3], (5, 3): [5, 13, 1, 18, 3], (6, 3): [6, 12, 25, 7, 20, 3], (7, 3): [7, 20, 3], (8, 3): [8, 16, 19, 7, 20, 3], (9, 3): [9, 8, 16, 19, 7, 20, 3], (10, 3): [10, 17, 11, 14, 19, 7, 20, 3], (11, 3): [11, 14, 19, 7, 20, 3], (12, 3): [12, 25, 7, 20, 3], (13, 3): [13, 1, 18, 3], (14, 3): [14, 19, 7, 20, 3], (15, 3): [15, 14, 19, 7, 20, 3], (16, 3): [16, 19, 7, 20, 3], (17, 3): [17, 11, 14, 19, 7, 20, 3], (18, 3): [18, 3], (19, 3): [19, 7, 20, 3], (20, 3): [20, 3], (21, 3): [21, 14, 19, 7, 20, 3], (22, 3): [22, 0, 21, 14, 19, 7, 20, 3], (23, 3): [23, 3]}\n",
      "{(1, 0): [1, 7, 19, 14, 21, 0], (2, 0): [2, 9, 0], (3, 0): [3, 20, 7, 19, 14, 21, 0], (4, 0): [4, 3, 20, 7, 19, 14, 21, 0], (5, 0): [5, 14, 21, 0], (6, 0): [6, 16, 8, 9, 0], (7, 0): [7, 19, 14, 21, 0], (8, 0): [8, 9, 0], (9, 0): [9, 0], (10, 0): [10, 2, 9, 0], (11, 0): [11, 14, 21, 0], (12, 0): [12, 6, 16, 8, 9, 0], (13, 0): [13, 5, 14, 21, 0], (14, 0): [14, 21, 0], (15, 0): [15, 14, 21, 0], (16, 0): [16, 8, 9, 0], (17, 0): [17, 22, 0], (18, 0): [18, 1, 7, 19, 14, 21, 0], (19, 0): [19, 14, 21, 0], (20, 0): [20, 7, 19, 14, 21, 0], (21, 0): [21, 0], (22, 0): [22, 0], (23, 0): [23, 3, 20, 7, 19, 14, 21, 0], (24, 0): [24, 25, 7, 19, 14, 21, 0], (25, 0): [25, 7, 19, 14, 21, 0], (0, 1): [0, 21, 14, 5, 13, 1], (2, 1): [2, 9, 8, 16, 19, 7, 1], (3, 1): [3, 18, 1], (4, 1): [4, 3, 18, 1], (5, 1): [5, 13, 1], (6, 1): [6, 12, 25, 7, 1], (7, 1): [7, 1], (8, 1): [8, 16, 19, 7, 1], (9, 1): [9, 8, 16, 19, 7, 1], (10, 1): [10, 17, 11, 14, 5, 13, 1], (11, 1): [11, 14, 5, 13, 1], (12, 1): [12, 25, 7, 1], (13, 1): [13, 1], (14, 1): [14, 5, 13, 1], (15, 1): [15, 14, 5, 13, 1], (16, 1): [16, 19, 7, 1], (17, 1): [17, 11, 14, 5, 13, 1], (18, 1): [18, 1], (19, 1): [19, 7, 1], (20, 1): [20, 7, 1], (21, 1): [21, 14, 5, 13, 1], (22, 1): [22, 0, 21, 14, 5, 13, 1], (23, 1): [23, 18, 1], (24, 1): [24, 25, 7, 1], (25, 1): [25, 7, 1], (0, 2): [0, 9, 2], (1, 2): [1, 7, 19, 16, 8, 9, 2], (3, 2): [3, 20, 7, 19, 16, 8, 9, 2], (4, 2): [4, 3, 20, 7, 19, 16, 8, 9, 2], (5, 2): [5, 14, 11, 17, 10, 2], (6, 2): [6, 16, 8, 9, 2], (7, 2): [7, 19, 16, 8, 9, 2], (8, 2): [8, 9, 2], (9, 2): [9, 2], (10, 2): [10, 2], (11, 2): [11, 17, 10, 2], (12, 2): [12, 6, 16, 8, 9, 2], (13, 2): [13, 19, 16, 8, 9, 2], (14, 2): [14, 11, 17, 10, 2], (15, 2): [15, 11, 17, 10, 2], (16, 2): [16, 8, 9, 2], (17, 2): [17, 10, 2], (18, 2): [18, 1, 7, 19, 16, 8, 9, 2], (19, 2): [19, 16, 8, 9, 2], (20, 2): [20, 7, 19, 16, 8, 9, 2], (21, 2): [21, 0, 9, 2], (22, 2): [22, 0, 9, 2], (23, 2): [23, 3, 20, 7, 19, 16, 8, 9, 2], (24, 2): [24, 25, 7, 19, 16, 8, 9, 2], (25, 2): [25, 7, 19, 16, 8, 9, 2], (0, 3): [0, 21, 14, 19, 7, 20, 3], (1, 3): [1, 18, 3], (2, 3): [2, 9, 8, 16, 19, 7, 20, 3], (4, 3): [4, 3], (5, 3): [5, 13, 1, 18, 3], (6, 3): [6, 12, 25, 7, 20, 3], (7, 3): [7, 20, 3], (8, 3): [8, 16, 19, 7, 20, 3], (9, 3): [9, 8, 16, 19, 7, 20, 3], (10, 3): [10, 17, 11, 14, 19, 7, 20, 3], (11, 3): [11, 14, 19, 7, 20, 3], (12, 3): [12, 25, 7, 20, 3], (13, 3): [13, 1, 18, 3], (14, 3): [14, 19, 7, 20, 3], (15, 3): [15, 14, 19, 7, 20, 3], (16, 3): [16, 19, 7, 20, 3], (17, 3): [17, 11, 14, 19, 7, 20, 3], (18, 3): [18, 3], (19, 3): [19, 7, 20, 3], (20, 3): [20, 3], (21, 3): [21, 14, 19, 7, 20, 3], (22, 3): [22, 0, 21, 14, 19, 7, 20, 3], (23, 3): [23, 3], (24, 3): [24, 4, 3]}\n",
      "{(1, 0): [1, 7, 19, 14, 21, 0], (2, 0): [2, 9, 0], (3, 0): [3, 20, 7, 19, 14, 21, 0], (4, 0): [4, 3, 20, 7, 19, 14, 21, 0], (5, 0): [5, 14, 21, 0], (6, 0): [6, 16, 8, 9, 0], (7, 0): [7, 19, 14, 21, 0], (8, 0): [8, 9, 0], (9, 0): [9, 0], (10, 0): [10, 2, 9, 0], (11, 0): [11, 14, 21, 0], (12, 0): [12, 6, 16, 8, 9, 0], (13, 0): [13, 5, 14, 21, 0], (14, 0): [14, 21, 0], (15, 0): [15, 14, 21, 0], (16, 0): [16, 8, 9, 0], (17, 0): [17, 22, 0], (18, 0): [18, 1, 7, 19, 14, 21, 0], (19, 0): [19, 14, 21, 0], (20, 0): [20, 7, 19, 14, 21, 0], (21, 0): [21, 0], (22, 0): [22, 0], (23, 0): [23, 3, 20, 7, 19, 14, 21, 0], (24, 0): [24, 25, 7, 19, 14, 21, 0], (25, 0): [25, 7, 19, 14, 21, 0], (0, 1): [0, 21, 14, 5, 13, 1], (2, 1): [2, 9, 8, 16, 19, 7, 1], (3, 1): [3, 18, 1], (4, 1): [4, 3, 18, 1], (5, 1): [5, 13, 1], (6, 1): [6, 12, 25, 7, 1], (7, 1): [7, 1], (8, 1): [8, 16, 19, 7, 1], (9, 1): [9, 8, 16, 19, 7, 1], (10, 1): [10, 17, 11, 14, 5, 13, 1], (11, 1): [11, 14, 5, 13, 1], (12, 1): [12, 25, 7, 1], (13, 1): [13, 1], (14, 1): [14, 5, 13, 1], (15, 1): [15, 14, 5, 13, 1], (16, 1): [16, 19, 7, 1], (17, 1): [17, 11, 14, 5, 13, 1], (18, 1): [18, 1], (19, 1): [19, 7, 1], (20, 1): [20, 7, 1], (21, 1): [21, 14, 5, 13, 1], (22, 1): [22, 0, 21, 14, 5, 13, 1], (23, 1): [23, 18, 1], (24, 1): [24, 25, 7, 1], (25, 1): [25, 7, 1], (0, 2): [0, 9, 2], (1, 2): [1, 7, 19, 16, 8, 9, 2], (3, 2): [3, 20, 7, 19, 16, 8, 9, 2], (4, 2): [4, 3, 20, 7, 19, 16, 8, 9, 2], (5, 2): [5, 14, 11, 17, 10, 2], (6, 2): [6, 16, 8, 9, 2], (7, 2): [7, 19, 16, 8, 9, 2], (8, 2): [8, 9, 2], (9, 2): [9, 2], (10, 2): [10, 2], (11, 2): [11, 17, 10, 2], (12, 2): [12, 6, 16, 8, 9, 2], (13, 2): [13, 19, 16, 8, 9, 2], (14, 2): [14, 11, 17, 10, 2], (15, 2): [15, 11, 17, 10, 2], (16, 2): [16, 8, 9, 2], (17, 2): [17, 10, 2], (18, 2): [18, 1, 7, 19, 16, 8, 9, 2], (19, 2): [19, 16, 8, 9, 2], (20, 2): [20, 7, 19, 16, 8, 9, 2], (21, 2): [21, 0, 9, 2], (22, 2): [22, 0, 9, 2], (23, 2): [23, 3, 20, 7, 19, 16, 8, 9, 2], (24, 2): [24, 25, 7, 19, 16, 8, 9, 2], (25, 2): [25, 7, 19, 16, 8, 9, 2], (0, 3): [0, 21, 14, 19, 7, 20, 3], (1, 3): [1, 18, 3], (2, 3): [2, 9, 8, 16, 19, 7, 20, 3], (4, 3): [4, 3], (5, 3): [5, 13, 1, 18, 3], (6, 3): [6, 12, 25, 7, 20, 3], (7, 3): [7, 20, 3], (8, 3): [8, 16, 19, 7, 20, 3], (9, 3): [9, 8, 16, 19, 7, 20, 3], (10, 3): [10, 17, 11, 14, 19, 7, 20, 3], (11, 3): [11, 14, 19, 7, 20, 3], (12, 3): [12, 25, 7, 20, 3], (13, 3): [13, 1, 18, 3], (14, 3): [14, 19, 7, 20, 3], (15, 3): [15, 14, 19, 7, 20, 3], (16, 3): [16, 19, 7, 20, 3], (17, 3): [17, 11, 14, 19, 7, 20, 3], (18, 3): [18, 3], (19, 3): [19, 7, 20, 3], (20, 3): [20, 3], (21, 3): [21, 14, 19, 7, 20, 3], (22, 3): [22, 0, 21, 14, 19, 7, 20, 3], (23, 3): [23, 3], (24, 3): [24, 4, 3], (25, 3): [25, 7, 20, 3]}\n",
      "{(1, 0): [1, 7, 19, 14, 21, 0], (2, 0): [2, 9, 0], (3, 0): [3, 20, 7, 19, 14, 21, 0], (4, 0): [4, 3, 20, 7, 19, 14, 21, 0], (5, 0): [5, 14, 21, 0], (6, 0): [6, 16, 8, 9, 0], (7, 0): [7, 19, 14, 21, 0], (8, 0): [8, 9, 0], (9, 0): [9, 0], (10, 0): [10, 2, 9, 0], (11, 0): [11, 14, 21, 0], (12, 0): [12, 6, 16, 8, 9, 0], (13, 0): [13, 5, 14, 21, 0], (14, 0): [14, 21, 0], (15, 0): [15, 14, 21, 0], (16, 0): [16, 8, 9, 0], (17, 0): [17, 22, 0], (18, 0): [18, 1, 7, 19, 14, 21, 0], (19, 0): [19, 14, 21, 0], (20, 0): [20, 7, 19, 14, 21, 0], (21, 0): [21, 0], (22, 0): [22, 0], (23, 0): [23, 3, 20, 7, 19, 14, 21, 0], (24, 0): [24, 25, 7, 19, 14, 21, 0], (25, 0): [25, 7, 19, 14, 21, 0], (0, 1): [0, 21, 14, 5, 13, 1], (2, 1): [2, 9, 8, 16, 19, 7, 1], (3, 1): [3, 18, 1], (4, 1): [4, 3, 18, 1], (5, 1): [5, 13, 1], (6, 1): [6, 12, 25, 7, 1], (7, 1): [7, 1], (8, 1): [8, 16, 19, 7, 1], (9, 1): [9, 8, 16, 19, 7, 1], (10, 1): [10, 17, 11, 14, 5, 13, 1], (11, 1): [11, 14, 5, 13, 1], (12, 1): [12, 25, 7, 1], (13, 1): [13, 1], (14, 1): [14, 5, 13, 1], (15, 1): [15, 14, 5, 13, 1], (16, 1): [16, 19, 7, 1], (17, 1): [17, 11, 14, 5, 13, 1], (18, 1): [18, 1], (19, 1): [19, 7, 1], (20, 1): [20, 7, 1], (21, 1): [21, 14, 5, 13, 1], (22, 1): [22, 0, 21, 14, 5, 13, 1], (23, 1): [23, 18, 1], (24, 1): [24, 25, 7, 1], (25, 1): [25, 7, 1], (0, 2): [0, 9, 2], (1, 2): [1, 7, 19, 16, 8, 9, 2], (3, 2): [3, 20, 7, 19, 16, 8, 9, 2], (4, 2): [4, 3, 20, 7, 19, 16, 8, 9, 2], (5, 2): [5, 14, 11, 17, 10, 2], (6, 2): [6, 16, 8, 9, 2], (7, 2): [7, 19, 16, 8, 9, 2], (8, 2): [8, 9, 2], (9, 2): [9, 2], (10, 2): [10, 2], (11, 2): [11, 17, 10, 2], (12, 2): [12, 6, 16, 8, 9, 2], (13, 2): [13, 19, 16, 8, 9, 2], (14, 2): [14, 11, 17, 10, 2], (15, 2): [15, 11, 17, 10, 2], (16, 2): [16, 8, 9, 2], (17, 2): [17, 10, 2], (18, 2): [18, 1, 7, 19, 16, 8, 9, 2], (19, 2): [19, 16, 8, 9, 2], (20, 2): [20, 7, 19, 16, 8, 9, 2], (21, 2): [21, 0, 9, 2], (22, 2): [22, 0, 9, 2], (23, 2): [23, 3, 20, 7, 19, 16, 8, 9, 2], (24, 2): [24, 25, 7, 19, 16, 8, 9, 2], (25, 2): [25, 7, 19, 16, 8, 9, 2], (0, 3): [0, 21, 14, 19, 7, 20, 3], (1, 3): [1, 18, 3], (2, 3): [2, 9, 8, 16, 19, 7, 20, 3], (4, 3): [4, 3], (5, 3): [5, 13, 1, 18, 3], (6, 3): [6, 12, 25, 7, 20, 3], (7, 3): [7, 20, 3], (8, 3): [8, 16, 19, 7, 20, 3], (9, 3): [9, 8, 16, 19, 7, 20, 3], (10, 3): [10, 17, 11, 14, 19, 7, 20, 3], (11, 3): [11, 14, 19, 7, 20, 3], (12, 3): [12, 25, 7, 20, 3], (13, 3): [13, 1, 18, 3], (14, 3): [14, 19, 7, 20, 3], (15, 3): [15, 14, 19, 7, 20, 3], (16, 3): [16, 19, 7, 20, 3], (17, 3): [17, 11, 14, 19, 7, 20, 3], (18, 3): [18, 3], (19, 3): [19, 7, 20, 3], (20, 3): [20, 3], (21, 3): [21, 14, 19, 7, 20, 3], (22, 3): [22, 0, 21, 14, 19, 7, 20, 3], (23, 3): [23, 3], (24, 3): [24, 4, 3], (25, 3): [25, 7, 20, 3], (0, 4): [0, 21, 14, 19, 7, 20, 3, 4]}\n",
      "{(1, 0): [1, 7, 19, 14, 21, 0], (2, 0): [2, 9, 0], (3, 0): [3, 20, 7, 19, 14, 21, 0], (4, 0): [4, 3, 20, 7, 19, 14, 21, 0], (5, 0): [5, 14, 21, 0], (6, 0): [6, 16, 8, 9, 0], (7, 0): [7, 19, 14, 21, 0], (8, 0): [8, 9, 0], (9, 0): [9, 0], (10, 0): [10, 2, 9, 0], (11, 0): [11, 14, 21, 0], (12, 0): [12, 6, 16, 8, 9, 0], (13, 0): [13, 5, 14, 21, 0], (14, 0): [14, 21, 0], (15, 0): [15, 14, 21, 0], (16, 0): [16, 8, 9, 0], (17, 0): [17, 22, 0], (18, 0): [18, 1, 7, 19, 14, 21, 0], (19, 0): [19, 14, 21, 0], (20, 0): [20, 7, 19, 14, 21, 0], (21, 0): [21, 0], (22, 0): [22, 0], (23, 0): [23, 3, 20, 7, 19, 14, 21, 0], (24, 0): [24, 25, 7, 19, 14, 21, 0], (25, 0): [25, 7, 19, 14, 21, 0], (0, 1): [0, 21, 14, 5, 13, 1], (2, 1): [2, 9, 8, 16, 19, 7, 1], (3, 1): [3, 18, 1], (4, 1): [4, 3, 18, 1], (5, 1): [5, 13, 1], (6, 1): [6, 12, 25, 7, 1], (7, 1): [7, 1], (8, 1): [8, 16, 19, 7, 1], (9, 1): [9, 8, 16, 19, 7, 1], (10, 1): [10, 17, 11, 14, 5, 13, 1], (11, 1): [11, 14, 5, 13, 1], (12, 1): [12, 25, 7, 1], (13, 1): [13, 1], (14, 1): [14, 5, 13, 1], (15, 1): [15, 14, 5, 13, 1], (16, 1): [16, 19, 7, 1], (17, 1): [17, 11, 14, 5, 13, 1], (18, 1): [18, 1], (19, 1): [19, 7, 1], (20, 1): [20, 7, 1], (21, 1): [21, 14, 5, 13, 1], (22, 1): [22, 0, 21, 14, 5, 13, 1], (23, 1): [23, 18, 1], (24, 1): [24, 25, 7, 1], (25, 1): [25, 7, 1], (0, 2): [0, 9, 2], (1, 2): [1, 7, 19, 16, 8, 9, 2], (3, 2): [3, 20, 7, 19, 16, 8, 9, 2], (4, 2): [4, 3, 20, 7, 19, 16, 8, 9, 2], (5, 2): [5, 14, 11, 17, 10, 2], (6, 2): [6, 16, 8, 9, 2], (7, 2): [7, 19, 16, 8, 9, 2], (8, 2): [8, 9, 2], (9, 2): [9, 2], (10, 2): [10, 2], (11, 2): [11, 17, 10, 2], (12, 2): [12, 6, 16, 8, 9, 2], (13, 2): [13, 19, 16, 8, 9, 2], (14, 2): [14, 11, 17, 10, 2], (15, 2): [15, 11, 17, 10, 2], (16, 2): [16, 8, 9, 2], (17, 2): [17, 10, 2], (18, 2): [18, 1, 7, 19, 16, 8, 9, 2], (19, 2): [19, 16, 8, 9, 2], (20, 2): [20, 7, 19, 16, 8, 9, 2], (21, 2): [21, 0, 9, 2], (22, 2): [22, 0, 9, 2], (23, 2): [23, 3, 20, 7, 19, 16, 8, 9, 2], (24, 2): [24, 25, 7, 19, 16, 8, 9, 2], (25, 2): [25, 7, 19, 16, 8, 9, 2], (0, 3): [0, 21, 14, 19, 7, 20, 3], (1, 3): [1, 18, 3], (2, 3): [2, 9, 8, 16, 19, 7, 20, 3], (4, 3): [4, 3], (5, 3): [5, 13, 1, 18, 3], (6, 3): [6, 12, 25, 7, 20, 3], (7, 3): [7, 20, 3], (8, 3): [8, 16, 19, 7, 20, 3], (9, 3): [9, 8, 16, 19, 7, 20, 3], (10, 3): [10, 17, 11, 14, 19, 7, 20, 3], (11, 3): [11, 14, 19, 7, 20, 3], (12, 3): [12, 25, 7, 20, 3], (13, 3): [13, 1, 18, 3], (14, 3): [14, 19, 7, 20, 3], (15, 3): [15, 14, 19, 7, 20, 3], (16, 3): [16, 19, 7, 20, 3], (17, 3): [17, 11, 14, 19, 7, 20, 3], (18, 3): [18, 3], (19, 3): [19, 7, 20, 3], (20, 3): [20, 3], (21, 3): [21, 14, 19, 7, 20, 3], (22, 3): [22, 0, 21, 14, 19, 7, 20, 3], (23, 3): [23, 3], (24, 3): [24, 4, 3], (25, 3): [25, 7, 20, 3], (0, 4): [0, 21, 14, 19, 7, 20, 3, 4], (1, 4): [1, 18, 3, 4]}\n",
      "{(1, 0): [1, 7, 19, 14, 21, 0], (2, 0): [2, 9, 0], (3, 0): [3, 20, 7, 19, 14, 21, 0], (4, 0): [4, 3, 20, 7, 19, 14, 21, 0], (5, 0): [5, 14, 21, 0], (6, 0): [6, 16, 8, 9, 0], (7, 0): [7, 19, 14, 21, 0], (8, 0): [8, 9, 0], (9, 0): [9, 0], (10, 0): [10, 2, 9, 0], (11, 0): [11, 14, 21, 0], (12, 0): [12, 6, 16, 8, 9, 0], (13, 0): [13, 5, 14, 21, 0], (14, 0): [14, 21, 0], (15, 0): [15, 14, 21, 0], (16, 0): [16, 8, 9, 0], (17, 0): [17, 22, 0], (18, 0): [18, 1, 7, 19, 14, 21, 0], (19, 0): [19, 14, 21, 0], (20, 0): [20, 7, 19, 14, 21, 0], (21, 0): [21, 0], (22, 0): [22, 0], (23, 0): [23, 3, 20, 7, 19, 14, 21, 0], (24, 0): [24, 25, 7, 19, 14, 21, 0], (25, 0): [25, 7, 19, 14, 21, 0], (0, 1): [0, 21, 14, 5, 13, 1], (2, 1): [2, 9, 8, 16, 19, 7, 1], (3, 1): [3, 18, 1], (4, 1): [4, 3, 18, 1], (5, 1): [5, 13, 1], (6, 1): [6, 12, 25, 7, 1], (7, 1): [7, 1], (8, 1): [8, 16, 19, 7, 1], (9, 1): [9, 8, 16, 19, 7, 1], (10, 1): [10, 17, 11, 14, 5, 13, 1], (11, 1): [11, 14, 5, 13, 1], (12, 1): [12, 25, 7, 1], (13, 1): [13, 1], (14, 1): [14, 5, 13, 1], (15, 1): [15, 14, 5, 13, 1], (16, 1): [16, 19, 7, 1], (17, 1): [17, 11, 14, 5, 13, 1], (18, 1): [18, 1], (19, 1): [19, 7, 1], (20, 1): [20, 7, 1], (21, 1): [21, 14, 5, 13, 1], (22, 1): [22, 0, 21, 14, 5, 13, 1], (23, 1): [23, 18, 1], (24, 1): [24, 25, 7, 1], (25, 1): [25, 7, 1], (0, 2): [0, 9, 2], (1, 2): [1, 7, 19, 16, 8, 9, 2], (3, 2): [3, 20, 7, 19, 16, 8, 9, 2], (4, 2): [4, 3, 20, 7, 19, 16, 8, 9, 2], (5, 2): [5, 14, 11, 17, 10, 2], (6, 2): [6, 16, 8, 9, 2], (7, 2): [7, 19, 16, 8, 9, 2], (8, 2): [8, 9, 2], (9, 2): [9, 2], (10, 2): [10, 2], (11, 2): [11, 17, 10, 2], (12, 2): [12, 6, 16, 8, 9, 2], (13, 2): [13, 19, 16, 8, 9, 2], (14, 2): [14, 11, 17, 10, 2], (15, 2): [15, 11, 17, 10, 2], (16, 2): [16, 8, 9, 2], (17, 2): [17, 10, 2], (18, 2): [18, 1, 7, 19, 16, 8, 9, 2], (19, 2): [19, 16, 8, 9, 2], (20, 2): [20, 7, 19, 16, 8, 9, 2], (21, 2): [21, 0, 9, 2], (22, 2): [22, 0, 9, 2], (23, 2): [23, 3, 20, 7, 19, 16, 8, 9, 2], (24, 2): [24, 25, 7, 19, 16, 8, 9, 2], (25, 2): [25, 7, 19, 16, 8, 9, 2], (0, 3): [0, 21, 14, 19, 7, 20, 3], (1, 3): [1, 18, 3], (2, 3): [2, 9, 8, 16, 19, 7, 20, 3], (4, 3): [4, 3], (5, 3): [5, 13, 1, 18, 3], (6, 3): [6, 12, 25, 7, 20, 3], (7, 3): [7, 20, 3], (8, 3): [8, 16, 19, 7, 20, 3], (9, 3): [9, 8, 16, 19, 7, 20, 3], (10, 3): [10, 17, 11, 14, 19, 7, 20, 3], (11, 3): [11, 14, 19, 7, 20, 3], (12, 3): [12, 25, 7, 20, 3], (13, 3): [13, 1, 18, 3], (14, 3): [14, 19, 7, 20, 3], (15, 3): [15, 14, 19, 7, 20, 3], (16, 3): [16, 19, 7, 20, 3], (17, 3): [17, 11, 14, 19, 7, 20, 3], (18, 3): [18, 3], (19, 3): [19, 7, 20, 3], (20, 3): [20, 3], (21, 3): [21, 14, 19, 7, 20, 3], (22, 3): [22, 0, 21, 14, 19, 7, 20, 3], (23, 3): [23, 3], (24, 3): [24, 4, 3], (25, 3): [25, 7, 20, 3], (0, 4): [0, 21, 14, 19, 7, 20, 3, 4], (1, 4): [1, 18, 3, 4], (2, 4): [2, 9, 8, 16, 6, 12, 25, 24, 4]}\n",
      "{(1, 0): [1, 7, 19, 14, 21, 0], (2, 0): [2, 9, 0], (3, 0): [3, 20, 7, 19, 14, 21, 0], (4, 0): [4, 3, 20, 7, 19, 14, 21, 0], (5, 0): [5, 14, 21, 0], (6, 0): [6, 16, 8, 9, 0], (7, 0): [7, 19, 14, 21, 0], (8, 0): [8, 9, 0], (9, 0): [9, 0], (10, 0): [10, 2, 9, 0], (11, 0): [11, 14, 21, 0], (12, 0): [12, 6, 16, 8, 9, 0], (13, 0): [13, 5, 14, 21, 0], (14, 0): [14, 21, 0], (15, 0): [15, 14, 21, 0], (16, 0): [16, 8, 9, 0], (17, 0): [17, 22, 0], (18, 0): [18, 1, 7, 19, 14, 21, 0], (19, 0): [19, 14, 21, 0], (20, 0): [20, 7, 19, 14, 21, 0], (21, 0): [21, 0], (22, 0): [22, 0], (23, 0): [23, 3, 20, 7, 19, 14, 21, 0], (24, 0): [24, 25, 7, 19, 14, 21, 0], (25, 0): [25, 7, 19, 14, 21, 0], (0, 1): [0, 21, 14, 5, 13, 1], (2, 1): [2, 9, 8, 16, 19, 7, 1], (3, 1): [3, 18, 1], (4, 1): [4, 3, 18, 1], (5, 1): [5, 13, 1], (6, 1): [6, 12, 25, 7, 1], (7, 1): [7, 1], (8, 1): [8, 16, 19, 7, 1], (9, 1): [9, 8, 16, 19, 7, 1], (10, 1): [10, 17, 11, 14, 5, 13, 1], (11, 1): [11, 14, 5, 13, 1], (12, 1): [12, 25, 7, 1], (13, 1): [13, 1], (14, 1): [14, 5, 13, 1], (15, 1): [15, 14, 5, 13, 1], (16, 1): [16, 19, 7, 1], (17, 1): [17, 11, 14, 5, 13, 1], (18, 1): [18, 1], (19, 1): [19, 7, 1], (20, 1): [20, 7, 1], (21, 1): [21, 14, 5, 13, 1], (22, 1): [22, 0, 21, 14, 5, 13, 1], (23, 1): [23, 18, 1], (24, 1): [24, 25, 7, 1], (25, 1): [25, 7, 1], (0, 2): [0, 9, 2], (1, 2): [1, 7, 19, 16, 8, 9, 2], (3, 2): [3, 20, 7, 19, 16, 8, 9, 2], (4, 2): [4, 3, 20, 7, 19, 16, 8, 9, 2], (5, 2): [5, 14, 11, 17, 10, 2], (6, 2): [6, 16, 8, 9, 2], (7, 2): [7, 19, 16, 8, 9, 2], (8, 2): [8, 9, 2], (9, 2): [9, 2], (10, 2): [10, 2], (11, 2): [11, 17, 10, 2], (12, 2): [12, 6, 16, 8, 9, 2], (13, 2): [13, 19, 16, 8, 9, 2], (14, 2): [14, 11, 17, 10, 2], (15, 2): [15, 11, 17, 10, 2], (16, 2): [16, 8, 9, 2], (17, 2): [17, 10, 2], (18, 2): [18, 1, 7, 19, 16, 8, 9, 2], (19, 2): [19, 16, 8, 9, 2], (20, 2): [20, 7, 19, 16, 8, 9, 2], (21, 2): [21, 0, 9, 2], (22, 2): [22, 0, 9, 2], (23, 2): [23, 3, 20, 7, 19, 16, 8, 9, 2], (24, 2): [24, 25, 7, 19, 16, 8, 9, 2], (25, 2): [25, 7, 19, 16, 8, 9, 2], (0, 3): [0, 21, 14, 19, 7, 20, 3], (1, 3): [1, 18, 3], (2, 3): [2, 9, 8, 16, 19, 7, 20, 3], (4, 3): [4, 3], (5, 3): [5, 13, 1, 18, 3], (6, 3): [6, 12, 25, 7, 20, 3], (7, 3): [7, 20, 3], (8, 3): [8, 16, 19, 7, 20, 3], (9, 3): [9, 8, 16, 19, 7, 20, 3], (10, 3): [10, 17, 11, 14, 19, 7, 20, 3], (11, 3): [11, 14, 19, 7, 20, 3], (12, 3): [12, 25, 7, 20, 3], (13, 3): [13, 1, 18, 3], (14, 3): [14, 19, 7, 20, 3], (15, 3): [15, 14, 19, 7, 20, 3], (16, 3): [16, 19, 7, 20, 3], (17, 3): [17, 11, 14, 19, 7, 20, 3], (18, 3): [18, 3], (19, 3): [19, 7, 20, 3], (20, 3): [20, 3], (21, 3): [21, 14, 19, 7, 20, 3], (22, 3): [22, 0, 21, 14, 19, 7, 20, 3], (23, 3): [23, 3], (24, 3): [24, 4, 3], (25, 3): [25, 7, 20, 3], (0, 4): [0, 21, 14, 19, 7, 20, 3, 4], (1, 4): [1, 18, 3, 4], (2, 4): [2, 9, 8, 16, 6, 12, 25, 24, 4], (3, 4): [3, 4]}\n",
      "{(1, 0): [1, 7, 19, 14, 21, 0], (2, 0): [2, 9, 0], (3, 0): [3, 20, 7, 19, 14, 21, 0], (4, 0): [4, 3, 20, 7, 19, 14, 21, 0], (5, 0): [5, 14, 21, 0], (6, 0): [6, 16, 8, 9, 0], (7, 0): [7, 19, 14, 21, 0], (8, 0): [8, 9, 0], (9, 0): [9, 0], (10, 0): [10, 2, 9, 0], (11, 0): [11, 14, 21, 0], (12, 0): [12, 6, 16, 8, 9, 0], (13, 0): [13, 5, 14, 21, 0], (14, 0): [14, 21, 0], (15, 0): [15, 14, 21, 0], (16, 0): [16, 8, 9, 0], (17, 0): [17, 22, 0], (18, 0): [18, 1, 7, 19, 14, 21, 0], (19, 0): [19, 14, 21, 0], (20, 0): [20, 7, 19, 14, 21, 0], (21, 0): [21, 0], (22, 0): [22, 0], (23, 0): [23, 3, 20, 7, 19, 14, 21, 0], (24, 0): [24, 25, 7, 19, 14, 21, 0], (25, 0): [25, 7, 19, 14, 21, 0], (0, 1): [0, 21, 14, 5, 13, 1], (2, 1): [2, 9, 8, 16, 19, 7, 1], (3, 1): [3, 18, 1], (4, 1): [4, 3, 18, 1], (5, 1): [5, 13, 1], (6, 1): [6, 12, 25, 7, 1], (7, 1): [7, 1], (8, 1): [8, 16, 19, 7, 1], (9, 1): [9, 8, 16, 19, 7, 1], (10, 1): [10, 17, 11, 14, 5, 13, 1], (11, 1): [11, 14, 5, 13, 1], (12, 1): [12, 25, 7, 1], (13, 1): [13, 1], (14, 1): [14, 5, 13, 1], (15, 1): [15, 14, 5, 13, 1], (16, 1): [16, 19, 7, 1], (17, 1): [17, 11, 14, 5, 13, 1], (18, 1): [18, 1], (19, 1): [19, 7, 1], (20, 1): [20, 7, 1], (21, 1): [21, 14, 5, 13, 1], (22, 1): [22, 0, 21, 14, 5, 13, 1], (23, 1): [23, 18, 1], (24, 1): [24, 25, 7, 1], (25, 1): [25, 7, 1], (0, 2): [0, 9, 2], (1, 2): [1, 7, 19, 16, 8, 9, 2], (3, 2): [3, 20, 7, 19, 16, 8, 9, 2], (4, 2): [4, 3, 20, 7, 19, 16, 8, 9, 2], (5, 2): [5, 14, 11, 17, 10, 2], (6, 2): [6, 16, 8, 9, 2], (7, 2): [7, 19, 16, 8, 9, 2], (8, 2): [8, 9, 2], (9, 2): [9, 2], (10, 2): [10, 2], (11, 2): [11, 17, 10, 2], (12, 2): [12, 6, 16, 8, 9, 2], (13, 2): [13, 19, 16, 8, 9, 2], (14, 2): [14, 11, 17, 10, 2], (15, 2): [15, 11, 17, 10, 2], (16, 2): [16, 8, 9, 2], (17, 2): [17, 10, 2], (18, 2): [18, 1, 7, 19, 16, 8, 9, 2], (19, 2): [19, 16, 8, 9, 2], (20, 2): [20, 7, 19, 16, 8, 9, 2], (21, 2): [21, 0, 9, 2], (22, 2): [22, 0, 9, 2], (23, 2): [23, 3, 20, 7, 19, 16, 8, 9, 2], (24, 2): [24, 25, 7, 19, 16, 8, 9, 2], (25, 2): [25, 7, 19, 16, 8, 9, 2], (0, 3): [0, 21, 14, 19, 7, 20, 3], (1, 3): [1, 18, 3], (2, 3): [2, 9, 8, 16, 19, 7, 20, 3], (4, 3): [4, 3], (5, 3): [5, 13, 1, 18, 3], (6, 3): [6, 12, 25, 7, 20, 3], (7, 3): [7, 20, 3], (8, 3): [8, 16, 19, 7, 20, 3], (9, 3): [9, 8, 16, 19, 7, 20, 3], (10, 3): [10, 17, 11, 14, 19, 7, 20, 3], (11, 3): [11, 14, 19, 7, 20, 3], (12, 3): [12, 25, 7, 20, 3], (13, 3): [13, 1, 18, 3], (14, 3): [14, 19, 7, 20, 3], (15, 3): [15, 14, 19, 7, 20, 3], (16, 3): [16, 19, 7, 20, 3], (17, 3): [17, 11, 14, 19, 7, 20, 3], (18, 3): [18, 3], (19, 3): [19, 7, 20, 3], (20, 3): [20, 3], (21, 3): [21, 14, 19, 7, 20, 3], (22, 3): [22, 0, 21, 14, 19, 7, 20, 3], (23, 3): [23, 3], (24, 3): [24, 4, 3], (25, 3): [25, 7, 20, 3], (0, 4): [0, 21, 14, 19, 7, 20, 3, 4], (1, 4): [1, 18, 3, 4], (2, 4): [2, 9, 8, 16, 6, 12, 25, 24, 4], (3, 4): [3, 4], (5, 4): [5, 13, 1, 18, 3, 4]}\n",
      "\n"
     ]
    },
    {
     "name": "stderr",
     "output_type": "stream",
     "text": [
      "IOPub data rate exceeded.\n",
      "The notebook server will temporarily stop sending output\n",
      "to the client in order to avoid crashing it.\n",
      "To change this limit, set the config variable\n",
      "`--NotebookApp.iopub_data_rate_limit`.\n",
      "\n",
      "Current values:\n",
      "NotebookApp.iopub_data_rate_limit=1000000.0 (bytes/sec)\n",
      "NotebookApp.rate_limit_window=3.0 (secs)\n",
      "\n"
     ]
    }
   ],
   "source": [
    "matrix = np.matrix(matrizes.get('portugal'))#nova instancia\n",
    "caminhos = explorar_matrix(matrix.tolist())"
   ]
  },
  {
   "cell_type": "code",
   "execution_count": 27,
   "metadata": {},
   "outputs": [
    {
     "name": "stdout",
     "output_type": "stream",
     "text": [
      "[[0 0 0 0 0 0 0 0 0 1 0 0 0 0 0 0 0 0 0 0 0 1 1 0 0 0]\n",
      " [0 0 0 0 0 0 0 1 0 0 0 0 0 1 0 0 0 0 1 0 0 0 0 0 0 0]\n",
      " [0 0 0 0 0 0 0 0 0 1 1 0 0 0 0 0 0 0 0 0 0 0 0 0 0 0]\n",
      " [0 0 0 0 1 0 0 0 0 0 0 0 0 0 0 0 0 0 1 0 1 0 0 1 0 0]\n",
      " [0 0 0 1 0 0 0 0 0 0 0 0 0 0 0 0 0 0 0 0 0 0 0 0 1 0]\n",
      " [0 0 0 0 0 0 0 0 0 0 0 0 0 1 1 0 0 0 0 0 0 0 0 0 0 0]\n",
      " [0 0 0 0 0 0 0 0 0 0 0 0 1 0 0 0 1 0 0 0 0 0 0 0 0 0]\n",
      " [0 1 0 0 0 0 0 0 0 0 0 0 0 0 0 0 0 0 0 1 1 0 0 0 0 1]\n",
      " [0 0 0 0 0 0 0 0 0 1 0 0 0 0 0 0 1 0 0 0 0 0 0 0 0 0]\n",
      " [1 0 1 0 0 0 0 0 1 0 0 0 0 0 0 0 0 0 0 0 0 0 0 0 0 0]\n",
      " [0 0 1 0 0 0 0 0 0 0 0 0 0 0 0 0 0 1 0 0 0 0 0 0 0 0]\n",
      " [0 0 0 0 0 0 0 0 0 0 0 0 0 0 1 1 0 1 0 0 0 0 0 0 0 0]\n",
      " [0 0 0 0 0 0 1 0 0 0 0 0 0 0 0 0 0 0 0 0 0 0 0 0 0 1]\n",
      " [0 1 0 0 0 1 0 0 0 0 0 0 0 0 0 0 0 0 0 1 0 0 0 0 0 0]\n",
      " [0 0 0 0 0 1 0 0 0 0 0 1 0 0 0 1 0 0 0 1 0 1 0 0 0 0]\n",
      " [0 0 0 0 0 0 0 0 0 0 0 1 0 0 1 0 0 0 0 0 0 0 0 0 0 0]\n",
      " [0 0 0 0 0 0 1 0 1 0 0 0 0 0 0 0 0 0 0 1 0 0 0 0 0 0]\n",
      " [0 0 0 0 0 0 0 0 0 0 1 1 0 0 0 0 0 0 0 0 0 0 1 0 0 0]\n",
      " [0 1 0 1 0 0 0 0 0 0 0 0 0 0 0 0 0 0 0 0 1 0 0 1 0 0]\n",
      " [0 0 0 0 0 0 0 1 0 0 0 0 0 1 1 0 1 0 0 0 0 0 0 0 0 0]\n",
      " [0 0 0 1 0 0 0 1 0 0 0 0 0 0 0 0 0 0 1 0 0 0 0 0 0 0]\n",
      " [1 0 0 0 0 0 0 0 0 0 0 0 0 0 1 0 0 0 0 0 0 0 0 0 0 0]\n",
      " [1 0 0 0 0 0 0 0 0 0 0 0 0 0 0 0 0 1 0 0 0 0 0 0 0 0]\n",
      " [0 0 0 1 0 0 0 0 0 0 0 0 0 0 0 0 0 0 1 0 0 0 0 0 0 0]\n",
      " [0 0 0 0 1 0 0 0 0 0 0 0 0 0 0 0 0 0 0 0 0 0 0 0 0 1]\n",
      " [0 0 0 0 0 0 0 1 0 0 0 0 1 0 0 0 0 0 0 0 0 0 0 0 1 0]]\n"
     ]
    }
   ],
   "source": [
    "print(matrix)"
   ]
  },
  {
   "cell_type": "markdown",
   "metadata": {},
   "source": [
    "<p>O indice de wiener é expresso pelo comprimento de todos os caminhos curtos descobertos.</p>"
   ]
  },
  {
   "cell_type": "code",
   "execution_count": 28,
   "metadata": {},
   "outputs": [],
   "source": [
    "def wiener(caminhos,mtx):\n",
    "    custo = 0\n",
    "    for i in range(len(mtx)):\n",
    "        for j in range(len(mtx)):\n",
    "            if(i<j):\n",
    "                custo+= (len(caminhos[i,j]) -1)\n",
    "    return custo"
   ]
  },
  {
   "cell_type": "code",
   "execution_count": 29,
   "metadata": {},
   "outputs": [
    {
     "name": "stdout",
     "output_type": "stream",
     "text": [
      "{(1, 0): [1, 7, 19, 14, 21, 0], (2, 0): [2, 9, 0], (3, 0): [3, 20, 7, 19, 14, 21, 0], (4, 0): [4, 3, 20, 7, 19, 14, 21, 0], (5, 0): [5, 14, 21, 0], (6, 0): [6, 16, 8, 9, 0], (7, 0): [7, 19, 14, 21, 0], (8, 0): [8, 9, 0], (9, 0): [9, 0], (10, 0): [10, 2, 9, 0], (11, 0): [11, 14, 21, 0], (12, 0): [12, 6, 16, 8, 9, 0], (13, 0): [13, 5, 14, 21, 0], (14, 0): [14, 21, 0], (15, 0): [15, 14, 21, 0], (16, 0): [16, 8, 9, 0], (17, 0): [17, 22, 0], (18, 0): [18, 1, 7, 19, 14, 21, 0], (19, 0): [19, 14, 21, 0], (20, 0): [20, 7, 19, 14, 21, 0], (21, 0): [21, 0], (22, 0): [22, 0], (23, 0): [23, 3, 20, 7, 19, 14, 21, 0], (24, 0): [24, 25, 7, 19, 14, 21, 0], (25, 0): [25, 7, 19, 14, 21, 0], (0, 1): [0, 21, 14, 5, 13, 1], (2, 1): [2, 9, 8, 16, 19, 7, 1], (3, 1): [3, 18, 1], (4, 1): [4, 3, 18, 1], (5, 1): [5, 13, 1], (6, 1): [6, 12, 25, 7, 1], (7, 1): [7, 1], (8, 1): [8, 16, 19, 7, 1], (9, 1): [9, 8, 16, 19, 7, 1], (10, 1): [10, 17, 11, 14, 5, 13, 1], (11, 1): [11, 14, 5, 13, 1], (12, 1): [12, 25, 7, 1], (13, 1): [13, 1], (14, 1): [14, 5, 13, 1], (15, 1): [15, 14, 5, 13, 1], (16, 1): [16, 19, 7, 1], (17, 1): [17, 11, 14, 5, 13, 1], (18, 1): [18, 1], (19, 1): [19, 7, 1], (20, 1): [20, 7, 1], (21, 1): [21, 14, 5, 13, 1], (22, 1): [22, 0, 21, 14, 5, 13, 1], (23, 1): [23, 18, 1], (24, 1): [24, 25, 7, 1], (25, 1): [25, 7, 1], (0, 2): [0, 9, 2], (1, 2): [1, 7, 19, 16, 8, 9, 2], (3, 2): [3, 20, 7, 19, 16, 8, 9, 2], (4, 2): [4, 3, 20, 7, 19, 16, 8, 9, 2], (5, 2): [5, 14, 11, 17, 10, 2], (6, 2): [6, 16, 8, 9, 2], (7, 2): [7, 19, 16, 8, 9, 2], (8, 2): [8, 9, 2], (9, 2): [9, 2], (10, 2): [10, 2], (11, 2): [11, 17, 10, 2], (12, 2): [12, 6, 16, 8, 9, 2], (13, 2): [13, 19, 16, 8, 9, 2], (14, 2): [14, 11, 17, 10, 2], (15, 2): [15, 11, 17, 10, 2], (16, 2): [16, 8, 9, 2], (17, 2): [17, 10, 2], (18, 2): [18, 1, 7, 19, 16, 8, 9, 2], (19, 2): [19, 16, 8, 9, 2], (20, 2): [20, 7, 19, 16, 8, 9, 2], (21, 2): [21, 0, 9, 2], (22, 2): [22, 0, 9, 2], (23, 2): [23, 3, 20, 7, 19, 16, 8, 9, 2], (24, 2): [24, 25, 7, 19, 16, 8, 9, 2], (25, 2): [25, 7, 19, 16, 8, 9, 2], (0, 3): [0, 21, 14, 19, 7, 20, 3], (1, 3): [1, 18, 3], (2, 3): [2, 9, 8, 16, 19, 7, 20, 3], (4, 3): [4, 3], (5, 3): [5, 13, 1, 18, 3], (6, 3): [6, 12, 25, 7, 20, 3], (7, 3): [7, 20, 3], (8, 3): [8, 16, 19, 7, 20, 3], (9, 3): [9, 8, 16, 19, 7, 20, 3], (10, 3): [10, 17, 11, 14, 19, 7, 20, 3], (11, 3): [11, 14, 19, 7, 20, 3], (12, 3): [12, 25, 7, 20, 3], (13, 3): [13, 1, 18, 3], (14, 3): [14, 19, 7, 20, 3], (15, 3): [15, 14, 19, 7, 20, 3], (16, 3): [16, 19, 7, 20, 3], (17, 3): [17, 11, 14, 19, 7, 20, 3], (18, 3): [18, 3], (19, 3): [19, 7, 20, 3], (20, 3): [20, 3], (21, 3): [21, 14, 19, 7, 20, 3], (22, 3): [22, 0, 21, 14, 19, 7, 20, 3], (23, 3): [23, 3], (24, 3): [24, 4, 3], (25, 3): [25, 7, 20, 3], (0, 4): [0, 21, 14, 19, 7, 20, 3, 4], (1, 4): [1, 18, 3, 4], (2, 4): [2, 9, 8, 16, 6, 12, 25, 24, 4], (3, 4): [3, 4], (5, 4): [5, 13, 1, 18, 3, 4], (6, 4): [6, 12, 25, 24, 4], (7, 4): [7, 20, 3, 4], (8, 4): [8, 16, 6, 12, 25, 24, 4], (9, 4): [9, 8, 16, 6, 12, 25, 24, 4], (10, 4): [10, 17, 11, 14, 19, 7, 20, 3, 4], (11, 4): [11, 14, 19, 7, 20, 3, 4], (12, 4): [12, 25, 24, 4], (13, 4): [13, 1, 18, 3, 4], (14, 4): [14, 19, 7, 20, 3, 4], (15, 4): [15, 14, 19, 7, 20, 3, 4], (16, 4): [16, 6, 12, 25, 24, 4], (17, 4): [17, 11, 14, 19, 7, 20, 3, 4], (18, 4): [18, 3, 4], (19, 4): [19, 7, 20, 3, 4], (20, 4): [20, 3, 4], (21, 4): [21, 14, 19, 7, 20, 3, 4], (22, 4): [22, 0, 21, 14, 19, 7, 20, 3, 4], (23, 4): [23, 3, 4], (24, 4): [24, 4], (25, 4): [25, 24, 4], (0, 5): [0, 21, 14, 5], (1, 5): [1, 13, 5], (2, 5): [2, 9, 0, 21, 14, 5], (3, 5): [3, 18, 1, 13, 5], (4, 5): [4, 3, 18, 1, 13, 5], (6, 5): [6, 16, 19, 13, 5], (7, 5): [7, 1, 13, 5], (8, 5): [8, 16, 19, 13, 5], (9, 5): [9, 0, 21, 14, 5], (10, 5): [10, 17, 11, 14, 5], (11, 5): [11, 14, 5], (12, 5): [12, 6, 16, 19, 13, 5], (13, 5): [13, 5], (14, 5): [14, 5], (15, 5): [15, 14, 5], (16, 5): [16, 19, 13, 5], (17, 5): [17, 11, 14, 5], (18, 5): [18, 1, 13, 5], (19, 5): [19, 13, 5], (20, 5): [20, 7, 1, 13, 5], (21, 5): [21, 14, 5], (22, 5): [22, 0, 21, 14, 5], (23, 5): [23, 18, 1, 13, 5], (24, 5): [24, 25, 7, 1, 13, 5], (25, 5): [25, 7, 1, 13, 5], (0, 6): [0, 9, 8, 16, 6], (1, 6): [1, 7, 19, 16, 6], (2, 6): [2, 9, 8, 16, 6], (3, 6): [3, 4, 24, 25, 12, 6], (4, 6): [4, 24, 25, 12, 6], (5, 6): [5, 13, 19, 16, 6], (7, 6): [7, 19, 16, 6], (8, 6): [8, 16, 6], (9, 6): [9, 8, 16, 6], (10, 6): [10, 2, 9, 8, 16, 6], (11, 6): [11, 14, 19, 16, 6], (12, 6): [12, 6], (13, 6): [13, 19, 16, 6], (14, 6): [14, 19, 16, 6], (15, 6): [15, 14, 19, 16, 6], (16, 6): [16, 6], (17, 6): [17, 11, 14, 19, 16, 6], (18, 6): [18, 1, 7, 19, 16, 6], (19, 6): [19, 16, 6], (20, 6): [20, 7, 19, 16, 6], (21, 6): [21, 14, 19, 16, 6], (22, 6): [22, 0, 9, 8, 16, 6], (23, 6): [23, 3, 4, 24, 25, 12, 6], (24, 6): [24, 25, 12, 6], (25, 6): [25, 12, 6], (0, 7): [0, 21, 14, 19, 7], (1, 7): [1, 7], (2, 7): [2, 9, 8, 16, 19, 7], (3, 7): [3, 20, 7], (4, 7): [4, 3, 20, 7], (5, 7): [5, 13, 1, 7], (6, 7): [6, 12, 25, 7], (8, 7): [8, 16, 19, 7], (9, 7): [9, 8, 16, 19, 7], (10, 7): [10, 17, 11, 14, 19, 7], (11, 7): [11, 14, 19, 7], (12, 7): [12, 25, 7], (13, 7): [13, 1, 7], (14, 7): [14, 19, 7], (15, 7): [15, 14, 19, 7], (16, 7): [16, 19, 7], (17, 7): [17, 11, 14, 19, 7], (18, 7): [18, 1, 7], (19, 7): [19, 7], (20, 7): [20, 7], (21, 7): [21, 14, 19, 7], (22, 7): [22, 0, 21, 14, 19, 7], (23, 7): [23, 3, 20, 7], (24, 7): [24, 25, 7], (25, 7): [25, 7], (0, 8): [0, 9, 8], (1, 8): [1, 7, 19, 16, 8], (2, 8): [2, 9, 8], (3, 8): [3, 20, 7, 19, 16, 8], (4, 8): [4, 3, 20, 7, 19, 16, 8], (5, 8): [5, 13, 19, 16, 8], (6, 8): [6, 16, 8], (7, 8): [7, 19, 16, 8], (9, 8): [9, 8], (10, 8): [10, 2, 9, 8], (11, 8): [11, 14, 19, 16, 8], (12, 8): [12, 6, 16, 8], (13, 8): [13, 19, 16, 8], (14, 8): [14, 19, 16, 8], (15, 8): [15, 14, 19, 16, 8], (16, 8): [16, 8], (17, 8): [17, 10, 2, 9, 8], (18, 8): [18, 1, 7, 19, 16, 8], (19, 8): [19, 16, 8], (20, 8): [20, 7, 19, 16, 8], (21, 8): [21, 0, 9, 8], (22, 8): [22, 0, 9, 8], (23, 8): [23, 3, 20, 7, 19, 16, 8], (24, 8): [24, 25, 7, 19, 16, 8], (25, 8): [25, 7, 19, 16, 8], (0, 9): [0, 9], (1, 9): [1, 7, 19, 16, 8, 9], (2, 9): [2, 9], (3, 9): [3, 20, 7, 19, 16, 8, 9], (4, 9): [4, 3, 20, 7, 19, 16, 8, 9], (5, 9): [5, 14, 21, 0, 9], (6, 9): [6, 16, 8, 9], (7, 9): [7, 19, 16, 8, 9], (8, 9): [8, 9], (10, 9): [10, 2, 9], (11, 9): [11, 14, 21, 0, 9], (12, 9): [12, 6, 16, 8, 9], (13, 9): [13, 19, 16, 8, 9], (14, 9): [14, 21, 0, 9], (15, 9): [15, 14, 21, 0, 9], (16, 9): [16, 8, 9], (17, 9): [17, 10, 2, 9], (18, 9): [18, 1, 7, 19, 16, 8, 9], (19, 9): [19, 16, 8, 9], (20, 9): [20, 7, 19, 16, 8, 9], (21, 9): [21, 0, 9], (22, 9): [22, 0, 9], (23, 9): [23, 3, 20, 7, 19, 16, 8, 9], (24, 9): [24, 25, 7, 19, 16, 8, 9], (25, 9): [25, 7, 19, 16, 8, 9], (0, 10): [0, 9, 2, 10], (1, 10): [1, 7, 19, 14, 11, 17, 10], (2, 10): [2, 10], (3, 10): [3, 20, 7, 19, 14, 11, 17, 10], (4, 10): [4, 3, 20, 7, 19, 14, 11, 17, 10], (5, 10): [5, 14, 11, 17, 10], (6, 10): [6, 16, 8, 9, 2, 10], (7, 10): [7, 19, 14, 11, 17, 10], (8, 10): [8, 9, 2, 10], (9, 10): [9, 2, 10], (11, 10): [11, 17, 10], (12, 10): [12, 6, 16, 8, 9, 2, 10], (13, 10): [13, 5, 14, 11, 17, 10], (14, 10): [14, 11, 17, 10], (15, 10): [15, 11, 17, 10], (16, 10): [16, 8, 9, 2, 10], (17, 10): [17, 10], (18, 10): [18, 1, 7, 19, 14, 11, 17, 10], (19, 10): [19, 14, 11, 17, 10], (20, 10): [20, 7, 19, 14, 11, 17, 10], (21, 10): [21, 0, 9, 2, 10], (22, 10): [22, 17, 10], (23, 10): [23, 3, 20, 7, 19, 14, 11, 17, 10], (24, 10): [24, 25, 7, 19, 14, 11, 17, 10], (25, 10): [25, 7, 19, 14, 11, 17, 10], (0, 11): [0, 21, 14, 11], (1, 11): [1, 7, 19, 14, 11], (2, 11): [2, 10, 17, 11], (3, 11): [3, 20, 7, 19, 14, 11], (4, 11): [4, 3, 20, 7, 19, 14, 11], (5, 11): [5, 14, 11], (6, 11): [6, 16, 19, 14, 11], (7, 11): [7, 19, 14, 11], (8, 11): [8, 16, 19, 14, 11], (9, 11): [9, 0, 21, 14, 11], (10, 11): [10, 17, 11], (12, 11): [12, 6, 16, 19, 14, 11], (13, 11): [13, 5, 14, 11], (14, 11): [14, 11], (15, 11): [15, 11], (16, 11): [16, 19, 14, 11], (17, 11): [17, 11], (18, 11): [18, 1, 7, 19, 14, 11], (19, 11): [19, 14, 11], (20, 11): [20, 7, 19, 14, 11], (21, 11): [21, 14, 11], (22, 11): [22, 17, 11], (23, 11): [23, 3, 20, 7, 19, 14, 11], (24, 11): [24, 25, 7, 19, 14, 11], (25, 11): [25, 7, 19, 14, 11], (0, 12): [0, 9, 8, 16, 6, 12], (1, 12): [1, 7, 25, 12], (2, 12): [2, 9, 8, 16, 6, 12], (3, 12): [3, 4, 24, 25, 12], (4, 12): [4, 24, 25, 12], (5, 12): [5, 13, 1, 7, 25, 12], (6, 12): [6, 12], (7, 12): [7, 25, 12], (8, 12): [8, 16, 6, 12], (9, 12): [9, 8, 16, 6, 12], (10, 12): [10, 2, 9, 8, 16, 6, 12], (11, 12): [11, 14, 19, 7, 25, 12], (13, 12): [13, 1, 7, 25, 12], (14, 12): [14, 19, 7, 25, 12], (15, 12): [15, 14, 19, 7, 25, 12], (16, 12): [16, 6, 12], (17, 12): [17, 11, 14, 19, 7, 25, 12], (18, 12): [18, 1, 7, 25, 12], (19, 12): [19, 7, 25, 12], (20, 12): [20, 7, 25, 12], (21, 12): [21, 14, 19, 7, 25, 12], (22, 12): [22, 0, 9, 8, 16, 6, 12], (23, 12): [23, 3, 4, 24, 25, 12], (24, 12): [24, 25, 12], (25, 12): [25, 12], (0, 13): [0, 21, 14, 5, 13], (1, 13): [1, 13], (2, 13): [2, 9, 8, 16, 19, 13], (3, 13): [3, 18, 1, 13], (4, 13): [4, 3, 18, 1, 13], (5, 13): [5, 13], (6, 13): [6, 16, 19, 13], (7, 13): [7, 1, 13], (8, 13): [8, 16, 19, 13], (9, 13): [9, 8, 16, 19, 13], (10, 13): [10, 17, 11, 14, 5, 13], (11, 13): [11, 14, 5, 13], (12, 13): [12, 6, 16, 19, 13], (14, 13): [14, 5, 13], (15, 13): [15, 14, 5, 13], (16, 13): [16, 19, 13], (17, 13): [17, 11, 14, 5, 13], (18, 13): [18, 1, 13], (19, 13): [19, 13], (20, 13): [20, 7, 1, 13], (21, 13): [21, 14, 5, 13], (22, 13): [22, 0, 21, 14, 5, 13], (23, 13): [23, 18, 1, 13], (24, 13): [24, 25, 7, 1, 13], (25, 13): [25, 7, 1, 13], (0, 14): [0, 21, 14], (1, 14): [1, 7, 19, 14], (2, 14): [2, 9, 0, 21, 14], (3, 14): [3, 20, 7, 19, 14], (4, 14): [4, 3, 20, 7, 19, 14], (5, 14): [5, 14], (6, 14): [6, 16, 19, 14], (7, 14): [7, 19, 14], (8, 14): [8, 16, 19, 14], (9, 14): [9, 0, 21, 14], (10, 14): [10, 17, 11, 14], (11, 14): [11, 14], (12, 14): [12, 6, 16, 19, 14], (13, 14): [13, 5, 14], (15, 14): [15, 14], (16, 14): [16, 19, 14], (17, 14): [17, 11, 14], (18, 14): [18, 1, 7, 19, 14], (19, 14): [19, 14], (20, 14): [20, 7, 19, 14], (21, 14): [21, 14], (22, 14): [22, 0, 21, 14], (23, 14): [23, 3, 20, 7, 19, 14], (24, 14): [24, 25, 7, 19, 14], (25, 14): [25, 7, 19, 14], (0, 15): [0, 21, 14, 15], (1, 15): [1, 7, 19, 14, 15], (2, 15): [2, 10, 17, 11, 15], (3, 15): [3, 20, 7, 19, 14, 15], (4, 15): [4, 3, 20, 7, 19, 14, 15], (5, 15): [5, 14, 15], (6, 15): [6, 16, 19, 14, 15], (7, 15): [7, 19, 14, 15], (8, 15): [8, 16, 19, 14, 15], (9, 15): [9, 0, 21, 14, 15], (10, 15): [10, 17, 11, 15], (11, 15): [11, 15], (12, 15): [12, 6, 16, 19, 14, 15], (13, 15): [13, 5, 14, 15], (14, 15): [14, 15], (16, 15): [16, 19, 14, 15], (17, 15): [17, 11, 15], (18, 15): [18, 1, 7, 19, 14, 15], (19, 15): [19, 14, 15], (20, 15): [20, 7, 19, 14, 15], (21, 15): [21, 14, 15], (22, 15): [22, 17, 11, 15], (23, 15): [23, 3, 20, 7, 19, 14, 15], (24, 15): [24, 25, 7, 19, 14, 15], (25, 15): [25, 7, 19, 14, 15], (0, 16): [0, 9, 8, 16], (1, 16): [1, 7, 19, 16], (2, 16): [2, 9, 8, 16], (3, 16): [3, 20, 7, 19, 16], (4, 16): [4, 3, 20, 7, 19, 16], (5, 16): [5, 13, 19, 16], (6, 16): [6, 16], (7, 16): [7, 19, 16], (8, 16): [8, 16], (9, 16): [9, 8, 16], (10, 16): [10, 2, 9, 8, 16], (11, 16): [11, 14, 19, 16], (12, 16): [12, 6, 16], (13, 16): [13, 19, 16], (14, 16): [14, 19, 16], (15, 16): [15, 14, 19, 16], (17, 16): [17, 11, 14, 19, 16], (18, 16): [18, 1, 7, 19, 16], (19, 16): [19, 16], (20, 16): [20, 7, 19, 16], (21, 16): [21, 14, 19, 16], (22, 16): [22, 0, 9, 8, 16], (23, 16): [23, 3, 20, 7, 19, 16], (24, 16): [24, 25, 7, 19, 16], (25, 16): [25, 7, 19, 16], (0, 17): [0, 22, 17], (1, 17): [1, 7, 19, 14, 11, 17], (2, 17): [2, 10, 17], (3, 17): [3, 20, 7, 19, 14, 11, 17], (4, 17): [4, 3, 20, 7, 19, 14, 11, 17], (5, 17): [5, 14, 11, 17], (6, 17): [6, 16, 19, 14, 11, 17], (7, 17): [7, 19, 14, 11, 17], (8, 17): [8, 9, 0, 22, 17], (9, 17): [9, 0, 22, 17], (10, 17): [10, 17], (11, 17): [11, 17], (12, 17): [12, 6, 16, 19, 14, 11, 17], (13, 17): [13, 5, 14, 11, 17], (14, 17): [14, 11, 17], (15, 17): [15, 11, 17], (16, 17): [16, 19, 14, 11, 17], (18, 17): [18, 1, 7, 19, 14, 11, 17], (19, 17): [19, 14, 11, 17], (20, 17): [20, 7, 19, 14, 11, 17], (21, 17): [21, 0, 22, 17], (22, 17): [22, 17], (23, 17): [23, 3, 20, 7, 19, 14, 11, 17], (24, 17): [24, 25, 7, 19, 14, 11, 17], (25, 17): [25, 7, 19, 14, 11, 17], (0, 18): [0, 21, 14, 5, 13, 1, 18], (1, 18): [1, 18], (2, 18): [2, 9, 8, 16, 19, 7, 1, 18], (3, 18): [3, 18], (4, 18): [4, 3, 18], (5, 18): [5, 13, 1, 18], (6, 18): [6, 12, 25, 7, 1, 18], (7, 18): [7, 1, 18], (8, 18): [8, 16, 19, 7, 1, 18], (9, 18): [9, 8, 16, 19, 7, 1, 18], (10, 18): [10, 17, 11, 14, 5, 13, 1, 18], (11, 18): [11, 14, 5, 13, 1, 18], (12, 18): [12, 25, 7, 1, 18], (13, 18): [13, 1, 18], (14, 18): [14, 5, 13, 1, 18], (15, 18): [15, 14, 5, 13, 1, 18], (16, 18): [16, 19, 7, 1, 18], (17, 18): [17, 11, 14, 5, 13, 1, 18], (19, 18): [19, 7, 1, 18], (20, 18): [20, 18], (21, 18): [21, 14, 5, 13, 1, 18], (22, 18): [22, 0, 21, 14, 5, 13, 1, 18], (23, 18): [23, 18], (24, 18): [24, 4, 3, 18], (25, 18): [25, 7, 1, 18], (0, 19): [0, 21, 14, 19], (1, 19): [1, 7, 19], (2, 19): [2, 9, 8, 16, 19], (3, 19): [3, 20, 7, 19], (4, 19): [4, 3, 20, 7, 19], (5, 19): [5, 13, 19], (6, 19): [6, 16, 19], (7, 19): [7, 19], (8, 19): [8, 16, 19], (9, 19): [9, 8, 16, 19], (10, 19): [10, 17, 11, 14, 19], (11, 19): [11, 14, 19], (12, 19): [12, 6, 16, 19], (13, 19): [13, 19], (14, 19): [14, 19], (15, 19): [15, 14, 19], (16, 19): [16, 19], (17, 19): [17, 11, 14, 19], (18, 19): [18, 1, 7, 19], (20, 19): [20, 7, 19], (21, 19): [21, 14, 19], (22, 19): [22, 0, 21, 14, 19], (23, 19): [23, 3, 20, 7, 19], (24, 19): [24, 25, 7, 19], (25, 19): [25, 7, 19], (0, 20): [0, 21, 14, 19, 7, 20], (1, 20): [1, 7, 20], (2, 20): [2, 9, 8, 16, 19, 7, 20], (3, 20): [3, 20], (4, 20): [4, 3, 20], (5, 20): [5, 13, 1, 7, 20], (6, 20): [6, 12, 25, 7, 20], (7, 20): [7, 20], (8, 20): [8, 16, 19, 7, 20], (10, 20): [10, 17, 11, 14, 19, 7, 20], (11, 20): [11, 14, 19, 7, 20], (12, 20): [12, 25, 7, 20], (13, 20): [13, 1, 7, 20], (14, 20): [14, 19, 7, 20], (15, 20): [15, 14, 19, 7, 20], (16, 20): [16, 19, 7, 20], (17, 20): [17, 11, 14, 19, 7, 20], (19, 20): [19, 7, 20], (21, 20): [21, 14, 19, 7, 20], (22, 20): [22, 0, 21, 14, 19, 7, 20], (23, 20): [23, 3, 20], (24, 20): [24, 4, 3, 20], (25, 20): [25, 7, 20], (0, 21): [0, 21], (1, 21): [1, 7, 19, 14, 21], (18, 20): [18, 20], (2, 21): [2, 9, 0, 21], (3, 21): [3, 20, 7, 19, 14, 21], (4, 21): [4, 3, 20, 7, 19, 14, 21], (5, 21): [5, 14, 21], (6, 21): [6, 16, 19, 14, 21], (7, 21): [7, 19, 14, 21], (8, 21): [8, 9, 0, 21], (9, 21): [9, 0, 21], (10, 21): [10, 2, 9, 0, 21], (11, 21): [11, 14, 21], (12, 21): [12, 6, 16, 19, 14, 21], (13, 21): [13, 5, 14, 21], (9, 20): [9, 8, 16, 19, 7, 20], (15, 21): [15, 14, 21], (16, 21): [16, 19, 14, 21], (17, 21): [17, 11, 14, 21], (18, 21): [18, 1, 7, 19, 14, 21], (19, 21): [19, 14, 21], (20, 21): [20, 7, 19, 14, 21], (22, 21): [22, 0, 21], (23, 21): [23, 3, 20, 7, 19, 14, 21], (24, 21): [24, 25, 7, 19, 14, 21], (25, 21): [25, 7, 19, 14, 21], (0, 22): [0, 22], (14, 21): [14, 21], (1, 22): [1, 7, 19, 14, 11, 17, 22], (2, 22): [2, 9, 0, 22], (3, 22): [3, 20, 7, 19, 14, 11, 17, 22], (5, 22): [5, 14, 11, 17, 22], (6, 22): [6, 16, 8, 9, 0, 22], (7, 22): [7, 19, 14, 11, 17, 22], (8, 22): [8, 9, 0, 22], (9, 22): [9, 0, 22], (10, 22): [10, 17, 22], (11, 22): [11, 17, 22], (12, 22): [12, 6, 16, 8, 9, 0, 22], (13, 22): [13, 5, 14, 11, 17, 22], (4, 22): [4, 3, 20, 7, 19, 14, 11, 17, 22], (14, 22): [14, 11, 17, 22], (15, 22): [15, 11, 17, 22], (16, 22): [16, 8, 9, 0, 22], (17, 22): [17, 22], (18, 22): [18, 1, 7, 19, 14, 11, 17, 22], (20, 22): [20, 7, 19, 14, 11, 17, 22], (21, 22): [21, 0, 22], (23, 22): [23, 3, 20, 7, 19, 14, 11, 17, 22], (24, 22): [24, 25, 7, 19, 14, 11, 17, 22], (0, 23): [0, 21, 14, 5, 13, 1, 18, 23], (1, 23): [1, 18, 23], (2, 23): [2, 9, 8, 16, 19, 7, 1, 18, 23], (3, 23): [3, 23], (4, 23): [4, 3, 23], (5, 23): [5, 13, 1, 18, 23], (6, 23): [6, 12, 25, 7, 1, 18, 23], (7, 23): [7, 1, 18, 23], (8, 23): [8, 16, 19, 7, 1, 18, 23], (9, 23): [9, 8, 16, 19, 7, 1, 18, 23], (10, 23): [10, 17, 11, 14, 5, 13, 1, 18, 23], (11, 23): [11, 14, 5, 13, 1, 18, 23], (12, 23): [12, 25, 7, 1, 18, 23], (13, 23): [13, 1, 18, 23], (14, 23): [14, 5, 13, 1, 18, 23], (15, 23): [15, 14, 5, 13, 1, 18, 23], (16, 23): [16, 19, 7, 1, 18, 23], (17, 23): [17, 11, 14, 5, 13, 1, 18, 23], (18, 23): [18, 23], (19, 23): [19, 7, 1, 18, 23], (21, 23): [21, 14, 5, 13, 1, 18, 23], (22, 23): [22, 0, 21, 14, 5, 13, 1, 18, 23], (24, 23): [24, 4, 3, 23], (25, 23): [25, 7, 1, 18, 23], (0, 24): [0, 21, 14, 19, 7, 25, 24], (1, 24): [1, 7, 25, 24], (2, 24): [2, 9, 8, 16, 6, 12, 25, 24], (3, 24): [3, 4, 24], (19, 22): [19, 14, 11, 17, 22], (4, 24): [4, 24], (5, 24): [5, 13, 1, 7, 25, 24], (6, 24): [6, 12, 25, 24], (25, 22): [25, 7, 19, 14, 11, 17, 22], (7, 24): [7, 25, 24], (8, 24): [8, 16, 6, 12, 25, 24], (9, 24): [9, 8, 16, 6, 12, 25, 24], (10, 24): [10, 17, 11, 14, 19, 7, 25, 24], (11, 24): [11, 14, 19, 7, 25, 24], (12, 24): [12, 25, 24], (13, 24): [13, 1, 7, 25, 24], (14, 24): [14, 19, 7, 25, 24], (15, 24): [15, 14, 19, 7, 25, 24], (16, 24): [16, 6, 12, 25, 24], (17, 24): [17, 11, 14, 19, 7, 25, 24], (18, 24): [18, 3, 4, 24], (19, 24): [19, 7, 25, 24], (20, 24): [20, 3, 4, 24], (21, 24): [21, 14, 19, 7, 25, 24], (22, 24): [22, 0, 21, 14, 19, 7, 25, 24], (23, 24): [23, 3, 4, 24], (25, 24): [25, 24], (0, 25): [0, 21, 14, 19, 7, 25], (1, 25): [1, 7, 25], (2, 25): [2, 9, 8, 16, 6, 12, 25], (3, 25): [3, 4, 24, 25], (4, 25): [4, 24, 25], (5, 25): [5, 13, 1, 7, 25], (6, 25): [6, 12, 25], (7, 25): [7, 25], (8, 25): [8, 16, 6, 12, 25], (9, 25): [9, 8, 16, 6, 12, 25], (10, 25): [10, 17, 11, 14, 19, 7, 25], (11, 25): [11, 14, 19, 7, 25], (12, 25): [12, 25], (13, 25): [13, 1, 7, 25], (20, 23): [20, 3, 23], (14, 25): [14, 19, 7, 25], (15, 25): [15, 14, 19, 7, 25], (16, 25): [16, 6, 12, 25], (17, 25): [17, 11, 14, 19, 7, 25], (18, 25): [18, 1, 7, 25], (19, 25): [19, 7, 25], (20, 25): [20, 7, 25], (21, 25): [21, 14, 19, 7, 25], (22, 25): [22, 0, 21, 14, 19, 7, 25], (23, 25): [23, 3, 4, 24, 25], (24, 25): [24, 25]}\n"
     ]
    },
    {
     "name": "stderr",
     "output_type": "stream",
     "text": [
      "Índice Wiener: 1183\n"
     ]
    }
   ],
   "source": [
    "print(caminhos)\n",
    "print(\"Índice Wiener: {}\".format(wiener(caminhos,matrix.tolist())),file=sys.stderr)"
   ]
  },
  {
   "cell_type": "code",
   "execution_count": 30,
   "metadata": {},
   "outputs": [],
   "source": [
    "rotear=lambda caminhos,origem,destino: [par for par in zip(caminhos[(origem,destino)],caminhos[(origem,destino)][1:]) ]"
   ]
  },
  {
   "cell_type": "code",
   "execution_count": 31,
   "metadata": {
    "scrolled": true
   },
   "outputs": [
    {
     "name": "stdout",
     "output_type": "stream",
     "text": [
      "grau: 2.769230769230769\n",
      "caminho:\n",
      "[2, 9, 0, 21, 14, 5]\n",
      "enlaces:\n",
      "[(2, 9), (9, 0), (0, 21), (21, 14), (14, 5)]\n"
     ]
    }
   ],
   "source": [
    "print(f\"grau: {calc_grau(matrix)}\")\n",
    "print(\"caminho:\\n{}\".format(caminhos[(2,5)]))\n",
    "print(\"enlaces:\\n{}\".format(rotear(caminhos,2,5)))"
   ]
  },
  {
   "cell_type": "code",
   "execution_count": 32,
   "metadata": {},
   "outputs": [
    {
     "name": "stdout",
     "output_type": "stream",
     "text": [
      "[[0 0 0 0 0 0 0 0 0 1 0 0 0 0 0 0 0 0 0 0 0 1 1 0 0 0]\n",
      " [0 0 0 0 0 0 0 1 0 0 0 0 0 1 0 0 0 0 1 0 0 0 0 0 1 0]\n",
      " [0 0 0 0 0 0 0 0 0 1 1 0 0 0 1 0 0 0 1 0 0 0 1 0 1 0]\n",
      " [0 0 0 0 1 0 0 0 0 0 0 0 0 0 0 0 1 0 1 0 1 0 1 1 0 0]\n",
      " [0 0 0 1 0 0 1 0 0 0 0 0 0 0 0 0 0 1 0 0 0 0 0 0 1 0]\n",
      " [0 0 0 0 0 0 0 1 0 1 1 0 0 1 1 0 0 0 0 0 0 0 0 1 0 0]\n",
      " [0 0 0 0 1 0 0 1 1 0 0 0 1 0 0 1 1 1 0 0 0 0 0 0 0 0]\n",
      " [0 1 0 0 0 1 1 0 0 0 0 0 0 0 0 1 0 0 0 1 1 0 1 0 0 1]\n",
      " [0 0 0 0 0 0 1 0 0 1 1 1 1 0 0 0 1 0 0 1 1 0 0 0 1 0]\n",
      " [1 0 1 0 0 1 0 0 1 0 0 0 0 0 0 0 0 0 0 0 1 0 1 0 1 0]\n",
      " [0 0 1 0 0 1 0 0 1 0 0 1 0 0 0 0 1 1 1 0 0 0 1 1 0 0]\n",
      " [0 0 0 0 0 0 0 0 1 0 1 0 0 0 1 1 1 1 0 0 0 0 0 0 0 1]\n",
      " [0 0 0 0 0 0 1 0 1 0 0 0 0 0 0 0 0 0 0 0 0 0 1 0 0 1]\n",
      " [0 1 0 0 0 1 0 0 0 0 0 0 0 0 0 0 0 0 0 1 0 0 1 0 0 0]\n",
      " [0 0 1 0 0 1 0 0 0 0 0 1 0 0 0 1 0 0 0 1 0 1 0 1 0 0]\n",
      " [0 0 0 0 0 0 1 1 0 0 0 1 0 0 1 0 1 0 0 0 0 0 0 0 0 0]\n",
      " [0 0 0 1 0 0 1 0 1 0 1 1 0 0 0 1 0 1 0 1 0 0 1 0 0 0]\n",
      " [0 0 0 0 1 0 1 0 0 0 1 1 0 0 0 0 1 0 0 1 0 0 1 0 1 0]\n",
      " [0 1 1 1 0 0 0 0 0 0 1 0 0 0 0 0 0 0 0 0 1 1 0 1 0 0]\n",
      " [0 0 0 0 0 0 0 1 1 0 0 0 0 1 1 0 1 1 0 0 1 0 0 0 0 1]\n",
      " [0 0 0 1 0 0 0 1 1 1 0 0 0 0 0 0 0 0 1 1 0 1 0 1 0 0]\n",
      " [1 0 0 0 0 0 0 0 0 0 0 0 0 0 1 0 0 0 1 0 1 0 0 0 1 0]\n",
      " [1 0 1 1 0 0 0 1 0 1 1 0 1 1 0 0 1 1 0 0 0 0 0 0 1 1]\n",
      " [0 0 0 1 0 1 0 0 0 0 1 0 0 0 1 0 0 0 1 0 1 0 0 0 0 1]\n",
      " [0 1 1 0 1 0 0 0 1 1 0 0 0 0 0 0 0 1 0 0 0 1 1 0 0 1]\n",
      " [0 0 0 0 0 0 0 1 0 0 0 1 1 0 0 0 0 0 0 1 0 0 1 1 1 0]]\n",
      "6.769230769230769\n"
     ]
    }
   ],
   "source": [
    "aumentar_grau(matrix,4)\n",
    "print (matrix)\n",
    "print (calc_grau(matrix))"
   ]
  },
  {
   "cell_type": "code",
   "execution_count": 33,
   "metadata": {},
   "outputs": [
    {
     "name": "stderr",
     "output_type": "stream",
     "text": [
      "Wiener: 592\n"
     ]
    }
   ],
   "source": [
    "%%capture --no-stderr\n",
    "# print(f'calculando indice wiener:\\n {caminhos}')\n",
    "caminhos = explorar_matrix(matrix.tolist())\n",
    "\n",
    "print(f'Wiener: {wiener(caminhos,matrix)}',file=sys.stderr)"
   ]
  },
  {
   "cell_type": "code",
   "execution_count": 34,
   "metadata": {},
   "outputs": [
    {
     "name": "stdout",
     "output_type": "stream",
     "text": [
      "caminhos:\n",
      "[2, 9, 5]\n",
      "enlaces:\n",
      "[(2, 9), (9, 5)]\n"
     ]
    }
   ],
   "source": [
    "print(\"caminhos:\\n{}\".format(caminhos[(2,5)]))\n",
    "print(\"enlaces:\\n{}\".format([par for par in zip(caminhos[(2,5)],caminhos[(2,5)][1:]) ]))"
   ]
  },
  {
   "cell_type": "markdown",
   "metadata": {},
   "source": [
    "<h1>Executar os testes e simulação</h1>\n",
    "<p>Por fim, para simular a utilização da rede executa-se diversas iterações contando o número bloqueios em cada iteração, a cada iteração o grau médio é aumentado. Por fim, calcula-se a correlação entre a taxa de bloqueio e o grau médio.</p>\n",
    "<p>Segue abaixo nossa representação da classe que instância cada simulação:</p>"
   ]
  },
  {
   "cell_type": "code",
   "execution_count": 35,
   "metadata": {},
   "outputs": [],
   "source": [
    "class sim_rede():\n",
    "    def __init__(self,nome,matrix_np,ncanais=-1):\n",
    "        self.nome = nome\n",
    "#         self.matrix = np.matrix(matrix_np) #criar uma nova cópia das originais\n",
    "        if(ncanais<1):\n",
    "            ncanais = int(len(matrix_np))\n",
    "        self.ncanais = ncanais\n",
    "        self.canais = criar_canais(matrix_np,ncanais)\n",
    "        \n",
    "        self.matrix = matrix_np.tolist() # nova instância do tipo lista\n",
    "        self.caminhos = explorar_matrix(self.matrix) #aqui monta a árvore usando a matrix tipo lista\n",
    "        self.bloqueios = 0\n",
    "        self.sucesso = 0\n",
    "        self.sum_demandas = 0\n",
    "\n",
    "    def testa_canais(self,enlaces):# testa os 100% ocupados para exclusão da matriz\n",
    "        return sum(self.canais[no]) # Se todos os canais\n",
    "    \n",
    "    ########################## Conexão #################################\n",
    "    # calcula os enlaces que ligam a origem ao destino\n",
    "    def calc_enlaces(self,origem,destino):\n",
    "        caminho = self.caminhos[(origem,destino)] #nós atingidos origem a destino, gerados pelo dijkstra\n",
    "        rota = [par for par in zip(caminho,caminho[1:]) ] # gera lista dos enlaces [0,1,2,3] [(0,1),(1,2),(2,3)]\n",
    "        print(\"canais:{}, origem:{}, destino:{}, rota:{}, caminho: {}\".format(self.ncanais,origem,destino,rota,caminho))\n",
    "        return rota    \n",
    "    \n",
    "    # Conecta origem e destino:\n",
    "    \n",
    "    def conectar(self,origem,destino):\n",
    "        ok=1\n",
    "        enlaces = self.calc_enlaces(origem,destino)\n",
    "\n",
    "        caminho = self.caminhos[(origem,destino)]\n",
    "        \n",
    "        # excluir adjacencias relativas aos canais interrompidos e recalcular os caminhos >Sob Demanda<\n",
    "        # ou seja, somente os caminhos que usam estes canais serão recalculados cada vez que necessário\n",
    "#         excluir = []\n",
    "        mudou = False\n",
    "        for o,d in enlaces:\n",
    "            mudou = True\n",
    "            if sum(self.canais[o,d]) == 0: #se igual a 0 todos os canais do enlace estão ocupados\n",
    "#                 excluir+=[(o,d),(d,o)]\n",
    "                self.matrix[o][d] = 0 #exclui enlaces com canais cheios da matriz\n",
    "                self.matrix[d][o] = 0\n",
    "        # Atualiza caminhos ida e volta\n",
    "        if mudou:\n",
    "            explorar_caminho((origem,destino,self.caminhos,self.matrix))\n",
    "#             explorar_caminho((destino,origem,self.caminhos,self.matrix))\n",
    "            enlaces = self.calc_enlaces(origem,destino)\n",
    "        #FIRST FIT: testa um por um dos canais até encontrar um totalmente livre para o caminho\n",
    "        for canal in range(self.ncanais): #canal 0..n\n",
    "            # Atribuição de espectro: FIRST FIT\n",
    "            for o,d in enlaces: #nó do caminho\n",
    "#                 print(self.canais)\n",
    "                ok = ok*self.canais[(o,d)][canal] # se zero == bloqueio\n",
    "#             self.sum_demandas+=1\n",
    "            if ok == 1:\n",
    "                for no in caminho: #no do caminho\n",
    "                    try:\n",
    "                        self.canais[(o,d)][canal] = 0 # marca canal do enlace como ocupado\n",
    "                        self.sum_demandas+=1 #caso possível a conexão aumenta a demanda\n",
    "                    except: #caminho inexistente\n",
    "                        print(\"bloqueio ({}, {})\".format(origem,destino))\n",
    "                        self.bloqueios += 1\n",
    "                        return (False,caminho)\n",
    "# Caso montássemos uma matriz de demanda, mas como só precisamos da soma dos valores dos enlaces, utilizamos\n",
    "# uma variável(sum_demandas), que já calcula a dimensão da matriz de demanda.\n",
    "#                     if i > j:\n",
    "#                         self.demandas[(j,i)]+=1\n",
    "#                     else:\n",
    "#                         self.demandas[(i,j)]+=1    \n",
    "                self.sucesso += 1\n",
    "                return (True,caminho)\n",
    "            else:\n",
    "                ok=1\n",
    "        print(\"bloqueio ({}, {})\".format(origem,destino))\n",
    "        self.bloqueios += 1\n",
    "        return (False,caminho)\n",
    "    def wiener(self):\n",
    "        return wiener(self.caminhos,self.matrix)"
   ]
  },
  {
   "cell_type": "markdown",
   "metadata": {},
   "source": [
    "<p>Exemplo de uma rede pequena com dois canais com seu grau médio original provocava entre 3 e 4 bloqueio. vejamos o resultado ao incrementar duas vezes o grau.</p>"
   ]
  },
  {
   "cell_type": "code",
   "execution_count": 36,
   "metadata": {},
   "outputs": [
    {
     "name": "stdout",
     "output_type": "stream",
     "text": [
      "\n",
      "===========iteracao (0)============\n",
      "\n",
      "{(1, 0): [1, 0]}\n",
      "{(1, 0): [1, 0], (2, 0): [2, 0]}{(1, 0): [1, 0], (2, 0): [2, 0], (3, 0): [3, 1, 0]}\n",
      "\n",
      "{(1, 0): [1, 0], (2, 0): [2, 0], (3, 0): [3, 1, 0], (4, 0): [4, 3, 1, 0]}\n",
      "{(1, 0): [1, 0], (2, 0): [2, 0], (3, 0): [3, 1, 0], (4, 0): [4, 3, 1, 0], (5, 0): [5, 2, 0]}\n",
      "{(1, 0): [1, 0], (2, 0): [2, 0], (3, 0): [3, 1, 0], (4, 0): [4, 3, 1, 0], (5, 0): [5, 2, 0], (0, 1): [0, 1]}{(1, 0): [1, 0], (2, 0): [2, 0], (3, 0): [3, 1, 0], (4, 0): [4, 3, 1, 0], (5, 0): [5, 2, 0], (0, 1): [0, 1], (2, 1): [2, 0, 1]}\n",
      "{(1, 0): [1, 0], (2, 0): [2, 0], (3, 0): [3, 1, 0], (4, 0): [4, 3, 1, 0], (5, 0): [5, 2, 0], (0, 1): [0, 1], (2, 1): [2, 0, 1], (3, 1): [3, 1]}\n",
      "{(1, 0): [1, 0], (2, 0): [2, 0], (3, 0): [3, 1, 0], (4, 0): [4, 3, 1, 0], (5, 0): [5, 2, 0], (0, 1): [0, 1], (2, 1): [2, 0, 1], (3, 1): [3, 1], (4, 1): [4, 3, 1]}\n",
      "\n",
      "{(1, 0): [1, 0], (2, 0): [2, 0], (3, 0): [3, 1, 0], (4, 0): [4, 3, 1, 0], (5, 0): [5, 2, 0], (0, 1): [0, 1], (2, 1): [2, 0, 1], (3, 1): [3, 1], (4, 1): [4, 3, 1], (5, 1): [5, 2, 0, 1]}\n",
      "{(1, 0): [1, 0], (2, 0): [2, 0], (3, 0): [3, 1, 0], (4, 0): [4, 3, 1, 0], (5, 0): [5, 2, 0], (0, 1): [0, 1], (2, 1): [2, 0, 1], (3, 1): [3, 1], (4, 1): [4, 3, 1], (5, 1): [5, 2, 0, 1], (0, 2): [0, 2]}\n",
      "{(1, 0): [1, 0], (2, 0): [2, 0], (3, 0): [3, 1, 0], (4, 0): [4, 3, 1, 0], (5, 0): [5, 2, 0], (0, 1): [0, 1], (2, 1): [2, 0, 1], (3, 1): [3, 1], (4, 1): [4, 3, 1], (5, 1): [5, 2, 0, 1], (0, 2): [0, 2], (1, 2): [1, 0, 2]}\n",
      "{(1, 0): [1, 0], (2, 0): [2, 0], (3, 0): [3, 1, 0], (4, 0): [4, 3, 1, 0], (5, 0): [5, 2, 0], (0, 1): [0, 1], (2, 1): [2, 0, 1], (3, 1): [3, 1], (4, 1): [4, 3, 1], (5, 1): [5, 2, 0, 1], (0, 2): [0, 2], (1, 2): [1, 0, 2], (3, 2): [3, 2]}\n",
      "{(1, 0): [1, 0], (2, 0): [2, 0], (3, 0): [3, 1, 0], (4, 0): [4, 3, 1, 0], (5, 0): [5, 2, 0], (0, 1): [0, 1], (2, 1): [2, 0, 1], (3, 1): [3, 1], (4, 1): [4, 3, 1], (5, 1): [5, 2, 0, 1], (0, 2): [0, 2], (1, 2): [1, 0, 2], (3, 2): [3, 2], (4, 2): [4, 3, 2]}\n",
      "{(1, 0): [1, 0], (2, 0): [2, 0], (3, 0): [3, 1, 0], (4, 0): [4, 3, 1, 0], (5, 0): [5, 2, 0], (0, 1): [0, 1], (2, 1): [2, 0, 1], (3, 1): [3, 1], (4, 1): [4, 3, 1], (5, 1): [5, 2, 0, 1], (0, 2): [0, 2], (1, 2): [1, 0, 2], (3, 2): [3, 2], (4, 2): [4, 3, 2], (5, 2): [5, 2]}\n",
      "{(1, 0): [1, 0], (2, 0): [2, 0], (3, 0): [3, 1, 0], (4, 0): [4, 3, 1, 0], (5, 0): [5, 2, 0], (0, 1): [0, 1], (2, 1): [2, 0, 1], (3, 1): [3, 1], (4, 1): [4, 3, 1], (5, 1): [5, 2, 0, 1], (0, 2): [0, 2], (1, 2): [1, 0, 2], (3, 2): [3, 2], (4, 2): [4, 3, 2], (5, 2): [5, 2], (0, 3): [0, 1, 3]}\n",
      "{(1, 0): [1, 0], (2, 0): [2, 0], (3, 0): [3, 1, 0], (4, 0): [4, 3, 1, 0], (5, 0): [5, 2, 0], (0, 1): [0, 1], (2, 1): [2, 0, 1], (3, 1): [3, 1], (4, 1): [4, 3, 1], (5, 1): [5, 2, 0, 1], (0, 2): [0, 2], (1, 2): [1, 0, 2], (3, 2): [3, 2], (4, 2): [4, 3, 2], (5, 2): [5, 2], (0, 3): [0, 1, 3], (1, 3): [1, 3]}\n",
      "{(1, 0): [1, 0], (2, 0): [2, 0], (3, 0): [3, 1, 0], (4, 0): [4, 3, 1, 0], (5, 0): [5, 2, 0], (0, 1): [0, 1], (2, 1): [2, 0, 1], (3, 1): [3, 1], (4, 1): [4, 3, 1], (5, 1): [5, 2, 0, 1], (0, 2): [0, 2], (1, 2): [1, 0, 2], (3, 2): [3, 2], (4, 2): [4, 3, 2], (5, 2): [5, 2], (0, 3): [0, 1, 3], (1, 3): [1, 3], (2, 3): [2, 3]}\n",
      "{(1, 0): [1, 0], (2, 0): [2, 0], (3, 0): [3, 1, 0], (4, 0): [4, 3, 1, 0], (5, 0): [5, 2, 0], (0, 1): [0, 1], (2, 1): [2, 0, 1], (3, 1): [3, 1], (4, 1): [4, 3, 1], (5, 1): [5, 2, 0, 1], (0, 2): [0, 2], (1, 2): [1, 0, 2], (3, 2): [3, 2], (4, 2): [4, 3, 2], (5, 2): [5, 2], (0, 3): [0, 1, 3], (1, 3): [1, 3], (2, 3): [2, 3], (4, 3): [4, 3]}\n",
      "{(1, 0): [1, 0], (2, 0): [2, 0], (3, 0): [3, 1, 0], (4, 0): [4, 3, 1, 0], (5, 0): [5, 2, 0], (0, 1): [0, 1], (2, 1): [2, 0, 1], (3, 1): [3, 1], (4, 1): [4, 3, 1], (5, 1): [5, 2, 0, 1], (0, 2): [0, 2], (1, 2): [1, 0, 2], (3, 2): [3, 2], (4, 2): [4, 3, 2], (5, 2): [5, 2], (0, 3): [0, 1, 3], (1, 3): [1, 3], (2, 3): [2, 3], (4, 3): [4, 3], (5, 3): [5, 2, 3]}\n",
      "{(1, 0): [1, 0], (2, 0): [2, 0], (3, 0): [3, 1, 0], (4, 0): [4, 3, 1, 0], (5, 0): [5, 2, 0], (0, 1): [0, 1], (2, 1): [2, 0, 1], (3, 1): [3, 1], (4, 1): [4, 3, 1], (5, 1): [5, 2, 0, 1], (0, 2): [0, 2], (1, 2): [1, 0, 2], (3, 2): [3, 2], (4, 2): [4, 3, 2], (5, 2): [5, 2], (0, 3): [0, 1, 3], (1, 3): [1, 3], (2, 3): [2, 3], (4, 3): [4, 3], (5, 3): [5, 2, 3], (0, 4): [0, 1, 3, 4]}\n",
      "{(1, 0): [1, 0], (2, 0): [2, 0], (3, 0): [3, 1, 0], (4, 0): [4, 3, 1, 0], (5, 0): [5, 2, 0], (0, 1): [0, 1], (2, 1): [2, 0, 1], (3, 1): [3, 1], (4, 1): [4, 3, 1], (5, 1): [5, 2, 0, 1], (0, 2): [0, 2], (1, 2): [1, 0, 2], (3, 2): [3, 2], (4, 2): [4, 3, 2], (5, 2): [5, 2], (0, 3): [0, 1, 3], (1, 3): [1, 3], (2, 3): [2, 3], (4, 3): [4, 3], (5, 3): [5, 2, 3], (0, 4): [0, 1, 3, 4], (1, 4): [1, 3, 4]}\n",
      "{(1, 0): [1, 0], (2, 0): [2, 0], (3, 0): [3, 1, 0], (4, 0): [4, 3, 1, 0], (5, 0): [5, 2, 0], (0, 1): [0, 1], (2, 1): [2, 0, 1], (3, 1): [3, 1], (4, 1): [4, 3, 1], (5, 1): [5, 2, 0, 1], (0, 2): [0, 2], (1, 2): [1, 0, 2], (3, 2): [3, 2], (4, 2): [4, 3, 2], (5, 2): [5, 2], (0, 3): [0, 1, 3], (1, 3): [1, 3], (2, 3): [2, 3], (4, 3): [4, 3], (5, 3): [5, 2, 3], (0, 4): [0, 1, 3, 4], (1, 4): [1, 3, 4], (2, 4): [2, 3, 4]}\n",
      "{(1, 0): [1, 0], (2, 0): [2, 0], (3, 0): [3, 1, 0], (4, 0): [4, 3, 1, 0], (5, 0): [5, 2, 0], (0, 1): [0, 1], (2, 1): [2, 0, 1], (3, 1): [3, 1], (4, 1): [4, 3, 1], (5, 1): [5, 2, 0, 1], (0, 2): [0, 2], (1, 2): [1, 0, 2], (3, 2): [3, 2], (4, 2): [4, 3, 2], (5, 2): [5, 2], (0, 3): [0, 1, 3], (1, 3): [1, 3], (2, 3): [2, 3], (4, 3): [4, 3], (5, 3): [5, 2, 3], (0, 4): [0, 1, 3, 4], (1, 4): [1, 3, 4], (2, 4): [2, 3, 4], (3, 4): [3, 4]}\n",
      "{(1, 0): [1, 0], (2, 0): [2, 0], (3, 0): [3, 1, 0], (4, 0): [4, 3, 1, 0], (5, 0): [5, 2, 0], (0, 1): [0, 1], (2, 1): [2, 0, 1], (3, 1): [3, 1], (4, 1): [4, 3, 1], (5, 1): [5, 2, 0, 1], (0, 2): [0, 2], (1, 2): [1, 0, 2], (3, 2): [3, 2], (4, 2): [4, 3, 2], (5, 2): [5, 2], (0, 3): [0, 1, 3], (1, 3): [1, 3], (2, 3): [2, 3], (4, 3): [4, 3], (5, 3): [5, 2, 3], (0, 4): [0, 1, 3, 4], (1, 4): [1, 3, 4], (2, 4): [2, 3, 4], (3, 4): [3, 4], (5, 4): [5, 4]}\n",
      "{(1, 0): [1, 0], (2, 0): [2, 0], (3, 0): [3, 1, 0], (4, 0): [4, 3, 1, 0], (5, 0): [5, 2, 0], (0, 1): [0, 1], (2, 1): [2, 0, 1], (3, 1): [3, 1], (4, 1): [4, 3, 1], (5, 1): [5, 2, 0, 1], (0, 2): [0, 2], (1, 2): [1, 0, 2], (3, 2): [3, 2], (4, 2): [4, 3, 2], (5, 2): [5, 2], (0, 3): [0, 1, 3], (1, 3): [1, 3], (2, 3): [2, 3], (4, 3): [4, 3], (5, 3): [5, 2, 3], (0, 4): [0, 1, 3, 4], (1, 4): [1, 3, 4], (2, 4): [2, 3, 4], (3, 4): [3, 4], (5, 4): [5, 4], (0, 5): [0, 2, 5]}\n",
      "{(1, 0): [1, 0], (2, 0): [2, 0], (3, 0): [3, 1, 0], (4, 0): [4, 3, 1, 0], (5, 0): [5, 2, 0], (0, 1): [0, 1], (2, 1): [2, 0, 1], (3, 1): [3, 1], (4, 1): [4, 3, 1], (5, 1): [5, 2, 0, 1], (0, 2): [0, 2], (1, 2): [1, 0, 2], (3, 2): [3, 2], (4, 2): [4, 3, 2], (5, 2): [5, 2], (0, 3): [0, 1, 3], (1, 3): [1, 3], (2, 3): [2, 3], (4, 3): [4, 3], (5, 3): [5, 2, 3], (0, 4): [0, 1, 3, 4], (1, 4): [1, 3, 4], (2, 4): [2, 3, 4], (3, 4): [3, 4], (5, 4): [5, 4], (0, 5): [0, 2, 5], (1, 5): [1, 0, 2, 5]}{(1, 0): [1, 0], (2, 0): [2, 0], (3, 0): [3, 1, 0], (4, 0): [4, 3, 1, 0], (5, 0): [5, 2, 0], (0, 1): [0, 1], (2, 1): [2, 0, 1], (3, 1): [3, 1], (4, 1): [4, 3, 1], (5, 1): [5, 2, 0, 1], (0, 2): [0, 2], (1, 2): [1, 0, 2], (3, 2): [3, 2], (4, 2): [4, 3, 2], (5, 2): [5, 2], (0, 3): [0, 1, 3], (1, 3): [1, 3], (2, 3): [2, 3], (4, 3): [4, 3], (5, 3): [5, 2, 3], (0, 4): [0, 1, 3, 4], (1, 4): [1, 3, 4], (2, 4): [2, 3, 4], (3, 4): [3, 4], (5, 4): [5, 4], (0, 5): [0, 2, 5], (1, 5): [1, 0, 2, 5], (2, 5): [2, 5]}\n",
      "{(1, 0): [1, 0], (2, 0): [2, 0], (3, 0): [3, 1, 0], (4, 0): [4, 3, 1, 0], (5, 0): [5, 2, 0], (0, 1): [0, 1], (2, 1): [2, 0, 1], (3, 1): [3, 1], (4, 1): [4, 3, 1], (5, 1): [5, 2, 0, 1], (0, 2): [0, 2], (1, 2): [1, 0, 2], (3, 2): [3, 2], (4, 2): [4, 3, 2], (5, 2): [5, 2], (0, 3): [0, 1, 3], (1, 3): [1, 3], (2, 3): [2, 3], (4, 3): [4, 3], (5, 3): [5, 2, 3], (0, 4): [0, 1, 3, 4], (1, 4): [1, 3, 4], (2, 4): [2, 3, 4], (3, 4): [3, 4], (5, 4): [5, 4], (0, 5): [0, 2, 5], (1, 5): [1, 0, 2, 5], (2, 5): [2, 5], (3, 5): [3, 2, 5]}\n",
      "{(1, 0): [1, 0], (2, 0): [2, 0], (3, 0): [3, 1, 0], (4, 0): [4, 3, 1, 0], (5, 0): [5, 2, 0], (0, 1): [0, 1], (2, 1): [2, 0, 1], (3, 1): [3, 1], (4, 1): [4, 3, 1], (5, 1): [5, 2, 0, 1], (0, 2): [0, 2], (1, 2): [1, 0, 2], (3, 2): [3, 2], (4, 2): [4, 3, 2], (5, 2): [5, 2], (0, 3): [0, 1, 3], (1, 3): [1, 3], (2, 3): [2, 3], (4, 3): [4, 3], (5, 3): [5, 2, 3], (0, 4): [0, 1, 3, 4], (1, 4): [1, 3, 4], (2, 4): [2, 3, 4], (3, 4): [3, 4], (5, 4): [5, 4], (0, 5): [0, 2, 5], (1, 5): [1, 0, 2, 5], (2, 5): [2, 5], (3, 5): [3, 2, 5], (4, 5): [4, 5]}\n",
      "\n",
      "wiener antes: 25\n",
      "canais:2, origem:0, destino:1, rota:[(0, 1)], caminho: [0, 1]\n",
      "{(1, 0): [1, 0], (2, 0): [2, 0], (3, 0): [3, 1, 0], (4, 0): [4, 3, 1, 0], (5, 0): [5, 2, 0], (0, 1): [0, 1], (2, 1): [2, 0, 1], (3, 1): [3, 1], (4, 1): [4, 3, 1], (5, 1): [5, 2, 0, 1], (0, 2): [0, 2], (1, 2): [1, 0, 2], (3, 2): [3, 2], (4, 2): [4, 3, 2], (5, 2): [5, 2], (0, 3): [0, 1, 3], (1, 3): [1, 3], (2, 3): [2, 3], (4, 3): [4, 3], (5, 3): [5, 2, 3], (0, 4): [0, 1, 3, 4], (1, 4): [1, 3, 4], (2, 4): [2, 3, 4], (3, 4): [3, 4], (5, 4): [5, 4], (0, 5): [0, 2, 5], (1, 5): [1, 0, 2, 5], (2, 5): [2, 5], (3, 5): [3, 2, 5], (4, 5): [4, 5]}\n",
      "canais:2, origem:0, destino:1, rota:[(0, 1)], caminho: [0, 1]\n",
      "canais:2, origem:0, destino:2, rota:[(0, 2)], caminho: [0, 2]\n",
      "{(1, 0): [1, 0], (2, 0): [2, 0], (3, 0): [3, 1, 0], (4, 0): [4, 3, 1, 0], (5, 0): [5, 2, 0], (0, 1): [0, 1], (2, 1): [2, 0, 1], (3, 1): [3, 1], (4, 1): [4, 3, 1], (5, 1): [5, 2, 0, 1], (0, 2): [0, 2], (1, 2): [1, 0, 2], (3, 2): [3, 2], (4, 2): [4, 3, 2], (5, 2): [5, 2], (0, 3): [0, 1, 3], (1, 3): [1, 3], (2, 3): [2, 3], (4, 3): [4, 3], (5, 3): [5, 2, 3], (0, 4): [0, 1, 3, 4], (1, 4): [1, 3, 4], (2, 4): [2, 3, 4], (3, 4): [3, 4], (5, 4): [5, 4], (0, 5): [0, 2, 5], (1, 5): [1, 0, 2, 5], (2, 5): [2, 5], (3, 5): [3, 2, 5], (4, 5): [4, 5]}\n",
      "canais:2, origem:0, destino:2, rota:[(0, 2)], caminho: [0, 2]\n",
      "canais:2, origem:0, destino:3, rota:[(0, 1), (1, 3)], caminho: [0, 1, 3]\n",
      "{(1, 0): [1, 0], (2, 0): [2, 0], (3, 0): [3, 1, 0], (4, 0): [4, 3, 1, 0], (5, 0): [5, 2, 0], (0, 1): [0, 1], (2, 1): [2, 0, 1], (3, 1): [3, 1], (4, 1): [4, 3, 1], (5, 1): [5, 2, 0, 1], (0, 2): [0, 2], (1, 2): [1, 0, 2], (3, 2): [3, 2], (4, 2): [4, 3, 2], (5, 2): [5, 2], (0, 3): [0, 1, 3], (1, 3): [1, 3], (2, 3): [2, 3], (4, 3): [4, 3], (5, 3): [5, 2, 3], (0, 4): [0, 1, 3, 4], (1, 4): [1, 3, 4], (2, 4): [2, 3, 4], (3, 4): [3, 4], (5, 4): [5, 4], (0, 5): [0, 2, 5], (1, 5): [1, 0, 2, 5], (2, 5): [2, 5], (3, 5): [3, 2, 5], (4, 5): [4, 5]}\n",
      "canais:2, origem:0, destino:3, rota:[(0, 1), (1, 3)], caminho: [0, 1, 3]\n",
      "canais:2, origem:0, destino:4, rota:[(0, 1), (1, 3), (3, 4)], caminho: [0, 1, 3, 4]\n",
      "{(1, 0): [1, 0], (2, 0): [2, 0], (3, 0): [3, 1, 0], (4, 0): [4, 3, 1, 0], (5, 0): [5, 2, 0], (0, 1): [0, 1], (2, 1): [2, 0, 1], (3, 1): [3, 1], (4, 1): [4, 3, 1], (5, 1): [5, 2, 0, 1], (0, 2): [0, 2], (1, 2): [1, 0, 2], (3, 2): [3, 2], (4, 2): [4, 3, 2], (5, 2): [5, 2], (0, 3): [0, 1, 3], (1, 3): [1, 3], (2, 3): [2, 3], (4, 3): [4, 3], (5, 3): [5, 2, 3], (0, 4): [0, 1, 3, 4], (1, 4): [1, 3, 4], (2, 4): [2, 3, 4], (3, 4): [3, 4], (5, 4): [5, 4], (0, 5): [0, 2, 5], (1, 5): [1, 0, 2, 5], (2, 5): [2, 5], (3, 5): [3, 2, 5], (4, 5): [4, 5]}\n",
      "canais:2, origem:0, destino:4, rota:[(0, 1), (1, 3), (3, 4)], caminho: [0, 1, 3, 4]\n",
      "bloqueio (0, 4)\n",
      "canais:2, origem:0, destino:5, rota:[(0, 2), (2, 5)], caminho: [0, 2, 5]\n",
      "{(1, 0): [1, 0], (2, 0): [2, 0], (3, 0): [3, 1, 0], (4, 0): [4, 3, 1, 0], (5, 0): [5, 2, 0], (0, 1): [0, 1], (2, 1): [2, 0, 1], (3, 1): [3, 1], (4, 1): [4, 3, 1], (5, 1): [5, 2, 0, 1], (0, 2): [0, 2], (1, 2): [1, 0, 2], (3, 2): [3, 2], (4, 2): [4, 3, 2], (5, 2): [5, 2], (0, 3): [0, 1, 3], (1, 3): [1, 3], (2, 3): [2, 3], (4, 3): [4, 3], (5, 3): [5, 2, 3], (0, 4): [0, 1, 3, 4], (1, 4): [1, 3, 4], (2, 4): [2, 3, 4], (3, 4): [3, 4], (5, 4): [5, 4], (0, 5): [0, 2, 5], (1, 5): [1, 0, 2, 5], (2, 5): [2, 5], (3, 5): [3, 2, 5], (4, 5): [4, 5]}\n",
      "canais:2, origem:0, destino:5, rota:[(0, 2), (2, 5)], caminho: [0, 2, 5]\n",
      "canais:2, origem:1, destino:2, rota:[(1, 0), (0, 2)], caminho: [1, 0, 2]\n",
      "{(1, 0): [1, 0], (2, 0): [2, 0], (3, 0): [3, 1, 0], (4, 0): [4, 3, 1, 0], (5, 0): [5, 2, 0], (0, 1): [0, 1], (2, 1): [2, 0, 1], (3, 1): [3, 1], (4, 1): [4, 3, 1], (5, 1): [5, 2, 0, 1], (0, 2): [0, 2], (1, 2): [1, 0, 2], (3, 2): [3, 2], (4, 2): [4, 3, 2], (5, 2): [5, 2], (0, 3): [0, 1, 3], (1, 3): [1, 3], (2, 3): [2, 3], (4, 3): [4, 3], (5, 3): [5, 2, 3], (0, 4): [0, 1, 3, 4], (1, 4): [1, 3, 4], (2, 4): [2, 3, 4], (3, 4): [3, 4], (5, 4): [5, 4], (0, 5): [0, 2, 5], (1, 5): [1, 0, 2, 5], (2, 5): [2, 5], (3, 5): [3, 2, 5], (4, 5): [4, 5]}\n",
      "canais:2, origem:1, destino:2, rota:[(1, 0), (0, 2)], caminho: [1, 0, 2]\n",
      "canais:2, origem:1, destino:3, rota:[(1, 3)], caminho: [1, 3]\n",
      "{(1, 0): [1, 0], (2, 0): [2, 0], (3, 0): [3, 1, 0], (4, 0): [4, 3, 1, 0], (5, 0): [5, 2, 0], (0, 1): [0, 1], (2, 1): [2, 0, 1], (3, 1): [3, 1], (4, 1): [4, 3, 1], (5, 1): [5, 2, 0, 1], (0, 2): [0, 2], (1, 2): [1, 0, 2], (3, 2): [3, 2], (4, 2): [4, 3, 2], (5, 2): [5, 2], (0, 3): [0, 1, 3], (1, 3): [1, 3], (2, 3): [2, 3], (4, 3): [4, 3], (5, 3): [5, 2, 3], (0, 4): [0, 1, 3, 4], (1, 4): [1, 3, 4], (2, 4): [2, 3, 4], (3, 4): [3, 4], (5, 4): [5, 4], (0, 5): [0, 2, 5], (1, 5): [1, 0, 2, 5], (2, 5): [2, 5], (3, 5): [3, 2, 5], (4, 5): [4, 5]}\n",
      "canais:2, origem:1, destino:3, rota:[(1, 3)], caminho: [1, 3]\n",
      "canais:2, origem:1, destino:4, rota:[(1, 3), (3, 4)], caminho: [1, 3, 4]\n",
      "{(1, 0): [1, 0], (2, 0): [2, 0], (3, 0): [3, 1, 0], (4, 0): [4, 3, 1, 0], (5, 0): [5, 2, 0], (0, 1): [0, 1], (2, 1): [2, 0, 1], (3, 1): [3, 1], (4, 1): [4, 3, 2, 0, 1], (5, 1): [5, 2, 0, 1], (0, 2): [0, 2], (1, 2): [1, 0, 2], (3, 2): [3, 2], (4, 2): [4, 3, 2], (5, 2): [5, 2], (0, 3): [0, 1, 3], (1, 3): [1, 3], (2, 3): [2, 3], (4, 3): [4, 3], (5, 3): [5, 2, 3], (0, 4): [0, 1, 3, 4], (1, 4): [1, 3, 4], (2, 4): [2, 3, 4], (3, 4): [3, 4], (5, 4): [5, 4], (0, 5): [0, 2, 5], (1, 5): [1, 0, 2, 5], (2, 5): [2, 5], (3, 5): [3, 2, 5], (4, 5): [4, 5]}\n",
      "canais:2, origem:1, destino:4, rota:[(1, 3), (3, 4)], caminho: [1, 3, 4]\n",
      "bloqueio (1, 4)\n",
      "canais:2, origem:1, destino:5, rota:[(1, 0), (0, 2), (2, 5)], caminho: [1, 0, 2, 5]\n",
      "{(1, 0): [1, 0], (2, 0): [2, 0], (3, 0): [3, 1, 0], (4, 0): [4, 3, 1, 0], (5, 0): [5, 2, 0], (0, 1): [0, 1], (2, 1): [2, 0, 1], (3, 1): [3, 1], (4, 1): [4, 3, 2, 0, 1], (5, 1): [5, 2], (0, 2): [0, 2], (1, 2): [1, 0, 2], (3, 2): [3, 2], (4, 2): [4, 3, 2], (5, 2): [5, 2], (0, 3): [0, 1, 3], (1, 3): [1, 3], (2, 3): [2, 3], (4, 3): [4, 3], (5, 3): [5, 2, 3], (0, 4): [0, 1, 3, 4], (1, 4): [1, 3, 4], (2, 4): [2, 3, 4], (3, 4): [3, 4], (5, 4): [5, 4], (0, 5): [0, 2, 5], (1, 5): [1, 0, 2, 5], (2, 5): [2, 5], (3, 5): [3, 2, 5], (4, 5): [4, 5]}\n",
      "canais:2, origem:1, destino:5, rota:[(1, 0), (0, 2), (2, 5)], caminho: [1, 0, 2, 5]\n",
      "bloqueio (1, 5)\n",
      "canais:2, origem:2, destino:3, rota:[(2, 3)], caminho: [2, 3]\n",
      "{(1, 0): [1, 0], (2, 0): [2, 0], (3, 0): [3, 1, 0], (4, 0): [4, 3, 1, 0], (5, 0): [5, 2, 0], (0, 1): [0, 1], (2, 1): [2, 0, 1], (3, 1): [3, 1], (4, 1): [4, 3, 2, 0, 1], (5, 1): [5, 2], (0, 2): [0, 2], (1, 2): [1, 0, 2], (3, 2): [3, 2], (4, 2): [4, 3, 2], (5, 2): [5, 2], (0, 3): [0, 1, 3], (1, 3): [1, 3], (2, 3): [2, 3], (4, 3): [4, 3], (5, 3): [5, 2, 3], (0, 4): [0, 1, 3, 4], (1, 4): [1, 3, 4], (2, 4): [2, 3, 4], (3, 4): [3, 4], (5, 4): [5, 4], (0, 5): [0, 2, 5], (1, 5): [1, 0, 2, 5], (2, 5): [2, 5], (3, 5): [3, 2, 5], (4, 5): [4, 5]}\n",
      "canais:2, origem:2, destino:3, rota:[(2, 3)], caminho: [2, 3]\n",
      "canais:2, origem:2, destino:4, rota:[(2, 3), (3, 4)], caminho: [2, 3, 4]\n",
      "{(1, 0): [1, 0], (2, 0): [2, 0], (3, 0): [3, 1, 0], (4, 0): [4, 3, 1, 0], (5, 0): [5, 2, 0], (0, 1): [0, 1], (2, 1): [2, 0, 1], (3, 1): [3, 1], (4, 1): [4, 3, 2, 0, 1], (5, 1): [5, 2], (0, 2): [0, 2], (1, 2): [1, 0, 2], (3, 2): [3, 2], (4, 2): [4, 3, 2], (5, 2): [5, 2], (0, 3): [0, 1, 3], (1, 3): [1, 3], (2, 3): [2, 3], (4, 3): [4, 3], (5, 3): [5, 2, 3], (0, 4): [0, 1, 3, 4], (1, 4): [1, 3, 4], (2, 4): [2, 3, 4], (3, 4): [3, 4], (5, 4): [5, 4], (0, 5): [0, 2, 5], (1, 5): [1, 0, 2, 5], (2, 5): [2, 5], (3, 5): [3, 2, 5], (4, 5): [4, 5]}\n",
      "canais:2, origem:2, destino:4, rota:[(2, 3), (3, 4)], caminho: [2, 3, 4]\n",
      "canais:2, origem:2, destino:5, rota:[(2, 5)], caminho: [2, 5]\n",
      "{(1, 0): [1, 0], (2, 0): [2, 0], (3, 0): [3, 1, 0], (4, 0): [4, 3, 1, 0], (5, 0): [5, 2, 0], (0, 1): [0, 1], (2, 1): [2, 0, 1], (3, 1): [3, 1], (4, 1): [4, 3, 2, 0, 1], (5, 1): [5, 2], (0, 2): [0, 2], (1, 2): [1, 0, 2], (3, 2): [3, 2], (4, 2): [4, 3, 2], (5, 2): [5, 2], (0, 3): [0, 1, 3], (1, 3): [1, 3], (2, 3): [2, 3], (4, 3): [4, 3], (5, 3): [5, 2, 3], (0, 4): [0, 1, 3, 4], (1, 4): [1, 3, 4], (2, 4): [2, 3, 4], (3, 4): [3, 4], (5, 4): [5, 4], (0, 5): [0, 2, 5], (1, 5): [1, 0, 2, 5], (2, 5): [2, 5], (3, 5): [3, 2, 5], (4, 5): [4, 5]}\n",
      "canais:2, origem:2, destino:5, rota:[(2, 5)], caminho: [2, 5]\n",
      "canais:2, origem:3, destino:4, rota:[(3, 4)], caminho: [3, 4]\n",
      "{(1, 0): [1, 0], (2, 0): [2, 0], (3, 0): [3, 1, 0], (4, 0): [4, 3, 1, 0], (5, 0): [5, 2, 0], (0, 1): [0, 1], (2, 1): [2, 0, 1], (3, 1): [3, 1], (4, 1): [4, 3, 2, 0, 1], (5, 1): [5, 2], (0, 2): [0, 2], (1, 2): [1, 0, 2], (3, 2): [3, 2], (4, 2): [4, 3, 2], (5, 2): [5, 2], (0, 3): [0, 1, 3], (1, 3): [1, 3], (2, 3): [2, 3], (4, 3): [4, 3], (5, 3): [5, 2, 3], (0, 4): [0, 1, 3, 4], (1, 4): [1, 3, 4], (2, 4): [2, 3, 4], (3, 4): [3, 4], (5, 4): [5, 4], (0, 5): [0, 2, 5], (1, 5): [1, 0, 2, 5], (2, 5): [2, 5], (3, 5): [3, 2, 5], (4, 5): [4, 5]}\n",
      "canais:2, origem:3, destino:4, rota:[(3, 4)], caminho: [3, 4]\n",
      "canais:2, origem:3, destino:5, rota:[(3, 2), (2, 5)], caminho: [3, 2, 5]\n",
      "{(1, 0): [1, 0], (2, 0): [2, 0], (3, 0): [3, 1, 0], (4, 0): [4, 3, 1, 0], (5, 0): [5, 2, 0], (0, 1): [0, 1], (2, 1): [2, 0, 1], (3, 1): [3, 1], (4, 1): [4, 3, 2, 0, 1], (5, 1): [5, 2], (0, 2): [0, 2], (1, 2): [1, 0, 2], (3, 2): [3, 2], (4, 2): [4, 3, 2], (5, 2): [5, 2], (0, 3): [0, 1, 3], (1, 3): [1, 3], (2, 3): [2, 3], (4, 3): [4, 3], (5, 3): [5, 4, 3], (0, 4): [0, 1, 3, 4], (1, 4): [1, 3, 4], (2, 4): [2, 3, 4], (3, 4): [3, 4], (5, 4): [5, 4], (0, 5): [0, 2, 5], (1, 5): [1, 0, 2, 5], (2, 5): [2, 5], (3, 5): [3, 2, 5], (4, 5): [4, 5]}\n",
      "canais:2, origem:3, destino:5, rota:[(3, 2), (2, 5)], caminho: [3, 2, 5]\n",
      "bloqueio (3, 5)\n",
      "canais:2, origem:4, destino:5, rota:[(4, 5)], caminho: [4, 5]\n",
      "{(1, 0): [1, 0], (2, 0): [2, 0], (3, 0): [3, 1, 0], (4, 0): [4, 3, 1, 0], (5, 0): [5, 2, 0], (0, 1): [0, 1], (2, 1): [2, 0, 1], (3, 1): [3, 1], (4, 1): [4, 3, 2, 0, 1], (5, 1): [5, 2], (0, 2): [0, 2], (1, 2): [1, 0, 2], (3, 2): [3, 2], (4, 2): [4, 3, 2], (5, 2): [5, 2], (0, 3): [0, 1, 3], (1, 3): [1, 3], (2, 3): [2, 3], (4, 3): [4, 3], (5, 3): [5, 4, 3], (0, 4): [0, 1, 3, 4], (1, 4): [1, 3, 4], (2, 4): [2, 3, 4], (3, 4): [3, 4], (5, 4): [5, 4], (0, 5): [0, 2, 5], (1, 5): [1, 0, 2, 5], (2, 5): [2, 5], (3, 5): [3, 2, 5], (4, 5): [4, 5]}\n",
      "canais:2, origem:4, destino:5, rota:[(4, 5)], caminho: [4, 5]\n",
      "demandas:26, rede:scteste, bloqueios:4, wiener: 25, grau: 2.3333333333333335\n",
      "matriz:\n",
      "[[0 1 1 0 1 0]\n",
      " [1 0 0 1 0 1]\n",
      " [1 0 0 1 1 1]\n",
      " [0 1 1 0 1 0]\n",
      " [1 0 1 1 0 1]\n",
      " [0 1 1 0 1 0]]\n",
      "\n",
      "===========iteracao (1)============\n",
      "\n",
      "{(1, 0): [1, 0]}\n",
      "{(1, 0): [1, 0], (2, 0): [2, 0]}\n",
      "{(1, 0): [1, 0], (2, 0): [2, 0], (3, 0): [3, 1, 0]}\n",
      "{(1, 0): [1, 0], (2, 0): [2, 0], (3, 0): [3, 1, 0], (4, 0): [4, 0]}\n",
      "{(1, 0): [1, 0], (2, 0): [2, 0], (3, 0): [3, 1, 0], (4, 0): [4, 0], (5, 0): [5, 1, 0]}\n",
      "{(1, 0): [1, 0], (2, 0): [2, 0], (3, 0): [3, 1, 0], (4, 0): [4, 0], (5, 0): [5, 1, 0], (0, 1): [0, 1]}\n",
      "{(1, 0): [1, 0], (2, 0): [2, 0], (3, 0): [3, 1, 0], (4, 0): [4, 0], (5, 0): [5, 1, 0], (0, 1): [0, 1], (2, 1): [2, 0, 1]}{(1, 0): [1, 0], (2, 0): [2, 0], (3, 0): [3, 1, 0], (4, 0): [4, 0], (5, 0): [5, 1, 0], (0, 1): [0, 1], (2, 1): [2, 0, 1], (3, 1): [3, 1]}\n",
      "{(1, 0): [1, 0], (2, 0): [2, 0], (3, 0): [3, 1, 0], (4, 0): [4, 0], (5, 0): [5, 1, 0], (0, 1): [0, 1], (2, 1): [2, 0, 1], (3, 1): [3, 1], (4, 1): [4, 0, 1]}\n",
      "{(1, 0): [1, 0], (2, 0): [2, 0], (3, 0): [3, 1, 0], (4, 0): [4, 0], (5, 0): [5, 1, 0], (0, 1): [0, 1], (2, 1): [2, 0, 1], (3, 1): [3, 1], (4, 1): [4, 0, 1], (5, 1): [5, 1]}\n",
      "\n",
      "{(1, 0): [1, 0], (2, 0): [2, 0], (3, 0): [3, 1, 0], (4, 0): [4, 0], (5, 0): [5, 1, 0], (0, 1): [0, 1], (2, 1): [2, 0, 1], (3, 1): [3, 1], (4, 1): [4, 0, 1], (5, 1): [5, 1], (0, 2): [0, 2]}\n",
      "{(1, 0): [1, 0], (2, 0): [2, 0], (3, 0): [3, 1, 0], (4, 0): [4, 0], (5, 0): [5, 1, 0], (0, 1): [0, 1], (2, 1): [2, 0, 1], (3, 1): [3, 1], (4, 1): [4, 0, 1], (5, 1): [5, 1], (0, 2): [0, 2], (1, 2): [1, 0, 2]}\n",
      "{(1, 0): [1, 0], (2, 0): [2, 0], (3, 0): [3, 1, 0], (4, 0): [4, 0], (5, 0): [5, 1, 0], (0, 1): [0, 1], (2, 1): [2, 0, 1], (3, 1): [3, 1], (4, 1): [4, 0, 1], (5, 1): [5, 1], (0, 2): [0, 2], (1, 2): [1, 0, 2], (3, 2): [3, 2]}\n",
      "{(1, 0): [1, 0], (2, 0): [2, 0], (3, 0): [3, 1, 0], (4, 0): [4, 0], (5, 0): [5, 1, 0], (0, 1): [0, 1], (2, 1): [2, 0, 1], (3, 1): [3, 1], (4, 1): [4, 0, 1], (5, 1): [5, 1], (0, 2): [0, 2], (1, 2): [1, 0, 2], (3, 2): [3, 2], (4, 2): [4, 2]}\n",
      "{(1, 0): [1, 0], (2, 0): [2, 0], (3, 0): [3, 1, 0], (4, 0): [4, 0], (5, 0): [5, 1, 0], (0, 1): [0, 1], (2, 1): [2, 0, 1], (3, 1): [3, 1], (4, 1): [4, 0, 1], (5, 1): [5, 1], (0, 2): [0, 2], (1, 2): [1, 0, 2], (3, 2): [3, 2], (4, 2): [4, 2], (5, 2): [5, 2]}\n",
      "{(1, 0): [1, 0], (2, 0): [2, 0], (3, 0): [3, 1, 0], (4, 0): [4, 0], (5, 0): [5, 1, 0], (0, 1): [0, 1], (2, 1): [2, 0, 1], (3, 1): [3, 1], (4, 1): [4, 0, 1], (5, 1): [5, 1], (0, 2): [0, 2], (1, 2): [1, 0, 2], (3, 2): [3, 2], (4, 2): [4, 2], (5, 2): [5, 2], (0, 3): [0, 1, 3]}\n",
      "{(1, 0): [1, 0], (2, 0): [2, 0], (3, 0): [3, 1, 0], (4, 0): [4, 0], (5, 0): [5, 1, 0], (0, 1): [0, 1], (2, 1): [2, 0, 1], (3, 1): [3, 1], (4, 1): [4, 0, 1], (5, 1): [5, 1], (0, 2): [0, 2], (1, 2): [1, 0, 2], (3, 2): [3, 2], (4, 2): [4, 2], (5, 2): [5, 2], (0, 3): [0, 1, 3], (1, 3): [1, 3]}\n",
      "{(1, 0): [1, 0], (2, 0): [2, 0], (3, 0): [3, 1, 0], (4, 0): [4, 0], (5, 0): [5, 1, 0], (0, 1): [0, 1], (2, 1): [2, 0, 1], (3, 1): [3, 1], (4, 1): [4, 0, 1], (5, 1): [5, 1], (0, 2): [0, 2], (1, 2): [1, 0, 2], (3, 2): [3, 2], (4, 2): [4, 2], (5, 2): [5, 2], (0, 3): [0, 1, 3], (1, 3): [1, 3], (2, 3): [2, 3]}\n",
      "{(1, 0): [1, 0], (2, 0): [2, 0], (3, 0): [3, 1, 0], (4, 0): [4, 0], (5, 0): [5, 1, 0], (0, 1): [0, 1], (2, 1): [2, 0, 1], (3, 1): [3, 1], (4, 1): [4, 0, 1], (5, 1): [5, 1], (0, 2): [0, 2], (1, 2): [1, 0, 2], (3, 2): [3, 2], (4, 2): [4, 2], (5, 2): [5, 2], (0, 3): [0, 1, 3], (1, 3): [1, 3], (2, 3): [2, 3], (4, 3): [4, 3]}\n",
      "{(1, 0): [1, 0], (2, 0): [2, 0], (3, 0): [3, 1, 0], (4, 0): [4, 0], (5, 0): [5, 1, 0], (0, 1): [0, 1], (2, 1): [2, 0, 1], (3, 1): [3, 1], (4, 1): [4, 0, 1], (5, 1): [5, 1], (0, 2): [0, 2], (1, 2): [1, 0, 2], (3, 2): [3, 2], (4, 2): [4, 2], (5, 2): [5, 2], (0, 3): [0, 1, 3], (1, 3): [1, 3], (2, 3): [2, 3], (4, 3): [4, 3], (5, 3): [5, 1, 3]}\n",
      "{(1, 0): [1, 0], (2, 0): [2, 0], (3, 0): [3, 1, 0], (4, 0): [4, 0], (5, 0): [5, 1, 0], (0, 1): [0, 1], (2, 1): [2, 0, 1], (3, 1): [3, 1], (4, 1): [4, 0, 1], (5, 1): [5, 1], (0, 2): [0, 2], (1, 2): [1, 0, 2], (3, 2): [3, 2], (4, 2): [4, 2], (5, 2): [5, 2], (0, 3): [0, 1, 3], (1, 3): [1, 3], (2, 3): [2, 3], (4, 3): [4, 3], (5, 3): [5, 1, 3], (0, 4): [0, 4]}\n",
      "{(1, 0): [1, 0], (2, 0): [2, 0], (3, 0): [3, 1, 0], (4, 0): [4, 0], (5, 0): [5, 1, 0], (0, 1): [0, 1], (2, 1): [2, 0, 1], (3, 1): [3, 1], (4, 1): [4, 0, 1], (5, 1): [5, 1], (0, 2): [0, 2], (1, 2): [1, 0, 2], (3, 2): [3, 2], (4, 2): [4, 2], (5, 2): [5, 2], (0, 3): [0, 1, 3], (1, 3): [1, 3], (2, 3): [2, 3], (4, 3): [4, 3], (5, 3): [5, 1, 3], (0, 4): [0, 4], (1, 4): [1, 0, 4]}\n",
      "{(1, 0): [1, 0], (2, 0): [2, 0], (3, 0): [3, 1, 0], (4, 0): [4, 0], (5, 0): [5, 1, 0], (0, 1): [0, 1], (2, 1): [2, 0, 1], (3, 1): [3, 1], (4, 1): [4, 0, 1], (5, 1): [5, 1], (0, 2): [0, 2], (1, 2): [1, 0, 2], (3, 2): [3, 2], (4, 2): [4, 2], (5, 2): [5, 2], (0, 3): [0, 1, 3], (1, 3): [1, 3], (2, 3): [2, 3], (4, 3): [4, 3], (5, 3): [5, 1, 3], (0, 4): [0, 4], (1, 4): [1, 0, 4], (2, 4): [2, 4]}\n",
      "{(1, 0): [1, 0], (2, 0): [2, 0], (3, 0): [3, 1, 0], (4, 0): [4, 0], (5, 0): [5, 1, 0], (0, 1): [0, 1], (2, 1): [2, 0, 1], (3, 1): [3, 1], (4, 1): [4, 0, 1], (5, 1): [5, 1], (0, 2): [0, 2], (1, 2): [1, 0, 2], (3, 2): [3, 2], (4, 2): [4, 2], (5, 2): [5, 2], (0, 3): [0, 1, 3], (1, 3): [1, 3], (2, 3): [2, 3], (4, 3): [4, 3], (5, 3): [5, 1, 3], (0, 4): [0, 4], (1, 4): [1, 0, 4], (2, 4): [2, 4], (3, 4): [3, 4]}\n",
      "{(1, 0): [1, 0], (2, 0): [2, 0], (3, 0): [3, 1, 0], (4, 0): [4, 0], (5, 0): [5, 1, 0], (0, 1): [0, 1], (2, 1): [2, 0, 1], (3, 1): [3, 1], (4, 1): [4, 0, 1], (5, 1): [5, 1], (0, 2): [0, 2], (1, 2): [1, 0, 2], (3, 2): [3, 2], (4, 2): [4, 2], (5, 2): [5, 2], (0, 3): [0, 1, 3], (1, 3): [1, 3], (2, 3): [2, 3], (4, 3): [4, 3], (5, 3): [5, 1, 3], (0, 4): [0, 4], (1, 4): [1, 0, 4], (2, 4): [2, 4], (3, 4): [3, 4], (5, 4): [5, 4]}\n",
      "{(1, 0): [1, 0], (2, 0): [2, 0], (3, 0): [3, 1, 0], (4, 0): [4, 0], (5, 0): [5, 1, 0], (0, 1): [0, 1], (2, 1): [2, 0, 1], (3, 1): [3, 1], (4, 1): [4, 0, 1], (5, 1): [5, 1], (0, 2): [0, 2], (1, 2): [1, 0, 2], (3, 2): [3, 2], (4, 2): [4, 2], (5, 2): [5, 2], (0, 3): [0, 1, 3], (1, 3): [1, 3], (2, 3): [2, 3], (4, 3): [4, 3], (5, 3): [5, 1, 3], (0, 4): [0, 4], (1, 4): [1, 0, 4], (2, 4): [2, 4], (3, 4): [3, 4], (5, 4): [5, 4], (0, 5): [0, 1, 5]}{(1, 0): [1, 0], (2, 0): [2, 0], (3, 0): [3, 1, 0], (4, 0): [4, 0], (5, 0): [5, 1, 0], (0, 1): [0, 1], (2, 1): [2, 0, 1], (3, 1): [3, 1], (4, 1): [4, 0, 1], (5, 1): [5, 1], (0, 2): [0, 2], (1, 2): [1, 0, 2], (3, 2): [3, 2], (4, 2): [4, 2], (5, 2): [5, 2], (0, 3): [0, 1, 3], (1, 3): [1, 3], (2, 3): [2, 3], (4, 3): [4, 3], (5, 3): [5, 1, 3], (0, 4): [0, 4], (1, 4): [1, 0, 4], (2, 4): [2, 4], (3, 4): [3, 4], (5, 4): [5, 4], (0, 5): [0, 1, 5], (1, 5): [1, 5]}\n",
      "{(1, 0): [1, 0], (2, 0): [2, 0], (3, 0): [3, 1, 0], (4, 0): [4, 0], (5, 0): [5, 1, 0], (0, 1): [0, 1], (2, 1): [2, 0, 1], (3, 1): [3, 1], (4, 1): [4, 0, 1], (5, 1): [5, 1], (0, 2): [0, 2], (1, 2): [1, 0, 2], (3, 2): [3, 2], (4, 2): [4, 2], (5, 2): [5, 2], (0, 3): [0, 1, 3], (1, 3): [1, 3], (2, 3): [2, 3], (4, 3): [4, 3], (5, 3): [5, 1, 3], (0, 4): [0, 4], (1, 4): [1, 0, 4], (2, 4): [2, 4], (3, 4): [3, 4], (5, 4): [5, 4], (0, 5): [0, 1, 5], (1, 5): [1, 5], (2, 5): [2, 5]}\n",
      "{(1, 0): [1, 0], (2, 0): [2, 0], (3, 0): [3, 1, 0], (4, 0): [4, 0], (5, 0): [5, 1, 0], (0, 1): [0, 1], (2, 1): [2, 0, 1], (3, 1): [3, 1], (4, 1): [4, 0, 1], (5, 1): [5, 1], (0, 2): [0, 2], (1, 2): [1, 0, 2], (3, 2): [3, 2], (4, 2): [4, 2], (5, 2): [5, 2], (0, 3): [0, 1, 3], (1, 3): [1, 3], (2, 3): [2, 3], (4, 3): [4, 3], (5, 3): [5, 1, 3], (0, 4): [0, 4], (1, 4): [1, 0, 4], (2, 4): [2, 4], (3, 4): [3, 4], (5, 4): [5, 4], (0, 5): [0, 1, 5], (1, 5): [1, 5], (2, 5): [2, 5], (3, 5): [3, 1, 5]}\n",
      "{(1, 0): [1, 0], (2, 0): [2, 0], (3, 0): [3, 1, 0], (4, 0): [4, 0], (5, 0): [5, 1, 0], (0, 1): [0, 1], (2, 1): [2, 0, 1], (3, 1): [3, 1], (4, 1): [4, 0, 1], (5, 1): [5, 1], (0, 2): [0, 2], (1, 2): [1, 0, 2], (3, 2): [3, 2], (4, 2): [4, 2], (5, 2): [5, 2], (0, 3): [0, 1, 3], (1, 3): [1, 3], (2, 3): [2, 3], (4, 3): [4, 3], (5, 3): [5, 1, 3], (0, 4): [0, 4], (1, 4): [1, 0, 4], (2, 4): [2, 4], (3, 4): [3, 4], (5, 4): [5, 4], (0, 5): [0, 1, 5], (1, 5): [1, 5], (2, 5): [2, 5], (3, 5): [3, 1, 5], (4, 5): [4, 5]}\n",
      "\n",
      "wiener antes: 20\n",
      "canais:2, origem:0, destino:1, rota:[(0, 1)], caminho: [0, 1]\n",
      "{(1, 0): [1, 0], (2, 0): [2, 0], (3, 0): [3, 1, 0], (4, 0): [4, 0], (5, 0): [5, 1, 0], (0, 1): [0, 1], (2, 1): [2, 0, 1], (3, 1): [3, 1], (4, 1): [4, 0, 1], (5, 1): [5, 1], (0, 2): [0, 2], (1, 2): [1, 0, 2], (3, 2): [3, 2], (4, 2): [4, 2], (5, 2): [5, 2], (0, 3): [0, 1, 3], (1, 3): [1, 3], (2, 3): [2, 3], (4, 3): [4, 3], (5, 3): [5, 1, 3], (0, 4): [0, 4], (1, 4): [1, 0, 4], (2, 4): [2, 4], (3, 4): [3, 4], (5, 4): [5, 4], (0, 5): [0, 1, 5], (1, 5): [1, 5], (2, 5): [2, 5], (3, 5): [3, 1, 5], (4, 5): [4, 5]}\n",
      "canais:2, origem:0, destino:1, rota:[(0, 1)], caminho: [0, 1]\n",
      "canais:2, origem:0, destino:2, rota:[(0, 2)], caminho: [0, 2]\n",
      "{(1, 0): [1, 0], (2, 0): [2, 0], (3, 0): [3, 1, 0], (4, 0): [4, 0], (5, 0): [5, 1, 0], (0, 1): [0, 1], (2, 1): [2, 0, 1], (3, 1): [3, 1], (4, 1): [4, 0, 1], (5, 1): [5, 1], (0, 2): [0, 2], (1, 2): [1, 0, 2], (3, 2): [3, 2], (4, 2): [4, 2], (5, 2): [5, 2], (0, 3): [0, 1, 3], (1, 3): [1, 3], (2, 3): [2, 3], (4, 3): [4, 3], (5, 3): [5, 1, 3], (0, 4): [0, 4], (1, 4): [1, 0, 4], (2, 4): [2, 4], (3, 4): [3, 4], (5, 4): [5, 4], (0, 5): [0, 1, 5], (1, 5): [1, 5], (2, 5): [2, 5], (3, 5): [3, 1, 5], (4, 5): [4, 5]}\n",
      "canais:2, origem:0, destino:2, rota:[(0, 2)], caminho: [0, 2]\n",
      "canais:2, origem:0, destino:3, rota:[(0, 1), (1, 3)], caminho: [0, 1, 3]\n",
      "{(1, 0): [1, 0], (2, 0): [2, 0], (3, 0): [3, 1, 0], (4, 0): [4, 0], (5, 0): [5, 1, 0], (0, 1): [0, 1], (2, 1): [2, 0, 1], (3, 1): [3, 1], (4, 1): [4, 0, 1], (5, 1): [5, 1], (0, 2): [0, 2], (1, 2): [1, 0, 2], (3, 2): [3, 2], (4, 2): [4, 2], (5, 2): [5, 2], (0, 3): [0, 1, 3], (1, 3): [1, 3], (2, 3): [2, 3], (4, 3): [4, 3], (5, 3): [5, 1, 3], (0, 4): [0, 4], (1, 4): [1, 0, 4], (2, 4): [2, 4], (3, 4): [3, 4], (5, 4): [5, 4], (0, 5): [0, 1, 5], (1, 5): [1, 5], (2, 5): [2, 5], (3, 5): [3, 1, 5], (4, 5): [4, 5]}\n",
      "canais:2, origem:0, destino:3, rota:[(0, 1), (1, 3)], caminho: [0, 1, 3]\n",
      "canais:2, origem:0, destino:4, rota:[(0, 4)], caminho: [0, 4]\n",
      "{(1, 0): [1, 0], (2, 0): [2, 0], (3, 0): [3, 1, 0], (4, 0): [4, 0], (5, 0): [5, 1, 0], (0, 1): [0, 1], (2, 1): [2, 0, 1], (3, 1): [3, 1], (4, 1): [4, 0, 1], (5, 1): [5, 1], (0, 2): [0, 2], (1, 2): [1, 0, 2], (3, 2): [3, 2], (4, 2): [4, 2], (5, 2): [5, 2], (0, 3): [0, 1, 3], (1, 3): [1, 3], (2, 3): [2, 3], (4, 3): [4, 3], (5, 3): [5, 1, 3], (0, 4): [0, 4], (1, 4): [1, 0, 4], (2, 4): [2, 4], (3, 4): [3, 4], (5, 4): [5, 4], (0, 5): [0, 1, 5], (1, 5): [1, 5], (2, 5): [2, 5], (3, 5): [3, 1, 5], (4, 5): [4, 5]}\n",
      "canais:2, origem:0, destino:4, rota:[(0, 4)], caminho: [0, 4]\n",
      "canais:2, origem:0, destino:5, rota:[(0, 1), (1, 5)], caminho: [0, 1, 5]\n",
      "{(1, 0): [1, 0], (2, 0): [2, 0], (3, 0): [3, 1, 0], (4, 0): [4, 0], (5, 0): [5, 1, 0], (0, 1): [0, 1], (2, 1): [2, 0, 1], (3, 1): [3, 1], (4, 1): [4, 0, 1], (5, 1): [5, 1], (0, 2): [0, 2], (1, 2): [1, 0, 2], (3, 2): [3, 2], (4, 2): [4, 2], (5, 2): [5, 2], (0, 3): [0, 1, 3], (1, 3): [1, 3], (2, 3): [2, 3], (4, 3): [4, 3], (5, 3): [5, 1, 3], (0, 4): [0, 4], (1, 4): [1, 0, 4], (2, 4): [2, 4], (3, 4): [3, 4], (5, 4): [5, 4], (0, 5): [0, 1, 5], (1, 5): [1, 5], (2, 5): [2, 5], (3, 5): [3, 1, 5], (4, 5): [4, 5]}\n",
      "canais:2, origem:0, destino:5, rota:[(0, 1), (1, 5)], caminho: [0, 1, 5]\n",
      "canais:2, origem:1, destino:2, rota:[(1, 0), (0, 2)], caminho: [1, 0, 2]\n",
      "{(1, 0): [1, 0], (2, 0): [2, 0], (3, 0): [3, 1, 0], (4, 0): [4, 0], (5, 0): [5, 1, 0], (0, 1): [0, 1], (2, 1): [2, 0, 1], (3, 1): [3, 1], (4, 1): [4, 0, 1], (5, 1): [5, 1], (0, 2): [0, 2], (1, 2): [1, 0, 2], (3, 2): [3, 2], (4, 2): [4, 2], (5, 2): [5, 2], (0, 3): [0, 1, 3], (1, 3): [1, 3], (2, 3): [2, 3], (4, 3): [4, 3], (5, 3): [5, 1, 3], (0, 4): [0, 4], (1, 4): [1, 0, 4], (2, 4): [2, 4], (3, 4): [3, 4], (5, 4): [5, 4], (0, 5): [0, 1, 5], (1, 5): [1, 5], (2, 5): [2, 5], (3, 5): [3, 1, 5], (4, 5): [4, 5]}\n",
      "canais:2, origem:1, destino:2, rota:[(1, 0), (0, 2)], caminho: [1, 0, 2]\n",
      "canais:2, origem:1, destino:3, rota:[(1, 3)], caminho: [1, 3]\n",
      "{(1, 0): [1, 0], (2, 0): [2, 0], (3, 0): [3, 1, 0], (4, 0): [4, 0], (5, 0): [5, 1, 0], (0, 1): [0, 1], (2, 1): [2, 0, 1], (3, 1): [3, 1], (4, 1): [4, 0, 1], (5, 1): [5, 1], (0, 2): [0, 2], (1, 2): [1, 0, 2], (3, 2): [3, 2], (4, 2): [4, 2], (5, 2): [5, 2], (0, 3): [0, 1, 3], (1, 3): [1, 3], (2, 3): [2, 3], (4, 3): [4, 3], (5, 3): [5, 1, 3], (0, 4): [0, 4], (1, 4): [1, 0, 4], (2, 4): [2, 4], (3, 4): [3, 4], (5, 4): [5, 4], (0, 5): [0, 1, 5], (1, 5): [1, 5], (2, 5): [2, 5], (3, 5): [3, 1, 5], (4, 5): [4, 5]}\n",
      "canais:2, origem:1, destino:3, rota:[(1, 3)], caminho: [1, 3]\n",
      "canais:2, origem:1, destino:4, rota:[(1, 0), (0, 4)], caminho: [1, 0, 4]\n",
      "{(1, 0): [1, 0], (2, 0): [2, 0], (3, 0): [3, 1, 0], (4, 0): [4, 0], (5, 0): [5, 1, 0], (0, 1): [0, 1], (2, 1): [2, 0, 1], (3, 1): [3, 1], (4, 1): [4, 0, 1], (5, 1): [5, 1], (0, 2): [0, 2], (1, 2): [1, 0, 2], (3, 2): [3, 2], (4, 2): [4, 2], (5, 2): [5, 2], (0, 3): [0, 1, 3], (1, 3): [1, 3], (2, 3): [2, 3], (4, 3): [4, 3], (5, 3): [5, 1, 3], (0, 4): [0, 4], (1, 4): [1, 0, 4], (2, 4): [2, 4], (3, 4): [3, 4], (5, 4): [5, 4], (0, 5): [0, 1, 5], (1, 5): [1, 5], (2, 5): [2, 5], (3, 5): [3, 1, 5], (4, 5): [4, 5]}\n",
      "canais:2, origem:1, destino:4, rota:[(1, 0), (0, 4)], caminho: [1, 0, 4]\n",
      "canais:2, origem:1, destino:5, rota:[(1, 5)], caminho: [1, 5]\n",
      "{(1, 0): [1, 0], (2, 0): [2, 0], (3, 0): [3, 1, 0], (4, 0): [4, 0], (5, 0): [5, 1, 0], (0, 1): [0, 1], (2, 1): [2, 0, 1], (3, 1): [3, 1], (4, 1): [4, 0, 1], (5, 1): [5, 1], (0, 2): [0, 2], (1, 2): [1, 0, 2], (3, 2): [3, 2], (4, 2): [4, 2], (5, 2): [5, 2], (0, 3): [0, 1, 3], (1, 3): [1, 3], (2, 3): [2, 3], (4, 3): [4, 3], (5, 3): [5, 1, 3], (0, 4): [0, 4], (1, 4): [1, 0, 4], (2, 4): [2, 4], (3, 4): [3, 4], (5, 4): [5, 4], (0, 5): [0, 1, 5], (1, 5): [1, 5], (2, 5): [2, 5], (3, 5): [3, 1, 5], (4, 5): [4, 5]}\n",
      "canais:2, origem:1, destino:5, rota:[(1, 5)], caminho: [1, 5]\n",
      "canais:2, origem:2, destino:3, rota:[(2, 3)], caminho: [2, 3]\n",
      "{(1, 0): [1, 0], (2, 0): [2, 0], (3, 0): [3, 1, 0], (4, 0): [4, 0], (5, 0): [5, 1, 0], (0, 1): [0, 1], (2, 1): [2, 0, 1], (3, 1): [3, 1], (4, 1): [4, 0, 1], (5, 1): [5, 1], (0, 2): [0, 2], (1, 2): [1, 0, 2], (3, 2): [3, 2], (4, 2): [4, 2], (5, 2): [5, 2], (0, 3): [0, 1, 3], (1, 3): [1, 3], (2, 3): [2, 3], (4, 3): [4, 3], (5, 3): [5, 1, 3], (0, 4): [0, 4], (1, 4): [1, 0, 4], (2, 4): [2, 4], (3, 4): [3, 4], (5, 4): [5, 4], (0, 5): [0, 1, 5], (1, 5): [1, 5], (2, 5): [2, 5], (3, 5): [3, 1, 5], (4, 5): [4, 5]}\n",
      "canais:2, origem:2, destino:3, rota:[(2, 3)], caminho: [2, 3]\n",
      "canais:2, origem:2, destino:4, rota:[(2, 4)], caminho: [2, 4]\n",
      "{(1, 0): [1, 0], (2, 0): [2, 0], (3, 0): [3, 1, 0], (4, 0): [4, 0], (5, 0): [5, 1, 0], (0, 1): [0, 1], (2, 1): [2, 0, 1], (3, 1): [3, 1], (4, 1): [4, 0, 1], (5, 1): [5, 1], (0, 2): [0, 2], (1, 2): [1, 0, 2], (3, 2): [3, 2], (4, 2): [4, 2], (5, 2): [5, 2], (0, 3): [0, 1, 3], (1, 3): [1, 3], (2, 3): [2, 3], (4, 3): [4, 3], (5, 3): [5, 1, 3], (0, 4): [0, 4], (1, 4): [1, 0, 4], (2, 4): [2, 4], (3, 4): [3, 4], (5, 4): [5, 4], (0, 5): [0, 1, 5], (1, 5): [1, 5], (2, 5): [2, 5], (3, 5): [3, 1, 5], (4, 5): [4, 5]}\n",
      "canais:2, origem:2, destino:4, rota:[(2, 4)], caminho: [2, 4]\n",
      "canais:2, origem:2, destino:5, rota:[(2, 5)], caminho: [2, 5]\n",
      "{(1, 0): [1, 0], (2, 0): [2, 0], (3, 0): [3, 1, 0], (4, 0): [4, 0], (5, 0): [5, 1, 0], (0, 1): [0, 1], (2, 1): [2, 0, 1], (3, 1): [3, 1], (4, 1): [4, 0, 1], (5, 1): [5, 1], (0, 2): [0, 2], (1, 2): [1, 0, 2], (3, 2): [3, 2], (4, 2): [4, 2], (5, 2): [5, 2], (0, 3): [0, 1, 3], (1, 3): [1, 3], (2, 3): [2, 3], (4, 3): [4, 3], (5, 3): [5, 1, 3], (0, 4): [0, 4], (1, 4): [1, 0, 4], (2, 4): [2, 4], (3, 4): [3, 4], (5, 4): [5, 4], (0, 5): [0, 1, 5], (1, 5): [1, 5], (2, 5): [2, 5], (3, 5): [3, 1, 5], (4, 5): [4, 5]}\n",
      "canais:2, origem:2, destino:5, rota:[(2, 5)], caminho: [2, 5]\n",
      "canais:2, origem:3, destino:4, rota:[(3, 4)], caminho: [3, 4]\n",
      "{(1, 0): [1, 0], (2, 0): [2, 0], (3, 0): [3, 1, 0], (4, 0): [4, 0], (5, 0): [5, 1, 0], (0, 1): [0, 1], (2, 1): [2, 0, 1], (3, 1): [3, 1], (4, 1): [4, 0, 1], (5, 1): [5, 1], (0, 2): [0, 2], (1, 2): [1, 0, 2], (3, 2): [3, 2], (4, 2): [4, 2], (5, 2): [5, 2], (0, 3): [0, 1, 3], (1, 3): [1, 3], (2, 3): [2, 3], (4, 3): [4, 3], (5, 3): [5, 1, 3], (0, 4): [0, 4], (1, 4): [1, 0, 4], (2, 4): [2, 4], (3, 4): [3, 4], (5, 4): [5, 4], (0, 5): [0, 1, 5], (1, 5): [1, 5], (2, 5): [2, 5], (3, 5): [3, 1, 5], (4, 5): [4, 5]}\n",
      "canais:2, origem:3, destino:4, rota:[(3, 4)], caminho: [3, 4]\n",
      "canais:2, origem:3, destino:5, rota:[(3, 1), (1, 5)], caminho: [3, 1, 5]\n",
      "{(1, 0): [1, 0], (2, 0): [2, 0], (3, 0): [3, 1, 0], (4, 0): [4, 0], (5, 0): [5, 1, 0], (0, 1): [0, 1], (2, 1): [2, 0, 1], (3, 1): [3, 1], (4, 1): [4, 0, 1], (5, 1): [5, 1], (0, 2): [0, 2], (1, 2): [1, 0, 2], (3, 2): [3, 2], (4, 2): [4, 2], (5, 2): [5, 2], (0, 3): [0, 1, 3], (1, 3): [1, 3], (2, 3): [2, 3], (4, 3): [4, 3], (5, 3): [5, 2, 3], (0, 4): [0, 4], (1, 4): [1, 0, 4], (2, 4): [2, 4], (3, 4): [3, 4], (5, 4): [5, 4], (0, 5): [0, 1, 5], (1, 5): [1, 5], (2, 5): [2, 5], (3, 5): [3, 1, 5], (4, 5): [4, 5]}\n",
      "canais:2, origem:3, destino:5, rota:[(3, 1), (1, 5)], caminho: [3, 1, 5]\n",
      "bloqueio (3, 5)\n",
      "canais:2, origem:4, destino:5, rota:[(4, 5)], caminho: [4, 5]\n",
      "{(1, 0): [1, 0], (2, 0): [2, 0], (3, 0): [3, 1, 0], (4, 0): [4, 0], (5, 0): [5, 1, 0], (0, 1): [0, 1], (2, 1): [2, 0, 1], (3, 1): [3, 1], (4, 1): [4, 0, 1], (5, 1): [5, 1], (0, 2): [0, 2], (1, 2): [1, 0, 2], (3, 2): [3, 2], (4, 2): [4, 2], (5, 2): [5, 2], (0, 3): [0, 1, 3], (1, 3): [1, 3], (2, 3): [2, 3], (4, 3): [4, 3], (5, 3): [5, 2, 3], (0, 4): [0, 4], (1, 4): [1, 0, 4], (2, 4): [2, 4], (3, 4): [3, 4], (5, 4): [5, 4], (0, 5): [0, 1, 5], (1, 5): [1, 5], (2, 5): [2, 5], (3, 5): [3, 1, 5], (4, 5): [4, 5]}\n",
      "canais:2, origem:4, destino:5, rota:[(4, 5)], caminho: [4, 5]\n",
      "demandas:32, rede:scteste, bloqueios:1, wiener: 20, grau: 3.3333333333333335\n",
      "matriz:\n",
      "[[0 1 1 1 1 1]\n",
      " [1 0 0 1 1 1]\n",
      " [1 0 0 1 1 1]\n",
      " [1 1 1 0 1 1]\n",
      " [1 1 1 1 0 1]\n",
      " [1 1 1 1 1 0]]\n",
      "\n",
      "===========iteracao (2)============\n",
      "\n",
      "{(1, 0): [1, 0]}\n",
      "{(1, 0): [1, 0], (2, 0): [2, 0]}\n",
      "{(1, 0): [1, 0], (2, 0): [2, 0], (3, 0): [3, 0]}\n",
      "{(1, 0): [1, 0], (2, 0): [2, 0], (3, 0): [3, 0], (4, 0): [4, 0]}\n",
      "{(1, 0): [1, 0], (2, 0): [2, 0], (3, 0): [3, 0], (4, 0): [4, 0], (5, 0): [5, 0]}\n",
      "{(1, 0): [1, 0], (2, 0): [2, 0], (3, 0): [3, 0], (4, 0): [4, 0], (5, 0): [5, 0], (0, 1): [0, 1]}\n",
      "{(1, 0): [1, 0], (2, 0): [2, 0], (3, 0): [3, 0], (4, 0): [4, 0], (5, 0): [5, 0], (0, 1): [0, 1], (2, 1): [2, 0, 1]}\n",
      "{(1, 0): [1, 0], (2, 0): [2, 0], (3, 0): [3, 0], (4, 0): [4, 0], (5, 0): [5, 0], (0, 1): [0, 1], (2, 1): [2, 0, 1], (3, 1): [3, 1]}\n",
      "{(1, 0): [1, 0], (2, 0): [2, 0], (3, 0): [3, 0], (4, 0): [4, 0], (5, 0): [5, 0], (0, 1): [0, 1], (2, 1): [2, 0, 1], (3, 1): [3, 1], (4, 1): [4, 1]}\n",
      "{(1, 0): [1, 0], (2, 0): [2, 0], (3, 0): [3, 0], (4, 0): [4, 0], (5, 0): [5, 0], (0, 1): [0, 1], (2, 1): [2, 0, 1], (3, 1): [3, 1], (4, 1): [4, 1], (5, 1): [5, 1]}\n",
      "{(1, 0): [1, 0], (2, 0): [2, 0], (3, 0): [3, 0], (4, 0): [4, 0], (5, 0): [5, 0], (0, 1): [0, 1], (2, 1): [2, 0, 1], (3, 1): [3, 1], (4, 1): [4, 1], (5, 1): [5, 1], (0, 2): [0, 2]}\n",
      "{(1, 0): [1, 0], (2, 0): [2, 0], (3, 0): [3, 0], (4, 0): [4, 0], (5, 0): [5, 0], (0, 1): [0, 1], (2, 1): [2, 0, 1], (3, 1): [3, 1], (4, 1): [4, 1], (5, 1): [5, 1], (0, 2): [0, 2], (1, 2): [1, 0, 2]}\n",
      "{(1, 0): [1, 0], (2, 0): [2, 0], (3, 0): [3, 0], (4, 0): [4, 0], (5, 0): [5, 0], (0, 1): [0, 1], (2, 1): [2, 0, 1], (3, 1): [3, 1], (4, 1): [4, 1], (5, 1): [5, 1], (0, 2): [0, 2], (1, 2): [1, 0, 2], (3, 2): [3, 2]}{(1, 0): [1, 0], (2, 0): [2, 0], (3, 0): [3, 0], (4, 0): [4, 0], (5, 0): [5, 0], (0, 1): [0, 1], (2, 1): [2, 0, 1], (3, 1): [3, 1], (4, 1): [4, 1], (5, 1): [5, 1], (0, 2): [0, 2], (1, 2): [1, 0, 2], (3, 2): [3, 2], (4, 2): [4, 2]}\n",
      "{(1, 0): [1, 0], (2, 0): [2, 0], (3, 0): [3, 0], (4, 0): [4, 0], (5, 0): [5, 0], (0, 1): [0, 1], (2, 1): [2, 0, 1], (3, 1): [3, 1], (4, 1): [4, 1], (5, 1): [5, 1], (0, 2): [0, 2], (1, 2): [1, 0, 2], (3, 2): [3, 2], (4, 2): [4, 2], (5, 2): [5, 2]}\n",
      "{(1, 0): [1, 0], (2, 0): [2, 0], (3, 0): [3, 0], (4, 0): [4, 0], (5, 0): [5, 0], (0, 1): [0, 1], (2, 1): [2, 0, 1], (3, 1): [3, 1], (4, 1): [4, 1], (5, 1): [5, 1], (0, 2): [0, 2], (1, 2): [1, 0, 2], (3, 2): [3, 2], (4, 2): [4, 2], (5, 2): [5, 2], (0, 3): [0, 3]}\n",
      "{(1, 0): [1, 0], (2, 0): [2, 0], (3, 0): [3, 0], (4, 0): [4, 0], (5, 0): [5, 0], (0, 1): [0, 1], (2, 1): [2, 0, 1], (3, 1): [3, 1], (4, 1): [4, 1], (5, 1): [5, 1], (0, 2): [0, 2], (1, 2): [1, 0, 2], (3, 2): [3, 2], (4, 2): [4, 2], (5, 2): [5, 2], (0, 3): [0, 3], (1, 3): [1, 3]}\n",
      "{(1, 0): [1, 0], (2, 0): [2, 0], (3, 0): [3, 0], (4, 0): [4, 0], (5, 0): [5, 0], (0, 1): [0, 1], (2, 1): [2, 0, 1], (3, 1): [3, 1], (4, 1): [4, 1], (5, 1): [5, 1], (0, 2): [0, 2], (1, 2): [1, 0, 2], (3, 2): [3, 2], (4, 2): [4, 2], (5, 2): [5, 2], (0, 3): [0, 3], (1, 3): [1, 3], (2, 3): [2, 3]}\n",
      "\n",
      "{(1, 0): [1, 0], (2, 0): [2, 0], (3, 0): [3, 0], (4, 0): [4, 0], (5, 0): [5, 0], (0, 1): [0, 1], (2, 1): [2, 0, 1], (3, 1): [3, 1], (4, 1): [4, 1], (5, 1): [5, 1], (0, 2): [0, 2], (1, 2): [1, 0, 2], (3, 2): [3, 2], (4, 2): [4, 2], (5, 2): [5, 2], (0, 3): [0, 3], (1, 3): [1, 3], (2, 3): [2, 3], (4, 3): [4, 3]}\n",
      "{(1, 0): [1, 0], (2, 0): [2, 0], (3, 0): [3, 0], (4, 0): [4, 0], (5, 0): [5, 0], (0, 1): [0, 1], (2, 1): [2, 0, 1], (3, 1): [3, 1], (4, 1): [4, 1], (5, 1): [5, 1], (0, 2): [0, 2], (1, 2): [1, 0, 2], (3, 2): [3, 2], (4, 2): [4, 2], (5, 2): [5, 2], (0, 3): [0, 3], (1, 3): [1, 3], (2, 3): [2, 3], (4, 3): [4, 3], (5, 3): [5, 3]}\n",
      "{(1, 0): [1, 0], (2, 0): [2, 0], (3, 0): [3, 0], (4, 0): [4, 0], (5, 0): [5, 0], (0, 1): [0, 1], (2, 1): [2, 0, 1], (3, 1): [3, 1], (4, 1): [4, 1], (5, 1): [5, 1], (0, 2): [0, 2], (1, 2): [1, 0, 2], (3, 2): [3, 2], (4, 2): [4, 2], (5, 2): [5, 2], (0, 3): [0, 3], (1, 3): [1, 3], (2, 3): [2, 3], (4, 3): [4, 3], (5, 3): [5, 3], (0, 4): [0, 4]}\n",
      "{(1, 0): [1, 0], (2, 0): [2, 0], (3, 0): [3, 0], (4, 0): [4, 0], (5, 0): [5, 0], (0, 1): [0, 1], (2, 1): [2, 0, 1], (3, 1): [3, 1], (4, 1): [4, 1], (5, 1): [5, 1], (0, 2): [0, 2], (1, 2): [1, 0, 2], (3, 2): [3, 2], (4, 2): [4, 2], (5, 2): [5, 2], (0, 3): [0, 3], (1, 3): [1, 3], (2, 3): [2, 3], (4, 3): [4, 3], (5, 3): [5, 3], (0, 4): [0, 4], (1, 4): [1, 4]}\n",
      "{(1, 0): [1, 0], (2, 0): [2, 0], (3, 0): [3, 0], (4, 0): [4, 0], (5, 0): [5, 0], (0, 1): [0, 1], (2, 1): [2, 0, 1], (3, 1): [3, 1], (4, 1): [4, 1], (5, 1): [5, 1], (0, 2): [0, 2], (1, 2): [1, 0, 2], (3, 2): [3, 2], (4, 2): [4, 2], (5, 2): [5, 2], (0, 3): [0, 3], (1, 3): [1, 3], (2, 3): [2, 3], (4, 3): [4, 3], (5, 3): [5, 3], (0, 4): [0, 4], (1, 4): [1, 4], (2, 4): [2, 4]}\n",
      "{(1, 0): [1, 0], (2, 0): [2, 0], (3, 0): [3, 0], (4, 0): [4, 0], (5, 0): [5, 0], (0, 1): [0, 1], (2, 1): [2, 0, 1], (3, 1): [3, 1], (4, 1): [4, 1], (5, 1): [5, 1], (0, 2): [0, 2], (1, 2): [1, 0, 2], (3, 2): [3, 2], (4, 2): [4, 2], (5, 2): [5, 2], (0, 3): [0, 3], (1, 3): [1, 3], (2, 3): [2, 3], (4, 3): [4, 3], (5, 3): [5, 3], (0, 4): [0, 4], (1, 4): [1, 4], (2, 4): [2, 4], (3, 4): [3, 4]}\n",
      "{(1, 0): [1, 0], (2, 0): [2, 0], (3, 0): [3, 0], (4, 0): [4, 0], (5, 0): [5, 0], (0, 1): [0, 1], (2, 1): [2, 0, 1], (3, 1): [3, 1], (4, 1): [4, 1], (5, 1): [5, 1], (0, 2): [0, 2], (1, 2): [1, 0, 2], (3, 2): [3, 2], (4, 2): [4, 2], (5, 2): [5, 2], (0, 3): [0, 3], (1, 3): [1, 3], (2, 3): [2, 3], (4, 3): [4, 3], (5, 3): [5, 3], (0, 4): [0, 4], (1, 4): [1, 4], (2, 4): [2, 4], (3, 4): [3, 4], (5, 4): [5, 4]}{(1, 0): [1, 0], (2, 0): [2, 0], (3, 0): [3, 0], (4, 0): [4, 0], (5, 0): [5, 0], (0, 1): [0, 1], (2, 1): [2, 0, 1], (3, 1): [3, 1], (4, 1): [4, 1], (5, 1): [5, 1], (0, 2): [0, 2], (1, 2): [1, 0, 2], (3, 2): [3, 2], (4, 2): [4, 2], (5, 2): [5, 2], (0, 3): [0, 3], (1, 3): [1, 3], (2, 3): [2, 3], (4, 3): [4, 3], (5, 3): [5, 3], (0, 4): [0, 4], (1, 4): [1, 4], (2, 4): [2, 4], (3, 4): [3, 4], (5, 4): [5, 4], (0, 5): [0, 5]}{(1, 0): [1, 0], (2, 0): [2, 0], (3, 0): [3, 0], (4, 0): [4, 0], (5, 0): [5, 0], (0, 1): [0, 1], (2, 1): [2, 0, 1], (3, 1): [3, 1], (4, 1): [4, 1], (5, 1): [5, 1], (0, 2): [0, 2], (1, 2): [1, 0, 2], (3, 2): [3, 2], (4, 2): [4, 2], (5, 2): [5, 2], (0, 3): [0, 3], (1, 3): [1, 3], (2, 3): [2, 3], (4, 3): [4, 3], (5, 3): [5, 3], (0, 4): [0, 4], (1, 4): [1, 4], (2, 4): [2, 4], (3, 4): [3, 4], (5, 4): [5, 4], (0, 5): [0, 5], (1, 5): [1, 5]}\n",
      "{(1, 0): [1, 0], (2, 0): [2, 0], (3, 0): [3, 0], (4, 0): [4, 0], (5, 0): [5, 0], (0, 1): [0, 1], (2, 1): [2, 0, 1], (3, 1): [3, 1], (4, 1): [4, 1], (5, 1): [5, 1], (0, 2): [0, 2], (1, 2): [1, 0, 2], (3, 2): [3, 2], (4, 2): [4, 2], (5, 2): [5, 2], (0, 3): [0, 3], (1, 3): [1, 3], (2, 3): [2, 3], (4, 3): [4, 3], (5, 3): [5, 3], (0, 4): [0, 4], (1, 4): [1, 4], (2, 4): [2, 4], (3, 4): [3, 4], (5, 4): [5, 4], (0, 5): [0, 5], (1, 5): [1, 5], (2, 5): [2, 5]}\n",
      "{(1, 0): [1, 0], (2, 0): [2, 0], (3, 0): [3, 0], (4, 0): [4, 0], (5, 0): [5, 0], (0, 1): [0, 1], (2, 1): [2, 0, 1], (3, 1): [3, 1], (4, 1): [4, 1], (5, 1): [5, 1], (0, 2): [0, 2], (1, 2): [1, 0, 2], (3, 2): [3, 2], (4, 2): [4, 2], (5, 2): [5, 2], (0, 3): [0, 3], (1, 3): [1, 3], (2, 3): [2, 3], (4, 3): [4, 3], (5, 3): [5, 3], (0, 4): [0, 4], (1, 4): [1, 4], (2, 4): [2, 4], (3, 4): [3, 4], (5, 4): [5, 4], (0, 5): [0, 5], (1, 5): [1, 5], (2, 5): [2, 5], (3, 5): [3, 5]}\n",
      "{(1, 0): [1, 0], (2, 0): [2, 0], (3, 0): [3, 0], (4, 0): [4, 0], (5, 0): [5, 0], (0, 1): [0, 1], (2, 1): [2, 0, 1], (3, 1): [3, 1], (4, 1): [4, 1], (5, 1): [5, 1], (0, 2): [0, 2], (1, 2): [1, 0, 2], (3, 2): [3, 2], (4, 2): [4, 2], (5, 2): [5, 2], (0, 3): [0, 3], (1, 3): [1, 3], (2, 3): [2, 3], (4, 3): [4, 3], (5, 3): [5, 3], (0, 4): [0, 4], (1, 4): [1, 4], (2, 4): [2, 4], (3, 4): [3, 4], (5, 4): [5, 4], (0, 5): [0, 5], (1, 5): [1, 5], (2, 5): [2, 5], (3, 5): [3, 5], (4, 5): [4, 5]}\n",
      "\n",
      "\n",
      "wiener antes: 16\n",
      "canais:2, origem:0, destino:1, rota:[(0, 1)], caminho: [0, 1]\n",
      "{(1, 0): [1, 0], (2, 0): [2, 0], (3, 0): [3, 0], (4, 0): [4, 0], (5, 0): [5, 0], (0, 1): [0, 1], (2, 1): [2, 0, 1], (3, 1): [3, 1], (4, 1): [4, 1], (5, 1): [5, 1], (0, 2): [0, 2], (1, 2): [1, 0, 2], (3, 2): [3, 2], (4, 2): [4, 2], (5, 2): [5, 2], (0, 3): [0, 3], (1, 3): [1, 3], (2, 3): [2, 3], (4, 3): [4, 3], (5, 3): [5, 3], (0, 4): [0, 4], (1, 4): [1, 4], (2, 4): [2, 4], (3, 4): [3, 4], (5, 4): [5, 4], (0, 5): [0, 5], (1, 5): [1, 5], (2, 5): [2, 5], (3, 5): [3, 5], (4, 5): [4, 5]}\n",
      "canais:2, origem:0, destino:1, rota:[(0, 1)], caminho: [0, 1]\n",
      "canais:2, origem:0, destino:2, rota:[(0, 2)], caminho: [0, 2]\n",
      "{(1, 0): [1, 0], (2, 0): [2, 0], (3, 0): [3, 0], (4, 0): [4, 0], (5, 0): [5, 0], (0, 1): [0, 1], (2, 1): [2, 0, 1], (3, 1): [3, 1], (4, 1): [4, 1], (5, 1): [5, 1], (0, 2): [0, 2], (1, 2): [1, 0, 2], (3, 2): [3, 2], (4, 2): [4, 2], (5, 2): [5, 2], (0, 3): [0, 3], (1, 3): [1, 3], (2, 3): [2, 3], (4, 3): [4, 3], (5, 3): [5, 3], (0, 4): [0, 4], (1, 4): [1, 4], (2, 4): [2, 4], (3, 4): [3, 4], (5, 4): [5, 4], (0, 5): [0, 5], (1, 5): [1, 5], (2, 5): [2, 5], (3, 5): [3, 5], (4, 5): [4, 5]}\n",
      "canais:2, origem:0, destino:2, rota:[(0, 2)], caminho: [0, 2]\n",
      "canais:2, origem:0, destino:3, rota:[(0, 3)], caminho: [0, 3]\n",
      "{(1, 0): [1, 0], (2, 0): [2, 0], (3, 0): [3, 0], (4, 0): [4, 0], (5, 0): [5, 0], (0, 1): [0, 1], (2, 1): [2, 0, 1], (3, 1): [3, 1], (4, 1): [4, 1], (5, 1): [5, 1], (0, 2): [0, 2], (1, 2): [1, 0, 2], (3, 2): [3, 2], (4, 2): [4, 2], (5, 2): [5, 2], (0, 3): [0, 3], (1, 3): [1, 3], (2, 3): [2, 3], (4, 3): [4, 3], (5, 3): [5, 3], (0, 4): [0, 4], (1, 4): [1, 4], (2, 4): [2, 4], (3, 4): [3, 4], (5, 4): [5, 4], (0, 5): [0, 5], (1, 5): [1, 5], (2, 5): [2, 5], (3, 5): [3, 5], (4, 5): [4, 5]}\n",
      "canais:2, origem:0, destino:3, rota:[(0, 3)], caminho: [0, 3]\n",
      "canais:2, origem:0, destino:4, rota:[(0, 4)], caminho: [0, 4]\n",
      "{(1, 0): [1, 0], (2, 0): [2, 0], (3, 0): [3, 0], (4, 0): [4, 0], (5, 0): [5, 0], (0, 1): [0, 1], (2, 1): [2, 0, 1], (3, 1): [3, 1], (4, 1): [4, 1], (5, 1): [5, 1], (0, 2): [0, 2], (1, 2): [1, 0, 2], (3, 2): [3, 2], (4, 2): [4, 2], (5, 2): [5, 2], (0, 3): [0, 3], (1, 3): [1, 3], (2, 3): [2, 3], (4, 3): [4, 3], (5, 3): [5, 3], (0, 4): [0, 4], (1, 4): [1, 4], (2, 4): [2, 4], (3, 4): [3, 4], (5, 4): [5, 4], (0, 5): [0, 5], (1, 5): [1, 5], (2, 5): [2, 5], (3, 5): [3, 5], (4, 5): [4, 5]}\n",
      "canais:2, origem:0, destino:4, rota:[(0, 4)], caminho: [0, 4]\n",
      "canais:2, origem:0, destino:5, rota:[(0, 5)], caminho: [0, 5]\n",
      "{(1, 0): [1, 0], (2, 0): [2, 0], (3, 0): [3, 0], (4, 0): [4, 0], (5, 0): [5, 0], (0, 1): [0, 1], (2, 1): [2, 0, 1], (3, 1): [3, 1], (4, 1): [4, 1], (5, 1): [5, 1], (0, 2): [0, 2], (1, 2): [1, 0, 2], (3, 2): [3, 2], (4, 2): [4, 2], (5, 2): [5, 2], (0, 3): [0, 3], (1, 3): [1, 3], (2, 3): [2, 3], (4, 3): [4, 3], (5, 3): [5, 3], (0, 4): [0, 4], (1, 4): [1, 4], (2, 4): [2, 4], (3, 4): [3, 4], (5, 4): [5, 4], (0, 5): [0, 5], (1, 5): [1, 5], (2, 5): [2, 5], (3, 5): [3, 5], (4, 5): [4, 5]}\n",
      "canais:2, origem:0, destino:5, rota:[(0, 5)], caminho: [0, 5]\n",
      "canais:2, origem:1, destino:2, rota:[(1, 0), (0, 2)], caminho: [1, 0, 2]\n",
      "{(1, 0): [1, 0], (2, 0): [2, 0], (3, 0): [3, 0], (4, 0): [4, 0], (5, 0): [5, 0], (0, 1): [0, 1], (2, 1): [2, 0, 1], (3, 1): [3, 1], (4, 1): [4, 1], (5, 1): [5, 1], (0, 2): [0, 2], (1, 2): [1, 0, 2], (3, 2): [3, 2], (4, 2): [4, 2], (5, 2): [5, 2], (0, 3): [0, 3], (1, 3): [1, 3], (2, 3): [2, 3], (4, 3): [4, 3], (5, 3): [5, 3], (0, 4): [0, 4], (1, 4): [1, 4], (2, 4): [2, 4], (3, 4): [3, 4], (5, 4): [5, 4], (0, 5): [0, 5], (1, 5): [1, 5], (2, 5): [2, 5], (3, 5): [3, 5], (4, 5): [4, 5]}\n",
      "canais:2, origem:1, destino:2, rota:[(1, 0), (0, 2)], caminho: [1, 0, 2]\n",
      "canais:2, origem:1, destino:3, rota:[(1, 3)], caminho: [1, 3]\n",
      "{(1, 0): [1, 0], (2, 0): [2, 0], (3, 0): [3, 0], (4, 0): [4, 0], (5, 0): [5, 0], (0, 1): [0, 1], (2, 1): [2, 0, 1], (3, 1): [3, 1], (4, 1): [4, 1], (5, 1): [5, 1], (0, 2): [0, 2], (1, 2): [1, 0, 2], (3, 2): [3, 2], (4, 2): [4, 2], (5, 2): [5, 2], (0, 3): [0, 3], (1, 3): [1, 3], (2, 3): [2, 3], (4, 3): [4, 3], (5, 3): [5, 3], (0, 4): [0, 4], (1, 4): [1, 4], (2, 4): [2, 4], (3, 4): [3, 4], (5, 4): [5, 4], (0, 5): [0, 5], (1, 5): [1, 5], (2, 5): [2, 5], (3, 5): [3, 5], (4, 5): [4, 5]}\n",
      "canais:2, origem:1, destino:3, rota:[(1, 3)], caminho: [1, 3]\n",
      "canais:2, origem:1, destino:4, rota:[(1, 4)], caminho: [1, 4]\n",
      "{(1, 0): [1, 0], (2, 0): [2, 0], (3, 0): [3, 0], (4, 0): [4, 0], (5, 0): [5, 0], (0, 1): [0, 1], (2, 1): [2, 0, 1], (3, 1): [3, 1], (4, 1): [4, 1], (5, 1): [5, 1], (0, 2): [0, 2], (1, 2): [1, 0, 2], (3, 2): [3, 2], (4, 2): [4, 2], (5, 2): [5, 2], (0, 3): [0, 3], (1, 3): [1, 3], (2, 3): [2, 3], (4, 3): [4, 3], (5, 3): [5, 3], (0, 4): [0, 4], (1, 4): [1, 4], (2, 4): [2, 4], (3, 4): [3, 4], (5, 4): [5, 4], (0, 5): [0, 5], (1, 5): [1, 5], (2, 5): [2, 5], (3, 5): [3, 5], (4, 5): [4, 5]}\n",
      "canais:2, origem:1, destino:4, rota:[(1, 4)], caminho: [1, 4]\n",
      "canais:2, origem:1, destino:5, rota:[(1, 5)], caminho: [1, 5]\n",
      "{(1, 0): [1, 0], (2, 0): [2, 0], (3, 0): [3, 0], (4, 0): [4, 0], (5, 0): [5, 0], (0, 1): [0, 1], (2, 1): [2, 0, 1], (3, 1): [3, 1], (4, 1): [4, 1], (5, 1): [5, 1], (0, 2): [0, 2], (1, 2): [1, 0, 2], (3, 2): [3, 2], (4, 2): [4, 2], (5, 2): [5, 2], (0, 3): [0, 3], (1, 3): [1, 3], (2, 3): [2, 3], (4, 3): [4, 3], (5, 3): [5, 3], (0, 4): [0, 4], (1, 4): [1, 4], (2, 4): [2, 4], (3, 4): [3, 4], (5, 4): [5, 4], (0, 5): [0, 5], (1, 5): [1, 5], (2, 5): [2, 5], (3, 5): [3, 5], (4, 5): [4, 5]}\n",
      "canais:2, origem:1, destino:5, rota:[(1, 5)], caminho: [1, 5]\n",
      "canais:2, origem:2, destino:3, rota:[(2, 3)], caminho: [2, 3]\n",
      "{(1, 0): [1, 0], (2, 0): [2, 0], (3, 0): [3, 0], (4, 0): [4, 0], (5, 0): [5, 0], (0, 1): [0, 1], (2, 1): [2, 0, 1], (3, 1): [3, 1], (4, 1): [4, 1], (5, 1): [5, 1], (0, 2): [0, 2], (1, 2): [1, 0, 2], (3, 2): [3, 2], (4, 2): [4, 2], (5, 2): [5, 2], (0, 3): [0, 3], (1, 3): [1, 3], (2, 3): [2, 3], (4, 3): [4, 3], (5, 3): [5, 3], (0, 4): [0, 4], (1, 4): [1, 4], (2, 4): [2, 4], (3, 4): [3, 4], (5, 4): [5, 4], (0, 5): [0, 5], (1, 5): [1, 5], (2, 5): [2, 5], (3, 5): [3, 5], (4, 5): [4, 5]}\n",
      "canais:2, origem:2, destino:3, rota:[(2, 3)], caminho: [2, 3]\n",
      "canais:2, origem:2, destino:4, rota:[(2, 4)], caminho: [2, 4]\n",
      "{(1, 0): [1, 0], (2, 0): [2, 0], (3, 0): [3, 0], (4, 0): [4, 0], (5, 0): [5, 0], (0, 1): [0, 1], (2, 1): [2, 0, 1], (3, 1): [3, 1], (4, 1): [4, 1], (5, 1): [5, 1], (0, 2): [0, 2], (1, 2): [1, 0, 2], (3, 2): [3, 2], (4, 2): [4, 2], (5, 2): [5, 2], (0, 3): [0, 3], (1, 3): [1, 3], (2, 3): [2, 3], (4, 3): [4, 3], (5, 3): [5, 3], (0, 4): [0, 4], (1, 4): [1, 4], (2, 4): [2, 4], (3, 4): [3, 4], (5, 4): [5, 4], (0, 5): [0, 5], (1, 5): [1, 5], (2, 5): [2, 5], (3, 5): [3, 5], (4, 5): [4, 5]}\n",
      "canais:2, origem:2, destino:4, rota:[(2, 4)], caminho: [2, 4]\n",
      "canais:2, origem:2, destino:5, rota:[(2, 5)], caminho: [2, 5]\n",
      "{(1, 0): [1, 0], (2, 0): [2, 0], (3, 0): [3, 0], (4, 0): [4, 0], (5, 0): [5, 0], (0, 1): [0, 1], (2, 1): [2, 0, 1], (3, 1): [3, 1], (4, 1): [4, 1], (5, 1): [5, 1], (0, 2): [0, 2], (1, 2): [1, 0, 2], (3, 2): [3, 2], (4, 2): [4, 2], (5, 2): [5, 2], (0, 3): [0, 3], (1, 3): [1, 3], (2, 3): [2, 3], (4, 3): [4, 3], (5, 3): [5, 3], (0, 4): [0, 4], (1, 4): [1, 4], (2, 4): [2, 4], (3, 4): [3, 4], (5, 4): [5, 4], (0, 5): [0, 5], (1, 5): [1, 5], (2, 5): [2, 5], (3, 5): [3, 5], (4, 5): [4, 5]}\n",
      "canais:2, origem:2, destino:5, rota:[(2, 5)], caminho: [2, 5]\n",
      "canais:2, origem:3, destino:4, rota:[(3, 4)], caminho: [3, 4]\n",
      "{(1, 0): [1, 0], (2, 0): [2, 0], (3, 0): [3, 0], (4, 0): [4, 0], (5, 0): [5, 0], (0, 1): [0, 1], (2, 1): [2, 0, 1], (3, 1): [3, 1], (4, 1): [4, 1], (5, 1): [5, 1], (0, 2): [0, 2], (1, 2): [1, 0, 2], (3, 2): [3, 2], (4, 2): [4, 2], (5, 2): [5, 2], (0, 3): [0, 3], (1, 3): [1, 3], (2, 3): [2, 3], (4, 3): [4, 3], (5, 3): [5, 3], (0, 4): [0, 4], (1, 4): [1, 4], (2, 4): [2, 4], (3, 4): [3, 4], (5, 4): [5, 4], (0, 5): [0, 5], (1, 5): [1, 5], (2, 5): [2, 5], (3, 5): [3, 5], (4, 5): [4, 5]}\n",
      "canais:2, origem:3, destino:4, rota:[(3, 4)], caminho: [3, 4]\n",
      "canais:2, origem:3, destino:5, rota:[(3, 5)], caminho: [3, 5]\n",
      "{(1, 0): [1, 0], (2, 0): [2, 0], (3, 0): [3, 0], (4, 0): [4, 0], (5, 0): [5, 0], (0, 1): [0, 1], (2, 1): [2, 0, 1], (3, 1): [3, 1], (4, 1): [4, 1], (5, 1): [5, 1], (0, 2): [0, 2], (1, 2): [1, 0, 2], (3, 2): [3, 2], (4, 2): [4, 2], (5, 2): [5, 2], (0, 3): [0, 3], (1, 3): [1, 3], (2, 3): [2, 3], (4, 3): [4, 3], (5, 3): [5, 3], (0, 4): [0, 4], (1, 4): [1, 4], (2, 4): [2, 4], (3, 4): [3, 4], (5, 4): [5, 4], (0, 5): [0, 5], (1, 5): [1, 5], (2, 5): [2, 5], (3, 5): [3, 5], (4, 5): [4, 5]}\n",
      "canais:2, origem:3, destino:5, rota:[(3, 5)], caminho: [3, 5]\n",
      "canais:2, origem:4, destino:5, rota:[(4, 5)], caminho: [4, 5]\n",
      "{(1, 0): [1, 0], (2, 0): [2, 0], (3, 0): [3, 0], (4, 0): [4, 0], (5, 0): [5, 0], (0, 1): [0, 1], (2, 1): [2, 0, 1], (3, 1): [3, 1], (4, 1): [4, 1], (5, 1): [5, 1], (0, 2): [0, 2], (1, 2): [1, 0, 2], (3, 2): [3, 2], (4, 2): [4, 2], (5, 2): [5, 2], (0, 3): [0, 3], (1, 3): [1, 3], (2, 3): [2, 3], (4, 3): [4, 3], (5, 3): [5, 3], (0, 4): [0, 4], (1, 4): [1, 4], (2, 4): [2, 4], (3, 4): [3, 4], (5, 4): [5, 4], (0, 5): [0, 5], (1, 5): [1, 5], (2, 5): [2, 5], (3, 5): [3, 5], (4, 5): [4, 5]}\n",
      "canais:2, origem:4, destino:5, rota:[(4, 5)], caminho: [4, 5]\n",
      "demandas:31, rede:scteste, bloqueios:0, wiener: 16, grau: 4.666666666666667\n",
      "matriz:\n",
      "[[0 1 1 1 1 1]\n",
      " [1 0 1 1 1 1]\n",
      " [1 1 0 1 1 1]\n",
      " [1 1 1 0 1 1]\n",
      " [1 1 1 1 0 1]\n",
      " [1 1 1 1 1 0]]\n"
     ]
    }
   ],
   "source": [
    "n='scteste'\n",
    "matrix = np.matrix(matrizes.get(n)) #cópia instanciada\n",
    "for i in range(3):\n",
    "    print(\"\\n===========iteracao ({})============\\n\".format(i))\n",
    "    rede = sim_rede(n,matrix,2) # usando 2 canais\n",
    "    print(\"wiener antes: {}\".format(rede.wiener()))\n",
    "    # neste teste conectamos todas as entradas com todas as saídas:\n",
    "    for i in range(len(matrix)): #teste de todos com todos\n",
    "        for j in range(len(matrix)):\n",
    "            if(i<j):\n",
    "    #             print(rede.caminhos[i,j])\n",
    "                rede.conectar(i,j)\n",
    "    print(\"demandas:{}, rede:{}, bloqueios:{}, wiener: {}, grau: {}\".format(rede.sum_demandas,n,rede.bloqueios,rede.wiener(),calc_grau(matrix)))\n",
    "    aumentar_grau(matrix,1)\n",
    "#     print(\"demandas(total={}):\\n{}\".format(rede.sum_demandas,rede.demandas))\n",
    "    print(\"matriz:\\n{}\".format(matrix))"
   ]
  },
  {
   "cell_type": "markdown",
   "metadata": {},
   "source": [
    "<h1>Simulação e cálculo de correlação</h1>\n"
   ]
  },
  {
   "cell_type": "markdown",
   "metadata": {},
   "source": [
    "<p>Por fim simula-se o uso da rede:</p>"
   ]
  },
  {
   "cell_type": "code",
   "execution_count": 37,
   "metadata": {},
   "outputs": [],
   "source": [
    "# instanciação das listas para coletar os dados\n",
    "ind_wiener = dict()\n",
    "bloqs = dict()\n",
    "grau = dict()\n",
    "demandas = dict()\n",
    "copias = dict()\n",
    "tentativas = dict()\n",
    "sucesso = dict()\n",
    "n_wiener = dict()\n",
    "n_bloqs = dict()\n",
    "n_demand = dict()\n",
    "correlacao=dict()\n",
    "inc_grau = 1 #incremento do grau"
   ]
  },
  {
   "cell_type": "markdown",
   "metadata": {},
   "source": [
    "instanciar listas de relatórios:"
   ]
  },
  {
   "cell_type": "code",
   "execution_count": 38,
   "metadata": {},
   "outputs": [],
   "source": [
    "def init_listas(n):\n",
    "    ind_wiener.update({n:[]})\n",
    "    bloqs.update({n:[]})\n",
    "    grau.update({n:[]})\n",
    "    copias.update({n:np.matrix(matrizes.get(n))}) #copias das matrizes originais\n",
    "    demandas.update({n:[]})\n",
    "    tentativas.update({n:[]})\n",
    "    sucesso.update({n:[]})\n",
    "    n_wiener.update({n:[]})\n",
    "    n_bloqs.update({n:[]})\n",
    "    n_demand.update({n:[]})"
   ]
  },
  {
   "cell_type": "code",
   "execution_count": 39,
   "metadata": {},
   "outputs": [],
   "source": [
    "mutex2 = Lock()\n",
    "class Counter:\n",
    "    def __init__ (self):\n",
    "        self.count=0\n",
    "        self.redes=[]\n",
    "    def up(self,rede):\n",
    "        self.redes.append(rede)\n",
    "        self.count+=1\n",
    "    def down(self,rede):\n",
    "        self.redes.remove(rede)\n",
    "        self.count-=1\n",
    "    def list_redes(self):\n",
    "        return ', '.join(self.redes)\n",
    "counter = Counter()\n",
    "def simulacao (n):\n",
    "    #inicia listas vazias para o relatório\n",
    "    init_listas(n)\n",
    "    #contador interno de iterações\n",
    "    it=0\n",
    "    g=0\n",
    "    \n",
    "    mutex2.acquire()\n",
    "    try: #evitar prints bagunçados e contar instâncias\n",
    "        counter.up(n)\n",
    "        print(f\"redes:{counter.list_redes()} [{counter.count}]\",file=sys.stderr)\n",
    "    finally:\n",
    "        mutex2.release()\n",
    "        \n",
    "    while g < 5:\n",
    "        g = calc_grau(copias[n]) # carrega a matriz\n",
    "        rede = sim_rede(n,copias[n]) #instancia a simulacao\n",
    "#         print (rede.ncanais,file=sys.stderr)\n",
    "#         print(copias[n],file=sys.stderr)\n",
    "#         print(f'iteração: {it}',file=sys.stderr)\n",
    "        ind_wiener[n] += [rede.wiener()]\n",
    "        grau[n] += [calc_grau(copias[n])] #log...\n",
    "        conexoes = int((len(rede.matrix))**2) # metade numero de interconexões é o numero de nós na portencia de 2\n",
    "#         conexoes = len(rede.matrix)*10\n",
    "        for l in range(conexoes): # conexoes vezes a rede é ocupada\n",
    "            j = randint(0,len(matrix)-1)\n",
    "            i = randint(0,len(matrix)-1)\n",
    "            while j == i: #origem e destino devem ser diferentes\n",
    "                j = randint(0,len(matrix)-1)\n",
    "            rede.conectar(i,j) # conecta i ao j, ocupa a rede\n",
    "        tentativas[n] += [conexoes]\n",
    "        bloqs[n] += [rede.bloqueios]\n",
    "        sucesso[n] += [rede.sucesso]\n",
    "        demandas[n] += [rede.sum_demandas]\n",
    "#         print(\"rede:{}, grau:{}, bloqueios:{}, wiener: {},conexões: {}, sucesso: {}\".format(n,grau[n][it],rede.bloqueios,ind_wiener[n][it],conexoes,rede.sucesso),file=sys.stderr)\n",
    "        if calc_grau(copias[n]) == (len(copias[n])-1): #grau máximo para\n",
    "            break\n",
    "        aumentar_grau(copias[n],inc_grau)\n",
    "        it += 1\n",
    "        \n",
    "    mutex2.acquire()\n",
    "    try: #evitar prints bagunçados\n",
    "        counter.down(n)\n",
    "        print(f\"redes:{counter.list_redes()} [{counter.count}]\",file=sys.stderr)\n",
    "    finally:\n",
    "        mutex2.release()"
   ]
  },
  {
   "cell_type": "markdown",
   "metadata": {},
   "source": [
    "Simular uma rede isolada:"
   ]
  },
  {
   "cell_type": "code",
   "execution_count": 40,
   "metadata": {},
   "outputs": [
    {
     "name": "stderr",
     "output_type": "stream",
     "text": [
      "redes:scteste [1]\n",
      "redes: [0]\n"
     ]
    }
   ],
   "source": [
    "%%capture --no-stderr\n",
    "teste = 'scteste'\n",
    "# teste = 'OmnicomEurope'\n",
    "# teste = 'usaGde'\n",
    "# teste = 'cesnet'\n",
    "n = teste\n",
    "simulacao (teste)"
   ]
  },
  {
   "cell_type": "markdown",
   "metadata": {},
   "source": [
    "Formatação do print de saída"
   ]
  },
  {
   "cell_type": "code",
   "execution_count": 41,
   "metadata": {},
   "outputs": [],
   "source": [
    "def print_rede(n):\n",
    "#     norm_rede(n)\n",
    "    tb = []\n",
    "    print(f'{\"wiener\":>10}{\"demand\":>10}{\"Blocks\":>10}{\"grau\":>10}{\"tentativas\":>12}{\"sucesso\":>10}{\"tx de b\":>10}') #{\"nd\":>10}{\"nw\":>10}{\"nb\":>10}')\n",
    "    for w,d,b,g,t,s in zip(ind_wiener[n],demandas[n],bloqs[n],grau[n],tentativas[n],sucesso[n]): #,nw,nb,nd in.. #,n_wiener[n],n_bloqs[n],n_demand[n]):\n",
    "        print (f\"{w:10}{d:10}{b:10}{g:10.2f}{t:12}{s:10}{b/d:10.7f}\") #{nd:>10.2f}{nw:>10.2f}{nb:>10.2f}\")\n",
    "        tb.append(b/d)\n",
    "#         tb.append(nb/nd)\n",
    "    print(f\"\\ncorrelação de TX de bloqueio/wiener\")\n",
    "    correlacao[n]=corr(tb,ind_wiener[n],True)\n",
    "#     corr(tb,n_wiener[n],True)"
   ]
  },
  {
   "cell_type": "code",
   "execution_count": 42,
   "metadata": {},
   "outputs": [
    {
     "name": "stdout",
     "output_type": "stream",
     "text": [
      "    wiener    demand    Blocks      grau  tentativas   sucesso   tx de b\n",
      "        25        68         7      2.33          36        29 0.1029412\n",
      "        20        78         2      3.33          36        34 0.0256410\n",
      "        16        77         0      4.67          36        36 0.0000000\n",
      "        15        72         0      5.00          36        36 0.0000000\n",
      "\n",
      "correlação de TX de bloqueio/wiener\n",
      "Taxa de correlação entre [x] e [y] é:\n",
      "0.643288084464555\n",
      "----------------- =  0.9681420828485977\n",
      "0.6644562775040068\n"
     ]
    }
   ],
   "source": [
    "print_rede(n)"
   ]
  },
  {
   "cell_type": "code",
   "execution_count": 43,
   "metadata": {},
   "outputs": [
    {
     "name": "stderr",
     "output_type": "stream",
     "text": [
      "Precione S para executar, T para executar tbm usaGde:\n"
     ]
    },
    {
     "name": "stdout",
     "output_type": "stream",
     "text": [
      "s\n"
     ]
    },
    {
     "name": "stderr",
     "output_type": "stream",
     "text": [
      "redes:canarie [1]\n",
      "redes:canarie, italy [2]\n",
      "redes:canarie, italy, vbns [3]\n",
      "redes:canarie, italy, vbns, loni [4]\n",
      "redes:canarie, italy, vbns, loni, germany [5]\n",
      "redes:canarie, italy, vbns, loni, germany, geant2 [6]\n",
      "redes:canarie, italy, vbns, loni, germany, geant2, arpanet [7]\n",
      "redes:canarie, italy, vbns, loni, germany, geant2, arpanet, cesnet [8]\n",
      "redes:canarie, italy, vbns, loni, germany, geant2, arpanet, cesnet, newnet [9]\n",
      "redes:canarie, italy, vbns, loni, germany, geant2, arpanet, cesnet, newnet, rnpBrazil [10]\n",
      "redes:canarie, italy, loni, germany, geant2, arpanet, cesnet, newnet, rnpBrazil [9]\n",
      "redes:canarie, italy, loni, germany, geant2, arpanet, cesnet, newnet, rnpBrazil, pionier [10]\n",
      "redes:canarie, loni, germany, geant2, arpanet, cesnet, newnet, rnpBrazil, pionier [9]\n",
      "redes:canarie, loni, germany, geant2, arpanet, cesnet, newnet, rnpBrazil, pionier, spain [10]\n",
      "redes:canarie, loni, germany, geant2, arpanet, newnet, rnpBrazil, pionier, spain [9]\n",
      "redes:canarie, loni, germany, geant2, arpanet, newnet, rnpBrazil, pionier, spain, renater [10]\n",
      "redes:canarie, loni, germany, geant2, arpanet, newnet, pionier, spain, renater [9]\n",
      "redes:canarie, loni, germany, geant2, arpanet, newnet, pionier, spain, renater, lambdaRailUsa [10]\n",
      "redes:canarie, loni, geant2, arpanet, newnet, pionier, spain, renater, lambdaRailUsa [9]\n",
      "redes:canarie, loni, geant2, arpanet, newnet, pionier, spain, renater, lambdaRailUsa, metrona [10]\n",
      "redes:canarie, loni, geant2, newnet, pionier, spain, renater, lambdaRailUsa, metrona [9]\n",
      "redes:canarie, loni, geant2, newnet, pionier, spain, renater, lambdaRailUsa, metrona, arnes [10]\n",
      "redes:canarie, loni, geant2, newnet, pionier, renater, lambdaRailUsa, metrona, arnes [9]\n",
      "redes:canarie, loni, geant2, newnet, pionier, renater, lambdaRailUsa, metrona, arnes, bren [10]\n",
      "redes:canarie, loni, geant2, newnet, pionier, renater, lambdaRailUsa, metrona, arnes [9]\n",
      "redes:canarie, loni, geant2, newnet, pionier, renater, lambdaRailUsa, metrona, arnes, portugal [10]\n",
      "redes:loni, geant2, newnet, pionier, renater, lambdaRailUsa, metrona, arnes, portugal [9]\n",
      "redes:loni, geant2, newnet, pionier, renater, lambdaRailUsa, metrona, arnes, portugal, sanet [10]\n",
      "redes:loni, geant2, newnet, pionier, renater, metrona, arnes, portugal, sanet [9]\n",
      "redes:loni, geant2, newnet, pionier, renater, metrona, arnes, portugal, sanet, nsfnet [10]\n",
      "redes:loni, geant2, newnet, renater, metrona, arnes, portugal, sanet, nsfnet [9]\n",
      "redes:loni, geant2, newnet, renater, metrona, arnes, portugal, sanet, nsfnet, austria [10]\n",
      "redes:loni, geant2, newnet, renater, metrona, portugal, sanet, nsfnet, austria [9]\n",
      "redes:loni, geant2, newnet, renater, metrona, portugal, sanet, nsfnet, austria, viaDatacenterNet [10]\n",
      "redes:loni, geant2, newnet, renater, metrona, portugal, sanet, austria, viaDatacenterNet [9]\n",
      "redes:loni, geant2, newnet, renater, metrona, portugal, sanet, austria, viaDatacenterNet, coxUsa [10]\n",
      "redes:loni, geant2, newnet, renater, metrona, portugal, sanet, austria, coxUsa [9]\n",
      "redes:loni, geant2, newnet, renater, metrona, portugal, sanet, austria, coxUsa, mzima [10]\n",
      "redes:loni, geant2, renater, metrona, portugal, sanet, austria, coxUsa, mzima [9]\n",
      "redes:loni, geant2, renater, metrona, portugal, sanet, austria, coxUsa, mzima, scteste [10]\n",
      "redes:loni, geant2, renater, metrona, portugal, sanet, coxUsa, mzima, scteste [9]\n",
      "redes:loni, geant2, renater, metrona, portugal, sanet, coxUsa, mzima, scteste, eon [10]\n",
      "redes:loni, geant2, renater, metrona, portugal, sanet, coxUsa, mzima, eon [9]\n",
      "redes:loni, geant2, renater, metrona, portugal, sanet, coxUsa, mzima, eon, memorexEurope [10]\n",
      "redes:loni, geant2, metrona, portugal, sanet, coxUsa, mzima, eon, memorexEurope [9]\n",
      "redes:loni, geant2, metrona, portugal, sanet, coxUsa, mzima, eon, memorexEurope, deutschTelecom [10]\n",
      "redes:loni, metrona, portugal, sanet, coxUsa, mzima, eon, memorexEurope, deutschTelecom [9]\n",
      "redes:loni, metrona, portugal, sanet, coxUsa, mzima, eon, memorexEurope, deutschTelecom, internet2Usa [10]\n",
      "redes:loni, metrona, portugal, sanet, coxUsa, eon, memorexEurope, deutschTelecom, internet2Usa [9]\n",
      "redes:loni, metrona, portugal, sanet, coxUsa, eon, memorexEurope, deutschTelecom, internet2Usa, OmnicomEurope [10]\n",
      "redes:loni, metrona, portugal, sanet, coxUsa, memorexEurope, deutschTelecom, internet2Usa, OmnicomEurope [9]\n",
      "redes:metrona, portugal, sanet, coxUsa, memorexEurope, deutschTelecom, internet2Usa, OmnicomEurope [8]\n",
      "redes:metrona, portugal, coxUsa, memorexEurope, deutschTelecom, internet2Usa, OmnicomEurope [7]\n",
      "redes:metrona, portugal, coxUsa, deutschTelecom, internet2Usa, OmnicomEurope [6]\n",
      "redes:metrona, portugal, coxUsa, internet2Usa, OmnicomEurope [5]\n",
      "redes:metrona, portugal, internet2Usa, OmnicomEurope [4]\n",
      "redes:portugal, internet2Usa, OmnicomEurope [3]\n",
      "redes:internet2Usa, OmnicomEurope [2]\n",
      "redes:internet2Usa [1]\n",
      "redes: [0]\n"
     ]
    }
   ],
   "source": [
    "%%capture --no-stderr\n",
    "# /\\ suprime a saída pode atribuir a uma var: %capture [--no-stderr] [--no-stdout] [--no-display] [output]\n",
    "\n",
    "# Preparar as listas para receberem os resultados\n",
    "\n",
    "print(\"Precione S para executar, T para executar tbm usaGde:\",file=sys.stderr)\n",
    "resposta = input().lower()\n",
    "if resposta == 's' or resposta =='t':\n",
    "    #inicia listas vazias para os relatorios\n",
    "    init_listas(n)\n",
    "\n",
    "    if resposta == 't':\n",
    "        todos = names\n",
    "    else:\n",
    "        todos = [n for n in names if n!='usaGde']\n",
    "        \n",
    "    #simula cada rede em uma thread diferente\n",
    "    with concurrent.futures.ThreadPoolExecutor() as executor:\n",
    "        executor.map(simulacao,todos)\n",
    "else:\n",
    "    print(\"Cancelado\",file=sys.stderr)\n",
    "# for n in [n for n in names if n!='usaGde']: #paralelizei internamente cada rede\n",
    "#     simulacao(n)"
   ]
  },
  {
   "cell_type": "code",
   "execution_count": 44,
   "metadata": {},
   "outputs": [
    {
     "name": "stdout",
     "output_type": "stream",
     "text": [
      "\n",
      "canarie(19):\n",
      "    wiener    demand    Blocks      grau  tentativas   sucesso   tx de b\n",
      "       519       350       228      2.74         361       133 0.6514286\n",
      "       377       779       123      3.79         361       238 0.1578947\n",
      "       322       846        89      4.84         361       272 0.1052009\n",
      "       294       690       116      5.89         361       245 0.1681159\n",
      "\n",
      "correlação de TX de bloqueio/wiener\n",
      "Taxa de correlação entre [x] e [y] é:\n",
      "71.68054174906894\n",
      "----------------- =  0.9346077310977623\n",
      "76.6958579134319\n",
      "\n",
      "italy(14):\n",
      "    wiener    demand    Blocks      grau  tentativas   sucesso   tx de b\n",
      "       170       316        64      4.14         196       132 0.2025316\n",
      "       151       372        52      5.14         196       144 0.1397849\n",
      "\n",
      "correlação de TX de bloqueio/wiener\n",
      "Taxa de correlação entre [x] e [y] é:\n",
      "0.5960936436640907\n",
      "------------------ =  1.0000000000000147\n",
      "0.5960936436640819\n",
      "\n",
      "vbns(12):\n",
      "    wiener    demand    Blocks      grau  tentativas   sucesso   tx de b\n",
      "       156       238        58      2.83         144        86 0.2436975\n",
      "       119       267        44      3.83         144       100 0.1647940\n",
      "       106       269        34      5.00         144       110 0.1263941\n",
      "\n",
      "correlação de TX de bloqueio/wiener\n",
      "Taxa de correlação entre [x] e [y] é:\n",
      "3.0945997378943986\n",
      "------------------ =  0.9972948834265494\n",
      "3.1029936975730164\n",
      "\n",
      "loni(33):\n",
      "    wiener    demand    Blocks      grau  tentativas   sucesso   tx de b\n",
      "      2885      1058       891      2.24        1089       198 0.8421550\n",
      "      1541      1045       808      3.27        1089       281 0.7732057\n",
      "      1311      1299       718      4.30        1089       371 0.5527329\n",
      "      1174      1572       628      5.33        1089       461 0.3994911\n",
      "\n",
      "correlação de TX de bloqueio/wiener\n",
      "Taxa de correlação entre [x] e [y] é:\n",
      "378.61809488262224\n",
      "------------------ =  0.789383226494088\n",
      "479.637876984276\n",
      "\n",
      "germany(17):\n",
      "    wiener    demand    Blocks      grau  tentativas   sucesso   tx de b\n",
      "       367       534       114      3.06         289       175 0.2134831\n",
      "       276       491       113      4.12         289       176 0.2301426\n",
      "       249       572        71      5.18         289       218 0.1241259\n",
      "\n",
      "correlação de TX de bloqueio/wiener\n",
      "Taxa de correlação entre [x] e [y] é:\n",
      "3.963533847861868\n",
      "----------------- =  0.5622462954906424\n",
      "7.049461916690981\n",
      "\n",
      "geant2(32):\n",
      "    wiener    demand    Blocks      grau  tentativas   sucesso   tx de b\n",
      "      1643       850       795      3.12        1024       229 0.9352941\n",
      "      1236      1012       727      4.12        1024       297 0.7183794\n",
      "      1105      1169       669      5.12        1024       355 0.5722840\n",
      "\n",
      "correlação de TX de bloqueio/wiener\n",
      "Taxa de correlação entre [x] e [y] é:\n",
      "100.90740520486906\n",
      "------------------ =  0.9845881258925863\n",
      "102.48692072473517\n",
      "\n",
      "arpanet(20):\n",
      "    wiener    demand    Blocks      grau  tentativas   sucesso   tx de b\n",
      "       523       576       219      3.20         400       181 0.3802083\n",
      "       406       609       199      4.20         400       201 0.3267652\n",
      "       357       799       152      5.20         400       248 0.1902378\n",
      "\n",
      "correlação de TX de bloqueio/wiener\n",
      "Taxa de correlação entre [x] e [y] é:\n",
      "14.825933028200211\n",
      "------------------ =  0.8871917592679966\n",
      "16.711080635411648\n",
      "\n",
      "cesnet(12):\n",
      "    wiener    demand    Blocks      grau  tentativas   sucesso   tx de b\n",
      "       134       330        42      3.17         144       102 0.1272727\n",
      "       114       319        29      4.17         144       115 0.0909091\n",
      "       101       312        24      5.17         144       120 0.0769231\n",
      "\n",
      "correlação de TX de bloqueio/wiener\n",
      "Taxa de correlação entre [x] e [y] é:\n",
      "0.8568764568764493\n",
      "------------------ =  0.9916498908319968\n",
      "0.8640917170449419\n",
      "\n",
      "newnet(26):\n",
      "    wiener    demand    Blocks      grau  tentativas   sucesso   tx de b\n",
      "      1351       662       494      2.38         676       182 0.7462236\n",
      "       855      1096       374      3.38         676       302 0.3412409\n",
      "       718      1270       290      4.38         676       386 0.2283465\n",
      "       654      1301       258      5.38         676       418 0.1983090\n",
      "\n",
      "correlação de TX de bloqueio/wiener\n",
      "Taxa de correlação entre [x] e [y] é:\n",
      "239.17558036069363\n",
      "------------------ =  0.9993014745103406\n",
      "239.34276738447733\n",
      "\n",
      "rnpBrazil(10):\n",
      "    wiener    demand    Blocks      grau  tentativas   sucesso   tx de b\n",
      "       103       178        42      2.40         100        58 0.2359551\n",
      "        80       218        26      3.40         100        74 0.1192661\n",
      "        68       221        17      4.40         100        83 0.0769231\n",
      "        63       212        15      5.40         100        85 0.0707547\n",
      "\n",
      "correlação de TX de bloqueio/wiener\n",
      "Taxa de correlação entre [x] e [y] é:\n",
      "4.055407538073453\n",
      "----------------- =  0.9903398369164285\n",
      "4.094965573333465\n",
      "\n",
      "pionier(21):\n",
      "    wiener    demand    Blocks      grau  tentativas   sucesso   tx de b\n",
      "       700       684       286      2.38         441       155 0.4181287\n",
      "       502       981       199      3.43         441       242 0.2028542\n",
      "       427       853       177      4.48         441       264 0.2075029\n",
      "       393       760       183      5.52         441       258 0.2407895\n",
      "\n",
      "correlação de TX de bloqueio/wiener\n",
      "Taxa de correlação entre [x] e [y] é:\n",
      "37.23823772567914\n",
      "----------------- =  0.8859347342332542\n",
      "42.03270995792658\n",
      "\n",
      "spain(17):\n",
      "    wiener    demand    Blocks      grau  tentativas   sucesso   tx de b\n",
      "       300       371       155      3.29         289       134 0.4177898\n",
      "       262       590        87      4.35         289       202 0.1474576\n",
      "       236       596        85      5.41         289       204 0.1426174\n",
      "\n",
      "correlação de TX de bloqueio/wiener\n",
      "Taxa de correlação entre [x] e [y] é:\n",
      "9.336497753614111\n",
      "----------------- =  0.9209057363817493\n",
      "10.138385922426037\n",
      "\n",
      "renater(27):\n",
      "    wiener    demand    Blocks      grau  tentativas   sucesso   tx de b\n",
      "      1130       784       513      2.59         729       216 0.6543367\n",
      "       882      1225       410      3.63         729       319 0.3346939\n",
      "       773      1226       360      4.67         729       369 0.2936378\n",
      "       704      1282       306      5.70         729       423 0.2386895\n",
      "\n",
      "correlação de TX de bloqueio/wiener\n",
      "Taxa de correlação entre [x] e [y] é:\n",
      "102.61548601222671\n",
      "------------------ =  0.9799565858156135\n",
      "104.71431846832306\n",
      "\n",
      "lambdaRailUsa(19):\n",
      "    wiener    demand    Blocks      grau  tentativas   sucesso   tx de b\n",
      "       602       754       209      2.42         361       152 0.2771883\n",
      "       404       749       137      3.47         361       224 0.1829105\n",
      "       350       660       116      4.53         361       245 0.1757576\n",
      "       311       785        86      5.58         361       275 0.1095541\n",
      "\n",
      "correlação de TX de bloqueio/wiener\n",
      "Taxa de correlação entre [x] e [y] é:\n",
      "25.69985995143918\n",
      "----------------- =  0.960880605938826\n",
      "26.746153260455493\n",
      "\n",
      "metrona(33):\n",
      "    wiener    demand    Blocks      grau  tentativas   sucesso   tx de b\n",
      "      2519       723       858      2.48        1089       231 1.1867220\n",
      "      1528      1058       790      3.52        1089       299 0.7466919\n",
      "      1254      1516       678      4.55        1089       411 0.4472296\n",
      "      1138      1326       702      5.58        1089       387 0.5294118\n",
      "\n",
      "correlação de TX de bloqueio/wiener\n",
      "Taxa de correlação entre [x] e [y] é:\n",
      "609.1329975341032\n",
      "----------------- =  0.9765180105154213\n",
      "623.7806071928908\n",
      "\n",
      "arnes(17):\n",
      "    wiener    demand    Blocks      grau  tentativas   sucesso   tx de b\n",
      "       411       325       187      2.35         289       102 0.5753846\n",
      "       302       436       144      3.41         289       145 0.3302752\n",
      "       260       503       111      4.47         289       178 0.2206759\n",
      "       231       489       116      5.53         289       173 0.2372188\n",
      "\n",
      "correlação de TX de bloqueio/wiener\n",
      "Taxa de correlação entre [x] e [y] é:\n",
      "37.969552230556474\n",
      "------------------ =  0.9803186945573766\n",
      "38.73184551244337\n",
      "\n",
      "bren(10):\n",
      "    wiener    demand    Blocks      grau  tentativas   sucesso   tx de b\n",
      "       105       169        41      2.20         100        59 0.2426036\n",
      "        81       205        16      3.20         100        84 0.0780488\n",
      "        69       200        16      4.20         100        84 0.0800000\n",
      "        64       191        15      5.20         100        85 0.0785340\n",
      "\n",
      "correlação de TX de bloqueio/wiener\n",
      "Taxa de correlação entre [x] e [y] é:\n",
      "4.126389625815776\n",
      "----------------- =  0.9188809815100736\n",
      "4.490668224555629\n",
      "\n",
      "portugal(26):\n",
      "    wiener    demand    Blocks      grau  tentativas   sucesso   tx de b\n",
      "      1183      1073       472      2.77         676       204 0.4398882\n",
      "       828      1022       419      3.77         676       257 0.4099804\n",
      "       704      1154       349      4.77         676       327 0.3024263\n",
      "       642       739       434      5.77         676       242 0.5872801\n",
      "\n",
      "correlação de TX de bloqueio/wiener\n",
      "Taxa de correlação entre [x] e [y] é:\n",
      "-10.1448877242658\n",
      "----------------- =  -0.1189986868427829\n",
      "85.25209809809823\n",
      "\n",
      "sanet(25):\n",
      "    wiener    demand    Blocks      grau  tentativas   sucesso   tx de b\n",
      "      1334       889       425      2.24         625       200 0.4780652\n",
      "       765      1014       352      3.28         625       273 0.3471400\n",
      "       659      1354       237      4.32         625       388 0.1750369\n",
      "       598      1423       189      5.36         625       436 0.1328180\n",
      "\n",
      "correlação de TX de bloqueio/wiener\n",
      "Taxa de correlação entre [x] e [y] é:\n",
      "147.4381491931406\n",
      "----------------- =  0.9136275278806911\n",
      "161.37664933886958\n",
      "\n",
      "nsfnet(14):\n",
      "    wiener    demand    Blocks      grau  tentativas   sucesso   tx de b\n",
      "       195       316        86      3.00         196       110 0.2721519\n",
      "       170       337        56      4.00         196       140 0.1661721\n",
      "       151       345        52      5.00         196       144 0.1507246\n",
      "\n",
      "correlação de TX de bloqueio/wiener\n",
      "Taxa de correlação entre [x] e [y] é:\n",
      "2.7619320659318873\n",
      "------------------ =  0.9467163337843768\n",
      "2.917380811305345\n",
      "\n",
      "austria(15):\n",
      "    wiener    demand    Blocks      grau  tentativas   sucesso   tx de b\n",
      "       228       330       105      2.93         225       120 0.3181818\n",
      "       197       368        90      4.00         225       135 0.2445652\n",
      "       182       477        53      5.07         225       172 0.1111111\n",
      "\n",
      "correlação de TX de bloqueio/wiener\n",
      "Taxa de correlação entre [x] e [y] é:\n",
      "4.603059581320423\n",
      "----------------- =  0.9346593570533362\n",
      "4.924852617783989\n",
      "\n",
      "viaDatacenterNet(9):\n",
      "    wiener    demand    Blocks      grau  tentativas   sucesso   tx de b\n",
      "        71       154        16      2.67          81        65 0.1038961\n",
      "        59       148        16      3.78          81        65 0.1081081\n",
      "        50       163        13      4.89          81        68 0.0797546\n",
      "        45       157         6      6.00          81        75 0.0382166\n",
      "\n",
      "correlação de TX de bloqueio/wiener\n",
      "Taxa de correlação entre [x] e [y] é:\n",
      "0.901362266363634\n",
      "----------------- =  0.8213428985886397\n",
      "1.0974250436845514\n",
      "\n",
      "coxUsa(24):\n",
      "    wiener    demand    Blocks      grau  tentativas   sucesso   tx de b\n",
      "       750       815       288      3.33         576       288 0.3533742\n",
      "       606      1042       240      4.42         576       336 0.2303263\n",
      "       542      1149       177      5.42         576       399 0.1540470\n",
      "\n",
      "correlação de TX de bloqueio/wiener\n",
      "Taxa de correlação entre [x] e [y] é:\n",
      "21.353614374899905\n",
      "------------------ =  0.996485243803284\n",
      "21.42893184589427\n",
      "\n",
      "mzima(15):\n",
      "    wiener    demand    Blocks      grau  tentativas   sucesso   tx de b\n",
      "       290       331       122      2.53         225       103 0.3685801\n",
      "       223       372        81      3.60         225       144 0.2177419\n",
      "       187       450        64      4.67         225       161 0.1422222\n",
      "       173       432        66      5.73         225       159 0.1527778\n",
      "\n",
      "correlação de TX de bloqueio/wiener\n",
      "Taxa de correlação entre [x] e [y] é:\n",
      "16.12225464000693\n",
      "----------------- =  0.9856519918923808\n",
      "16.35694420812092\n",
      "\n",
      "scteste(6):\n",
      "    wiener    demand    Blocks      grau  tentativas   sucesso   tx de b\n",
      "        25        81         8      2.33          36        28 0.0987654\n",
      "        20        83         0      3.33          36        36 0.0000000\n",
      "        16        72         0      4.67          36        36 0.0000000\n",
      "        15        72         0      5.00          36        36 0.0000000\n",
      "\n",
      "correlação de TX de bloqueio/wiener\n",
      "Taxa de correlação entre [x] e [y] é:\n",
      "0.5925925925925926\n",
      "------------------ =  0.8798826901281198\n",
      "0.6734904541721409\n",
      "\n",
      "eon(19):\n",
      "    wiener    demand    Blocks      grau  tentativas   sucesso   tx de b\n",
      "       398       443       183      3.89         361       178 0.4130926\n",
      "       325       805        99      4.95         361       262 0.1229814\n",
      "       295       782        85      6.00         361       276 0.1086957\n",
      "\n",
      "correlação de TX de bloqueio/wiener\n",
      "Taxa de correlação entre [x] e [y] é:\n",
      "17.653189480719135\n",
      "------------------ =  0.9700197838745704\n",
      "18.19879323513035\n",
      "\n",
      "memorexEurope(19):\n",
      "    wiener    demand    Blocks      grau  tentativas   sucesso   tx de b\n",
      "       559       442       229      2.53         361       132 0.5180995\n",
      "       382       735       145      3.58         361       216 0.1972789\n",
      "       344       826        88      4.63         361       273 0.1065375\n",
      "       307       776        93      5.68         361       268 0.1198454\n",
      "\n",
      "correlação de TX de bloqueio/wiener\n",
      "Taxa de correlação entre [x] e [y] é:\n",
      "63.59861009485314\n",
      "----------------- =  0.9859512689603651\n",
      "64.50482097549771\n",
      "\n",
      "deutschTelecom(17):\n",
      "    wiener    demand    Blocks      grau  tentativas   sucesso   tx de b\n",
      "       367       519       118      3.06         289       171 0.2273603\n",
      "       282       575        91      4.12         289       198 0.1582609\n",
      "       243       659        43      5.18         289       246 0.0652504\n",
      "\n",
      "correlação de TX de bloqueio/wiener\n",
      "Taxa de correlação entre [x] e [y] é:\n",
      "9.86749753182795\n",
      "---------------- =  0.956527177159261\n",
      "10.315961498483404\n",
      "\n",
      "internet2Usa(56):\n",
      "    wiener    demand    Blocks      grau  tentativas   sucesso   tx de b\n",
      "     12660      1450      2800      2.18        3136       336 1.9310345\n",
      "      5605      2366      2593      3.18        3136       543 1.0959425\n",
      "      4450      2942      2391      4.18        3136       745 0.8127124\n",
      "      3922      3038      2295      5.18        3136       841 0.7554312\n",
      "\n",
      "correlação de TX de bloqueio/wiener\n",
      "Taxa de correlação entre [x] e [y] é:\n",
      "6568.968747351668\n",
      "----------------- =  0.9940185058873675\n",
      "6608.497435857597\n",
      "\n",
      "OmnicomEurope(38):\n",
      "    wiener    demand    Blocks      grau  tentativas   sucesso   tx de b\n",
      "      3166      1438       988      2.84        1444       456 0.6870654\n",
      "      2066      1865       843      3.84        1444       601 0.4520107\n",
      "      1764      1876       760      4.84        1444       684 0.4051173\n",
      "      1577      1832       770      5.84        1444       674 0.4203057\n",
      "\n",
      "correlação de TX de bloqueio/wiener\n",
      "Taxa de correlação entre [x] e [y] é:\n",
      "276.1394628177877\n",
      "----------------- =  0.9802041842128515\n",
      "281.7162661262666\n"
     ]
    }
   ],
   "source": [
    "names.sort()\n",
    "correlacao=dict()\n",
    "for n in todos:\n",
    "    print (f\"\\n{n}({len(matrizes[n])}):\")\n",
    "    print_rede(n)"
   ]
  },
  {
   "cell_type": "markdown",
   "metadata": {},
   "source": [
    "<h2 style='font-family: \"Comic Sans MS\", \"Comic Sans\", cursive;font-size: 30px;font-style: italic' >Correlação Total:</h2>\n",
    "Uma forma de generalizar a correlação de todas as redes foi ponderando conforme o tamanho. Visto que a expanção da rede tem custos relativos a sua abrangência achamos que possa ser uma abordagem válida."
   ]
  },
  {
   "cell_type": "code",
   "execution_count": 45,
   "metadata": {},
   "outputs": [
    {
     "name": "stdout",
     "output_type": "stream",
     "text": [
      "Chegamos neste valor: 89.74\n"
     ]
    }
   ],
   "source": [
    "ptotal = sum([len(matrizes.get(n)) for n in todos])\n",
    "print( f'Chegamos neste valor: {sum ([ (correlacao[n] * len(matrizes.get(n)))/ptotal for n in todos])*100:.2f}')"
   ]
  },
  {
   "cell_type": "markdown",
   "metadata": {},
   "source": [
    "No geral há uma boa diferença de desempenho ao adicionar novos enlaces(aumentar o grau). Porém quando a rede está com disponibilidade suficiente pode não se fazer necessário(taxa de bloqueio 0). Outra observação a ser feita é que quantidade de conexões com sucesso de fato se concretiza se comparar com a Taxa de Bloqueio."
   ]
  }
 ],
 "metadata": {
  "kernelspec": {
   "display_name": "Python 3",
   "language": "python",
   "name": "python3"
  },
  "language_info": {
   "codemirror_mode": {
    "name": "ipython",
    "version": 3
   },
   "file_extension": ".py",
   "mimetype": "text/x-python",
   "name": "python",
   "nbconvert_exporter": "python",
   "pygments_lexer": "ipython3",
   "version": "3.8.5"
  }
 },
 "nbformat": 4,
 "nbformat_minor": 4
}
