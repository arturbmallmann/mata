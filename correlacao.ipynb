{
 "cells": [
  {
   "cell_type": "markdown",
   "metadata": {},
   "source": [
    "Imports que importam :) "
   ]
  },
  {
   "cell_type": "code",
   "execution_count": 1,
   "metadata": {},
   "outputs": [],
   "source": [
    "import numpy as np\n",
    "import math\n",
    "\n",
    "import pandas"
   ]
  },
  {
   "cell_type": "code",
   "execution_count": 2,
   "metadata": {},
   "outputs": [],
   "source": [
    "from random import *\n",
    "cutpart = lambda x: (int((x+1) * np.random.normal(scale=0.2,loc=0.5)) )% x"
   ]
  },
  {
   "cell_type": "code",
   "execution_count": 3,
   "metadata": {},
   "outputs": [
    {
     "name": "stdout",
     "output_type": "stream",
     "text": [
      "va:\n",
      "[1, 2, 3, 4, 5, 6, 7, 8, 9, 10]\n",
      "vb:\n",
      "[10, 9, 8, 7, 6, 5, 4, 3, 2, 1]\n"
     ]
    }
   ],
   "source": [
    "va = [x for x in range(1,11)]\n",
    "vb = [x for x in range(10,0,-1)]\n",
    "print(\"va:\\n{}\\nvb:\\n{}\".format(va,vb))"
   ]
  },
  {
   "cell_type": "markdown",
   "metadata": {},
   "source": [
    "<h1>Genetic Algorithm for QAP solving()</h1>"
   ]
  },
  {
   "cell_type": "code",
   "execution_count": 4,
   "metadata": {},
   "outputs": [],
   "source": [
    "def crossover(va,vb):\n",
    "    cut = cutpart(len(va))\n",
    "    print(\"cut: {}\".format(cut))\n",
    "    new_va = va[:cut]+vb[cut:]\n",
    "    new_vb = vb[:cut]+va[cut:]\n",
    "    print(\"new va:\\n{}\\nnew vb:\\n{}\".format(new_va,new_vb))\n",
    "    #encontrar repetidos (x) e suas repectivas posicoes (i)\n",
    "    repeated_a = [(x,i) for x,i in zip(new_va,range(len(va))) if new_va.count(x) > 1]\n",
    "    repeated_b = [(x,i) for x,i in zip(new_vb,range(len(vb))) if new_vb.count(x) > 1]\n",
    "    rn = int(len(repeated_a)/2)\n",
    "    print(\"rn:{}\".format(rn))\n",
    "    for i in range(rn):\n",
    "        print(\"switch {} / {}\".format(i,rn))\n",
    "        new_va[repeated_a[i][1]] = repeated_b[i+ (0 if cut >5 else rn)][0]\t#se trocar sempre o primeiro \n",
    "        new_vb[repeated_b[i][1]] = repeated_a[i+ (0 if cut >5 else rn)][0]\t#repetido cortes acima de 5 tendem\n",
    "    print(\"repeated a: {}\".format(repeated_a[:int(len(repeated_a))]))\t\t#a repertir os valores dos pais\n",
    "    print(\"repeated b: {}\".format(repeated_b[:int(len(repeated_b))]))\n",
    "    return(new_va,new_vb)"
   ]
  },
  {
   "cell_type": "code",
   "execution_count": 5,
   "metadata": {},
   "outputs": [
    {
     "name": "stdout",
     "output_type": "stream",
     "text": [
      "cut: 4\n",
      "new va:\n",
      "[1, 2, 3, 4, 6, 5, 4, 3, 2, 1]\n",
      "new vb:\n",
      "[10, 9, 8, 7, 5, 6, 7, 8, 9, 10]\n",
      "rn:4\n",
      "switch 0 / 4\n",
      "switch 1 / 4\n",
      "switch 2 / 4\n",
      "switch 3 / 4\n",
      "repeated a: [(1, 0), (2, 1), (3, 2), (4, 3), (4, 6), (3, 7), (2, 8), (1, 9)]\n",
      "repeated b: [(10, 0), (9, 1), (8, 2), (7, 3), (7, 6), (8, 7), (9, 8), (10, 9)]\n",
      "new va:\n",
      "[7, 8, 9, 10, 6, 5, 4, 3, 2, 1]\n",
      "new vb:\n",
      "[4, 3, 2, 1, 5, 6, 7, 8, 9, 10]\n"
     ]
    }
   ],
   "source": [
    "new_va,new_vb = crossover(va,vb)#[1,5,3,4,6,10,7,9,8,2])\n",
    "print(\"new va:\\n{}\\nnew vb:\\n{}\".format(new_va,new_vb))"
   ]
  },
  {
   "cell_type": "code",
   "execution_count": 6,
   "metadata": {},
   "outputs": [],
   "source": [
    "def inverse(vec):\n",
    "    inf = int(random()*len(vec))\n",
    "    part = list(vec[inf:])\n",
    "    part.reverse()\n",
    "    return vec[:inf]+part"
   ]
  },
  {
   "cell_type": "code",
   "execution_count": 7,
   "metadata": {},
   "outputs": [],
   "source": [
    "def swap (vec):\n",
    "    n_vec = list(vec)\n",
    "    p1 = int(random()*len(vec))\n",
    "    p2 = int(random()*len(vec))\n",
    "    v1 = vec[p1]\n",
    "    v2 = vec[p2]\n",
    "    print(\"swap {} and {}\".format(v1,v2))\n",
    "    n_vec[p1] = v2\n",
    "    n_vec[p2] = v1\n",
    "    return n_vec"
   ]
  },
  {
   "cell_type": "code",
   "execution_count": 8,
   "metadata": {},
   "outputs": [],
   "source": [
    "def insertion(vec):\n",
    "    inf = int(random()*len(vec))\n",
    "    part = vec[inf:]\n",
    "    part = part[1:] + part[:1]\n",
    "    print(part)\n",
    "    return vec[:inf]+part"
   ]
  },
  {
   "cell_type": "code",
   "execution_count": 9,
   "metadata": {},
   "outputs": [
    {
     "name": "stdout",
     "output_type": "stream",
     "text": [
      "Original:\n",
      "[1, 2, 3, 4, 5, 6, 7, 8, 9, 10]\n",
      "Inverse:\n",
      "[1, 2, 3, 4, 10, 9, 8, 7, 6, 5]\n",
      "Swap:\n",
      "swap 2 and 4\n",
      "[1, 4, 3, 2, 5, 6, 7, 8, 9, 10]\n",
      "Insertion\n",
      "[10]\n",
      "[1, 2, 3, 4, 5, 6, 7, 8, 9, 10]\n"
     ]
    }
   ],
   "source": [
    "def mutation(vec,p):#percentual\n",
    "    if random() > p:\n",
    "        return vec\n",
    "    typ = random()\n",
    "    if(typ < 1/3):\n",
    "        print(\"inverse\")\n",
    "        vec = inverse(vec)\n",
    "    elif(typ < 2/3):\n",
    "        print(\"swap\")\n",
    "        vec = swap(vec)\n",
    "    else:\n",
    "        print(\"insertion\")\n",
    "        vec = insertion(vec)\n",
    "    return vec\n",
    "    \n",
    "#mutation(va,0.7)\n",
    "print(\"Original:\")\n",
    "print(va)\n",
    "print(\"Inverse:\")\n",
    "print(inverse(va))\n",
    "print(\"Swap:\")\n",
    "print(swap(va))\n",
    "print(\"Insertion\")\n",
    "print(insertion(va))"
   ]
  },
  {
   "cell_type": "code",
   "execution_count": 10,
   "metadata": {},
   "outputs": [
    {
     "name": "stdout",
     "output_type": "stream",
     "text": [
      "swap\n",
      "swap 1 and 4\n"
     ]
    },
    {
     "data": {
      "text/plain": [
       "[4, 2, 3, 1, 5, 6, 7, 8, 9, 10]"
      ]
     },
     "execution_count": 10,
     "metadata": {},
     "output_type": "execute_result"
    }
   ],
   "source": [
    "mutation(va,0.7)"
   ]
  },
  {
   "cell_type": "markdown",
   "metadata": {},
   "source": [
    "<h1>Calculo de Coorelação:</h1>"
   ]
  },
  {
   "cell_type": "code",
   "execution_count": 11,
   "metadata": {},
   "outputs": [],
   "source": [
    "def corr(x,y,p=False):\n",
    "    # n\n",
    "    n = len(x)\n",
    "#Somatórios:\n",
    "    #superiores\n",
    "    xysum = np.dot(x,y) #soma dos x*y\n",
    "    xsum = sum(x)\n",
    "    ysum = sum(y)\n",
    "    #inferiores\n",
    "    #soma dos quadrados\n",
    "    x2sum = np.dot(x,x) #multiplica entrada a entrada dos vetores x e ele mesmo e soma\n",
    "    y2sum = sum([v*v for v in y]) #forma na unha de fazer o mesmo\n",
    "    #quadrado das somas:\n",
    "    xsum2 = xsum**2\n",
    "    ysum2 = ysum**2\n",
    "    #parte superior:\n",
    "    sup = (xysum - xsum*ysum/n)\n",
    "    #parte inferior:\n",
    "    infe = math.sqrt ( (x2sum - xsum2/n) * (y2sum - ysum2/n) )\n",
    "    corresult = sup/infe\n",
    "    if(p):\n",
    "        print(\"Taxa de correlação entre X e Y é:\")\n",
    "        print(\"{}\\n\".format(sup)+len(str(sup))*\"-\"+\" =  {}\".format(corresult)+\"\\n{}\".format(infe))\n",
    "    return corresult"
   ]
  },
  {
   "cell_type": "markdown",
   "metadata": {},
   "source": [
    "<h2>Teste Da Correlação</h2>\n",
    "<p>Para calcular a correlação entre os valores de duas variáveis basta entrar com dois vetores com os valores a serem comparados:\n",
    "corr(vec1,vec2)</p>"
   ]
  },
  {
   "cell_type": "code",
   "execution_count": 12,
   "metadata": {},
   "outputs": [
    {
     "name": "stdout",
     "output_type": "stream",
     "text": [
      "Taxa de correlação entre X e Y é:\n",
      "-0.5499999999999998\n",
      "------------------- =  -0.9710083124552239\n",
      "0.5664215155988811\n"
     ]
    },
    {
     "data": {
      "text/plain": [
       "-0.9710083124552239"
      ]
     },
     "execution_count": 12,
     "metadata": {},
     "output_type": "execute_result"
    }
   ],
   "source": [
    "gerax = lambda base,n,dif: [base + x*dif for x in range(n)] # modo preguiçoso de gerar n números espaçados em 0.5\n",
    "#Carregar valores(teste):\n",
    "x = gerax(2.5, 6,0.5)\n",
    "y = [0.4,0.4,0.3,0.2,0.2,0.1]\n",
    "corr(x,y,True)"
   ]
  },
  {
   "cell_type": "markdown",
   "metadata": {},
   "source": [
    "<h1>Carregamento de Dados</h1>\n",
    "<p>Nesta sessão do código é feita a leitura dos arquivos .csv</p>"
   ]
  },
  {
   "cell_type": "code",
   "execution_count": 13,
   "metadata": {},
   "outputs": [],
   "source": [
    "#!/usr/bin/python\n",
    "\n",
    "from pathlib import Path\n",
    "\n",
    "directory = './nodes_links/'\n",
    "allnodes = dict()\n",
    "alllinks = dict()\n",
    "names = list()\n",
    "for path in Path(directory).iterdir():\n",
    "    url = str(path)\n",
    "    netname = path.name.split('_')[0]\n",
    "    if(path.name.count('nodes')==1):\n",
    "        p = allnodes\n",
    "    else:\n",
    "        p = alllinks\n",
    "    try:\n",
    "        item = pandas.read_csv(url)\n",
    "        p.update( {netname : item })\n",
    "    #    print(url+\" lido\")\n",
    "    except:\n",
    "        try:\n",
    "            #mudar o encoding para os caracteres\n",
    "            item = pandas.read_csv(url,encoding=\"iso-8859-1\")\n",
    "            p.update( {netname : item })\n",
    "        #    print(url+\" lido\")\n",
    "        except:\n",
    "            print(\"!!! não foi possivel ler > \"+name+\" < !!!\")\n",
    "            pass\n",
    "    if names.count(netname) == 0:\n",
    "        names.append(netname) \n"
   ]
  },
  {
   "cell_type": "markdown",
   "metadata": {},
   "source": [
    "<p>Todos os links e nós ficam guardados nos dicts alllinks e allnodes, e para serem lidos basta passar o prefixo dos arquivos originais entre colchetes. Estes prefixos são os nomes das nossas redes e ficam salvos no vetor names.</p>"
   ]
  },
  {
   "cell_type": "code",
   "execution_count": 14,
   "metadata": {},
   "outputs": [
    {
     "name": "stdout",
     "output_type": "stream",
     "text": [
      "['canarie', 'italy', 'vbns', 'loni', 'germany', 'geant2', 'arpanet', 'cesnet', 'newnet', 'rnpBrazil', 'pionier', 'spain', 'renater', 'lambdaRailUsa', 'metrona', 'arnes', 'bren', 'portugal', 'usaGde', 'sanet', 'nsfnet', 'austria', 'viaDatacenterNet', 'coxUsa', 'mzima', 'scteste', 'eon', 'memorexEurope', 'deutschTelecom', 'internet2Usa', 'OmnicomEurope']\n"
     ]
    }
   ],
   "source": [
    "print(names)"
   ]
  },
  {
   "cell_type": "markdown",
   "metadata": {},
   "source": [
    "<p>Abaixo temos o exemplo do carregamento da rede cesnet:</p>"
   ]
  },
  {
   "cell_type": "code",
   "execution_count": 15,
   "metadata": {},
   "outputs": [],
   "source": [
    "netlinks = alllinks['cesnet']\n",
    "netnodes = allnodes['cesnet']"
   ]
  },
  {
   "cell_type": "markdown",
   "metadata": {},
   "source": [
    "<p>Nos arquivos de nós temos no campo Id todos os nomes dos nós da rede, e nos links a origem e destino dos enlaces, como podemos ver abaixo:</p>"
   ]
  },
  {
   "cell_type": "code",
   "execution_count": 16,
   "metadata": {},
   "outputs": [
    {
     "name": "stdout",
     "output_type": "stream",
     "text": [
      "nodes:\n",
      "['Praga', 'Usti', 'Liberec', 'Hradec', 'Olomouc', 'Ostrava', 'Zlin', 'Brno', 'Jihlava', 'Budweiss', 'Pilsen', 'Pardubice']\n",
      "links:\n",
      "         From         To      Length  Capacity  Cost\n",
      "0       Praga       Usti   44.320945        50     1\n",
      "1        Usti    Liberec   57.122562        50     1\n",
      "2     Liberec      Praga   57.111162        50     1\n",
      "3       Praga     Pilsen  114.930257        50     1\n",
      "4      Pilsen   Budweiss  123.277291        50     1\n",
      "5    Budweiss      Praga  169.402099        50     1\n",
      "6       Praga  Pardubice   72.350748        50     1\n",
      "7   Pardubice     Hradec   69.868247        50     1\n",
      "8      Hradec      Praga   91.221450        50     1\n",
      "9      Hradec    Liberec   64.755029        50     1\n",
      "10   Budweiss    Jihlava  106.688652        50     1\n",
      "11    Jihlava       Brno   74.878684        50     1\n",
      "12       Brno   Budweiss  163.463112        50     1\n",
      "13    Olomouc     Hradec  136.245096        50     1\n",
      "14    Olomouc       Zlin   30.591459        50     1\n",
      "15       Zlin       Brno   75.546151        50     1\n",
      "16       Brno    Olomouc   63.167676        50     1\n",
      "17       Brno    Ostrava  138.226062        50     1\n",
      "18    Ostrava    Olomouc   75.810650        50     1\n"
     ]
    }
   ],
   "source": [
    "#u = pandas.read_csv(\"./nodes_links/renater_links.csv\")\n",
    "a = netnodes['Id'].values.tolist()\n",
    "print(\"nodes:\\n{}\".format(a))\n",
    "print(\"links:\\n{}\".format(netlinks))"
   ]
  },
  {
   "cell_type": "markdown",
   "metadata": {},
   "source": [
    "<h2>Gerando a matrizes de Adjacência</h2>\n",
    "<p>Para montar as matrizes de adjacência consideramos a identificação numérica dos nós conforme a posição de cada um no vetor dos nós. Depois, com a ajuda da comparação de atributos da biblioteca pandas verificamos todas as origens e quais seus destinos, e assim preenchemos a matriz de adjacência.</p>\n",
    "<p>A matriz de adjacência é bidirecional, para facilitar o uso com a implementação com qualquer algorítmo de busca a construção é nas diagonáis superiores e inferiores.</p>"
   ]
  },
  {
   "cell_type": "code",
   "execution_count": 17,
   "metadata": {},
   "outputs": [
    {
     "name": "stdout",
     "output_type": "stream",
     "text": [
      "[[0 1 1 1 0 0 0 0 0 1 1 1]\n",
      " [1 0 1 0 0 0 0 0 0 0 0 0]\n",
      " [1 1 0 1 0 0 0 0 0 0 0 0]\n",
      " [1 0 1 0 1 0 0 0 0 0 0 1]\n",
      " [0 0 0 1 0 1 1 1 0 0 0 0]\n",
      " [0 0 0 0 1 0 0 1 0 0 0 0]\n",
      " [0 0 0 0 1 0 0 1 0 0 0 0]\n",
      " [0 0 0 0 1 1 1 0 1 1 0 0]\n",
      " [0 0 0 0 0 0 0 1 0 1 0 0]\n",
      " [1 0 0 0 0 0 0 1 1 0 1 0]\n",
      " [1 0 0 0 0 0 0 0 0 1 0 0]\n",
      " [1 0 0 1 0 0 0 0 0 0 0 0]]\n"
     ]
    }
   ],
   "source": [
    "def monta_matriz(netnodes,netlinks):\n",
    "    nodes = netnodes['Id'].values.tolist()\n",
    "    matrix = np.matrix(np.zeros( (len(nodes),len(nodes)),dtype=np.int ) )\n",
    "    for n in nodes:\n",
    "        l = netlinks.loc[netlinks['From']==n,['To']].values\n",
    "        indexes = [nodes.index(x) for x in l]\n",
    "        if(len(indexes) > 0):\n",
    "            matrix[nodes.index(n),indexes] = 1\n",
    "            matrix[indexes,nodes.index(n)] = 1 #bidirecional\n",
    "    return matrix\n",
    "\n",
    "matrix = monta_matriz(netnodes,netlinks)\n",
    "\n",
    "print (matrix)"
   ]
  },
  {
   "cell_type": "markdown",
   "metadata": {},
   "source": [
    "<p>Abaixo temos a construção das listas que representam os canais de comunicação dos enlaces. Estes canais são representados por 0's e 1's guardadas em listas salvas em dicts que são acessados pela tupla que representa o origem e destino.</p>"
   ]
  },
  {
   "cell_type": "code",
   "execution_count": 18,
   "metadata": {},
   "outputs": [],
   "source": [
    "def criar_canais(mtx,ncanais):\n",
    "    canais = dict()\n",
    "#     mtxc = np.matrix(np.zeros(mtx.shape), dtype=list)\n",
    "    for i in range(len(mtx)):\n",
    "        for j in range(len(mtx)):\n",
    "            if(i<j):\n",
    "                if(mtx[i,j] == 1):\n",
    "                    lista = [1]*ncanais #1 livre, 0 ocupado\n",
    "                    canais.update({(i,j):lista})\n",
    "                    canais.update({(j,i):lista})#mesma instancia para as duas direções\n",
    "    return canais\n",
    "#                    mtxc[i,j]= [1]*ncanais\n",
    "#                    mtxc[j,i]= mtxc[i,j]\n",
    "#                 else:\n",
    "#                     mtxc[i,j]= None\n",
    "#     return mtxc"
   ]
  },
  {
   "cell_type": "markdown",
   "metadata": {},
   "source": [
    "<p>Como os canais são bidirecionais os mesmos canais são usados nas duas direções, ou seja, do nó 0 para o nó 9 e do nó 9 para o nó 0 a mesma instância do objeto lista é utilizado. Assim se o canal 0 é ocupado em uma direção ele também não estará disponível no inverso, como podemos ver abaixo:</p> "
   ]
  },
  {
   "cell_type": "code",
   "execution_count": 19,
   "metadata": {},
   "outputs": [
    {
     "name": "stdout",
     "output_type": "stream",
     "text": [
      "[0, 1, 1, 1, 1, 1, 1, 1, 1, 1, 1, 1]\n",
      "[1, 1, 1, 1, 1, 1, 1, 1, 1, 1, 1, 1]\n"
     ]
    }
   ],
   "source": [
    "canais_rede = criar_canais(matrix,len(netnodes))\n",
    "canais_rede[(9,0)][0]=0 # ocupar canal 0 do enlace\n",
    "print (canais_rede[0,9])\n",
    "canais_rede[(9,0)][0]=1 # desocupar canal 0 do enlace\n",
    "print (canais_rede[0,9])"
   ]
  },
  {
   "cell_type": "markdown",
   "metadata": {},
   "source": [
    "<p>Excluir a diagonal inferior(caso necessário):</p>"
   ]
  },
  {
   "cell_type": "code",
   "execution_count": 20,
   "metadata": {
    "scrolled": true
   },
   "outputs": [],
   "source": [
    "def diagonalizar(mtx):\n",
    "    nova = np.matrix(np.zeros(mtx.shape), dtype=int)\n",
    "    for i in range(len(mtx)):\n",
    "       # print(l)\n",
    "        for j in range(len(mtx)):\n",
    "            if(i<j):\n",
    "                nova[i,j] = mtx[i,j]\n",
    "    return nova\n",
    "# print(diagonalizar(matrix))"
   ]
  },
  {
   "cell_type": "markdown",
   "metadata": {},
   "source": [
    "<h2>Calculo e Incrementação do grau</h2>\n",
    "<p>Para calcular o grau médio basta calcular a quantidade de elementos não nulos na linha ou coluna de cada nó, e depois dividir pelo núme de nós.</p>\n",
    "<p><i>Obs. Isso se aplica quando a matriz é bidirecional e as diagonais superior e inferior são não nulas.</i></p>"
   ]
  },
  {
   "cell_type": "code",
   "execution_count": 21,
   "metadata": {},
   "outputs": [],
   "source": [
    "def calc_grau(matrix):\n",
    "    soma=0\n",
    "    for l in range(len(matrix)):\n",
    "        for c in range(len(matrix)):\n",
    "            if matrix[l,c] != 0:\n",
    "                soma += 1\n",
    "    return soma/(len(matrix))"
   ]
  },
  {
   "cell_type": "code",
   "execution_count": 22,
   "metadata": {},
   "outputs": [
    {
     "name": "stdout",
     "output_type": "stream",
     "text": [
      "grau médio: 3.1666666666666665\n"
     ]
    }
   ],
   "source": [
    "print(\"grau médio: {}\".format(calc_grau(matrix)))"
   ]
  },
  {
   "cell_type": "markdown",
   "metadata": {},
   "source": [
    "<p>Para aumentar o grau da nossa topologia basta inserir novos enlaces de forma aleatória na matriz de adjacência. Para isso adiciona-se enlaces até o grafo atingir o grau desejado</p>"
   ]
  },
  {
   "cell_type": "code",
   "execution_count": 23,
   "metadata": {},
   "outputs": [],
   "source": [
    "def aumentar_grau(mtx,inc_grau): #nodos = 6, p/incrementar 1 grau adicionamos 6 enlaces, para inc 0.5 add 3\n",
    "    grau = calc_grau(mtx)\n",
    "    mind = len(mtx)-1\n",
    "    n_grau = grau\n",
    "    while n_grau < mind and n_grau < grau + inc_grau:\n",
    "        x,y=(None,None)\n",
    "        while (x==None and y==None):\n",
    "            x,y = (randint(0,mind), randint(0,mind))\n",
    "            if x==y or mtx[x,y]==1:\n",
    "                x,y=(None,None)\n",
    "        mtx[x,y]=1\n",
    "        mtx[y,x]=1 #bijetora...\n",
    "        n_grau=calc_grau(mtx)"
   ]
  },
  {
   "cell_type": "markdown",
   "metadata": {},
   "source": [
    "<p><b>Antes:</b></p>"
   ]
  },
  {
   "cell_type": "code",
   "execution_count": 24,
   "metadata": {},
   "outputs": [
    {
     "name": "stdout",
     "output_type": "stream",
     "text": [
      "[[0 1 1 1 0 0 0 0 0 1 1 1]\n",
      " [1 0 1 0 0 0 0 0 0 0 0 0]\n",
      " [1 1 0 1 0 0 0 0 0 0 0 0]\n",
      " [1 0 1 0 1 0 0 0 0 0 0 1]\n",
      " [0 0 0 1 0 1 1 1 0 0 0 0]\n",
      " [0 0 0 0 1 0 0 1 0 0 0 0]\n",
      " [0 0 0 0 1 0 0 1 0 0 0 0]\n",
      " [0 0 0 0 1 1 1 0 1 1 0 0]\n",
      " [0 0 0 0 0 0 0 1 0 1 0 0]\n",
      " [1 0 0 0 0 0 0 1 1 0 1 0]\n",
      " [1 0 0 0 0 0 0 0 0 1 0 0]\n",
      " [1 0 0 1 0 0 0 0 0 0 0 0]]\n"
     ]
    }
   ],
   "source": [
    "print(matrix)"
   ]
  },
  {
   "cell_type": "code",
   "execution_count": 25,
   "metadata": {},
   "outputs": [],
   "source": [
    "aumentar_grau(matrix,5)"
   ]
  },
  {
   "cell_type": "markdown",
   "metadata": {},
   "source": [
    "<p><b>Depois:</b></p>"
   ]
  },
  {
   "cell_type": "code",
   "execution_count": 26,
   "metadata": {},
   "outputs": [
    {
     "name": "stdout",
     "output_type": "stream",
     "text": [
      "[[0 1 1 1 0 0 0 1 1 1 1 1]\n",
      " [1 0 1 1 1 1 0 1 1 1 1 1]\n",
      " [1 1 0 1 0 0 1 1 1 1 0 1]\n",
      " [1 1 1 0 1 0 1 1 0 1 0 1]\n",
      " [0 1 0 1 0 1 1 1 0 0 1 1]\n",
      " [0 1 0 0 1 0 0 1 1 0 0 1]\n",
      " [0 0 1 1 1 0 0 1 1 1 1 1]\n",
      " [1 1 1 1 1 1 1 0 1 1 1 1]\n",
      " [1 1 1 0 0 1 1 1 0 1 1 0]\n",
      " [1 1 1 1 0 0 1 1 1 0 1 0]\n",
      " [1 1 0 0 1 0 1 1 1 1 0 1]\n",
      " [1 1 1 1 1 1 1 1 0 0 1 0]]\n"
     ]
    }
   ],
   "source": [
    "print(matrix)"
   ]
  },
  {
   "cell_type": "code",
   "execution_count": 27,
   "metadata": {},
   "outputs": [
    {
     "name": "stdout",
     "output_type": "stream",
     "text": [
      "grau médio: 8.166666666666666\n"
     ]
    }
   ],
   "source": [
    "print(\"grau médio: {}\".format(calc_grau(matrix)))"
   ]
  },
  {
   "cell_type": "markdown",
   "metadata": {},
   "source": [
    "<h2>Gerando todas as matrizes e todos os canais</h2>\n",
    "<p>Nesta etapa geramos todas as matrizes e canais à partir das informações tiradas dos arquivos nodes e links."
   ]
  },
  {
   "cell_type": "code",
   "execution_count": 28,
   "metadata": {},
   "outputs": [],
   "source": [
    "matrizes = dict()\n",
    "canais = dict()\n",
    "#montar matrizes, canais, etc...\n",
    "for x in names:\n",
    "    netlinks = alllinks[x]\n",
    "    netnodes = allnodes[x]\n",
    "    matriz = monta_matriz(netnodes,netlinks)\n",
    "    matrizes.update({x:matriz})\n",
    "    canais.update({x:criar_canais(matrix,len(netnodes))})\n",
    "#     print(\"matriz {}:\\n{}\".format(x,matriz))"
   ]
  },
  {
   "cell_type": "markdown",
   "metadata": {},
   "source": [
    "<p>Para acessar os canais e as matrizes basta passar o nome da rede entre []:</p>"
   ]
  },
  {
   "cell_type": "code",
   "execution_count": 29,
   "metadata": {},
   "outputs": [
    {
     "name": "stdout",
     "output_type": "stream",
     "text": [
      "canais:\n",
      " {(0, 1): [1, 1, 1, 1, 1, 1, 1, 1, 1, 1, 1, 1], (1, 0): [1, 1, 1, 1, 1, 1, 1, 1, 1, 1, 1, 1], (0, 2): [1, 1, 1, 1, 1, 1, 1, 1, 1, 1, 1, 1], (2, 0): [1,...\n",
      "matriz:\n",
      "\n",
      "[[0 1 1 1 0 0 0 0 0 1 1 1]\n",
      " [1 0 1 0 0 0 0 0 0 0 0 0]\n",
      " [1 1 0 1 0 0 0 0 0 0 0 0]\n",
      " [1 0 1 0 1 0 0 0 0 0 0 1]\n",
      " [0 0 0 1 0 1 1 1 0 0 0 0]\n",
      " [0 0 0 0 1 0 0 1 0 0 0 0]\n",
      " [0 0 0 0 1 0 0 1 0 0 0 0]\n",
      " [0 0 0 0 1 1 1 0 1 1 0 0]\n",
      " [0 0 0 0 0 0 0 1 0 1 0 0]\n",
      " [1 0 0 0 0 0 0 1 1 0 1 0]\n",
      " [1 0 0 0 0 0 0 0 0 1 0 0]\n",
      " [1 0 0 1 0 0 0 0 0 0 0 0]]\n"
     ]
    }
   ],
   "source": [
    "can=canais['cesnet']\n",
    "print(\"canais:\\n {}\".format(str(can)[:150]+\"...\"))\n",
    "mat=matrizes['cesnet']\n",
    "print(\"matriz:\\n\")\n",
    "print(mat)"
   ]
  },
  {
   "cell_type": "markdown",
   "metadata": {},
   "source": [
    "<h1>Dijkstra</h1>\n",
    "<p>Implementação da busca pelo menor caminho</p>"
   ]
  },
  {
   "cell_type": "code",
   "execution_count": 30,
   "metadata": {},
   "outputs": [],
   "source": [
    "#Matriz de Incidência\n",
    "from math import inf\n",
    "\n",
    "letra = lambda x:chr(ord('a')+x)\n",
    "\n",
    "class BuscaMatriz():\n",
    "    #matrizNova=list()\n",
    "    def __init__(self,matrix):\n",
    "        self.matrix=matrix\n",
    "        self.custo=[inf]*matrix.size()\n",
    "        self.pai=[-1]*matrix.size()\n",
    "    def backtrack(self,destino):\n",
    "        path = [destino]\n",
    "#         print(destino)\n",
    "        pai=self.pai[destino]\n",
    "        if(pai!=-1):\n",
    "            path = path + self.backtrack(pai)\n",
    "        return path\n",
    "\n",
    "class GraphMatrix():\n",
    "    def __init__(self,first,matrix):#de certa forma isto não deveria estar aqui e desta forma\n",
    "        self.actual=first\n",
    "        self.matrix=matrix\n",
    "        self.custo=0\n",
    "        self.visited=[0]*len(matrix)\n",
    "        self.visited[first]=1\n",
    "#         for i,linha in enumerate(matrix):\n",
    "#             print (\"linha %d: %s\"%(i,linha))\n",
    "    def __str__(self):\n",
    "        return 'teste'\n",
    "    def visit(self,aresta,custo):\n",
    "        if (self.visited[aresta]==1):\n",
    "            return False\n",
    "        self.visited[aresta]=1\n",
    "        self.actual=aresta\n",
    "        self.custo+=custo\n",
    "        return True\n",
    "    def get_actual(self):\n",
    "        return self.actual\n",
    "    def set_actual(self,actual):\n",
    "        self.actual=actual\n",
    "    def size(self):\n",
    "        return len(self.matrix)\n",
    "    def run(self,*reverse): #nem isto\n",
    "#         print(\"Atualmente em %d com custo %d\" % (self.actual,self.custo))\n",
    "        vizinhos=self.get_vizinhos(self.actual)\n",
    "#         print (\"vizinhos:\")\n",
    "#         for vizinho in vizinhos:\n",
    "#             print(\"numero %d custo %d\" % vizinho)\n",
    "        while len(vizinhos)>0:\n",
    "            if reverse:\n",
    "                v=vizinhos.pop()\n",
    "            else:\n",
    "                v=vizinhos.pop(0)\n",
    "            if self.visit(*v) == True:\n",
    "                return True\n",
    "        return False\n",
    "\n",
    "class AdjMatrix(GraphMatrix):\n",
    "    def __init__(self,*args):\n",
    "        super(AdjMatrix,self).__init__(*args)\n",
    "    def get_vizinhos(self,vert):\n",
    "#         print(self.matrix)\n",
    "        vizinhos=[(i,ar) for i,ar in enumerate(self.matrix[vert]) if ar>0 ]\n",
    "        vizinhos.sort(key=lambda tupla:tupla[1])\n",
    "        return vizinhos"
   ]
  },
  {
   "cell_type": "code",
   "execution_count": 31,
   "metadata": {},
   "outputs": [],
   "source": [
    "#import mtx /\\\n",
    "import sys\n",
    "from math import inf\n",
    "class Dijkstra(BuscaMatriz):\n",
    "    show=lambda self:print(\"Custo: %s\\nPai: %s\\nFila %s\\nAtual: %d\" % (self.custo,self.pai,self.fila,self.matrix.get_actual()))\n",
    "    def __init__(self,matrix):\n",
    "#        self.matrix=matrix\n",
    "#        self.custo=[inf]*matrix.size()\n",
    "#        self.pai=[-1]*matrix.size()\n",
    "        super(Dijkstra,self).__init__(matrix)\n",
    "        self.fila=list(range(0,matrix.size()))\n",
    "        self.fila.remove(self.matrix.get_actual())\n",
    "\n",
    "#        self.custo[self.matrix.get_actual()]=0\n",
    "    def explora(self):\n",
    "        index=self.matrix.get_actual()\n",
    "        if(self.custo[index]==inf):#caso seja desconexo\n",
    "            self.custo[index]=0\n",
    "        for vizinho in self.matrix.get_vizinhos(index):\n",
    "            (vert,value)=vizinho\n",
    "#             self.show()\n",
    "            nvalue=value+self.custo[index]\n",
    "            if nvalue < self.custo[vert]:\n",
    "#                 print(\"Novo valor para %d: %d\"%(vert,nvalue))\n",
    "                self.atualiza(vert,nvalue)\n",
    "    def gen_fila(self):\n",
    "        for x in self.fila:\n",
    "            custo=self.custo[x]\n",
    "            yield (custo,x)\n",
    "    def end(self):\n",
    "        return self.fila==[]\n",
    "    def atualiza(self,filho,valor):\n",
    "        self.custo[filho]=valor\n",
    "        self.pai[filho]=self.matrix.get_actual()\n",
    "    def choose(self):\n",
    "        fila=list()\n",
    "        for a in self.gen_fila():\n",
    "            fila.append(a)\n",
    "        fila.sort()\n",
    "#         print(\"\\nFila em ordem de peso: %s\"%(fila))\n",
    "        (peso,actual)=fila.pop(0)\n",
    "        \n",
    "        self.matrix.set_actual(actual)\n",
    "        self.fila.remove(actual)\n",
    "        \n",
    "def explorar_matrix(mtx):\n",
    "    caminhos = dict()\n",
    "    lmtx = mtx.tolist()\n",
    "    for i in range(len(mtx)):\n",
    "        for j in range(len(mtx)):\n",
    "            if(i<j):\n",
    "                di=Dijkstra(AdjMatrix(i,lmtx))\n",
    "                di.explora()\n",
    "                while(di.end()==False):\n",
    "            #         print(\"==================================\")\n",
    "                    di.explora()\n",
    "                    di.choose()\n",
    "                caminhos.update({(i,j):di.backtrack(j)})\n",
    "    return caminhos"
   ]
  },
  {
   "cell_type": "code",
   "execution_count": 39,
   "metadata": {},
   "outputs": [],
   "source": [
    "matrix = np.matrix(matrizes.get('cesnet'))#nova instancia\n",
    "caminhos = explorar_matrix(matrix)"
   ]
  },
  {
   "cell_type": "code",
   "execution_count": 40,
   "metadata": {},
   "outputs": [
    {
     "name": "stdout",
     "output_type": "stream",
     "text": [
      "{(0, 1): [1, 0], (0, 2): [2, 0], (0, 3): [3, 0], (0, 4): [4, 0], (0, 5): [5, 2, 0], (0, 6): [6, 0], (0, 7): [7, 0], (0, 8): [8, 0], (0, 9): [9, 0], (0, 10): [10, 0], (0, 11): [11, 0], (1, 2): [2, 1], (1, 3): [3, 0, 1], (1, 4): [4, 1], (1, 5): [5, 2, 1], (1, 6): [6, 0, 1], (1, 7): [7, 1], (1, 8): [8, 1], (1, 9): [9, 0, 1], (1, 10): [10, 1], (1, 11): [11, 0, 1], (2, 3): [3, 2], (2, 4): [4, 0, 2], (2, 5): [5, 2], (2, 6): [6, 2], (2, 7): [7, 0, 2], (2, 8): [8, 2], (2, 9): [9, 0, 2], (2, 10): [10, 2], (2, 11): [11, 0, 2], (3, 4): [4, 3], (3, 5): [5, 2, 3], (3, 6): [6, 0, 3], (3, 7): [7, 0, 3], (3, 8): [8, 3], (3, 9): [9, 3], (3, 10): [10, 0, 3], (3, 11): [11, 3], (4, 5): [5, 4], (4, 6): [6, 4], (4, 7): [7, 4], (4, 8): [8, 0, 4], (4, 9): [9, 0, 4], (4, 10): [10, 0, 4], (4, 11): [11, 4], (5, 6): [6, 2, 5], (5, 7): [7, 5], (5, 8): [8, 2, 5], (5, 9): [9, 7, 5], (5, 10): [10, 2, 5], (5, 11): [11, 4, 5], (6, 7): [7, 6], (6, 8): [8, 6], (6, 9): [9, 6], (6, 10): [10, 6], (6, 11): [11, 6], (7, 8): [8, 7], (7, 9): [9, 7], (7, 10): [10, 7], (7, 11): [11, 7], (8, 9): [9, 8], (8, 10): [10, 0, 8], (8, 11): [11, 8], (9, 10): [10, 9], (9, 11): [11, 9], (10, 11): [11, 10]}\n"
     ]
    }
   ],
   "source": [
    "print(caminhos)"
   ]
  },
  {
   "cell_type": "code",
   "execution_count": 41,
   "metadata": {},
   "outputs": [],
   "source": [
    "# print(path)"
   ]
  },
  {
   "cell_type": "code",
   "execution_count": 43,
   "metadata": {
    "scrolled": true
   },
   "outputs": [
    {
     "name": "stdout",
     "output_type": "stream",
     "text": [
      "[5, 2]\n"
     ]
    }
   ],
   "source": [
    "print(caminhos[(2,5)])"
   ]
  },
  {
   "cell_type": "code",
   "execution_count": 44,
   "metadata": {},
   "outputs": [
    {
     "name": "stdout",
     "output_type": "stream",
     "text": [
      "[[0 1 1 1 1 0 1 1 1 1 1 1]\n",
      " [1 0 1 0 1 0 0 1 1 0 1 0]\n",
      " [1 1 0 1 0 1 1 0 1 0 1 0]\n",
      " [1 0 1 0 1 0 0 0 1 1 0 1]\n",
      " [1 1 0 1 0 1 1 1 0 0 0 1]\n",
      " [0 0 1 0 1 0 0 1 0 0 0 0]\n",
      " [1 0 1 0 1 0 0 1 1 1 1 1]\n",
      " [1 1 0 0 1 1 1 0 1 1 1 1]\n",
      " [1 1 1 1 0 0 1 1 0 1 0 1]\n",
      " [1 0 0 1 0 0 1 1 1 0 1 1]\n",
      " [1 1 1 0 0 0 1 1 0 1 0 1]\n",
      " [1 0 0 1 1 0 1 1 1 1 1 0]]\n",
      "7.166666666666667\n"
     ]
    }
   ],
   "source": [
    "aumentar_grau(matrix,4)\n",
    "print (mtxt)\n",
    "print (calc_grau(mtxt))"
   ]
  },
  {
   "cell_type": "code",
   "execution_count": 37,
   "metadata": {},
   "outputs": [],
   "source": [
    "caminhos = explorar_matrix(matrix)"
   ]
  },
  {
   "cell_type": "code",
   "execution_count": 38,
   "metadata": {},
   "outputs": [
    {
     "name": "stdout",
     "output_type": "stream",
     "text": [
      "[5, 2]\n"
     ]
    }
   ],
   "source": [
    "print(caminhos[(2,5)])"
   ]
  },
  {
   "cell_type": "code",
   "execution_count": null,
   "metadata": {},
   "outputs": [],
   "source": []
  }
 ],
 "metadata": {
  "kernelspec": {
   "display_name": "Python 3",
   "language": "python",
   "name": "python3"
  },
  "language_info": {
   "codemirror_mode": {
    "name": "ipython",
    "version": 3
   },
   "file_extension": ".py",
   "mimetype": "text/x-python",
   "name": "python",
   "nbconvert_exporter": "python",
   "pygments_lexer": "ipython3",
   "version": "3.8.5"
  }
 },
 "nbformat": 4,
 "nbformat_minor": 4
}
